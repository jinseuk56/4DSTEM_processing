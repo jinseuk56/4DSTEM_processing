{
 "cells": [
  {
   "cell_type": "code",
   "execution_count": 31,
   "metadata": {},
   "outputs": [],
   "source": [
    "# J. Ryu, Electron Microscopy and Spectroscopy Lab., Seoul National University\n",
    "from scipy import stats\n",
    "from scipy.signal import periodogram\n",
    "import numpy as np\n",
    "import matplotlib.pyplot as plt\n",
    "import matplotlib.gridspec as gridspec\n",
    "from matplotlib.widgets import RectangleSelector\n",
    "import tkinter.filedialog as tkf\n",
    "import hyperspy.api as hys\n",
    "from scipy import optimize\n",
    "import ipywidgets as pyw\n",
    "import time"
   ]
  },
  {
   "cell_type": "code",
   "execution_count": 2,
   "metadata": {},
   "outputs": [],
   "source": [
    "# refer to https://scipy-cookbook.readthedocs.io/items/FittingData.html\n",
    "\n",
    "def gaussian(height, center_x, center_y, width_x, width_y):\n",
    "    \"\"\"Returns a gaussian function with the given parameters\"\"\"\n",
    "    width_x = float(width_x)\n",
    "    width_y = float(width_y)\n",
    "    return lambda x,y: height*np.exp(\n",
    "                -(((center_x-x)/width_x)**2+((center_y-y)/width_y)**2)/2)\n",
    "\n",
    "def moments(data):\n",
    "    \"\"\"Returns (height, x, y, width_x, width_y)\n",
    "    the gaussian parameters of a 2D distribution by calculating its\n",
    "    moments \"\"\"\n",
    "    total = data.sum()\n",
    "    X, Y = np.indices(data.shape) # row, col\n",
    "    x = (X*data).sum()/total # row\n",
    "    y = (Y*data).sum()/total # col\n",
    "    col = data[:, int(y)]\n",
    "    width_x = np.sqrt(np.abs((np.arange(col.size)-y)**2*col).sum()/col.sum()) # row\n",
    "    row = data[int(x), :]\n",
    "    width_y = np.sqrt(np.abs((np.arange(row.size)-x)**2*row).sum()/row.sum()) # col\n",
    "    height = data.max()\n",
    "    return height, x, y, width_x, width_y\n",
    "\n",
    "def fitgaussian(data):\n",
    "    \"\"\"Returns (height, x, y, width_x, width_y)\n",
    "    the gaussian parameters of a 2D distribution found by a fit\"\"\"\n",
    "    params = moments(data)\n",
    "    errorfunction = lambda p: np.ravel(gaussian(*p)(*np.indices(data.shape)) -\n",
    "                                 data)\n",
    "    p, success = optimize.leastsq(errorfunction, params)\n",
    "    return p"
   ]
  },
  {
   "cell_type": "code",
   "execution_count": 3,
   "metadata": {},
   "outputs": [],
   "source": [
    "# refer to \"github.com/mkolopanis/python/blob/master/radialProfile.py\"\n",
    "\n",
    "def radial_stats(image, center=None, var=True):\n",
    "   \n",
    "    y, x = np.indices(image.shape)\n",
    "    if not center:\n",
    "        center = np.array([(y.max()-y.min())/2.0, (x.max()-x.min())/2.0])\n",
    "        \n",
    "    r = np.hypot(y - center[0], x - center[1])\n",
    "    #plt.imshow(r, cmap=\"Accent\")\n",
    "    #plt.show()\n",
    "\n",
    "    # Get sorted radii\n",
    "    ind = np.argsort(r.flat)\n",
    "    r_sorted = r.flat[ind]\n",
    "    i_sorted = image.flat[ind]\n",
    "\n",
    "    # Get the integer part of the radii (bin size = 1)\n",
    "    r_int = np.around(r_sorted)\n",
    "\n",
    "    # Find all pixels that fall within each radial bin.\n",
    "    deltar = r_int[1:] - r_int[:-1]  # Assumes all radii represented\n",
    "    rind = np.where(deltar)[0]       # location of changed radius\n",
    "    nr = rind[1:] - rind[:-1]        # number of radius bin\n",
    "    #print(nr)\n",
    "    \n",
    "    csim = np.cumsum(i_sorted, dtype=float)\n",
    "    sq_csim = np.cumsum(np.square(i_sorted), dtype=float)\n",
    "    radial_avg  = (csim[rind[1:]] - csim[rind[:-1]]) / nr\n",
    "    \n",
    "    if var:    \n",
    "        avg_square = np.square(radial_avg)\n",
    "        square_avg = (sq_csim[rind[1:]] - sq_csim[rind[:-1]]) / nr\n",
    "        mask = avg_square.copy()\n",
    "        mask[np.where(avg_square==0)] = 1.0\n",
    "        radial_var = (square_avg - avg_square) / mask\n",
    "        return r, radial_avg, radial_var\n",
    "    \n",
    "    else:\n",
    "        return r, radial_avg"
   ]
  },
  {
   "cell_type": "code",
   "execution_count": 4,
   "metadata": {},
   "outputs": [],
   "source": [
    "def gaussian_center(image, cbox_edge=0):\n",
    "    y, x = np.indices(image.shape)\n",
    "    if not cbox_edge:\n",
    "        center = np.array([(y.max()-y.min())/2.0, (x.max()-x.min())/2.0])\n",
    "        \n",
    "    else:\n",
    "        cbox_outy = int(image.shape[0]/2 - cbox_edge/2)\n",
    "        cbox_outx = int(image.shape[1]/2 - cbox_edge/2)\n",
    "        center_box = image[cbox_outy:-cbox_outy, cbox_outx:-cbox_outx]\n",
    "        fit_params = fitgaussian(center_box)\n",
    "        (_, center_y, center_x, _, _) = fit_params\n",
    "        center = [center_y+cbox_outy, center_x+cbox_outx]\n",
    "        \n",
    "    return center"
   ]
  },
  {
   "cell_type": "code",
   "execution_count": 5,
   "metadata": {},
   "outputs": [],
   "source": [
    "def remove_center_beam(image, center=None, cb_rad=0):\n",
    "    y, x = np.indices(image.shape)\n",
    "    if not center:\n",
    "        center = np.array([(y.max()-y.min())/2.0, (x.max()-x.min())/2.0])\n",
    "        \n",
    "    r = np.hypot(y - center[0], x - center[1])\n",
    "    r = np.around(r)\n",
    "    ri = np.where(r<=cb_rad)\n",
    "    #print(ri[0].shape)\n",
    "    \n",
    "    image[ri] = 0\n",
    "    \n",
    "    return image"
   ]
  },
  {
   "cell_type": "code",
   "execution_count": 6,
   "metadata": {},
   "outputs": [],
   "source": [
    "def load_binary_4D_stack(img_adr, datatype, original_shape, final_shape, log_scale=False):\n",
    "    stack = np.fromfile(img_adr, dtype=datatype)\n",
    "    stack = stack.reshape(original_shape)\n",
    "    print(stack.shape)\n",
    "    if log_scale:\n",
    "        stack = np.log(stack[:final_shape[0], :final_shape[1], :final_shape[2], :final_shape[3]])\n",
    "    else:\n",
    "        stack = stack[:final_shape[0], :final_shape[1], :final_shape[2], :final_shape[3]]\n",
    "    \n",
    "    print(stack.shape) \n",
    "    return stack"
   ]
  },
  {
   "cell_type": "code",
   "execution_count": 7,
   "metadata": {},
   "outputs": [],
   "source": [
    "def fourd_roll_axis(stack):\n",
    "    stack = np.rollaxis(np.rollaxis(stack, 2, 0), 3, 1)\n",
    "    return stack"
   ]
  },
  {
   "cell_type": "markdown",
   "metadata": {},
   "source": [
    "# load & prepare"
   ]
  },
  {
   "cell_type": "code",
   "execution_count": 8,
   "metadata": {},
   "outputs": [
    {
     "name": "stdout",
     "output_type": "stream",
     "text": [
      "D:/repository/data_repository/4D/20200721_amorphous_C_TZ/5mT_D1/scan_x128_y128.raw\n"
     ]
    }
   ],
   "source": [
    "raw_adr = tkf.askopenfilename()\n",
    "print(raw_adr)"
   ]
  },
  {
   "cell_type": "code",
   "execution_count": 9,
   "metadata": {},
   "outputs": [
    {
     "name": "stdout",
     "output_type": "stream",
     "text": [
      "(128, 128, 130, 128)\n",
      "(128, 128, 128, 128)\n",
      "1.0\n",
      "-6.044663e-08\n",
      "0.00020178175\n"
     ]
    }
   ],
   "source": [
    "datatype = \"float32\"\n",
    "o_shape = (128, 128, 130, 128)\n",
    "f_shape = (128, 128, 128, 128)\n",
    "#o_shape = (256, 256, 130, 128)\n",
    "#f_shape = (256, 256, 128, 128)\n",
    "\n",
    "# load a data (RAW)\n",
    "stack_4d = load_binary_4D_stack(raw_adr, datatype, o_shape, f_shape, log_scale=False)\n",
    "stack_4d = stack_4d / np.max(stack_4d) # normalize absolutely\n",
    "print(np.max(stack_4d))\n",
    "print(np.min(stack_4d))\n",
    "print(np.mean(stack_4d))"
   ]
  },
  {
   "cell_type": "code",
   "execution_count": null,
   "metadata": {},
   "outputs": [],
   "source": [
    "# Load a data (DM)\n",
    "stack_4d = hys.load(raw_adr).data\n",
    "print(stack_4d.shape)\n",
    "stack_4d = fourd_roll_axis(stack_4d)\n",
    "f_shape = stack_4d.shape\n",
    "print(f_shape)\n",
    "\n",
    "stack_4d = stack_4d / np.max(stack_4d)\n",
    "print(np.max(stack_4d))\n",
    "print(np.min(stack_4d))\n",
    "print(np.mean(stack_4d))"
   ]
  },
  {
   "cell_type": "code",
   "execution_count": null,
   "metadata": {},
   "outputs": [],
   "source": [
    "# rotate\n",
    "stack_4d = np.rot90(stack_4d, 2, (0, 1))\n",
    "f_shape = stack_4d.shape\n",
    "print(f_shape.shape)"
   ]
  },
  {
   "cell_type": "code",
   "execution_count": 10,
   "metadata": {},
   "outputs": [
    {
     "name": "stdout",
     "output_type": "stream",
     "text": [
      "startposition: (52.112987, 37.900000)\n",
      "endposition  : (66.076623, 50.533766)\n"
     ]
    }
   ],
   "source": [
    "# select an interesting area\n",
    "%matplotlib qt\n",
    "fig, ax = plt.subplots(1, 1, figsize=(10, 10))\n",
    "ax.imshow(np.sum(stack_4d, axis=(2, 3)), cmap=\"gray\")\n",
    "\n",
    "def onselect(eclick, erelease):\n",
    "    print('startposition: (%f, %f)' % (eclick.xdata, eclick.ydata))\n",
    "    print('endposition  : (%f, %f)' % (erelease.xdata, erelease.ydata))\n",
    "\n",
    "box = RectangleSelector(ax, onselect)\n",
    "plt.show()"
   ]
  },
  {
   "cell_type": "code",
   "execution_count": 11,
   "metadata": {},
   "outputs": [
    {
     "name": "stdout",
     "output_type": "stream",
     "text": [
      "(13, 14, 128, 128)\n",
      "0.10785636\n",
      "-5.3431297e-08\n",
      "0.00020317991\n"
     ]
    }
   ],
   "source": [
    "# crop the data\n",
    "stack_4d_cropped = stack_4d[int(box.corners[1][0]):int(box.corners[1][2]), \n",
    "                                           int(box.corners[0][0]):int(box.corners[0][1])].copy()\n",
    "cr_shape = stack_4d_cropped.shape\n",
    "print(cr_shape)\n",
    "print(np.max(stack_4d_cropped))\n",
    "print(np.min(stack_4d_cropped))\n",
    "print(np.mean(stack_4d_cropped))"
   ]
  },
  {
   "cell_type": "code",
   "execution_count": null,
   "metadata": {},
   "outputs": [],
   "source": [
    "# just copy\n",
    "stack_4d_cropped = stack_4d.copy()\n",
    "cr_shape = stack_4d_cropped.shape\n",
    "print(cr_shape)\n",
    "print(np.max(stack_4d_cropped))\n",
    "print(np.min(stack_4d_cropped))\n",
    "print(np.mean(stack_4d_cropped))"
   ]
  },
  {
   "cell_type": "code",
   "execution_count": 12,
   "metadata": {},
   "outputs": [],
   "source": [
    "%matplotlib inline"
   ]
  },
  {
   "cell_type": "code",
   "execution_count": 13,
   "metadata": {},
   "outputs": [
    {
     "name": "stdout",
     "output_type": "stream",
     "text": [
      "(13, 14)\n",
      "0.10785636\n",
      "0.09209137\n",
      "0.098922856\n",
      "0.09880063\n"
     ]
    },
    {
     "data": {
      "image/png": "[encoded data removed]",
      "text/plain": [
       "<Figure size 720x360 with 2 Axes>"
      ]
     },
     "metadata": {
      "needs_background": "light"
     },
     "output_type": "display_data"
    }
   ],
   "source": [
    "# maximum intensity distribution\n",
    "max_int = np.max(stack_4d_cropped, axis=(2, 3))\n",
    "print(max_int.shape)\n",
    "print(np.max(max_int))\n",
    "print(np.min(max_int))\n",
    "print(np.mean(max_int))\n",
    "print(np.median(max_int))\n",
    "\n",
    "fig, ax = plt.subplots(1, 2, figsize=(10, 5))\n",
    "ax[0].imshow(max_int, cmap=\"afmhot\")\n",
    "ax[0].axis(\"off\")\n",
    "ax[1].hist(max_int.flatten(), bins=len(max_int))\n",
    "ax[1].grid()\n",
    "plt.show()"
   ]
  },
  {
   "cell_type": "code",
   "execution_count": 14,
   "metadata": {},
   "outputs": [
    {
     "name": "stdout",
     "output_type": "stream",
     "text": [
      "(13, 14)\n",
      "3.340888\n",
      "3.2662134\n",
      "3.3289003\n",
      "3.329577\n"
     ]
    },
    {
     "data": {
      "image/png": "[encoded data removed]",
      "text/plain": [
       "<Figure size 720x360 with 2 Axes>"
      ]
     },
     "metadata": {
      "needs_background": "light"
     },
     "output_type": "display_data"
    }
   ],
   "source": [
    "# total intensity distribution\n",
    "tot_int = np.sum(stack_4d_cropped, axis=(2, 3))\n",
    "print(max_int.shape)\n",
    "print(np.max(tot_int))\n",
    "print(np.min(tot_int))\n",
    "print(np.mean(tot_int))\n",
    "print(np.median(tot_int))\n",
    "\n",
    "fig, ax = plt.subplots(1, 2, figsize=(10, 5))\n",
    "ax[0].imshow(tot_int, cmap=\"afmhot\")\n",
    "ax[0].axis(\"off\")\n",
    "ax[1].hist(tot_int.flatten(), bins=len(max_int))\n",
    "ax[1].grid()\n",
    "plt.show()"
   ]
  },
  {
   "cell_type": "markdown",
   "metadata": {},
   "source": [
    "# center management"
   ]
  },
  {
   "cell_type": "code",
   "execution_count": null,
   "metadata": {},
   "outputs": [],
   "source": [
    "%matplotlib inline"
   ]
  },
  {
   "cell_type": "code",
   "execution_count": 15,
   "metadata": {},
   "outputs": [
    {
     "name": "stdout",
     "output_type": "stream",
     "text": [
      "(13, 14, 2)\n",
      "[64.18019822 64.08561617]\n"
     ]
    },
    {
     "data": {
      "image/png": "[encoded data removed]",
      "text/plain": [
       "<Figure size 720x360 with 2 Axes>"
      ]
     },
     "metadata": {
      "needs_background": "light"
     },
     "output_type": "display_data"
    }
   ],
   "source": [
    "# find center position\n",
    "center_pos = []\n",
    "for i in range(cr_shape[0]):\n",
    "    for j in range(cr_shape[1]):\n",
    "        center_pos.append(gaussian_center(stack_4d_cropped[i, j], cbox_edge=30))\n",
    "        \n",
    "center_pos = np.asarray(center_pos)\n",
    "center_pos = np.reshape(center_pos, (cr_shape[0], cr_shape[1], -1))\n",
    "print(center_pos.shape)\n",
    "center_mean = np.mean(center_pos, axis=(0, 1))\n",
    "print(center_mean)\n",
    "\n",
    "# center distibution\n",
    "fig, ax = plt.subplots(1, 2, figsize=(10, 5))\n",
    "ax[0].hist(center_pos[:, :, 0].flatten(), bins=100, density=True, color=\"orange\", label=\"center y position\")\n",
    "ax[0].hist(center_pos[:, :, 1].flatten(), bins=100, density=True, color=\"gray\", alpha=0.5, label=\"center x position\")\n",
    "ax[0].grid()\n",
    "ax[0].legend()\n",
    "\n",
    "ax[1].scatter(center_pos[:, :, 1], center_pos[:, :, 0], s=10.0, alpha=0.5)\n",
    "ax[1].grid()\n",
    "ax[1].scatter(center_mean[1], center_mean[0], s=20, c=\"red\")\n",
    "ax[1].set_xlabel(\"center x position\", fontsize=10)\n",
    "ax[1].set_ylabel(\"center y position\", fontsize=10)\n",
    "fig.tight_layout()\n",
    "plt.show()"
   ]
  },
  {
   "cell_type": "code",
   "execution_count": 16,
   "metadata": {},
   "outputs": [
    {
     "name": "stdout",
     "output_type": "stream",
     "text": [
      "0.00034086607\n",
      "-5.3431297e-08\n",
      "2.1686965e-05\n"
     ]
    }
   ],
   "source": [
    "# remove center beam\n",
    "center_radius = 20\n",
    "for i in range(cr_shape[0]):\n",
    "    for j in range(cr_shape[1]):\n",
    "        stack_4d_cropped[i, j] = remove_center_beam(stack_4d_cropped[i, j], \n",
    "                                                    center=center_mean.tolist(), cb_rad=center_radius)\n",
    "print(np.max(stack_4d_cropped))\n",
    "print(np.min(stack_4d_cropped))\n",
    "print(np.mean(stack_4d_cropped))"
   ]
  },
  {
   "cell_type": "markdown",
   "metadata": {},
   "source": [
    "# rotational average"
   ]
  },
  {
   "cell_type": "code",
   "execution_count": 17,
   "metadata": {},
   "outputs": [
    {
     "name": "stdout",
     "output_type": "stream",
     "text": [
      "(13, 14, 90)\n",
      "(90,)\n"
     ]
    },
    {
     "data": {
      "image/png": "[encoded data removed]",
      "text/plain": [
       "<Figure size 720x720 with 1 Axes>"
      ]
     },
     "metadata": {
      "needs_background": "light"
     },
     "output_type": "display_data"
    }
   ],
   "source": [
    "# radial average of DPs (not variance, intensity direcltly, RDF?)\n",
    "radial_avg_stack = []\n",
    "len_profile = []\n",
    "for i in range(cr_shape[0]):\n",
    "    for j in range(cr_shape[1]):\n",
    "        _, radial_temp = radial_stats(stack_4d_cropped[i, j], center=center_mean.tolist(), var=False)\n",
    "        len_profile.append(len(radial_temp))\n",
    "        radial_avg_stack.append(radial_temp)\n",
    "\n",
    "if len(np.unique(len_profile)) > 1:\n",
    "    print(np.unique(len_profile))\n",
    "    shortest = np.min(len_profile)\n",
    "    for i in range(len(radial_avg_stack)):\n",
    "        radial_avg_stack[i] = radial_avg_stack[i][:shortest]\n",
    "\n",
    "radial_avg_stack = np.asarray(radial_avg_stack).reshape(cr_shape[0], cr_shape[1], -1)\n",
    "print(radial_avg_stack.shape)\n",
    "\n",
    "radial_avg_sum = np.sum(radial_avg_stack, axis=(0, 1))\n",
    "print(radial_avg_sum.shape)\n",
    "\n",
    "plt.figure(figsize=(10,10))\n",
    "plt.plot(radial_avg_sum)\n",
    "plt.grid()\n",
    "plt.show()"
   ]
  },
  {
   "cell_type": "code",
   "execution_count": null,
   "metadata": {},
   "outputs": [],
   "source": [
    "# save (radial average, 3D)\n",
    "radial_avg_stack = hys.signals.Signal1D(radial_avg_stack)\n",
    "radial_avg_stack.metadata.General.set_item(\"notes\", center_mean.tolist())\n",
    "radial_avg_stack.save(raw_adr[:-4]+\"_radial_avg_radial.hdf5\")"
   ]
  },
  {
   "cell_type": "code",
   "execution_count": 19,
   "metadata": {},
   "outputs": [],
   "source": [
    "%matplotlib qt"
   ]
  },
  {
   "cell_type": "markdown",
   "metadata": {},
   "source": [
    "# FEM (variance)"
   ]
  },
  {
   "cell_type": "code",
   "execution_count": 20,
   "metadata": {},
   "outputs": [
    {
     "name": "stdout",
     "output_type": "stream",
     "text": [
      "(90,)\n"
     ]
    }
   ],
   "source": [
    "# obtain variance map dpending on k-vector\n",
    "square_avg = np.mean(np.square(stack_4d_cropped), axis=(0,1))\n",
    "avg_square = np.square(np.mean(stack_4d_cropped, axis=(0,1)))\n",
    "mask = avg_square.copy()\n",
    "mask[np.where(avg_square == 0)] = 1.0\n",
    "var_map = (square_avg - avg_square) / mask\n",
    "\n",
    "# obtain radial average prifile for variance map above\n",
    "radial_map, kp_var = radial_stats(var_map, center=center_mean.tolist(), var=False)\n",
    "print(kp_var.shape)\n",
    "\n",
    "fig, ax = plt.subplots(1, 3, figsize=(10, 3))\n",
    "ax[0].imshow(radial_map, cmap=\"gray\")\n",
    "ax[0].axis(\"off\")\n",
    "ax[1].imshow(var_map, cmap=\"afmhot\")\n",
    "ax[1].axis(\"off\")\n",
    "ax[2].plot(kp_var, \"k-\")\n",
    "ax[2].grid()\n",
    "plt.show()"
   ]
  },
  {
   "cell_type": "code",
   "execution_count": null,
   "metadata": {},
   "outputs": [],
   "source": [
    "# calculate variance with all angles at a certain k\n",
    "radial_var_stack = []\n",
    "len_profile = []\n",
    "for i in range(cr_shape[0]):\n",
    "    for j in range(cr_shape[1]):\n",
    "        _, _, radial_temp = radial_stats(stack_4d_cropped[i, j], center=center_mean.tolist(), var=True)\n",
    "        len_profile.append(len(radial_temp))\n",
    "        radial_var_stack.append(radial_temp)\n",
    "\n",
    "if len(np.unique(len_profile)) > 1:\n",
    "    print(np.unique(len_profile))\n",
    "    shortest = np.min(len_profile)\n",
    "    for i in range(len(len_profile)):\n",
    "        radial_var_stack[i] = radial_var_stack[i][:shortest]\n",
    "\n",
    "radial_var_stack = np.asarray(radial_var_stack).reshape(stack_4d_cropped.shape[0], stack_4d_cropped.shape[1], -1)\n",
    "print(radial_var_stack.shape)\n",
    "\n",
    "radial_var_sum = np.sum(radial_var_stack, axis=(0, 1))\n",
    "print(radial_var_sum.shape)\n",
    "\n",
    "plt.figure(figsize=(10,10))\n",
    "plt.plot(radial_var_sum)\n",
    "plt.grid()\n",
    "plt.show()"
   ]
  },
  {
   "cell_type": "code",
   "execution_count": null,
   "metadata": {},
   "outputs": [],
   "source": [
    "# save (radial variance, 3D)\n",
    "radial_var_stack = hys.signals.Signal1D(radial_var_stack)\n",
    "radial_var_stack.metadata.General.set_item(\"notes\", center_mean.tolist())\n",
    "radial_var_stack.save(raw_adr[:-4]+\"_radial_var_radial.hdf5\")"
   ]
  },
  {
   "cell_type": "markdown",
   "metadata": {},
   "source": [
    "# nano-cluster & HAADF-STEM"
   ]
  },
  {
   "cell_type": "code",
   "execution_count": null,
   "metadata": {},
   "outputs": [],
   "source": [
    "def radial_indices(shape, radial_range, center=None):\n",
    "    y, x = np.indices(shape)\n",
    "    if not center:\n",
    "        center = np.array([(y.max()-y.min())/2.0, (x.max()-x.min())/2.0])\n",
    "    \n",
    "    r = np.hypot(y - center[0], x - center[1])\n",
    "    ri = np.ones(r.shape)\n",
    "    \n",
    "    if len(np.unique(radial_range)) > 1:\n",
    "        ri[np.where(r <= radial_range[0])] = 0\n",
    "        ri[np.where(r > radial_range[1])] = 0\n",
    "        \n",
    "    else:\n",
    "        r = np.round(r)\n",
    "        ri[np.where(r != round(radial_range[0]))] = 0\n",
    "    \n",
    "    return ri"
   ]
  },
  {
   "cell_type": "code",
   "execution_count": null,
   "metadata": {},
   "outputs": [],
   "source": [
    "%matplotlib qt\n",
    "fig = plt.figure(figsize=(15, 5))\n",
    "G = gridspec.GridSpec(2, 5)\n",
    "ax0 = plt.subplot(G[0, 0])\n",
    "ax1 = plt.subplot(G[0, 1])\n",
    "ax2 = plt.subplot(G[0, 2])\n",
    "ax3 = plt.subplot(G[1, 0])\n",
    "ax4 = plt.subplot(G[1, 1])\n",
    "ax5 = plt.subplot(G[1, 2])\n",
    "ax6 = plt.subplot(G[:, 3:])\n",
    "\n",
    "radii = np.arange(len(radial_var_sum))\n",
    "#pacbed = np.mean(stack_4d_cropped, axis=(0, 1))\n",
    "pacbed = np.mean(stack_4d_cropped, axis=(0, 1))\n",
    "def var_selector(di, do, uth, lth, k1, k2, p1, p2):\n",
    "    \n",
    "    v1 = np.percentile(radial_var_stack[:, :, k1:(k2+1)], p1)\n",
    "    v2 = np.percentile(radial_var_stack[:, :, k1:(k2+1)], p2)\n",
    "    \n",
    "    ax0.cla()\n",
    "    ax1.cla()\n",
    "    ax2.cla()\n",
    "    ax3.cla()\n",
    "    ax4.cla()\n",
    "    ax5.cla()\n",
    "    ax6.cla()\n",
    "\n",
    "    ax0.plot(radii, radial_var_sum, \"k-\", c=\"black\")\n",
    "    ax0.fill_between([k1, k2], np.max(radial_var_sum), alpha=0.5, color=\"orange\")\n",
    "    ax0.set_title(\"rotational variance profile\")\n",
    "    ax0.grid()\n",
    "    \n",
    "    masked = radial_var_stack[:, :, k1:(k2+1)]\n",
    "    binsize = masked.shape[0]*masked.shape[1]\n",
    "    ax1.hist(masked.flatten(), bins=binsize, color=\"darkgray\")\n",
    "    ax1.fill_between([v1, v2], ax1.get_ylim()[1], alpha=0.5, color=\"orange\")\n",
    "    ax1.set_title(\"variance histogram for a selected k-range\")\n",
    "    ax1.grid()\n",
    "    \n",
    "    bool_img = np.ones_like(masked)\n",
    "    bool_img[np.where(masked < v1)] = 0\n",
    "    bool_img[np.where(masked > v2)] = 0\n",
    "    img = np.sum(bool_img, axis=2)\n",
    "    ax2.imshow(img, cmap=\"afmhot\")\n",
    "    ax2.set_title(\"variance map, larger than threshold\")\n",
    "    ax2.axis(\"off\")\n",
    "    \n",
    "    if di > do:\n",
    "        det = [do, di]\n",
    "        print(\"Warning! detector 1 (inner angle > outer angle)\")\n",
    "    else:\n",
    "        det = [di, do]\n",
    "        \n",
    "        \n",
    "    ri = radial_indices(f_shape[2:], det, center=center_mean.tolist())\n",
    "    \n",
    "    ax3.imshow(pacbed, cmap=\"gray\")\n",
    "    ax3.imshow(ri, cmap=\"Reds\", alpha=0.3)\n",
    "    ax3.set_title(\"detector range\")\n",
    "    ax3.axis(\"off\")\n",
    "    \n",
    "    stem = np.sum(np.multiply(stack_4d_cropped, ri), axis=(2, 3))\n",
    "    ax4.imshow(stem, cmap=\"afmhot\")\n",
    "    ax4.set_title(\"STEM image\")\n",
    "    ax4.axis(\"off\")\n",
    "    \n",
    "    stem_bool = np.ones_like(stem)\n",
    "    stem_bool[np.where(stem > np.percentile(stem, uth))] = 0.0\n",
    "    stem_bool[np.where(stem <= np.percentile(stem, lth))] = 0.0\n",
    "    \n",
    "    ax5.imshow(stem_bool, cmap=\"summer\")\n",
    "    ax5.set_title(\"STEM, larger than threshold\")\n",
    "    ax5.axis(\"off\")\n",
    "\n",
    "    ax6.imshow(stem_bool, cmap=\"summer\")\n",
    "    ax6.imshow(img, cmap=\"afmhot\", alpha=0.3)\n",
    "    ax6.set_title(\"variance vs. STEM\")\n",
    "    ax6.axis(\"off\")\n",
    "    \n",
    "    fig.canvas.draw()\n",
    "    fig.tight_layout()\n",
    "\n",
    "st = {\"description_width\": \"initial\"}\n",
    "din = pyw.IntText(value=25, description=\"D1 inner angle: \", style=st)\n",
    "dout = pyw.IntText(value=30, description=\"D1 outer angle: \", style=st)\n",
    "up_th = pyw.IntText(value=10, description=\"STEM upper threshold: \", style=st)\n",
    "lo_th = pyw.IntText(value=0, description=\"STEM lower threshold: \", style=st)\n",
    "k1_widget = pyw.IntText(value=25, description=\"left of k-range\", style=st)\n",
    "k2_widget = pyw.IntText(value=30, description=\"right of k-range\", style=st)\n",
    "p1_widget = pyw.FloatText(value=90.0, description=\"left percentile of variance range\", style=st)\n",
    "p2_widget = pyw.FloatText(value=99.999, description=\"right percentile of variance range\", style=st)\n",
    "\n",
    "pyw.interact(var_selector, di=din, do=dout, uth=up_th, lth=lo_th, k1=k1_widget, k2=k2_widget, p1=p1_widget, p2=p2_widget)\n",
    "fig.show()"
   ]
  },
  {
   "cell_type": "markdown",
   "metadata": {},
   "source": [
    "# angular correlation"
   ]
  },
  {
   "cell_type": "code",
   "execution_count": 21,
   "metadata": {},
   "outputs": [],
   "source": [
    "%matplotlib inline"
   ]
  },
  {
   "cell_type": "code",
   "execution_count": 22,
   "metadata": {},
   "outputs": [],
   "source": [
    "def round_step(arr, step_size=1):\n",
    "    \n",
    "    divide = np.around(arr / step_size)\n",
    "    rounded = divide * step_size\n",
    "    \n",
    "    return rounded"
   ]
  },
  {
   "cell_type": "code",
   "execution_count": 23,
   "metadata": {},
   "outputs": [],
   "source": [
    "def point_circle(image, radius, center=None):\n",
    "    \n",
    "    y, x = np.indices(image.shape)\n",
    "    y = y.astype(\"float64\")\n",
    "    x = x.astype(\"float64\")\n",
    "    \n",
    "    if not center:\n",
    "        center = np.array([(y.max()-y.min())/2.0, (x.max()-x.min())/2.0])\n",
    "    \n",
    "    y -= center[0]\n",
    "    x -= center[1]\n",
    "    \n",
    "    angle_arr = np.zeros(image.shape)\n",
    "    for i in range(image.shape[0]):\n",
    "        for j in range(image.shape[1]):\n",
    "            angle_arr[i, j] = np.angle(complex(x[i, j], y[i, j]), deg=True)\n",
    "            \n",
    "    angle_arr = angle_arr + 180\n",
    "    #print(angle_arr)\n",
    "    r = np.hypot(y, x)\n",
    "    r = np.around(r)\n",
    "    ri = np.where(r == radius)\n",
    "    angle_sel = angle_arr[ri]\n",
    "    value_sel = image[ri]\n",
    "\n",
    "    return angle_arr, angle_sel, value_sel"
   ]
  },
  {
   "cell_type": "code",
   "execution_count": 24,
   "metadata": {},
   "outputs": [],
   "source": [
    "# angle unit [degree]\n",
    "def angular_correlation(angles, values):\n",
    "    angle_diff = []\n",
    "    corr_values = []\n",
    "    angle_diff_candidates = np.arange(0, 361, 1)\n",
    "    corr_val_total = np.zeros(angle_diff_candidates.shape)\n",
    "    \n",
    "    for i in range(len(angles)):\n",
    "        temp_diff = np.abs(angles[i:] - angles[i])\n",
    "        temp_diff = round_step(temp_diff)\n",
    "        values_sq = np.square(values[i:])\n",
    "        corr_temp = values[i:] * values[i] / values_sq - 1\n",
    "\n",
    "        angle_diff.extend(temp_diff.tolist())\n",
    "        corr_values.extend(corr_temp.tolist())\n",
    "        \n",
    "    angle_diff = np.asarray(angle_diff)\n",
    "    corr_values = np.asarray(corr_values)\n",
    "    \n",
    "    uni_angle = np.unique(angle_diff)\n",
    "    #print(uni_angle)\n",
    "    \n",
    "    for ang in uni_angle:\n",
    "        temp_ind = np.where(angle_diff==ang)\n",
    "        num_ind = len(temp_ind[0])\n",
    "        if num_ind != 0:\n",
    "            corr_val_total[int(ang)] = np.sum(corr_values[temp_ind]) / num_ind\n",
    "            \n",
    "        else:\n",
    "            corr_val_total[int(ang)] = np.sum(corr_values[temp_ind])\n",
    "            \n",
    "    return corr_val_total"
   ]
  },
  {
   "cell_type": "code",
   "execution_count": 25,
   "metadata": {},
   "outputs": [
    {
     "name": "stdout",
     "output_type": "stream",
     "text": [
      "1 column (1 of 13)\n",
      "1 seconds have passed\n",
      "2 column (2 of 13)\n",
      "1 seconds have passed\n",
      "3 column (3 of 13)\n",
      "2 seconds have passed\n",
      "4 column (4 of 13)\n",
      "3 seconds have passed\n",
      "5 column (5 of 13)\n",
      "4 seconds have passed\n",
      "6 column (6 of 13)\n",
      "5 seconds have passed\n",
      "7 column (7 of 13)\n",
      "6 seconds have passed\n",
      "8 column (8 of 13)\n",
      "7 seconds have passed\n",
      "9 column (9 of 13)\n",
      "8 seconds have passed\n",
      "10 column (10 of 13)\n",
      "9 seconds have passed\n",
      "11 column (11 of 13)\n",
      "10 seconds have passed\n",
      "12 column (12 of 13)\n",
      "11 seconds have passed\n",
      "13 column (13 of 13)\n",
      "12 seconds have passed\n",
      "all done\n"
     ]
    }
   ],
   "source": [
    "start_time = time.process_time()\n",
    "angular_corr = []\n",
    "angle_range = np.arange(0, 361, 1)\n",
    "k_radius = 32\n",
    "for i in range(cr_shape[0]):\n",
    "    for j in range(cr_shape[1]):\n",
    "        angle_map, angle_sel, value_sel = point_circle(stack_4d_cropped[i, j], k_radius, center=center_mean.tolist())\n",
    "        ang_cor = angular_correlation(angle_sel, value_sel)\n",
    "        angular_corr.append(ang_cor)\n",
    "    print(\"%d column (%d of %d)\"%((i+1), (i+1), cr_shape[0]))\n",
    "    print(\"%d seconds have passed\"%(time.process_time()-start_time))\n",
    "print(\"all done\")"
   ]
  },
  {
   "cell_type": "code",
   "execution_count": 26,
   "metadata": {},
   "outputs": [
    {
     "name": "stdout",
     "output_type": "stream",
     "text": [
      "(13, 14, 361)\n",
      "(361,)\n"
     ]
    }
   ],
   "source": [
    "angular_corr = np.asarray(angular_corr).reshape(cr_shape[0], cr_shape[1], -1)\n",
    "print(angular_corr.shape)\n",
    "ang_corr_sum = np.sum(angular_corr, axis=(0, 1))\n",
    "print(ang_corr_sum.shape)"
   ]
  },
  {
   "cell_type": "code",
   "execution_count": 27,
   "metadata": {},
   "outputs": [
    {
     "data": {
      "image/png": "[encoded data removed]",
      "text/plain": [
       "<Figure size 720x360 with 2 Axes>"
      ]
     },
     "metadata": {
      "needs_background": "light"
     },
     "output_type": "display_data"
    }
   ],
   "source": [
    "fig, ax = plt.subplots(1, 2, figsize=(10, 5))\n",
    "ax[0].imshow(angle_map, cmap=\"gray\")\n",
    "ax[0].axis(\"off\")\n",
    "ax[1].plot(ang_corr_sum, \"k-\")\n",
    "fig.tight_layout()\n",
    "plt.show()"
   ]
  },
  {
   "cell_type": "code",
   "execution_count": 33,
   "metadata": {},
   "outputs": [
    {
     "name": "stdout",
     "output_type": "stream",
     "text": [
      "(13, 14, 361)\n",
      "(361,)\n",
      "(181,)\n"
     ]
    }
   ],
   "source": [
    "ang_corr_fft= np.abs(np.fft.fft(angular_corr))\n",
    "print(ang_corr_fft.shape)\n",
    "ang_corr_fft_sum = np.abs(np.fft.fft(ang_corr_sum))\n",
    "print(ang_corr_fft_sum.shape)\n",
    "pow_sp = periodogram(ang_corr_sum)\n",
    "print(pow_sp[1].shape)"
   ]
  },
  {
   "cell_type": "code",
   "execution_count": 50,
   "metadata": {},
   "outputs": [
    {
     "name": "stdout",
     "output_type": "stream",
     "text": [
      "[320.98226912 178.21773917  14.67434326  14.51737418  84.44216666\n",
      "  63.14145025  61.64365555  50.4812842   53.82777981  52.21532669]\n",
      "[ 1  2  5  6  7  9 10  8  3  4]\n"
     ]
    }
   ],
   "source": [
    "print(ang_corr_fft_sum[1:11])\n",
    "n_fold = np.flip(np.argsort(ang_corr_fft_sum[1:11])) + 1\n",
    "print(n_fold)"
   ]
  },
  {
   "cell_type": "code",
   "execution_count": 56,
   "metadata": {},
   "outputs": [
    {
     "name": "stdout",
     "output_type": "stream",
     "text": [
      "[1.20678237e-28 5.70801203e+02 1.75964335e+02 1.19299917e+00\n",
      " 1.16761304e+00 3.95040416e+01 2.20877714e+01 2.10523007e+01\n",
      " 1.41183383e+01 1.60522431e+01 1.51049326e+01]\n",
      "[1 2 5 6 7 9 8 3 4 0]\n"
     ]
    }
   ],
   "source": [
    "print(pow_sp[1][:11])\n",
    "n_fold = np.flip(np.argsort(pow_sp[1][:10]))\n",
    "print(n_fold)"
   ]
  },
  {
   "cell_type": "code",
   "execution_count": 53,
   "metadata": {},
   "outputs": [
    {
     "data": {
      "image/png": "[encoded data removed]",
      "text/plain": [
       "<Figure size 1440x360 with 4 Axes>"
      ]
     },
     "metadata": {
      "needs_background": "light"
     },
     "output_type": "display_data"
    }
   ],
   "source": [
    "fig, ax = plt.subplots(1, 4, figsize=(20, 5))\n",
    "ax[0].plot(pow_sp[1], \"k-\")\n",
    "ax[1].plot(np.arange(1, 11), ang_corr_fft_sum[1:11], \"k-\")\n",
    "ax[2].plot(np.arange(1, 11), pow_sp[1][:10], \"k-\")\n",
    "ax[3].imshow(ang_corr_fft[:, :, 3], cmap=\"afmhot\")\n",
    "ax[3].axis(\"off\")\n",
    "fig.tight_layout()\n",
    "plt.show()"
   ]
  }
 ],
 "metadata": {
  "kernelspec": {
   "display_name": "Python 3",
   "language": "python",
   "name": "python3"
  },
  "language_info": {
   "codemirror_mode": {
    "name": "ipython",
    "version": 3
   },
   "file_extension": ".py",
   "mimetype": "text/x-python",
   "name": "python",
   "nbconvert_exporter": "python",
   "pygments_lexer": "ipython3",
   "version": "3.7.9"
  }
 },
 "nbformat": 4,
 "nbformat_minor": 4
}
