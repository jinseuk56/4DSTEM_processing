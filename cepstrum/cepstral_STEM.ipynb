{
 "cells": [
  {
   "cell_type": "code",
   "execution_count": null,
   "metadata": {},
   "outputs": [],
   "source": [
    "import numpy as np\n",
    "import matplotlib.pyplot as plt\n",
    "import tkinter.filedialog as tkf\n",
    "import tifffile\n",
    "import sys\n",
    "sys.path.append(\"E:/github_repo/4DSTEM_processing/\")\n",
    "from FDSTEM_process import *\n",
    "plt.rcParams['font.family'] = 'Cambria'"
   ]
  },
  {
   "cell_type": "code",
   "execution_count": null,
   "metadata": {},
   "outputs": [],
   "source": [
    "img_adr = tkf.askopenfilename()\n",
    "print(img_adr)"
   ]
  },
  {
   "cell_type": "code",
   "execution_count": null,
   "metadata": {},
   "outputs": [],
   "source": [
    "fd = FourDSTEM_process(img_adr, scan_per_pixel=1, scan_unit=\"nm\", dp_per_pixel=0.2079, k_unit=\"1/nm\")"
   ]
  },
  {
   "cell_type": "code",
   "execution_count": null,
   "metadata": {},
   "outputs": [],
   "source": [
    "fd.cepstral(dCP=True, rot_average=True, rot_variance=True)"
   ]
  },
  {
   "cell_type": "code",
   "execution_count": null,
   "metadata": {},
   "outputs": [],
   "source": [
    "%matplotlib widget\n",
    "fd.show_4d_viewer(fd.dcp)"
   ]
  },
  {
   "cell_type": "code",
   "execution_count": null,
   "metadata": {},
   "outputs": [],
   "source": [
    "%matplotlib widget\n",
    "fd.show_3d_viewer(fd.ceps_var_stack, fd.real_per_pixel*10, \"Å\")"
   ]
  },
  {
   "cell_type": "code",
   "execution_count": null,
   "metadata": {},
   "outputs": [],
   "source": [
    "%matplotlib inline"
   ]
  },
  {
   "cell_type": "code",
   "execution_count": null,
   "metadata": {},
   "outputs": [],
   "source": [
    "tifffile.imwrite(\"cepstral_transformation.tif\", fd.ceps)\n",
    "tifffile.imwrite(\"dcp.tif\", fd.dcp)"
   ]
  }
 ],
 "metadata": {
  "kernelspec": {
   "display_name": "drca",
   "language": "python",
   "name": "python3"
  },
  "language_info": {
   "codemirror_mode": {
    "name": "ipython",
    "version": 3
   },
   "file_extension": ".py",
   "mimetype": "text/x-python",
   "name": "python",
   "nbconvert_exporter": "python",
   "pygments_lexer": "ipython3",
   "version": "3.7.16"
  },
  "orig_nbformat": 4
 },
 "nbformat": 4,
 "nbformat_minor": 2
}
