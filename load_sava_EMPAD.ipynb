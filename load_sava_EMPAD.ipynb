{
 "cells": [
  {
   "cell_type": "code",
   "execution_count": null,
   "id": "9e2c599b-4d2d-46c7-9977-cd637df118f5",
   "metadata": {},
   "outputs": [],
   "source": [
    "import numpy as np\n",
    "import tifffile\n",
    "import tkinter.filedialog as tkf"
   ]
  },
  {
   "cell_type": "code",
   "execution_count": null,
   "id": "05445cee-e406-44c7-a8a9-f3fcb9e0f380",
   "metadata": {},
   "outputs": [],
   "source": [
    "def load_binary_4D_stack(img_adr, datatype, original_shape, final_shape, log_scale=False):\n",
    "    stack = np.fromfile(img_adr, dtype=datatype)\n",
    "    stack = stack.reshape(original_shape)\n",
    "    if log_scale:\n",
    "        stack = np.log(stack[:final_shape[0], :final_shape[1], :final_shape[2], :final_shape[3]])\n",
    "    else:\n",
    "        stack = stack[:final_shape[0], :final_shape[1], :final_shape[2], :final_shape[3]]\n",
    "    return stack"
   ]
  },
  {
   "cell_type": "code",
   "execution_count": null,
   "id": "cc062354-402f-4859-94f5-24f9bd03f185",
   "metadata": {},
   "outputs": [],
   "source": [
    "raw_adrs = []"
   ]
  },
  {
   "cell_type": "code",
   "execution_count": null,
   "id": "4de6fde2-3542-488f-bee0-83135b7e4f2f",
   "metadata": {},
   "outputs": [],
   "source": [
    "# You can repeat this block to add data\n",
    "raw_adrs.extend(tkf.askopenfilenames())\n",
    "print(len(raw_adrs))\n",
    "print(*raw_adrs, sep=\"\\n\")"
   ]
  },
  {
   "cell_type": "code",
   "execution_count": null,
   "id": "d40a9fbc-9a34-48e6-bd97-445c0165b72d",
   "metadata": {},
   "outputs": [],
   "source": [
    "datatype = \"float32\"\n",
    "f_shape = [256, 256, 128, 128] # the shape of the 4D-STEM data [scanning_y, scanning_x, DP_y, DP_x]\n",
    "o_shape = [f_shape[0], f_shape[1], f_shape[2]+2, f_shape[3]]"
   ]
  },
  {
   "cell_type": "code",
   "execution_count": null,
   "id": "653d1e72-0b85-41e0-ab15-79ef5632beb2",
   "metadata": {},
   "outputs": [],
   "source": [
    "for adr in raw_adrs:\n",
    "    stack_4d = load_binary_4D_stack(adr, datatype, o_shape, f_shape, log_scale=False)\n",
    "    stack_4d = np.transpose(stack_4d, axes=(1, 0, 2, 3))\n",
    "    stack_4d = np.nan_to_num(stack_4d)\n",
    "    tifffile.imwrite(adr[:-4]+\"_saved_as_tiff_stack.tif\", stack_4d)"
   ]
  }
 ],
 "metadata": {
  "kernelspec": {
   "display_name": "Python 3 (ipykernel)",
   "language": "python",
   "name": "python3"
  },
  "language_info": {
   "codemirror_mode": {
    "name": "ipython",
    "version": 3
   },
   "file_extension": ".py",
   "mimetype": "text/x-python",
   "name": "python",
   "nbconvert_exporter": "python",
   "pygments_lexer": "ipython3",
   "version": "3.9.6"
  }
 },
 "nbformat": 4,
 "nbformat_minor": 5
}
