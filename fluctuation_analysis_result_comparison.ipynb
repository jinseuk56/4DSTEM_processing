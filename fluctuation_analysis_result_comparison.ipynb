{
 "cells": [
  {
   "cell_type": "code",
   "execution_count": 1,
   "metadata": {},
   "outputs": [
    {
     "name": "stderr",
     "output_type": "stream",
     "text": [
      "WARNING:hyperspy_gui_traitsui:The module://ipykernel.pylab.backend_inline matplotlib backend is not compatible with the traitsui GUI elements. For more information, read http://hyperspy.readthedocs.io/en/stable/user_guide/getting_started.html#possible-warnings-when-importing-hyperspy.\n",
      "WARNING:hyperspy_gui_traitsui:The traitsui GUI elements are not available.\n"
     ]
    }
   ],
   "source": [
    "# J. Ryu, Electron Microscopy and Spectroscopy Lab., Seoul National University\n",
    "import numpy as np\n",
    "import matplotlib.pyplot as plt\n",
    "import hyperspy.api as hys\n",
    "import tkinter.filedialog as tkf\n",
    "import ipywidgets as pyw\n",
    "from tabulate import tabulate\n",
    "from sklearn.cluster import DBSCAN"
   ]
  },
  {
   "cell_type": "code",
   "execution_count": null,
   "metadata": {},
   "outputs": [],
   "source": [
    "%matplotlib inline"
   ]
  },
  {
   "cell_type": "code",
   "execution_count": 3,
   "metadata": {},
   "outputs": [
    {
     "name": "stdout",
     "output_type": "stream",
     "text": [
      "[1, 1, 1]\n"
     ]
    }
   ],
   "source": [
    "num_split = 3\n",
    "adr = []\n",
    "num_adr = []\n",
    "for i in range(num_split):\n",
    "    temp = tkf.askopenfilenames()\n",
    "    num_adr.append(len(temp))\n",
    "    adr.append(temp)\n",
    "print(num_adr)\n",
    "num_img = np.max(num_adr)"
   ]
  },
  {
   "cell_type": "code",
   "execution_count": 11,
   "metadata": {},
   "outputs": [
    {
     "name": "stdout",
     "output_type": "stream",
     "text": [
      "0.27045890769499215\n",
      "0.13728878897944344\n",
      "[0.         0.13728879 0.27457758 0.41186637 0.54915516 0.68644394\n",
      " 0.82373273 0.96102152 1.09831031 1.2355991  1.37288789 1.51017668\n",
      " 1.64746547 1.78475426 1.92204305 2.05933183 2.19662062 2.33390941\n",
      " 2.4711982  2.60848699 2.74577578 2.88306457 3.02035336 3.15764215\n",
      " 3.29493094 3.43221972 3.56950851 3.7067973  3.84408609 3.98137488\n",
      " 4.11866367 4.25595246 4.39324125 4.53053004 4.66781883 4.80510761\n",
      " 4.9423964  5.07968519 5.21697398 5.35426277 5.49155156 5.62884035\n",
      " 5.76612914 5.90341793 6.04070672 6.1779955  6.31528429 6.45257308\n",
      " 6.58986187 6.72715066 6.86443945 7.00172824 7.13901703 7.27630582\n",
      " 7.4135946  7.55088339 7.68817218 7.82546097 7.96274976 8.10003855]\n"
     ]
    }
   ],
   "source": [
    "#camera_length = 1.1462 # m\n",
    "#pixel_size = 150E-6 # m\n",
    "#mrad_per_pixel = np.arctan(pixel_size / camera_length) * 1000# mrad\n",
    "mrad_per_pixel = 0.27045890769499215 # mrad\n",
    "print(mrad_per_pixel)\n",
    "rel_lmb = 0.00197 # nm, relativistic wavelength for 300 kV\n",
    "k_per_pixel = np.tan(mrad_per_pixel/1000) / rel_lmb# 1/nm\n",
    "print(k_per_pixel)\n",
    "r_per_pixel = 0.400 # nm\n",
    "\n",
    "s_dim = 60\n",
    "cb_rad = 20\n",
    "k_list = np.arange(s_dim)*k_per_pixel\n",
    "print(k_list)"
   ]
  },
  {
   "cell_type": "code",
   "execution_count": 12,
   "metadata": {},
   "outputs": [
    {
     "name": "stdout",
     "output_type": "stream",
     "text": [
      "D:/repository/data_repository/4D/20201220_IGZO_TZ/acquisition_1/cropped_radial_var_radial.hdf5\n",
      "(79, 196, 89)\n",
      "(79, 196, 60)\n",
      "D:/repository/data_repository/4D/20201220_IGZO_TZ/acquisition_2/cropped_radial_var_radial.hdf5\n",
      "(73, 194, 89)\n",
      "(73, 194, 60)\n",
      "D:/repository/data_repository/4D/20201220_IGZO_TZ/acquisition_3/cropped_radial_var_radial.hdf5\n",
      "(69, 191, 89)\n",
      "(69, 191, 60)\n"
     ]
    }
   ],
   "source": [
    "data_by_split = []\n",
    "data_flat = []\n",
    "data_flat_by_split = []\n",
    "data_shape = []\n",
    "for i in range(num_split):\n",
    "    temp = []\n",
    "    temp_shape = []\n",
    "    temp_flat = []\n",
    "    for path in adr[i]:\n",
    "        print(path)\n",
    "        tmp = hys.load(path).data\n",
    "        print(tmp.shape)\n",
    "        if len(np.where(tmp[0, 0] == 0.0)[0]) != cb_rad:\n",
    "            tmp = np.insert(tmp, 0, 0, axis=2)        \n",
    "        \n",
    "        tmp = tmp[:, :, :s_dim]\n",
    "        print(tmp.shape)\n",
    "        temp.append(tmp)\n",
    "        temp_shape.append(tmp.shape)\n",
    "        temp_flat.extend(tmp.reshape(-1, tmp.shape[2]).tolist())\n",
    "        data_flat.extend(tmp.reshape(-1, tmp.shape[2]).tolist())\n",
    "    data_by_split.append(temp)\n",
    "    data_shape.append(temp_shape)\n",
    "    data_flat_by_split.append(temp_flat)"
   ]
  },
  {
   "cell_type": "code",
   "execution_count": 13,
   "metadata": {},
   "outputs": [
    {
     "name": "stdout",
     "output_type": "stream",
     "text": [
      "(42825, 60)\n",
      "(3, 1, 3)\n",
      "[60]\n",
      "60\n"
     ]
    }
   ],
   "source": [
    "data_flat = np.asarray(data_flat)\n",
    "print(data_flat.shape)\n",
    "data_shape = np.asarray(data_shape)\n",
    "print(data_shape.shape)\n",
    "print(np.unique(data_shape[:, :, 2]))\n",
    "s_dim = np.min(data_shape[:, :, 2])\n",
    "print(s_dim)"
   ]
  },
  {
   "cell_type": "code",
   "execution_count": 14,
   "metadata": {},
   "outputs": [],
   "source": [
    "radial_var_sum = []\n",
    "for arr in data_by_split:\n",
    "    temp = []\n",
    "    for img in arr:\n",
    "        temp.append(np.mean(img, axis=(0, 1)))\n",
    "    radial_var_sum.append(temp)"
   ]
  },
  {
   "cell_type": "code",
   "execution_count": 15,
   "metadata": {},
   "outputs": [
    {
     "name": "stdout",
     "output_type": "stream",
     "text": [
      "16\n"
     ]
    }
   ],
   "source": [
    "color_rep = [\"black\", \"gray\", \"green\", \"red\", \"orange\", \"blue\", \"purple\", \"hotpink\", \"lime\", \"cyan\", \"magenta\", \"lightgray\", \"peru\", \"springgreen\", \"deepskyblue\", \"yellow\"]\n",
    "print(len(color_rep))"
   ]
  },
  {
   "cell_type": "code",
   "execution_count": null,
   "metadata": {},
   "outputs": [],
   "source": [
    "%matplotlib inline"
   ]
  },
  {
   "cell_type": "code",
   "execution_count": 16,
   "metadata": {},
   "outputs": [
    {
     "data": {
      "image/png": "[encoded data removed]",
      "text/plain": [
       "<Figure size 720x432 with 1 Axes>"
      ]
     },
     "metadata": {
      "needs_background": "light"
     },
     "output_type": "display_data"
    }
   ],
   "source": [
    "fig, ax = plt.subplots(1, 1, figsize=(10, 6))\n",
    "ax.tick_params(axis=\"x\", labelsize=15)\n",
    "for i in range(num_split):\n",
    "    for line in radial_var_sum[i]:\n",
    "        ax.plot(k_list, line, color=color_rep[i+1], linestyle=\"-\", label=\"split %d\"%(i+1))\n",
    "ax.grid()\n",
    "#fig.legend(fontsize=\"xx-large\")\n",
    "fig.tight_layout()\n",
    "plt.show()"
   ]
  },
  {
   "cell_type": "code",
   "execution_count": 17,
   "metadata": {},
   "outputs": [
    {
     "name": "stdout",
     "output_type": "stream",
     "text": [
      "0.09110522986378904\n",
      "0.09283368279778029\n",
      "0.09253035712441597\n"
     ]
    },
    {
     "data": {
      "image/png": "[encoded data removed]",
      "text/plain": [
       "<Figure size 720x432 with 1 Axes>"
      ]
     },
     "metadata": {
      "needs_background": "light"
     },
     "output_type": "display_data"
    }
   ],
   "source": [
    "radial_var_split = []\n",
    "for i in range(num_split):\n",
    "    radial_var_split.append(np.mean(data_flat_by_split[i], axis=0))\n",
    "    \n",
    "fig, ax = plt.subplots(1, 1, figsize=(10, 6))\n",
    "ax.tick_params(axis=\"x\", labelsize=15)\n",
    "for i in range(num_split):\n",
    "    ax.plot(k_list, radial_var_split[i], color=color_rep[i+1], linestyle=\"-\", label=\"split %d\"%(i+1))\n",
    "    print(np.max(radial_var_split[i]))\n",
    "ax.grid()\n",
    "fig.legend(fontsize=\"xx-large\")\n",
    "fig.tight_layout()\n",
    "plt.show()"
   ]
  },
  {
   "cell_type": "code",
   "execution_count": 18,
   "metadata": {},
   "outputs": [],
   "source": [
    "# assume the shape of clusters is circle\n",
    "\n",
    "def cluster_size(img):\n",
    "    label = np.unique(img)\n",
    "    label = label[label != -1]\n",
    "    #print(label)\n",
    "    cluster_size = []\n",
    "    for i in label:\n",
    "        cluster_size.append(len(np.where(img==i)[0]))\n",
    "    cluster_size = np.sort(cluster_size)\n",
    "    #print(cluster_size)\n",
    "\n",
    "    largest = 2*np.sqrt(cluster_size[-1]/np.pi)\n",
    "    smallest = 2*np.sqrt(cluster_size[0]/np.pi)\n",
    "    avg = 2*np.sqrt(np.mean(cluster_size)/np.pi)\n",
    "    avg_peri = 2*np.sqrt(np.mean(cluster_size)*np.pi)\n",
    "    \n",
    "    return avg, avg_peri, largest, smallest"
   ]
  },
  {
   "cell_type": "code",
   "execution_count": 19,
   "metadata": {},
   "outputs": [
    {
     "data": {
      "application/vnd.jupyter.widget-view+json": {
       "model_id": "ad539074ede54d23a5361f34d0ad0824",
       "version_major": 2,
       "version_minor": 0
      },
      "text/plain": [
       "interactive(children=(IntText(value=28, description='left of k-range', style=DescriptionStyle(description_widt…"
      ]
     },
     "metadata": {},
     "output_type": "display_data"
    }
   ],
   "source": [
    "%matplotlib qt\n",
    "binsize = 2000\n",
    "fig1, ax1 = plt.subplots(1, 2, figsize=(15, 6))\n",
    "fig2, ax2 = plt.subplots(num_split, num_img, figsize=(15, 15))\n",
    "selected_img = []\n",
    "\n",
    "def var_selector(k1, k2, p1, p2):\n",
    "    \n",
    "    v1 = np.percentile(data_flat[:, k1:(k2+1)], p1)\n",
    "    v2 = np.percentile(data_flat[:, k1:(k2+1)], p2)\n",
    "    \n",
    "    print(\"left k = %f\"%(k1*k_per_pixel))\n",
    "    print(\"right k = %f\"%(k2*k_per_pixel))\n",
    "    print(\"left variance = %f\"%v1)\n",
    "    print(\"right variance = %f\"%v2)\n",
    "    \n",
    "    ax1[0].cla()\n",
    "    ax1[1].cla()\n",
    "    selected_img.clear()\n",
    "    for i in range(num_split):\n",
    "        ax1[0].plot(radial_var_split[i], color=color_rep[i+1], linestyle=\"-\", label=\"split %d\"%(i+1))\n",
    "        ax1[1].hist(np.array(data_flat_by_split[i])[:, k1:(k2+1)].flatten(), bins=binsize, \n",
    "                    color=color_rep[i+1], alpha=0.5, label=\"split %d\"%(i+1), density=True, histtype=\"step\")\n",
    "        for j in range(num_img):\n",
    "            img = np.array(data_by_split[i][j])[:, :, k1:(k2+1)]\n",
    "            img[np.where(img < v1)] = 0\n",
    "            img[np.where(img > v2)] = 0\n",
    "            img[np.where(img != 0)] = 1\n",
    "            bool_img = np.sum(img, axis=2)\n",
    "            bool_img = np.divide(bool_img, np.where(bool_img!=0, bool_img, 1))\n",
    "            selected_img.append(bool_img)\n",
    "            ind = num_img*i+j\n",
    "            #print(ind)\n",
    "            ax2.flat[ind].imshow(bool_img, cmap=\"afmhot\")\n",
    "            ax2.flat[ind].axis(\"off\")\n",
    "            ax2.flat[ind].set_title(\"%.2f %%\"%(np.sum(bool_img)*100/(img.shape[0]*img.shape[1])))\n",
    "                \n",
    "    ax1[0].fill_between([k1, k2], np.max(radial_var_split), alpha=0.5, color=\"orange\")\n",
    "    ax1[0].grid()\n",
    "    ax1[0].legend(fontsize=\"xx-large\")\n",
    "    ax1[1].fill_between([v1, v2], ax1[1].get_ylim()[1], alpha=0.5, color=\"orange\")\n",
    "    ax1[1].grid()\n",
    "    ax1[1].legend(fontsize=\"xx-large\")\n",
    "    \n",
    "    fig1.canvas.draw()\n",
    "    fig2.canvas.draw()\n",
    "    fig1.tight_layout()\n",
    "    fig2.tight_layout()\n",
    "    \n",
    "st = {\"description_width\": \"initial\"}\n",
    "k1_widget = pyw.IntText(value=28, description=\"left of k-range\", style=st)\n",
    "k2_widget = pyw.IntText(value=28, description=\"right of k-range\", style=st)\n",
    "p1_widget = pyw.FloatText(value=90.0, description=\"left percentile of variance range\", style=st)\n",
    "p2_widget = pyw.FloatText(value=99.999, description=\"right percentile of variance range\", style=st)\n",
    "pyw.interact(var_selector, k1=k1_widget, k2=k2_widget, p1=p1_widget, p2=p2_widget)\n",
    "plt.show()"
   ]
  },
  {
   "cell_type": "code",
   "execution_count": 20,
   "metadata": {},
   "outputs": [
    {
     "name": "stdout",
     "output_type": "stream",
     "text": [
      "[26, 27]\n",
      "[0.07221452568441387, 0.3701444577008192]\n"
     ]
    }
   ],
   "source": [
    "k_range = [k1_widget.value, k2_widget.value]\n",
    "print(k_range)\n",
    "v_range = [np.percentile(data_flat, p1_widget.value), np.percentile(data_flat, p2_widget.value)]\n",
    "print(v_range)"
   ]
  },
  {
   "cell_type": "code",
   "execution_count": 21,
   "metadata": {},
   "outputs": [
    {
     "data": {
      "application/vnd.jupyter.widget-view+json": {
       "model_id": "cd7b91d69c8b40e2b142fea6fc2e7c8b",
       "version_major": 2,
       "version_minor": 0
      },
      "text/plain": [
       "interactive(children=(IntText(value=4, description='minimum # of cluster pixels', style=DescriptionStyle(descr…"
      ]
     },
     "metadata": {},
     "output_type": "display_data"
    }
   ],
   "source": [
    "%matplotlib qt\n",
    "#fig3, ax3 = plt.subplots(1, 3, figsize=(20, 10))\n",
    "fig3, ax3 = plt.subplots(1, 2, figsize=(5, 10))\n",
    "row_label = [\"area (%)\", \"# of clusters (per 10000 nm^2)\", \"mean size (nm)\", \"largest size (nm)\", \"smallest size (nm)\"]\n",
    "\n",
    "def selector(m, e, split, n_img):\n",
    "    db = DBSCAN(eps=e, min_samples=m)\n",
    "    ind = num_img*(split-1)+n_img-1\n",
    "\n",
    "    ax3[0].cla()\n",
    "    ax3[1].cla()\n",
    "    #ax3[2].cla()\n",
    "    \n",
    "    ax3[0].imshow(selected_img[ind], cmap=\"afmhot\")\n",
    "    ax3[0].set_title(\"%.2f %%\"%(np.sum(selected_img[ind])*100/(selected_img[ind].shape[0]*selected_img[ind].shape[1])))\n",
    "    ax3[0].axis(\"off\")  \n",
    "    \n",
    "    sel_coor = np.nonzero(selected_img[ind])\n",
    "    X = np.stack((sel_coor[0], sel_coor[1]), axis=1)\n",
    "    db.fit(X)\n",
    "    label = db.labels_\n",
    "    img_tmp = np.zeros_like(selected_img[ind])\n",
    "    img_tmp += -1\n",
    "    img_tmp[X[:, 0], X[:, 1]] = label\n",
    "    bool_img = np.where(img_tmp<0, img_tmp, 1)\n",
    "    bool_img = np.where(bool_img>-1, bool_img, 0)\n",
    "    #ax3[1].set_title(\"split %d, image %d, epsilon=%.1f, min_#_of_samples=%d\"%(split, n_img, e, m), fontsize=15)\n",
    "    ax3[1].imshow(bool_img, cmap=\"afmhot\")\n",
    "    ax3[1].axis(\"off\")\n",
    "    \n",
    "    area = np.around(100 * np.sum(bool_img) / (img_tmp.shape[0]*img_tmp.shape[1]), decimals=2)\n",
    "    print(\"area of the roi = %.2f\"%(img_tmp.shape[0]*img_tmp.shape[1]*r_per_pixel**2))\n",
    "    per_10000sqnm = 10000 / (img_tmp.shape[0]*img_tmp.shape[1]*r_per_pixel**2)\n",
    "    n_cluster = np.around((len(np.unique(label)) - 1) * per_10000sqnm, decimals=0)\n",
    "    if n_cluster != 0:\n",
    "        avg, avg_peri, largest, smallest = cluster_size(img_tmp)\n",
    "        avg = np.around(avg*r_per_pixel, decimals=2)\n",
    "        avg_peri = np.around(avg_peri*r_per_pixel, decimals=2)\n",
    "        largest = np.around(largest*r_per_pixel, decimals=2)\n",
    "        smallest = np.around(smallest*r_per_pixel, decimals=2)\n",
    "        table_vals = [[area], [n_cluster], [avg], [largest], [smallest]]\n",
    "        print(\"----------------------------------------\")\n",
    "        print(\"split %d, image %d\"%(split, n_img))\n",
    "        print(\"epsilon=%.1f, minimum # of samples=%d\"%(e, m))\n",
    "        print(tabulate([[\"area (%)\", area], [\"# of cluster (per 10000 nm^2)\", n_cluster], [\"mean perimeter\", avg_peri], \n",
    "                        [\"mean size\", avg], [\"largest size\", largest], [\"smallest size\", smallest]]))\n",
    "        #table = ax3[2].table(cellText=table_vals, rowLabels=row_label, loc=\"center\", \n",
    "        #                     rowLoc=\"center\", cellLoc=\"center\", colWidths=[0.1]*3)\n",
    "        #table.scale(3, 8)\n",
    "        #table.auto_set_font_size(False)\n",
    "        #table.set_fontsize(15)\n",
    "        \n",
    "    else:\n",
    "        print(\"----------------------------------------\")\n",
    "        print(\"there is no clusters\")\n",
    "\n",
    "\n",
    "    #ax3[2].axis(\"off\")\n",
    "    fig3.tight_layout()\n",
    "    \n",
    "st = {\"description_width\": \"initial\"}\n",
    "min_widget = pyw.IntText(value=4, description=\"minimum # of cluster pixels\", style=st)\n",
    "eps_widget = pyw.FloatText(value=1.5, description=\"epsilon: \")\n",
    "split_widget = pyw.Dropdown(options=np.arange(num_split)+1, value = 1, description=\"split: \", style=st)\n",
    "n_img_widget = pyw.Dropdown(options=np.arange(np.max(num_adr))+1, value = 1, description=\"image: \", style=st)\n",
    "\n",
    "pyw.interact(selector, m=min_widget, e=eps_widget, split=split_widget, n_img=n_img_widget)\n",
    "fig3.show()"
   ]
  },
  {
   "cell_type": "code",
   "execution_count": null,
   "metadata": {},
   "outputs": [],
   "source": [
    "%matplotlib qt\n",
    "binsize = 2000\n",
    "#fig3, ax3 = plt.subplots(1, 5, figsize=(20, 6))\n",
    "fig3, ax3 = plt.subplots(1, 4, figsize=(20, 6))\n",
    "row_label = [\"area (%)\", \"# of clusters (per 10000 nm^2)\", \"mean size (nm)\", \"largest size (nm)\", \"smallest size (nm)\"]\n",
    "\n",
    "def selector(k1, k2, p1, p2, m, e, split, n_img):\n",
    "    db = DBSCAN(eps=e, min_samples=m)\n",
    "    ind = num_img*(split-1)+n_img-1\n",
    "\n",
    "    ax3[0].cla()\n",
    "    ax3[1].cla()\n",
    "    ax3[2].cla()\n",
    "    ax3[3].cla()\n",
    "    #ax3[4].cla()\n",
    "    \n",
    "    for i in range(num_split):\n",
    "        ax3[0].plot(radial_var_split[i], color=color_rep[i+1], linestyle=\"-\", label=\"split %d\"%(i+1))\n",
    "    \n",
    "    flat = np.array(data_by_split[split-1][n_img-1])[:, :, k1:(k2+1)].flatten()\n",
    "    ax3[1].hist(flat, bins=binsize, color=color_rep[split], label=\"split %d\"%(split), density=True, histtype=\"step\")\n",
    "        \n",
    "    print(\"left k = %f\"%(k1*k_per_pixel))\n",
    "    print(\"right k = %f\"%(k2*k_per_pixel))\n",
    "    \n",
    "    v1 = np.percentile(flat, p1)\n",
    "    v2 = np.percentile(flat, p2)\n",
    "    print(\"left variance = %f\"%v1)\n",
    "    print(\"right variance = %f\"%v2)\n",
    "    \n",
    "    ax3[0].fill_between([k1, k2], np.max(radial_var_split), alpha=0.5, color=\"orange\")\n",
    "    ax3[0].grid()\n",
    "    #ax3[0].legend(fontsize=\"xx-large\")\n",
    "    ax3[1].fill_between([v1, v2], ax3[1].get_ylim()[1], alpha=0.5, color=\"orange\")\n",
    "    ax3[1].grid()    \n",
    "    \n",
    "    img = np.array(data_by_split[split-1][n_img-1])[:, :, k1:(k2+1)]\n",
    "    img[np.where(img < v1)] = 0\n",
    "    img[np.where(img > v2)] = 0\n",
    "    img[np.where(img != 0)] = 1\n",
    "    bool_img = np.sum(img, axis=2)\n",
    "    bool_img = np.divide(bool_img, np.where(bool_img!=0, bool_img, 1))\n",
    "    ax3[2].imshow(bool_img, cmap=\"afmhot\")\n",
    "    ax3[2].axis(\"off\")\n",
    "    ax3[2].set_title(\"%.2f %%\"%(np.sum(bool_img)*100/(img.shape[0]*img.shape[1])))\n",
    "        \n",
    "    sel_coor = np.nonzero(bool_img)\n",
    "    X = np.stack((sel_coor[0], sel_coor[1]), axis=1)\n",
    "    db.fit(X)\n",
    "    label = db.labels_\n",
    "    img_tmp = np.zeros_like(bool_img)\n",
    "    img_tmp += -1\n",
    "    img_tmp[X[:, 0], X[:, 1]] = label\n",
    "    cluster_img = np.where(img_tmp<0, img_tmp, 1)\n",
    "    cluster_img = np.where(cluster_img>-1, bool_img, 0)\n",
    "    #ax3[3].set_title(\"split %d, image %d, epsilon=%.1f, min_#_of_samples=%d\"%(split, n_img, e, m), fontsize=10)\n",
    "    ax3[3].imshow(cluster_img, cmap=\"afmhot\")\n",
    "    ax3[3].axis(\"off\")\n",
    "    \n",
    "    area = np.around(100 * np.sum(cluster_img) / (img_tmp.shape[0]*img_tmp.shape[1]), decimals=2)\n",
    "    per_10000sqnm = 10000 / (img_tmp.shape[0]*img_tmp.shape[1]*r_per_pixel**2)\n",
    "    n_cluster = np.around((len(np.unique(label)) - 1) * per_10000sqnm, decimals=0)\n",
    "    if n_cluster != 0:\n",
    "        avg, avg_peri, largest, smallest = cluster_size(img_tmp)\n",
    "        avg = np.around(avg*r_per_pixel, decimals=2)\n",
    "        avg_peri = np.around(avg_peri*r_per_pixel, decimals=2)\n",
    "        largest = np.around(largest*r_per_pixel, decimals=2)\n",
    "        smallest = np.around(smallest*r_per_pixel, decimals=2)\n",
    "        table_vals = [[area], [n_cluster], [avg], [largest], [smallest]]\n",
    "        print(\"----------------------------------------\")\n",
    "        print(\"split %d, image %d\"%(split, n_img))\n",
    "        print(\"epsilon=%.1f, minimum # of samples=%d\"%(e, m))\n",
    "        print(tabulate([[\"area (%)\", area], [\"# of cluster (per 10000 nm^2)\", n_cluster], [\"mean perimeter\", avg_peri], \n",
    "                        [\"mean size\", avg], [\"largest size\", largest], [\"smallest size\", smallest]]))\n",
    "        #table = ax3[4].table(cellText=table_vals, rowLabels=row_label, loc=\"center\", \n",
    "        #                     rowLoc=\"center\", cellLoc=\"center\", colWidths=[0.1]*3)\n",
    "        #table.scale(3, 6)\n",
    "        #table.auto_set_font_size(False)\n",
    "        #table.set_fontsize(15)\n",
    "        \n",
    "    else:\n",
    "        print(\"----------------------------------------\")\n",
    "        print(\"there is no clusters\")\n",
    "\n",
    "    #ax3[4].axis(\"off\")\n",
    "    fig3.tight_layout()\n",
    "\n",
    "st = {\"description_width\": \"initial\"}    \n",
    "k1_widget = pyw.IntText(value=28, description=\"left of k-range\", style=st)\n",
    "k2_widget = pyw.IntText(value=28, description=\"right of k-range\", style=st)\n",
    "p1_widget = pyw.FloatText(value=90.0, description=\"left percentile of variance range\", style=st)\n",
    "p2_widget = pyw.FloatText(value=99.999, description=\"right percentile of variance range\", style=st)\n",
    "\n",
    "min_widget = pyw.IntText(value=4, description=\"minimum # of cluster pixels\", style=st)\n",
    "eps_widget = pyw.FloatText(value=1.5, description=\"epsilon: \", style=st)\n",
    "split_widget = pyw.Dropdown(options=np.arange(num_split)+1, value = 1, description=\"split: \", style=st)\n",
    "n_img_widget = pyw.Dropdown(options=np.arange(np.max(num_adr))+1, value = 1, description=\"image: \", style=st)\n",
    "\n",
    "pyw.interact(selector, k1=k1_widget, k2=k2_widget, p1=p1_widget, p2=p2_widget, m=min_widget, e=eps_widget, split=split_widget, n_img=n_img_widget)\n",
    "fig3.show()"
   ]
  }
 ],
 "metadata": {
  "kernelspec": {
   "display_name": "Python 3",
   "language": "python",
   "name": "python3"
  },
  "language_info": {
   "codemirror_mode": {
    "name": "ipython",
    "version": 3
   },
   "file_extension": ".py",
   "mimetype": "text/x-python",
   "name": "python",
   "nbconvert_exporter": "python",
   "pygments_lexer": "ipython3",
   "version": "3.7.9"
  }
 },
 "nbformat": 4,
 "nbformat_minor": 4
}
