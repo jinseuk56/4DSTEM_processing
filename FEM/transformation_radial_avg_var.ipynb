{
 "cells": [
  {
   "cell_type": "code",
   "execution_count": null,
   "id": "1c64b730-98d1-455a-9c7d-3b3b73955606",
   "metadata": {},
   "outputs": [],
   "source": [
    "# Jinseok Ryu, PhD\n",
    "# jinseuk56@gmail.com\n",
    "\n",
    "import numpy as np\n",
    "import matplotlib.pyplot as plt\n",
    "import tkinter.filedialog as tkf\n",
    "import tifffile\n",
    "import sys\n",
    "sys.path.append(\"\")\n",
    "from FDSTEM_process import *"
   ]
  },
  {
   "cell_type": "code",
   "execution_count": null,
   "id": "1739e84f-0c5d-459e-be68-3739d25d6142",
   "metadata": {},
   "outputs": [],
   "source": [
    "raw_adrs = tkf.askopenfilenames()\n",
    "print(*raw_adrs, sep=\"\\n\")"
   ]
  },
  {
   "cell_type": "code",
   "execution_count": null,
   "id": "1555e876-b1b4-4a6c-98f4-19eebcd1c507",
   "metadata": {},
   "outputs": [],
   "source": [
    "for raw_adr in raw_adrs:\n",
    "    print(raw_adr)\n",
    "    fd = FourDSTEM_process(raw_adr)\n",
    "    c_pos = fd.find_center(cbox_edge=15)\n",
    "    print(c_pos)\n",
    "\n",
    "    fd.rotational_average(rot_variance=True)\n",
    "    tifffile.imsave(raw_adr[:-4]+\"_radial_avg.tif\", fd.radial_avg_stack)\n",
    "    tifffile.imsave(raw_adr[:-4]+\"_radial_var.tif\", fd.radial_var_stack)"
   ]
  }
 ],
 "metadata": {
  "kernelspec": {
   "display_name": "Python 3",
   "language": "python",
   "name": "python3"
  },
  "language_info": {
   "codemirror_mode": {
    "name": "ipython",
    "version": 3
   },
   "file_extension": ".py",
   "mimetype": "text/x-python",
   "name": "python",
   "nbconvert_exporter": "python",
   "pygments_lexer": "ipython3",
   "version": "3.7.16"
  }
 },
 "nbformat": 4,
 "nbformat_minor": 5
}
