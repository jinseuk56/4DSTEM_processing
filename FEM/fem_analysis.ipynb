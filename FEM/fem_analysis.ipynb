{
 "cells": [
  {
   "cell_type": "code",
   "execution_count": null,
   "metadata": {},
   "outputs": [],
   "source": [
    "# J. Ryu, Electron Microscopy and Spectroscopy Lab., Seoul National University\n",
    "from scipy import stats\n",
    "from scipy.signal import periodogram\n",
    "import numpy as np\n",
    "import matplotlib.pyplot as plt\n",
    "import matplotlib.gridspec as gridspec\n",
    "from matplotlib.widgets import RectangleSelector\n",
    "import tkinter.filedialog as tkf\n",
    "import hyperspy.api as hys\n",
    "from scipy import optimize\n",
    "import ipywidgets as pyw\n",
    "import time\n",
    "from skimage.metrics import structural_similarity as ssim\n",
    "from skimage.metrics import mean_squared_error\n",
    "from sklearn.cluster import DBSCAN"
   ]
  },
  {
   "cell_type": "code",
   "execution_count": null,
   "metadata": {},
   "outputs": [],
   "source": [
    "# refer to https://scipy-cookbook.readthedocs.io/items/FittingData.html\n",
    "\n",
    "def gaussian(height, center_x, center_y, width_x, width_y):\n",
    "    \"\"\"Returns a gaussian function with the given parameters\"\"\"\n",
    "    width_x = float(width_x)\n",
    "    width_y = float(width_y)\n",
    "    return lambda x,y: height*np.exp(\n",
    "                -(((center_x-x)/width_x)**2+((center_y-y)/width_y)**2)/2)\n",
    "\n",
    "def moments(data):\n",
    "    \"\"\"Returns (height, x, y, width_x, width_y)\n",
    "    the gaussian parameters of a 2D distribution by calculating its\n",
    "    moments \"\"\"\n",
    "    total = data.sum()\n",
    "    X, Y = np.indices(data.shape) # row, col\n",
    "    x = (X*data).sum()/total # row\n",
    "    y = (Y*data).sum()/total # col\n",
    "    col = data[:, int(y)]\n",
    "    width_x = np.sqrt(np.abs((np.arange(col.size)-y)**2*col).sum()/col.sum()) # row\n",
    "    row = data[int(x), :]\n",
    "    width_y = np.sqrt(np.abs((np.arange(row.size)-x)**2*row).sum()/row.sum()) # col\n",
    "    height = data.max()\n",
    "    return height, x, y, width_x, width_y\n",
    "\n",
    "def fitgaussian(data):\n",
    "    \"\"\"Returns (height, x, y, width_x, width_y)\n",
    "    the gaussian parameters of a 2D distribution found by a fit\"\"\"\n",
    "    params = moments(data)\n",
    "    errorfunction = lambda p: np.ravel(gaussian(*p)(*np.indices(data.shape)) -\n",
    "                                 data)\n",
    "    p, success = optimize.leastsq(errorfunction, params)\n",
    "    return p"
   ]
  },
  {
   "cell_type": "code",
   "execution_count": null,
   "metadata": {},
   "outputs": [],
   "source": [
    "# refer to \"github.com/mkolopanis/python/blob/master/radialProfile.py\"\n",
    "\n",
    "def radial_stats(image, center=None, var=True):\n",
    "   \n",
    "    y, x = np.indices(image.shape)\n",
    "    if not center:\n",
    "        center = np.array([(y.max()-y.min())/2.0, (x.max()-x.min())/2.0])\n",
    "        \n",
    "    r = np.hypot(y - center[0], x - center[1])\n",
    "    #plt.imshow(r, cmap=\"Accent\")\n",
    "    #plt.show()\n",
    "\n",
    "    # Get sorted radii\n",
    "    ind = np.argsort(r.flat)\n",
    "    r_sorted = r.flat[ind]\n",
    "    i_sorted = image.flat[ind]\n",
    "\n",
    "    # Get the integer part of the radii (bin size = 1)\n",
    "    r_int = np.around(r_sorted)\n",
    "\n",
    "    # Find all pixels that fall within each radial bin.\n",
    "    deltar = r_int[1:] - r_int[:-1]  # Assumes all radii represented\n",
    "    rind = np.where(deltar)[0]       # location of changed radius\n",
    "    nr = rind[1:] - rind[:-1]        # number of radius bin\n",
    "    #print(nr)\n",
    "    \n",
    "    csim = np.cumsum(i_sorted, dtype=float)\n",
    "    sq_csim = np.cumsum(np.square(i_sorted), dtype=float)\n",
    "    radial_avg  = (csim[rind[1:]] - csim[rind[:-1]]) / nr\n",
    "    \n",
    "    if var:    \n",
    "        avg_square = np.square(radial_avg)\n",
    "        square_avg = (sq_csim[rind[1:]] - sq_csim[rind[:-1]]) / nr\n",
    "        mask = avg_square.copy()\n",
    "        mask[np.where(avg_square==0)] = 1.0\n",
    "        radial_var = (square_avg - avg_square) / mask\n",
    "        return r, radial_avg, radial_var, (square_avg - avg_square)\n",
    "    \n",
    "    else:\n",
    "        return r, radial_avg"
   ]
  },
  {
   "cell_type": "code",
   "execution_count": null,
   "metadata": {},
   "outputs": [],
   "source": [
    "def gaussian_center(image, cbox_edge=0):\n",
    "    y, x = np.indices(image.shape)\n",
    "    if not cbox_edge:\n",
    "        center = np.array([(y.max()-y.min())/2.0, (x.max()-x.min())/2.0])\n",
    "        \n",
    "    else:\n",
    "        cbox_outy = int(image.shape[0]/2 - cbox_edge/2)\n",
    "        cbox_outx = int(image.shape[1]/2 - cbox_edge/2)\n",
    "        center_box = image[cbox_outy:-cbox_outy, cbox_outx:-cbox_outx]\n",
    "        fit_params = fitgaussian(center_box)\n",
    "        (_, center_y, center_x, _, _) = fit_params\n",
    "        center = [center_y+cbox_outy, center_x+cbox_outx]\n",
    "        \n",
    "    return center"
   ]
  },
  {
   "cell_type": "code",
   "execution_count": null,
   "metadata": {},
   "outputs": [],
   "source": [
    "def remove_center_beam(image, center=None, cb_rad=0):\n",
    "    y, x = np.indices(image.shape)\n",
    "    if not center:\n",
    "        center = np.array([(y.max()-y.min())/2.0, (x.max()-x.min())/2.0])\n",
    "        \n",
    "    r = np.hypot(y - center[0], x - center[1])\n",
    "    r = np.around(r)\n",
    "    ri = np.where(r<=cb_rad)\n",
    "    #print(ri[0].shape)\n",
    "    \n",
    "    image[ri] = 0\n",
    "    \n",
    "    return image"
   ]
  },
  {
   "cell_type": "code",
   "execution_count": null,
   "metadata": {},
   "outputs": [],
   "source": [
    "def load_binary_4D_stack(img_adr, datatype, original_shape, final_shape, log_scale=False):\n",
    "    stack = np.fromfile(img_adr, dtype=datatype)\n",
    "    stack = stack.reshape(original_shape)\n",
    "    print(stack.shape)\n",
    "    if log_scale:\n",
    "        stack = np.log(stack[:final_shape[0], :final_shape[1], :final_shape[2], :final_shape[3]])\n",
    "    else:\n",
    "        stack = stack[:final_shape[0], :final_shape[1], :final_shape[2], :final_shape[3]]\n",
    "    \n",
    "    print(stack.shape) \n",
    "    return stack"
   ]
  },
  {
   "cell_type": "code",
   "execution_count": null,
   "metadata": {},
   "outputs": [],
   "source": [
    "def fourd_roll_axis(stack):\n",
    "    stack = np.rollaxis(np.rollaxis(stack, 2, 0), 3, 1)\n",
    "    return stack"
   ]
  },
  {
   "cell_type": "markdown",
   "metadata": {},
   "source": [
    "# load & prepare"
   ]
  },
  {
   "cell_type": "code",
   "execution_count": null,
   "metadata": {},
   "outputs": [],
   "source": [
    "raw_adr = tkf.askopenfilename()\n",
    "print(raw_adr)"
   ]
  },
  {
   "cell_type": "code",
   "execution_count": null,
   "metadata": {},
   "outputs": [],
   "source": [
    "datatype = \"float32\"\n",
    "#o_shape = (128, 128, 130, 128)\n",
    "#f_shape = (128, 128, 128, 128)\n",
    "o_shape = (256, 256, 130, 128)\n",
    "f_shape = (256, 256, 128, 128)\n",
    "\n",
    "# load a data (RAW)\n",
    "stack_4d = load_binary_4D_stack(raw_adr, datatype, o_shape, f_shape, log_scale=False)\n",
    "if np.isnan(stack_4d):\n",
    "    stack_4d = np.nan_to_num(stack_4d)\n",
    "print(np.max(stack_4d))\n",
    "print(np.min(stack_4d))\n",
    "print(np.mean(stack_4d))"
   ]
  },
  {
   "cell_type": "code",
   "execution_count": null,
   "metadata": {},
   "outputs": [],
   "source": [
    "# Load a data (DM)\n",
    "stack_4d = hys.load(raw_adr).data\n",
    "print(stack_4d.shape)\n",
    "stack_4d = fourd_roll_axis(stack_4d)\n",
    "f_shape = stack_4d.shape\n",
    "print(f_shape)\n",
    "\n",
    "stack_4d = stack_4d / np.max(stack_4d)\n",
    "print(np.max(stack_4d))\n",
    "print(np.min(stack_4d))\n",
    "print(np.mean(stack_4d))"
   ]
  },
  {
   "cell_type": "code",
   "execution_count": null,
   "metadata": {},
   "outputs": [],
   "source": [
    "# rotate\n",
    "stack_4d = np.rot90(stack_4d, 2, (0, 1))\n",
    "f_shape = stack_4d.shape\n",
    "print(f_shape.shape)"
   ]
  },
  {
   "cell_type": "code",
   "execution_count": null,
   "metadata": {},
   "outputs": [],
   "source": [
    "# select an interesting area\n",
    "%matplotlib qt\n",
    "fig, ax = plt.subplots(1, 1, figsize=(10, 10))\n",
    "ax.imshow(np.sum(stack_4d, axis=(2, 3)), cmap=\"gray\")\n",
    "\n",
    "def onselect(eclick, erelease):\n",
    "    print('startposition: (%f, %f)' % (eclick.xdata, eclick.ydata))\n",
    "    print('endposition  : (%f, %f)' % (erelease.xdata, erelease.ydata))\n",
    "\n",
    "box = RectangleSelector(ax, onselect)\n",
    "plt.show()"
   ]
  },
  {
   "cell_type": "code",
   "execution_count": null,
   "metadata": {},
   "outputs": [],
   "source": [
    "# crop the data\n",
    "stack_4d_cropped = stack_4d[int(box.corners[1][0]):int(box.corners[1][2]), \n",
    "                                           int(box.corners[0][0]):int(box.corners[0][1])].copy()\n",
    "cr_shape = stack_4d_cropped.shape\n",
    "print(cr_shape)\n",
    "print(np.max(stack_4d_cropped))\n",
    "print(np.min(stack_4d_cropped))\n",
    "print(np.mean(stack_4d_cropped))"
   ]
  },
  {
   "cell_type": "code",
   "execution_count": null,
   "metadata": {},
   "outputs": [],
   "source": [
    "# just copy\n",
    "stack_4d_cropped = stack_4d.copy()\n",
    "cr_shape = stack_4d_cropped.shape\n",
    "print(cr_shape)\n",
    "print(np.max(stack_4d_cropped))\n",
    "print(np.min(stack_4d_cropped))\n",
    "print(np.mean(stack_4d_cropped))"
   ]
  },
  {
   "cell_type": "code",
   "execution_count": null,
   "metadata": {},
   "outputs": [],
   "source": [
    "%matplotlib inline"
   ]
  },
  {
   "cell_type": "code",
   "execution_count": null,
   "metadata": {},
   "outputs": [],
   "source": [
    "# maximum intensity distribution\n",
    "max_int = np.max(stack_4d_cropped, axis=(2, 3))\n",
    "print(max_int.shape)\n",
    "print(np.max(max_int))\n",
    "print(np.min(max_int))\n",
    "print(np.mean(max_int))\n",
    "print(np.median(max_int))\n",
    "\n",
    "fig, ax = plt.subplots(1, 2, figsize=(10, 5))\n",
    "ax[0].imshow(max_int, cmap=\"afmhot\")\n",
    "ax[0].axis(\"off\")\n",
    "ax[1].hist(max_int.flatten(), bins=len(max_int))\n",
    "ax[1].grid()\n",
    "plt.show()"
   ]
  },
  {
   "cell_type": "code",
   "execution_count": null,
   "metadata": {},
   "outputs": [],
   "source": [
    "# total intensity distribution\n",
    "tot_int = np.sum(stack_4d_cropped, axis=(2, 3))\n",
    "print(max_int.shape)\n",
    "print(np.max(tot_int))\n",
    "print(np.min(tot_int))\n",
    "print(np.mean(tot_int))\n",
    "print(np.median(tot_int))\n",
    "\n",
    "fig, ax = plt.subplots(1, 2, figsize=(10, 5))\n",
    "ax[0].imshow(tot_int, cmap=\"afmhot\")\n",
    "ax[0].axis(\"off\")\n",
    "ax[1].hist(tot_int.flatten(), bins=len(max_int))\n",
    "ax[1].grid()\n",
    "plt.show()"
   ]
  },
  {
   "cell_type": "markdown",
   "metadata": {},
   "source": [
    "# center management"
   ]
  },
  {
   "cell_type": "code",
   "execution_count": null,
   "metadata": {},
   "outputs": [],
   "source": [
    "%matplotlib inline"
   ]
  },
  {
   "cell_type": "code",
   "execution_count": null,
   "metadata": {},
   "outputs": [],
   "source": [
    "# find center position\n",
    "center_pos = []\n",
    "for i in range(cr_shape[0]):\n",
    "    for j in range(cr_shape[1]):\n",
    "        center_pos.append(gaussian_center(stack_4d_cropped[i, j], cbox_edge=20))\n",
    "        \n",
    "center_pos = np.asarray(center_pos)\n",
    "center_pos = np.reshape(center_pos, (cr_shape[0], cr_shape[1], -1))\n",
    "print(center_pos.shape)\n",
    "center_mean = np.mean(center_pos, axis=(0, 1))\n",
    "print(center_mean)\n",
    "\n",
    "# center distibution\n",
    "fig, ax = plt.subplots(1, 2, figsize=(10, 5))\n",
    "ax[0].hist(center_pos[:, :, 0].flatten(), bins=100, density=True, color=\"orange\", label=\"center y position\")\n",
    "ax[0].hist(center_pos[:, :, 1].flatten(), bins=100, density=True, color=\"gray\", alpha=0.5, label=\"center x position\")\n",
    "ax[0].grid()\n",
    "ax[0].legend()\n",
    "\n",
    "ax[1].scatter(center_pos[:, :, 1], center_pos[:, :, 0], s=10.0, alpha=0.5)\n",
    "ax[1].grid()\n",
    "ax[1].scatter(center_mean[1], center_mean[0], s=20, c=\"red\")\n",
    "ax[1].set_xlabel(\"center x position\", fontsize=10)\n",
    "ax[1].set_ylabel(\"center y position\", fontsize=10)\n",
    "fig.tight_layout()\n",
    "plt.show()"
   ]
  },
  {
   "cell_type": "code",
   "execution_count": null,
   "metadata": {},
   "outputs": [],
   "source": [
    "# remove center beam\n",
    "center_radius = 10\n",
    "for i in range(cr_shape[0]):\n",
    "    for j in range(cr_shape[1]):\n",
    "        stack_4d_cropped[i, j] = remove_center_beam(stack_4d_cropped[i, j], \n",
    "                                                    center=center_mean.tolist(), cb_rad=center_radius)\n",
    "print(np.max(stack_4d_cropped))\n",
    "print(np.min(stack_4d_cropped))\n",
    "print(np.mean(stack_4d_cropped))"
   ]
  },
  {
   "cell_type": "markdown",
   "metadata": {},
   "source": [
    "# rotational average"
   ]
  },
  {
   "cell_type": "code",
   "execution_count": null,
   "metadata": {},
   "outputs": [],
   "source": [
    "# radial average of DPs (not variance, intensity direcltly, RDF?)\n",
    "radial_avg_stack = []\n",
    "len_profile = []\n",
    "for i in range(cr_shape[0]):\n",
    "    for j in range(cr_shape[1]):\n",
    "        _, radial_temp = radial_stats(stack_4d_cropped[i, j], center=center_mean.tolist(), var=False)\n",
    "        len_profile.append(len(radial_temp))\n",
    "        radial_avg_stack.append(radial_temp)\n",
    "\n",
    "if len(np.unique(len_profile)) > 1:\n",
    "    print(np.unique(len_profile))\n",
    "    shortest = np.min(len_profile)\n",
    "    for i in range(len(radial_avg_stack)):\n",
    "        radial_avg_stack[i] = radial_avg_stack[i][:shortest]\n",
    "\n",
    "radial_avg_stack = np.asarray(radial_avg_stack).reshape(cr_shape[0], cr_shape[1], -1)\n",
    "print(radial_avg_stack.shape)\n",
    "\n",
    "radial_avg_sum = np.sum(radial_avg_stack, axis=(0, 1))\n",
    "print(radial_avg_sum.shape)\n",
    "\n",
    "plt.figure(figsize=(10,10))\n",
    "plt.plot(radial_avg_sum)\n",
    "plt.grid()\n",
    "plt.show()"
   ]
  },
  {
   "cell_type": "code",
   "execution_count": null,
   "metadata": {},
   "outputs": [],
   "source": [
    "# save (radial average, 3D)\n",
    "radial_avg_stack = hys.signals.Signal1D(radial_avg_stack)\n",
    "radial_avg_stack.metadata.General.set_item(\"notes\", center_mean.tolist())\n",
    "radial_avg_stack.save(raw_adr[:-4]+\"_radial_avg_radial.hdf5\")"
   ]
  },
  {
   "cell_type": "markdown",
   "metadata": {},
   "source": [
    "# FEM (variance)"
   ]
  },
  {
   "cell_type": "code",
   "execution_count": null,
   "metadata": {},
   "outputs": [],
   "source": [
    "%matplotlib qt"
   ]
  },
  {
   "cell_type": "code",
   "execution_count": null,
   "metadata": {},
   "outputs": [],
   "source": [
    "%matplotlib inline"
   ]
  },
  {
   "cell_type": "code",
   "execution_count": null,
   "metadata": {},
   "outputs": [],
   "source": [
    "# obtain variance map dpending on k-vector\n",
    "square_avg = np.mean(np.square(stack_4d_cropped), axis=(0,1))\n",
    "avg_square = np.square(np.mean(stack_4d_cropped, axis=(0,1)))\n",
    "mask = avg_square.copy()\n",
    "mask[np.where(avg_square == 0)] = 1.0\n",
    "var_map = (square_avg - avg_square) / mask\n",
    "var_nonor = square_avg - avg_square\n",
    "\n",
    "# obtain radial average prifile for variance map above\n",
    "radial_map, kp_var = radial_stats(var_map, center=center_mean.tolist(), var=False)\n",
    "print(kp_var.shape)\n",
    "print(np.argmax(kp_var))\n",
    "_, kp_nonor = radial_stats(var_nonor, center=center_mean.tolist(), var=False)\n",
    "print(kp_nonor.shape)\n",
    "print(np.argmax(kp_nonor))\n",
    "\n",
    "fig, ax = plt.subplots(1, 5, figsize=(15, 3))\n",
    "ax[0].imshow(radial_map, cmap=\"gray\")\n",
    "ax[0].axis(\"off\")\n",
    "ax[1].imshow(var_map, cmap=\"afmhot\")\n",
    "ax[1].axis(\"off\")\n",
    "ax[2].plot(kp_var, \"k-\")\n",
    "ax[2].grid()\n",
    "ax[3].imshow(var_nonor, cmap=\"afmhot\")\n",
    "ax[3].axis(\"off\")\n",
    "ax[4].plot(kp_nonor, \"k-\")\n",
    "ax[4].grid()\n",
    "plt.show()"
   ]
  },
  {
   "cell_type": "code",
   "execution_count": null,
   "metadata": {},
   "outputs": [],
   "source": [
    "# calculate variance with all angles at a certain k\n",
    "radial_var_stack = []\n",
    "radial_var_nonor_stack = []\n",
    "len_profile = []\n",
    "for i in range(cr_shape[0]):\n",
    "    for j in range(cr_shape[1]):\n",
    "        _, _, radial_temp, radial_nonor = radial_stats(stack_4d_cropped[i, j], center=center_mean.tolist(), var=True)\n",
    "        len_profile.append(len(radial_temp))\n",
    "        radial_var_stack.append(radial_temp)\n",
    "        radial_var_nonor_stack.append(radial_nonor)\n",
    "\n",
    "if len(np.unique(len_profile)) > 1:\n",
    "    print(np.unique(len_profile))\n",
    "    shortest = np.min(len_profile)\n",
    "    for i in range(len(len_profile)):\n",
    "        radial_var_stack[i] = radial_var_stack[i][:shortest]\n",
    "        radial_var_nonor_stack[i] = radial_var_nonor_stack[i][:shortest]\n",
    "\n",
    "radial_var_stack = np.asarray(radial_var_stack).reshape(stack_4d_cropped.shape[0], stack_4d_cropped.shape[1], -1)\n",
    "print(radial_var_stack.shape)\n",
    "\n",
    "radial_var_sum = np.sum(radial_var_stack, axis=(0, 1))\n",
    "print(radial_var_sum.shape)\n",
    "\n",
    "radial_var_nonor_stack = np.asarray(radial_var_nonor_stack).reshape(stack_4d_cropped.shape[0], stack_4d_cropped.shape[1], -1)\n",
    "print(radial_var_nonor_stack.shape)\n",
    "\n",
    "radial_var_nonor_sum = np.sum(radial_var_nonor_stack, axis=(0, 1))\n",
    "print(radial_var_nonor_sum.shape)\n",
    "\n",
    "fig, ax = plt.subplots(1, 2, figsize=(6, 3))\n",
    "ax[0].plot(radial_var_sum)\n",
    "ax[1].plot(radial_var_nonor_sum)\n",
    "fig.tight_layout()\n",
    "plt.show()"
   ]
  },
  {
   "cell_type": "code",
   "execution_count": null,
   "metadata": {},
   "outputs": [],
   "source": [
    "# save (radial variance, 3D)\n",
    "radial_var_stack_save = hys.signals.Signal1D(radial_var_stack)\n",
    "radial_var_stack_save.metadata.General.set_item(\"notes\", center_mean.tolist())\n",
    "radial_var_stack_save.save(raw_adr[:-4]+\"_radial_var_radial.hdf5\")"
   ]
  },
  {
   "cell_type": "code",
   "execution_count": null,
   "metadata": {},
   "outputs": [],
   "source": [
    "# save (radial variance, 3D)\n",
    "radial_var_nonor_stack_save = hys.signals.Signal1D(radial_var_nonor_stack)\n",
    "radial_var_nonor_stack_save.metadata.General.set_item(\"notes\", center_mean.tolist())\n",
    "radial_var_nonor_stack_save.save(raw_adr[:-4]+\"_radial_var_nonor_radial.hdf5\")"
   ]
  },
  {
   "cell_type": "code",
   "execution_count": null,
   "metadata": {},
   "outputs": [],
   "source": [
    "radial_var = radial_var_nonor_stack.copy()\n",
    "radial_var_spectrum = radial_var_nonor_sum.copy()"
   ]
  },
  {
   "cell_type": "code",
   "execution_count": null,
   "metadata": {},
   "outputs": [],
   "source": [
    "radial_var = radial_var_stack.copy()\n",
    "radial_var_spectrum = radial_var_sum.copy()"
   ]
  },
  {
   "cell_type": "code",
   "execution_count": null,
   "metadata": {},
   "outputs": [],
   "source": [
    "def radial_indices(shape, radial_range, center=None):\n",
    "    y, x = np.indices(shape)\n",
    "    if not center:\n",
    "        center = np.array([(y.max()-y.min())/2.0, (x.max()-x.min())/2.0])\n",
    "    \n",
    "    r = np.hypot(y - center[0], x - center[1])\n",
    "    ri = np.ones(r.shape)\n",
    "    \n",
    "    if len(np.unique(radial_range)) > 1:\n",
    "        ri[np.where(r <= radial_range[0])] = 0\n",
    "        ri[np.where(r > radial_range[1])] = 0\n",
    "        \n",
    "    else:\n",
    "        r = np.round(r)\n",
    "        ri[np.where(r != round(radial_range[0]))] = 0\n",
    "    \n",
    "    return ri"
   ]
  },
  {
   "cell_type": "code",
   "execution_count": null,
   "metadata": {},
   "outputs": [],
   "source": [
    "def round_step(arr, step_size=1):\n",
    "    \n",
    "    divide = np.around(arr / step_size)\n",
    "    rounded = divide * step_size\n",
    "    \n",
    "    return rounded"
   ]
  },
  {
   "cell_type": "code",
   "execution_count": null,
   "metadata": {},
   "outputs": [],
   "source": [
    "def point_circle(image, radius, center=None):\n",
    "    \n",
    "    y, x = np.indices(image.shape)\n",
    "    y = y.astype(\"float64\")\n",
    "    x = x.astype(\"float64\")\n",
    "    \n",
    "    if not center:\n",
    "        center = np.array([(y.max()-y.min())/2.0, (x.max()-x.min())/2.0])\n",
    "    \n",
    "    y -= center[0]\n",
    "    x -= center[1]\n",
    "    \n",
    "    angle_arr = np.zeros(image.shape)\n",
    "    for i in range(image.shape[0]):\n",
    "        for j in range(image.shape[1]):\n",
    "            angle_arr[i, j] = np.angle(complex(x[i, j], y[i, j]), deg=True)\n",
    "            \n",
    "    angle_arr = angle_arr + 180\n",
    "    #print(angle_arr)\n",
    "    r = np.hypot(y, x)\n",
    "    r = np.around(r)\n",
    "    ri = np.where(r == radius)\n",
    "    angle_sel = angle_arr[ri]\n",
    "    value_sel = image[ri]\n",
    "\n",
    "    return angle_arr, angle_sel, value_sel"
   ]
  },
  {
   "cell_type": "code",
   "execution_count": null,
   "metadata": {},
   "outputs": [],
   "source": [
    "# angle unit [degree]\n",
    "def angular_correlation(angles, values):\n",
    "    angle_diff = []\n",
    "    corr_values = []\n",
    "    angle_diff_candidates = np.arange(0, 361, 1)\n",
    "    corr_val_total = np.zeros(angle_diff_candidates.shape)\n",
    "    \n",
    "    int_sqavg = np.square(np.mean(values))\n",
    "    \n",
    "    for i in range(len(angles)):\n",
    "        temp_diff = np.abs(angles[i:] - angles[i])\n",
    "        temp_diff = round_step(temp_diff)\n",
    "        corr_temp = values[i:] * values[i]\n",
    "\n",
    "        angle_diff.extend(temp_diff.tolist())\n",
    "        corr_values.extend(corr_temp.tolist())\n",
    "        \n",
    "    angle_diff = np.asarray(angle_diff)\n",
    "    corr_values = np.asarray(corr_values)\n",
    "    \n",
    "    uni_angle = np.unique(angle_diff)\n",
    "    #print(uni_angle)\n",
    "    \n",
    "    for ang in uni_angle:\n",
    "        temp_ind = np.where(angle_diff==ang)\n",
    "        corr_val_total[int(ang)] = np.mean(corr_values[temp_ind]) - int_sqavg\n",
    "\n",
    "    return (corr_val_total / int_sqavg), corr_val_total"
   ]
  },
  {
   "cell_type": "markdown",
   "metadata": {},
   "source": [
    "# rotational symmetry evaluation directly from DPs"
   ]
  },
  {
   "cell_type": "code",
   "execution_count": null,
   "metadata": {},
   "outputs": [],
   "source": [
    "k_range = np.arange(25, 30, 1)"
   ]
  },
  {
   "cell_type": "code",
   "execution_count": null,
   "metadata": {},
   "outputs": [],
   "source": [
    "start_time = time.process_time()\n",
    "flatten_k = []\n",
    "for k in k_range:\n",
    "    temp = []\n",
    "    for i in range(cr_shape[0]):\n",
    "        for j in range(cr_shape[1]):\n",
    "            angle_map, angle_sel, value_sel = point_circle(stack_4d_cropped[i, j], k, center=center_mean.tolist())\n",
    "            angle_range = np.arange(0, 361, 1)\n",
    "            flat_val = np.zeros(angle_range.shape)\n",
    "            uni_angle = np.unique(angle_sel)\n",
    "            for ang in uni_angle:\n",
    "                temp_ind = np.where(angle_sel==ang)\n",
    "                flat_val[int(ang)] = value_sel[temp_ind]\n",
    "            temp.append(flat_val)     \n",
    "    flatten_k.append(temp)\n",
    "    print(\"%d radius completed\"%(k))\n",
    "    print(\"%d seconds have passed\"%(time.process_time()-start_time))\n",
    "print(\"all done\")"
   ]
  },
  {
   "cell_type": "code",
   "execution_count": null,
   "metadata": {},
   "outputs": [],
   "source": [
    "flatten_k = np.asarray(flatten_k).reshape(len(k_range), cr_shape[0], cr_shape[1], -1)\n",
    "print(flatten_k.shape)"
   ]
  },
  {
   "cell_type": "code",
   "execution_count": null,
   "metadata": {},
   "outputs": [],
   "source": [
    "%matplotlib qt"
   ]
  },
  {
   "cell_type": "code",
   "execution_count": null,
   "metadata": {},
   "outputs": [],
   "source": [
    "%matplotlib inline"
   ]
  },
  {
   "cell_type": "code",
   "execution_count": null,
   "metadata": {},
   "outputs": [],
   "source": [
    "flatk_fft = np.abs(np.fft.fft(flatten_k))\n",
    "print(flatk_fft.shape)\n",
    "flatk_fft_sum = np.sum(flatk_fft, axis=(1, 2))\n",
    "print(flatk_fft_sum.shape)"
   ]
  },
  {
   "cell_type": "code",
   "execution_count": null,
   "metadata": {},
   "outputs": [],
   "source": [
    "flatk_ps = periodogram(flatten_k)[1]\n",
    "print(flatk_ps.shape)\n",
    "flatk_ps_sum = np.sum(flatk_ps, axis=(1, 2))\n",
    "print(flatk_ps_sum.shape)"
   ]
  },
  {
   "cell_type": "code",
   "execution_count": null,
   "metadata": {},
   "outputs": [],
   "source": [
    "fig, ax = plt.subplots(1, 2, figsize=(5, 10))\n",
    "ax1 = ax[0].imshow(np.flip(flatk_fft_sum[:, 1:11].T, 0), cmap=\"afmhot\", \n",
    "                   extent=[k_range[0], k_range[-1], 0.5, 10.5], aspect=5, \n",
    "                   vmax=np.percentile(flatk_fft_sum, 95))\n",
    "ax2 = ax[1].imshow(np.flip(flatk_ps_sum[:, 1:11].T, 0), cmap=\"afmhot\", \n",
    "                   extent=[k_range[0], k_range[-1], 0.5, 10.5], aspect=5, \n",
    "                   vmax=np.percentile(flatk_ps_sum, 95))\n",
    "fig.tight_layout()\n",
    "plt.show()"
   ]
  },
  {
   "cell_type": "code",
   "execution_count": null,
   "metadata": {},
   "outputs": [],
   "source": [
    "k_selected = 27\n",
    "k_ind = np.where(k_range==k_selected)[0][0]\n",
    "print(k_ind)\n",
    "rot_sym = [2, 3, 4, 5, 6, 10]\n",
    "\n",
    "flatk_rot = []\n",
    "for r in rot_sym:\n",
    "    flatk_rot.append(flatk_fft[k_ind, :, :, r]/np.max(flatk_fft[k_ind, :, :, r]))\n",
    "flatk_rot = np.asarray(flatk_rot)\n",
    "print(flatk_rot.shape)"
   ]
  },
  {
   "cell_type": "code",
   "execution_count": null,
   "metadata": {},
   "outputs": [],
   "source": [
    "k_var_map = radial_var[:, :, k_selected]\n",
    "for i, r in enumerate(rot_sym):\n",
    "    fig, ax = plt.subplots(1, 3, figsize=(15, 5))\n",
    "    ax[0].imshow(flatk_rot[i], cmap=\"afmhot\")\n",
    "    ax[0].axis(\"off\")\n",
    "    ax[0].set_title(\"rotation symmetry %d\"%r)\n",
    "    ax[1].imshow(k_var_map, cmap=\"afmhot\")\n",
    "    ax[1].axis(\"off\")\n",
    "    ax[2].imshow(flatk_rot[i], cmap=\"afmhot\", alpha=0.8)\n",
    "    ax[2].contour(k_var_map, colors=\"k\", alpha=1.0, levels=5)\n",
    "    ax[2].axis(\"off\")\n",
    "    fig.tight_layout()\n",
    "    plt.show()"
   ]
  },
  {
   "cell_type": "code",
   "execution_count": null,
   "metadata": {},
   "outputs": [],
   "source": [
    "masked = radial_var[:, :, k_selected:(k_selected+1)]\n",
    "masked = masked / np.max(masked)\n",
    "\n",
    "p1_list = np.arange(50, 96, 1)\n",
    "p2 = 99.00\n",
    "v2 = np.percentile(masked, p2)\n",
    "xcorr_val = []\n",
    "mse_val = []\n",
    "ssim_val = []\n",
    "\n",
    "for i, r in enumerate(rot_sym):\n",
    "    tmp_xcorr = []\n",
    "    tmp_mse = []\n",
    "    tmp_ssim = []\n",
    "    for p1 in p1_list:\n",
    "        v1 = np.percentile(masked, p1)\n",
    "        bool_img = masked.copy()\n",
    "        bool_img[np.where(masked < v1)] = 0\n",
    "        bool_img[np.where(masked > v2)] = 0\n",
    "        cluster_img = np.sum(bool_img, axis=2)\n",
    "        cluster_img = cluster_img / np.max(cluster_img)\n",
    "\n",
    "        tmp_xcorr.append(np.correlate(flatk_rot[i].flatten(), cluster_img.flatten()))\n",
    "        tmp_mse.append(mean_squared_error(flatk_rot[i], cluster_img))\n",
    "        tmp_ssim.append(ssim(flatk_rot[i], cluster_img))\n",
    "        \"\"\"\n",
    "        fig, ax = plt.subplots(1, 1, figsize=(8, 4))\n",
    "        ax.imshow(ang_corr_k_sum, cmap=\"afmhot\", alpha=0.8)\n",
    "        ax.axis(\"off\")\n",
    "        ax.contour(cluster_img, colors=\"k\", alpha=1.0, levels=1)\n",
    "        ax.set_title(\"%.2f%% percent to 99.99%%\\nxcorr=%d, mse=%.4f, ssim=%.4f\"%(p1, xcorr_val[-1], mse_val[-1], ssim_val[-1]))\n",
    "        ax.axis(\"off\")    \n",
    "        fig.tight_layout()\n",
    "        plt.show()\n",
    "        \"\"\"\n",
    "    xcorr_val.append(tmp_xcorr)\n",
    "    mse_val.append(tmp_mse)\n",
    "    ssim_val.append(tmp_ssim)"
   ]
  },
  {
   "cell_type": "code",
   "execution_count": null,
   "metadata": {},
   "outputs": [],
   "source": [
    "for i, r in enumerate(rot_sym):\n",
    "    fig, ax = plt.subplots(1, 3, figsize=(15, 5))\n",
    "    ax[0].plot(p1_list, xcorr_val[i], \"k-\")\n",
    "    ax[0].grid()\n",
    "    ax[1].plot(p1_list, mse_val[i], \"k-\")\n",
    "    ax[1].grid()\n",
    "    ax[1].set_title(\"rotation symmetry %d\"%r)\n",
    "    ax[2].plot(p1_list, ssim_val[i], \"k-\")\n",
    "    ax[2].grid()\n",
    "    plt.show()"
   ]
  },
  {
   "cell_type": "code",
   "execution_count": null,
   "metadata": {},
   "outputs": [],
   "source": [
    "flatk_sum_rot = np.sum(flatk_fft[k_ind, :, :, rot_sym], axis=0)\n",
    "flatk_sum_rot = flatk_sum_rot / np.max(flatk_sum_rot)\n",
    "print(flatk_sum_rot.shape)\n",
    "\n",
    "fig, ax = plt.subplots(1, 3, figsize=(15, 5))\n",
    "ax[0].imshow(flatk_sum_rot, cmap=\"afmhot\")\n",
    "ax[0].axis(\"off\")\n",
    "ax[1].imshow(k_var_map, cmap=\"afmhot\")\n",
    "ax[1].axis(\"off\")\n",
    "ax[2].imshow(flatk_sum_rot, cmap=\"afmhot\", alpha=0.8)\n",
    "ax[2].contour(k_var_map, colors=\"k\", alpha=1.0, levels=5)\n",
    "ax[2].axis(\"off\")\n",
    "fig.tight_layout()\n",
    "plt.show()"
   ]
  },
  {
   "cell_type": "code",
   "execution_count": null,
   "metadata": {},
   "outputs": [],
   "source": [
    "masked = radial_var[:, :, k_selected:(k_selected+1)]\n",
    "masked = masked / np.max(masked)\n",
    "\n",
    "p1_list = np.arange(50, 96, 1)\n",
    "p2 = 99.00\n",
    "v2 = np.percentile(masked, p2)\n",
    "xcorr_val = []\n",
    "mse_val = []\n",
    "ssim_val = []\n",
    "\n",
    "for p1 in p1_list:\n",
    "    v1 = np.percentile(masked, p1)\n",
    "    bool_img = masked.copy()\n",
    "    bool_img[np.where(masked < v1)] = 0\n",
    "    bool_img[np.where(masked > v2)] = 0\n",
    "    cluster_img = np.sum(bool_img, axis=2)\n",
    "    cluster_img = cluster_img / np.max(cluster_img)\n",
    "    \n",
    "    xcorr_val.append(np.correlate(flatk_sum_rot.flatten(), cluster_img.flatten()))\n",
    "    mse_val.append(mean_squared_error(flatk_sum_rot, cluster_img))\n",
    "    ssim_val.append(ssim(flatk_sum_rot, cluster_img))\n",
    "    \n",
    "    fig, ax = plt.subplots(1, 1, figsize=(8, 4))\n",
    "    ax.imshow(flatk_sum_rot, cmap=\"afmhot\", alpha=0.8)\n",
    "    ax.axis(\"off\")\n",
    "    ax.contour(cluster_img, colors=\"k\", alpha=1.0, levels=5)\n",
    "    ax.set_title(\"%.2f%% percent to 99.99%%\\nxcorr=%d, mse=%.4f, ssim=%.4f\"%(p1, xcorr_val[-1], mse_val[-1], ssim_val[-1]))\n",
    "    ax.axis(\"off\")    \n",
    "    fig.tight_layout()\n",
    "    plt.show()"
   ]
  },
  {
   "cell_type": "code",
   "execution_count": null,
   "metadata": {},
   "outputs": [],
   "source": [
    "fig, ax = plt.subplots(1, 3, figsize=(15, 5))\n",
    "ax[0].plot(p1_list, xcorr_val, \"k-\")\n",
    "ax[0].grid()\n",
    "ax[1].plot(p1_list, mse_val, \"k-\")\n",
    "ax[1].grid()\n",
    "ax[2].plot(p1_list, ssim_val, \"k-\")\n",
    "ax[2].grid()\n",
    "plt.show()"
   ]
  },
  {
   "cell_type": "markdown",
   "metadata": {},
   "source": [
    "# angular correlation"
   ]
  },
  {
   "cell_type": "code",
   "execution_count": null,
   "metadata": {},
   "outputs": [],
   "source": [
    "%matplotlib inline"
   ]
  },
  {
   "cell_type": "code",
   "execution_count": null,
   "metadata": {},
   "outputs": [],
   "source": [
    "start_time = time.process_time()\n",
    "angular_corr_nor = []\n",
    "angular_corr_nonor = []\n",
    "print(k_range.shape)\n",
    "for k in k_range:\n",
    "    temp = []\n",
    "    temp_nonor = []\n",
    "    for i in range(cr_shape[0]):\n",
    "        for j in range(cr_shape[1]):\n",
    "            angle_map, angle_sel, value_sel = point_circle(stack_4d_cropped[i, j], k, center=center_mean.tolist())\n",
    "            ang_cor, ang_cor_nonor = angular_correlation(angle_sel, value_sel)\n",
    "            temp.append(ang_cor)\n",
    "            temp_nonor.append(ang_cor_nonor)\n",
    "    angular_corr_nor.append(temp)\n",
    "    angular_corr_nonor.append(temp_nonor)\n",
    "    print(\"%d radius completed\"%(k))\n",
    "    print(\"%d seconds have passed\"%(time.process_time()-start_time))\n",
    "print(\"all done\")"
   ]
  },
  {
   "cell_type": "code",
   "execution_count": null,
   "metadata": {},
   "outputs": [],
   "source": [
    "angular_corr = angular_corr_nor"
   ]
  },
  {
   "cell_type": "code",
   "execution_count": null,
   "metadata": {},
   "outputs": [],
   "source": [
    "angular_corr = np.asarray(angular_corr).reshape(len(k_range), cr_shape[0], cr_shape[1], -1)\n",
    "print(angular_corr.shape)\n",
    "ang_corr_sum = np.mean(angular_corr, axis=(1, 2))\n",
    "print(ang_corr_sum.shape)"
   ]
  },
  {
   "cell_type": "code",
   "execution_count": null,
   "metadata": {},
   "outputs": [],
   "source": [
    "fig, ax = plt.subplots(1, 2, figsize=(10, 10))\n",
    "ax[0].imshow(angle_map, cmap=\"gray\")\n",
    "ax[0].axis(\"off\")\n",
    "ax[1].imshow(np.flip(ang_corr_sum.T, 0), cmap=\"afmhot\", extent=[k_range[0], k_range[-1], angle_range[0]/10, angle_range[-1]/10])\n",
    "fig.tight_layout()\n",
    "plt.show()"
   ]
  },
  {
   "cell_type": "code",
   "execution_count": null,
   "metadata": {},
   "outputs": [],
   "source": [
    "ang_corr_fft = np.abs(np.fft.fft(angular_corr))\n",
    "print(ang_corr_fft.shape)\n",
    "ang_corr_fft_sum = np.abs(np.fft.fft(ang_corr_sum))\n",
    "print(ang_corr_fft_sum.shape)"
   ]
  },
  {
   "cell_type": "code",
   "execution_count": null,
   "metadata": {},
   "outputs": [],
   "source": [
    "ang_ps = periodogram(angular_corr)[1]\n",
    "print(ang_ps.shape)\n",
    "ang_ps_sum = periodogram(ang_corr_sum)[1]\n",
    "print(ang_ps_sum.shape)"
   ]
  },
  {
   "cell_type": "code",
   "execution_count": null,
   "metadata": {},
   "outputs": [],
   "source": [
    "%matplotlib qt"
   ]
  },
  {
   "cell_type": "code",
   "execution_count": null,
   "metadata": {},
   "outputs": [],
   "source": [
    "%matplotlib inline"
   ]
  },
  {
   "cell_type": "code",
   "execution_count": null,
   "metadata": {},
   "outputs": [],
   "source": [
    "fig, ax = plt.subplots(1, 2, figsize=(5, 10))\n",
    "ax1 = ax[0].imshow(np.flip(ang_corr_fft_sum[:, 1:11].T, 0), cmap=\"afmhot\", \n",
    "                   extent=[k_range[0], k_range[-1], 0.5, 10.5], aspect=5, \n",
    "                   vmax=np.max(ang_corr_fft_sum))\n",
    "ax2 = ax[1].imshow(np.flip(ang_ps_sum[:, 1:11].T, 0), cmap=\"afmhot\", \n",
    "                   extent=[k_range[0], k_range[-1], 0.5, 10.5], aspect=5, \n",
    "                   vmax=np.max(ang_ps_sum))\n",
    "fig.tight_layout()\n",
    "plt.show()"
   ]
  },
  {
   "cell_type": "code",
   "execution_count": null,
   "metadata": {},
   "outputs": [],
   "source": [
    "k_selected = 25\n",
    "k_ind = np.where(k_range==k_selected)[0][0]\n",
    "print(k_ind)\n",
    "rot_sym = [2, 3, 4, 5, 6, 10]\n",
    "\n",
    "ang_corr_rot = []\n",
    "for r in rot_sym:\n",
    "    ang_corr_rot.append(ang_corr_fft[k_ind, :, :, r]/np.max(ang_corr_fft[k_ind, :, :, r]))\n",
    "    #ang_corr_rot.append(ang_ps[k_ind, :, :, r]/np.max(ang_ps[k_ind, :, :, r]))\n",
    "ang_corr_rot = np.asarray(ang_corr_rot)\n",
    "print(ang_corr_rot.shape)"
   ]
  },
  {
   "cell_type": "code",
   "execution_count": null,
   "metadata": {},
   "outputs": [],
   "source": [
    "k_var_map = radial_var[:, :, k_selected]\n",
    "for i, r in enumerate(rot_sym):\n",
    "    fig, ax = plt.subplots(1, 3, figsize=(15, 5))\n",
    "    ax[0].imshow(ang_corr_rot[i], cmap=\"afmhot\")\n",
    "    ax[0].axis(\"off\")\n",
    "    ax[0].set_title(\"rotation symmetry %d\"%r)\n",
    "    ax[1].imshow(k_var_map, cmap=\"afmhot\")\n",
    "    ax[1].axis(\"off\")\n",
    "    ax[2].imshow(ang_corr_rot[i], cmap=\"afmhot\", alpha=0.8)\n",
    "    ax[2].contour(k_var_map, colors=\"k\", alpha=1.0, levels=5)\n",
    "    ax[2].axis(\"off\")\n",
    "    fig.tight_layout()\n",
    "    plt.show()"
   ]
  },
  {
   "cell_type": "code",
   "execution_count": null,
   "metadata": {},
   "outputs": [],
   "source": [
    "masked = radial_var[:, :, k_selected:(k_selected+1)]\n",
    "masked = masked / np.max(masked)\n",
    "\n",
    "p1_list = np.arange(50, 96, 1)\n",
    "p2 = 99.00\n",
    "v2 = np.percentile(masked, p2)\n",
    "xcorr_val = []\n",
    "mse_val = []\n",
    "ssim_val = []\n",
    "\n",
    "for i, r in enumerate(rot_sym):\n",
    "    tmp_xcorr = []\n",
    "    tmp_mse = []\n",
    "    tmp_ssim = []\n",
    "    for p1 in p1_list:\n",
    "        v1 = np.percentile(masked, p1)\n",
    "        bool_img = masked.copy()\n",
    "        bool_img[np.where(masked < v1)] = 0\n",
    "        bool_img[np.where(masked > v2)] = 0\n",
    "        cluster_img = np.sum(bool_img, axis=2)\n",
    "        cluster_img = cluster_img / np.max(cluster_img)\n",
    "\n",
    "        tmp_xcorr.append(np.correlate(ang_corr_rot[i].flatten(), cluster_img.flatten()))\n",
    "        tmp_mse.append(mean_squared_error(ang_corr_rot[i], cluster_img))\n",
    "        tmp_ssim.append(ssim(ang_corr_rot[i], cluster_img))\n",
    "        \"\"\"\n",
    "        fig, ax = plt.subplots(1, 1, figsize=(8, 4))\n",
    "        ax.imshow(ang_corr_k_sum, cmap=\"afmhot\", alpha=0.8)\n",
    "        ax.axis(\"off\")\n",
    "        ax.contour(cluster_img, colors=\"k\", alpha=1.0, levels=1)\n",
    "        ax.set_title(\"%.2f%% percent to 99.99%%\\nxcorr=%d, mse=%.4f, ssim=%.4f\"%(p1, xcorr_val[-1], mse_val[-1], ssim_val[-1]))\n",
    "        ax.axis(\"off\")    \n",
    "        fig.tight_layout()\n",
    "        plt.show()\n",
    "        \"\"\"\n",
    "    xcorr_val.append(tmp_xcorr)\n",
    "    mse_val.append(tmp_mse)\n",
    "    ssim_val.append(tmp_ssim)"
   ]
  },
  {
   "cell_type": "code",
   "execution_count": null,
   "metadata": {},
   "outputs": [],
   "source": [
    "for i, r in enumerate(rot_sym):\n",
    "    fig, ax = plt.subplots(1, 3, figsize=(15, 5))\n",
    "    ax[0].plot(p1_list, xcorr_val[i], \"k-\")\n",
    "    ax[0].grid()\n",
    "    ax[1].plot(p1_list, mse_val[i], \"k-\")\n",
    "    ax[1].grid()\n",
    "    ax[1].set_title(\"rotation symmetry %d\"%r)\n",
    "    ax[2].plot(p1_list, ssim_val[i], \"k-\")\n",
    "    ax[2].grid()\n",
    "    plt.show()"
   ]
  },
  {
   "cell_type": "code",
   "execution_count": null,
   "metadata": {},
   "outputs": [],
   "source": [
    "masked = radial_var[:, :, k_selected:(k_selected+1)]\n",
    "\n",
    "p1_list = np.arange(50, 96, 1)\n",
    "p2 = 99.00\n",
    "v2 = np.percentile(masked, p2)\n",
    "xcorr_val = []\n",
    "mse_val = []\n",
    "ssim_val = []\n",
    "\n",
    "for i, r in enumerate(rot_sym):\n",
    "    tmp_xcorr = []\n",
    "    tmp_mse = []\n",
    "    tmp_ssim = []\n",
    "    for p1 in p1_list:\n",
    "        v1 = np.percentile(masked, p1)\n",
    "        bool_img = np.ones_like(masked)\n",
    "        bool_img[np.where(masked < v1)] = 0\n",
    "        bool_img[np.where(masked > v2)] = 0\n",
    "        bool_img = np.sum(bool_img, axis=2)\n",
    "\n",
    "        db = DBSCAN(eps=1.5, min_samples=4)\n",
    "        sel_coor = np.nonzero(bool_img)\n",
    "        X = np.stack((sel_coor[0], sel_coor[1]), axis=1)\n",
    "        db.fit(X)\n",
    "        label = db.labels_\n",
    "        img_tmp = np.zeros_like(bool_img)\n",
    "        img_tmp += -1\n",
    "        img_tmp[X[:, 0], X[:, 1]] = label\n",
    "        cluster_img = np.where(img_tmp<0, img_tmp, 1)\n",
    "        cluster_img = np.where(cluster_img>-1, bool_img, 0)\n",
    "\n",
    "        tmp_xcorr.append(np.correlate(ang_corr_rot[i].flatten(), cluster_img.flatten()))\n",
    "        tmp_mse.append(mean_squared_error(ang_corr_rot[i], cluster_img))\n",
    "        tmp_ssim.append(ssim(ang_corr_rot[i], cluster_img))\n",
    "        \"\"\"\n",
    "        fig, ax = plt.subplots(1, 1, figsize=(8, 4))\n",
    "        ax.imshow(ang_corr_k_sum, cmap=\"afmhot\", alpha=0.8)\n",
    "        ax.axis(\"off\")\n",
    "        ax.contour(cluster_img, colors=\"k\", alpha=1.0, levels=1)\n",
    "        ax.set_title(\"%.2f%% percent to 99.99%%\\nxcorr=%d, mse=%.4f, ssim=%.4f\"%(p1, xcorr_val[-1], mse_val[-1], ssim_val[-1]))\n",
    "        ax.axis(\"off\")    \n",
    "        fig.tight_layout()\n",
    "        plt.show()\n",
    "        \"\"\"\n",
    "    xcorr_val.append(tmp_xcorr)\n",
    "    mse_val.append(tmp_mse)\n",
    "    ssim_val.append(tmp_ssim)"
   ]
  },
  {
   "cell_type": "code",
   "execution_count": null,
   "metadata": {},
   "outputs": [],
   "source": [
    "for i, r in enumerate(rot_sym):\n",
    "    fig, ax = plt.subplots(1, 3, figsize=(15, 5))\n",
    "    ax[0].plot(p1_list, xcorr_val[i], \"k-\")\n",
    "    ax[0].grid()\n",
    "    ax[1].plot(p1_list, mse_val[i], \"k-\")\n",
    "    ax[1].grid()\n",
    "    ax[1].set_title(\"rotation symmetry %d\"%r)\n",
    "    ax[2].plot(p1_list, ssim_val[i], \"k-\")\n",
    "    ax[2].grid()\n",
    "    plt.show()"
   ]
  },
  {
   "cell_type": "code",
   "execution_count": null,
   "metadata": {},
   "outputs": [],
   "source": [
    "k_selected = 25\n",
    "k_ind = np.where(k_range==k_selected)[0][0]\n",
    "print(k_ind)\n",
    "rot_sym = [2, 3, 4, 5, 6, 10]\n",
    "ang_corr_k_sum = np.sum(ang_corr_fft[k_ind, :, :, rot_sym], axis=0)\n",
    "#ang_corr_k_sum = np.sum(ang_ps[k_ind, :, :, rot_sym], axis=0)\n",
    "ang_corr_k_sum = ang_corr_k_sum / np.max(ang_corr_k_sum)\n",
    "print(ang_corr_k_sum.shape)"
   ]
  },
  {
   "cell_type": "code",
   "execution_count": null,
   "metadata": {},
   "outputs": [],
   "source": [
    "fig, ax = plt.subplots(1, 1, figsize=(5,5))\n",
    "ax.imshow(ang_corr_k_sum, cmap=\"afmhot\")\n",
    "ax.axis(\"off\")\n",
    "fig.tight_layout()\n",
    "plt.show()"
   ]
  },
  {
   "cell_type": "code",
   "execution_count": null,
   "metadata": {},
   "outputs": [],
   "source": [
    "masked = radial_var[:, :, k_selected:(k_selected+1)]\n",
    "masked = masked / np.max(masked)\n",
    "\n",
    "p1_list = np.arange(50, 96, 1)\n",
    "p2 = 99.00\n",
    "v2 = np.percentile(masked, p2)\n",
    "xcorr_val = []\n",
    "mse_val = []\n",
    "ssim_val = []\n",
    "\n",
    "for p1 in p1_list:\n",
    "    v1 = np.percentile(masked, p1)\n",
    "    bool_img = masked.copy()\n",
    "    bool_img[np.where(masked < v1)] = 0\n",
    "    bool_img[np.where(masked > v2)] = 0\n",
    "    cluster_img = np.sum(bool_img, axis=2)\n",
    "    cluster_img = cluster_img / np.max(cluster_img)\n",
    "    \n",
    "    xcorr_val.append(np.correlate(ang_corr_k_sum.flatten(), cluster_img.flatten()))\n",
    "    mse_val.append(mean_squared_error(ang_corr_k_sum, cluster_img))\n",
    "    ssim_val.append(ssim(ang_corr_k_sum, cluster_img))\n",
    "    \n",
    "    fig, ax = plt.subplots(1, 1, figsize=(8, 4))\n",
    "    ax.imshow(ang_corr_k_sum, cmap=\"afmhot\", alpha=0.8)\n",
    "    ax.axis(\"off\")\n",
    "    ax.contour(cluster_img, colors=\"k\", alpha=1.0, levels=5)\n",
    "    ax.set_title(\"%.2f%% percent to 99.99%%\\nxcorr=%d, mse=%.4f, ssim=%.4f\"%(p1, xcorr_val[-1], mse_val[-1], ssim_val[-1]))\n",
    "    ax.axis(\"off\")    \n",
    "    fig.tight_layout()\n",
    "    plt.show()"
   ]
  },
  {
   "cell_type": "code",
   "execution_count": null,
   "metadata": {},
   "outputs": [],
   "source": [
    "fig, ax = plt.subplots(3, 1, figsize=(5, 8))\n",
    "ax[0].plot(p1_list, xcorr_val, \"k-\")\n",
    "ax[0].grid()\n",
    "ax[1].plot(p1_list, mse_val, \"k-\")\n",
    "ax[1].grid()\n",
    "ax[2].plot(p1_list, ssim_val, \"k-\")\n",
    "ax[2].grid()\n",
    "plt.show()"
   ]
  },
  {
   "cell_type": "code",
   "execution_count": null,
   "metadata": {},
   "outputs": [],
   "source": [
    "masked = radial_var[:, :, k_selected:(k_selected+1)]\n",
    "\n",
    "p1_list = np.arange(50, 96, 1)\n",
    "p2 = 99.00\n",
    "v2 = np.percentile(masked, p2)\n",
    "xcorr_val = []\n",
    "mse_val = []\n",
    "ssim_val = []\n",
    "\n",
    "for p1 in p1_list:\n",
    "    v1 = np.percentile(masked, p1)\n",
    "    bool_img = np.ones_like(masked)\n",
    "    bool_img[np.where(masked < v1)] = 0\n",
    "    bool_img[np.where(masked > v2)] = 0\n",
    "    bool_img = np.sum(bool_img, axis=2)\n",
    "    \n",
    "    db = DBSCAN(eps=1.5, min_samples=4)\n",
    "    sel_coor = np.nonzero(bool_img)\n",
    "    X = np.stack((sel_coor[0], sel_coor[1]), axis=1)\n",
    "    db.fit(X)\n",
    "    label = db.labels_\n",
    "    img_tmp = np.zeros_like(bool_img)\n",
    "    img_tmp += -1\n",
    "    img_tmp[X[:, 0], X[:, 1]] = label\n",
    "    cluster_img = np.where(img_tmp<0, img_tmp, 1)\n",
    "    cluster_img = np.where(cluster_img>-1, bool_img, 0)\n",
    "    \n",
    "    xcorr_val.append(np.correlate(ang_corr_k_sum.flatten(), cluster_img.flatten()))\n",
    "    mse_val.append(mean_squared_error(ang_corr_k_sum, cluster_img))\n",
    "    ssim_val.append(ssim(ang_corr_k_sum, cluster_img))\n",
    "    \n",
    "    fig, ax = plt.subplots(1, 1, figsize=(8, 4))\n",
    "    ax.imshow(ang_corr_k_sum, cmap=\"afmhot\", alpha=0.8)\n",
    "    ax.axis(\"off\")\n",
    "    ax.contour(cluster_img, colors=\"k\", alpha=1.0, levels=5)\n",
    "    ax.set_title(\"%.2f%% percent to 99.99%%\\nxcorr=%d, mse=%.4f, ssim=%.4f\"%(p1, xcorr_val[-1], mse_val[-1], ssim_val[-1]))\n",
    "    ax.axis(\"off\")    \n",
    "    fig.tight_layout()\n",
    "    plt.show()"
   ]
  },
  {
   "cell_type": "code",
   "execution_count": null,
   "metadata": {},
   "outputs": [],
   "source": [
    "fig, ax = plt.subplots(3, 1, figsize=(5, 8))\n",
    "ax[0].plot(p1_list, xcorr_val, \"k-\")\n",
    "ax[0].grid()\n",
    "ax[1].plot(p1_list, mse_val, \"k-\")\n",
    "ax[1].grid()\n",
    "ax[2].plot(p1_list, ssim_val, \"k-\")\n",
    "ax[2].grid()\n",
    "plt.show()"
   ]
  },
  {
   "cell_type": "markdown",
   "metadata": {},
   "source": [
    "# large variance & STEM"
   ]
  },
  {
   "cell_type": "code",
   "execution_count": null,
   "metadata": {},
   "outputs": [],
   "source": [
    "%matplotlib qt\n",
    "fig = plt.figure(figsize=(15, 5))\n",
    "G = gridspec.GridSpec(2, 5)\n",
    "ax0 = plt.subplot(G[0, 0])\n",
    "ax1 = plt.subplot(G[0, 1])\n",
    "ax2 = plt.subplot(G[0, 2])\n",
    "ax3 = plt.subplot(G[1, 0])\n",
    "ax4 = plt.subplot(G[1, 1])\n",
    "ax5 = plt.subplot(G[1, 2])\n",
    "ax6 = plt.subplot(G[:, 3:])\n",
    "\n",
    "radii = np.arange(len(radial_var_sum))\n",
    "#pacbed = np.mean(stack_4d_cropped, axis=(0, 1))\n",
    "pacbed = np.mean(stack_4d_cropped, axis=(0, 1))\n",
    "cluster_result = [\"dummy\"]\n",
    "\n",
    "def var_selector(di, do, uth, lth, k1, k2, p1, p2):\n",
    "    \n",
    "    v1 = np.percentile(radial_var[:, :, k1:(k2+1)], p1)\n",
    "    v2 = np.percentile(radial_var[:, :, k1:(k2+1)], p2)\n",
    "    \n",
    "    ax0.cla()\n",
    "    ax1.cla()\n",
    "    ax2.cla()\n",
    "    ax3.cla()\n",
    "    ax4.cla()\n",
    "    ax5.cla()\n",
    "    ax6.cla()\n",
    "\n",
    "    ax0.plot(radii, radial_var_sum, \"k-\", c=\"black\")\n",
    "    ax0.fill_between([k1, k2], np.max(radial_var_spectrum), alpha=0.5, color=\"orange\")\n",
    "    ax0.set_title(\"rotational variance profile\")\n",
    "    ax0.grid()\n",
    "    \n",
    "    del cluster_result[:]\n",
    "    \n",
    "    masked = radial_var[:, :, k1:(k2+1)]\n",
    "    binsize = masked.shape[0]*masked.shape[1]\n",
    "    ax1.hist(masked.flatten(), bins=binsize, color=\"darkgray\")\n",
    "    ax1.fill_between([v1, v2], ax1.get_ylim()[1], alpha=0.5, color=\"orange\")\n",
    "    ax1.set_title(\"variance histogram for a selected k-range\")\n",
    "    ax1.grid()\n",
    "    \n",
    "    bool_img = np.ones_like(masked)\n",
    "    bool_img[np.where(masked < v1)] = 0\n",
    "    bool_img[np.where(masked > v2)] = 0\n",
    "    img = np.sum(bool_img, axis=2)\n",
    "    ax2.imshow(img, cmap=\"afmhot\")\n",
    "    ax2.set_title(\"variance map, larger than threshold\")\n",
    "    ax2.axis(\"off\")\n",
    "    \n",
    "    cluster_result.append(img)\n",
    "    \n",
    "    if di > do:\n",
    "        det = [do, di]\n",
    "        print(\"Warning! detector 1 (inner angle > outer angle)\")\n",
    "    else:\n",
    "        det = [di, do]\n",
    "        \n",
    "        \n",
    "    ri = radial_indices(f_shape[2:], det, center=center_mean.tolist())\n",
    "    \n",
    "    ax3.imshow(pacbed, cmap=\"gray\")\n",
    "    ax3.imshow(ri, cmap=\"Reds\", alpha=0.3)\n",
    "    ax3.set_title(\"detector range\")\n",
    "    ax3.axis(\"off\")\n",
    "    \n",
    "    stem = np.sum(np.multiply(stack_4d_cropped, ri), axis=(2, 3))\n",
    "    ax4.imshow(stem, cmap=\"afmhot\")\n",
    "    ax4.set_title(\"STEM image\")\n",
    "    ax4.axis(\"off\")\n",
    "    \n",
    "    stem_bool = np.ones_like(stem)\n",
    "    stem_bool[np.where(stem > np.percentile(stem, uth))] = 0.0\n",
    "    stem_bool[np.where(stem <= np.percentile(stem, lth))] = 0.0\n",
    "    \n",
    "    ax5.imshow(stem_bool, cmap=\"summer\")\n",
    "    ax5.set_title(\"STEM, larger than threshold\")\n",
    "    ax5.axis(\"off\")\n",
    "\n",
    "    ax6.imshow(stem_bool, cmap=\"summer\")\n",
    "    ax6.imshow(img, cmap=\"afmhot\", alpha=0.3)\n",
    "    ax6.set_title(\"variance vs. STEM\")\n",
    "    ax6.axis(\"off\")\n",
    "    \n",
    "    fig.canvas.draw()\n",
    "    fig.tight_layout()\n",
    "\n",
    "st = {\"description_width\": \"initial\"}\n",
    "din = pyw.IntText(value=25, description=\"D1 inner angle: \", style=st)\n",
    "dout = pyw.IntText(value=30, description=\"D1 outer angle: \", style=st)\n",
    "up_th = pyw.IntText(value=10, description=\"STEM upper threshold: \", style=st)\n",
    "lo_th = pyw.IntText(value=0, description=\"STEM lower threshold: \", style=st)\n",
    "k1_widget = pyw.IntText(value=25, description=\"left of k-range\", style=st)\n",
    "k2_widget = pyw.IntText(value=30, description=\"right of k-range\", style=st)\n",
    "p1_widget = pyw.FloatText(value=90.0, description=\"left percentile of variance range\", style=st)\n",
    "p2_widget = pyw.FloatText(value=99.999, description=\"right percentile of variance range\", style=st)\n",
    "\n",
    "pyw.interact(var_selector, di=din, do=dout, uth=up_th, lth=lo_th, k1=k1_widget, k2=k2_widget, p1=p1_widget, p2=p2_widget)\n",
    "fig.show()"
   ]
  }
 ],
 "metadata": {
  "kernelspec": {
   "display_name": "Python 3",
   "language": "python",
   "name": "python3"
  },
  "language_info": {
   "codemirror_mode": {
    "name": "ipython",
    "version": 3
   },
   "file_extension": ".py",
   "mimetype": "text/x-python",
   "name": "python",
   "nbconvert_exporter": "python",
   "pygments_lexer": "ipython3",
   "version": "3.7.10"
  },
  "widgets": {
   "application/vnd.jupyter.widget-state+json": {
    "state": {},
    "version_major": 2,
    "version_minor": 0
   }
  }
 },
 "nbformat": 4,
 "nbformat_minor": 4
}
