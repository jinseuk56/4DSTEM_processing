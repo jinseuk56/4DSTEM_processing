{
 "cells": [
  {
   "cell_type": "code",
   "execution_count": 1,
   "metadata": {},
   "outputs": [
    {
     "name": "stderr",
     "output_type": "stream",
     "text": [
      "C:\\Users\\RYUEMSL\\Anaconda3\\envs\\necessary\\lib\\site-packages\\pyUSID\\viz\\__init__.py:18: FutureWarning: Please use sidpy.viz.plot_utils instead of pyUSID.viz.plot_utils. pyUSID.plot_utils will be removed in a future release of pyUSID\n",
      "  FutureWarning)\n",
      "WARNING:hyperspy_gui_traitsui:The module://ipykernel.pylab.backend_inline matplotlib backend is not compatible with the traitsui GUI elements. For more information, read http://hyperspy.readthedocs.io/en/stable/user_guide/getting_started.html#possible-warnings-when-importing-hyperspy.\n",
      "WARNING:hyperspy_gui_traitsui:The traitsui GUI elements are not available.\n"
     ]
    }
   ],
   "source": [
    "# J. Ryu, Electron Microscopy and Spectroscopy Lab., Seoul National University\n",
    "import numpy as np\n",
    "import matplotlib.pyplot as plt\n",
    "import hyperspy.api as hys\n",
    "import tifffile as tff\n",
    "import tkinter.filedialog as tkf\n",
    "import ipywidgets as pyw\n",
    "from tabulate import tabulate\n",
    "from sklearn.cluster import DBSCAN"
   ]
  },
  {
   "cell_type": "code",
   "execution_count": null,
   "metadata": {},
   "outputs": [],
   "source": [
    "%matplotlib inline"
   ]
  },
  {
   "cell_type": "code",
   "execution_count": 3,
   "metadata": {},
   "outputs": [
    {
     "name": "stdout",
     "output_type": "stream",
     "text": [
      "[1, 1, 1, 1]\n"
     ]
    }
   ],
   "source": [
    "num_split = 4\n",
    "adr = []\n",
    "num_adr = []\n",
    "for i in range(num_split):\n",
    "    temp = tkf.askopenfilenames()\n",
    "    num_adr.append(len(temp))\n",
    "    adr.append(temp)\n",
    "print(num_adr)\n",
    "num_img = np.max(num_adr)"
   ]
  },
  {
   "cell_type": "code",
   "execution_count": 34,
   "metadata": {},
   "outputs": [
    {
     "name": "stdout",
     "output_type": "stream",
     "text": [
      "0.27045890769499215\n",
      "0.13728878897944344\n",
      "[ 0  1  2  3  4  5  6  7  8  9 10 11 12 13 14 15 16 17 18 19 20 21 22 23\n",
      " 24 25 26 27 28 29 30 31 32 33 34]\n"
     ]
    }
   ],
   "source": [
    "#camera_length = 1.1462 # m\n",
    "#pixel_size = 150E-6 # m\n",
    "#mrad_per_pixel = np.arctan(pixel_size / camera_length) * 1000# mrad\n",
    "mrad_per_pixel = 0.27045890769499215 # mrad\n",
    "print(mrad_per_pixel)\n",
    "rel_lmb = 0.00197 # nm, relativistic wavelength for 300 kV\n",
    "k_per_pixel = np.tan(mrad_per_pixel/1000) / rel_lmb# 1/nm\n",
    "print(k_per_pixel)\n",
    "r_per_pixel = 0.440 # nm\n",
    "\n",
    "s_dim = 35\n",
    "cb_rad = 10\n",
    "k_list = np.arange(s_dim)\n",
    "print(k_list)"
   ]
  },
  {
   "cell_type": "code",
   "execution_count": 35,
   "metadata": {},
   "outputs": [
    {
     "name": "stdout",
     "output_type": "stream",
     "text": [
      "D:/repository/data_repository/4D/20210404_IGZO_TZ/20210406_processed/t1r3_cropped_2_radial_var_radial.hdf5\n",
      "(50, 186, 89)\n",
      "(50, 186, 35)\n",
      "D:/repository/data_repository/4D/20210404_IGZO_TZ/20210406_processed/t2r3_cropped_2_radial_var_radial.hdf5\n",
      "(50, 186, 89)\n",
      "(50, 186, 35)\n",
      "D:/repository/data_repository/4D/20210404_IGZO_TZ/20210406_processed/t3r3_cropped_2_radial_var_radial.hdf5\n",
      "(50, 186, 89)\n",
      "(50, 186, 35)\n",
      "D:/repository/data_repository/4D/20210404_IGZO_TZ/20210406_processed/t4r3_cropped_2_radial_var_radial.hdf5\n",
      "(50, 186, 89)\n",
      "(50, 186, 35)\n"
     ]
    }
   ],
   "source": [
    "data_by_split = []\n",
    "data_flat = []\n",
    "data_flat_by_split = []\n",
    "data_shape = []\n",
    "for i in range(num_split):\n",
    "    temp = []\n",
    "    temp_shape = []\n",
    "    temp_flat = []\n",
    "    for path in adr[i]:\n",
    "        print(path)\n",
    "        tmp = hys.load(path).data\n",
    "        print(tmp.shape)\n",
    "        if len(np.where(tmp[0, 0] == 0.0)[0]) != cb_rad:\n",
    "            tmp = np.insert(tmp, 0, 0, axis=2)        \n",
    "        \n",
    "        tmp = tmp[:, :, :s_dim]\n",
    "        print(tmp.shape)\n",
    "        temp.append(tmp)\n",
    "        temp_shape.append(tmp.shape)\n",
    "        temp_flat.extend(tmp.reshape(-1, tmp.shape[2]).tolist())\n",
    "        data_flat.extend(tmp.reshape(-1, tmp.shape[2]).tolist())\n",
    "    data_by_split.append(temp)\n",
    "    data_shape.append(temp_shape)\n",
    "    data_flat_by_split.append(temp_flat)"
   ]
  },
  {
   "cell_type": "code",
   "execution_count": 36,
   "metadata": {},
   "outputs": [
    {
     "name": "stdout",
     "output_type": "stream",
     "text": [
      "(37200, 35)\n",
      "(4, 1, 3)\n",
      "[35]\n",
      "35\n"
     ]
    }
   ],
   "source": [
    "data_flat = np.asarray(data_flat)\n",
    "print(data_flat.shape)\n",
    "data_shape = np.asarray(data_shape)\n",
    "print(data_shape.shape)\n",
    "print(np.unique(data_shape[:, :, 2]))\n",
    "s_dim = np.min(data_shape[:, :, 2])\n",
    "print(s_dim)"
   ]
  },
  {
   "cell_type": "code",
   "execution_count": 37,
   "metadata": {},
   "outputs": [],
   "source": [
    "radial_var_sum = []\n",
    "for arr in data_by_split:\n",
    "    temp = []\n",
    "    for img in arr:\n",
    "        temp.append(np.mean(img, axis=(0, 1)))\n",
    "    radial_var_sum.append(temp)"
   ]
  },
  {
   "cell_type": "code",
   "execution_count": 38,
   "metadata": {},
   "outputs": [
    {
     "name": "stdout",
     "output_type": "stream",
     "text": [
      "16\n"
     ]
    }
   ],
   "source": [
    "color_rep = [\"black\", \"gray\", \"green\", \"red\", \"orange\", \"blue\", \"purple\", \"hotpink\", \"lime\", \"cyan\", \"magenta\", \"lightgray\", \"peru\", \"springgreen\", \"deepskyblue\", \"yellow\"]\n",
    "print(len(color_rep))"
   ]
  },
  {
   "cell_type": "code",
   "execution_count": 39,
   "metadata": {},
   "outputs": [],
   "source": [
    "%matplotlib inline"
   ]
  },
  {
   "cell_type": "code",
   "execution_count": 40,
   "metadata": {},
   "outputs": [
    {
     "data": {
      "image/png": "[encoded data removed]",
      "text/plain": [
       "<Figure size 720x432 with 1 Axes>"
      ]
     },
     "metadata": {
      "needs_background": "light"
     },
     "output_type": "display_data"
    }
   ],
   "source": [
    "fig, ax = plt.subplots(1, 1, figsize=(10, 6))\n",
    "ax.tick_params(axis=\"x\", labelsize=15)\n",
    "for i in range(num_split):\n",
    "    for line in radial_var_sum[i]:\n",
    "        ax.plot(k_list, line, color=color_rep[i+1], linestyle=\"-\", label=\"split %d\"%(i+1))\n",
    "ax.grid()\n",
    "#fig.legend(fontsize=\"xx-large\")\n",
    "fig.tight_layout()\n",
    "plt.show()"
   ]
  },
  {
   "cell_type": "code",
   "execution_count": 41,
   "metadata": {},
   "outputs": [
    {
     "name": "stdout",
     "output_type": "stream",
     "text": [
      "0.1922446360890317\n",
      "0.19080645564035448\n",
      "0.20879063537018136\n",
      "0.23595045418532581\n"
     ]
    },
    {
     "data": {
      "image/png": "[encoded data removed]",
      "text/plain": [
       "<Figure size 720x432 with 1 Axes>"
      ]
     },
     "metadata": {
      "needs_background": "light"
     },
     "output_type": "display_data"
    }
   ],
   "source": [
    "radial_var_split = []\n",
    "for i in range(num_split):\n",
    "    radial_var_split.append(np.mean(data_flat_by_split[i], axis=0))\n",
    "    \n",
    "fig, ax = plt.subplots(1, 1, figsize=(10, 6))\n",
    "ax.tick_params(axis=\"x\", labelsize=15)\n",
    "for i in range(num_split):\n",
    "    ax.plot(k_list, radial_var_split[i], color=color_rep[i+1], linestyle=\"-\", label=\"split %d\"%(i+1))\n",
    "    print(np.max(radial_var_split[i]))\n",
    "ax.grid()\n",
    "fig.legend(fontsize=\"xx-large\")\n",
    "fig.tight_layout()\n",
    "plt.show()"
   ]
  },
  {
   "cell_type": "code",
   "execution_count": 42,
   "metadata": {},
   "outputs": [],
   "source": [
    "# assume the shape of clusters is circle\n",
    "def cluster_size(img):\n",
    "    label = np.unique(img)\n",
    "    label = label[label != -1]\n",
    "    #print(label)\n",
    "    cluster_size = []\n",
    "    for i in label:\n",
    "        cluster_size.append(len(np.where(img==i)[0]))\n",
    "    cluster_size = np.sort(cluster_size)\n",
    "    #print(cluster_size)\n",
    "\n",
    "    largest = 2*np.sqrt(cluster_size[-1]/np.pi)\n",
    "    smallest = 2*np.sqrt(cluster_size[0]/np.pi)\n",
    "    avg = 2*np.sqrt(np.mean(cluster_size)/np.pi)\n",
    "    avg_peri = 2*np.sqrt(np.mean(cluster_size)*np.pi)\n",
    "    \n",
    "    return avg, avg_peri, largest, smallest"
   ]
  },
  {
   "cell_type": "code",
   "execution_count": 62,
   "metadata": {},
   "outputs": [
    {
     "data": {
      "application/vnd.jupyter.widget-view+json": {
       "model_id": "ab0c04ceef414082beca0e034dbc46b9",
       "version_major": 2,
       "version_minor": 0
      },
      "text/plain": [
       "interactive(children=(IntText(value=28, description='left of k-range', style=DescriptionStyle(description_widt…"
      ]
     },
     "metadata": {},
     "output_type": "display_data"
    }
   ],
   "source": [
    "%matplotlib qt\n",
    "\n",
    "#fig3, ax3 = plt.subplots(1, 5, figsize=(20, 6))\n",
    "fig3, ax3 = plt.subplots(1, 4, figsize=(20, 6))\n",
    "row_label = [\"area (%)\", \"# of clusters (per 10000 nm^2)\", \"mean size (nm)\", \"largest size (nm)\", \"smallest size (nm)\"]\n",
    "\n",
    "def selector(k1, k2, p1, p2, m, e, split, n_img, save_option):\n",
    "    db = DBSCAN(eps=e, min_samples=m)\n",
    "    ind = num_img*(split-1)+n_img-1\n",
    "\n",
    "    ax3[0].cla()\n",
    "    ax3[1].cla()\n",
    "    ax3[2].cla()\n",
    "    ax3[3].cla()\n",
    "    #ax3[4].cla()\n",
    "    \n",
    "    for i in range(num_split):\n",
    "        ax3[0].plot(radial_var_split[i], color=color_rep[i+1], linestyle=\"-\", label=\"split %d\"%(i+1))\n",
    "    \n",
    "    flat = np.array(data_by_split[split-1][n_img-1])[:, :, k1:(k2+1)].flatten()\n",
    "    binsize = int(0.005*len(flat))\n",
    "    print(\"binning size (histogram) = %d\"%binsize)\n",
    "    ax3[1].hist(flat, bins=binsize, color=color_rep[split], label=\"split %d\"%(split), density=True, histtype=\"step\")\n",
    "    \n",
    "    print(\"left k = %f\"%(k1*k_per_pixel))\n",
    "    print(\"right k = %f\"%(k2*k_per_pixel))\n",
    "    \n",
    "    histo, hist_edges = np.histogram(flat, bins=binsize, density=True)\n",
    "    grad = np.gradient(histo)\n",
    "    second_order = np.gradient(grad)\n",
    "    zero_closest = np.argsort(np.square(second_order))\n",
    "    \n",
    "    ax3[1].plot(hist_edges[1:], grad, \"k+\")\n",
    "    ax3[1].plot(hist_edges[1:], second_order, \"r-\")\n",
    "    \n",
    "    v1 = np.percentile(flat, p1)\n",
    "    v2 = np.percentile(flat, p2)\n",
    "    print(\"left variance = %f\"%v1)\n",
    "    print(\"right variance = %f\"%v2)\n",
    "    \n",
    "    ax3[0].fill_between([k1, k2], np.max(radial_var_split), alpha=0.5, color=\"orange\")\n",
    "    ax3[0].grid()\n",
    "    #ax3[0].legend(fontsize=\"xx-large\")\n",
    "    ax3[1].fill_between([v1, v2], ax3[1].get_ylim()[1], alpha=0.5, color=\"orange\")\n",
    "    ax3[1].grid()    \n",
    "    \n",
    "    img = np.array(data_by_split[split-1][n_img-1])[:, :, k1:(k2+1)]\n",
    "    img[np.where(img < v1)] = 0\n",
    "    img[np.where(img > v2)] = 0\n",
    "    img[np.where(img != 0)] = 1\n",
    "    bool_img = np.sum(img, axis=2)\n",
    "    bool_img = np.divide(bool_img, np.where(bool_img!=0, bool_img, 1))\n",
    "    ax3[2].imshow(bool_img, cmap=\"afmhot\")\n",
    "    ax3[2].axis(\"off\")\n",
    "    ax3[2].set_title(\"%.2f %%\"%(np.sum(bool_img)*100/(img.shape[0]*img.shape[1])))\n",
    "        \n",
    "    sel_coor = np.nonzero(bool_img)\n",
    "    X = np.stack((sel_coor[0], sel_coor[1]), axis=1)\n",
    "    db.fit(X)\n",
    "    label = db.labels_\n",
    "    img_tmp = np.zeros_like(bool_img)\n",
    "    img_tmp += -1\n",
    "    img_tmp[X[:, 0], X[:, 1]] = label\n",
    "    cluster_img = np.where(img_tmp<0, img_tmp, 1)\n",
    "    cluster_img = np.where(cluster_img>-1, bool_img, 0)\n",
    "    #ax3[3].set_title(\"split %d, image %d, epsilon=%.1f, min_#_of_samples=%d\"%(split, n_img, e, m), fontsize=10)\n",
    "    ax3[3].imshow(cluster_img, cmap=\"afmhot\")\n",
    "    ax3[3].axis(\"off\")\n",
    "    \n",
    "    area = np.around(100 * np.sum(cluster_img) / (img_tmp.shape[0]*img_tmp.shape[1]), decimals=2)\n",
    "    per_10000sqnm = 10000 / (img_tmp.shape[0]*img_tmp.shape[1]*r_per_pixel**2)\n",
    "    n_cluster = np.around((len(np.unique(label)) - 1) * per_10000sqnm, decimals=0)\n",
    "    if n_cluster != 0:\n",
    "        avg, avg_peri, largest, smallest = cluster_size(img_tmp)\n",
    "        avg = np.around(avg*r_per_pixel, decimals=2)\n",
    "        avg_peri = np.around(avg_peri*r_per_pixel, decimals=2)\n",
    "        largest = np.around(largest*r_per_pixel, decimals=2)\n",
    "        smallest = np.around(smallest*r_per_pixel, decimals=2)\n",
    "        table_vals = [[area], [n_cluster], [avg], [largest], [smallest]]\n",
    "        print(\"----------------------------------------\")\n",
    "        print(\"split %d, image %d\"%(split, n_img))\n",
    "        print(\"epsilon=%.1f, minimum # of samples=%d\"%(e, m))\n",
    "        print(tabulate([[\"area (%)\", area], [\"# of cluster (per 10000 nm^2)\", n_cluster], [\"mean perimeter\", avg_peri], \n",
    "                        [\"mean size\", avg], [\"largest size\", largest], [\"smallest size\", smallest]]))\n",
    "        \n",
    "    else:\n",
    "        print(\"----------------------------------------\")\n",
    "        print(\"there is no clusters\")\n",
    "\n",
    "    if save_option:\n",
    "        tff.imsave(tkf.asksaveasfilename(), cluster_img)\n",
    "    \n",
    "    fig3.tight_layout()\n",
    "\n",
    "st = {\"description_width\": \"initial\"}    \n",
    "k1_widget = pyw.IntText(value=28, description=\"left of k-range\", style=st)\n",
    "k2_widget = pyw.IntText(value=28, description=\"right of k-range\", style=st)\n",
    "p1_widget = pyw.FloatText(value=90.0, description=\"left percentile of variance range\", style=st)\n",
    "p2_widget = pyw.FloatText(value=99.999, description=\"right percentile of variance range\", style=st)\n",
    "\n",
    "min_widget = pyw.IntText(value=4, description=\"minimum # of cluster pixels\", style=st)\n",
    "eps_widget = pyw.FloatText(value=1.5, description=\"epsilon: \", style=st)\n",
    "split_widget = pyw.Dropdown(options=np.arange(num_split)+1, value = 1, description=\"split: \", style=st)\n",
    "n_img_widget = pyw.Dropdown(options=np.arange(np.max(num_adr))+1, value = 1, description=\"image: \", style=st)\n",
    "save_widget = pyw.Checkbox(value=False, description=\"save the result\")\n",
    "\n",
    "pyw.interact(selector, k1=k1_widget, k2=k2_widget, p1=p1_widget, p2=p2_widget, m=min_widget, e=eps_widget, \n",
    "             split=split_widget, n_img=n_img_widget, save_option=save_widget)\n",
    "fig3.show()"
   ]
  },
  {
   "cell_type": "code",
   "execution_count": 43,
   "metadata": {
    "jupyter": {
     "source_hidden": true
    }
   },
   "outputs": [
    {
     "data": {
      "application/vnd.jupyter.widget-view+json": {
       "model_id": "95c55fa308eb41ce9987bef3312124b7",
       "version_major": 2,
       "version_minor": 0
      },
      "text/plain": [
       "interactive(children=(IntText(value=28, description='left of k-range', style=DescriptionStyle(description_widt…"
      ]
     },
     "metadata": {},
     "output_type": "display_data"
    }
   ],
   "source": [
    "%matplotlib qt\n",
    "binsize = 2000\n",
    "fig1, ax1 = plt.subplots(1, 2, figsize=(15, 6))\n",
    "fig2, ax2 = plt.subplots(num_split, num_img, figsize=(15, 15))\n",
    "selected_img = []\n",
    "\n",
    "def var_selector(k1, k2, p1, p2):\n",
    "    \n",
    "    v1 = np.percentile(data_flat[:, k1:(k2+1)], p1)\n",
    "    v2 = np.percentile(data_flat[:, k1:(k2+1)], p2)\n",
    "    \n",
    "    print(\"left k = %f\"%(k1*k_per_pixel))\n",
    "    print(\"right k = %f\"%(k2*k_per_pixel))\n",
    "    print(\"left variance = %f\"%v1)\n",
    "    print(\"right variance = %f\"%v2)\n",
    "    \n",
    "    ax1[0].cla()\n",
    "    ax1[1].cla()\n",
    "    selected_img.clear()\n",
    "    for i in range(num_split):\n",
    "        ax1[0].plot(radial_var_split[i], color=color_rep[i+1], linestyle=\"-\", label=\"split %d\"%(i+1))\n",
    "        ax1[1].hist(np.array(data_flat_by_split[i])[:, k1:(k2+1)].flatten(), bins=binsize, \n",
    "                    color=color_rep[i+1], alpha=0.5, label=\"split %d\"%(i+1), density=True, histtype=\"step\")\n",
    "        for j in range(num_img):\n",
    "            img = np.array(data_by_split[i][j])[:, :, k1:(k2+1)]\n",
    "            img[np.where(img < v1)] = 0\n",
    "            img[np.where(img > v2)] = 0\n",
    "            img[np.where(img != 0)] = 1\n",
    "            bool_img = np.sum(img, axis=2)\n",
    "            bool_img = np.divide(bool_img, np.where(bool_img!=0, bool_img, 1))\n",
    "            selected_img.append(bool_img)\n",
    "            ind = num_img*i+j\n",
    "            #print(ind)\n",
    "            ax2.flat[ind].imshow(bool_img, cmap=\"afmhot\")\n",
    "            ax2.flat[ind].axis(\"off\")\n",
    "            ax2.flat[ind].set_title(\"%.2f %%\"%(np.sum(bool_img)*100/(img.shape[0]*img.shape[1])))\n",
    "                \n",
    "    ax1[0].fill_between([k1, k2], np.max(radial_var_split), alpha=0.5, color=\"orange\")\n",
    "    ax1[0].grid()\n",
    "    ax1[0].legend(fontsize=\"xx-large\")\n",
    "    ax1[1].fill_between([v1, v2], ax1[1].get_ylim()[1], alpha=0.5, color=\"orange\")\n",
    "    ax1[1].grid()\n",
    "    ax1[1].legend(fontsize=\"xx-large\")\n",
    "    \n",
    "    fig1.canvas.draw()\n",
    "    fig2.canvas.draw()\n",
    "    fig1.tight_layout()\n",
    "    fig2.tight_layout()\n",
    "    \n",
    "st = {\"description_width\": \"initial\"}\n",
    "k1_widget = pyw.IntText(value=28, description=\"left of k-range\", style=st)\n",
    "k2_widget = pyw.IntText(value=28, description=\"right of k-range\", style=st)\n",
    "p1_widget = pyw.FloatText(value=90.0, description=\"left percentile of variance range\", style=st)\n",
    "p2_widget = pyw.FloatText(value=99.999, description=\"right percentile of variance range\", style=st)\n",
    "pyw.interact(var_selector, k1=k1_widget, k2=k2_widget, p1=p1_widget, p2=p2_widget)\n",
    "plt.show()"
   ]
  },
  {
   "cell_type": "code",
   "execution_count": null,
   "metadata": {
    "jupyter": {
     "source_hidden": true
    }
   },
   "outputs": [],
   "source": [
    "k_range = [k1_widget.value, k2_widget.value]\n",
    "print(k_range)\n",
    "v_range = [np.percentile(data_flat, p1_widget.value), np.percentile(data_flat, p2_widget.value)]\n",
    "print(v_range)"
   ]
  },
  {
   "cell_type": "code",
   "execution_count": null,
   "metadata": {
    "jupyter": {
     "source_hidden": true
    }
   },
   "outputs": [],
   "source": [
    "%matplotlib qt\n",
    "#fig3, ax3 = plt.subplots(1, 3, figsize=(20, 10))\n",
    "fig3, ax3 = plt.subplots(1, 2, figsize=(5, 10))\n",
    "row_label = [\"area (%)\", \"# of clusters (per 10000 nm^2)\", \"mean size (nm)\", \"largest size (nm)\", \"smallest size (nm)\"]\n",
    "\n",
    "def selector(m, e, split, n_img, save_option):\n",
    "    db = DBSCAN(eps=e, min_samples=m)\n",
    "    ind = num_img*(split-1)+n_img-1\n",
    "\n",
    "    ax3[0].cla()\n",
    "    ax3[1].cla()\n",
    "    #ax3[2].cla()\n",
    "    \n",
    "    ax3[0].imshow(selected_img[ind], cmap=\"afmhot\")\n",
    "    ax3[0].set_title(\"%.2f %%\"%(np.sum(selected_img[ind])*100/(selected_img[ind].shape[0]*selected_img[ind].shape[1])))\n",
    "    ax3[0].axis(\"off\")  \n",
    "    \n",
    "    sel_coor = np.nonzero(selected_img[ind])\n",
    "    X = np.stack((sel_coor[0], sel_coor[1]), axis=1)\n",
    "    db.fit(X)\n",
    "    label = db.labels_\n",
    "    img_tmp = np.zeros_like(selected_img[ind])\n",
    "    img_tmp += -1\n",
    "    img_tmp[X[:, 0], X[:, 1]] = label\n",
    "    bool_img = np.where(img_tmp<0, img_tmp, 1)\n",
    "    bool_img = np.where(bool_img>-1, bool_img, 0)\n",
    "    #ax3[1].set_title(\"split %d, image %d, epsilon=%.1f, min_#_of_samples=%d\"%(split, n_img, e, m), fontsize=15)\n",
    "    ax3[1].imshow(bool_img, cmap=\"afmhot\")\n",
    "    ax3[1].axis(\"off\")\n",
    "    \n",
    "    area = np.around(100 * np.sum(bool_img) / (img_tmp.shape[0]*img_tmp.shape[1]), decimals=2)\n",
    "    print(\"area of the roi = %.2f\"%(img_tmp.shape[0]*img_tmp.shape[1]*r_per_pixel**2))\n",
    "    per_10000sqnm = 10000 / (img_tmp.shape[0]*img_tmp.shape[1]*r_per_pixel**2)\n",
    "    n_cluster = np.around((len(np.unique(label)) - 1) * per_10000sqnm, decimals=0)\n",
    "    if n_cluster != 0:\n",
    "        avg, avg_peri, largest, smallest = cluster_size(img_tmp)\n",
    "        avg = np.around(avg*r_per_pixel, decimals=2)\n",
    "        avg_peri = np.around(avg_peri*r_per_pixel, decimals=2)\n",
    "        largest = np.around(largest*r_per_pixel, decimals=2)\n",
    "        smallest = np.around(smallest*r_per_pixel, decimals=2)\n",
    "        table_vals = [[area], [n_cluster], [avg], [largest], [smallest]]\n",
    "        print(\"----------------------------------------\")\n",
    "        print(\"split %d, image %d\"%(split, n_img))\n",
    "        print(\"epsilon=%.1f, minimum # of samples=%d\"%(e, m))\n",
    "        print(tabulate([[\"area (%)\", area], [\"# of cluster (per 10000 nm^2)\", n_cluster], [\"mean perimeter\", avg_peri], \n",
    "                        [\"mean size\", avg], [\"largest size\", largest], [\"smallest size\", smallest]]))\n",
    "        #table = ax3[2].table(cellText=table_vals, rowLabels=row_label, loc=\"center\", \n",
    "        #                     rowLoc=\"center\", cellLoc=\"center\", colWidths=[0.1]*3)\n",
    "        #table.scale(3, 8)\n",
    "        #table.auto_set_font_size(False)\n",
    "        #table.set_fontsize(15)\n",
    "        \n",
    "    else:\n",
    "        print(\"----------------------------------------\")\n",
    "        print(\"there is no clusters\")\n",
    "\n",
    "\n",
    "    #ax3[2].axis(\"off\")\n",
    "    fig3.tight_layout()\n",
    "    \n",
    "    if save_option:\n",
    "        tff.imsave(tkf.asksaveasfilename(), bool_img)\n",
    "    \n",
    "st = {\"description_width\": \"initial\"}\n",
    "min_widget = pyw.IntText(value=4, description=\"minimum # of cluster pixels\", style=st)\n",
    "eps_widget = pyw.FloatText(value=1.5, description=\"epsilon: \")\n",
    "split_widget = pyw.Dropdown(options=np.arange(num_split)+1, value = 1, description=\"split: \", style=st)\n",
    "n_img_widget = pyw.Dropdown(options=np.arange(np.max(num_adr))+1, value = 1, description=\"image: \", style=st)\n",
    "save_widget = pyw.Checkbox(value=False, description=\"save the result\")\n",
    "\n",
    "pyw.interact(selector, m=min_widget, e=eps_widget, split=split_widget, n_img=n_img_widget, save_option=save_widget)\n",
    "fig3.show()"
   ]
  },
  {
   "cell_type": "code",
   "execution_count": null,
   "metadata": {
    "jupyter": {
     "source_hidden": true
    }
   },
   "outputs": [],
   "source": [
    "%matplotlib qt\n",
    "binsize = 2000\n",
    "#fig3, ax3 = plt.subplots(1, 5, figsize=(20, 6))\n",
    "fig3, ax3 = plt.subplots(1, 4, figsize=(20, 6))\n",
    "row_label = [\"area (%)\", \"# of clusters (per 10000 nm^2)\", \"mean size (nm)\", \"largest size (nm)\", \"smallest size (nm)\"]\n",
    "\n",
    "def selector(k1, k2, p1, p2, m, e, split, n_img, save_option):\n",
    "    db = DBSCAN(eps=e, min_samples=m)\n",
    "    ind = num_img*(split-1)+n_img-1\n",
    "\n",
    "    ax3[0].cla()\n",
    "    ax3[1].cla()\n",
    "    ax3[2].cla()\n",
    "    ax3[3].cla()\n",
    "    #ax3[4].cla()\n",
    "    \n",
    "    for i in range(num_split):\n",
    "        ax3[0].plot(radial_var_split[i], color=color_rep[i+1], linestyle=\"-\", label=\"split %d\"%(i+1))\n",
    "    \n",
    "    flat = np.array(data_by_split[split-1][n_img-1])[:, :, k1:(k2+1)].flatten()\n",
    "    ax3[1].hist(flat, bins=binsize, color=color_rep[split], label=\"split %d\"%(split), density=True, histtype=\"step\")\n",
    "        \n",
    "    print(\"left k = %f\"%(k1*k_per_pixel))\n",
    "    print(\"right k = %f\"%(k2*k_per_pixel))\n",
    "    \n",
    "    v1 = np.percentile(flat, p1)\n",
    "    v2 = np.percentile(flat, p2)\n",
    "    print(\"left variance = %f\"%v1)\n",
    "    print(\"right variance = %f\"%v2)\n",
    "    \n",
    "    ax3[0].fill_between([k1, k2], np.max(radial_var_split), alpha=0.5, color=\"orange\")\n",
    "    ax3[0].grid()\n",
    "    #ax3[0].legend(fontsize=\"xx-large\")\n",
    "    ax3[1].fill_between([v1, v2], ax3[1].get_ylim()[1], alpha=0.5, color=\"orange\")\n",
    "    ax3[1].grid()    \n",
    "    \n",
    "    img = np.array(data_by_split[split-1][n_img-1])[:, :, k1:(k2+1)]\n",
    "    img[np.where(img < v1)] = 0\n",
    "    img[np.where(img > v2)] = 0\n",
    "    img[np.where(img != 0)] = 1\n",
    "    bool_img = np.sum(img, axis=2)\n",
    "    bool_img = np.divide(bool_img, np.where(bool_img!=0, bool_img, 1))\n",
    "    ax3[2].imshow(bool_img, cmap=\"afmhot\")\n",
    "    ax3[2].axis(\"off\")\n",
    "    ax3[2].set_title(\"%.2f %%\"%(np.sum(bool_img)*100/(img.shape[0]*img.shape[1])))\n",
    "        \n",
    "    sel_coor = np.nonzero(bool_img)\n",
    "    X = np.stack((sel_coor[0], sel_coor[1]), axis=1)\n",
    "    db.fit(X)\n",
    "    label = db.labels_\n",
    "    img_tmp = np.zeros_like(bool_img)\n",
    "    img_tmp += -1\n",
    "    img_tmp[X[:, 0], X[:, 1]] = label\n",
    "    cluster_img = np.where(img_tmp<0, img_tmp, 1)\n",
    "    cluster_img = np.where(cluster_img>-1, bool_img, 0)\n",
    "    #ax3[3].set_title(\"split %d, image %d, epsilon=%.1f, min_#_of_samples=%d\"%(split, n_img, e, m), fontsize=10)\n",
    "    ax3[3].imshow(cluster_img, cmap=\"afmhot\")\n",
    "    ax3[3].axis(\"off\")\n",
    "    \n",
    "    area = np.around(100 * np.sum(cluster_img) / (img_tmp.shape[0]*img_tmp.shape[1]), decimals=2)\n",
    "    per_10000sqnm = 10000 / (img_tmp.shape[0]*img_tmp.shape[1]*r_per_pixel**2)\n",
    "    n_cluster = np.around((len(np.unique(label)) - 1) * per_10000sqnm, decimals=0)\n",
    "    if n_cluster != 0:\n",
    "        avg, avg_peri, largest, smallest = cluster_size(img_tmp)\n",
    "        avg = np.around(avg*r_per_pixel, decimals=2)\n",
    "        avg_peri = np.around(avg_peri*r_per_pixel, decimals=2)\n",
    "        largest = np.around(largest*r_per_pixel, decimals=2)\n",
    "        smallest = np.around(smallest*r_per_pixel, decimals=2)\n",
    "        table_vals = [[area], [n_cluster], [avg], [largest], [smallest]]\n",
    "        print(\"----------------------------------------\")\n",
    "        print(\"split %d, image %d\"%(split, n_img))\n",
    "        print(\"epsilon=%.1f, minimum # of samples=%d\"%(e, m))\n",
    "        print(tabulate([[\"area (%)\", area], [\"# of cluster (per 10000 nm^2)\", n_cluster], [\"mean perimeter\", avg_peri], \n",
    "                        [\"mean size\", avg], [\"largest size\", largest], [\"smallest size\", smallest]]))\n",
    "        \n",
    "    else:\n",
    "        print(\"----------------------------------------\")\n",
    "        print(\"there is no clusters\")\n",
    "\n",
    "    if save_option:\n",
    "        tff.imsave(tkf.asksaveasfilename(), cluster_img)\n",
    "    \n",
    "    fig3.tight_layout()\n",
    "\n",
    "st = {\"description_width\": \"initial\"}    \n",
    "k1_widget = pyw.IntText(value=28, description=\"left of k-range\", style=st)\n",
    "k2_widget = pyw.IntText(value=28, description=\"right of k-range\", style=st)\n",
    "p1_widget = pyw.FloatText(value=90.0, description=\"left percentile of variance range\", style=st)\n",
    "p2_widget = pyw.FloatText(value=99.999, description=\"right percentile of variance range\", style=st)\n",
    "\n",
    "min_widget = pyw.IntText(value=4, description=\"minimum # of cluster pixels\", style=st)\n",
    "eps_widget = pyw.FloatText(value=1.5, description=\"epsilon: \", style=st)\n",
    "split_widget = pyw.Dropdown(options=np.arange(num_split)+1, value = 1, description=\"split: \", style=st)\n",
    "n_img_widget = pyw.Dropdown(options=np.arange(np.max(num_adr))+1, value = 1, description=\"image: \", style=st)\n",
    "save_widget = pyw.Checkbox(value=False, description=\"save the result\")\n",
    "\n",
    "pyw.interact(selector, k1=k1_widget, k2=k2_widget, p1=p1_widget, p2=p2_widget, m=min_widget, e=eps_widget, \n",
    "             split=split_widget, n_img=n_img_widget, save_option=save_widget)\n",
    "fig3.show()"
   ]
  }
 ],
 "metadata": {
  "kernelspec": {
   "display_name": "Python 3",
   "language": "python",
   "name": "python3"
  },
  "language_info": {
   "codemirror_mode": {
    "name": "ipython",
    "version": 3
   },
   "file_extension": ".py",
   "mimetype": "text/x-python",
   "name": "python",
   "nbconvert_exporter": "python",
   "pygments_lexer": "ipython3",
   "version": "3.7.10"
  },
  "widgets": {
   "application/vnd.jupyter.widget-state+json": {
    "state": {
     "00a133486a954d03ab58deaa928af4ea": {
      "model_module": "@jupyter-widgets/base",
      "model_module_version": "1.2.0",
      "model_name": "LayoutModel",
      "state": {}
     },
     "00c2a377634d496b9c64315c22a7c526": {
      "model_module": "@jupyter-widgets/controls",
      "model_module_version": "1.5.0",
      "model_name": "CheckboxModel",
      "state": {
       "description": "save the result",
       "disabled": false,
       "layout": "IPY_MODEL_80f0d02c391044cca79037b578d4ab90",
       "style": "IPY_MODEL_97e109531b1f4229a53cada4f7baad60",
       "value": false
      }
     },
     "01192ed3656e4a10a427c2ca591bf5c7": {
      "model_module": "@jupyter-widgets/base",
      "model_module_version": "1.2.0",
      "model_name": "LayoutModel",
      "state": {}
     },
     "01cb2f6d5a0543339cd611e5afb81b6e": {
      "model_module": "@jupyter-widgets/controls",
      "model_module_version": "1.5.0",
      "model_name": "DropdownModel",
      "state": {
       "_options_labels": [
        "1",
        "2",
        "3",
        "4"
       ],
       "description": "split: ",
       "index": 0,
       "layout": "IPY_MODEL_1b197f9b3bb94286a24228cfece9deee",
       "style": "IPY_MODEL_0ba83a16672e4076bc09da432edf5a9b"
      }
     },
     "0227a493c81343168837f609a00f3014": {
      "model_module": "@jupyter-widgets/controls",
      "model_module_version": "1.5.0",
      "model_name": "DescriptionStyleModel",
      "state": {
       "description_width": "initial"
      }
     },
     "03319157e412443e947de587b7622879": {
      "model_module": "@jupyter-widgets/controls",
      "model_module_version": "1.5.0",
      "model_name": "DropdownModel",
      "state": {
       "_options_labels": [
        "1"
       ],
       "description": "image: ",
       "index": 0,
       "layout": "IPY_MODEL_a55e3a9d612647d7af9d4d8267b69225",
       "style": "IPY_MODEL_87c465de73e548ac94daffbb063bffd5"
      }
     },
     "033aa41eac9649b0aa973476dae0260e": {
      "model_module": "@jupyter-widgets/base",
      "model_module_version": "1.2.0",
      "model_name": "LayoutModel",
      "state": {}
     },
     "040af4e9e42a46f0af68a89cab2f1b1c": {
      "model_module": "@jupyter-widgets/controls",
      "model_module_version": "1.5.0",
      "model_name": "VBoxModel",
      "state": {
       "_dom_classes": [
        "widget-interact"
       ],
       "children": [
        "IPY_MODEL_2940dd0046c5490089a12b09cfa2fdc8",
        "IPY_MODEL_daa1e889ea6049a19b448ab07d160c1a",
        "IPY_MODEL_8fe6ce5ed5614b7ea0c51d6f868034e8",
        "IPY_MODEL_cc5d1cc212ca4af5821a10cdaa42946f",
        "IPY_MODEL_dbe2d990c3b647a7b8fc44444d001787",
        "IPY_MODEL_7355f4c20ded49e48896128aab52df8c",
        "IPY_MODEL_0c79eab60c904c9fbc0dce72bcdac2aa",
        "IPY_MODEL_1a446d1697bc4dcb9dd0122b1ba4c21e",
        "IPY_MODEL_839664b2c1eb47f69ebe8de837c0ce1b",
        "IPY_MODEL_199d3fcefbbe4708b3087225e6cbb641"
       ],
       "layout": "IPY_MODEL_86b6072fcf1c41ef9c81114b735356d7"
      }
     },
     "0429a45fe3564f4d93830a9c129356b7": {
      "model_module": "@jupyter-widgets/controls",
      "model_module_version": "1.5.0",
      "model_name": "DropdownModel",
      "state": {
       "_options_labels": [
        "1"
       ],
       "description": "image: ",
       "index": 0,
       "layout": "IPY_MODEL_5a70271b2593486a99be5cc55a9150a8",
       "style": "IPY_MODEL_345d3d9155ca4e4b9747d94f4b394cbb"
      }
     },
     "04f7cc2433e3447da861fc8ed4a970ac": {
      "model_module": "@jupyter-widgets/controls",
      "model_module_version": "1.5.0",
      "model_name": "DescriptionStyleModel",
      "state": {
       "description_width": "initial"
      }
     },
     "050bb325ad2349f59ec6ad5f3dab6865": {
      "model_module": "@jupyter-widgets/base",
      "model_module_version": "1.2.0",
      "model_name": "LayoutModel",
      "state": {}
     },
     "05644b123aaf4a39b6f36d85fcac8a8a": {
      "model_module": "@jupyter-widgets/controls",
      "model_module_version": "1.5.0",
      "model_name": "DescriptionStyleModel",
      "state": {
       "description_width": "initial"
      }
     },
     "056b6bb27ad34869bb7e289fa2e9da1a": {
      "model_module": "@jupyter-widgets/base",
      "model_module_version": "1.2.0",
      "model_name": "LayoutModel",
      "state": {}
     },
     "058069ba78594be4b998264e0e845f4a": {
      "model_module": "@jupyter-widgets/controls",
      "model_module_version": "1.5.0",
      "model_name": "IntTextModel",
      "state": {
       "description": "minimum # of cluster pixels",
       "layout": "IPY_MODEL_3d034268720240f1a11f577cc0b2953e",
       "step": 1,
       "style": "IPY_MODEL_931c156ffce04c68bf344498e5ba09e9",
       "value": 4
      }
     },
     "059f31a5256b4a4cbbe27f1a3970777d": {
      "model_module": "@jupyter-widgets/controls",
      "model_module_version": "1.5.0",
      "model_name": "DescriptionStyleModel",
      "state": {
       "description_width": "initial"
      }
     },
     "05ca6ce9e7b34f35b50c0390e0791c66": {
      "model_module": "@jupyter-widgets/controls",
      "model_module_version": "1.5.0",
      "model_name": "CheckboxModel",
      "state": {
       "description": "save the result",
       "disabled": false,
       "layout": "IPY_MODEL_f83f05e0375b415f956b38086a7b34a6",
       "style": "IPY_MODEL_2974ecd6304542409501c627191424b0",
       "value": false
      }
     },
     "05d58d0f01b04628997b2933916a81b4": {
      "model_module": "@jupyter-widgets/controls",
      "model_module_version": "1.5.0",
      "model_name": "IntTextModel",
      "state": {
       "description": "left of k-range",
       "layout": "IPY_MODEL_3a36b8dfd7de4bf3a33973e04c435fb0",
       "step": 1,
       "style": "IPY_MODEL_05f59bed8e8b4ed3afe8a7a04d570e88",
       "value": 28
      }
     },
     "05f59bed8e8b4ed3afe8a7a04d570e88": {
      "model_module": "@jupyter-widgets/controls",
      "model_module_version": "1.5.0",
      "model_name": "DescriptionStyleModel",
      "state": {
       "description_width": "initial"
      }
     },
     "060307315934487f862ce1ac4a897679": {
      "model_module": "@jupyter-widgets/controls",
      "model_module_version": "1.5.0",
      "model_name": "DescriptionStyleModel",
      "state": {
       "description_width": "initial"
      }
     },
     "086b55780b7d4f01abb5a50c1c87e307": {
      "model_module": "@jupyter-widgets/controls",
      "model_module_version": "1.5.0",
      "model_name": "CheckboxModel",
      "state": {
       "description": "save the result",
       "disabled": false,
       "layout": "IPY_MODEL_a764dc955d8547bbb61eb43ec8161fd8",
       "style": "IPY_MODEL_791d9d18feb94d168edd991ca2fa834e",
       "value": false
      }
     },
     "08ff4cc3941b432bbace7fc445713a7a": {
      "model_module": "@jupyter-widgets/controls",
      "model_module_version": "1.5.0",
      "model_name": "DescriptionStyleModel",
      "state": {
       "description_width": "initial"
      }
     },
     "094573dfad8442cfbd6b452c5a8f17c9": {
      "model_module": "@jupyter-widgets/controls",
      "model_module_version": "1.5.0",
      "model_name": "IntTextModel",
      "state": {
       "description": "minimum # of cluster pixels",
       "layout": "IPY_MODEL_e109d5b7dcdf46fcacdad2b797276936",
       "step": 1,
       "style": "IPY_MODEL_ae2d704d4b8d4921be8b613f14b99d64",
       "value": 4
      }
     },
     "094bad57b1fb4fa3b90f11e9d92403ea": {
      "model_module": "@jupyter-widgets/base",
      "model_module_version": "1.2.0",
      "model_name": "LayoutModel",
      "state": {}
     },
     "09b7d1787a334895b176f90d7457a318": {
      "model_module": "@jupyter-widgets/base",
      "model_module_version": "1.2.0",
      "model_name": "LayoutModel",
      "state": {}
     },
     "09c0400c59a24612965b6ddfb9bd26c9": {
      "model_module": "@jupyter-widgets/base",
      "model_module_version": "1.2.0",
      "model_name": "LayoutModel",
      "state": {}
     },
     "0ac32e681fc14981b72c4de7c1b04d34": {
      "model_module": "@jupyter-widgets/controls",
      "model_module_version": "1.5.0",
      "model_name": "DescriptionStyleModel",
      "state": {
       "description_width": "initial"
      }
     },
     "0b6644e1a05141f3a75bf93482c0b811": {
      "model_module": "@jupyter-widgets/controls",
      "model_module_version": "1.5.0",
      "model_name": "DescriptionStyleModel",
      "state": {
       "description_width": "initial"
      }
     },
     "0b69ee79b5a94fa9b672cae2ab6b89af": {
      "model_module": "@jupyter-widgets/controls",
      "model_module_version": "1.5.0",
      "model_name": "FloatTextModel",
      "state": {
       "description": "left percentile of variance range",
       "layout": "IPY_MODEL_466362facf8d4357b583c603ed5cb22a",
       "step": null,
       "style": "IPY_MODEL_27fe8149aee64ff69834fa1feb43e027",
       "value": 90
      }
     },
     "0ba83a16672e4076bc09da432edf5a9b": {
      "model_module": "@jupyter-widgets/controls",
      "model_module_version": "1.5.0",
      "model_name": "DescriptionStyleModel",
      "state": {
       "description_width": "initial"
      }
     },
     "0c35bb48062e46c4a61c57e70526257c": {
      "model_module": "@jupyter-widgets/controls",
      "model_module_version": "1.5.0",
      "model_name": "DescriptionStyleModel",
      "state": {
       "description_width": "initial"
      }
     },
     "0c79eab60c904c9fbc0dce72bcdac2aa": {
      "model_module": "@jupyter-widgets/controls",
      "model_module_version": "1.5.0",
      "model_name": "DropdownModel",
      "state": {
       "_options_labels": [
        "1",
        "2",
        "3",
        "4"
       ],
       "description": "split: ",
       "index": 0,
       "layout": "IPY_MODEL_be87a90e4091419e867dbfaa95ac9bb6",
       "style": "IPY_MODEL_f100afc74419413ab38d720deab3a285"
      }
     },
     "0cf6cb261ba54d99bb7878b21e123f5a": {
      "model_module": "@jupyter-widgets/controls",
      "model_module_version": "1.5.0",
      "model_name": "DescriptionStyleModel",
      "state": {
       "description_width": "initial"
      }
     },
     "0dbb8dcf6aea4778854bdf505a60d276": {
      "model_module": "@jupyter-widgets/controls",
      "model_module_version": "1.5.0",
      "model_name": "DescriptionStyleModel",
      "state": {
       "description_width": "initial"
      }
     },
     "0e99abb2ef6b4c438704c8cdcdf11f4a": {
      "model_module": "@jupyter-widgets/base",
      "model_module_version": "1.2.0",
      "model_name": "LayoutModel",
      "state": {}
     },
     "1063855f2f3e40f78156eefa32612a50": {
      "model_module": "@jupyter-widgets/controls",
      "model_module_version": "1.5.0",
      "model_name": "FloatTextModel",
      "state": {
       "description": "left percentile of variance range",
       "layout": "IPY_MODEL_8d96eefeaee3438999a698c6a32a6335",
       "step": null,
       "style": "IPY_MODEL_f8f86006d2cb47208ded7df693e52246",
       "value": 90
      }
     },
     "10a015e7558244c1b05a793afd4df65b": {
      "model_module": "@jupyter-widgets/controls",
      "model_module_version": "1.5.0",
      "model_name": "DescriptionStyleModel",
      "state": {
       "description_width": "initial"
      }
     },
     "10c2defee558458b87187a4b64889c1a": {
      "model_module": "@jupyter-widgets/controls",
      "model_module_version": "1.5.0",
      "model_name": "DescriptionStyleModel",
      "state": {
       "description_width": "initial"
      }
     },
     "11b9e5ab4429443b9ad4619e4010105f": {
      "model_module": "@jupyter-widgets/controls",
      "model_module_version": "1.5.0",
      "model_name": "DescriptionStyleModel",
      "state": {
       "description_width": "initial"
      }
     },
     "1206c5e7f1cc46b3b14627958fe98485": {
      "model_module": "@jupyter-widgets/controls",
      "model_module_version": "1.5.0",
      "model_name": "IntTextModel",
      "state": {
       "description": "right of k-range",
       "layout": "IPY_MODEL_1ffa3fefae094f7eb3929ae20f5ce9aa",
       "step": 1,
       "style": "IPY_MODEL_d228641ef7fc4051a25f07ddf65e64bd",
       "value": 28
      }
     },
     "120b2b91b16d4e42a6334255d890ac1c": {
      "model_module": "@jupyter-widgets/base",
      "model_module_version": "1.2.0",
      "model_name": "LayoutModel",
      "state": {
       "display": "flex",
       "flex_flow": "row",
       "justify_content": "space-between"
      }
     },
     "126b18552fb24055a5050dceb1d6e48d": {
      "model_module": "@jupyter-widgets/output",
      "model_module_version": "1.0.0",
      "model_name": "OutputModel",
      "state": {
       "layout": "IPY_MODEL_3a7cd8d9c5604b2994e341d05d5bd6c0",
       "outputs": [
        {
         "ename": "IndexError",
         "evalue": "cannot do a non-empty take from an empty axes.",
         "output_type": "error",
         "traceback": [
          "\u001b[1;31m---------------------------------------------------------------------------\u001b[0m",
          "\u001b[1;31mIndexError\u001b[0m                                Traceback (most recent call last)",
          "\u001b[1;32m~\\Anaconda3\\envs\\necessary\\lib\\site-packages\\ipywidgets\\widgets\\interaction.py\u001b[0m in \u001b[0;36mupdate\u001b[1;34m(self, *args)\u001b[0m\n\u001b[0;32m    254\u001b[0m                     \u001b[0mvalue\u001b[0m \u001b[1;33m=\u001b[0m \u001b[0mwidget\u001b[0m\u001b[1;33m.\u001b[0m\u001b[0mget_interact_value\u001b[0m\u001b[1;33m(\u001b[0m\u001b[1;33m)\u001b[0m\u001b[1;33m\u001b[0m\u001b[1;33m\u001b[0m\u001b[0m\n\u001b[0;32m    255\u001b[0m                     \u001b[0mself\u001b[0m\u001b[1;33m.\u001b[0m\u001b[0mkwargs\u001b[0m\u001b[1;33m[\u001b[0m\u001b[0mwidget\u001b[0m\u001b[1;33m.\u001b[0m\u001b[0m_kwarg\u001b[0m\u001b[1;33m]\u001b[0m \u001b[1;33m=\u001b[0m \u001b[0mvalue\u001b[0m\u001b[1;33m\u001b[0m\u001b[1;33m\u001b[0m\u001b[0m\n\u001b[1;32m--> 256\u001b[1;33m                 \u001b[0mself\u001b[0m\u001b[1;33m.\u001b[0m\u001b[0mresult\u001b[0m \u001b[1;33m=\u001b[0m \u001b[0mself\u001b[0m\u001b[1;33m.\u001b[0m\u001b[0mf\u001b[0m\u001b[1;33m(\u001b[0m\u001b[1;33m**\u001b[0m\u001b[0mself\u001b[0m\u001b[1;33m.\u001b[0m\u001b[0mkwargs\u001b[0m\u001b[1;33m)\u001b[0m\u001b[1;33m\u001b[0m\u001b[1;33m\u001b[0m\u001b[0m\n\u001b[0m\u001b[0;32m    257\u001b[0m                 \u001b[0mshow_inline_matplotlib_plots\u001b[0m\u001b[1;33m(\u001b[0m\u001b[1;33m)\u001b[0m\u001b[1;33m\u001b[0m\u001b[1;33m\u001b[0m\u001b[0m\n\u001b[0;32m    258\u001b[0m                 \u001b[1;32mif\u001b[0m \u001b[0mself\u001b[0m\u001b[1;33m.\u001b[0m\u001b[0mauto_display\u001b[0m \u001b[1;32mand\u001b[0m \u001b[0mself\u001b[0m\u001b[1;33m.\u001b[0m\u001b[0mresult\u001b[0m \u001b[1;32mis\u001b[0m \u001b[1;32mnot\u001b[0m \u001b[1;32mNone\u001b[0m\u001b[1;33m:\u001b[0m\u001b[1;33m\u001b[0m\u001b[1;33m\u001b[0m\u001b[0m\n",
          "\u001b[1;32m<ipython-input-31-68201a160b91>\u001b[0m in \u001b[0;36mvar_selector\u001b[1;34m(k1, k2, p1, p2)\u001b[0m\n\u001b[0;32m      7\u001b[0m \u001b[1;32mdef\u001b[0m \u001b[0mvar_selector\u001b[0m\u001b[1;33m(\u001b[0m\u001b[0mk1\u001b[0m\u001b[1;33m,\u001b[0m \u001b[0mk2\u001b[0m\u001b[1;33m,\u001b[0m \u001b[0mp1\u001b[0m\u001b[1;33m,\u001b[0m \u001b[0mp2\u001b[0m\u001b[1;33m)\u001b[0m\u001b[1;33m:\u001b[0m\u001b[1;33m\u001b[0m\u001b[1;33m\u001b[0m\u001b[0m\n\u001b[0;32m      8\u001b[0m \u001b[1;33m\u001b[0m\u001b[0m\n\u001b[1;32m----> 9\u001b[1;33m     \u001b[0mv1\u001b[0m \u001b[1;33m=\u001b[0m \u001b[0mnp\u001b[0m\u001b[1;33m.\u001b[0m\u001b[0mpercentile\u001b[0m\u001b[1;33m(\u001b[0m\u001b[0mdata_flat\u001b[0m\u001b[1;33m[\u001b[0m\u001b[1;33m:\u001b[0m\u001b[1;33m,\u001b[0m \u001b[0mk1\u001b[0m\u001b[1;33m:\u001b[0m\u001b[1;33m(\u001b[0m\u001b[0mk2\u001b[0m\u001b[1;33m+\u001b[0m\u001b[1;36m1\u001b[0m\u001b[1;33m)\u001b[0m\u001b[1;33m]\u001b[0m\u001b[1;33m,\u001b[0m \u001b[0mp1\u001b[0m\u001b[1;33m)\u001b[0m\u001b[1;33m\u001b[0m\u001b[1;33m\u001b[0m\u001b[0m\n\u001b[0m\u001b[0;32m     10\u001b[0m     \u001b[0mv2\u001b[0m \u001b[1;33m=\u001b[0m \u001b[0mnp\u001b[0m\u001b[1;33m.\u001b[0m\u001b[0mpercentile\u001b[0m\u001b[1;33m(\u001b[0m\u001b[0mdata_flat\u001b[0m\u001b[1;33m[\u001b[0m\u001b[1;33m:\u001b[0m\u001b[1;33m,\u001b[0m \u001b[0mk1\u001b[0m\u001b[1;33m:\u001b[0m\u001b[1;33m(\u001b[0m\u001b[0mk2\u001b[0m\u001b[1;33m+\u001b[0m\u001b[1;36m1\u001b[0m\u001b[1;33m)\u001b[0m\u001b[1;33m]\u001b[0m\u001b[1;33m,\u001b[0m \u001b[0mp2\u001b[0m\u001b[1;33m)\u001b[0m\u001b[1;33m\u001b[0m\u001b[1;33m\u001b[0m\u001b[0m\n\u001b[0;32m     11\u001b[0m \u001b[1;33m\u001b[0m\u001b[0m\n",
          "\u001b[1;32m<__array_function__ internals>\u001b[0m in \u001b[0;36mpercentile\u001b[1;34m(*args, **kwargs)\u001b[0m\n",
          "\u001b[1;32m~\\Anaconda3\\envs\\necessary\\lib\\site-packages\\numpy\\lib\\function_base.py\u001b[0m in \u001b[0;36mpercentile\u001b[1;34m(a, q, axis, out, overwrite_input, interpolation, keepdims)\u001b[0m\n\u001b[0;32m   3731\u001b[0m         \u001b[1;32mraise\u001b[0m \u001b[0mValueError\u001b[0m\u001b[1;33m(\u001b[0m\u001b[1;34m\"Percentiles must be in the range [0, 100]\"\u001b[0m\u001b[1;33m)\u001b[0m\u001b[1;33m\u001b[0m\u001b[1;33m\u001b[0m\u001b[0m\n\u001b[0;32m   3732\u001b[0m     return _quantile_unchecked(\n\u001b[1;32m-> 3733\u001b[1;33m         a, q, axis, out, overwrite_input, interpolation, keepdims)\n\u001b[0m\u001b[0;32m   3734\u001b[0m \u001b[1;33m\u001b[0m\u001b[0m\n\u001b[0;32m   3735\u001b[0m \u001b[1;33m\u001b[0m\u001b[0m\n",
          "\u001b[1;32m~\\Anaconda3\\envs\\necessary\\lib\\site-packages\\numpy\\lib\\function_base.py\u001b[0m in \u001b[0;36m_quantile_unchecked\u001b[1;34m(a, q, axis, out, overwrite_input, interpolation, keepdims)\u001b[0m\n\u001b[0;32m   3851\u001b[0m     r, k = _ureduce(a, func=_quantile_ureduce_func, q=q, axis=axis, out=out,\n\u001b[0;32m   3852\u001b[0m                     \u001b[0moverwrite_input\u001b[0m\u001b[1;33m=\u001b[0m\u001b[0moverwrite_input\u001b[0m\u001b[1;33m,\u001b[0m\u001b[1;33m\u001b[0m\u001b[1;33m\u001b[0m\u001b[0m\n\u001b[1;32m-> 3853\u001b[1;33m                     interpolation=interpolation)\n\u001b[0m\u001b[0;32m   3854\u001b[0m     \u001b[1;32mif\u001b[0m \u001b[0mkeepdims\u001b[0m\u001b[1;33m:\u001b[0m\u001b[1;33m\u001b[0m\u001b[1;33m\u001b[0m\u001b[0m\n\u001b[0;32m   3855\u001b[0m         \u001b[1;32mreturn\u001b[0m \u001b[0mr\u001b[0m\u001b[1;33m.\u001b[0m\u001b[0mreshape\u001b[0m\u001b[1;33m(\u001b[0m\u001b[0mq\u001b[0m\u001b[1;33m.\u001b[0m\u001b[0mshape\u001b[0m \u001b[1;33m+\u001b[0m \u001b[0mk\u001b[0m\u001b[1;33m)\u001b[0m\u001b[1;33m\u001b[0m\u001b[1;33m\u001b[0m\u001b[0m\n",
          "\u001b[1;32m~\\Anaconda3\\envs\\necessary\\lib\\site-packages\\numpy\\lib\\function_base.py\u001b[0m in \u001b[0;36m_ureduce\u001b[1;34m(a, func, **kwargs)\u001b[0m\n\u001b[0;32m   3427\u001b[0m         \u001b[0mkeepdim\u001b[0m \u001b[1;33m=\u001b[0m \u001b[1;33m(\u001b[0m\u001b[1;36m1\u001b[0m\u001b[1;33m,\u001b[0m\u001b[1;33m)\u001b[0m \u001b[1;33m*\u001b[0m \u001b[0ma\u001b[0m\u001b[1;33m.\u001b[0m\u001b[0mndim\u001b[0m\u001b[1;33m\u001b[0m\u001b[1;33m\u001b[0m\u001b[0m\n\u001b[0;32m   3428\u001b[0m \u001b[1;33m\u001b[0m\u001b[0m\n\u001b[1;32m-> 3429\u001b[1;33m     \u001b[0mr\u001b[0m \u001b[1;33m=\u001b[0m \u001b[0mfunc\u001b[0m\u001b[1;33m(\u001b[0m\u001b[0ma\u001b[0m\u001b[1;33m,\u001b[0m \u001b[1;33m**\u001b[0m\u001b[0mkwargs\u001b[0m\u001b[1;33m)\u001b[0m\u001b[1;33m\u001b[0m\u001b[1;33m\u001b[0m\u001b[0m\n\u001b[0m\u001b[0;32m   3430\u001b[0m     \u001b[1;32mreturn\u001b[0m \u001b[0mr\u001b[0m\u001b[1;33m,\u001b[0m \u001b[0mkeepdim\u001b[0m\u001b[1;33m\u001b[0m\u001b[1;33m\u001b[0m\u001b[0m\n\u001b[0;32m   3431\u001b[0m \u001b[1;33m\u001b[0m\u001b[0m\n",
          "\u001b[1;32m~\\Anaconda3\\envs\\necessary\\lib\\site-packages\\numpy\\lib\\function_base.py\u001b[0m in \u001b[0;36m_quantile_ureduce_func\u001b[1;34m(a, q, axis, out, overwrite_input, interpolation, keepdims)\u001b[0m\n\u001b[0;32m   3965\u001b[0m             \u001b[0mn\u001b[0m \u001b[1;33m=\u001b[0m \u001b[0mnp\u001b[0m\u001b[1;33m.\u001b[0m\u001b[0misnan\u001b[0m\u001b[1;33m(\u001b[0m\u001b[0map\u001b[0m\u001b[1;33m[\u001b[0m\u001b[1;33m-\u001b[0m\u001b[1;36m1\u001b[0m\u001b[1;33m:\u001b[0m\u001b[1;33m,\u001b[0m \u001b[1;33m...\u001b[0m\u001b[1;33m]\u001b[0m\u001b[1;33m)\u001b[0m\u001b[1;33m\u001b[0m\u001b[1;33m\u001b[0m\u001b[0m\n\u001b[0;32m   3966\u001b[0m \u001b[1;33m\u001b[0m\u001b[0m\n\u001b[1;32m-> 3967\u001b[1;33m         \u001b[0mx1\u001b[0m \u001b[1;33m=\u001b[0m \u001b[0mtake\u001b[0m\u001b[1;33m(\u001b[0m\u001b[0map\u001b[0m\u001b[1;33m,\u001b[0m \u001b[0mindices_below\u001b[0m\u001b[1;33m,\u001b[0m \u001b[0maxis\u001b[0m\u001b[1;33m=\u001b[0m\u001b[0maxis\u001b[0m\u001b[1;33m)\u001b[0m \u001b[1;33m*\u001b[0m \u001b[0mweights_below\u001b[0m\u001b[1;33m\u001b[0m\u001b[1;33m\u001b[0m\u001b[0m\n\u001b[0m\u001b[0;32m   3968\u001b[0m         \u001b[0mx2\u001b[0m \u001b[1;33m=\u001b[0m \u001b[0mtake\u001b[0m\u001b[1;33m(\u001b[0m\u001b[0map\u001b[0m\u001b[1;33m,\u001b[0m \u001b[0mindices_above\u001b[0m\u001b[1;33m,\u001b[0m \u001b[0maxis\u001b[0m\u001b[1;33m=\u001b[0m\u001b[0maxis\u001b[0m\u001b[1;33m)\u001b[0m \u001b[1;33m*\u001b[0m \u001b[0mweights_above\u001b[0m\u001b[1;33m\u001b[0m\u001b[1;33m\u001b[0m\u001b[0m\n\u001b[0;32m   3969\u001b[0m \u001b[1;33m\u001b[0m\u001b[0m\n",
          "\u001b[1;32m<__array_function__ internals>\u001b[0m in \u001b[0;36mtake\u001b[1;34m(*args, **kwargs)\u001b[0m\n",
          "\u001b[1;32m~\\Anaconda3\\envs\\necessary\\lib\\site-packages\\numpy\\core\\fromnumeric.py\u001b[0m in \u001b[0;36mtake\u001b[1;34m(a, indices, axis, out, mode)\u001b[0m\n\u001b[0;32m    189\u001b[0m            [5, 7]])\n\u001b[0;32m    190\u001b[0m     \"\"\"\n\u001b[1;32m--> 191\u001b[1;33m     \u001b[1;32mreturn\u001b[0m \u001b[0m_wrapfunc\u001b[0m\u001b[1;33m(\u001b[0m\u001b[0ma\u001b[0m\u001b[1;33m,\u001b[0m \u001b[1;34m'take'\u001b[0m\u001b[1;33m,\u001b[0m \u001b[0mindices\u001b[0m\u001b[1;33m,\u001b[0m \u001b[0maxis\u001b[0m\u001b[1;33m=\u001b[0m\u001b[0maxis\u001b[0m\u001b[1;33m,\u001b[0m \u001b[0mout\u001b[0m\u001b[1;33m=\u001b[0m\u001b[0mout\u001b[0m\u001b[1;33m,\u001b[0m \u001b[0mmode\u001b[0m\u001b[1;33m=\u001b[0m\u001b[0mmode\u001b[0m\u001b[1;33m)\u001b[0m\u001b[1;33m\u001b[0m\u001b[1;33m\u001b[0m\u001b[0m\n\u001b[0m\u001b[0;32m    192\u001b[0m \u001b[1;33m\u001b[0m\u001b[0m\n\u001b[0;32m    193\u001b[0m \u001b[1;33m\u001b[0m\u001b[0m\n",
          "\u001b[1;32m~\\Anaconda3\\envs\\necessary\\lib\\site-packages\\numpy\\core\\fromnumeric.py\u001b[0m in \u001b[0;36m_wrapfunc\u001b[1;34m(obj, method, *args, **kwds)\u001b[0m\n\u001b[0;32m     56\u001b[0m \u001b[1;33m\u001b[0m\u001b[0m\n\u001b[0;32m     57\u001b[0m     \u001b[1;32mtry\u001b[0m\u001b[1;33m:\u001b[0m\u001b[1;33m\u001b[0m\u001b[1;33m\u001b[0m\u001b[0m\n\u001b[1;32m---> 58\u001b[1;33m         \u001b[1;32mreturn\u001b[0m \u001b[0mbound\u001b[0m\u001b[1;33m(\u001b[0m\u001b[1;33m*\u001b[0m\u001b[0margs\u001b[0m\u001b[1;33m,\u001b[0m \u001b[1;33m**\u001b[0m\u001b[0mkwds\u001b[0m\u001b[1;33m)\u001b[0m\u001b[1;33m\u001b[0m\u001b[1;33m\u001b[0m\u001b[0m\n\u001b[0m\u001b[0;32m     59\u001b[0m     \u001b[1;32mexcept\u001b[0m \u001b[0mTypeError\u001b[0m\u001b[1;33m:\u001b[0m\u001b[1;33m\u001b[0m\u001b[1;33m\u001b[0m\u001b[0m\n\u001b[0;32m     60\u001b[0m         \u001b[1;31m# A TypeError occurs if the object does have such a method in its\u001b[0m\u001b[1;33m\u001b[0m\u001b[1;33m\u001b[0m\u001b[1;33m\u001b[0m\u001b[0m\n",
          "\u001b[1;31mIndexError\u001b[0m: cannot do a non-empty take from an empty axes."
         ]
        }
       ]
      }
     },
     "12f272e2b87b4903914718d11ddf4f99": {
      "model_module": "@jupyter-widgets/controls",
      "model_module_version": "1.5.0",
      "model_name": "DescriptionStyleModel",
      "state": {
       "description_width": "initial"
      }
     },
     "13cdbb5e115f4b0380618ee507fab338": {
      "model_module": "@jupyter-widgets/controls",
      "model_module_version": "1.5.0",
      "model_name": "DropdownModel",
      "state": {
       "_options_labels": [
        "1"
       ],
       "description": "image: ",
       "index": 0,
       "layout": "IPY_MODEL_40465843d44f4b6d81813cc61c08e0e8",
       "style": "IPY_MODEL_e2ddc64787e24f1c9151add5a550299e"
      }
     },
     "1427066bde4a4c75b9fa77f5228945a0": {
      "model_module": "@jupyter-widgets/base",
      "model_module_version": "1.2.0",
      "model_name": "LayoutModel",
      "state": {}
     },
     "143a3d58427b4b80a24649482a88355d": {
      "model_module": "@jupyter-widgets/controls",
      "model_module_version": "1.5.0",
      "model_name": "IntTextModel",
      "state": {
       "description": "right of k-range",
       "layout": "IPY_MODEL_fe02bf18c0b14c46bf270ee93e02a371",
       "step": 1,
       "style": "IPY_MODEL_0dbb8dcf6aea4778854bdf505a60d276",
       "value": 28
      }
     },
     "143a533e5f4e4796ba867033004d2908": {
      "model_module": "@jupyter-widgets/controls",
      "model_module_version": "1.5.0",
      "model_name": "DropdownModel",
      "state": {
       "_options_labels": [
        "1"
       ],
       "description": "image: ",
       "index": 0,
       "layout": "IPY_MODEL_b2e3c06c6cad4b4ea61d92f5dea6197e",
       "style": "IPY_MODEL_f2ba975383ea46259d10f57437efef23"
      }
     },
     "150fbb4312ff47e2b177b10122efe2cc": {
      "model_module": "@jupyter-widgets/controls",
      "model_module_version": "1.5.0",
      "model_name": "DescriptionStyleModel",
      "state": {
       "description_width": "initial"
      }
     },
     "15568cd0e25746caa777c602f4a0c59b": {
      "model_module": "@jupyter-widgets/controls",
      "model_module_version": "1.5.0",
      "model_name": "DropdownModel",
      "state": {
       "_options_labels": [
        "1",
        "2",
        "3",
        "4"
       ],
       "description": "split: ",
       "index": 0,
       "layout": "IPY_MODEL_89fd56ff64254a609141ae33b5e24084",
       "style": "IPY_MODEL_1ebe3a35d26d4a75a3d658f8a71cf313"
      }
     },
     "155801080e044b529ed5d19fa8d2879a": {
      "model_module": "@jupyter-widgets/controls",
      "model_module_version": "1.5.0",
      "model_name": "DescriptionStyleModel",
      "state": {
       "description_width": "initial"
      }
     },
     "16918e701b79468f9e78ed93e1fdb8d8": {
      "model_module": "@jupyter-widgets/controls",
      "model_module_version": "1.5.0",
      "model_name": "DescriptionStyleModel",
      "state": {
       "description_width": "initial"
      }
     },
     "1732eec2e4ac4c27aa11670d7a596f7e": {
      "model_module": "@jupyter-widgets/controls",
      "model_module_version": "1.5.0",
      "model_name": "FloatTextModel",
      "state": {
       "description": "left percentile of variance range",
       "layout": "IPY_MODEL_b2920b5e909a4e209af324be63b20216",
       "step": null,
       "style": "IPY_MODEL_8e032453456a441aa45ef17b4d75d9f3",
       "value": 90
      }
     },
     "1736d37815284a66b50e12a3e1fafe8b": {
      "model_module": "@jupyter-widgets/controls",
      "model_module_version": "1.5.0",
      "model_name": "IntTextModel",
      "state": {
       "description": "minimum # of cluster pixels",
       "layout": "IPY_MODEL_72940ca4b2b345138aabc6c1aea984d1",
       "step": 1,
       "style": "IPY_MODEL_a5148725f3cb4dd0ab2c09d36ef6a06c",
       "value": 4
      }
     },
     "1753fa9dd421405686008c17796f8a43": {
      "model_module": "@jupyter-widgets/base",
      "model_module_version": "1.2.0",
      "model_name": "LayoutModel",
      "state": {}
     },
     "175a29f8e1e84f949331ecaa1f474281": {
      "model_module": "@jupyter-widgets/controls",
      "model_module_version": "1.5.0",
      "model_name": "DescriptionStyleModel",
      "state": {
       "description_width": "initial"
      }
     },
     "18210f1bd2c24c54ae5d72b9154c56a3": {
      "model_module": "@jupyter-widgets/controls",
      "model_module_version": "1.5.0",
      "model_name": "IntTextModel",
      "state": {
       "description": "minimum # of cluster pixels",
       "layout": "IPY_MODEL_75190846c831410290df8c5fee83d0b3",
       "step": 1,
       "style": "IPY_MODEL_11b9e5ab4429443b9ad4619e4010105f",
       "value": 4
      }
     },
     "1831df5204554065bc9b04d86b318fff": {
      "model_module": "@jupyter-widgets/controls",
      "model_module_version": "1.5.0",
      "model_name": "DropdownModel",
      "state": {
       "_options_labels": [
        "1"
       ],
       "description": "image: ",
       "index": 0,
       "layout": "IPY_MODEL_4fb7b718019046d882fae67832dab057",
       "style": "IPY_MODEL_10c2defee558458b87187a4b64889c1a"
      }
     },
     "187b57d33d2c4d09b1dd6cabe3c4d4b6": {
      "model_module": "@jupyter-widgets/controls",
      "model_module_version": "1.5.0",
      "model_name": "IntTextModel",
      "state": {
       "description": "left of k-range",
       "layout": "IPY_MODEL_3cefc91433c141f18659efa65c0f399e",
       "step": 1,
       "style": "IPY_MODEL_1ee79b9fac5b469dad4ab90d01e2d109",
       "value": 28
      }
     },
     "1886a61f924f406b8c89d56fc2dd5616": {
      "model_module": "@jupyter-widgets/controls",
      "model_module_version": "1.5.0",
      "model_name": "CheckboxModel",
      "state": {
       "description": "save the result",
       "disabled": false,
       "layout": "IPY_MODEL_0e99abb2ef6b4c438704c8cdcdf11f4a",
       "style": "IPY_MODEL_40093a533dda4d1396bf26c7eb66c8f7",
       "value": false
      }
     },
     "18870684efb346a692a7a3f1480b2c81": {
      "model_module": "@jupyter-widgets/base",
      "model_module_version": "1.2.0",
      "model_name": "LayoutModel",
      "state": {}
     },
     "18af6151db9049dc94e831a75014a13c": {
      "model_module": "@jupyter-widgets/controls",
      "model_module_version": "1.5.0",
      "model_name": "VBoxModel",
      "state": {
       "_dom_classes": [
        "widget-interact"
       ],
       "children": [
        "IPY_MODEL_05d58d0f01b04628997b2933916a81b4",
        "IPY_MODEL_4a0c2630db0e4b55869c11c240cd8cfc",
        "IPY_MODEL_0b69ee79b5a94fa9b672cae2ab6b89af",
        "IPY_MODEL_6f342f6b46d441cf92b0d15eb791ba39",
        "IPY_MODEL_6d283120c93542ef835afc54ab4b5229",
        "IPY_MODEL_1bcd94121505427e8d02572b920b8fc2",
        "IPY_MODEL_444c22d568ed4c95a4d37575cb99b225",
        "IPY_MODEL_75c41841c9d04532bc39c87cf7396028",
        "IPY_MODEL_1d17e1759b6f4b5fb8ab9745cb3ec77c",
        "IPY_MODEL_79d5428dfe044ed796609a2d834c2c47"
       ],
       "layout": "IPY_MODEL_e71bb895314d45fc9ebf3dada4630a74"
      }
     },
     "18e2e4dfe34a43f79fb78f085ba9194a": {
      "model_module": "@jupyter-widgets/base",
      "model_module_version": "1.2.0",
      "model_name": "LayoutModel",
      "state": {}
     },
     "18e8e6bfea8946598a8cd8b096362ea5": {
      "model_module": "@jupyter-widgets/base",
      "model_module_version": "1.2.0",
      "model_name": "LayoutModel",
      "state": {}
     },
     "190a02c7c2094d9884cc2abb222e41da": {
      "model_module": "@jupyter-widgets/base",
      "model_module_version": "1.2.0",
      "model_name": "LayoutModel",
      "state": {}
     },
     "190f67034ab44364b1e2c7719c0c9ea5": {
      "model_module": "@jupyter-widgets/controls",
      "model_module_version": "1.5.0",
      "model_name": "DescriptionStyleModel",
      "state": {
       "description_width": "initial"
      }
     },
     "195c9a7ec0d740d487745d7798e1700f": {
      "model_module": "@jupyter-widgets/base",
      "model_module_version": "1.2.0",
      "model_name": "LayoutModel",
      "state": {}
     },
     "196cf505f913458fbf93064f8e26ef2c": {
      "model_module": "@jupyter-widgets/controls",
      "model_module_version": "1.5.0",
      "model_name": "CheckboxModel",
      "state": {
       "description": "save the result",
       "disabled": false,
       "layout": "IPY_MODEL_ac7b418cd95044168175455053bbfeba",
       "style": "IPY_MODEL_9fa972ab9eef4cdc9ee0490b651cdc69",
       "value": false
      }
     },
     "198a7998dd7f4fe7a5f33c0798bdd290": {
      "model_module": "@jupyter-widgets/controls",
      "model_module_version": "1.5.0",
      "model_name": "DescriptionStyleModel",
      "state": {
       "description_width": "initial"
      }
     },
     "199d3fcefbbe4708b3087225e6cbb641": {
      "model_module": "@jupyter-widgets/output",
      "model_module_version": "1.0.0",
      "model_name": "OutputModel",
      "state": {
       "layout": "IPY_MODEL_b1ee2f633e6149b5b0953fd786383ae2",
       "outputs": [
        {
         "name": "stdout",
         "output_type": "stream",
         "text": "binning size (histogram) = 93\nleft k = 3.844086\nright k = 3.844086\nleft variance = 0.270704\nright variance = 0.586227\n----------------------------------------\nsplit 1, image 1\nepsilon=1.5, minimum # of samples=4\n-----------------------------  ------\narea (%)                         4.09\n# of cluster (per 10000 nm^2)  394\nmean perimeter                   3.61\nmean size                        1.15\nlargest size                     1.86\nsmallest size                    0.99\n-----------------------------  ------\n"
        }
       ]
      }
     },
     "1a078486b951428580ef2bfdd5d4530a": {
      "model_module": "@jupyter-widgets/output",
      "model_module_version": "1.0.0",
      "model_name": "OutputModel",
      "state": {
       "layout": "IPY_MODEL_09c0400c59a24612965b6ddfb9bd26c9",
       "outputs": [
        {
         "name": "stdout",
         "output_type": "stream",
         "text": "binning size (histogram) = 46\nleft k = 3.844086\nright k = 3.844086\n(46,)\n(47,)\n(46,)\n(46,)\n"
        },
        {
         "ename": "AttributeError",
         "evalue": "'numpy.ndarray' object has no attribute 'plot'",
         "output_type": "error",
         "traceback": [
          "\u001b[1;31m---------------------------------------------------------------------------\u001b[0m",
          "\u001b[1;31mAttributeError\u001b[0m                            Traceback (most recent call last)",
          "\u001b[1;32m~\\Anaconda3\\envs\\necessary\\lib\\site-packages\\ipywidgets\\widgets\\interaction.py\u001b[0m in \u001b[0;36mupdate\u001b[1;34m(self, *args)\u001b[0m\n\u001b[0;32m    254\u001b[0m                     \u001b[0mvalue\u001b[0m \u001b[1;33m=\u001b[0m \u001b[0mwidget\u001b[0m\u001b[1;33m.\u001b[0m\u001b[0mget_interact_value\u001b[0m\u001b[1;33m(\u001b[0m\u001b[1;33m)\u001b[0m\u001b[1;33m\u001b[0m\u001b[1;33m\u001b[0m\u001b[0m\n\u001b[0;32m    255\u001b[0m                     \u001b[0mself\u001b[0m\u001b[1;33m.\u001b[0m\u001b[0mkwargs\u001b[0m\u001b[1;33m[\u001b[0m\u001b[0mwidget\u001b[0m\u001b[1;33m.\u001b[0m\u001b[0m_kwarg\u001b[0m\u001b[1;33m]\u001b[0m \u001b[1;33m=\u001b[0m \u001b[0mvalue\u001b[0m\u001b[1;33m\u001b[0m\u001b[1;33m\u001b[0m\u001b[0m\n\u001b[1;32m--> 256\u001b[1;33m                 \u001b[0mself\u001b[0m\u001b[1;33m.\u001b[0m\u001b[0mresult\u001b[0m \u001b[1;33m=\u001b[0m \u001b[0mself\u001b[0m\u001b[1;33m.\u001b[0m\u001b[0mf\u001b[0m\u001b[1;33m(\u001b[0m\u001b[1;33m**\u001b[0m\u001b[0mself\u001b[0m\u001b[1;33m.\u001b[0m\u001b[0mkwargs\u001b[0m\u001b[1;33m)\u001b[0m\u001b[1;33m\u001b[0m\u001b[1;33m\u001b[0m\u001b[0m\n\u001b[0m\u001b[0;32m    257\u001b[0m                 \u001b[0mshow_inline_matplotlib_plots\u001b[0m\u001b[1;33m(\u001b[0m\u001b[1;33m)\u001b[0m\u001b[1;33m\u001b[0m\u001b[1;33m\u001b[0m\u001b[0m\n\u001b[0;32m    258\u001b[0m                 \u001b[1;32mif\u001b[0m \u001b[0mself\u001b[0m\u001b[1;33m.\u001b[0m\u001b[0mauto_display\u001b[0m \u001b[1;32mand\u001b[0m \u001b[0mself\u001b[0m\u001b[1;33m.\u001b[0m\u001b[0mresult\u001b[0m \u001b[1;32mis\u001b[0m \u001b[1;32mnot\u001b[0m \u001b[1;32mNone\u001b[0m\u001b[1;33m:\u001b[0m\u001b[1;33m\u001b[0m\u001b[1;33m\u001b[0m\u001b[0m\n",
          "\u001b[1;32m<ipython-input-59-2b7dad9f895c>\u001b[0m in \u001b[0;36mselector\u001b[1;34m(k1, k2, p1, p2, m, e, split, n_img, save_option)\u001b[0m\n\u001b[0;32m     36\u001b[0m     \u001b[1;31m#ax_sub[0].plot(grad, \"k-\")\u001b[0m\u001b[1;33m\u001b[0m\u001b[1;33m\u001b[0m\u001b[1;33m\u001b[0m\u001b[0m\n\u001b[0;32m     37\u001b[0m     \u001b[1;31m#ax_sub[1].plot(second_order, \"k-\")\u001b[0m\u001b[1;33m\u001b[0m\u001b[1;33m\u001b[0m\u001b[1;33m\u001b[0m\u001b[0m\n\u001b[1;32m---> 38\u001b[1;33m     \u001b[0max3\u001b[0m\u001b[1;33m.\u001b[0m\u001b[0mplot\u001b[0m\u001b[1;33m(\u001b[0m\u001b[0mhist_edges\u001b[0m\u001b[1;33m,\u001b[0m \u001b[0msecond_order\u001b[0m\u001b[1;33m,\u001b[0m \u001b[1;34m\"k+\"\u001b[0m\u001b[1;33m)\u001b[0m\u001b[1;33m\u001b[0m\u001b[1;33m\u001b[0m\u001b[0m\n\u001b[0m\u001b[0;32m     39\u001b[0m \u001b[1;33m\u001b[0m\u001b[0m\n\u001b[0;32m     40\u001b[0m     \u001b[0mv1\u001b[0m \u001b[1;33m=\u001b[0m \u001b[0mnp\u001b[0m\u001b[1;33m.\u001b[0m\u001b[0mpercentile\u001b[0m\u001b[1;33m(\u001b[0m\u001b[0mflat\u001b[0m\u001b[1;33m,\u001b[0m \u001b[0mp1\u001b[0m\u001b[1;33m)\u001b[0m\u001b[1;33m\u001b[0m\u001b[1;33m\u001b[0m\u001b[0m\n",
          "\u001b[1;31mAttributeError\u001b[0m: 'numpy.ndarray' object has no attribute 'plot'"
         ]
        }
       ]
      }
     },
     "1a446d1697bc4dcb9dd0122b1ba4c21e": {
      "model_module": "@jupyter-widgets/controls",
      "model_module_version": "1.5.0",
      "model_name": "DropdownModel",
      "state": {
       "_options_labels": [
        "1"
       ],
       "description": "image: ",
       "index": 0,
       "layout": "IPY_MODEL_ab53f56febc64d71bab483d5e6128b16",
       "style": "IPY_MODEL_653479ede4b94b998e47e6dd960895f6"
      }
     },
     "1a578977a4f04d709aa3bf96e243baee": {
      "model_module": "@jupyter-widgets/controls",
      "model_module_version": "1.5.0",
      "model_name": "DropdownModel",
      "state": {
       "_options_labels": [
        "1"
       ],
       "description": "image: ",
       "index": 0,
       "layout": "IPY_MODEL_849392d113774a29bf528863839c9885",
       "style": "IPY_MODEL_44f2ec2520ce4f96880e9c80bf3230b5"
      }
     },
     "1abd6796feb6433b9d1bda29f037464a": {
      "model_module": "@jupyter-widgets/base",
      "model_module_version": "1.2.0",
      "model_name": "LayoutModel",
      "state": {}
     },
     "1b197f9b3bb94286a24228cfece9deee": {
      "model_module": "@jupyter-widgets/base",
      "model_module_version": "1.2.0",
      "model_name": "LayoutModel",
      "state": {}
     },
     "1b42889ccbd7476096d118bb81209ce1": {
      "model_module": "@jupyter-widgets/base",
      "model_module_version": "1.2.0",
      "model_name": "LayoutModel",
      "state": {}
     },
     "1b5dca4f19f741df8bd050bd8bdf25d8": {
      "model_module": "@jupyter-widgets/controls",
      "model_module_version": "1.5.0",
      "model_name": "IntTextModel",
      "state": {
       "description": "minimum # of cluster pixels",
       "layout": "IPY_MODEL_ed93fbfd9f364a6390b93094b931d99c",
       "step": 1,
       "style": "IPY_MODEL_6f171e6561da4bb081b5e1dbebc4222a",
       "value": 4
      }
     },
     "1b721f76696948c69eccb0622dcae0ab": {
      "model_module": "@jupyter-widgets/controls",
      "model_module_version": "1.5.0",
      "model_name": "DropdownModel",
      "state": {
       "_options_labels": [
        "1"
       ],
       "description": "image: ",
       "index": 0,
       "layout": "IPY_MODEL_22fbd1b9bbb74aca8a40041e88351cca",
       "style": "IPY_MODEL_37d10d86c2a34b1fb10db9e0b85407e9"
      }
     },
     "1b8111a7810545fd89fc37b9f759544e": {
      "model_module": "@jupyter-widgets/base",
      "model_module_version": "1.2.0",
      "model_name": "LayoutModel",
      "state": {}
     },
     "1baf9a801ecf4e2c859f401b6efbc3c2": {
      "model_module": "@jupyter-widgets/controls",
      "model_module_version": "1.5.0",
      "model_name": "DescriptionStyleModel",
      "state": {
       "description_width": "initial"
      }
     },
     "1bcd94121505427e8d02572b920b8fc2": {
      "model_module": "@jupyter-widgets/controls",
      "model_module_version": "1.5.0",
      "model_name": "FloatTextModel",
      "state": {
       "description": "epsilon: ",
       "layout": "IPY_MODEL_8eea9cf61fbf4ab3b887b1137dcda91d",
       "step": null,
       "style": "IPY_MODEL_7f21db1f8a634c588cfc4f3125ba378a",
       "value": 1.5
      }
     },
     "1c9fd8027ed147228d2ac686330fc5e7": {
      "model_module": "@jupyter-widgets/base",
      "model_module_version": "1.2.0",
      "model_name": "LayoutModel",
      "state": {}
     },
     "1ca15d6806044bbb8157f4c3785eca8b": {
      "model_module": "@jupyter-widgets/controls",
      "model_module_version": "1.5.0",
      "model_name": "DescriptionStyleModel",
      "state": {
       "description_width": "initial"
      }
     },
     "1d04f46b0ad44ed89d20c520738d182b": {
      "model_module": "@jupyter-widgets/controls",
      "model_module_version": "1.5.0",
      "model_name": "FloatTextModel",
      "state": {
       "description": "left percentile of variance range",
       "layout": "IPY_MODEL_b58d7181fec846d7ac4f7c546b248246",
       "step": null,
       "style": "IPY_MODEL_e7d6523894524fe39a1b73a13cc50866",
       "value": 90
      }
     },
     "1d17e1759b6f4b5fb8ab9745cb3ec77c": {
      "model_module": "@jupyter-widgets/controls",
      "model_module_version": "1.5.0",
      "model_name": "CheckboxModel",
      "state": {
       "description": "save the result",
       "disabled": false,
       "layout": "IPY_MODEL_50b33330c81d4de58da0ee171310b4c8",
       "style": "IPY_MODEL_26c5887076754357a1a01d7e328843c7",
       "value": false
      }
     },
     "1d7ab6ad4cb54e40a309bc885964bd28": {
      "model_module": "@jupyter-widgets/base",
      "model_module_version": "1.2.0",
      "model_name": "LayoutModel",
      "state": {}
     },
     "1ea4f43d92aa41f9a26128fe8cb325c9": {
      "model_module": "@jupyter-widgets/base",
      "model_module_version": "1.2.0",
      "model_name": "LayoutModel",
      "state": {}
     },
     "1ebe3a35d26d4a75a3d658f8a71cf313": {
      "model_module": "@jupyter-widgets/controls",
      "model_module_version": "1.5.0",
      "model_name": "DescriptionStyleModel",
      "state": {
       "description_width": "initial"
      }
     },
     "1ee79b9fac5b469dad4ab90d01e2d109": {
      "model_module": "@jupyter-widgets/controls",
      "model_module_version": "1.5.0",
      "model_name": "DescriptionStyleModel",
      "state": {
       "description_width": "initial"
      }
     },
     "1f4cf613e1a84090b1a0dce1140cbd45": {
      "model_module": "@jupyter-widgets/controls",
      "model_module_version": "1.5.0",
      "model_name": "FloatTextModel",
      "state": {
       "description": "epsilon: ",
       "layout": "IPY_MODEL_74957c112f9f46d891945fb4f1e579b6",
       "step": null,
       "style": "IPY_MODEL_eecb1654b93b4ddeb3cd4e3acab80d49",
       "value": 1.5
      }
     },
     "1f871953f12f449b9a28d70a79b15faf": {
      "model_module": "@jupyter-widgets/base",
      "model_module_version": "1.2.0",
      "model_name": "LayoutModel",
      "state": {}
     },
     "1f9114dd23f246eaab0d578f38284b76": {
      "model_module": "@jupyter-widgets/controls",
      "model_module_version": "1.5.0",
      "model_name": "FloatTextModel",
      "state": {
       "description": "left percentile of variance range",
       "layout": "IPY_MODEL_b38ef30172b54371be494848b5261acd",
       "step": null,
       "style": "IPY_MODEL_6e6b78d310fe4b939dc7461add2d5634",
       "value": 90
      }
     },
     "1ffa3fefae094f7eb3929ae20f5ce9aa": {
      "model_module": "@jupyter-widgets/base",
      "model_module_version": "1.2.0",
      "model_name": "LayoutModel",
      "state": {}
     },
     "2048b6f2352c45818cfdcc5ec943518c": {
      "model_module": "@jupyter-widgets/controls",
      "model_module_version": "1.5.0",
      "model_name": "FloatTextModel",
      "state": {
       "description": "epsilon: ",
       "layout": "IPY_MODEL_6ba10497422d4ee8a66cb0b75a11e9a4",
       "step": null,
       "style": "IPY_MODEL_9fbb925e697549cb98367591244a2690",
       "value": 1.5
      }
     },
     "206eab732ca14e0882df72e077687894": {
      "model_module": "@jupyter-widgets/controls",
      "model_module_version": "1.5.0",
      "model_name": "DescriptionStyleModel",
      "state": {
       "description_width": "initial"
      }
     },
     "218fda7aab694dccbc897300a27b24c4": {
      "model_module": "@jupyter-widgets/controls",
      "model_module_version": "1.5.0",
      "model_name": "FloatTextModel",
      "state": {
       "description": "epsilon: ",
       "layout": "IPY_MODEL_47d698de467c4b16bc14af0812f35c71",
       "step": null,
       "style": "IPY_MODEL_1baf9a801ecf4e2c859f401b6efbc3c2",
       "value": 1.5
      }
     },
     "220441b6bd9746b38d8ee5d4a925224b": {
      "model_module": "@jupyter-widgets/controls",
      "model_module_version": "1.5.0",
      "model_name": "DescriptionStyleModel",
      "state": {
       "description_width": "initial"
      }
     },
     "22fbd1b9bbb74aca8a40041e88351cca": {
      "model_module": "@jupyter-widgets/base",
      "model_module_version": "1.2.0",
      "model_name": "LayoutModel",
      "state": {}
     },
     "2307656c3414411f86755d73afe16891": {
      "model_module": "@jupyter-widgets/controls",
      "model_module_version": "1.5.0",
      "model_name": "DescriptionStyleModel",
      "state": {
       "description_width": "initial"
      }
     },
     "2327792921ab473582921e49626a3ed1": {
      "model_module": "@jupyter-widgets/base",
      "model_module_version": "1.2.0",
      "model_name": "LayoutModel",
      "state": {}
     },
     "236689aaf6004ddc9fb860b6578b3567": {
      "model_module": "@jupyter-widgets/base",
      "model_module_version": "1.2.0",
      "model_name": "LayoutModel",
      "state": {}
     },
     "25ceeb51ce2b474cb814af1c34581655": {
      "model_module": "@jupyter-widgets/base",
      "model_module_version": "1.2.0",
      "model_name": "LayoutModel",
      "state": {}
     },
     "25dfb4680fbd4df1ab0a49c066d9f9b4": {
      "model_module": "@jupyter-widgets/controls",
      "model_module_version": "1.5.0",
      "model_name": "IntTextModel",
      "state": {
       "description": "left of k-range",
       "layout": "IPY_MODEL_94e7d477cdcc404bb33171044a0b1034",
       "step": 1,
       "style": "IPY_MODEL_12f272e2b87b4903914718d11ddf4f99",
       "value": 28
      }
     },
     "26551865c22d4b4b8a69eabcd48a3a22": {
      "model_module": "@jupyter-widgets/controls",
      "model_module_version": "1.5.0",
      "model_name": "DescriptionStyleModel",
      "state": {
       "description_width": "initial"
      }
     },
     "26c5887076754357a1a01d7e328843c7": {
      "model_module": "@jupyter-widgets/controls",
      "model_module_version": "1.5.0",
      "model_name": "DescriptionStyleModel",
      "state": {
       "description_width": ""
      }
     },
     "26d948a68ea54def88f9b6562743d4a1": {
      "model_module": "@jupyter-widgets/controls",
      "model_module_version": "1.5.0",
      "model_name": "DescriptionStyleModel",
      "state": {
       "description_width": "initial"
      }
     },
     "270e55d515d54e51913296e949022a08": {
      "model_module": "@jupyter-widgets/controls",
      "model_module_version": "1.5.0",
      "model_name": "VBoxModel",
      "state": {
       "_dom_classes": [
        "widget-interact"
       ],
       "children": [
        "IPY_MODEL_c951f9ceba31434eae42334b4c6d5854",
        "IPY_MODEL_845f0b2f6908484b9dbcf6f9595bfc05",
        "IPY_MODEL_e8bd93f5338d4acdb162ef31355ba805",
        "IPY_MODEL_499b4d7ac4484754856016697b72962d",
        "IPY_MODEL_094573dfad8442cfbd6b452c5a8f17c9",
        "IPY_MODEL_6711cc9d57f746049859de50a11f1c47",
        "IPY_MODEL_9e99b3f874f94b22a8b18db19c1e0126",
        "IPY_MODEL_3e8ee0625e284170a62e2609a3a2fa60",
        "IPY_MODEL_db96d23438d34960a2db3e2c1e802870",
        "IPY_MODEL_bf77c6880b7c4504926377105b89a778"
       ],
       "layout": "IPY_MODEL_e2699a0536f84773bc7505ee841d4daa"
      }
     },
     "27fe8149aee64ff69834fa1feb43e027": {
      "model_module": "@jupyter-widgets/controls",
      "model_module_version": "1.5.0",
      "model_name": "DescriptionStyleModel",
      "state": {
       "description_width": "initial"
      }
     },
     "292750b2431d469a9bfb3bdd990f4e5c": {
      "model_module": "@jupyter-widgets/controls",
      "model_module_version": "1.5.0",
      "model_name": "FloatTextModel",
      "state": {
       "description": "left percentile of variance range",
       "layout": "IPY_MODEL_889ef16a0fdc4808a15e7d94586870b4",
       "step": null,
       "style": "IPY_MODEL_81bdbd236fee4abf801bf6c20d254423",
       "value": 90
      }
     },
     "293181dc06fc41c89a8c73d213812486": {
      "model_module": "@jupyter-widgets/base",
      "model_module_version": "1.2.0",
      "model_name": "LayoutModel",
      "state": {}
     },
     "2940dd0046c5490089a12b09cfa2fdc8": {
      "model_module": "@jupyter-widgets/controls",
      "model_module_version": "1.5.0",
      "model_name": "IntTextModel",
      "state": {
       "description": "left of k-range",
       "layout": "IPY_MODEL_6a9f59d77df947ec85e766f13510a848",
       "step": 1,
       "style": "IPY_MODEL_2e1a83eaa8194939814a57651938ac70",
       "value": 28
      }
     },
     "294a49ff14cc4ed0a52e9edea6db12e9": {
      "model_module": "@jupyter-widgets/base",
      "model_module_version": "1.2.0",
      "model_name": "LayoutModel",
      "state": {}
     },
     "2974ecd6304542409501c627191424b0": {
      "model_module": "@jupyter-widgets/controls",
      "model_module_version": "1.5.0",
      "model_name": "DescriptionStyleModel",
      "state": {
       "description_width": ""
      }
     },
     "29c9a529334645129734b41a98341016": {
      "model_module": "@jupyter-widgets/controls",
      "model_module_version": "1.5.0",
      "model_name": "FloatTextModel",
      "state": {
       "description": "right percentile of variance range",
       "layout": "IPY_MODEL_1d7ab6ad4cb54e40a309bc885964bd28",
       "step": null,
       "style": "IPY_MODEL_b0ca46a53104452b994e36335fbacc4c",
       "value": 99.999
      }
     },
     "2c158d10d9bc49f6bc52dc86083e9e6a": {
      "model_module": "@jupyter-widgets/controls",
      "model_module_version": "1.5.0",
      "model_name": "FloatTextModel",
      "state": {
       "description": "right percentile of variance range",
       "layout": "IPY_MODEL_e6b2297bb7664b72bd5f8d75c0650dc2",
       "step": null,
       "style": "IPY_MODEL_ff1317fe2da949beb9013fe6710ae2e8",
       "value": 99.999
      }
     },
     "2c55b92187b54f2d871dd03e5a1fb34f": {
      "model_module": "@jupyter-widgets/controls",
      "model_module_version": "1.5.0",
      "model_name": "CheckboxModel",
      "state": {
       "description": "save the result",
       "disabled": false,
       "layout": "IPY_MODEL_236689aaf6004ddc9fb860b6578b3567",
       "style": "IPY_MODEL_9248339e0b0b46ff9a91d1cfc5ba3648",
       "value": false
      }
     },
     "2cafb4bf806e4988a85e73186f3c34b5": {
      "model_module": "@jupyter-widgets/controls",
      "model_module_version": "1.5.0",
      "model_name": "DropdownModel",
      "state": {
       "_options_labels": [
        "1",
        "2",
        "3",
        "4"
       ],
       "description": "split: ",
       "index": 0,
       "layout": "IPY_MODEL_e9fcf529d3214d45a839f5dc14bc5ac4",
       "style": "IPY_MODEL_04f7cc2433e3447da861fc8ed4a970ac"
      }
     },
     "2cd3016ebe5b47338ea68f2aeb9a89d4": {
      "model_module": "@jupyter-widgets/base",
      "model_module_version": "1.2.0",
      "model_name": "LayoutModel",
      "state": {}
     },
     "2e1a83eaa8194939814a57651938ac70": {
      "model_module": "@jupyter-widgets/controls",
      "model_module_version": "1.5.0",
      "model_name": "DescriptionStyleModel",
      "state": {
       "description_width": "initial"
      }
     },
     "2ed72d53e748483c86cb7168707658d8": {
      "model_module": "@jupyter-widgets/controls",
      "model_module_version": "1.5.0",
      "model_name": "DescriptionStyleModel",
      "state": {
       "description_width": "initial"
      }
     },
     "30bfa4b68419458fbea078a263fcabbe": {
      "model_module": "@jupyter-widgets/controls",
      "model_module_version": "1.5.0",
      "model_name": "IntTextModel",
      "state": {
       "description": "right of k-range",
       "layout": "IPY_MODEL_9ffe5d39f6f04b1fae957fafcc601fef",
       "step": 1,
       "style": "IPY_MODEL_206eab732ca14e0882df72e077687894",
       "value": 28
      }
     },
     "30cb9383f46148bc978dabcc239c8aaf": {
      "model_module": "@jupyter-widgets/base",
      "model_module_version": "1.2.0",
      "model_name": "LayoutModel",
      "state": {}
     },
     "3115761f8a7e4555a50512157dde926c": {
      "model_module": "@jupyter-widgets/base",
      "model_module_version": "1.2.0",
      "model_name": "LayoutModel",
      "state": {}
     },
     "311ee4681a9e42f38e53b8d24fd96d2f": {
      "model_module": "@jupyter-widgets/base",
      "model_module_version": "1.2.0",
      "model_name": "LayoutModel",
      "state": {}
     },
     "31dc786c519749278f20624d67d1b7fa": {
      "model_module": "@jupyter-widgets/controls",
      "model_module_version": "1.5.0",
      "model_name": "IntTextModel",
      "state": {
       "description": "left of k-range",
       "layout": "IPY_MODEL_8b5ef2cc2497414a944d5a5e2c6fa81a",
       "step": 1,
       "style": "IPY_MODEL_059f31a5256b4a4cbbe27f1a3970777d",
       "value": 28
      }
     },
     "321d91486b7744f6b40bd199564cdee1": {
      "model_module": "@jupyter-widgets/controls",
      "model_module_version": "1.5.0",
      "model_name": "DescriptionStyleModel",
      "state": {
       "description_width": "initial"
      }
     },
     "337080e78018409596c9fcfa337d069c": {
      "model_module": "@jupyter-widgets/base",
      "model_module_version": "1.2.0",
      "model_name": "LayoutModel",
      "state": {}
     },
     "341bc312201049ae98d93c506e04b298": {
      "model_module": "@jupyter-widgets/controls",
      "model_module_version": "1.5.0",
      "model_name": "IntTextModel",
      "state": {
       "description": "left of k-range",
       "layout": "IPY_MODEL_d325eaadea8e48f3b2b95f11cf631221",
       "step": 1,
       "style": "IPY_MODEL_08ff4cc3941b432bbace7fc445713a7a",
       "value": 28
      }
     },
     "345d3d9155ca4e4b9747d94f4b394cbb": {
      "model_module": "@jupyter-widgets/controls",
      "model_module_version": "1.5.0",
      "model_name": "DescriptionStyleModel",
      "state": {
       "description_width": "initial"
      }
     },
     "3470f5661df14e09a57929087cca7299": {
      "model_module": "@jupyter-widgets/controls",
      "model_module_version": "1.5.0",
      "model_name": "IntTextModel",
      "state": {
       "description": "minimum # of cluster pixels",
       "layout": "IPY_MODEL_59542de5d751468e94254a6e5b504964",
       "step": 1,
       "style": "IPY_MODEL_3473d6e2b4384db6add240936301272c",
       "value": 4
      }
     },
     "3473d6e2b4384db6add240936301272c": {
      "model_module": "@jupyter-widgets/controls",
      "model_module_version": "1.5.0",
      "model_name": "DescriptionStyleModel",
      "state": {
       "description_width": "initial"
      }
     },
     "34adae3a2ab54081ad9b0cff3b7671ec": {
      "model_module": "@jupyter-widgets/output",
      "model_module_version": "1.0.0",
      "model_name": "OutputModel",
      "state": {
       "layout": "IPY_MODEL_195c9a7ec0d740d487745d7798e1700f",
       "outputs": [
        {
         "name": "stdout",
         "output_type": "stream",
         "text": "left k = 3.844086\nright k = 3.844086\nleft variance = 0.270704\nright variance = 0.586227\n----------------------------------------\nsplit 1, image 1\nepsilon=1.5, minimum # of samples=4\n-----------------------------  ------\narea (%)                         4.09\n# of cluster (per 10000 nm^2)  394\nmean perimeter                   3.61\nmean size                        1.15\nlargest size                     1.86\nsmallest size                    0.99\n-----------------------------  ------\n"
        }
       ]
      }
     },
     "3573b23c7c534df1bc482248c343f3fe": {
      "model_module": "@jupyter-widgets/controls",
      "model_module_version": "1.5.0",
      "model_name": "DropdownModel",
      "state": {
       "_options_labels": [
        "1"
       ],
       "description": "image: ",
       "index": 0,
       "layout": "IPY_MODEL_5e754f9c3acc45c8a23965aec312959c",
       "style": "IPY_MODEL_155801080e044b529ed5d19fa8d2879a"
      }
     },
     "359b9651b781479997a23685b87dc552": {
      "model_module": "@jupyter-widgets/controls",
      "model_module_version": "1.5.0",
      "model_name": "CheckboxModel",
      "state": {
       "description": "save the result",
       "disabled": false,
       "layout": "IPY_MODEL_190a02c7c2094d9884cc2abb222e41da",
       "style": "IPY_MODEL_e99fdf01eea6480f845fde5a57016c73",
       "value": false
      }
     },
     "3604316146ec4062b1b87ab52ea5cca5": {
      "model_module": "@jupyter-widgets/base",
      "model_module_version": "1.2.0",
      "model_name": "LayoutModel",
      "state": {}
     },
     "36f47b163fdf4d7fbe41a1d2a062601e": {
      "model_module": "@jupyter-widgets/controls",
      "model_module_version": "1.5.0",
      "model_name": "FloatTextModel",
      "state": {
       "description": "right percentile of variance range",
       "layout": "IPY_MODEL_9f048e66caf6445fbb371c5e3c9d568f",
       "step": null,
       "style": "IPY_MODEL_b58ead2745d1447db47a4cb4e2f9b3df",
       "value": 99.999
      }
     },
     "3705cd56a6ef460881d74b7681883ff5": {
      "model_module": "@jupyter-widgets/controls",
      "model_module_version": "1.5.0",
      "model_name": "IntTextModel",
      "state": {
       "description": "minimum # of cluster pixels",
       "layout": "IPY_MODEL_f610db313f0a45dea553df6874489168",
       "step": 1,
       "style": "IPY_MODEL_fa4ce9eae282436fa8a1052ec1e92e0e",
       "value": 4
      }
     },
     "3751a024e9d64f2e87ba31746034fe6c": {
      "model_module": "@jupyter-widgets/controls",
      "model_module_version": "1.5.0",
      "model_name": "CheckboxModel",
      "state": {
       "description": "save the result",
       "disabled": false,
       "layout": "IPY_MODEL_7ac359291a0b40bca79eb1e1729a9679",
       "style": "IPY_MODEL_8460ab6fcfec4e8290eef1288b40ddab",
       "value": false
      }
     },
     "375d94fa36eb4194ae99cca7b51c78f7": {
      "model_module": "@jupyter-widgets/base",
      "model_module_version": "1.2.0",
      "model_name": "LayoutModel",
      "state": {}
     },
     "37711aca48eb4621b338a3d5d1f84643": {
      "model_module": "@jupyter-widgets/controls",
      "model_module_version": "1.5.0",
      "model_name": "DescriptionStyleModel",
      "state": {
       "description_width": "initial"
      }
     },
     "37d10d86c2a34b1fb10db9e0b85407e9": {
      "model_module": "@jupyter-widgets/controls",
      "model_module_version": "1.5.0",
      "model_name": "DescriptionStyleModel",
      "state": {
       "description_width": "initial"
      }
     },
     "3812a235ff2141628bbdecf42e266247": {
      "model_module": "@jupyter-widgets/base",
      "model_module_version": "1.2.0",
      "model_name": "LayoutModel",
      "state": {}
     },
     "39051379017141ec965f8d4c097660a7": {
      "model_module": "@jupyter-widgets/controls",
      "model_module_version": "1.5.0",
      "model_name": "DescriptionStyleModel",
      "state": {
       "description_width": "initial"
      }
     },
     "391fc6ef99294e3c9b5a61e2d36c8e50": {
      "model_module": "@jupyter-widgets/controls",
      "model_module_version": "1.5.0",
      "model_name": "DescriptionStyleModel",
      "state": {
       "description_width": ""
      }
     },
     "39cedd91b2714104abbcbc0e8d1b54ec": {
      "model_module": "@jupyter-widgets/controls",
      "model_module_version": "1.5.0",
      "model_name": "DescriptionStyleModel",
      "state": {
       "description_width": "initial"
      }
     },
     "39cfdb55e0ac4992abeb0498f6e090bd": {
      "model_module": "@jupyter-widgets/controls",
      "model_module_version": "1.5.0",
      "model_name": "DescriptionStyleModel",
      "state": {
       "description_width": "initial"
      }
     },
     "39f0268413994e3ebcf02d4ead64ed72": {
      "model_module": "@jupyter-widgets/controls",
      "model_module_version": "1.5.0",
      "model_name": "DescriptionStyleModel",
      "state": {
       "description_width": "initial"
      }
     },
     "3a36b8dfd7de4bf3a33973e04c435fb0": {
      "model_module": "@jupyter-widgets/base",
      "model_module_version": "1.2.0",
      "model_name": "LayoutModel",
      "state": {}
     },
     "3a6d316c1c8a40a5bf0cce5b0e946e54": {
      "model_module": "@jupyter-widgets/base",
      "model_module_version": "1.2.0",
      "model_name": "LayoutModel",
      "state": {}
     },
     "3a7cd8d9c5604b2994e341d05d5bd6c0": {
      "model_module": "@jupyter-widgets/base",
      "model_module_version": "1.2.0",
      "model_name": "LayoutModel",
      "state": {}
     },
     "3abc741fa2ee435fa8d77cc65e5bda61": {
      "model_module": "@jupyter-widgets/base",
      "model_module_version": "1.2.0",
      "model_name": "LayoutModel",
      "state": {}
     },
     "3b115081b6a64a4598b48d0fda52d170": {
      "model_module": "@jupyter-widgets/base",
      "model_module_version": "1.2.0",
      "model_name": "LayoutModel",
      "state": {}
     },
     "3b3a97d96c64484ab3d69c624ed447d0": {
      "model_module": "@jupyter-widgets/controls",
      "model_module_version": "1.5.0",
      "model_name": "FloatTextModel",
      "state": {
       "description": "left percentile of variance range",
       "layout": "IPY_MODEL_3ebdb4dd67814dff9747a159c551d21e",
       "step": null,
       "style": "IPY_MODEL_e2b4366396ea4e65b6537b30f567575a",
       "value": 90
      }
     },
     "3cefc91433c141f18659efa65c0f399e": {
      "model_module": "@jupyter-widgets/base",
      "model_module_version": "1.2.0",
      "model_name": "LayoutModel",
      "state": {}
     },
     "3d034268720240f1a11f577cc0b2953e": {
      "model_module": "@jupyter-widgets/base",
      "model_module_version": "1.2.0",
      "model_name": "LayoutModel",
      "state": {}
     },
     "3d73f05003e94b4b9fd910812527d7f2": {
      "model_module": "@jupyter-widgets/output",
      "model_module_version": "1.0.0",
      "model_name": "OutputModel",
      "state": {
       "layout": "IPY_MODEL_9be2981fd01e44b6ad7c3305ec4e0584",
       "outputs": [
        {
         "name": "stdout",
         "output_type": "stream",
         "text": "binning size (histogram) = 930\nleft k = 3.844086\nright k = 3.844086\nleft variance = 0.270704\nright variance = 0.586227\n----------------------------------------\nsplit 1, image 1\nepsilon=1.5, minimum # of samples=4\n-----------------------------  ------\narea (%)                         4.09\n# of cluster (per 10000 nm^2)  394\nmean perimeter                   3.61\nmean size                        1.15\nlargest size                     1.86\nsmallest size                    0.99\n-----------------------------  ------\n"
        }
       ]
      }
     },
     "3da576af721e44a592721bee930d9582": {
      "model_module": "@jupyter-widgets/base",
      "model_module_version": "1.2.0",
      "model_name": "LayoutModel",
      "state": {}
     },
     "3df98fa0c1fa4891b2b006cb55ba72e2": {
      "model_module": "@jupyter-widgets/base",
      "model_module_version": "1.2.0",
      "model_name": "LayoutModel",
      "state": {}
     },
     "3e8ee0625e284170a62e2609a3a2fa60": {
      "model_module": "@jupyter-widgets/controls",
      "model_module_version": "1.5.0",
      "model_name": "DropdownModel",
      "state": {
       "_options_labels": [
        "1"
       ],
       "description": "image: ",
       "index": 0,
       "layout": "IPY_MODEL_cf69d41e82d545728192e20812470d74",
       "style": "IPY_MODEL_150fbb4312ff47e2b177b10122efe2cc"
      }
     },
     "3ebdb4dd67814dff9747a159c551d21e": {
      "model_module": "@jupyter-widgets/base",
      "model_module_version": "1.2.0",
      "model_name": "LayoutModel",
      "state": {}
     },
     "3ee1710291534f03928a03e86e4aa3fd": {
      "model_module": "@jupyter-widgets/base",
      "model_module_version": "1.2.0",
      "model_name": "LayoutModel",
      "state": {}
     },
     "3fb6504ee5f04348aca81e04007ba870": {
      "model_module": "@jupyter-widgets/controls",
      "model_module_version": "1.5.0",
      "model_name": "DropdownModel",
      "state": {
       "_options_labels": [
        "1",
        "2",
        "3",
        "4"
       ],
       "description": "split: ",
       "index": 0,
       "layout": "IPY_MODEL_b897569e98a84a0fa8b32a37d56dd494",
       "style": "IPY_MODEL_cfef7def7a4b4ae6b28710e3f6af5431"
      }
     },
     "3fcbdcfe4b444c42b049e959ad27179c": {
      "model_module": "@jupyter-widgets/base",
      "model_module_version": "1.2.0",
      "model_name": "LayoutModel",
      "state": {}
     },
     "3fe090a6c9674fb2ae31b6d115628b34": {
      "model_module": "@jupyter-widgets/controls",
      "model_module_version": "1.5.0",
      "model_name": "VBoxModel",
      "state": {
       "_dom_classes": [
        "widget-interact"
       ],
       "children": [
        "IPY_MODEL_187b57d33d2c4d09b1dd6cabe3c4d4b6",
        "IPY_MODEL_d1acc8d0b801470c9ca95eade4d5df98",
        "IPY_MODEL_c42c5aecdaba47c5940f486541d8748f",
        "IPY_MODEL_ffc16cd50d8548ea9a71d846abd534c0",
        "IPY_MODEL_1b5dca4f19f741df8bd050bd8bdf25d8",
        "IPY_MODEL_e83b8d2be99f49e5ac7cfb3e75339047",
        "IPY_MODEL_a6b18c4e6b434ab194ec92c0418899e8",
        "IPY_MODEL_1a578977a4f04d709aa3bf96e243baee",
        "IPY_MODEL_bf8a02fc385949b490415f7cdd4893fa",
        "IPY_MODEL_34adae3a2ab54081ad9b0cff3b7671ec"
       ],
       "layout": "IPY_MODEL_8a060f20f20c4c8c94e19ca2255e93e1"
      }
     },
     "40093a533dda4d1396bf26c7eb66c8f7": {
      "model_module": "@jupyter-widgets/controls",
      "model_module_version": "1.5.0",
      "model_name": "DescriptionStyleModel",
      "state": {
       "description_width": ""
      }
     },
     "4015f5cc4e2a481cb5c5d0e76ddec823": {
      "model_module": "@jupyter-widgets/controls",
      "model_module_version": "1.5.0",
      "model_name": "VBoxModel",
      "state": {
       "_dom_classes": [
        "widget-interact"
       ],
       "children": [
        "IPY_MODEL_e0f7d5cb5aa747ca8151ae2e4eac86a7",
        "IPY_MODEL_67842abc369b48b5ac44be980e79f3ea",
        "IPY_MODEL_7b879ab83f79494a932fc62f0c836f93",
        "IPY_MODEL_9f987cdc21234a3f8ab3997eb851e045",
        "IPY_MODEL_c53cdbc58fdd47bb95d87e9441abbbd7",
        "IPY_MODEL_980009f6d51d40b49e7960d03bcf525e",
        "IPY_MODEL_3fb6504ee5f04348aca81e04007ba870",
        "IPY_MODEL_d6fa67cd4f6f49d69226b0b578e92f5d",
        "IPY_MODEL_488743d48670482a861c90177abd2621",
        "IPY_MODEL_3d73f05003e94b4b9fd910812527d7f2"
       ],
       "layout": "IPY_MODEL_7add1aa4173d4588b9b23d63dacca402"
      }
     },
     "40465843d44f4b6d81813cc61c08e0e8": {
      "model_module": "@jupyter-widgets/base",
      "model_module_version": "1.2.0",
      "model_name": "LayoutModel",
      "state": {}
     },
     "408d92a1c7584da3b06cf25d8f6bede0": {
      "model_module": "@jupyter-widgets/output",
      "model_module_version": "1.0.0",
      "model_name": "OutputModel",
      "state": {
       "layout": "IPY_MODEL_c8c21f5e9f7c429e93639fb44d7a44c1",
       "outputs": [
        {
         "name": "stdout",
         "output_type": "stream",
         "text": "binning size (histogram) = 930\nleft k = 3.844086\nright k = 3.844086\nleft variance = 0.270704\nright variance = 0.586227\n----------------------------------------\nsplit 1, image 1\nepsilon=1.5, minimum # of samples=4\n-----------------------------  ------\narea (%)                         4.09\n# of cluster (per 10000 nm^2)  394\nmean perimeter                   3.61\nmean size                        1.15\nlargest size                     1.86\nsmallest size                    0.99\n-----------------------------  ------\n"
        }
       ]
      }
     },
     "421a70f1b9ff4e90a921c66eb1aa7924": {
      "model_module": "@jupyter-widgets/base",
      "model_module_version": "1.2.0",
      "model_name": "LayoutModel",
      "state": {}
     },
     "427c04b00cf64720b109da71960732bc": {
      "model_module": "@jupyter-widgets/controls",
      "model_module_version": "1.5.0",
      "model_name": "FloatTextModel",
      "state": {
       "description": "left percentile of variance range",
       "layout": "IPY_MODEL_b2f001e87ea94aff86c4aae322a56f50",
       "step": null,
       "style": "IPY_MODEL_39cfdb55e0ac4992abeb0498f6e090bd",
       "value": 90
      }
     },
     "42d6f0b00470457d9c6cc819a3afbdfc": {
      "model_module": "@jupyter-widgets/controls",
      "model_module_version": "1.5.0",
      "model_name": "DescriptionStyleModel",
      "state": {
       "description_width": ""
      }
     },
     "44186eef2ea3479b8552d7691f5b6e6d": {
      "model_module": "@jupyter-widgets/controls",
      "model_module_version": "1.5.0",
      "model_name": "DescriptionStyleModel",
      "state": {
       "description_width": ""
      }
     },
     "444c22d568ed4c95a4d37575cb99b225": {
      "model_module": "@jupyter-widgets/controls",
      "model_module_version": "1.5.0",
      "model_name": "DropdownModel",
      "state": {
       "_options_labels": [
        "1",
        "2",
        "3",
        "4"
       ],
       "description": "split: ",
       "index": 0,
       "layout": "IPY_MODEL_8c75428dbc3240d697745eb37a03712a",
       "style": "IPY_MODEL_2307656c3414411f86755d73afe16891"
      }
     },
     "44893dec90aa453fa7dc265241cfb7c0": {
      "model_module": "@jupyter-widgets/base",
      "model_module_version": "1.2.0",
      "model_name": "LayoutModel",
      "state": {}
     },
     "449fd7eeb49643da892dfdabceadc5d3": {
      "model_module": "@jupyter-widgets/base",
      "model_module_version": "1.2.0",
      "model_name": "LayoutModel",
      "state": {}
     },
     "44a3dedb6dca4b1fb0273054a84f5fc5": {
      "model_module": "@jupyter-widgets/base",
      "model_module_version": "1.2.0",
      "model_name": "LayoutModel",
      "state": {}
     },
     "44f2ec2520ce4f96880e9c80bf3230b5": {
      "model_module": "@jupyter-widgets/controls",
      "model_module_version": "1.5.0",
      "model_name": "DescriptionStyleModel",
      "state": {
       "description_width": "initial"
      }
     },
     "45ca457c9b2f4fa2b9dfd052e44485e7": {
      "model_module": "@jupyter-widgets/controls",
      "model_module_version": "1.5.0",
      "model_name": "DescriptionStyleModel",
      "state": {
       "description_width": "initial"
      }
     },
     "461f55798ad0453bb15fdaf4a98dc08d": {
      "model_module": "@jupyter-widgets/base",
      "model_module_version": "1.2.0",
      "model_name": "LayoutModel",
      "state": {}
     },
     "462aeb31d4864234b682cae92af682fa": {
      "model_module": "@jupyter-widgets/base",
      "model_module_version": "1.2.0",
      "model_name": "LayoutModel",
      "state": {}
     },
     "466362facf8d4357b583c603ed5cb22a": {
      "model_module": "@jupyter-widgets/base",
      "model_module_version": "1.2.0",
      "model_name": "LayoutModel",
      "state": {}
     },
     "4667b12e0e844b3ba1d86f75082e9eac": {
      "model_module": "@jupyter-widgets/controls",
      "model_module_version": "1.5.0",
      "model_name": "DescriptionStyleModel",
      "state": {
       "description_width": "initial"
      }
     },
     "466f9fbe31c54a4aa785a13efde81867": {
      "model_module": "@jupyter-widgets/base",
      "model_module_version": "1.2.0",
      "model_name": "LayoutModel",
      "state": {}
     },
     "467435b1e1e74046b4b2bc0433b67c66": {
      "model_module": "@jupyter-widgets/controls",
      "model_module_version": "1.5.0",
      "model_name": "IntTextModel",
      "state": {
       "description": "right of k-range",
       "layout": "IPY_MODEL_466f9fbe31c54a4aa785a13efde81867",
       "step": 1,
       "style": "IPY_MODEL_321d91486b7744f6b40bd199564cdee1",
       "value": 28
      }
     },
     "46b9033b906b4a2797b94cb867115cb3": {
      "model_module": "@jupyter-widgets/controls",
      "model_module_version": "1.5.0",
      "model_name": "DescriptionStyleModel",
      "state": {
       "description_width": "initial"
      }
     },
     "47376502f0a54178ac4e99c771771ea6": {
      "model_module": "@jupyter-widgets/controls",
      "model_module_version": "1.5.0",
      "model_name": "DescriptionStyleModel",
      "state": {
       "description_width": "initial"
      }
     },
     "47772db21b9d4be688c3b53e315b1d11": {
      "model_module": "@jupyter-widgets/controls",
      "model_module_version": "1.5.0",
      "model_name": "DescriptionStyleModel",
      "state": {
       "description_width": ""
      }
     },
     "47d698de467c4b16bc14af0812f35c71": {
      "model_module": "@jupyter-widgets/base",
      "model_module_version": "1.2.0",
      "model_name": "LayoutModel",
      "state": {}
     },
     "4864deb308bb44439a5d17f39a1b431f": {
      "model_module": "@jupyter-widgets/output",
      "model_module_version": "1.0.0",
      "model_name": "OutputModel",
      "state": {
       "layout": "IPY_MODEL_ed72b5c8183949c389136b7ff528e554",
       "outputs": [
        {
         "name": "stdout",
         "output_type": "stream",
         "text": "binning size (histogram) = 46\nleft k = 3.844086\nright k = 3.844086\n(46,)\n(47,)\n(46,)\n(46,)\nleft variance = 0.270704\nright variance = 0.586227\n----------------------------------------\nsplit 1, image 1\nepsilon=1.5, minimum # of samples=4\n-----------------------------  ------\narea (%)                         4.09\n# of cluster (per 10000 nm^2)  394\nmean perimeter                   3.61\nmean size                        1.15\nlargest size                     1.86\nsmallest size                    0.99\n-----------------------------  ------\n"
        }
       ]
      }
     },
     "488743d48670482a861c90177abd2621": {
      "model_module": "@jupyter-widgets/controls",
      "model_module_version": "1.5.0",
      "model_name": "CheckboxModel",
      "state": {
       "description": "save the result",
       "disabled": false,
       "layout": "IPY_MODEL_ef14dee879ea450b939579d7e52d692b",
       "style": "IPY_MODEL_80eb007df5a546869f4874303ecbc804",
       "value": false
      }
     },
     "48c64b490c474f738124a97cce016c06": {
      "model_module": "@jupyter-widgets/controls",
      "model_module_version": "1.5.0",
      "model_name": "IntTextModel",
      "state": {
       "description": "minimum # of cluster pixels",
       "layout": "IPY_MODEL_878a08b3e6a34873b46e7d73207bb7b0",
       "step": 1,
       "style": "IPY_MODEL_220441b6bd9746b38d8ee5d4a925224b",
       "value": 4
      }
     },
     "48f49829002148c1b0f5cb64c70633a1": {
      "model_module": "@jupyter-widgets/controls",
      "model_module_version": "1.5.0",
      "model_name": "DescriptionStyleModel",
      "state": {
       "description_width": "initial"
      }
     },
     "48f7eb889031455b83c5b09835a0b9b6": {
      "model_module": "@jupyter-widgets/base",
      "model_module_version": "1.2.0",
      "model_name": "LayoutModel",
      "state": {}
     },
     "490ffb10a8c648b2bce86363c779da03": {
      "model_module": "@jupyter-widgets/base",
      "model_module_version": "1.2.0",
      "model_name": "LayoutModel",
      "state": {}
     },
     "496c9cab14d5474d96c7086e53a165a1": {
      "model_module": "@jupyter-widgets/controls",
      "model_module_version": "1.5.0",
      "model_name": "DescriptionStyleModel",
      "state": {
       "description_width": "initial"
      }
     },
     "4983a525356c426e864509217af83125": {
      "model_module": "@jupyter-widgets/base",
      "model_module_version": "1.2.0",
      "model_name": "LayoutModel",
      "state": {}
     },
     "499b4d7ac4484754856016697b72962d": {
      "model_module": "@jupyter-widgets/controls",
      "model_module_version": "1.5.0",
      "model_name": "FloatTextModel",
      "state": {
       "description": "right percentile of variance range",
       "layout": "IPY_MODEL_e575cd571c4e46c2893bd53f125559ca",
       "step": null,
       "style": "IPY_MODEL_684fde524a3d441ba91115bfe30822c6",
       "value": 99.999
      }
     },
     "4a0c2630db0e4b55869c11c240cd8cfc": {
      "model_module": "@jupyter-widgets/controls",
      "model_module_version": "1.5.0",
      "model_name": "IntTextModel",
      "state": {
       "description": "right of k-range",
       "layout": "IPY_MODEL_865ab8acb82b41d1a1f42882eb810f97",
       "step": 1,
       "style": "IPY_MODEL_b7bd0d9578ba4c07b5fab5dac2dda98a",
       "value": 28
      }
     },
     "4a0f0c2d12bb474f8f9b6d7b134526ff": {
      "model_module": "@jupyter-widgets/base",
      "model_module_version": "1.2.0",
      "model_name": "LayoutModel",
      "state": {}
     },
     "4a6821ea0af741bd9754a23e7002d05d": {
      "model_module": "@jupyter-widgets/base",
      "model_module_version": "1.2.0",
      "model_name": "LayoutModel",
      "state": {}
     },
     "4b81110f9ae1443eb7e6bd6c3e8bc92e": {
      "model_module": "@jupyter-widgets/base",
      "model_module_version": "1.2.0",
      "model_name": "LayoutModel",
      "state": {}
     },
     "4bceeb38ae5d4eeca25b73028b8d61d5": {
      "model_module": "@jupyter-widgets/base",
      "model_module_version": "1.2.0",
      "model_name": "LayoutModel",
      "state": {}
     },
     "4bdc9bcc42e741b9ad16086e56320ac4": {
      "model_module": "@jupyter-widgets/controls",
      "model_module_version": "1.5.0",
      "model_name": "DescriptionStyleModel",
      "state": {
       "description_width": "initial"
      }
     },
     "4d0a51c970b54826a6d105c5d56c1b96": {
      "model_module": "@jupyter-widgets/controls",
      "model_module_version": "1.5.0",
      "model_name": "IntTextModel",
      "state": {
       "description": "right of k-range",
       "layout": "IPY_MODEL_8d30d8d0048642d99f00eef3ac323fac",
       "step": 1,
       "style": "IPY_MODEL_d1dd84b38cf343e6a06deeb8d2c245d3",
       "value": 28
      }
     },
     "4dace06787e9480183d64be77e99d7b6": {
      "model_module": "@jupyter-widgets/base",
      "model_module_version": "1.2.0",
      "model_name": "LayoutModel",
      "state": {}
     },
     "4dd2c2c4044a4225b845372f3e2b1d12": {
      "model_module": "@jupyter-widgets/base",
      "model_module_version": "1.2.0",
      "model_name": "LayoutModel",
      "state": {}
     },
     "4f76e0bcbe044f9b872f948c2f31fa1d": {
      "model_module": "@jupyter-widgets/controls",
      "model_module_version": "1.5.0",
      "model_name": "DescriptionStyleModel",
      "state": {
       "description_width": "initial"
      }
     },
     "4f973615ef2743ffb1c451f87792d931": {
      "model_module": "@jupyter-widgets/base",
      "model_module_version": "1.2.0",
      "model_name": "LayoutModel",
      "state": {}
     },
     "4fb7b718019046d882fae67832dab057": {
      "model_module": "@jupyter-widgets/base",
      "model_module_version": "1.2.0",
      "model_name": "LayoutModel",
      "state": {}
     },
     "502d90df2aa74ff386f77d22213bb08e": {
      "model_module": "@jupyter-widgets/controls",
      "model_module_version": "1.5.0",
      "model_name": "VBoxModel",
      "state": {
       "_dom_classes": [
        "widget-interact"
       ],
       "children": [
        "IPY_MODEL_e86c945ba5df48f0afb9cbe83ae58163",
        "IPY_MODEL_9d630631d2f046e2af0d39e531a4251d",
        "IPY_MODEL_d7884799e5aa40439afa6f9fa114f0db",
        "IPY_MODEL_c31921dff7c848eabb32e9c618d3b466",
        "IPY_MODEL_126b18552fb24055a5050dceb1d6e48d"
       ],
       "layout": "IPY_MODEL_a9ab677d9ff24c8393334c1272f2e542"
      }
     },
     "506dd3b901f44ce1aa413f4573b21c6f": {
      "model_module": "@jupyter-widgets/controls",
      "model_module_version": "1.5.0",
      "model_name": "DropdownModel",
      "state": {
       "_options_labels": [
        "1"
       ],
       "description": "image: ",
       "index": 0,
       "layout": "IPY_MODEL_3a6d316c1c8a40a5bf0cce5b0e946e54",
       "style": "IPY_MODEL_e96b7ee5933a4348b276206ec0981628"
      }
     },
     "50b33330c81d4de58da0ee171310b4c8": {
      "model_module": "@jupyter-widgets/base",
      "model_module_version": "1.2.0",
      "model_name": "LayoutModel",
      "state": {}
     },
     "516b62338a774e35baba943117d7a2be": {
      "model_module": "@jupyter-widgets/base",
      "model_module_version": "1.2.0",
      "model_name": "LayoutModel",
      "state": {}
     },
     "51bbff14ed414b3ea292c11635def0f1": {
      "model_module": "@jupyter-widgets/controls",
      "model_module_version": "1.5.0",
      "model_name": "DescriptionStyleModel",
      "state": {
       "description_width": "initial"
      }
     },
     "524a36e15bc94b4baa8c523c869a051e": {
      "model_module": "@jupyter-widgets/controls",
      "model_module_version": "1.5.0",
      "model_name": "DescriptionStyleModel",
      "state": {
       "description_width": "initial"
      }
     },
     "52864736486a41d1b08cb11bf8dff7e5": {
      "model_module": "@jupyter-widgets/controls",
      "model_module_version": "1.5.0",
      "model_name": "DescriptionStyleModel",
      "state": {
       "description_width": "initial"
      }
     },
     "52e199af14a645ff9f9799a65520b72f": {
      "model_module": "@jupyter-widgets/controls",
      "model_module_version": "1.5.0",
      "model_name": "DescriptionStyleModel",
      "state": {
       "description_width": "initial"
      }
     },
     "5340590c8f10499ba79771bf85966190": {
      "model_module": "@jupyter-widgets/base",
      "model_module_version": "1.2.0",
      "model_name": "LayoutModel",
      "state": {}
     },
     "5340e4569d924ef2a33a55c305e49bc0": {
      "model_module": "@jupyter-widgets/controls",
      "model_module_version": "1.5.0",
      "model_name": "DescriptionStyleModel",
      "state": {
       "description_width": "initial"
      }
     },
     "5428178a419746898b1278d2b3696c1a": {
      "model_module": "@jupyter-widgets/base",
      "model_module_version": "1.2.0",
      "model_name": "LayoutModel",
      "state": {}
     },
     "554168d75ff54c2c87844e58cbe676b9": {
      "model_module": "@jupyter-widgets/controls",
      "model_module_version": "1.5.0",
      "model_name": "IntTextModel",
      "state": {
       "description": "left of k-range",
       "layout": "IPY_MODEL_958451e1e21a41f78a6f8911eaa6da56",
       "step": 1,
       "style": "IPY_MODEL_a8336d826a4c4349aa959c65c42c4814",
       "value": 28
      }
     },
     "555b3c4ae0ca4f21a28f621de96356ba": {
      "model_module": "@jupyter-widgets/controls",
      "model_module_version": "1.5.0",
      "model_name": "FloatTextModel",
      "state": {
       "description": "epsilon: ",
       "layout": "IPY_MODEL_de1e51fd838d4f398ca2d828d6ac94ec",
       "step": null,
       "style": "IPY_MODEL_2ed72d53e748483c86cb7168707658d8",
       "value": 1.5
      }
     },
     "56115442198a46478c06efc423decc4a": {
      "model_module": "@jupyter-widgets/base",
      "model_module_version": "1.2.0",
      "model_name": "LayoutModel",
      "state": {}
     },
     "56dc17b16bc8432482aa33921d3888e0": {
      "model_module": "@jupyter-widgets/controls",
      "model_module_version": "1.5.0",
      "model_name": "FloatTextModel",
      "state": {
       "description": "right percentile of variance range",
       "layout": "IPY_MODEL_f547f8d9d5d646b28d8a3d0fd8370631",
       "step": null,
       "style": "IPY_MODEL_9a5f9b2501d9471885e885305a656dbd",
       "value": 99.999
      }
     },
     "57a776354d604a0f84632f266f602261": {
      "model_module": "@jupyter-widgets/output",
      "model_module_version": "1.0.0",
      "model_name": "OutputModel",
      "state": {
       "layout": "IPY_MODEL_dfcc68992bc844799170baef9da6c67f",
       "outputs": [
        {
         "name": "stdout",
         "output_type": "stream",
         "text": "left k = 3.844086\nright k = 3.844086\nleft variance = 0.270704\nright variance = 0.586227\n----------------------------------------\nsplit 1, image 1\nepsilon=1.5, minimum # of samples=4\n-----------------------------  ------\narea (%)                         4.09\n# of cluster (per 10000 nm^2)  394\nmean perimeter                   3.61\nmean size                        1.15\nlargest size                     1.86\nsmallest size                    0.99\n-----------------------------  ------\n"
        }
       ]
      }
     },
     "582dbb4ab1004e54be984d14f95ba400": {
      "model_module": "@jupyter-widgets/controls",
      "model_module_version": "1.5.0",
      "model_name": "DescriptionStyleModel",
      "state": {
       "description_width": "initial"
      }
     },
     "583a3df4ea594768b6735f35ccf005cd": {
      "model_module": "@jupyter-widgets/controls",
      "model_module_version": "1.5.0",
      "model_name": "IntTextModel",
      "state": {
       "description": "left of k-range",
       "layout": "IPY_MODEL_61222fd3803c4c2a8c598fe42c73e126",
       "step": 1,
       "style": "IPY_MODEL_b490bb224e624b68941280ce203067f5",
       "value": 28
      }
     },
     "59542de5d751468e94254a6e5b504964": {
      "model_module": "@jupyter-widgets/base",
      "model_module_version": "1.2.0",
      "model_name": "LayoutModel",
      "state": {}
     },
     "59ceaa6bf7ca43ab930917fbb399ac18": {
      "model_module": "@jupyter-widgets/base",
      "model_module_version": "1.2.0",
      "model_name": "LayoutModel",
      "state": {}
     },
     "59e0f42cddad4bff915393ae94e4b0ea": {
      "model_module": "@jupyter-widgets/controls",
      "model_module_version": "1.5.0",
      "model_name": "FloatTextModel",
      "state": {
       "description": "epsilon: ",
       "layout": "IPY_MODEL_56115442198a46478c06efc423decc4a",
       "step": null,
       "style": "IPY_MODEL_0b6644e1a05141f3a75bf93482c0b811",
       "value": 1.5
      }
     },
     "5a70271b2593486a99be5cc55a9150a8": {
      "model_module": "@jupyter-widgets/base",
      "model_module_version": "1.2.0",
      "model_name": "LayoutModel",
      "state": {}
     },
     "5aa5fb6730fa4cd0be59eee2dbe2693c": {
      "model_module": "@jupyter-widgets/base",
      "model_module_version": "1.2.0",
      "model_name": "LayoutModel",
      "state": {}
     },
     "5ae606cc07e041f5b4c53fe5e6a90365": {
      "model_module": "@jupyter-widgets/base",
      "model_module_version": "1.2.0",
      "model_name": "LayoutModel",
      "state": {}
     },
     "5b5b3ea26b13452aa1607b520907379a": {
      "model_module": "@jupyter-widgets/controls",
      "model_module_version": "1.5.0",
      "model_name": "CheckboxModel",
      "state": {
       "description": "save the result",
       "disabled": false,
       "layout": "IPY_MODEL_bcf7b841bd834ebf8091578d47a2da7d",
       "style": "IPY_MODEL_72f689ddbb174ec2bffd8fb040fe0186",
       "value": false
      }
     },
     "5bf8d26f07d74e1eaa2714311a210c20": {
      "model_module": "@jupyter-widgets/controls",
      "model_module_version": "1.5.0",
      "model_name": "DescriptionStyleModel",
      "state": {
       "description_width": "initial"
      }
     },
     "5c08cd4434eb42d396614a7f7caf7771": {
      "model_module": "@jupyter-widgets/controls",
      "model_module_version": "1.5.0",
      "model_name": "DescriptionStyleModel",
      "state": {
       "description_width": "initial"
      }
     },
     "5c462005fa924ea7ac55c68e7dedd9e2": {
      "model_module": "@jupyter-widgets/controls",
      "model_module_version": "1.5.0",
      "model_name": "DescriptionStyleModel",
      "state": {
       "description_width": "initial"
      }
     },
     "5c94089636b44d4ab5b93402e747bc83": {
      "model_module": "@jupyter-widgets/controls",
      "model_module_version": "1.5.0",
      "model_name": "DescriptionStyleModel",
      "state": {
       "description_width": "initial"
      }
     },
     "5d60199acb804c87a5ee79c22a1eded3": {
      "model_module": "@jupyter-widgets/base",
      "model_module_version": "1.2.0",
      "model_name": "LayoutModel",
      "state": {}
     },
     "5e754f9c3acc45c8a23965aec312959c": {
      "model_module": "@jupyter-widgets/base",
      "model_module_version": "1.2.0",
      "model_name": "LayoutModel",
      "state": {}
     },
     "5eac0c90bb0248e5a2f2e7ee2b5dbbc1": {
      "model_module": "@jupyter-widgets/output",
      "model_module_version": "1.0.0",
      "model_name": "OutputModel",
      "state": {
       "layout": "IPY_MODEL_18870684efb346a692a7a3f1480b2c81",
       "outputs": [
        {
         "name": "stdout",
         "output_type": "stream",
         "text": "binning size (histogram) = 93\nleft k = 3.844086\nright k = 3.844086\nleft variance = 0.270704\nright variance = 0.586227\n----------------------------------------\nsplit 1, image 1\nepsilon=1.5, minimum # of samples=4\n-----------------------------  ------\narea (%)                         4.09\n# of cluster (per 10000 nm^2)  394\nmean perimeter                   3.61\nmean size                        1.15\nlargest size                     1.86\nsmallest size                    0.99\n-----------------------------  ------\n"
        }
       ]
      }
     },
     "5f828b18d228400ca853b9ad1f855085": {
      "model_module": "@jupyter-widgets/controls",
      "model_module_version": "1.5.0",
      "model_name": "IntTextModel",
      "state": {
       "description": "minimum # of cluster pixels",
       "layout": "IPY_MODEL_5aa5fb6730fa4cd0be59eee2dbe2693c",
       "step": 1,
       "style": "IPY_MODEL_e3c8e6c7f0a342f092b32fad1f605af6",
       "value": 4
      }
     },
     "6039b519592949edad33ef582dbbf5a0": {
      "model_module": "@jupyter-widgets/controls",
      "model_module_version": "1.5.0",
      "model_name": "DescriptionStyleModel",
      "state": {
       "description_width": "initial"
      }
     },
     "603bd944cef14c93b6ec3300fc004f52": {
      "model_module": "@jupyter-widgets/controls",
      "model_module_version": "1.5.0",
      "model_name": "FloatTextModel",
      "state": {
       "description": "right percentile of variance range",
       "layout": "IPY_MODEL_2cd3016ebe5b47338ea68f2aeb9a89d4",
       "step": null,
       "style": "IPY_MODEL_8dc1b26cd27e47c9b81d08eeadb9f769",
       "value": 99.999
      }
     },
     "61222fd3803c4c2a8c598fe42c73e126": {
      "model_module": "@jupyter-widgets/base",
      "model_module_version": "1.2.0",
      "model_name": "LayoutModel",
      "state": {}
     },
     "628546df96694a87b06bfd28e9d1ea16": {
      "model_module": "@jupyter-widgets/base",
      "model_module_version": "1.2.0",
      "model_name": "LayoutModel",
      "state": {}
     },
     "62ab8fff6eb8434dbdd3675cfea3fa68": {
      "model_module": "@jupyter-widgets/base",
      "model_module_version": "1.2.0",
      "model_name": "LayoutModel",
      "state": {}
     },
     "62dcc8881ff1415180e6121a4fa22571": {
      "model_module": "@jupyter-widgets/controls",
      "model_module_version": "1.5.0",
      "model_name": "DescriptionStyleModel",
      "state": {
       "description_width": "initial"
      }
     },
     "636c48c5a2384d81b14a8864de98aa88": {
      "model_module": "@jupyter-widgets/base",
      "model_module_version": "1.2.0",
      "model_name": "LayoutModel",
      "state": {}
     },
     "6443060cb9a34382bae169e7fc295d79": {
      "model_module": "@jupyter-widgets/controls",
      "model_module_version": "1.5.0",
      "model_name": "VBoxModel",
      "state": {
       "_dom_classes": [
        "widget-interact"
       ],
       "children": [
        "IPY_MODEL_d135cb3bbff5413f8a1728442c6331ca",
        "IPY_MODEL_b11c2d5a38e7476a91f7392945e1902c",
        "IPY_MODEL_aa3536aa61554a8a96962850ce3cfe5c",
        "IPY_MODEL_8d1df40c1ca645bf83806d335cd21e05",
        "IPY_MODEL_f0bd2f0d94e74e989368f7804c2604a7",
        "IPY_MODEL_218fda7aab694dccbc897300a27b24c4",
        "IPY_MODEL_e9790e15f798429589d91bfeff49fe96",
        "IPY_MODEL_8d32af949c4346e0b2f9082204117b9a",
        "IPY_MODEL_8ee65a668b204aada0b7ba0c0848fc0d",
        "IPY_MODEL_b98f71600b8d44eda29d9e9ada64cc59"
       ],
       "layout": "IPY_MODEL_da14090c0e81433282c201406588847d"
      }
     },
     "6492346843b04b109077c4b02e217c9e": {
      "model_module": "@jupyter-widgets/controls",
      "model_module_version": "1.5.0",
      "model_name": "DropdownModel",
      "state": {
       "_options_labels": [
        "1",
        "2",
        "3",
        "4"
       ],
       "description": "split: ",
       "index": 0,
       "layout": "IPY_MODEL_050bb325ad2349f59ec6ad5f3dab6865",
       "style": "IPY_MODEL_6e6df79576964d90b919eddd3c9df29d"
      }
     },
     "64c684f5db094663a0752fc8e5cc4656": {
      "model_module": "@jupyter-widgets/base",
      "model_module_version": "1.2.0",
      "model_name": "LayoutModel",
      "state": {}
     },
     "652bab6ccf694780a869e502f11554db": {
      "model_module": "@jupyter-widgets/controls",
      "model_module_version": "1.5.0",
      "model_name": "IntTextModel",
      "state": {
       "description": "right of k-range",
       "layout": "IPY_MODEL_033aa41eac9649b0aa973476dae0260e",
       "step": 1,
       "style": "IPY_MODEL_d97dfa97137d48d1aa2d45b981cf2acd",
       "value": 28
      }
     },
     "653479ede4b94b998e47e6dd960895f6": {
      "model_module": "@jupyter-widgets/controls",
      "model_module_version": "1.5.0",
      "model_name": "DescriptionStyleModel",
      "state": {
       "description_width": "initial"
      }
     },
     "65e71dfe37794004b3fe41717d20bb9c": {
      "model_module": "@jupyter-widgets/base",
      "model_module_version": "1.2.0",
      "model_name": "LayoutModel",
      "state": {}
     },
     "6711cc9d57f746049859de50a11f1c47": {
      "model_module": "@jupyter-widgets/controls",
      "model_module_version": "1.5.0",
      "model_name": "FloatTextModel",
      "state": {
       "description": "epsilon: ",
       "layout": "IPY_MODEL_01192ed3656e4a10a427c2ca591bf5c7",
       "step": null,
       "style": "IPY_MODEL_9c6d13892ca54bf292872550a119f14f",
       "value": 1.5
      }
     },
     "67842abc369b48b5ac44be980e79f3ea": {
      "model_module": "@jupyter-widgets/controls",
      "model_module_version": "1.5.0",
      "model_name": "IntTextModel",
      "state": {
       "description": "right of k-range",
       "layout": "IPY_MODEL_e1e105ba2106434a9f0046d7e7728d88",
       "step": 1,
       "style": "IPY_MODEL_0c35bb48062e46c4a61c57e70526257c",
       "value": 28
      }
     },
     "6805a71b534f4f0a92aa152db31db4c9": {
      "model_module": "@jupyter-widgets/controls",
      "model_module_version": "1.5.0",
      "model_name": "DescriptionStyleModel",
      "state": {
       "description_width": "initial"
      }
     },
     "684fde524a3d441ba91115bfe30822c6": {
      "model_module": "@jupyter-widgets/controls",
      "model_module_version": "1.5.0",
      "model_name": "DescriptionStyleModel",
      "state": {
       "description_width": "initial"
      }
     },
     "68990d398fd048fa80431257d8c4b884": {
      "model_module": "@jupyter-widgets/controls",
      "model_module_version": "1.5.0",
      "model_name": "DescriptionStyleModel",
      "state": {
       "description_width": "initial"
      }
     },
     "6944aee5197640db8d083475c9f36635": {
      "model_module": "@jupyter-widgets/base",
      "model_module_version": "1.2.0",
      "model_name": "LayoutModel",
      "state": {}
     },
     "6983e389e8d84afd94cf8c63c0610d9e": {
      "model_module": "@jupyter-widgets/controls",
      "model_module_version": "1.5.0",
      "model_name": "IntTextModel",
      "state": {
       "description": "right of k-range",
       "layout": "IPY_MODEL_516b62338a774e35baba943117d7a2be",
       "step": 1,
       "style": "IPY_MODEL_b1bfd6c7b8e74b739855b70000d4ae02",
       "value": 28
      }
     },
     "69b5c17648544799a81a93bfe7ded429": {
      "model_module": "@jupyter-widgets/base",
      "model_module_version": "1.2.0",
      "model_name": "LayoutModel",
      "state": {}
     },
     "69f5a24e53ab4bb8a75d2446d3e971e4": {
      "model_module": "@jupyter-widgets/base",
      "model_module_version": "1.2.0",
      "model_name": "LayoutModel",
      "state": {}
     },
     "69f8bdb1df73477aa9cced2455fc6cc8": {
      "model_module": "@jupyter-widgets/base",
      "model_module_version": "1.2.0",
      "model_name": "LayoutModel",
      "state": {}
     },
     "6a055d6707054b8aafc0a5fb8d639655": {
      "model_module": "@jupyter-widgets/output",
      "model_module_version": "1.0.0",
      "model_name": "OutputModel",
      "state": {
       "layout": "IPY_MODEL_8c1f140b99534c22b6b9aed3bb9fb1b4",
       "outputs": [
        {
         "name": "stdout",
         "output_type": "stream",
         "text": "left k = 3.844086\nright k = 3.844086\nleft variance = 0.293436\nright variance = 0.874227\n"
        }
       ]
      }
     },
     "6a9f59d77df947ec85e766f13510a848": {
      "model_module": "@jupyter-widgets/base",
      "model_module_version": "1.2.0",
      "model_name": "LayoutModel",
      "state": {}
     },
     "6ae406d942204fcb862685fbbf4ad469": {
      "model_module": "@jupyter-widgets/controls",
      "model_module_version": "1.5.0",
      "model_name": "DescriptionStyleModel",
      "state": {
       "description_width": "initial"
      }
     },
     "6ba10497422d4ee8a66cb0b75a11e9a4": {
      "model_module": "@jupyter-widgets/base",
      "model_module_version": "1.2.0",
      "model_name": "LayoutModel",
      "state": {}
     },
     "6bd356ef7d0e47db991dc3f0867dca80": {
      "model_module": "@jupyter-widgets/base",
      "model_module_version": "1.2.0",
      "model_name": "LayoutModel",
      "state": {}
     },
     "6ce6e2716bf14ced8d675d0cd6f0a130": {
      "model_module": "@jupyter-widgets/controls",
      "model_module_version": "1.5.0",
      "model_name": "DescriptionStyleModel",
      "state": {
       "description_width": "initial"
      }
     },
     "6d283120c93542ef835afc54ab4b5229": {
      "model_module": "@jupyter-widgets/controls",
      "model_module_version": "1.5.0",
      "model_name": "IntTextModel",
      "state": {
       "description": "minimum # of cluster pixels",
       "layout": "IPY_MODEL_5340590c8f10499ba79771bf85966190",
       "step": 1,
       "style": "IPY_MODEL_92a5cacb74eb4409a51e4b83b808ab88",
       "value": 4
      }
     },
     "6d5d9ee2f7fd4e59b422c10598b90367": {
      "model_module": "@jupyter-widgets/controls",
      "model_module_version": "1.5.0",
      "model_name": "DescriptionStyleModel",
      "state": {
       "description_width": "initial"
      }
     },
     "6e0b0fd113674e368c2f68411d2770ba": {
      "model_module": "@jupyter-widgets/base",
      "model_module_version": "1.2.0",
      "model_name": "LayoutModel",
      "state": {}
     },
     "6e5c283a5f534a0c9ab818dd7533b277": {
      "model_module": "@jupyter-widgets/controls",
      "model_module_version": "1.5.0",
      "model_name": "DescriptionStyleModel",
      "state": {
       "description_width": "initial"
      }
     },
     "6e5cad73d5644fdf816183e38a2245d2": {
      "model_module": "@jupyter-widgets/controls",
      "model_module_version": "1.5.0",
      "model_name": "DescriptionStyleModel",
      "state": {
       "description_width": "initial"
      }
     },
     "6e6b78d310fe4b939dc7461add2d5634": {
      "model_module": "@jupyter-widgets/controls",
      "model_module_version": "1.5.0",
      "model_name": "DescriptionStyleModel",
      "state": {
       "description_width": "initial"
      }
     },
     "6e6df79576964d90b919eddd3c9df29d": {
      "model_module": "@jupyter-widgets/controls",
      "model_module_version": "1.5.0",
      "model_name": "DescriptionStyleModel",
      "state": {
       "description_width": "initial"
      }
     },
     "6f171e6561da4bb081b5e1dbebc4222a": {
      "model_module": "@jupyter-widgets/controls",
      "model_module_version": "1.5.0",
      "model_name": "DescriptionStyleModel",
      "state": {
       "description_width": "initial"
      }
     },
     "6f342f6b46d441cf92b0d15eb791ba39": {
      "model_module": "@jupyter-widgets/controls",
      "model_module_version": "1.5.0",
      "model_name": "FloatTextModel",
      "state": {
       "description": "right percentile of variance range",
       "layout": "IPY_MODEL_056b6bb27ad34869bb7e289fa2e9da1a",
       "step": null,
       "style": "IPY_MODEL_946c570f9eaa4b49a3fba98d306c7bce",
       "value": 99.999
      }
     },
     "70506685f4da4dd8af6dba6e3b9627f0": {
      "model_module": "@jupyter-widgets/output",
      "model_module_version": "1.0.0",
      "model_name": "OutputModel",
      "state": {
       "layout": "IPY_MODEL_c25103b4fbf3448ead6607beefe6824a",
       "outputs": [
        {
         "name": "stdout",
         "output_type": "stream",
         "text": "binning size (histogram) = 93\nleft k = 3.844086\nright k = 3.844086\nleft variance = 0.270704\nright variance = 0.586227\n----------------------------------------\nsplit 1, image 1\nepsilon=1.5, minimum # of samples=4\n-----------------------------  ------\narea (%)                         4.09\n# of cluster (per 10000 nm^2)  394\nmean perimeter                   3.61\nmean size                        1.15\nlargest size                     1.86\nsmallest size                    0.99\n-----------------------------  ------\n"
        }
       ]
      }
     },
     "71a3bc7a52e845d3a6f49a6c807570dd": {
      "model_module": "@jupyter-widgets/controls",
      "model_module_version": "1.5.0",
      "model_name": "DescriptionStyleModel",
      "state": {
       "description_width": "initial"
      }
     },
     "71dfeb8daea14f86b9172a779ff41163": {
      "model_module": "@jupyter-widgets/controls",
      "model_module_version": "1.5.0",
      "model_name": "DescriptionStyleModel",
      "state": {
       "description_width": "initial"
      }
     },
     "725ee84b88464411ac3af031bb667126": {
      "model_module": "@jupyter-widgets/controls",
      "model_module_version": "1.5.0",
      "model_name": "DropdownModel",
      "state": {
       "_options_labels": [
        "1"
       ],
       "description": "image: ",
       "index": 0,
       "layout": "IPY_MODEL_d4c34042376d4de8bec3c86679192294",
       "style": "IPY_MODEL_c1ff9968de164aa19838cf66df13633e"
      }
     },
     "72940ca4b2b345138aabc6c1aea984d1": {
      "model_module": "@jupyter-widgets/base",
      "model_module_version": "1.2.0",
      "model_name": "LayoutModel",
      "state": {}
     },
     "72be2b0e3b884270be4af7280a4a0a6f": {
      "model_module": "@jupyter-widgets/controls",
      "model_module_version": "1.5.0",
      "model_name": "DropdownModel",
      "state": {
       "_options_labels": [
        "1"
       ],
       "description": "image: ",
       "index": 0,
       "layout": "IPY_MODEL_1abd6796feb6433b9d1bda29f037464a",
       "style": "IPY_MODEL_e21631a85e5a42b2ace10fdddacb0770"
      }
     },
     "72eb4423305641d3bd491cce0a3d8cd4": {
      "model_module": "@jupyter-widgets/base",
      "model_module_version": "1.2.0",
      "model_name": "LayoutModel",
      "state": {}
     },
     "72f689ddbb174ec2bffd8fb040fe0186": {
      "model_module": "@jupyter-widgets/controls",
      "model_module_version": "1.5.0",
      "model_name": "DescriptionStyleModel",
      "state": {
       "description_width": ""
      }
     },
     "7355f4c20ded49e48896128aab52df8c": {
      "model_module": "@jupyter-widgets/controls",
      "model_module_version": "1.5.0",
      "model_name": "FloatTextModel",
      "state": {
       "description": "epsilon: ",
       "layout": "IPY_MODEL_fde922a5c3c145ac8fc00c3b62d7550e",
       "step": null,
       "style": "IPY_MODEL_46b9033b906b4a2797b94cb867115cb3",
       "value": 1.5
      }
     },
     "73eed25151844479b19532ec85aa2e0b": {
      "model_module": "@jupyter-widgets/controls",
      "model_module_version": "1.5.0",
      "model_name": "DescriptionStyleModel",
      "state": {
       "description_width": "initial"
      }
     },
     "74957c112f9f46d891945fb4f1e579b6": {
      "model_module": "@jupyter-widgets/base",
      "model_module_version": "1.2.0",
      "model_name": "LayoutModel",
      "state": {}
     },
     "75190846c831410290df8c5fee83d0b3": {
      "model_module": "@jupyter-widgets/base",
      "model_module_version": "1.2.0",
      "model_name": "LayoutModel",
      "state": {}
     },
     "75a039414e214ca4b9398c3dcc65d707": {
      "model_module": "@jupyter-widgets/controls",
      "model_module_version": "1.5.0",
      "model_name": "DescriptionStyleModel",
      "state": {
       "description_width": "initial"
      }
     },
     "75c41841c9d04532bc39c87cf7396028": {
      "model_module": "@jupyter-widgets/controls",
      "model_module_version": "1.5.0",
      "model_name": "DropdownModel",
      "state": {
       "_options_labels": [
        "1"
       ],
       "description": "image: ",
       "index": 0,
       "layout": "IPY_MODEL_f0535da1471c4acea9d436d7400a324b",
       "style": "IPY_MODEL_71a3bc7a52e845d3a6f49a6c807570dd"
      }
     },
     "75d99512652d476ab1a1e05749be2b49": {
      "model_module": "@jupyter-widgets/output",
      "model_module_version": "1.0.0",
      "model_name": "OutputModel",
      "state": {
       "layout": "IPY_MODEL_72eb4423305641d3bd491cce0a3d8cd4",
       "outputs": [
        {
         "name": "stdout",
         "output_type": "stream",
         "text": "binning size (histogram) = 46\nleft k = 3.844086\nright k = 3.844086\nleft variance = 0.270704\nright variance = 0.586227\n----------------------------------------\nsplit 1, image 1\nepsilon=1.5, minimum # of samples=4\n-----------------------------  ------\narea (%)                         4.09\n# of cluster (per 10000 nm^2)  394\nmean perimeter                   3.61\nmean size                        1.15\nlargest size                     1.86\nsmallest size                    0.99\n-----------------------------  ------\n"
        }
       ]
      }
     },
     "7688352554524ff7960a6f45807b5914": {
      "model_module": "@jupyter-widgets/controls",
      "model_module_version": "1.5.0",
      "model_name": "VBoxModel",
      "state": {
       "_dom_classes": [
        "widget-interact"
       ],
       "children": [
        "IPY_MODEL_df200bd2ed5044ac9cf444609748b01a",
        "IPY_MODEL_30bfa4b68419458fbea078a263fcabbe",
        "IPY_MODEL_1f9114dd23f246eaab0d578f38284b76",
        "IPY_MODEL_79cd992f3f914c03b564cf02614e6412",
        "IPY_MODEL_48c64b490c474f738124a97cce016c06",
        "IPY_MODEL_f3bc99ac4fa6495b8e77cda7beb5843c",
        "IPY_MODEL_fa0da1c4d0ee4ca7a36a2d9e269905ec",
        "IPY_MODEL_506dd3b901f44ce1aa413f4573b21c6f",
        "IPY_MODEL_00c2a377634d496b9c64315c22a7c526",
        "IPY_MODEL_408d92a1c7584da3b06cf25d8f6bede0"
       ],
       "layout": "IPY_MODEL_449fd7eeb49643da892dfdabceadc5d3"
      }
     },
     "775feb55027441c5b35b40cc1f865b38": {
      "model_module": "@jupyter-widgets/output",
      "model_module_version": "1.0.0",
      "model_name": "OutputModel",
      "state": {
       "layout": "IPY_MODEL_ea6f56dfb93c4f1b82976d435f56adc3",
       "outputs": [
        {
         "ename": "IndexError",
         "evalue": "cannot do a non-empty take from an empty axes.",
         "output_type": "error",
         "traceback": [
          "\u001b[1;31m---------------------------------------------------------------------------\u001b[0m",
          "\u001b[1;31mIndexError\u001b[0m                                Traceback (most recent call last)",
          "\u001b[1;32m~\\Anaconda3\\envs\\necessary\\lib\\site-packages\\ipywidgets\\widgets\\interaction.py\u001b[0m in \u001b[0;36mupdate\u001b[1;34m(self, *args)\u001b[0m\n\u001b[0;32m    254\u001b[0m                     \u001b[0mvalue\u001b[0m \u001b[1;33m=\u001b[0m \u001b[0mwidget\u001b[0m\u001b[1;33m.\u001b[0m\u001b[0mget_interact_value\u001b[0m\u001b[1;33m(\u001b[0m\u001b[1;33m)\u001b[0m\u001b[1;33m\u001b[0m\u001b[1;33m\u001b[0m\u001b[0m\n\u001b[0;32m    255\u001b[0m                     \u001b[0mself\u001b[0m\u001b[1;33m.\u001b[0m\u001b[0mkwargs\u001b[0m\u001b[1;33m[\u001b[0m\u001b[0mwidget\u001b[0m\u001b[1;33m.\u001b[0m\u001b[0m_kwarg\u001b[0m\u001b[1;33m]\u001b[0m \u001b[1;33m=\u001b[0m \u001b[0mvalue\u001b[0m\u001b[1;33m\u001b[0m\u001b[1;33m\u001b[0m\u001b[0m\n\u001b[1;32m--> 256\u001b[1;33m                 \u001b[0mself\u001b[0m\u001b[1;33m.\u001b[0m\u001b[0mresult\u001b[0m \u001b[1;33m=\u001b[0m \u001b[0mself\u001b[0m\u001b[1;33m.\u001b[0m\u001b[0mf\u001b[0m\u001b[1;33m(\u001b[0m\u001b[1;33m**\u001b[0m\u001b[0mself\u001b[0m\u001b[1;33m.\u001b[0m\u001b[0mkwargs\u001b[0m\u001b[1;33m)\u001b[0m\u001b[1;33m\u001b[0m\u001b[1;33m\u001b[0m\u001b[0m\n\u001b[0m\u001b[0;32m    257\u001b[0m                 \u001b[0mshow_inline_matplotlib_plots\u001b[0m\u001b[1;33m(\u001b[0m\u001b[1;33m)\u001b[0m\u001b[1;33m\u001b[0m\u001b[1;33m\u001b[0m\u001b[0m\n\u001b[0;32m    258\u001b[0m                 \u001b[1;32mif\u001b[0m \u001b[0mself\u001b[0m\u001b[1;33m.\u001b[0m\u001b[0mauto_display\u001b[0m \u001b[1;32mand\u001b[0m \u001b[0mself\u001b[0m\u001b[1;33m.\u001b[0m\u001b[0mresult\u001b[0m \u001b[1;32mis\u001b[0m \u001b[1;32mnot\u001b[0m \u001b[1;32mNone\u001b[0m\u001b[1;33m:\u001b[0m\u001b[1;33m\u001b[0m\u001b[1;33m\u001b[0m\u001b[0m\n",
          "\u001b[1;32m<ipython-input-32-68201a160b91>\u001b[0m in \u001b[0;36mvar_selector\u001b[1;34m(k1, k2, p1, p2)\u001b[0m\n\u001b[0;32m      7\u001b[0m \u001b[1;32mdef\u001b[0m \u001b[0mvar_selector\u001b[0m\u001b[1;33m(\u001b[0m\u001b[0mk1\u001b[0m\u001b[1;33m,\u001b[0m \u001b[0mk2\u001b[0m\u001b[1;33m,\u001b[0m \u001b[0mp1\u001b[0m\u001b[1;33m,\u001b[0m \u001b[0mp2\u001b[0m\u001b[1;33m)\u001b[0m\u001b[1;33m:\u001b[0m\u001b[1;33m\u001b[0m\u001b[1;33m\u001b[0m\u001b[0m\n\u001b[0;32m      8\u001b[0m \u001b[1;33m\u001b[0m\u001b[0m\n\u001b[1;32m----> 9\u001b[1;33m     \u001b[0mv1\u001b[0m \u001b[1;33m=\u001b[0m \u001b[0mnp\u001b[0m\u001b[1;33m.\u001b[0m\u001b[0mpercentile\u001b[0m\u001b[1;33m(\u001b[0m\u001b[0mdata_flat\u001b[0m\u001b[1;33m[\u001b[0m\u001b[1;33m:\u001b[0m\u001b[1;33m,\u001b[0m \u001b[0mk1\u001b[0m\u001b[1;33m:\u001b[0m\u001b[1;33m(\u001b[0m\u001b[0mk2\u001b[0m\u001b[1;33m+\u001b[0m\u001b[1;36m1\u001b[0m\u001b[1;33m)\u001b[0m\u001b[1;33m]\u001b[0m\u001b[1;33m,\u001b[0m \u001b[0mp1\u001b[0m\u001b[1;33m)\u001b[0m\u001b[1;33m\u001b[0m\u001b[1;33m\u001b[0m\u001b[0m\n\u001b[0m\u001b[0;32m     10\u001b[0m     \u001b[0mv2\u001b[0m \u001b[1;33m=\u001b[0m \u001b[0mnp\u001b[0m\u001b[1;33m.\u001b[0m\u001b[0mpercentile\u001b[0m\u001b[1;33m(\u001b[0m\u001b[0mdata_flat\u001b[0m\u001b[1;33m[\u001b[0m\u001b[1;33m:\u001b[0m\u001b[1;33m,\u001b[0m \u001b[0mk1\u001b[0m\u001b[1;33m:\u001b[0m\u001b[1;33m(\u001b[0m\u001b[0mk2\u001b[0m\u001b[1;33m+\u001b[0m\u001b[1;36m1\u001b[0m\u001b[1;33m)\u001b[0m\u001b[1;33m]\u001b[0m\u001b[1;33m,\u001b[0m \u001b[0mp2\u001b[0m\u001b[1;33m)\u001b[0m\u001b[1;33m\u001b[0m\u001b[1;33m\u001b[0m\u001b[0m\n\u001b[0;32m     11\u001b[0m \u001b[1;33m\u001b[0m\u001b[0m\n",
          "\u001b[1;32m<__array_function__ internals>\u001b[0m in \u001b[0;36mpercentile\u001b[1;34m(*args, **kwargs)\u001b[0m\n",
          "\u001b[1;32m~\\Anaconda3\\envs\\necessary\\lib\\site-packages\\numpy\\lib\\function_base.py\u001b[0m in \u001b[0;36mpercentile\u001b[1;34m(a, q, axis, out, overwrite_input, interpolation, keepdims)\u001b[0m\n\u001b[0;32m   3731\u001b[0m         \u001b[1;32mraise\u001b[0m \u001b[0mValueError\u001b[0m\u001b[1;33m(\u001b[0m\u001b[1;34m\"Percentiles must be in the range [0, 100]\"\u001b[0m\u001b[1;33m)\u001b[0m\u001b[1;33m\u001b[0m\u001b[1;33m\u001b[0m\u001b[0m\n\u001b[0;32m   3732\u001b[0m     return _quantile_unchecked(\n\u001b[1;32m-> 3733\u001b[1;33m         a, q, axis, out, overwrite_input, interpolation, keepdims)\n\u001b[0m\u001b[0;32m   3734\u001b[0m \u001b[1;33m\u001b[0m\u001b[0m\n\u001b[0;32m   3735\u001b[0m \u001b[1;33m\u001b[0m\u001b[0m\n",
          "\u001b[1;32m~\\Anaconda3\\envs\\necessary\\lib\\site-packages\\numpy\\lib\\function_base.py\u001b[0m in \u001b[0;36m_quantile_unchecked\u001b[1;34m(a, q, axis, out, overwrite_input, interpolation, keepdims)\u001b[0m\n\u001b[0;32m   3851\u001b[0m     r, k = _ureduce(a, func=_quantile_ureduce_func, q=q, axis=axis, out=out,\n\u001b[0;32m   3852\u001b[0m                     \u001b[0moverwrite_input\u001b[0m\u001b[1;33m=\u001b[0m\u001b[0moverwrite_input\u001b[0m\u001b[1;33m,\u001b[0m\u001b[1;33m\u001b[0m\u001b[1;33m\u001b[0m\u001b[0m\n\u001b[1;32m-> 3853\u001b[1;33m                     interpolation=interpolation)\n\u001b[0m\u001b[0;32m   3854\u001b[0m     \u001b[1;32mif\u001b[0m \u001b[0mkeepdims\u001b[0m\u001b[1;33m:\u001b[0m\u001b[1;33m\u001b[0m\u001b[1;33m\u001b[0m\u001b[0m\n\u001b[0;32m   3855\u001b[0m         \u001b[1;32mreturn\u001b[0m \u001b[0mr\u001b[0m\u001b[1;33m.\u001b[0m\u001b[0mreshape\u001b[0m\u001b[1;33m(\u001b[0m\u001b[0mq\u001b[0m\u001b[1;33m.\u001b[0m\u001b[0mshape\u001b[0m \u001b[1;33m+\u001b[0m \u001b[0mk\u001b[0m\u001b[1;33m)\u001b[0m\u001b[1;33m\u001b[0m\u001b[1;33m\u001b[0m\u001b[0m\n",
          "\u001b[1;32m~\\Anaconda3\\envs\\necessary\\lib\\site-packages\\numpy\\lib\\function_base.py\u001b[0m in \u001b[0;36m_ureduce\u001b[1;34m(a, func, **kwargs)\u001b[0m\n\u001b[0;32m   3427\u001b[0m         \u001b[0mkeepdim\u001b[0m \u001b[1;33m=\u001b[0m \u001b[1;33m(\u001b[0m\u001b[1;36m1\u001b[0m\u001b[1;33m,\u001b[0m\u001b[1;33m)\u001b[0m \u001b[1;33m*\u001b[0m \u001b[0ma\u001b[0m\u001b[1;33m.\u001b[0m\u001b[0mndim\u001b[0m\u001b[1;33m\u001b[0m\u001b[1;33m\u001b[0m\u001b[0m\n\u001b[0;32m   3428\u001b[0m \u001b[1;33m\u001b[0m\u001b[0m\n\u001b[1;32m-> 3429\u001b[1;33m     \u001b[0mr\u001b[0m \u001b[1;33m=\u001b[0m \u001b[0mfunc\u001b[0m\u001b[1;33m(\u001b[0m\u001b[0ma\u001b[0m\u001b[1;33m,\u001b[0m \u001b[1;33m**\u001b[0m\u001b[0mkwargs\u001b[0m\u001b[1;33m)\u001b[0m\u001b[1;33m\u001b[0m\u001b[1;33m\u001b[0m\u001b[0m\n\u001b[0m\u001b[0;32m   3430\u001b[0m     \u001b[1;32mreturn\u001b[0m \u001b[0mr\u001b[0m\u001b[1;33m,\u001b[0m \u001b[0mkeepdim\u001b[0m\u001b[1;33m\u001b[0m\u001b[1;33m\u001b[0m\u001b[0m\n\u001b[0;32m   3431\u001b[0m \u001b[1;33m\u001b[0m\u001b[0m\n",
          "\u001b[1;32m~\\Anaconda3\\envs\\necessary\\lib\\site-packages\\numpy\\lib\\function_base.py\u001b[0m in \u001b[0;36m_quantile_ureduce_func\u001b[1;34m(a, q, axis, out, overwrite_input, interpolation, keepdims)\u001b[0m\n\u001b[0;32m   3965\u001b[0m             \u001b[0mn\u001b[0m \u001b[1;33m=\u001b[0m \u001b[0mnp\u001b[0m\u001b[1;33m.\u001b[0m\u001b[0misnan\u001b[0m\u001b[1;33m(\u001b[0m\u001b[0map\u001b[0m\u001b[1;33m[\u001b[0m\u001b[1;33m-\u001b[0m\u001b[1;36m1\u001b[0m\u001b[1;33m:\u001b[0m\u001b[1;33m,\u001b[0m \u001b[1;33m...\u001b[0m\u001b[1;33m]\u001b[0m\u001b[1;33m)\u001b[0m\u001b[1;33m\u001b[0m\u001b[1;33m\u001b[0m\u001b[0m\n\u001b[0;32m   3966\u001b[0m \u001b[1;33m\u001b[0m\u001b[0m\n\u001b[1;32m-> 3967\u001b[1;33m         \u001b[0mx1\u001b[0m \u001b[1;33m=\u001b[0m \u001b[0mtake\u001b[0m\u001b[1;33m(\u001b[0m\u001b[0map\u001b[0m\u001b[1;33m,\u001b[0m \u001b[0mindices_below\u001b[0m\u001b[1;33m,\u001b[0m \u001b[0maxis\u001b[0m\u001b[1;33m=\u001b[0m\u001b[0maxis\u001b[0m\u001b[1;33m)\u001b[0m \u001b[1;33m*\u001b[0m \u001b[0mweights_below\u001b[0m\u001b[1;33m\u001b[0m\u001b[1;33m\u001b[0m\u001b[0m\n\u001b[0m\u001b[0;32m   3968\u001b[0m         \u001b[0mx2\u001b[0m \u001b[1;33m=\u001b[0m \u001b[0mtake\u001b[0m\u001b[1;33m(\u001b[0m\u001b[0map\u001b[0m\u001b[1;33m,\u001b[0m \u001b[0mindices_above\u001b[0m\u001b[1;33m,\u001b[0m \u001b[0maxis\u001b[0m\u001b[1;33m=\u001b[0m\u001b[0maxis\u001b[0m\u001b[1;33m)\u001b[0m \u001b[1;33m*\u001b[0m \u001b[0mweights_above\u001b[0m\u001b[1;33m\u001b[0m\u001b[1;33m\u001b[0m\u001b[0m\n\u001b[0;32m   3969\u001b[0m \u001b[1;33m\u001b[0m\u001b[0m\n",
          "\u001b[1;32m<__array_function__ internals>\u001b[0m in \u001b[0;36mtake\u001b[1;34m(*args, **kwargs)\u001b[0m\n",
          "\u001b[1;32m~\\Anaconda3\\envs\\necessary\\lib\\site-packages\\numpy\\core\\fromnumeric.py\u001b[0m in \u001b[0;36mtake\u001b[1;34m(a, indices, axis, out, mode)\u001b[0m\n\u001b[0;32m    189\u001b[0m            [5, 7]])\n\u001b[0;32m    190\u001b[0m     \"\"\"\n\u001b[1;32m--> 191\u001b[1;33m     \u001b[1;32mreturn\u001b[0m \u001b[0m_wrapfunc\u001b[0m\u001b[1;33m(\u001b[0m\u001b[0ma\u001b[0m\u001b[1;33m,\u001b[0m \u001b[1;34m'take'\u001b[0m\u001b[1;33m,\u001b[0m \u001b[0mindices\u001b[0m\u001b[1;33m,\u001b[0m \u001b[0maxis\u001b[0m\u001b[1;33m=\u001b[0m\u001b[0maxis\u001b[0m\u001b[1;33m,\u001b[0m \u001b[0mout\u001b[0m\u001b[1;33m=\u001b[0m\u001b[0mout\u001b[0m\u001b[1;33m,\u001b[0m \u001b[0mmode\u001b[0m\u001b[1;33m=\u001b[0m\u001b[0mmode\u001b[0m\u001b[1;33m)\u001b[0m\u001b[1;33m\u001b[0m\u001b[1;33m\u001b[0m\u001b[0m\n\u001b[0m\u001b[0;32m    192\u001b[0m \u001b[1;33m\u001b[0m\u001b[0m\n\u001b[0;32m    193\u001b[0m \u001b[1;33m\u001b[0m\u001b[0m\n",
          "\u001b[1;32m~\\Anaconda3\\envs\\necessary\\lib\\site-packages\\numpy\\core\\fromnumeric.py\u001b[0m in \u001b[0;36m_wrapfunc\u001b[1;34m(obj, method, *args, **kwds)\u001b[0m\n\u001b[0;32m     56\u001b[0m \u001b[1;33m\u001b[0m\u001b[0m\n\u001b[0;32m     57\u001b[0m     \u001b[1;32mtry\u001b[0m\u001b[1;33m:\u001b[0m\u001b[1;33m\u001b[0m\u001b[1;33m\u001b[0m\u001b[0m\n\u001b[1;32m---> 58\u001b[1;33m         \u001b[1;32mreturn\u001b[0m \u001b[0mbound\u001b[0m\u001b[1;33m(\u001b[0m\u001b[1;33m*\u001b[0m\u001b[0margs\u001b[0m\u001b[1;33m,\u001b[0m \u001b[1;33m**\u001b[0m\u001b[0mkwds\u001b[0m\u001b[1;33m)\u001b[0m\u001b[1;33m\u001b[0m\u001b[1;33m\u001b[0m\u001b[0m\n\u001b[0m\u001b[0;32m     59\u001b[0m     \u001b[1;32mexcept\u001b[0m \u001b[0mTypeError\u001b[0m\u001b[1;33m:\u001b[0m\u001b[1;33m\u001b[0m\u001b[1;33m\u001b[0m\u001b[0m\n\u001b[0;32m     60\u001b[0m         \u001b[1;31m# A TypeError occurs if the object does have such a method in its\u001b[0m\u001b[1;33m\u001b[0m\u001b[1;33m\u001b[0m\u001b[1;33m\u001b[0m\u001b[0m\n",
          "\u001b[1;31mIndexError\u001b[0m: cannot do a non-empty take from an empty axes."
         ]
        }
       ]
      }
     },
     "78a082409bd14c3f967ad4ad7c6a9db1": {
      "model_module": "@jupyter-widgets/output",
      "model_module_version": "1.0.0",
      "model_name": "OutputModel",
      "state": {
       "layout": "IPY_MODEL_293181dc06fc41c89a8c73d213812486",
       "outputs": [
        {
         "name": "stdout",
         "output_type": "stream",
         "text": "binning size (histogram) = 46\nleft k = 3.844086\nright k = 3.844086\n(46,)\n(47,)\n(46,)\n(46,)\nleft variance = 0.270704\nright variance = 0.586227\n----------------------------------------\nsplit 1, image 1\nepsilon=1.5, minimum # of samples=4\n-----------------------------  ------\narea (%)                         4.09\n# of cluster (per 10000 nm^2)  394\nmean perimeter                   3.61\nmean size                        1.15\nlargest size                     1.86\nsmallest size                    0.99\n-----------------------------  ------\n"
        }
       ]
      }
     },
     "7903e648cb6b41a4aa58dca066fbf6d9": {
      "model_module": "@jupyter-widgets/controls",
      "model_module_version": "1.5.0",
      "model_name": "FloatTextModel",
      "state": {
       "description": "epsilon: ",
       "layout": "IPY_MODEL_4bceeb38ae5d4eeca25b73028b8d61d5",
       "step": null,
       "style": "IPY_MODEL_fcec8e56579248818352b2b1e8bb55b2",
       "value": 1.5
      }
     },
     "791d9d18feb94d168edd991ca2fa834e": {
      "model_module": "@jupyter-widgets/controls",
      "model_module_version": "1.5.0",
      "model_name": "DescriptionStyleModel",
      "state": {
       "description_width": ""
      }
     },
     "7955d25074b24d969b05569f86e6bb33": {
      "model_module": "@jupyter-widgets/base",
      "model_module_version": "1.2.0",
      "model_name": "LayoutModel",
      "state": {}
     },
     "79cd992f3f914c03b564cf02614e6412": {
      "model_module": "@jupyter-widgets/controls",
      "model_module_version": "1.5.0",
      "model_name": "FloatTextModel",
      "state": {
       "description": "right percentile of variance range",
       "layout": "IPY_MODEL_9d5e99e866484d74b19e1681992292dd",
       "step": null,
       "style": "IPY_MODEL_26551865c22d4b4b8a69eabcd48a3a22",
       "value": 99.999
      }
     },
     "79d5428dfe044ed796609a2d834c2c47": {
      "model_module": "@jupyter-widgets/output",
      "model_module_version": "1.0.0",
      "model_name": "OutputModel",
      "state": {
       "layout": "IPY_MODEL_d7ac4395210c4d3b8e42cd87b19fe9b3",
       "outputs": [
        {
         "name": "stdout",
         "output_type": "stream",
         "text": "binning size (histogram) = 46\nleft k = 3.844086\nright k = 3.844086\nleft variance = 0.270704\nright variance = 0.586227\n----------------------------------------\nsplit 1, image 1\nepsilon=1.5, minimum # of samples=4\n-----------------------------  ------\narea (%)                         4.09\n# of cluster (per 10000 nm^2)  394\nmean perimeter                   3.61\nmean size                        1.15\nlargest size                     1.86\nsmallest size                    0.99\n-----------------------------  ------\n"
        }
       ]
      }
     },
     "7a9ae5bdefd34c61ba2b8e6273996af6": {
      "model_module": "@jupyter-widgets/controls",
      "model_module_version": "1.5.0",
      "model_name": "DescriptionStyleModel",
      "state": {
       "description_width": "initial"
      }
     },
     "7ac359291a0b40bca79eb1e1729a9679": {
      "model_module": "@jupyter-widgets/base",
      "model_module_version": "1.2.0",
      "model_name": "LayoutModel",
      "state": {}
     },
     "7add1aa4173d4588b9b23d63dacca402": {
      "model_module": "@jupyter-widgets/base",
      "model_module_version": "1.2.0",
      "model_name": "LayoutModel",
      "state": {}
     },
     "7ade4a344eb24e2fa82f28195bd87f12": {
      "model_module": "@jupyter-widgets/controls",
      "model_module_version": "1.5.0",
      "model_name": "DropdownModel",
      "state": {
       "_options_labels": [
        "1"
       ],
       "description": "image: ",
       "index": 0,
       "layout": "IPY_MODEL_18e8e6bfea8946598a8cd8b096362ea5",
       "style": "IPY_MODEL_ebd5d752167d4972a525a5fc62ce348d"
      }
     },
     "7b0de7bc40244a0b9d53cb5238164c1e": {
      "model_module": "@jupyter-widgets/controls",
      "model_module_version": "1.5.0",
      "model_name": "IntTextModel",
      "state": {
       "description": "left of k-range",
       "layout": "IPY_MODEL_b7ed78e24ecd41688ebed3432cecad57",
       "step": 1,
       "style": "IPY_MODEL_a7c183be661849109652258873f8b4d7",
       "value": 28
      }
     },
     "7b7502fc68d94a079bf5d17d7bfa7536": {
      "model_module": "@jupyter-widgets/controls",
      "model_module_version": "1.5.0",
      "model_name": "VBoxModel",
      "state": {
       "_dom_classes": [
        "widget-interact"
       ],
       "children": [
        "IPY_MODEL_583a3df4ea594768b6735f35ccf005cd",
        "IPY_MODEL_b18dfb9f24654234a1e002eb32ac8d68",
        "IPY_MODEL_d8e0dc0e755f4058af41b4ff712ee7c6",
        "IPY_MODEL_9a685fb617f6462ab7d552ed98c2870d",
        "IPY_MODEL_c454896489064ef5ac59826478bccd6b",
        "IPY_MODEL_7903e648cb6b41a4aa58dca066fbf6d9",
        "IPY_MODEL_01cb2f6d5a0543339cd611e5afb81b6e",
        "IPY_MODEL_f3547227560c43e8b71d80cabd2d9f37",
        "IPY_MODEL_3751a024e9d64f2e87ba31746034fe6c",
        "IPY_MODEL_57a776354d604a0f84632f266f602261"
       ],
       "layout": "IPY_MODEL_c9e5cbce21cf4f7b9abd556de7754cae"
      }
     },
     "7b879ab83f79494a932fc62f0c836f93": {
      "model_module": "@jupyter-widgets/controls",
      "model_module_version": "1.5.0",
      "model_name": "FloatTextModel",
      "state": {
       "description": "left percentile of variance range",
       "layout": "IPY_MODEL_c0dd1aef3c8340e1832a617c0c8ad70d",
       "step": null,
       "style": "IPY_MODEL_4667b12e0e844b3ba1d86f75082e9eac",
       "value": 90
      }
     },
     "7b8acf98ca164e268f4b1e8573523989": {
      "model_module": "@jupyter-widgets/base",
      "model_module_version": "1.2.0",
      "model_name": "LayoutModel",
      "state": {}
     },
     "7bb1aab1fe124036851e0bad03becfd8": {
      "model_module": "@jupyter-widgets/base",
      "model_module_version": "1.2.0",
      "model_name": "LayoutModel",
      "state": {}
     },
     "7c23f0841a65456cbe96fb4ac63fd650": {
      "model_module": "@jupyter-widgets/controls",
      "model_module_version": "1.5.0",
      "model_name": "DescriptionStyleModel",
      "state": {
       "description_width": "initial"
      }
     },
     "7d50f38dd2bf49fc9ff1d4c88a0a3b4b": {
      "model_module": "@jupyter-widgets/controls",
      "model_module_version": "1.5.0",
      "model_name": "VBoxModel",
      "state": {
       "_dom_classes": [
        "widget-interact"
       ],
       "children": [
        "IPY_MODEL_341bc312201049ae98d93c506e04b298",
        "IPY_MODEL_92053f5133984e9092a372c26fe03960",
        "IPY_MODEL_3b3a97d96c64484ab3d69c624ed447d0",
        "IPY_MODEL_d28a563474bc41d1b242bf15c413ff6a",
        "IPY_MODEL_775feb55027441c5b35b40cc1f865b38"
       ],
       "layout": "IPY_MODEL_4a0f0c2d12bb474f8f9b6d7b134526ff"
      }
     },
     "7d90e533333e45d7bdf1d25a7913af13": {
      "model_module": "@jupyter-widgets/base",
      "model_module_version": "1.2.0",
      "model_name": "LayoutModel",
      "state": {}
     },
     "7dea91fb985d44bc9da5bf7fdaabdfbb": {
      "model_module": "@jupyter-widgets/controls",
      "model_module_version": "1.5.0",
      "model_name": "DescriptionStyleModel",
      "state": {
       "description_width": "initial"
      }
     },
     "7ee985da1821406484a67621983e6450": {
      "model_module": "@jupyter-widgets/controls",
      "model_module_version": "1.5.0",
      "model_name": "DropdownModel",
      "state": {
       "_options_labels": [
        "1",
        "2",
        "3",
        "4"
       ],
       "description": "split: ",
       "index": 0,
       "layout": "IPY_MODEL_1427066bde4a4c75b9fa77f5228945a0",
       "style": "IPY_MODEL_b3b88e67e3584a2ab2ad3ae3e9c6795b"
      }
     },
     "7f21db1f8a634c588cfc4f3125ba378a": {
      "model_module": "@jupyter-widgets/controls",
      "model_module_version": "1.5.0",
      "model_name": "DescriptionStyleModel",
      "state": {
       "description_width": "initial"
      }
     },
     "80eb007df5a546869f4874303ecbc804": {
      "model_module": "@jupyter-widgets/controls",
      "model_module_version": "1.5.0",
      "model_name": "DescriptionStyleModel",
      "state": {
       "description_width": ""
      }
     },
     "80f0d02c391044cca79037b578d4ab90": {
      "model_module": "@jupyter-widgets/base",
      "model_module_version": "1.2.0",
      "model_name": "LayoutModel",
      "state": {}
     },
     "818058174e6a4d7e929d5a516d552528": {
      "model_module": "@jupyter-widgets/controls",
      "model_module_version": "1.5.0",
      "model_name": "FloatTextModel",
      "state": {
       "description": "left percentile of variance range",
       "layout": "IPY_MODEL_e0f44cbbf09a41d68ce9843a1262305d",
       "step": null,
       "style": "IPY_MODEL_d84d6b32eea84aa7bcbb5d6bf0fabd9a",
       "value": 90
      }
     },
     "81bdbd236fee4abf801bf6c20d254423": {
      "model_module": "@jupyter-widgets/controls",
      "model_module_version": "1.5.0",
      "model_name": "DescriptionStyleModel",
      "state": {
       "description_width": "initial"
      }
     },
     "81f941222ced4164ad1df52de7ac1f0a": {
      "model_module": "@jupyter-widgets/base",
      "model_module_version": "1.2.0",
      "model_name": "LayoutModel",
      "state": {}
     },
     "821d2bc224e5436ba6fd13859c4a116e": {
      "model_module": "@jupyter-widgets/controls",
      "model_module_version": "1.5.0",
      "model_name": "DescriptionStyleModel",
      "state": {
       "description_width": "initial"
      }
     },
     "82cd4bd06fd74d23b1391406a8d9c89b": {
      "model_module": "@jupyter-widgets/controls",
      "model_module_version": "1.5.0",
      "model_name": "IntTextModel",
      "state": {
       "description": "left of k-range",
       "layout": "IPY_MODEL_90b61d5044d749219e129326b3220062",
       "step": 1,
       "style": "IPY_MODEL_45ca457c9b2f4fa2b9dfd052e44485e7",
       "value": 28
      }
     },
     "839664b2c1eb47f69ebe8de837c0ce1b": {
      "model_module": "@jupyter-widgets/controls",
      "model_module_version": "1.5.0",
      "model_name": "CheckboxModel",
      "state": {
       "description": "save the result",
       "disabled": false,
       "layout": "IPY_MODEL_a7bb9e9c049447a3997611abe3b89084",
       "style": "IPY_MODEL_44186eef2ea3479b8552d7691f5b6e6d",
       "value": false
      }
     },
     "845f0b2f6908484b9dbcf6f9595bfc05": {
      "model_module": "@jupyter-widgets/controls",
      "model_module_version": "1.5.0",
      "model_name": "IntTextModel",
      "state": {
       "description": "right of k-range",
       "layout": "IPY_MODEL_d36cc953075d4d9c98ef13724119ecb8",
       "step": 1,
       "style": "IPY_MODEL_f0d7106fcd3f4af5ba4cee6a0b8aa74a",
       "value": 28
      }
     },
     "8460ab6fcfec4e8290eef1288b40ddab": {
      "model_module": "@jupyter-widgets/controls",
      "model_module_version": "1.5.0",
      "model_name": "DescriptionStyleModel",
      "state": {
       "description_width": ""
      }
     },
     "849392d113774a29bf528863839c9885": {
      "model_module": "@jupyter-widgets/base",
      "model_module_version": "1.2.0",
      "model_name": "LayoutModel",
      "state": {}
     },
     "858aceb514404170ae47d5b1ffb8fd29": {
      "model_module": "@jupyter-widgets/output",
      "model_module_version": "1.0.0",
      "model_name": "OutputModel",
      "state": {
       "layout": "IPY_MODEL_3df98fa0c1fa4891b2b006cb55ba72e2",
       "outputs": [
        {
         "name": "stdout",
         "output_type": "stream",
         "text": "binning size (histogram) = 46\nleft k = 3.844086\nright k = 3.844086\n[0.06700619 0.25845246 1.19653915 2.52709068 4.34583019 5.62852015\n 7.37068115 8.10774927 8.21304471 7.49512122 6.99736094 6.79634236\n 5.50408008 4.55642108 3.78106371 3.07271253 2.34521673 2.0293304\n 1.56985936 1.42627466 1.12953296 0.95723132 0.48818797 0.52647723\n 0.44989872 0.40203715 0.3637479  0.23930783 0.16272932 0.19144626\n 0.13401238 0.11486776 0.06700619 0.08615082 0.06700619 0.04786157\n 0.04786157 0.07657851 0.00957231 0.07657851 0.01914463 0.\n 0.00957231 0.02871694 0.00957231 0.02871694]\n[0.06957474 0.08080785 0.09204096 0.10327408 0.11450719 0.1257403\n 0.13697342 0.14820653 0.15943964 0.17067276 0.18190587 0.19313899\n 0.2043721  0.21560521 0.22683833 0.23807144 0.24930455 0.26053767\n 0.27177078 0.28300389 0.29423701 0.30547012 0.31670324 0.32793635\n 0.33916946 0.35040258 0.36163569 0.3728688  0.38410192 0.39533503\n 0.40656814 0.41780126 0.42903437 0.44026749 0.4515006  0.46273371\n 0.47396683 0.48519994 0.49643305 0.50766617 0.51889928 0.53013239\n 0.54136551 0.55259862 0.56383174 0.57506485 0.58629796]\n[ 1.91446264e-01  5.64766478e-01  1.13431911e+00  1.57464552e+00\n  1.55071474e+00  1.51242548e+00  1.23961456e+00  4.21181780e-01\n -3.06314022e-01 -6.07841887e-01 -3.49389431e-01 -7.46640428e-01\n -1.11996064e+00 -8.61508187e-01 -7.41854272e-01 -7.17923489e-01\n -5.21691069e-01 -3.87678684e-01 -3.01527865e-01 -2.20163203e-01\n -2.34521673e-01 -3.20672492e-01 -2.15377047e-01 -1.91446264e-02\n -6.22200357e-02 -4.30754093e-02 -8.13646621e-02 -1.00509288e-01\n -2.39307830e-02 -1.43584698e-02 -3.82892527e-02 -3.35030961e-02\n -1.43584698e-02  0.00000000e+00 -1.91446264e-02 -9.57231319e-03\n  1.43584698e-02 -1.91446264e-02  0.00000000e+00  4.78615659e-03\n -3.82892527e-02 -4.78615659e-03  1.43584698e-02  0.00000000e+00\n  1.40512602e-16  1.91446264e-02]\n[ 0.37332021  0.47143642  0.50493952  0.20819781 -0.03111002 -0.15555009\n -0.54562185 -0.77296429 -0.51451183 -0.0215377  -0.06939927 -0.38528561\n -0.05743388  0.18905319  0.07179235  0.1100816   0.1651224   0.1100816\n  0.08375774  0.0335031  -0.05025464  0.00957231  0.15076393  0.07657851\n -0.01196539 -0.00957231 -0.02871694  0.02871694  0.04307541 -0.00717923\n -0.00957231  0.01196539  0.01675155 -0.00239308 -0.00478616  0.01675155\n -0.00478616 -0.00717923  0.01196539 -0.01914463 -0.00478616  0.02632386\n  0.00239308 -0.00717923  0.00957231  0.01914463]\nleft variance = 0.270704\nright variance = 0.586227\n----------------------------------------\nsplit 1, image 1\nepsilon=1.5, minimum # of samples=4\n-----------------------------  ------\narea (%)                         4.09\n# of cluster (per 10000 nm^2)  394\nmean perimeter                   3.61\nmean size                        1.15\nlargest size                     1.86\nsmallest size                    0.99\n-----------------------------  ------\n"
        }
       ]
      }
     },
     "85da15e937204b689ed24d5bbe7dbc98": {
      "model_module": "@jupyter-widgets/controls",
      "model_module_version": "1.5.0",
      "model_name": "DescriptionStyleModel",
      "state": {
       "description_width": "initial"
      }
     },
     "85f5247f628f494790bcb7a8f14402af": {
      "model_module": "@jupyter-widgets/base",
      "model_module_version": "1.2.0",
      "model_name": "LayoutModel",
      "state": {}
     },
     "865ab8acb82b41d1a1f42882eb810f97": {
      "model_module": "@jupyter-widgets/base",
      "model_module_version": "1.2.0",
      "model_name": "LayoutModel",
      "state": {}
     },
     "869897fb2f4a4af684208bbd399586c3": {
      "model_module": "@jupyter-widgets/controls",
      "model_module_version": "1.5.0",
      "model_name": "FloatTextModel",
      "state": {
       "description": "epsilon: ",
       "layout": "IPY_MODEL_5d60199acb804c87a5ee79c22a1eded3",
       "step": null,
       "style": "IPY_MODEL_e071cf4fc96d450183c8878d82607881",
       "value": 1.5
      }
     },
     "86b6072fcf1c41ef9c81114b735356d7": {
      "model_module": "@jupyter-widgets/base",
      "model_module_version": "1.2.0",
      "model_name": "LayoutModel",
      "state": {}
     },
     "8756ee2e9dd94c7ead4c872666dec49d": {
      "model_module": "@jupyter-widgets/controls",
      "model_module_version": "1.5.0",
      "model_name": "DescriptionStyleModel",
      "state": {
       "description_width": "initial"
      }
     },
     "878a08b3e6a34873b46e7d73207bb7b0": {
      "model_module": "@jupyter-widgets/base",
      "model_module_version": "1.2.0",
      "model_name": "LayoutModel",
      "state": {}
     },
     "879a0f081a694f2bb91e68fa9249cc45": {
      "model_module": "@jupyter-widgets/controls",
      "model_module_version": "1.5.0",
      "model_name": "DescriptionStyleModel",
      "state": {
       "description_width": "initial"
      }
     },
     "87c1aebd2f834105946bb2b6f6d5f883": {
      "model_module": "@jupyter-widgets/base",
      "model_module_version": "1.2.0",
      "model_name": "LayoutModel",
      "state": {}
     },
     "87c465de73e548ac94daffbb063bffd5": {
      "model_module": "@jupyter-widgets/controls",
      "model_module_version": "1.5.0",
      "model_name": "DescriptionStyleModel",
      "state": {
       "description_width": "initial"
      }
     },
     "886e46b8f7c84ae781000fee382fc29f": {
      "model_module": "@jupyter-widgets/base",
      "model_module_version": "1.2.0",
      "model_name": "LayoutModel",
      "state": {}
     },
     "889ef16a0fdc4808a15e7d94586870b4": {
      "model_module": "@jupyter-widgets/base",
      "model_module_version": "1.2.0",
      "model_name": "LayoutModel",
      "state": {}
     },
     "89fd56ff64254a609141ae33b5e24084": {
      "model_module": "@jupyter-widgets/base",
      "model_module_version": "1.2.0",
      "model_name": "LayoutModel",
      "state": {}
     },
     "8a060f20f20c4c8c94e19ca2255e93e1": {
      "model_module": "@jupyter-widgets/base",
      "model_module_version": "1.2.0",
      "model_name": "LayoutModel",
      "state": {}
     },
     "8b5ef2cc2497414a944d5a5e2c6fa81a": {
      "model_module": "@jupyter-widgets/base",
      "model_module_version": "1.2.0",
      "model_name": "LayoutModel",
      "state": {}
     },
     "8c1f140b99534c22b6b9aed3bb9fb1b4": {
      "model_module": "@jupyter-widgets/base",
      "model_module_version": "1.2.0",
      "model_name": "LayoutModel",
      "state": {}
     },
     "8c75428dbc3240d697745eb37a03712a": {
      "model_module": "@jupyter-widgets/base",
      "model_module_version": "1.2.0",
      "model_name": "LayoutModel",
      "state": {}
     },
     "8d1df40c1ca645bf83806d335cd21e05": {
      "model_module": "@jupyter-widgets/controls",
      "model_module_version": "1.5.0",
      "model_name": "FloatTextModel",
      "state": {
       "description": "right percentile of variance range",
       "layout": "IPY_MODEL_5428178a419746898b1278d2b3696c1a",
       "step": null,
       "style": "IPY_MODEL_9c172c42658d4cdabbedf52e9a348295",
       "value": 99.999
      }
     },
     "8d30d8d0048642d99f00eef3ac323fac": {
      "model_module": "@jupyter-widgets/base",
      "model_module_version": "1.2.0",
      "model_name": "LayoutModel",
      "state": {}
     },
     "8d32af949c4346e0b2f9082204117b9a": {
      "model_module": "@jupyter-widgets/controls",
      "model_module_version": "1.5.0",
      "model_name": "DropdownModel",
      "state": {
       "_options_labels": [
        "1"
       ],
       "description": "image: ",
       "index": 0,
       "layout": "IPY_MODEL_64c684f5db094663a0752fc8e5cc4656",
       "style": "IPY_MODEL_198a7998dd7f4fe7a5f33c0798bdd290"
      }
     },
     "8d96eefeaee3438999a698c6a32a6335": {
      "model_module": "@jupyter-widgets/base",
      "model_module_version": "1.2.0",
      "model_name": "LayoutModel",
      "state": {}
     },
     "8dc1b26cd27e47c9b81d08eeadb9f769": {
      "model_module": "@jupyter-widgets/controls",
      "model_module_version": "1.5.0",
      "model_name": "DescriptionStyleModel",
      "state": {
       "description_width": "initial"
      }
     },
     "8e032453456a441aa45ef17b4d75d9f3": {
      "model_module": "@jupyter-widgets/controls",
      "model_module_version": "1.5.0",
      "model_name": "DescriptionStyleModel",
      "state": {
       "description_width": "initial"
      }
     },
     "8e39e7cbd44545659269e69abdb2e7ad": {
      "model_module": "@jupyter-widgets/base",
      "model_module_version": "1.2.0",
      "model_name": "LayoutModel",
      "state": {}
     },
     "8e4d5843dc4a43a1a6fd6b668299840f": {
      "model_module": "@jupyter-widgets/controls",
      "model_module_version": "1.5.0",
      "model_name": "DescriptionStyleModel",
      "state": {
       "description_width": ""
      }
     },
     "8ed3f97697b54f35b485bcadeaa5c207": {
      "model_module": "@jupyter-widgets/base",
      "model_module_version": "1.2.0",
      "model_name": "LayoutModel",
      "state": {}
     },
     "8ee65a668b204aada0b7ba0c0848fc0d": {
      "model_module": "@jupyter-widgets/controls",
      "model_module_version": "1.5.0",
      "model_name": "CheckboxModel",
      "state": {
       "description": "save the result",
       "disabled": false,
       "layout": "IPY_MODEL_8e39e7cbd44545659269e69abdb2e7ad",
       "style": "IPY_MODEL_42d6f0b00470457d9c6cc819a3afbdfc",
       "value": false
      }
     },
     "8eea9cf61fbf4ab3b887b1137dcda91d": {
      "model_module": "@jupyter-widgets/base",
      "model_module_version": "1.2.0",
      "model_name": "LayoutModel",
      "state": {}
     },
     "8ef7aeae99eb41c69bee436e7f3c01bf": {
      "model_module": "@jupyter-widgets/controls",
      "model_module_version": "1.5.0",
      "model_name": "FloatTextModel",
      "state": {
       "description": "left percentile of variance range",
       "layout": "IPY_MODEL_375d94fa36eb4194ae99cca7b51c78f7",
       "step": null,
       "style": "IPY_MODEL_f0705501b881440dbc30b19c4e113a08",
       "value": 90
      }
     },
     "8f77f65e3be14472b5f65131919a4a42": {
      "model_module": "@jupyter-widgets/controls",
      "model_module_version": "1.5.0",
      "model_name": "FloatTextModel",
      "state": {
       "description": "right percentile of variance range",
       "layout": "IPY_MODEL_ff3c456c56f944efa56968b0981450b4",
       "step": null,
       "style": "IPY_MODEL_39f0268413994e3ebcf02d4ead64ed72",
       "value": 99.999
      }
     },
     "8f95c9f9a4f04ea09173e07a31b676b4": {
      "model_module": "@jupyter-widgets/controls",
      "model_module_version": "1.5.0",
      "model_name": "DescriptionStyleModel",
      "state": {
       "description_width": "initial"
      }
     },
     "8fbe50c1e7fc4877bdebde7604da26d5": {
      "model_module": "@jupyter-widgets/base",
      "model_module_version": "1.2.0",
      "model_name": "LayoutModel",
      "state": {}
     },
     "8fe6ce5ed5614b7ea0c51d6f868034e8": {
      "model_module": "@jupyter-widgets/controls",
      "model_module_version": "1.5.0",
      "model_name": "FloatTextModel",
      "state": {
       "description": "left percentile of variance range",
       "layout": "IPY_MODEL_bb166a7451c044f9b7410494c39c9f8e",
       "step": null,
       "style": "IPY_MODEL_52864736486a41d1b08cb11bf8dff7e5",
       "value": 90
      }
     },
     "90b61d5044d749219e129326b3220062": {
      "model_module": "@jupyter-widgets/base",
      "model_module_version": "1.2.0",
      "model_name": "LayoutModel",
      "state": {}
     },
     "919fd631893b427a9028a13386a407e1": {
      "model_module": "@jupyter-widgets/base",
      "model_module_version": "1.2.0",
      "model_name": "LayoutModel",
      "state": {}
     },
     "92053f5133984e9092a372c26fe03960": {
      "model_module": "@jupyter-widgets/controls",
      "model_module_version": "1.5.0",
      "model_name": "IntTextModel",
      "state": {
       "description": "right of k-range",
       "layout": "IPY_MODEL_919fd631893b427a9028a13386a407e1",
       "step": 1,
       "style": "IPY_MODEL_8756ee2e9dd94c7ead4c872666dec49d",
       "value": 28
      }
     },
     "9248339e0b0b46ff9a91d1cfc5ba3648": {
      "model_module": "@jupyter-widgets/controls",
      "model_module_version": "1.5.0",
      "model_name": "DescriptionStyleModel",
      "state": {
       "description_width": ""
      }
     },
     "92a3eb8866834f21b4ed95ab2e06ba2b": {
      "model_module": "@jupyter-widgets/controls",
      "model_module_version": "1.5.0",
      "model_name": "IntTextModel",
      "state": {
       "description": "right of k-range",
       "layout": "IPY_MODEL_b5cfc0c1b0f746e9b83ed823b2e04084",
       "step": 1,
       "style": "IPY_MODEL_6039b519592949edad33ef582dbbf5a0",
       "value": 28
      }
     },
     "92a5cacb74eb4409a51e4b83b808ab88": {
      "model_module": "@jupyter-widgets/controls",
      "model_module_version": "1.5.0",
      "model_name": "DescriptionStyleModel",
      "state": {
       "description_width": "initial"
      }
     },
     "931c156ffce04c68bf344498e5ba09e9": {
      "model_module": "@jupyter-widgets/controls",
      "model_module_version": "1.5.0",
      "model_name": "DescriptionStyleModel",
      "state": {
       "description_width": "initial"
      }
     },
     "93d756fd9eaf48ffbef72160fda8078e": {
      "model_module": "@jupyter-widgets/controls",
      "model_module_version": "1.5.0",
      "model_name": "DescriptionStyleModel",
      "state": {
       "description_width": "initial"
      }
     },
     "93efee1785904b688e3c3ab7e05aefa8": {
      "model_module": "@jupyter-widgets/controls",
      "model_module_version": "1.5.0",
      "model_name": "DescriptionStyleModel",
      "state": {
       "description_width": "initial"
      }
     },
     "9440f2a779464ca8a0f8f7946686bba0": {
      "model_module": "@jupyter-widgets/base",
      "model_module_version": "1.2.0",
      "model_name": "LayoutModel",
      "state": {}
     },
     "946c570f9eaa4b49a3fba98d306c7bce": {
      "model_module": "@jupyter-widgets/controls",
      "model_module_version": "1.5.0",
      "model_name": "DescriptionStyleModel",
      "state": {
       "description_width": "initial"
      }
     },
     "94e7d477cdcc404bb33171044a0b1034": {
      "model_module": "@jupyter-widgets/base",
      "model_module_version": "1.2.0",
      "model_name": "LayoutModel",
      "state": {}
     },
     "953612a1b7ea4be3914c95e74b04f784": {
      "model_module": "@jupyter-widgets/base",
      "model_module_version": "1.2.0",
      "model_name": "LayoutModel",
      "state": {}
     },
     "958451e1e21a41f78a6f8911eaa6da56": {
      "model_module": "@jupyter-widgets/base",
      "model_module_version": "1.2.0",
      "model_name": "LayoutModel",
      "state": {}
     },
     "959b269177f840dba737b7c229eacac1": {
      "model_module": "@jupyter-widgets/controls",
      "model_module_version": "1.5.0",
      "model_name": "FloatTextModel",
      "state": {
       "description": "right percentile of variance range",
       "layout": "IPY_MODEL_97245aeac7054f58baf4bf2deaae23e2",
       "step": null,
       "style": "IPY_MODEL_93efee1785904b688e3c3ab7e05aefa8",
       "value": 99.999
      }
     },
     "95c55fa308eb41ce9987bef3312124b7": {
      "model_module": "@jupyter-widgets/controls",
      "model_module_version": "1.5.0",
      "model_name": "VBoxModel",
      "state": {
       "_dom_classes": [
        "widget-interact"
       ],
       "children": [
        "IPY_MODEL_e550a7561d934343a7dfc57fb85a899a",
        "IPY_MODEL_f46d432638b94cc09a6d8a66b96bb192",
        "IPY_MODEL_acb1260f4a0a409a822fca3dd498d92a",
        "IPY_MODEL_2c158d10d9bc49f6bc52dc86083e9e6a",
        "IPY_MODEL_6a055d6707054b8aafc0a5fb8d639655"
       ],
       "layout": "IPY_MODEL_4b81110f9ae1443eb7e6bd6c3e8bc92e"
      }
     },
     "95c94279153a4177b15504ce15e7ba2c": {
      "model_module": "@jupyter-widgets/controls",
      "model_module_version": "1.5.0",
      "model_name": "VBoxModel",
      "state": {
       "_dom_classes": [
        "widget-interact"
       ],
       "children": [
        "IPY_MODEL_82cd4bd06fd74d23b1391406a8d9c89b",
        "IPY_MODEL_1206c5e7f1cc46b3b14627958fe98485",
        "IPY_MODEL_1d04f46b0ad44ed89d20c520738d182b",
        "IPY_MODEL_a881d11bae72448f8768ae25fb70d64d",
        "IPY_MODEL_5f828b18d228400ca853b9ad1f855085",
        "IPY_MODEL_555b3c4ae0ca4f21a28f621de96356ba",
        "IPY_MODEL_2cafb4bf806e4988a85e73186f3c34b5",
        "IPY_MODEL_72be2b0e3b884270be4af7280a4a0a6f",
        "IPY_MODEL_05ca6ce9e7b34f35b50c0390e0791c66",
        "IPY_MODEL_a6ba706ba9fe4ee88c3b4534dad7a47d"
       ],
       "layout": "IPY_MODEL_a32a70e51291413c87f5afde8ac4fd62"
      }
     },
     "97245aeac7054f58baf4bf2deaae23e2": {
      "model_module": "@jupyter-widgets/base",
      "model_module_version": "1.2.0",
      "model_name": "LayoutModel",
      "state": {}
     },
     "97e109531b1f4229a53cada4f7baad60": {
      "model_module": "@jupyter-widgets/controls",
      "model_module_version": "1.5.0",
      "model_name": "DescriptionStyleModel",
      "state": {
       "description_width": ""
      }
     },
     "980009f6d51d40b49e7960d03bcf525e": {
      "model_module": "@jupyter-widgets/controls",
      "model_module_version": "1.5.0",
      "model_name": "FloatTextModel",
      "state": {
       "description": "epsilon: ",
       "layout": "IPY_MODEL_44a3dedb6dca4b1fb0273054a84f5fc5",
       "step": null,
       "style": "IPY_MODEL_e78e244f52d8493ba652d313f9f83ffa",
       "value": 1.5
      }
     },
     "988391e8b46843bebc6dbeb5cf9e8c0d": {
      "model_module": "@jupyter-widgets/controls",
      "model_module_version": "1.5.0",
      "model_name": "DropdownModel",
      "state": {
       "_options_labels": [
        "1",
        "2",
        "3",
        "4"
       ],
       "description": "split: ",
       "index": 0,
       "layout": "IPY_MODEL_bcd43b3c75e44cccb75df5b0816de599",
       "style": "IPY_MODEL_879a0f081a694f2bb91e68fa9249cc45"
      }
     },
     "9a5f9b2501d9471885e885305a656dbd": {
      "model_module": "@jupyter-widgets/controls",
      "model_module_version": "1.5.0",
      "model_name": "DescriptionStyleModel",
      "state": {
       "description_width": "initial"
      }
     },
     "9a685fb617f6462ab7d552ed98c2870d": {
      "model_module": "@jupyter-widgets/controls",
      "model_module_version": "1.5.0",
      "model_name": "FloatTextModel",
      "state": {
       "description": "right percentile of variance range",
       "layout": "IPY_MODEL_8ed3f97697b54f35b485bcadeaa5c207",
       "step": null,
       "style": "IPY_MODEL_cb679366732d4dd68a7ae8267c605ed7",
       "value": 99.999
      }
     },
     "9ad7025dc53c4a6dab1aa2f9dac4eda0": {
      "model_module": "@jupyter-widgets/output",
      "model_module_version": "1.0.0",
      "model_name": "OutputModel",
      "state": {
       "layout": "IPY_MODEL_65e71dfe37794004b3fe41717d20bb9c",
       "outputs": [
        {
         "name": "stdout",
         "output_type": "stream",
         "text": "binning size (histogram) = 46\nleft k = 3.844086\nright k = 3.844086\nleft variance = 0.266740\nright variance = 0.715949\n----------------------------------------\nsplit 2, image 1\nepsilon=1.5, minimum # of samples=4\n-----------------------------  ------\narea (%)                         4.2\n# of cluster (per 10000 nm^2)  389\nmean perimeter                   3.69\nmean size                        1.17\nlargest size                     2.28\nsmallest size                    0.99\n-----------------------------  ------\n"
        }
       ]
      }
     },
     "9be2981fd01e44b6ad7c3305ec4e0584": {
      "model_module": "@jupyter-widgets/base",
      "model_module_version": "1.2.0",
      "model_name": "LayoutModel",
      "state": {}
     },
     "9c172c42658d4cdabbedf52e9a348295": {
      "model_module": "@jupyter-widgets/controls",
      "model_module_version": "1.5.0",
      "model_name": "DescriptionStyleModel",
      "state": {
       "description_width": "initial"
      }
     },
     "9c6d13892ca54bf292872550a119f14f": {
      "model_module": "@jupyter-widgets/controls",
      "model_module_version": "1.5.0",
      "model_name": "DescriptionStyleModel",
      "state": {
       "description_width": "initial"
      }
     },
     "9c889c061c52410aa81d7284fa598bb8": {
      "model_module": "@jupyter-widgets/controls",
      "model_module_version": "1.5.0",
      "model_name": "FloatTextModel",
      "state": {
       "description": "right percentile of variance range",
       "layout": "IPY_MODEL_4a6821ea0af741bd9754a23e7002d05d",
       "step": null,
       "style": "IPY_MODEL_5c462005fa924ea7ac55c68e7dedd9e2",
       "value": 99.999
      }
     },
     "9d5e99e866484d74b19e1681992292dd": {
      "model_module": "@jupyter-widgets/base",
      "model_module_version": "1.2.0",
      "model_name": "LayoutModel",
      "state": {}
     },
     "9d630631d2f046e2af0d39e531a4251d": {
      "model_module": "@jupyter-widgets/controls",
      "model_module_version": "1.5.0",
      "model_name": "IntTextModel",
      "state": {
       "description": "right of k-range",
       "layout": "IPY_MODEL_b1dbd4dd2f394d33bfd50e347cfd90ad",
       "step": 1,
       "style": "IPY_MODEL_c3f070e0dcd84624a83f6bfecba3c2e8",
       "value": 28
      }
     },
     "9d82ed27cbd641ffbdd468469596ff2b": {
      "model_module": "@jupyter-widgets/controls",
      "model_module_version": "1.5.0",
      "model_name": "FloatTextModel",
      "state": {
       "description": "right percentile of variance range",
       "layout": "IPY_MODEL_b2633bb24dbb410aaa18c1f4be4a5a1d",
       "step": null,
       "style": "IPY_MODEL_d72e95be913c42a294f1e018c89ce7a3",
       "value": 99.999
      }
     },
     "9e99b3f874f94b22a8b18db19c1e0126": {
      "model_module": "@jupyter-widgets/controls",
      "model_module_version": "1.5.0",
      "model_name": "DropdownModel",
      "state": {
       "_options_labels": [
        "1",
        "2",
        "3",
        "4"
       ],
       "description": "split: ",
       "index": 0,
       "layout": "IPY_MODEL_bd44b741df644ae888b8ab158b092c19",
       "style": "IPY_MODEL_6e5c283a5f534a0c9ab818dd7533b277"
      }
     },
     "9f048e66caf6445fbb371c5e3c9d568f": {
      "model_module": "@jupyter-widgets/base",
      "model_module_version": "1.2.0",
      "model_name": "LayoutModel",
      "state": {}
     },
     "9f987cdc21234a3f8ab3997eb851e045": {
      "model_module": "@jupyter-widgets/controls",
      "model_module_version": "1.5.0",
      "model_name": "FloatTextModel",
      "state": {
       "description": "right percentile of variance range",
       "layout": "IPY_MODEL_4f973615ef2743ffb1c451f87792d931",
       "step": null,
       "style": "IPY_MODEL_582dbb4ab1004e54be984d14f95ba400",
       "value": 99.999
      }
     },
     "9fa972ab9eef4cdc9ee0490b651cdc69": {
      "model_module": "@jupyter-widgets/controls",
      "model_module_version": "1.5.0",
      "model_name": "DescriptionStyleModel",
      "state": {
       "description_width": ""
      }
     },
     "9fbb925e697549cb98367591244a2690": {
      "model_module": "@jupyter-widgets/controls",
      "model_module_version": "1.5.0",
      "model_name": "DescriptionStyleModel",
      "state": {
       "description_width": "initial"
      }
     },
     "9fc8812c0fc646cda56a23361ca22eae": {
      "model_module": "@jupyter-widgets/controls",
      "model_module_version": "1.5.0",
      "model_name": "IntTextModel",
      "state": {
       "description": "minimum # of cluster pixels",
       "layout": "IPY_MODEL_6bd356ef7d0e47db991dc3f0867dca80",
       "step": 1,
       "style": "IPY_MODEL_5c08cd4434eb42d396614a7f7caf7771",
       "value": 4
      }
     },
     "9ffe5d39f6f04b1fae957fafcc601fef": {
      "model_module": "@jupyter-widgets/base",
      "model_module_version": "1.2.0",
      "model_name": "LayoutModel",
      "state": {}
     },
     "a0aa198d1d12429fa83e9738f5d4e03c": {
      "model_module": "@jupyter-widgets/controls",
      "model_module_version": "1.5.0",
      "model_name": "IntTextModel",
      "state": {
       "description": "right of k-range",
       "layout": "IPY_MODEL_5ae606cc07e041f5b4c53fe5e6a90365",
       "step": 1,
       "style": "IPY_MODEL_ff107d55c626406b977cf098613cbee5",
       "value": 28
      }
     },
     "a12930ae37514a229932c36523805011": {
      "model_module": "@jupyter-widgets/base",
      "model_module_version": "1.2.0",
      "model_name": "LayoutModel",
      "state": {}
     },
     "a1afbfa663d64de081c6d884f9a6d3da": {
      "model_module": "@jupyter-widgets/controls",
      "model_module_version": "1.5.0",
      "model_name": "VBoxModel",
      "state": {
       "_dom_classes": [
        "widget-interact"
       ],
       "children": [
        "IPY_MODEL_25dfb4680fbd4df1ab0a49c066d9f9b4",
        "IPY_MODEL_143a3d58427b4b80a24649482a88355d",
        "IPY_MODEL_427c04b00cf64720b109da71960732bc",
        "IPY_MODEL_29c9a529334645129734b41a98341016",
        "IPY_MODEL_d3511322e920485ead35db6bbefba276",
        "IPY_MODEL_1f4cf613e1a84090b1a0dce1140cbd45",
        "IPY_MODEL_c2abef623b8845ce9a49d1290ef79ca2",
        "IPY_MODEL_c70259f3916d47ff99139f2a307a1a25",
        "IPY_MODEL_c0e2965e1319438db5b9e94282df8abb",
        "IPY_MODEL_858aceb514404170ae47d5b1ffb8fd29"
       ],
       "layout": "IPY_MODEL_953612a1b7ea4be3914c95e74b04f784"
      }
     },
     "a2b665b52d284460b55e7a35796dd060": {
      "model_module": "@jupyter-widgets/controls",
      "model_module_version": "1.5.0",
      "model_name": "IntTextModel",
      "state": {
       "description": "left of k-range",
       "layout": "IPY_MODEL_a3bd374964734ea0bcf5af74ed2f7fa7",
       "step": 1,
       "style": "IPY_MODEL_821d2bc224e5436ba6fd13859c4a116e",
       "value": 28
      }
     },
     "a32a70e51291413c87f5afde8ac4fd62": {
      "model_module": "@jupyter-widgets/base",
      "model_module_version": "1.2.0",
      "model_name": "LayoutModel",
      "state": {}
     },
     "a356764e14f34ee7bcd6f752fb7ea2d7": {
      "model_module": "@jupyter-widgets/controls",
      "model_module_version": "1.5.0",
      "model_name": "IntTextModel",
      "state": {
       "description": "left of k-range",
       "layout": "IPY_MODEL_d87d1699f9c04164b837e187bf91f11d",
       "step": 1,
       "style": "IPY_MODEL_7c23f0841a65456cbe96fb4ac63fd650",
       "value": 28
      }
     },
     "a3bd374964734ea0bcf5af74ed2f7fa7": {
      "model_module": "@jupyter-widgets/base",
      "model_module_version": "1.2.0",
      "model_name": "LayoutModel",
      "state": {}
     },
     "a5148725f3cb4dd0ab2c09d36ef6a06c": {
      "model_module": "@jupyter-widgets/controls",
      "model_module_version": "1.5.0",
      "model_name": "DescriptionStyleModel",
      "state": {
       "description_width": "initial"
      }
     },
     "a55e3a9d612647d7af9d4d8267b69225": {
      "model_module": "@jupyter-widgets/base",
      "model_module_version": "1.2.0",
      "model_name": "LayoutModel",
      "state": {}
     },
     "a58dc579a12d4038ab3be18041f03eee": {
      "model_module": "@jupyter-widgets/controls",
      "model_module_version": "1.5.0",
      "model_name": "IntTextModel",
      "state": {
       "description": "minimum # of cluster pixels",
       "layout": "IPY_MODEL_1b42889ccbd7476096d118bb81209ce1",
       "step": 1,
       "style": "IPY_MODEL_48f49829002148c1b0f5cb64c70633a1",
       "value": 4
      }
     },
     "a675ad476f67449fb184bbe277b80a5f": {
      "model_module": "@jupyter-widgets/controls",
      "model_module_version": "1.5.0",
      "model_name": "IntTextModel",
      "state": {
       "description": "minimum # of cluster pixels",
       "layout": "IPY_MODEL_00a133486a954d03ab58deaa928af4ea",
       "step": 1,
       "style": "IPY_MODEL_5340e4569d924ef2a33a55c305e49bc0",
       "value": 4
      }
     },
     "a6b18c4e6b434ab194ec92c0418899e8": {
      "model_module": "@jupyter-widgets/controls",
      "model_module_version": "1.5.0",
      "model_name": "DropdownModel",
      "state": {
       "_options_labels": [
        "1",
        "2",
        "3",
        "4"
       ],
       "description": "split: ",
       "index": 0,
       "layout": "IPY_MODEL_337080e78018409596c9fcfa337d069c",
       "style": "IPY_MODEL_7dea91fb985d44bc9da5bf7fdaabdfbb"
      }
     },
     "a6ba706ba9fe4ee88c3b4534dad7a47d": {
      "model_module": "@jupyter-widgets/output",
      "model_module_version": "1.0.0",
      "model_name": "OutputModel",
      "state": {
       "layout": "IPY_MODEL_3da576af721e44a592721bee930d9582",
       "outputs": [
        {
         "name": "stdout",
         "output_type": "stream",
         "text": "binning size (histogram) = 93\nleft k = 3.844086\nright k = 3.844086\nleft variance = 0.270704\nright variance = 0.586227\n----------------------------------------\nsplit 1, image 1\nepsilon=1.5, minimum # of samples=4\n-----------------------------  ------\narea (%)                         4.09\n# of cluster (per 10000 nm^2)  394\nmean perimeter                   3.61\nmean size                        1.15\nlargest size                     1.86\nsmallest size                    0.99\n-----------------------------  ------\n"
        }
       ]
      }
     },
     "a764dc955d8547bbb61eb43ec8161fd8": {
      "model_module": "@jupyter-widgets/base",
      "model_module_version": "1.2.0",
      "model_name": "LayoutModel",
      "state": {}
     },
     "a7bb9e9c049447a3997611abe3b89084": {
      "model_module": "@jupyter-widgets/base",
      "model_module_version": "1.2.0",
      "model_name": "LayoutModel",
      "state": {}
     },
     "a7c183be661849109652258873f8b4d7": {
      "model_module": "@jupyter-widgets/controls",
      "model_module_version": "1.5.0",
      "model_name": "DescriptionStyleModel",
      "state": {
       "description_width": "initial"
      }
     },
     "a7d0d084cc98428baf83e9a2511c6f61": {
      "model_module": "@jupyter-widgets/base",
      "model_module_version": "1.2.0",
      "model_name": "LayoutModel",
      "state": {}
     },
     "a8336d826a4c4349aa959c65c42c4814": {
      "model_module": "@jupyter-widgets/controls",
      "model_module_version": "1.5.0",
      "model_name": "DescriptionStyleModel",
      "state": {
       "description_width": "initial"
      }
     },
     "a83fb2e0f15044e295344b5e4e24b2dd": {
      "model_module": "@jupyter-widgets/controls",
      "model_module_version": "1.5.0",
      "model_name": "DescriptionStyleModel",
      "state": {
       "description_width": "initial"
      }
     },
     "a881d11bae72448f8768ae25fb70d64d": {
      "model_module": "@jupyter-widgets/controls",
      "model_module_version": "1.5.0",
      "model_name": "FloatTextModel",
      "state": {
       "description": "right percentile of variance range",
       "layout": "IPY_MODEL_a7d0d084cc98428baf83e9a2511c6f61",
       "step": null,
       "style": "IPY_MODEL_05644b123aaf4a39b6f36d85fcac8a8a",
       "value": 99.999
      }
     },
     "a913de00e74e43c2b4a1b01d9af27609": {
      "model_module": "@jupyter-widgets/controls",
      "model_module_version": "1.5.0",
      "model_name": "DescriptionStyleModel",
      "state": {
       "description_width": "initial"
      }
     },
     "a9ab677d9ff24c8393334c1272f2e542": {
      "model_module": "@jupyter-widgets/base",
      "model_module_version": "1.2.0",
      "model_name": "LayoutModel",
      "state": {}
     },
     "aa3536aa61554a8a96962850ce3cfe5c": {
      "model_module": "@jupyter-widgets/controls",
      "model_module_version": "1.5.0",
      "model_name": "FloatTextModel",
      "state": {
       "description": "left percentile of variance range",
       "layout": "IPY_MODEL_311ee4681a9e42f38e53b8d24fd96d2f",
       "step": null,
       "style": "IPY_MODEL_e7097f93fb5243a0ac5ce7c35221221a",
       "value": 90
      }
     },
     "aa6e0f0a8c6d4e80a6e3977c3a7593f1": {
      "model_module": "@jupyter-widgets/controls",
      "model_module_version": "1.5.0",
      "model_name": "FloatTextModel",
      "state": {
       "description": "left percentile of variance range",
       "layout": "IPY_MODEL_3abc741fa2ee435fa8d77cc65e5bda61",
       "step": null,
       "style": "IPY_MODEL_5c94089636b44d4ab5b93402e747bc83",
       "value": 90
      }
     },
     "aab4a01567d64e15ab0b56aa68721881": {
      "model_module": "@jupyter-widgets/base",
      "model_module_version": "1.2.0",
      "model_name": "LayoutModel",
      "state": {}
     },
     "ab0c04ceef414082beca0e034dbc46b9": {
      "model_module": "@jupyter-widgets/controls",
      "model_module_version": "1.5.0",
      "model_name": "VBoxModel",
      "state": {
       "_dom_classes": [
        "widget-interact"
       ],
       "children": [
        "IPY_MODEL_be520bac6c0a4d839fb865197a41dbcb",
        "IPY_MODEL_652bab6ccf694780a869e502f11554db",
        "IPY_MODEL_ef61be52bb344641a3df7f80c2ef5cda",
        "IPY_MODEL_8f77f65e3be14472b5f65131919a4a42",
        "IPY_MODEL_a58dc579a12d4038ab3be18041f03eee",
        "IPY_MODEL_2048b6f2352c45818cfdcc5ec943518c",
        "IPY_MODEL_c08bd44c2fc94bb4982a92deb19ebb4b",
        "IPY_MODEL_0429a45fe3564f4d93830a9c129356b7",
        "IPY_MODEL_fee9654296cb474e94000db66df84def",
        "IPY_MODEL_75d99512652d476ab1a1e05749be2b49"
       ],
       "layout": "IPY_MODEL_cf9ff768602a49c4bc4d644a5a25e087"
      }
     },
     "ab53f56febc64d71bab483d5e6128b16": {
      "model_module": "@jupyter-widgets/base",
      "model_module_version": "1.2.0",
      "model_name": "LayoutModel",
      "state": {}
     },
     "ac7b418cd95044168175455053bbfeba": {
      "model_module": "@jupyter-widgets/base",
      "model_module_version": "1.2.0",
      "model_name": "LayoutModel",
      "state": {}
     },
     "acb1260f4a0a409a822fca3dd498d92a": {
      "model_module": "@jupyter-widgets/controls",
      "model_module_version": "1.5.0",
      "model_name": "FloatTextModel",
      "state": {
       "description": "left percentile of variance range",
       "layout": "IPY_MODEL_be72dfe10e064942980c1a67817dd356",
       "step": null,
       "style": "IPY_MODEL_6ae406d942204fcb862685fbbf4ad469",
       "value": 90
      }
     },
     "ad2ec06634fa4a8891dd4b8a11b63cb0": {
      "model_module": "@jupyter-widgets/controls",
      "model_module_version": "1.5.0",
      "model_name": "DescriptionStyleModel",
      "state": {
       "description_width": "initial"
      }
     },
     "ad9001e3751b4347ab9c54085661e0a8": {
      "model_module": "@jupyter-widgets/controls",
      "model_module_version": "1.5.0",
      "model_name": "VBoxModel",
      "state": {
       "_dom_classes": [
        "widget-interact"
       ],
       "children": [
        "IPY_MODEL_7b0de7bc40244a0b9d53cb5238164c1e",
        "IPY_MODEL_467435b1e1e74046b4b2bc0433b67c66",
        "IPY_MODEL_aa6e0f0a8c6d4e80a6e3977c3a7593f1",
        "IPY_MODEL_56dc17b16bc8432482aa33921d3888e0",
        "IPY_MODEL_bae3ce3f24684f7e8a28ce3bd573db5e",
        "IPY_MODEL_f69f1bacdb29496a8503e7da8067eed9",
        "IPY_MODEL_c1b33b5f7b094de685655b7892b1f282",
        "IPY_MODEL_143a533e5f4e4796ba867033004d2908",
        "IPY_MODEL_2c55b92187b54f2d871dd03e5a1fb34f",
        "IPY_MODEL_5eac0c90bb0248e5a2f2e7ee2b5dbbc1"
       ],
       "layout": "IPY_MODEL_edbed5943325493fb6cc8fd499aba66d"
      }
     },
     "adc1ddc7c0184536987297eab8f56c9f": {
      "model_module": "@jupyter-widgets/controls",
      "model_module_version": "1.5.0",
      "model_name": "DescriptionStyleModel",
      "state": {
       "description_width": ""
      }
     },
     "adc91154dc494169b9f901ef065e7c52": {
      "model_module": "@jupyter-widgets/controls",
      "model_module_version": "1.5.0",
      "model_name": "DescriptionStyleModel",
      "state": {
       "description_width": "initial"
      }
     },
     "ae2d704d4b8d4921be8b613f14b99d64": {
      "model_module": "@jupyter-widgets/controls",
      "model_module_version": "1.5.0",
      "model_name": "DescriptionStyleModel",
      "state": {
       "description_width": "initial"
      }
     },
     "af4aa10a68c04a74b93e9a255663a541": {
      "model_module": "@jupyter-widgets/controls",
      "model_module_version": "1.5.0",
      "model_name": "DescriptionStyleModel",
      "state": {
       "description_width": "initial"
      }
     },
     "b0ca46a53104452b994e36335fbacc4c": {
      "model_module": "@jupyter-widgets/controls",
      "model_module_version": "1.5.0",
      "model_name": "DescriptionStyleModel",
      "state": {
       "description_width": "initial"
      }
     },
     "b11c2d5a38e7476a91f7392945e1902c": {
      "model_module": "@jupyter-widgets/controls",
      "model_module_version": "1.5.0",
      "model_name": "IntTextModel",
      "state": {
       "description": "right of k-range",
       "layout": "IPY_MODEL_da2870832d5e45c089c664d4c3f2b486",
       "step": 1,
       "style": "IPY_MODEL_0ac32e681fc14981b72c4de7c1b04d34",
       "value": 28
      }
     },
     "b18dfb9f24654234a1e002eb32ac8d68": {
      "model_module": "@jupyter-widgets/controls",
      "model_module_version": "1.5.0",
      "model_name": "IntTextModel",
      "state": {
       "description": "right of k-range",
       "layout": "IPY_MODEL_2327792921ab473582921e49626a3ed1",
       "step": 1,
       "style": "IPY_MODEL_6e5cad73d5644fdf816183e38a2245d2",
       "value": 28
      }
     },
     "b1bfd6c7b8e74b739855b70000d4ae02": {
      "model_module": "@jupyter-widgets/controls",
      "model_module_version": "1.5.0",
      "model_name": "DescriptionStyleModel",
      "state": {
       "description_width": "initial"
      }
     },
     "b1dbd4dd2f394d33bfd50e347cfd90ad": {
      "model_module": "@jupyter-widgets/base",
      "model_module_version": "1.2.0",
      "model_name": "LayoutModel",
      "state": {}
     },
     "b1ee2f633e6149b5b0953fd786383ae2": {
      "model_module": "@jupyter-widgets/base",
      "model_module_version": "1.2.0",
      "model_name": "LayoutModel",
      "state": {}
     },
     "b2436049fb014334b61587b7fff5fc1c": {
      "model_module": "@jupyter-widgets/controls",
      "model_module_version": "1.5.0",
      "model_name": "VBoxModel",
      "state": {
       "_dom_classes": [
        "widget-interact"
       ],
       "children": [
        "IPY_MODEL_a356764e14f34ee7bcd6f752fb7ea2d7",
        "IPY_MODEL_92a3eb8866834f21b4ed95ab2e06ba2b",
        "IPY_MODEL_ba15fb8b631b407485ca940f4923d971",
        "IPY_MODEL_d8d061892bee433a9998cdb2222247e3",
        "IPY_MODEL_058069ba78594be4b998264e0e845f4a",
        "IPY_MODEL_f549fe0f32bf4725a744e87a037db978",
        "IPY_MODEL_7ee985da1821406484a67621983e6450",
        "IPY_MODEL_3573b23c7c534df1bc482248c343f3fe",
        "IPY_MODEL_086b55780b7d4f01abb5a50c1c87e307",
        "IPY_MODEL_1a078486b951428580ef2bfdd5d4530a"
       ],
       "layout": "IPY_MODEL_7b8acf98ca164e268f4b1e8573523989"
      }
     },
     "b2633bb24dbb410aaa18c1f4be4a5a1d": {
      "model_module": "@jupyter-widgets/base",
      "model_module_version": "1.2.0",
      "model_name": "LayoutModel",
      "state": {}
     },
     "b2920b5e909a4e209af324be63b20216": {
      "model_module": "@jupyter-widgets/base",
      "model_module_version": "1.2.0",
      "model_name": "LayoutModel",
      "state": {}
     },
     "b2e3c06c6cad4b4ea61d92f5dea6197e": {
      "model_module": "@jupyter-widgets/base",
      "model_module_version": "1.2.0",
      "model_name": "LayoutModel",
      "state": {}
     },
     "b2f001e87ea94aff86c4aae322a56f50": {
      "model_module": "@jupyter-widgets/base",
      "model_module_version": "1.2.0",
      "model_name": "LayoutModel",
      "state": {}
     },
     "b333669efc44443ea8d9e9202947d041": {
      "model_module": "@jupyter-widgets/controls",
      "model_module_version": "1.5.0",
      "model_name": "DropdownModel",
      "state": {
       "_options_labels": [
        "1",
        "2",
        "3",
        "4"
       ],
       "description": "split: ",
       "index": 0,
       "layout": "IPY_MODEL_de93a250d0d443abb1a42048aaf77fea",
       "style": "IPY_MODEL_0227a493c81343168837f609a00f3014"
      }
     },
     "b38ef30172b54371be494848b5261acd": {
      "model_module": "@jupyter-widgets/base",
      "model_module_version": "1.2.0",
      "model_name": "LayoutModel",
      "state": {}
     },
     "b3b88e67e3584a2ab2ad3ae3e9c6795b": {
      "model_module": "@jupyter-widgets/controls",
      "model_module_version": "1.5.0",
      "model_name": "DescriptionStyleModel",
      "state": {
       "description_width": "initial"
      }
     },
     "b490bb224e624b68941280ce203067f5": {
      "model_module": "@jupyter-widgets/controls",
      "model_module_version": "1.5.0",
      "model_name": "DescriptionStyleModel",
      "state": {
       "description_width": "initial"
      }
     },
     "b505281388734f218cb11a032b72e5d6": {
      "model_module": "@jupyter-widgets/base",
      "model_module_version": "1.2.0",
      "model_name": "LayoutModel",
      "state": {}
     },
     "b58cf098568343d5ae5214c76942a91f": {
      "model_module": "@jupyter-widgets/base",
      "model_module_version": "1.2.0",
      "model_name": "LayoutModel",
      "state": {}
     },
     "b58d7181fec846d7ac4f7c546b248246": {
      "model_module": "@jupyter-widgets/base",
      "model_module_version": "1.2.0",
      "model_name": "LayoutModel",
      "state": {}
     },
     "b58ead2745d1447db47a4cb4e2f9b3df": {
      "model_module": "@jupyter-widgets/controls",
      "model_module_version": "1.5.0",
      "model_name": "DescriptionStyleModel",
      "state": {
       "description_width": "initial"
      }
     },
     "b5cfc0c1b0f746e9b83ed823b2e04084": {
      "model_module": "@jupyter-widgets/base",
      "model_module_version": "1.2.0",
      "model_name": "LayoutModel",
      "state": {}
     },
     "b6045026f40b4f50bc41a79388607729": {
      "model_module": "@jupyter-widgets/base",
      "model_module_version": "1.2.0",
      "model_name": "LayoutModel",
      "state": {}
     },
     "b7bd0d9578ba4c07b5fab5dac2dda98a": {
      "model_module": "@jupyter-widgets/controls",
      "model_module_version": "1.5.0",
      "model_name": "DescriptionStyleModel",
      "state": {
       "description_width": "initial"
      }
     },
     "b7ed78e24ecd41688ebed3432cecad57": {
      "model_module": "@jupyter-widgets/base",
      "model_module_version": "1.2.0",
      "model_name": "LayoutModel",
      "state": {}
     },
     "b897569e98a84a0fa8b32a37d56dd494": {
      "model_module": "@jupyter-widgets/base",
      "model_module_version": "1.2.0",
      "model_name": "LayoutModel",
      "state": {}
     },
     "b98f71600b8d44eda29d9e9ada64cc59": {
      "model_module": "@jupyter-widgets/output",
      "model_module_version": "1.0.0",
      "model_name": "OutputModel",
      "state": {
       "layout": "IPY_MODEL_69f5a24e53ab4bb8a75d2446d3e971e4",
       "outputs": [
        {
         "name": "stdout",
         "output_type": "stream",
         "text": "binning size (histogram) = 93\nleft k = 3.844086\nright k = 3.844086\nleft variance = 0.270704\nright variance = 0.586227\n----------------------------------------\nsplit 1, image 1\nepsilon=1.5, minimum # of samples=4\n-----------------------------  ------\narea (%)                         4.09\n# of cluster (per 10000 nm^2)  394\nmean perimeter                   3.61\nmean size                        1.15\nlargest size                     1.86\nsmallest size                    0.99\n-----------------------------  ------\n"
        }
       ]
      }
     },
     "b9a8a89410524345988ebdefa1f0bad2": {
      "model_module": "@jupyter-widgets/controls",
      "model_module_version": "1.5.0",
      "model_name": "FloatTextModel",
      "state": {
       "description": "epsilon: ",
       "layout": "IPY_MODEL_d5681c5ce87d400a9500a2b3e6cf9a9d",
       "step": null,
       "style": "IPY_MODEL_d9e7a84acf104df7870a313079987e9f",
       "value": 1.5
      }
     },
     "b9b158860f874f1aa5ce2ae54ac52c70": {
      "model_module": "@jupyter-widgets/controls",
      "model_module_version": "1.5.0",
      "model_name": "IntTextModel",
      "state": {
       "description": "left of k-range",
       "layout": "IPY_MODEL_3b115081b6a64a4598b48d0fda52d170",
       "step": 1,
       "style": "IPY_MODEL_6ce6e2716bf14ced8d675d0cd6f0a130",
       "value": 28
      }
     },
     "ba15fb8b631b407485ca940f4923d971": {
      "model_module": "@jupyter-widgets/controls",
      "model_module_version": "1.5.0",
      "model_name": "FloatTextModel",
      "state": {
       "description": "left percentile of variance range",
       "layout": "IPY_MODEL_18e2e4dfe34a43f79fb78f085ba9194a",
       "step": null,
       "style": "IPY_MODEL_71dfeb8daea14f86b9172a779ff41163",
       "value": 90
      }
     },
     "bae3ce3f24684f7e8a28ce3bd573db5e": {
      "model_module": "@jupyter-widgets/controls",
      "model_module_version": "1.5.0",
      "model_name": "IntTextModel",
      "state": {
       "description": "minimum # of cluster pixels",
       "layout": "IPY_MODEL_d40a2adb9392446fb5bcf1859e12749d",
       "step": 1,
       "style": "IPY_MODEL_7a9ae5bdefd34c61ba2b8e6273996af6",
       "value": 4
      }
     },
     "bb166a7451c044f9b7410494c39c9f8e": {
      "model_module": "@jupyter-widgets/base",
      "model_module_version": "1.2.0",
      "model_name": "LayoutModel",
      "state": {}
     },
     "bcb5c7f9b6dc49d7a95d0f2fd8a6197b": {
      "model_module": "@jupyter-widgets/base",
      "model_module_version": "1.2.0",
      "model_name": "LayoutModel",
      "state": {}
     },
     "bcd43b3c75e44cccb75df5b0816de599": {
      "model_module": "@jupyter-widgets/base",
      "model_module_version": "1.2.0",
      "model_name": "LayoutModel",
      "state": {}
     },
     "bcf7b841bd834ebf8091578d47a2da7d": {
      "model_module": "@jupyter-widgets/base",
      "model_module_version": "1.2.0",
      "model_name": "LayoutModel",
      "state": {}
     },
     "bd44b741df644ae888b8ab158b092c19": {
      "model_module": "@jupyter-widgets/base",
      "model_module_version": "1.2.0",
      "model_name": "LayoutModel",
      "state": {}
     },
     "be520bac6c0a4d839fb865197a41dbcb": {
      "model_module": "@jupyter-widgets/controls",
      "model_module_version": "1.5.0",
      "model_name": "IntTextModel",
      "state": {
       "description": "left of k-range",
       "layout": "IPY_MODEL_4dd2c2c4044a4225b845372f3e2b1d12",
       "step": 1,
       "style": "IPY_MODEL_6805a71b534f4f0a92aa152db31db4c9",
       "value": 28
      }
     },
     "be72dfe10e064942980c1a67817dd356": {
      "model_module": "@jupyter-widgets/base",
      "model_module_version": "1.2.0",
      "model_name": "LayoutModel",
      "state": {}
     },
     "be87a90e4091419e867dbfaa95ac9bb6": {
      "model_module": "@jupyter-widgets/base",
      "model_module_version": "1.2.0",
      "model_name": "LayoutModel",
      "state": {}
     },
     "beadc9d1e94045bc9c4ff4660e5e8f73": {
      "model_module": "@jupyter-widgets/base",
      "model_module_version": "1.2.0",
      "model_name": "LayoutModel",
      "state": {}
     },
     "bf1baac0d2104701bfff0978900b2e94": {
      "model_module": "@jupyter-widgets/base",
      "model_module_version": "1.2.0",
      "model_name": "LayoutModel",
      "state": {}
     },
     "bf77c6880b7c4504926377105b89a778": {
      "model_module": "@jupyter-widgets/output",
      "model_module_version": "1.0.0",
      "model_name": "OutputModel",
      "state": {
       "layout": "IPY_MODEL_b505281388734f218cb11a032b72e5d6",
       "outputs": [
        {
         "name": "stdout",
         "output_type": "stream",
         "text": "left k = 3.844086\nright k = 3.844086\nleft variance = 0.270704\nright variance = 0.586227\n----------------------------------------\nsplit 1, image 1\nepsilon=1.5, minimum # of samples=4\n-----------------------------  ------\narea (%)                         4.09\n# of cluster (per 10000 nm^2)  394\nmean perimeter                   3.61\nmean size                        1.15\nlargest size                     1.86\nsmallest size                    0.99\n-----------------------------  ------\n"
        }
       ]
      }
     },
     "bf8a02fc385949b490415f7cdd4893fa": {
      "model_module": "@jupyter-widgets/controls",
      "model_module_version": "1.5.0",
      "model_name": "CheckboxModel",
      "state": {
       "description": "save the result",
       "disabled": false,
       "layout": "IPY_MODEL_1c9fd8027ed147228d2ac686330fc5e7",
       "style": "IPY_MODEL_adc1ddc7c0184536987297eab8f56c9f",
       "value": false
      }
     },
     "c08bd44c2fc94bb4982a92deb19ebb4b": {
      "model_module": "@jupyter-widgets/controls",
      "model_module_version": "1.5.0",
      "model_name": "DropdownModel",
      "state": {
       "_options_labels": [
        "1",
        "2",
        "3",
        "4"
       ],
       "description": "split: ",
       "index": 0,
       "layout": "IPY_MODEL_ed1fffb34cb643abbc14c33d7c4881c4",
       "style": "IPY_MODEL_6d5d9ee2f7fd4e59b422c10598b90367"
      }
     },
     "c0dd1aef3c8340e1832a617c0c8ad70d": {
      "model_module": "@jupyter-widgets/base",
      "model_module_version": "1.2.0",
      "model_name": "LayoutModel",
      "state": {}
     },
     "c0e2965e1319438db5b9e94282df8abb": {
      "model_module": "@jupyter-widgets/controls",
      "model_module_version": "1.5.0",
      "model_name": "CheckboxModel",
      "state": {
       "description": "save the result",
       "disabled": false,
       "layout": "IPY_MODEL_85f5247f628f494790bcb7a8f14402af",
       "style": "IPY_MODEL_cf180194f3064060b0a0dfc0c4377d7d",
       "value": false
      }
     },
     "c0ee5464f32b4a60a8d582897b2128bd": {
      "model_module": "@jupyter-widgets/controls",
      "model_module_version": "1.5.0",
      "model_name": "FloatTextModel",
      "state": {
       "description": "epsilon: ",
       "layout": "IPY_MODEL_e0253968cbd44a91968e71e338cbab8c",
       "step": null,
       "style": "IPY_MODEL_ad2ec06634fa4a8891dd4b8a11b63cb0",
       "value": 1.5
      }
     },
     "c1b33b5f7b094de685655b7892b1f282": {
      "model_module": "@jupyter-widgets/controls",
      "model_module_version": "1.5.0",
      "model_name": "DropdownModel",
      "state": {
       "_options_labels": [
        "1",
        "2",
        "3",
        "4"
       ],
       "description": "split: ",
       "index": 0,
       "layout": "IPY_MODEL_7bb1aab1fe124036851e0bad03becfd8",
       "style": "IPY_MODEL_fd724fa7b6774098b6dd0fe1c1417509"
      }
     },
     "c1ff9968de164aa19838cf66df13633e": {
      "model_module": "@jupyter-widgets/controls",
      "model_module_version": "1.5.0",
      "model_name": "DescriptionStyleModel",
      "state": {
       "description_width": "initial"
      }
     },
     "c2097da941af423491337d71d9d2d7c6": {
      "model_module": "@jupyter-widgets/controls",
      "model_module_version": "1.5.0",
      "model_name": "DescriptionStyleModel",
      "state": {
       "description_width": "initial"
      }
     },
     "c25103b4fbf3448ead6607beefe6824a": {
      "model_module": "@jupyter-widgets/base",
      "model_module_version": "1.2.0",
      "model_name": "LayoutModel",
      "state": {}
     },
     "c28629030dc440c580f967f0badb3ffb": {
      "model_module": "@jupyter-widgets/controls",
      "model_module_version": "1.5.0",
      "model_name": "CheckboxModel",
      "state": {
       "description": "save the result",
       "disabled": false,
       "layout": "IPY_MODEL_6944aee5197640db8d083475c9f36635",
       "style": "IPY_MODEL_47772db21b9d4be688c3b53e315b1d11",
       "value": false
      }
     },
     "c2abef623b8845ce9a49d1290ef79ca2": {
      "model_module": "@jupyter-widgets/controls",
      "model_module_version": "1.5.0",
      "model_name": "DropdownModel",
      "state": {
       "_options_labels": [
        "1",
        "2",
        "3",
        "4"
       ],
       "description": "split: ",
       "index": 0,
       "layout": "IPY_MODEL_294a49ff14cc4ed0a52e9edea6db12e9",
       "style": "IPY_MODEL_fdba5521d6bd4c95a7d03f36be1c9b53"
      }
     },
     "c31921dff7c848eabb32e9c618d3b466": {
      "model_module": "@jupyter-widgets/controls",
      "model_module_version": "1.5.0",
      "model_name": "FloatTextModel",
      "state": {
       "description": "right percentile of variance range",
       "layout": "IPY_MODEL_3fcbdcfe4b444c42b049e959ad27179c",
       "step": null,
       "style": "IPY_MODEL_85da15e937204b689ed24d5bbe7dbc98",
       "value": 99.999
      }
     },
     "c3d002f340dc407ab1d3ea4939d8691a": {
      "model_module": "@jupyter-widgets/controls",
      "model_module_version": "1.5.0",
      "model_name": "DescriptionStyleModel",
      "state": {
       "description_width": "initial"
      }
     },
     "c3e8f711d2734797849b86a7b5e1f078": {
      "model_module": "@jupyter-widgets/controls",
      "model_module_version": "1.5.0",
      "model_name": "IntTextModel",
      "state": {
       "description": "left of k-range",
       "layout": "IPY_MODEL_beadc9d1e94045bc9c4ff4660e5e8f73",
       "step": 1,
       "style": "IPY_MODEL_75a039414e214ca4b9398c3dcc65d707",
       "value": 28
      }
     },
     "c3f070e0dcd84624a83f6bfecba3c2e8": {
      "model_module": "@jupyter-widgets/controls",
      "model_module_version": "1.5.0",
      "model_name": "DescriptionStyleModel",
      "state": {
       "description_width": "initial"
      }
     },
     "c42c5aecdaba47c5940f486541d8748f": {
      "model_module": "@jupyter-widgets/controls",
      "model_module_version": "1.5.0",
      "model_name": "FloatTextModel",
      "state": {
       "description": "left percentile of variance range",
       "layout": "IPY_MODEL_3812a235ff2141628bbdecf42e266247",
       "step": null,
       "style": "IPY_MODEL_af4aa10a68c04a74b93e9a255663a541",
       "value": 90
      }
     },
     "c454896489064ef5ac59826478bccd6b": {
      "model_module": "@jupyter-widgets/controls",
      "model_module_version": "1.5.0",
      "model_name": "IntTextModel",
      "state": {
       "description": "minimum # of cluster pixels",
       "layout": "IPY_MODEL_ed9101da91d847e7b657aa17ab98ffcf",
       "step": 1,
       "style": "IPY_MODEL_37711aca48eb4621b338a3d5d1f84643",
       "value": 4
      }
     },
     "c53cdbc58fdd47bb95d87e9441abbbd7": {
      "model_module": "@jupyter-widgets/controls",
      "model_module_version": "1.5.0",
      "model_name": "IntTextModel",
      "state": {
       "description": "minimum # of cluster pixels",
       "layout": "IPY_MODEL_aab4a01567d64e15ab0b56aa68721881",
       "step": 1,
       "style": "IPY_MODEL_39cedd91b2714104abbcbc0e8d1b54ec",
       "value": 4
      }
     },
     "c6da1e4021384179bd353aede950c2bc": {
      "model_module": "@jupyter-widgets/controls",
      "model_module_version": "1.5.0",
      "model_name": "CheckboxModel",
      "state": {
       "description": "save the result",
       "disabled": false,
       "layout": "IPY_MODEL_8fbe50c1e7fc4877bdebde7604da26d5",
       "style": "IPY_MODEL_8e4d5843dc4a43a1a6fd6b668299840f",
       "value": false
      }
     },
     "c70259f3916d47ff99139f2a307a1a25": {
      "model_module": "@jupyter-widgets/controls",
      "model_module_version": "1.5.0",
      "model_name": "DropdownModel",
      "state": {
       "_options_labels": [
        "1"
       ],
       "description": "image: ",
       "index": 0,
       "layout": "IPY_MODEL_094bad57b1fb4fa3b90f11e9d92403ea",
       "style": "IPY_MODEL_39051379017141ec965f8d4c097660a7"
      }
     },
     "c8c21f5e9f7c429e93639fb44d7a44c1": {
      "model_module": "@jupyter-widgets/base",
      "model_module_version": "1.2.0",
      "model_name": "LayoutModel",
      "state": {}
     },
     "c8c442b444454ad29c2392c4d19285c3": {
      "model_module": "@jupyter-widgets/controls",
      "model_module_version": "1.5.0",
      "model_name": "IntTextModel",
      "state": {
       "description": "right of k-range",
       "layout": "IPY_MODEL_30cb9383f46148bc978dabcc239c8aaf",
       "step": 1,
       "style": "IPY_MODEL_c3d002f340dc407ab1d3ea4939d8691a",
       "value": 28
      }
     },
     "c951f9ceba31434eae42334b4c6d5854": {
      "model_module": "@jupyter-widgets/controls",
      "model_module_version": "1.5.0",
      "model_name": "IntTextModel",
      "state": {
       "description": "left of k-range",
       "layout": "IPY_MODEL_886e46b8f7c84ae781000fee382fc29f",
       "step": 1,
       "style": "IPY_MODEL_93d756fd9eaf48ffbef72160fda8078e",
       "value": 28
      }
     },
     "c9e5cbce21cf4f7b9abd556de7754cae": {
      "model_module": "@jupyter-widgets/base",
      "model_module_version": "1.2.0",
      "model_name": "LayoutModel",
      "state": {}
     },
     "cb679366732d4dd68a7ae8267c605ed7": {
      "model_module": "@jupyter-widgets/controls",
      "model_module_version": "1.5.0",
      "model_name": "DescriptionStyleModel",
      "state": {
       "description_width": "initial"
      }
     },
     "cba7c3226f1c4396b83b7e4a676f59ed": {
      "model_module": "@jupyter-widgets/base",
      "model_module_version": "1.2.0",
      "model_name": "LayoutModel",
      "state": {}
     },
     "cc5d1cc212ca4af5821a10cdaa42946f": {
      "model_module": "@jupyter-widgets/controls",
      "model_module_version": "1.5.0",
      "model_name": "FloatTextModel",
      "state": {
       "description": "right percentile of variance range",
       "layout": "IPY_MODEL_cecfab1319c14888aa29c62f307c076b",
       "step": null,
       "style": "IPY_MODEL_190f67034ab44364b1e2c7719c0c9ea5",
       "value": 99.999
      }
     },
     "cc71a6f3ecb348e297dbf71e680628bb": {
      "model_module": "@jupyter-widgets/controls",
      "model_module_version": "1.5.0",
      "model_name": "DescriptionStyleModel",
      "state": {
       "description_width": "initial"
      }
     },
     "cd6353199d3e45a5982560c1ac03511e": {
      "model_module": "@jupyter-widgets/controls",
      "model_module_version": "1.5.0",
      "model_name": "DescriptionStyleModel",
      "state": {
       "description_width": "initial"
      }
     },
     "cdb4b764dde84113b9d97a99d452b154": {
      "model_module": "@jupyter-widgets/base",
      "model_module_version": "1.2.0",
      "model_name": "LayoutModel",
      "state": {}
     },
     "cecfab1319c14888aa29c62f307c076b": {
      "model_module": "@jupyter-widgets/base",
      "model_module_version": "1.2.0",
      "model_name": "LayoutModel",
      "state": {}
     },
     "cf180194f3064060b0a0dfc0c4377d7d": {
      "model_module": "@jupyter-widgets/controls",
      "model_module_version": "1.5.0",
      "model_name": "DescriptionStyleModel",
      "state": {
       "description_width": ""
      }
     },
     "cf69d41e82d545728192e20812470d74": {
      "model_module": "@jupyter-widgets/base",
      "model_module_version": "1.2.0",
      "model_name": "LayoutModel",
      "state": {}
     },
     "cf9ff768602a49c4bc4d644a5a25e087": {
      "model_module": "@jupyter-widgets/base",
      "model_module_version": "1.2.0",
      "model_name": "LayoutModel",
      "state": {}
     },
     "cfef7def7a4b4ae6b28710e3f6af5431": {
      "model_module": "@jupyter-widgets/controls",
      "model_module_version": "1.5.0",
      "model_name": "DescriptionStyleModel",
      "state": {
       "description_width": "initial"
      }
     },
     "d135cb3bbff5413f8a1728442c6331ca": {
      "model_module": "@jupyter-widgets/controls",
      "model_module_version": "1.5.0",
      "model_name": "IntTextModel",
      "state": {
       "description": "left of k-range",
       "layout": "IPY_MODEL_dfcf86e5d74c4ef3a2052ee3a12a6555",
       "step": 1,
       "style": "IPY_MODEL_524a36e15bc94b4baa8c523c869a051e",
       "value": 28
      }
     },
     "d1acc8d0b801470c9ca95eade4d5df98": {
      "model_module": "@jupyter-widgets/controls",
      "model_module_version": "1.5.0",
      "model_name": "IntTextModel",
      "state": {
       "description": "right of k-range",
       "layout": "IPY_MODEL_eb0b917be21d4c62be230ad7c6ed071b",
       "step": 1,
       "style": "IPY_MODEL_ff19c8db8ae64e7c9d219a72ce6b9e69",
       "value": 28
      }
     },
     "d1dd84b38cf343e6a06deeb8d2c245d3": {
      "model_module": "@jupyter-widgets/controls",
      "model_module_version": "1.5.0",
      "model_name": "DescriptionStyleModel",
      "state": {
       "description_width": "initial"
      }
     },
     "d201435aeebe40abb450c4d11808539e": {
      "model_module": "@jupyter-widgets/controls",
      "model_module_version": "1.5.0",
      "model_name": "DescriptionStyleModel",
      "state": {
       "description_width": "initial"
      }
     },
     "d228641ef7fc4051a25f07ddf65e64bd": {
      "model_module": "@jupyter-widgets/controls",
      "model_module_version": "1.5.0",
      "model_name": "DescriptionStyleModel",
      "state": {
       "description_width": "initial"
      }
     },
     "d28a563474bc41d1b242bf15c413ff6a": {
      "model_module": "@jupyter-widgets/controls",
      "model_module_version": "1.5.0",
      "model_name": "FloatTextModel",
      "state": {
       "description": "right percentile of variance range",
       "layout": "IPY_MODEL_81f941222ced4164ad1df52de7ac1f0a",
       "step": null,
       "style": "IPY_MODEL_c2097da941af423491337d71d9d2d7c6",
       "value": 99.999
      }
     },
     "d29cbf77b43448898eecf126e7801dad": {
      "model_module": "@jupyter-widgets/controls",
      "model_module_version": "1.5.0",
      "model_name": "DropdownModel",
      "state": {
       "_options_labels": [
        "1",
        "2",
        "3",
        "4"
       ],
       "description": "split: ",
       "index": 1,
       "layout": "IPY_MODEL_9440f2a779464ca8a0f8f7946686bba0",
       "style": "IPY_MODEL_0cf6cb261ba54d99bb7878b21e123f5a"
      }
     },
     "d325eaadea8e48f3b2b95f11cf631221": {
      "model_module": "@jupyter-widgets/base",
      "model_module_version": "1.2.0",
      "model_name": "LayoutModel",
      "state": {}
     },
     "d3403428bb2445f2a59cd37d2cded092": {
      "model_module": "@jupyter-widgets/controls",
      "model_module_version": "1.5.0",
      "model_name": "VBoxModel",
      "state": {
       "_dom_classes": [
        "widget-interact"
       ],
       "children": [
        "IPY_MODEL_df610280508b4e8c997df3a1caa6cc04",
        "IPY_MODEL_6983e389e8d84afd94cf8c63c0610d9e",
        "IPY_MODEL_1732eec2e4ac4c27aa11670d7a596f7e",
        "IPY_MODEL_e7c35189ecb7444882db07e55218e9e9",
        "IPY_MODEL_18210f1bd2c24c54ae5d72b9154c56a3",
        "IPY_MODEL_d969760c53ce497e8bc450f71dce5251",
        "IPY_MODEL_6492346843b04b109077c4b02e217c9e",
        "IPY_MODEL_725ee84b88464411ac3af031bb667126",
        "IPY_MODEL_c6da1e4021384179bd353aede950c2bc",
        "IPY_MODEL_78a082409bd14c3f967ad4ad7c6a9db1"
       ],
       "layout": "IPY_MODEL_3604316146ec4062b1b87ab52ea5cca5"
      }
     },
     "d3511322e920485ead35db6bbefba276": {
      "model_module": "@jupyter-widgets/controls",
      "model_module_version": "1.5.0",
      "model_name": "IntTextModel",
      "state": {
       "description": "minimum # of cluster pixels",
       "layout": "IPY_MODEL_6e0b0fd113674e368c2f68411d2770ba",
       "step": 1,
       "style": "IPY_MODEL_fe6fc9892100469aa3f5bfdc92e4be15",
       "value": 4
      }
     },
     "d36cc953075d4d9c98ef13724119ecb8": {
      "model_module": "@jupyter-widgets/base",
      "model_module_version": "1.2.0",
      "model_name": "LayoutModel",
      "state": {}
     },
     "d40a2adb9392446fb5bcf1859e12749d": {
      "model_module": "@jupyter-widgets/base",
      "model_module_version": "1.2.0",
      "model_name": "LayoutModel",
      "state": {}
     },
     "d4c34042376d4de8bec3c86679192294": {
      "model_module": "@jupyter-widgets/base",
      "model_module_version": "1.2.0",
      "model_name": "LayoutModel",
      "state": {}
     },
     "d5681c5ce87d400a9500a2b3e6cf9a9d": {
      "model_module": "@jupyter-widgets/base",
      "model_module_version": "1.2.0",
      "model_name": "LayoutModel",
      "state": {}
     },
     "d6fa67cd4f6f49d69226b0b578e92f5d": {
      "model_module": "@jupyter-widgets/controls",
      "model_module_version": "1.5.0",
      "model_name": "DropdownModel",
      "state": {
       "_options_labels": [
        "1"
       ],
       "description": "image: ",
       "index": 0,
       "layout": "IPY_MODEL_e5b1e4a98fc64ffcbf0b368054895441",
       "style": "IPY_MODEL_26d948a68ea54def88f9b6562743d4a1"
      }
     },
     "d72e95be913c42a294f1e018c89ce7a3": {
      "model_module": "@jupyter-widgets/controls",
      "model_module_version": "1.5.0",
      "model_name": "DescriptionStyleModel",
      "state": {
       "description_width": "initial"
      }
     },
     "d7884799e5aa40439afa6f9fa114f0db": {
      "model_module": "@jupyter-widgets/controls",
      "model_module_version": "1.5.0",
      "model_name": "FloatTextModel",
      "state": {
       "description": "left percentile of variance range",
       "layout": "IPY_MODEL_ddddea7af3fb44dab0cdbf39ec51a62f",
       "step": null,
       "style": "IPY_MODEL_e07ede89fe2145239617c379b5e3ccc7",
       "value": 90
      }
     },
     "d7ac4395210c4d3b8e42cd87b19fe9b3": {
      "model_module": "@jupyter-widgets/base",
      "model_module_version": "1.2.0",
      "model_name": "LayoutModel",
      "state": {}
     },
     "d84d6b32eea84aa7bcbb5d6bf0fabd9a": {
      "model_module": "@jupyter-widgets/controls",
      "model_module_version": "1.5.0",
      "model_name": "DescriptionStyleModel",
      "state": {
       "description_width": "initial"
      }
     },
     "d87d1699f9c04164b837e187bf91f11d": {
      "model_module": "@jupyter-widgets/base",
      "model_module_version": "1.2.0",
      "model_name": "LayoutModel",
      "state": {}
     },
     "d8d061892bee433a9998cdb2222247e3": {
      "model_module": "@jupyter-widgets/controls",
      "model_module_version": "1.5.0",
      "model_name": "FloatTextModel",
      "state": {
       "description": "right percentile of variance range",
       "layout": "IPY_MODEL_bcb5c7f9b6dc49d7a95d0f2fd8a6197b",
       "step": null,
       "style": "IPY_MODEL_d9422e01350e4df4a6d84abf48029958",
       "value": 99.999
      }
     },
     "d8e0dc0e755f4058af41b4ff712ee7c6": {
      "model_module": "@jupyter-widgets/controls",
      "model_module_version": "1.5.0",
      "model_name": "FloatTextModel",
      "state": {
       "description": "left percentile of variance range",
       "layout": "IPY_MODEL_87c1aebd2f834105946bb2b6f6d5f883",
       "step": null,
       "style": "IPY_MODEL_8f95c9f9a4f04ea09173e07a31b676b4",
       "value": 90
      }
     },
     "d912d59f26b74ae490fd316c08b56c3a": {
      "model_module": "@jupyter-widgets/controls",
      "model_module_version": "1.5.0",
      "model_name": "VBoxModel",
      "state": {
       "_dom_classes": [
        "widget-interact"
       ],
       "children": [
        "IPY_MODEL_31dc786c519749278f20624d67d1b7fa",
        "IPY_MODEL_a0aa198d1d12429fa83e9738f5d4e03c",
        "IPY_MODEL_292750b2431d469a9bfb3bdd990f4e5c",
        "IPY_MODEL_9c889c061c52410aa81d7284fa598bb8",
        "IPY_MODEL_1736d37815284a66b50e12a3e1fafe8b",
        "IPY_MODEL_59e0f42cddad4bff915393ae94e4b0ea",
        "IPY_MODEL_988391e8b46843bebc6dbeb5cf9e8c0d",
        "IPY_MODEL_13cdbb5e115f4b0380618ee507fab338",
        "IPY_MODEL_1886a61f924f406b8c89d56fc2dd5616",
        "IPY_MODEL_df43961a6da545268ec2229acda670e2"
       ],
       "layout": "IPY_MODEL_b6045026f40b4f50bc41a79388607729"
      }
     },
     "d93944907e334c43a7363beacdfb1981": {
      "model_module": "@jupyter-widgets/controls",
      "model_module_version": "1.5.0",
      "model_name": "FloatTextModel",
      "state": {
       "description": "epsilon: ",
       "layout": "IPY_MODEL_636c48c5a2384d81b14a8864de98aa88",
       "step": null,
       "style": "IPY_MODEL_52e199af14a645ff9f9799a65520b72f",
       "value": 1.5
      }
     },
     "d9422e01350e4df4a6d84abf48029958": {
      "model_module": "@jupyter-widgets/controls",
      "model_module_version": "1.5.0",
      "model_name": "DescriptionStyleModel",
      "state": {
       "description_width": "initial"
      }
     },
     "d969760c53ce497e8bc450f71dce5251": {
      "model_module": "@jupyter-widgets/controls",
      "model_module_version": "1.5.0",
      "model_name": "FloatTextModel",
      "state": {
       "description": "epsilon: ",
       "layout": "IPY_MODEL_461f55798ad0453bb15fdaf4a98dc08d",
       "step": null,
       "style": "IPY_MODEL_fc3a8bd428494fe086b9d4264ebf01fe",
       "value": 1.5
      }
     },
     "d97dfa97137d48d1aa2d45b981cf2acd": {
      "model_module": "@jupyter-widgets/controls",
      "model_module_version": "1.5.0",
      "model_name": "DescriptionStyleModel",
      "state": {
       "description_width": "initial"
      }
     },
     "d9e7a84acf104df7870a313079987e9f": {
      "model_module": "@jupyter-widgets/controls",
      "model_module_version": "1.5.0",
      "model_name": "DescriptionStyleModel",
      "state": {
       "description_width": "initial"
      }
     },
     "d9ee90cf3c4a4e91bbb04f8377fc9e88": {
      "model_module": "@jupyter-widgets/controls",
      "model_module_version": "1.5.0",
      "model_name": "DescriptionStyleModel",
      "state": {
       "description_width": "initial"
      }
     },
     "d9f54426e0954dd49fe72251c8366131": {
      "model_module": "@jupyter-widgets/controls",
      "model_module_version": "1.5.0",
      "model_name": "FloatTextModel",
      "state": {
       "description": "left percentile of variance range",
       "layout": "IPY_MODEL_69b5c17648544799a81a93bfe7ded429",
       "step": null,
       "style": "IPY_MODEL_4f76e0bcbe044f9b872f948c2f31fa1d",
       "value": 90
      }
     },
     "da14090c0e81433282c201406588847d": {
      "model_module": "@jupyter-widgets/base",
      "model_module_version": "1.2.0",
      "model_name": "LayoutModel",
      "state": {}
     },
     "da2870832d5e45c089c664d4c3f2b486": {
      "model_module": "@jupyter-widgets/base",
      "model_module_version": "1.2.0",
      "model_name": "LayoutModel",
      "state": {}
     },
     "da9e79cd5053436c84016f570cecd78b": {
      "model_module": "@jupyter-widgets/controls",
      "model_module_version": "1.5.0",
      "model_name": "DescriptionStyleModel",
      "state": {
       "description_width": "initial"
      }
     },
     "daa1e889ea6049a19b448ab07d160c1a": {
      "model_module": "@jupyter-widgets/controls",
      "model_module_version": "1.5.0",
      "model_name": "IntTextModel",
      "state": {
       "description": "right of k-range",
       "layout": "IPY_MODEL_4dace06787e9480183d64be77e99d7b6",
       "step": 1,
       "style": "IPY_MODEL_cc71a6f3ecb348e297dbf71e680628bb",
       "value": 28
      }
     },
     "db96d23438d34960a2db3e2c1e802870": {
      "model_module": "@jupyter-widgets/controls",
      "model_module_version": "1.5.0",
      "model_name": "CheckboxModel",
      "state": {
       "description": "save the result",
       "disabled": false,
       "layout": "IPY_MODEL_3ee1710291534f03928a03e86e4aa3fd",
       "style": "IPY_MODEL_edf93fe885264fe980d0f4b36a548bce",
       "value": false
      }
     },
     "dbe2d990c3b647a7b8fc44444d001787": {
      "model_module": "@jupyter-widgets/controls",
      "model_module_version": "1.5.0",
      "model_name": "IntTextModel",
      "state": {
       "description": "minimum # of cluster pixels",
       "layout": "IPY_MODEL_a12930ae37514a229932c36523805011",
       "step": 1,
       "style": "IPY_MODEL_5bf8d26f07d74e1eaa2714311a210c20",
       "value": 4
      }
     },
     "ddddea7af3fb44dab0cdbf39ec51a62f": {
      "model_module": "@jupyter-widgets/base",
      "model_module_version": "1.2.0",
      "model_name": "LayoutModel",
      "state": {}
     },
     "de1e51fd838d4f398ca2d828d6ac94ec": {
      "model_module": "@jupyter-widgets/base",
      "model_module_version": "1.2.0",
      "model_name": "LayoutModel",
      "state": {}
     },
     "de93a250d0d443abb1a42048aaf77fea": {
      "model_module": "@jupyter-widgets/base",
      "model_module_version": "1.2.0",
      "model_name": "LayoutModel",
      "state": {}
     },
     "df200bd2ed5044ac9cf444609748b01a": {
      "model_module": "@jupyter-widgets/controls",
      "model_module_version": "1.5.0",
      "model_name": "IntTextModel",
      "state": {
       "description": "left of k-range",
       "layout": "IPY_MODEL_e06dc12af38445eda0d62a8ea54312e8",
       "step": 1,
       "style": "IPY_MODEL_10a015e7558244c1b05a793afd4df65b",
       "value": 28
      }
     },
     "df43961a6da545268ec2229acda670e2": {
      "model_module": "@jupyter-widgets/output",
      "model_module_version": "1.0.0",
      "model_name": "OutputModel",
      "state": {
       "layout": "IPY_MODEL_bf1baac0d2104701bfff0978900b2e94",
       "outputs": [
        {
         "name": "stdout",
         "output_type": "stream",
         "text": "binning size (histogram) = 46\nleft k = 3.844086\nright k = 3.844086\n(46,)\n(47,)\n(46,)\n(46,)\n"
        },
        {
         "ename": "ValueError",
         "evalue": "x and y must have same first dimension, but have shapes (47,) and (46,)",
         "output_type": "error",
         "traceback": [
          "\u001b[1;31m---------------------------------------------------------------------------\u001b[0m",
          "\u001b[1;31mValueError\u001b[0m                                Traceback (most recent call last)",
          "\u001b[1;32m~\\Anaconda3\\envs\\necessary\\lib\\site-packages\\ipywidgets\\widgets\\interaction.py\u001b[0m in \u001b[0;36mupdate\u001b[1;34m(self, *args)\u001b[0m\n\u001b[0;32m    254\u001b[0m                     \u001b[0mvalue\u001b[0m \u001b[1;33m=\u001b[0m \u001b[0mwidget\u001b[0m\u001b[1;33m.\u001b[0m\u001b[0mget_interact_value\u001b[0m\u001b[1;33m(\u001b[0m\u001b[1;33m)\u001b[0m\u001b[1;33m\u001b[0m\u001b[1;33m\u001b[0m\u001b[0m\n\u001b[0;32m    255\u001b[0m                     \u001b[0mself\u001b[0m\u001b[1;33m.\u001b[0m\u001b[0mkwargs\u001b[0m\u001b[1;33m[\u001b[0m\u001b[0mwidget\u001b[0m\u001b[1;33m.\u001b[0m\u001b[0m_kwarg\u001b[0m\u001b[1;33m]\u001b[0m \u001b[1;33m=\u001b[0m \u001b[0mvalue\u001b[0m\u001b[1;33m\u001b[0m\u001b[1;33m\u001b[0m\u001b[0m\n\u001b[1;32m--> 256\u001b[1;33m                 \u001b[0mself\u001b[0m\u001b[1;33m.\u001b[0m\u001b[0mresult\u001b[0m \u001b[1;33m=\u001b[0m \u001b[0mself\u001b[0m\u001b[1;33m.\u001b[0m\u001b[0mf\u001b[0m\u001b[1;33m(\u001b[0m\u001b[1;33m**\u001b[0m\u001b[0mself\u001b[0m\u001b[1;33m.\u001b[0m\u001b[0mkwargs\u001b[0m\u001b[1;33m)\u001b[0m\u001b[1;33m\u001b[0m\u001b[1;33m\u001b[0m\u001b[0m\n\u001b[0m\u001b[0;32m    257\u001b[0m                 \u001b[0mshow_inline_matplotlib_plots\u001b[0m\u001b[1;33m(\u001b[0m\u001b[1;33m)\u001b[0m\u001b[1;33m\u001b[0m\u001b[1;33m\u001b[0m\u001b[0m\n\u001b[0;32m    258\u001b[0m                 \u001b[1;32mif\u001b[0m \u001b[0mself\u001b[0m\u001b[1;33m.\u001b[0m\u001b[0mauto_display\u001b[0m \u001b[1;32mand\u001b[0m \u001b[0mself\u001b[0m\u001b[1;33m.\u001b[0m\u001b[0mresult\u001b[0m \u001b[1;32mis\u001b[0m \u001b[1;32mnot\u001b[0m \u001b[1;32mNone\u001b[0m\u001b[1;33m:\u001b[0m\u001b[1;33m\u001b[0m\u001b[1;33m\u001b[0m\u001b[0m\n",
          "\u001b[1;32m<ipython-input-60-5612f07f0321>\u001b[0m in \u001b[0;36mselector\u001b[1;34m(k1, k2, p1, p2, m, e, split, n_img, save_option)\u001b[0m\n\u001b[0;32m     36\u001b[0m     \u001b[1;31m#ax_sub[0].plot(grad, \"k-\")\u001b[0m\u001b[1;33m\u001b[0m\u001b[1;33m\u001b[0m\u001b[1;33m\u001b[0m\u001b[0m\n\u001b[0;32m     37\u001b[0m     \u001b[1;31m#ax_sub[1].plot(second_order, \"k-\")\u001b[0m\u001b[1;33m\u001b[0m\u001b[1;33m\u001b[0m\u001b[1;33m\u001b[0m\u001b[0m\n\u001b[1;32m---> 38\u001b[1;33m     \u001b[0max3\u001b[0m\u001b[1;33m[\u001b[0m\u001b[1;36m1\u001b[0m\u001b[1;33m]\u001b[0m\u001b[1;33m.\u001b[0m\u001b[0mplot\u001b[0m\u001b[1;33m(\u001b[0m\u001b[0mhist_edges\u001b[0m\u001b[1;33m,\u001b[0m \u001b[0msecond_order\u001b[0m\u001b[1;33m,\u001b[0m \u001b[1;34m\"k+\"\u001b[0m\u001b[1;33m)\u001b[0m\u001b[1;33m\u001b[0m\u001b[1;33m\u001b[0m\u001b[0m\n\u001b[0m\u001b[0;32m     39\u001b[0m \u001b[1;33m\u001b[0m\u001b[0m\n\u001b[0;32m     40\u001b[0m     \u001b[0mv1\u001b[0m \u001b[1;33m=\u001b[0m \u001b[0mnp\u001b[0m\u001b[1;33m.\u001b[0m\u001b[0mpercentile\u001b[0m\u001b[1;33m(\u001b[0m\u001b[0mflat\u001b[0m\u001b[1;33m,\u001b[0m \u001b[0mp1\u001b[0m\u001b[1;33m)\u001b[0m\u001b[1;33m\u001b[0m\u001b[1;33m\u001b[0m\u001b[0m\n",
          "\u001b[1;32m~\\Anaconda3\\envs\\necessary\\lib\\site-packages\\matplotlib\\axes\\_axes.py\u001b[0m in \u001b[0;36mplot\u001b[1;34m(self, scalex, scaley, data, *args, **kwargs)\u001b[0m\n\u001b[0;32m   1741\u001b[0m         \"\"\"\n\u001b[0;32m   1742\u001b[0m         \u001b[0mkwargs\u001b[0m \u001b[1;33m=\u001b[0m \u001b[0mcbook\u001b[0m\u001b[1;33m.\u001b[0m\u001b[0mnormalize_kwargs\u001b[0m\u001b[1;33m(\u001b[0m\u001b[0mkwargs\u001b[0m\u001b[1;33m,\u001b[0m \u001b[0mmlines\u001b[0m\u001b[1;33m.\u001b[0m\u001b[0mLine2D\u001b[0m\u001b[1;33m)\u001b[0m\u001b[1;33m\u001b[0m\u001b[1;33m\u001b[0m\u001b[0m\n\u001b[1;32m-> 1743\u001b[1;33m         \u001b[0mlines\u001b[0m \u001b[1;33m=\u001b[0m \u001b[1;33m[\u001b[0m\u001b[1;33m*\u001b[0m\u001b[0mself\u001b[0m\u001b[1;33m.\u001b[0m\u001b[0m_get_lines\u001b[0m\u001b[1;33m(\u001b[0m\u001b[1;33m*\u001b[0m\u001b[0margs\u001b[0m\u001b[1;33m,\u001b[0m \u001b[0mdata\u001b[0m\u001b[1;33m=\u001b[0m\u001b[0mdata\u001b[0m\u001b[1;33m,\u001b[0m \u001b[1;33m**\u001b[0m\u001b[0mkwargs\u001b[0m\u001b[1;33m)\u001b[0m\u001b[1;33m]\u001b[0m\u001b[1;33m\u001b[0m\u001b[1;33m\u001b[0m\u001b[0m\n\u001b[0m\u001b[0;32m   1744\u001b[0m         \u001b[1;32mfor\u001b[0m \u001b[0mline\u001b[0m \u001b[1;32min\u001b[0m \u001b[0mlines\u001b[0m\u001b[1;33m:\u001b[0m\u001b[1;33m\u001b[0m\u001b[1;33m\u001b[0m\u001b[0m\n\u001b[0;32m   1745\u001b[0m             \u001b[0mself\u001b[0m\u001b[1;33m.\u001b[0m\u001b[0madd_line\u001b[0m\u001b[1;33m(\u001b[0m\u001b[0mline\u001b[0m\u001b[1;33m)\u001b[0m\u001b[1;33m\u001b[0m\u001b[1;33m\u001b[0m\u001b[0m\n",
          "\u001b[1;32m~\\Anaconda3\\envs\\necessary\\lib\\site-packages\\matplotlib\\axes\\_base.py\u001b[0m in \u001b[0;36m__call__\u001b[1;34m(self, data, *args, **kwargs)\u001b[0m\n\u001b[0;32m    271\u001b[0m                 \u001b[0mthis\u001b[0m \u001b[1;33m+=\u001b[0m \u001b[0margs\u001b[0m\u001b[1;33m[\u001b[0m\u001b[1;36m0\u001b[0m\u001b[1;33m]\u001b[0m\u001b[1;33m,\u001b[0m\u001b[1;33m\u001b[0m\u001b[1;33m\u001b[0m\u001b[0m\n\u001b[0;32m    272\u001b[0m                 \u001b[0margs\u001b[0m \u001b[1;33m=\u001b[0m \u001b[0margs\u001b[0m\u001b[1;33m[\u001b[0m\u001b[1;36m1\u001b[0m\u001b[1;33m:\u001b[0m\u001b[1;33m]\u001b[0m\u001b[1;33m\u001b[0m\u001b[1;33m\u001b[0m\u001b[0m\n\u001b[1;32m--> 273\u001b[1;33m             \u001b[1;32myield\u001b[0m \u001b[1;32mfrom\u001b[0m \u001b[0mself\u001b[0m\u001b[1;33m.\u001b[0m\u001b[0m_plot_args\u001b[0m\u001b[1;33m(\u001b[0m\u001b[0mthis\u001b[0m\u001b[1;33m,\u001b[0m \u001b[0mkwargs\u001b[0m\u001b[1;33m)\u001b[0m\u001b[1;33m\u001b[0m\u001b[1;33m\u001b[0m\u001b[0m\n\u001b[0m\u001b[0;32m    274\u001b[0m \u001b[1;33m\u001b[0m\u001b[0m\n\u001b[0;32m    275\u001b[0m     \u001b[1;32mdef\u001b[0m \u001b[0mget_next_color\u001b[0m\u001b[1;33m(\u001b[0m\u001b[0mself\u001b[0m\u001b[1;33m)\u001b[0m\u001b[1;33m:\u001b[0m\u001b[1;33m\u001b[0m\u001b[1;33m\u001b[0m\u001b[0m\n",
          "\u001b[1;32m~\\Anaconda3\\envs\\necessary\\lib\\site-packages\\matplotlib\\axes\\_base.py\u001b[0m in \u001b[0;36m_plot_args\u001b[1;34m(self, tup, kwargs)\u001b[0m\n\u001b[0;32m    397\u001b[0m \u001b[1;33m\u001b[0m\u001b[0m\n\u001b[0;32m    398\u001b[0m         \u001b[1;32mif\u001b[0m \u001b[0mx\u001b[0m\u001b[1;33m.\u001b[0m\u001b[0mshape\u001b[0m\u001b[1;33m[\u001b[0m\u001b[1;36m0\u001b[0m\u001b[1;33m]\u001b[0m \u001b[1;33m!=\u001b[0m \u001b[0my\u001b[0m\u001b[1;33m.\u001b[0m\u001b[0mshape\u001b[0m\u001b[1;33m[\u001b[0m\u001b[1;36m0\u001b[0m\u001b[1;33m]\u001b[0m\u001b[1;33m:\u001b[0m\u001b[1;33m\u001b[0m\u001b[1;33m\u001b[0m\u001b[0m\n\u001b[1;32m--> 399\u001b[1;33m             raise ValueError(f\"x and y must have same first dimension, but \"\n\u001b[0m\u001b[0;32m    400\u001b[0m                              f\"have shapes {x.shape} and {y.shape}\")\n\u001b[0;32m    401\u001b[0m         \u001b[1;32mif\u001b[0m \u001b[0mx\u001b[0m\u001b[1;33m.\u001b[0m\u001b[0mndim\u001b[0m \u001b[1;33m>\u001b[0m \u001b[1;36m2\u001b[0m \u001b[1;32mor\u001b[0m \u001b[0my\u001b[0m\u001b[1;33m.\u001b[0m\u001b[0mndim\u001b[0m \u001b[1;33m>\u001b[0m \u001b[1;36m2\u001b[0m\u001b[1;33m:\u001b[0m\u001b[1;33m\u001b[0m\u001b[1;33m\u001b[0m\u001b[0m\n",
          "\u001b[1;31mValueError\u001b[0m: x and y must have same first dimension, but have shapes (47,) and (46,)"
         ]
        }
       ]
      }
     },
     "df610280508b4e8c997df3a1caa6cc04": {
      "model_module": "@jupyter-widgets/controls",
      "model_module_version": "1.5.0",
      "model_name": "IntTextModel",
      "state": {
       "description": "left of k-range",
       "layout": "IPY_MODEL_421a70f1b9ff4e90a921c66eb1aa7924",
       "step": 1,
       "style": "IPY_MODEL_1ca15d6806044bbb8157f4c3785eca8b",
       "value": 28
      }
     },
     "dfbd32af10cd44fba56aa907a2597b23": {
      "model_module": "@jupyter-widgets/controls",
      "model_module_version": "1.5.0",
      "model_name": "VBoxModel",
      "state": {
       "_dom_classes": [
        "widget-interact"
       ],
       "children": [
        "IPY_MODEL_c3e8f711d2734797849b86a7b5e1f078",
        "IPY_MODEL_f9ad4ab79b1c4ab8b0e314435d1a704d",
        "IPY_MODEL_818058174e6a4d7e929d5a516d552528",
        "IPY_MODEL_9d82ed27cbd641ffbdd468469596ff2b",
        "IPY_MODEL_3705cd56a6ef460881d74b7681883ff5",
        "IPY_MODEL_869897fb2f4a4af684208bbd399586c3",
        "IPY_MODEL_d29cbf77b43448898eecf126e7801dad",
        "IPY_MODEL_1831df5204554065bc9b04d86b318fff",
        "IPY_MODEL_196cf505f913458fbf93064f8e26ef2c",
        "IPY_MODEL_9ad7025dc53c4a6dab1aa2f9dac4eda0"
       ],
       "layout": "IPY_MODEL_7d90e533333e45d7bdf1d25a7913af13"
      }
     },
     "dfcc68992bc844799170baef9da6c67f": {
      "model_module": "@jupyter-widgets/base",
      "model_module_version": "1.2.0",
      "model_name": "LayoutModel",
      "state": {}
     },
     "dfcf86e5d74c4ef3a2052ee3a12a6555": {
      "model_module": "@jupyter-widgets/base",
      "model_module_version": "1.2.0",
      "model_name": "LayoutModel",
      "state": {}
     },
     "e0253968cbd44a91968e71e338cbab8c": {
      "model_module": "@jupyter-widgets/base",
      "model_module_version": "1.2.0",
      "model_name": "LayoutModel",
      "state": {}
     },
     "e06dc12af38445eda0d62a8ea54312e8": {
      "model_module": "@jupyter-widgets/base",
      "model_module_version": "1.2.0",
      "model_name": "LayoutModel",
      "state": {}
     },
     "e071cf4fc96d450183c8878d82607881": {
      "model_module": "@jupyter-widgets/controls",
      "model_module_version": "1.5.0",
      "model_name": "DescriptionStyleModel",
      "state": {
       "description_width": "initial"
      }
     },
     "e07ede89fe2145239617c379b5e3ccc7": {
      "model_module": "@jupyter-widgets/controls",
      "model_module_version": "1.5.0",
      "model_name": "DescriptionStyleModel",
      "state": {
       "description_width": "initial"
      }
     },
     "e0da639e294a48c4acb49508005783d1": {
      "model_module": "@jupyter-widgets/base",
      "model_module_version": "1.2.0",
      "model_name": "LayoutModel",
      "state": {}
     },
     "e0f44cbbf09a41d68ce9843a1262305d": {
      "model_module": "@jupyter-widgets/base",
      "model_module_version": "1.2.0",
      "model_name": "LayoutModel",
      "state": {}
     },
     "e0f7d5cb5aa747ca8151ae2e4eac86a7": {
      "model_module": "@jupyter-widgets/controls",
      "model_module_version": "1.5.0",
      "model_name": "IntTextModel",
      "state": {
       "description": "left of k-range",
       "layout": "IPY_MODEL_1f871953f12f449b9a28d70a79b15faf",
       "step": 1,
       "style": "IPY_MODEL_68990d398fd048fa80431257d8c4b884",
       "value": 28
      }
     },
     "e109d5b7dcdf46fcacdad2b797276936": {
      "model_module": "@jupyter-widgets/base",
      "model_module_version": "1.2.0",
      "model_name": "LayoutModel",
      "state": {}
     },
     "e1e105ba2106434a9f0046d7e7728d88": {
      "model_module": "@jupyter-widgets/base",
      "model_module_version": "1.2.0",
      "model_name": "LayoutModel",
      "state": {}
     },
     "e21631a85e5a42b2ace10fdddacb0770": {
      "model_module": "@jupyter-widgets/controls",
      "model_module_version": "1.5.0",
      "model_name": "DescriptionStyleModel",
      "state": {
       "description_width": "initial"
      }
     },
     "e2699a0536f84773bc7505ee841d4daa": {
      "model_module": "@jupyter-widgets/base",
      "model_module_version": "1.2.0",
      "model_name": "LayoutModel",
      "state": {}
     },
     "e2b4366396ea4e65b6537b30f567575a": {
      "model_module": "@jupyter-widgets/controls",
      "model_module_version": "1.5.0",
      "model_name": "DescriptionStyleModel",
      "state": {
       "description_width": "initial"
      }
     },
     "e2ddc64787e24f1c9151add5a550299e": {
      "model_module": "@jupyter-widgets/controls",
      "model_module_version": "1.5.0",
      "model_name": "DescriptionStyleModel",
      "state": {
       "description_width": "initial"
      }
     },
     "e3c8e6c7f0a342f092b32fad1f605af6": {
      "model_module": "@jupyter-widgets/controls",
      "model_module_version": "1.5.0",
      "model_name": "DescriptionStyleModel",
      "state": {
       "description_width": "initial"
      }
     },
     "e550a7561d934343a7dfc57fb85a899a": {
      "model_module": "@jupyter-widgets/controls",
      "model_module_version": "1.5.0",
      "model_name": "IntTextModel",
      "state": {
       "description": "left of k-range",
       "layout": "IPY_MODEL_628546df96694a87b06bfd28e9d1ea16",
       "step": 1,
       "style": "IPY_MODEL_73eed25151844479b19532ec85aa2e0b",
       "value": 28
      }
     },
     "e575cd571c4e46c2893bd53f125559ca": {
      "model_module": "@jupyter-widgets/base",
      "model_module_version": "1.2.0",
      "model_name": "LayoutModel",
      "state": {}
     },
     "e5b1e4a98fc64ffcbf0b368054895441": {
      "model_module": "@jupyter-widgets/base",
      "model_module_version": "1.2.0",
      "model_name": "LayoutModel",
      "state": {}
     },
     "e6b2297bb7664b72bd5f8d75c0650dc2": {
      "model_module": "@jupyter-widgets/base",
      "model_module_version": "1.2.0",
      "model_name": "LayoutModel",
      "state": {}
     },
     "e7097f93fb5243a0ac5ce7c35221221a": {
      "model_module": "@jupyter-widgets/controls",
      "model_module_version": "1.5.0",
      "model_name": "DescriptionStyleModel",
      "state": {
       "description_width": "initial"
      }
     },
     "e71bb895314d45fc9ebf3dada4630a74": {
      "model_module": "@jupyter-widgets/base",
      "model_module_version": "1.2.0",
      "model_name": "LayoutModel",
      "state": {}
     },
     "e75aaa978e57492b9e3c27ac347c2c62": {
      "model_module": "@jupyter-widgets/controls",
      "model_module_version": "1.5.0",
      "model_name": "DescriptionStyleModel",
      "state": {
       "description_width": "initial"
      }
     },
     "e78e244f52d8493ba652d313f9f83ffa": {
      "model_module": "@jupyter-widgets/controls",
      "model_module_version": "1.5.0",
      "model_name": "DescriptionStyleModel",
      "state": {
       "description_width": "initial"
      }
     },
     "e7c35189ecb7444882db07e55218e9e9": {
      "model_module": "@jupyter-widgets/controls",
      "model_module_version": "1.5.0",
      "model_name": "FloatTextModel",
      "state": {
       "description": "right percentile of variance range",
       "layout": "IPY_MODEL_cdb4b764dde84113b9d97a99d452b154",
       "step": null,
       "style": "IPY_MODEL_adc91154dc494169b9f901ef065e7c52",
       "value": 99.999
      }
     },
     "e7d6523894524fe39a1b73a13cc50866": {
      "model_module": "@jupyter-widgets/controls",
      "model_module_version": "1.5.0",
      "model_name": "DescriptionStyleModel",
      "state": {
       "description_width": "initial"
      }
     },
     "e83b8d2be99f49e5ac7cfb3e75339047": {
      "model_module": "@jupyter-widgets/controls",
      "model_module_version": "1.5.0",
      "model_name": "FloatTextModel",
      "state": {
       "description": "epsilon: ",
       "layout": "IPY_MODEL_b58cf098568343d5ae5214c76942a91f",
       "step": null,
       "style": "IPY_MODEL_e75aaa978e57492b9e3c27ac347c2c62",
       "value": 1.5
      }
     },
     "e86c945ba5df48f0afb9cbe83ae58163": {
      "model_module": "@jupyter-widgets/controls",
      "model_module_version": "1.5.0",
      "model_name": "IntTextModel",
      "state": {
       "description": "left of k-range",
       "layout": "IPY_MODEL_462aeb31d4864234b682cae92af682fa",
       "step": 1,
       "style": "IPY_MODEL_cd6353199d3e45a5982560c1ac03511e",
       "value": 28
      }
     },
     "e8bd93f5338d4acdb162ef31355ba805": {
      "model_module": "@jupyter-widgets/controls",
      "model_module_version": "1.5.0",
      "model_name": "FloatTextModel",
      "state": {
       "description": "left percentile of variance range",
       "layout": "IPY_MODEL_3115761f8a7e4555a50512157dde926c",
       "step": null,
       "style": "IPY_MODEL_d9ee90cf3c4a4e91bbb04f8377fc9e88",
       "value": 90
      }
     },
     "e96b7ee5933a4348b276206ec0981628": {
      "model_module": "@jupyter-widgets/controls",
      "model_module_version": "1.5.0",
      "model_name": "DescriptionStyleModel",
      "state": {
       "description_width": "initial"
      }
     },
     "e9790e15f798429589d91bfeff49fe96": {
      "model_module": "@jupyter-widgets/controls",
      "model_module_version": "1.5.0",
      "model_name": "DropdownModel",
      "state": {
       "_options_labels": [
        "1",
        "2",
        "3",
        "4"
       ],
       "description": "split: ",
       "index": 0,
       "layout": "IPY_MODEL_cba7c3226f1c4396b83b7e4a676f59ed",
       "style": "IPY_MODEL_47376502f0a54178ac4e99c771771ea6"
      }
     },
     "e99fdf01eea6480f845fde5a57016c73": {
      "model_module": "@jupyter-widgets/controls",
      "model_module_version": "1.5.0",
      "model_name": "DescriptionStyleModel",
      "state": {
       "description_width": ""
      }
     },
     "e9fcf529d3214d45a839f5dc14bc5ac4": {
      "model_module": "@jupyter-widgets/base",
      "model_module_version": "1.2.0",
      "model_name": "LayoutModel",
      "state": {}
     },
     "ea6f56dfb93c4f1b82976d435f56adc3": {
      "model_module": "@jupyter-widgets/base",
      "model_module_version": "1.2.0",
      "model_name": "LayoutModel",
      "state": {}
     },
     "eb0b917be21d4c62be230ad7c6ed071b": {
      "model_module": "@jupyter-widgets/base",
      "model_module_version": "1.2.0",
      "model_name": "LayoutModel",
      "state": {}
     },
     "ebd5d752167d4972a525a5fc62ce348d": {
      "model_module": "@jupyter-widgets/controls",
      "model_module_version": "1.5.0",
      "model_name": "DescriptionStyleModel",
      "state": {
       "description_width": "initial"
      }
     },
     "ed0613d734ed47479a70fd27c58dd4bf": {
      "model_module": "@jupyter-widgets/controls",
      "model_module_version": "1.5.0",
      "model_name": "IntTextModel",
      "state": {
       "description": "right of k-range",
       "layout": "IPY_MODEL_1753fa9dd421405686008c17796f8a43",
       "step": 1,
       "style": "IPY_MODEL_a913de00e74e43c2b4a1b01d9af27609",
       "value": 28
      }
     },
     "ed1fffb34cb643abbc14c33d7c4881c4": {
      "model_module": "@jupyter-widgets/base",
      "model_module_version": "1.2.0",
      "model_name": "LayoutModel",
      "state": {}
     },
     "ed72b5c8183949c389136b7ff528e554": {
      "model_module": "@jupyter-widgets/base",
      "model_module_version": "1.2.0",
      "model_name": "LayoutModel",
      "state": {}
     },
     "ed9101da91d847e7b657aa17ab98ffcf": {
      "model_module": "@jupyter-widgets/base",
      "model_module_version": "1.2.0",
      "model_name": "LayoutModel",
      "state": {}
     },
     "ed93fbfd9f364a6390b93094b931d99c": {
      "model_module": "@jupyter-widgets/base",
      "model_module_version": "1.2.0",
      "model_name": "LayoutModel",
      "state": {}
     },
     "edbed5943325493fb6cc8fd499aba66d": {
      "model_module": "@jupyter-widgets/base",
      "model_module_version": "1.2.0",
      "model_name": "LayoutModel",
      "state": {}
     },
     "edf93fe885264fe980d0f4b36a548bce": {
      "model_module": "@jupyter-widgets/controls",
      "model_module_version": "1.5.0",
      "model_name": "DescriptionStyleModel",
      "state": {
       "description_width": ""
      }
     },
     "ee60da03600d4fcbae1f14d2bd6df31d": {
      "model_module": "@jupyter-widgets/base",
      "model_module_version": "1.2.0",
      "model_name": "LayoutModel",
      "state": {}
     },
     "eecb1654b93b4ddeb3cd4e3acab80d49": {
      "model_module": "@jupyter-widgets/controls",
      "model_module_version": "1.5.0",
      "model_name": "DescriptionStyleModel",
      "state": {
       "description_width": "initial"
      }
     },
     "ef14dee879ea450b939579d7e52d692b": {
      "model_module": "@jupyter-widgets/base",
      "model_module_version": "1.2.0",
      "model_name": "LayoutModel",
      "state": {}
     },
     "ef61be52bb344641a3df7f80c2ef5cda": {
      "model_module": "@jupyter-widgets/controls",
      "model_module_version": "1.5.0",
      "model_name": "FloatTextModel",
      "state": {
       "description": "left percentile of variance range",
       "layout": "IPY_MODEL_59ceaa6bf7ca43ab930917fbb399ac18",
       "step": null,
       "style": "IPY_MODEL_f42a82fe8f174b2c96a80c1c30994ae5",
       "value": 90
      }
     },
     "f0535da1471c4acea9d436d7400a324b": {
      "model_module": "@jupyter-widgets/base",
      "model_module_version": "1.2.0",
      "model_name": "LayoutModel",
      "state": {}
     },
     "f0705501b881440dbc30b19c4e113a08": {
      "model_module": "@jupyter-widgets/controls",
      "model_module_version": "1.5.0",
      "model_name": "DescriptionStyleModel",
      "state": {
       "description_width": "initial"
      }
     },
     "f0bd2f0d94e74e989368f7804c2604a7": {
      "model_module": "@jupyter-widgets/controls",
      "model_module_version": "1.5.0",
      "model_name": "IntTextModel",
      "state": {
       "description": "minimum # of cluster pixels",
       "layout": "IPY_MODEL_fd31bab3a35d4111b914da4b2504b7c3",
       "step": 1,
       "style": "IPY_MODEL_a83fb2e0f15044e295344b5e4e24b2dd",
       "value": 4
      }
     },
     "f0d7106fcd3f4af5ba4cee6a0b8aa74a": {
      "model_module": "@jupyter-widgets/controls",
      "model_module_version": "1.5.0",
      "model_name": "DescriptionStyleModel",
      "state": {
       "description_width": "initial"
      }
     },
     "f100afc74419413ab38d720deab3a285": {
      "model_module": "@jupyter-widgets/controls",
      "model_module_version": "1.5.0",
      "model_name": "DescriptionStyleModel",
      "state": {
       "description_width": "initial"
      }
     },
     "f1bcb0a9580b4a78bdb08bf57796071e": {
      "model_module": "@jupyter-widgets/controls",
      "model_module_version": "1.5.0",
      "model_name": "VBoxModel",
      "state": {
       "_dom_classes": [
        "widget-interact"
       ],
       "children": [
        "IPY_MODEL_b9b158860f874f1aa5ce2ae54ac52c70",
        "IPY_MODEL_ed0613d734ed47479a70fd27c58dd4bf",
        "IPY_MODEL_1063855f2f3e40f78156eefa32612a50",
        "IPY_MODEL_959b269177f840dba737b7c229eacac1",
        "IPY_MODEL_9fc8812c0fc646cda56a23361ca22eae",
        "IPY_MODEL_d93944907e334c43a7363beacdfb1981",
        "IPY_MODEL_f6b022ef2b3b4072a21ea405fe17466d",
        "IPY_MODEL_03319157e412443e947de587b7622879",
        "IPY_MODEL_359b9651b781479997a23685b87dc552",
        "IPY_MODEL_70506685f4da4dd8af6dba6e3b9627f0"
       ],
       "layout": "IPY_MODEL_4983a525356c426e864509217af83125"
      }
     },
     "f1f6495377104d178d3238a7cc90d650": {
      "model_module": "@jupyter-widgets/controls",
      "model_module_version": "1.5.0",
      "model_name": "VBoxModel",
      "state": {
       "_dom_classes": [
        "widget-interact"
       ],
       "children": [
        "IPY_MODEL_554168d75ff54c2c87844e58cbe676b9",
        "IPY_MODEL_4d0a51c970b54826a6d105c5d56c1b96",
        "IPY_MODEL_8ef7aeae99eb41c69bee436e7f3c01bf",
        "IPY_MODEL_603bd944cef14c93b6ec3300fc004f52",
        "IPY_MODEL_3470f5661df14e09a57929087cca7299",
        "IPY_MODEL_b9a8a89410524345988ebdefa1f0bad2",
        "IPY_MODEL_15568cd0e25746caa777c602f4a0c59b",
        "IPY_MODEL_7ade4a344eb24e2fa82f28195bd87f12",
        "IPY_MODEL_5b5b3ea26b13452aa1607b520907379a",
        "IPY_MODEL_4864deb308bb44439a5d17f39a1b431f"
       ],
       "layout": "IPY_MODEL_09b7d1787a334895b176f90d7457a318"
      }
     },
     "f2ba975383ea46259d10f57437efef23": {
      "model_module": "@jupyter-widgets/controls",
      "model_module_version": "1.5.0",
      "model_name": "DescriptionStyleModel",
      "state": {
       "description_width": "initial"
      }
     },
     "f3547227560c43e8b71d80cabd2d9f37": {
      "model_module": "@jupyter-widgets/controls",
      "model_module_version": "1.5.0",
      "model_name": "DropdownModel",
      "state": {
       "_options_labels": [
        "1"
       ],
       "description": "image: ",
       "index": 0,
       "layout": "IPY_MODEL_490ffb10a8c648b2bce86363c779da03",
       "style": "IPY_MODEL_d201435aeebe40abb450c4d11808539e"
      }
     },
     "f3bc99ac4fa6495b8e77cda7beb5843c": {
      "model_module": "@jupyter-widgets/controls",
      "model_module_version": "1.5.0",
      "model_name": "FloatTextModel",
      "state": {
       "description": "epsilon: ",
       "layout": "IPY_MODEL_ee60da03600d4fcbae1f14d2bd6df31d",
       "step": null,
       "style": "IPY_MODEL_4bdc9bcc42e741b9ad16086e56320ac4",
       "value": 1.5
      }
     },
     "f42a82fe8f174b2c96a80c1c30994ae5": {
      "model_module": "@jupyter-widgets/controls",
      "model_module_version": "1.5.0",
      "model_name": "DescriptionStyleModel",
      "state": {
       "description_width": "initial"
      }
     },
     "f46d432638b94cc09a6d8a66b96bb192": {
      "model_module": "@jupyter-widgets/controls",
      "model_module_version": "1.5.0",
      "model_name": "IntTextModel",
      "state": {
       "description": "right of k-range",
       "layout": "IPY_MODEL_48f7eb889031455b83c5b09835a0b9b6",
       "step": 1,
       "style": "IPY_MODEL_51bbff14ed414b3ea292c11635def0f1",
       "value": 28
      }
     },
     "f547f8d9d5d646b28d8a3d0fd8370631": {
      "model_module": "@jupyter-widgets/base",
      "model_module_version": "1.2.0",
      "model_name": "LayoutModel",
      "state": {}
     },
     "f549fe0f32bf4725a744e87a037db978": {
      "model_module": "@jupyter-widgets/controls",
      "model_module_version": "1.5.0",
      "model_name": "FloatTextModel",
      "state": {
       "description": "epsilon: ",
       "layout": "IPY_MODEL_62ab8fff6eb8434dbdd3675cfea3fa68",
       "step": null,
       "style": "IPY_MODEL_16918e701b79468f9e78ed93e1fdb8d8",
       "value": 1.5
      }
     },
     "f610db313f0a45dea553df6874489168": {
      "model_module": "@jupyter-widgets/base",
      "model_module_version": "1.2.0",
      "model_name": "LayoutModel",
      "state": {}
     },
     "f69f1bacdb29496a8503e7da8067eed9": {
      "model_module": "@jupyter-widgets/controls",
      "model_module_version": "1.5.0",
      "model_name": "FloatTextModel",
      "state": {
       "description": "epsilon: ",
       "layout": "IPY_MODEL_69f8bdb1df73477aa9cced2455fc6cc8",
       "step": null,
       "style": "IPY_MODEL_62dcc8881ff1415180e6121a4fa22571",
       "value": 1.5
      }
     },
     "f6b022ef2b3b4072a21ea405fe17466d": {
      "model_module": "@jupyter-widgets/controls",
      "model_module_version": "1.5.0",
      "model_name": "DropdownModel",
      "state": {
       "_options_labels": [
        "1",
        "2",
        "3",
        "4"
       ],
       "description": "split: ",
       "index": 0,
       "layout": "IPY_MODEL_fe0fd79dfd53472288858651f49e7a12",
       "style": "IPY_MODEL_da9e79cd5053436c84016f570cecd78b"
      }
     },
     "f83f05e0375b415f956b38086a7b34a6": {
      "model_module": "@jupyter-widgets/base",
      "model_module_version": "1.2.0",
      "model_name": "LayoutModel",
      "state": {}
     },
     "f8f86006d2cb47208ded7df693e52246": {
      "model_module": "@jupyter-widgets/controls",
      "model_module_version": "1.5.0",
      "model_name": "DescriptionStyleModel",
      "state": {
       "description_width": "initial"
      }
     },
     "f9ad4ab79b1c4ab8b0e314435d1a704d": {
      "model_module": "@jupyter-widgets/controls",
      "model_module_version": "1.5.0",
      "model_name": "IntTextModel",
      "state": {
       "description": "right of k-range",
       "layout": "IPY_MODEL_e0da639e294a48c4acb49508005783d1",
       "step": 1,
       "style": "IPY_MODEL_175a29f8e1e84f949331ecaa1f474281",
       "value": 28
      }
     },
     "fa0da1c4d0ee4ca7a36a2d9e269905ec": {
      "model_module": "@jupyter-widgets/controls",
      "model_module_version": "1.5.0",
      "model_name": "DropdownModel",
      "state": {
       "_options_labels": [
        "1",
        "2",
        "3",
        "4"
       ],
       "description": "split: ",
       "index": 0,
       "layout": "IPY_MODEL_1b8111a7810545fd89fc37b9f759544e",
       "style": "IPY_MODEL_060307315934487f862ce1ac4a897679"
      }
     },
     "fa4ce9eae282436fa8a1052ec1e92e0e": {
      "model_module": "@jupyter-widgets/controls",
      "model_module_version": "1.5.0",
      "model_name": "DescriptionStyleModel",
      "state": {
       "description_width": "initial"
      }
     },
     "fc06700e5768475f8334810453a5db9b": {
      "model_module": "@jupyter-widgets/controls",
      "model_module_version": "1.5.0",
      "model_name": "VBoxModel",
      "state": {
       "_dom_classes": [
        "widget-interact"
       ],
       "children": [
        "IPY_MODEL_a2b665b52d284460b55e7a35796dd060",
        "IPY_MODEL_c8c442b444454ad29c2392c4d19285c3",
        "IPY_MODEL_d9f54426e0954dd49fe72251c8366131",
        "IPY_MODEL_36f47b163fdf4d7fbe41a1d2a062601e",
        "IPY_MODEL_a675ad476f67449fb184bbe277b80a5f",
        "IPY_MODEL_c0ee5464f32b4a60a8d582897b2128bd",
        "IPY_MODEL_b333669efc44443ea8d9e9202947d041",
        "IPY_MODEL_1b721f76696948c69eccb0622dcae0ab",
        "IPY_MODEL_c28629030dc440c580f967f0badb3ffb",
        "IPY_MODEL_fcf0d41b4de54bdfae026068d9bbbab2"
       ],
       "layout": "IPY_MODEL_25ceeb51ce2b474cb814af1c34581655"
      }
     },
     "fc3a8bd428494fe086b9d4264ebf01fe": {
      "model_module": "@jupyter-widgets/controls",
      "model_module_version": "1.5.0",
      "model_name": "DescriptionStyleModel",
      "state": {
       "description_width": "initial"
      }
     },
     "fcec8e56579248818352b2b1e8bb55b2": {
      "model_module": "@jupyter-widgets/controls",
      "model_module_version": "1.5.0",
      "model_name": "DescriptionStyleModel",
      "state": {
       "description_width": "initial"
      }
     },
     "fcf0d41b4de54bdfae026068d9bbbab2": {
      "model_module": "@jupyter-widgets/output",
      "model_module_version": "1.0.0",
      "model_name": "OutputModel",
      "state": {
       "layout": "IPY_MODEL_7955d25074b24d969b05569f86e6bb33",
       "outputs": [
        {
         "name": "stdout",
         "output_type": "stream",
         "text": "binning size (histogram) = 930\nleft k = 3.844086\nright k = 3.844086\n"
        },
        {
         "name": "stderr",
         "output_type": "stream",
         "text": "C:\\Users\\RYUEMSL\\Anaconda3\\envs\\necessary\\lib\\site-packages\\numpy\\core\\_asarray.py:136: VisibleDeprecationWarning: Creating an ndarray from ragged nested sequences (which is a list-or-tuple of lists-or-tuples-or ndarrays with different lengths or shapes) is deprecated. If you meant to do this, you must specify 'dtype=object' when creating the ndarray\n  return array(a, dtype, copy=False, order=order, subok=True)\n"
        },
        {
         "ename": "ValueError",
         "evalue": "operands could not be broadcast together with shapes (931,) (930,) ",
         "output_type": "error",
         "traceback": [
          "\u001b[1;31m---------------------------------------------------------------------------\u001b[0m",
          "\u001b[1;31mValueError\u001b[0m                                Traceback (most recent call last)",
          "\u001b[1;32m~\\Anaconda3\\envs\\necessary\\lib\\site-packages\\ipywidgets\\widgets\\interaction.py\u001b[0m in \u001b[0;36mupdate\u001b[1;34m(self, *args)\u001b[0m\n\u001b[0;32m    254\u001b[0m                     \u001b[0mvalue\u001b[0m \u001b[1;33m=\u001b[0m \u001b[0mwidget\u001b[0m\u001b[1;33m.\u001b[0m\u001b[0mget_interact_value\u001b[0m\u001b[1;33m(\u001b[0m\u001b[1;33m)\u001b[0m\u001b[1;33m\u001b[0m\u001b[1;33m\u001b[0m\u001b[0m\n\u001b[0;32m    255\u001b[0m                     \u001b[0mself\u001b[0m\u001b[1;33m.\u001b[0m\u001b[0mkwargs\u001b[0m\u001b[1;33m[\u001b[0m\u001b[0mwidget\u001b[0m\u001b[1;33m.\u001b[0m\u001b[0m_kwarg\u001b[0m\u001b[1;33m]\u001b[0m \u001b[1;33m=\u001b[0m \u001b[0mvalue\u001b[0m\u001b[1;33m\u001b[0m\u001b[1;33m\u001b[0m\u001b[0m\n\u001b[1;32m--> 256\u001b[1;33m                 \u001b[0mself\u001b[0m\u001b[1;33m.\u001b[0m\u001b[0mresult\u001b[0m \u001b[1;33m=\u001b[0m \u001b[0mself\u001b[0m\u001b[1;33m.\u001b[0m\u001b[0mf\u001b[0m\u001b[1;33m(\u001b[0m\u001b[1;33m**\u001b[0m\u001b[0mself\u001b[0m\u001b[1;33m.\u001b[0m\u001b[0mkwargs\u001b[0m\u001b[1;33m)\u001b[0m\u001b[1;33m\u001b[0m\u001b[1;33m\u001b[0m\u001b[0m\n\u001b[0m\u001b[0;32m    257\u001b[0m                 \u001b[0mshow_inline_matplotlib_plots\u001b[0m\u001b[1;33m(\u001b[0m\u001b[1;33m)\u001b[0m\u001b[1;33m\u001b[0m\u001b[1;33m\u001b[0m\u001b[0m\n\u001b[0;32m    258\u001b[0m                 \u001b[1;32mif\u001b[0m \u001b[0mself\u001b[0m\u001b[1;33m.\u001b[0m\u001b[0mauto_display\u001b[0m \u001b[1;32mand\u001b[0m \u001b[0mself\u001b[0m\u001b[1;33m.\u001b[0m\u001b[0mresult\u001b[0m \u001b[1;32mis\u001b[0m \u001b[1;32mnot\u001b[0m \u001b[1;32mNone\u001b[0m\u001b[1;33m:\u001b[0m\u001b[1;33m\u001b[0m\u001b[1;33m\u001b[0m\u001b[0m\n",
          "\u001b[1;32m<ipython-input-48-a3fd5811d124>\u001b[0m in \u001b[0;36mselector\u001b[1;34m(k1, k2, p1, p2, m, e, split, n_img, save_option)\u001b[0m\n\u001b[0;32m     27\u001b[0m \u001b[1;33m\u001b[0m\u001b[0m\n\u001b[0;32m     28\u001b[0m     \u001b[0mhisto\u001b[0m \u001b[1;33m=\u001b[0m \u001b[0mnp\u001b[0m\u001b[1;33m.\u001b[0m\u001b[0mhistogram\u001b[0m\u001b[1;33m(\u001b[0m\u001b[0mflat\u001b[0m\u001b[1;33m,\u001b[0m \u001b[0mbins\u001b[0m\u001b[1;33m=\u001b[0m\u001b[0mbinsize\u001b[0m\u001b[1;33m,\u001b[0m \u001b[0mdensity\u001b[0m\u001b[1;33m=\u001b[0m\u001b[1;32mTrue\u001b[0m\u001b[1;33m)\u001b[0m\u001b[1;33m\u001b[0m\u001b[1;33m\u001b[0m\u001b[0m\n\u001b[1;32m---> 29\u001b[1;33m     \u001b[0mgrad\u001b[0m \u001b[1;33m=\u001b[0m \u001b[0mnp\u001b[0m\u001b[1;33m.\u001b[0m\u001b[0mgradient\u001b[0m\u001b[1;33m(\u001b[0m\u001b[0mhisto\u001b[0m\u001b[1;33m)\u001b[0m\u001b[1;33m\u001b[0m\u001b[1;33m\u001b[0m\u001b[0m\n\u001b[0m\u001b[0;32m     30\u001b[0m     \u001b[0mfig_sub\u001b[0m\u001b[1;33m,\u001b[0m \u001b[0max_sub\u001b[0m \u001b[1;33m=\u001b[0m \u001b[0mplt\u001b[0m\u001b[1;33m.\u001b[0m\u001b[0msubplots\u001b[0m\u001b[1;33m(\u001b[0m\u001b[1;36m1\u001b[0m\u001b[1;33m,\u001b[0m \u001b[1;36m1\u001b[0m\u001b[1;33m)\u001b[0m\u001b[1;33m\u001b[0m\u001b[1;33m\u001b[0m\u001b[0m\n\u001b[0;32m     31\u001b[0m     \u001b[0max_sub\u001b[0m\u001b[1;33m.\u001b[0m\u001b[0mplot\u001b[0m\u001b[1;33m(\u001b[0m\u001b[0mgrad\u001b[0m\u001b[1;33m,\u001b[0m \u001b[1;34m\"k+\"\u001b[0m\u001b[1;33m)\u001b[0m\u001b[1;33m\u001b[0m\u001b[1;33m\u001b[0m\u001b[0m\n",
          "\u001b[1;32m<__array_function__ internals>\u001b[0m in \u001b[0;36mgradient\u001b[1;34m(*args, **kwargs)\u001b[0m\n",
          "\u001b[1;32m~\\Anaconda3\\envs\\necessary\\lib\\site-packages\\numpy\\lib\\function_base.py\u001b[0m in \u001b[0;36mgradient\u001b[1;34m(f, axis, edge_order, *varargs)\u001b[0m\n\u001b[0;32m   1087\u001b[0m             \u001b[0mdx_0\u001b[0m \u001b[1;33m=\u001b[0m \u001b[0max_dx\u001b[0m \u001b[1;32mif\u001b[0m \u001b[0muniform_spacing\u001b[0m \u001b[1;32melse\u001b[0m \u001b[0max_dx\u001b[0m\u001b[1;33m[\u001b[0m\u001b[1;36m0\u001b[0m\u001b[1;33m]\u001b[0m\u001b[1;33m\u001b[0m\u001b[1;33m\u001b[0m\u001b[0m\n\u001b[0;32m   1088\u001b[0m             \u001b[1;31m# 1D equivalent -- out[0] = (f[1] - f[0]) / (x[1] - x[0])\u001b[0m\u001b[1;33m\u001b[0m\u001b[1;33m\u001b[0m\u001b[1;33m\u001b[0m\u001b[0m\n\u001b[1;32m-> 1089\u001b[1;33m             \u001b[0mout\u001b[0m\u001b[1;33m[\u001b[0m\u001b[0mtuple\u001b[0m\u001b[1;33m(\u001b[0m\u001b[0mslice1\u001b[0m\u001b[1;33m)\u001b[0m\u001b[1;33m]\u001b[0m \u001b[1;33m=\u001b[0m \u001b[1;33m(\u001b[0m\u001b[0mf\u001b[0m\u001b[1;33m[\u001b[0m\u001b[0mtuple\u001b[0m\u001b[1;33m(\u001b[0m\u001b[0mslice2\u001b[0m\u001b[1;33m)\u001b[0m\u001b[1;33m]\u001b[0m \u001b[1;33m-\u001b[0m \u001b[0mf\u001b[0m\u001b[1;33m[\u001b[0m\u001b[0mtuple\u001b[0m\u001b[1;33m(\u001b[0m\u001b[0mslice3\u001b[0m\u001b[1;33m)\u001b[0m\u001b[1;33m]\u001b[0m\u001b[1;33m)\u001b[0m \u001b[1;33m/\u001b[0m \u001b[0mdx_0\u001b[0m\u001b[1;33m\u001b[0m\u001b[1;33m\u001b[0m\u001b[0m\n\u001b[0m\u001b[0;32m   1090\u001b[0m \u001b[1;33m\u001b[0m\u001b[0m\n\u001b[0;32m   1091\u001b[0m             \u001b[0mslice1\u001b[0m\u001b[1;33m[\u001b[0m\u001b[0maxis\u001b[0m\u001b[1;33m]\u001b[0m \u001b[1;33m=\u001b[0m \u001b[1;33m-\u001b[0m\u001b[1;36m1\u001b[0m\u001b[1;33m\u001b[0m\u001b[1;33m\u001b[0m\u001b[0m\n",
          "\u001b[1;31mValueError\u001b[0m: operands could not be broadcast together with shapes (931,) (930,) "
         ]
        }
       ]
      }
     },
     "fd31bab3a35d4111b914da4b2504b7c3": {
      "model_module": "@jupyter-widgets/base",
      "model_module_version": "1.2.0",
      "model_name": "LayoutModel",
      "state": {}
     },
     "fd724fa7b6774098b6dd0fe1c1417509": {
      "model_module": "@jupyter-widgets/controls",
      "model_module_version": "1.5.0",
      "model_name": "DescriptionStyleModel",
      "state": {
       "description_width": "initial"
      }
     },
     "fdba5521d6bd4c95a7d03f36be1c9b53": {
      "model_module": "@jupyter-widgets/controls",
      "model_module_version": "1.5.0",
      "model_name": "DescriptionStyleModel",
      "state": {
       "description_width": "initial"
      }
     },
     "fde922a5c3c145ac8fc00c3b62d7550e": {
      "model_module": "@jupyter-widgets/base",
      "model_module_version": "1.2.0",
      "model_name": "LayoutModel",
      "state": {}
     },
     "fe02bf18c0b14c46bf270ee93e02a371": {
      "model_module": "@jupyter-widgets/base",
      "model_module_version": "1.2.0",
      "model_name": "LayoutModel",
      "state": {}
     },
     "fe0fd79dfd53472288858651f49e7a12": {
      "model_module": "@jupyter-widgets/base",
      "model_module_version": "1.2.0",
      "model_name": "LayoutModel",
      "state": {}
     },
     "fe6fc9892100469aa3f5bfdc92e4be15": {
      "model_module": "@jupyter-widgets/controls",
      "model_module_version": "1.5.0",
      "model_name": "DescriptionStyleModel",
      "state": {
       "description_width": "initial"
      }
     },
     "fee9654296cb474e94000db66df84def": {
      "model_module": "@jupyter-widgets/controls",
      "model_module_version": "1.5.0",
      "model_name": "CheckboxModel",
      "state": {
       "description": "save the result",
       "disabled": false,
       "layout": "IPY_MODEL_1ea4f43d92aa41f9a26128fe8cb325c9",
       "style": "IPY_MODEL_391fc6ef99294e3c9b5a61e2d36c8e50",
       "value": false
      }
     },
     "ff107d55c626406b977cf098613cbee5": {
      "model_module": "@jupyter-widgets/controls",
      "model_module_version": "1.5.0",
      "model_name": "DescriptionStyleModel",
      "state": {
       "description_width": "initial"
      }
     },
     "ff1317fe2da949beb9013fe6710ae2e8": {
      "model_module": "@jupyter-widgets/controls",
      "model_module_version": "1.5.0",
      "model_name": "DescriptionStyleModel",
      "state": {
       "description_width": "initial"
      }
     },
     "ff19c8db8ae64e7c9d219a72ce6b9e69": {
      "model_module": "@jupyter-widgets/controls",
      "model_module_version": "1.5.0",
      "model_name": "DescriptionStyleModel",
      "state": {
       "description_width": "initial"
      }
     },
     "ff3c456c56f944efa56968b0981450b4": {
      "model_module": "@jupyter-widgets/base",
      "model_module_version": "1.2.0",
      "model_name": "LayoutModel",
      "state": {}
     },
     "ffc16cd50d8548ea9a71d846abd534c0": {
      "model_module": "@jupyter-widgets/controls",
      "model_module_version": "1.5.0",
      "model_name": "FloatTextModel",
      "state": {
       "description": "right percentile of variance range",
       "layout": "IPY_MODEL_44893dec90aa453fa7dc265241cfb7c0",
       "step": null,
       "style": "IPY_MODEL_496c9cab14d5474d96c7086e53a165a1",
       "value": 99.999
      }
     }
    },
    "version_major": 2,
    "version_minor": 0
   }
  }
 },
 "nbformat": 4,
 "nbformat_minor": 4
}
