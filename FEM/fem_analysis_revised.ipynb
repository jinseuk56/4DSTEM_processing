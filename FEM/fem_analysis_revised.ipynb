{
 "cells": [
  {
   "cell_type": "code",
   "execution_count": null,
   "id": "1c64b730-98d1-455a-9c7d-3b3b73955606",
   "metadata": {},
   "outputs": [],
   "source": [
    "# Jinseok Ryu, PhD\n",
    "# jinseuk56@gmail.com\n",
    "\n",
    "import numpy as np\n",
    "import matplotlib.pyplot as plt\n",
    "import tkinter.filedialog as tkf\n",
    "import time\n",
    "import tifffile\n",
    "import sys\n",
    "sys.path.append(\"\")\n",
    "from FDSTEM_process import *\n",
    "plt.rcParams['font.family'] = 'Cambria'"
   ]
  },
  {
   "cell_type": "markdown",
   "id": "be4afb6e-149d-4458-a9f6-bc1101eab3e2",
   "metadata": {},
   "source": [
    "# load data"
   ]
  },
  {
   "cell_type": "code",
   "execution_count": null,
   "id": "1739e84f-0c5d-459e-be68-3739d25d6142",
   "metadata": {},
   "outputs": [],
   "source": [
    "raw_adr = tkf.askopenfilename()\n",
    "print(raw_adr)"
   ]
  },
  {
   "cell_type": "code",
   "execution_count": null,
   "id": "1555e876-b1b4-4a6c-98f4-19eebcd1c507",
   "metadata": {},
   "outputs": [],
   "source": [
    "fd = FourDSTEM_process(raw_adr)"
   ]
  },
  {
   "cell_type": "code",
   "execution_count": null,
   "id": "5393e621",
   "metadata": {},
   "outputs": [],
   "source": [
    "fd.spike_remove(percent_thresh=0.01, mode=\"lower\", apply_remove=True)"
   ]
  },
  {
   "cell_type": "code",
   "execution_count": null,
   "id": "0cbaa12d",
   "metadata": {},
   "outputs": [],
   "source": [
    "%matplotlib widget\n",
    "fd.show_4d_viewer(fd.original_stack)"
   ]
  },
  {
   "cell_type": "code",
   "execution_count": null,
   "id": "ea32eb9f",
   "metadata": {},
   "outputs": [],
   "source": [
    "%matplotlib inline"
   ]
  },
  {
   "cell_type": "code",
   "execution_count": null,
   "id": "69a4f1d0",
   "metadata": {},
   "outputs": [],
   "source": [
    "c_pos = fd.find_center(cbox_edge=15)\n",
    "print(c_pos)\n",
    "mean_dp = fd.original_mean_dp"
   ]
  },
  {
   "cell_type": "code",
   "execution_count": null,
   "id": "da881d09-f4e7-4faf-b79c-9aa4993c19c4",
   "metadata": {},
   "outputs": [],
   "source": [
    "mean_dp_radial_avg, _ = radial_stats(mean_dp, center=c_pos, var=False)\n",
    "\n",
    "# obtain variance map dpending on k-vector\n",
    "square_avg = np.mean(np.square(fd.original_stack), axis=(0,1))\n",
    "avg_square = np.square(np.mean(fd.original_stack, axis=(0,1)))\n",
    "mask = avg_square.copy()\n",
    "mask[np.where(avg_square == 0)] = 1.0\n",
    "var_map = (square_avg - avg_square) / mask\n",
    "\n",
    "_, mean_dp_radial_var = radial_stats(var_map, center=c_pos, var=True)\n",
    "\n",
    "fig, ax = plt.subplots(1, 4, figsize=(12, 3))\n",
    "ax[0].imshow(np.log(mean_dp), cmap=\"gray\")\n",
    "ax[0].axis(\"off\")\n",
    "ax[1].plot(mean_dp_radial_avg, \"k-\")\n",
    "ax[1].grid()\n",
    "ax[2].imshow(var_map, cmap=\"inferno\")\n",
    "ax[2].axis(\"off\")\n",
    "ax[3].plot(mean_dp_radial_var, \"k-\")\n",
    "ax[3].grid()\n",
    "fig.tight_layout()\n",
    "plt.show()"
   ]
  },
  {
   "cell_type": "markdown",
   "id": "da4a58fb-bdb1-4745-ae51-759a9208c7b7",
   "metadata": {},
   "source": [
    "# rotational average & variance profile"
   ]
  },
  {
   "cell_type": "code",
   "execution_count": null,
   "id": "8af801de-796d-42c7-bfa8-8f8b544bf537",
   "metadata": {},
   "outputs": [],
   "source": [
    "fd.rotational_average(rot_variance=True)"
   ]
  },
  {
   "cell_type": "code",
   "execution_count": null,
   "id": "fe8d4b0e-70f5-4af3-8404-a717b7e060f0",
   "metadata": {},
   "outputs": [],
   "source": [
    "fig, ax = plt.subplots(2, 1, figsize=(10, 10))\n",
    "ax[0].plot(np.sum(fd.radial_avg_stack, axis=(0, 1)), \"k-\")\n",
    "ax[1].plot(np.sum(fd.radial_var_stack, axis=(0, 1)), \"k-\")\n",
    "fig.tight_layout()\n",
    "plt.show()"
   ]
  },
  {
   "cell_type": "code",
   "execution_count": null,
   "id": "c05e0885",
   "metadata": {},
   "outputs": [],
   "source": [
    "%matplotlib widget\n",
    "fd.show_3d_viewer(fd.radial_avg_stack)"
   ]
  },
  {
   "cell_type": "code",
   "execution_count": null,
   "id": "53737ac4-9e90-4fa7-970f-867e965cace7",
   "metadata": {},
   "outputs": [],
   "source": [
    "# save (radial average, 3D)\n",
    "tifffile.imsave(raw_adr[:-4]+\"_radial_avg.tif\", fd.radial_avg_stack)"
   ]
  },
  {
   "cell_type": "code",
   "execution_count": null,
   "id": "6b15eb59-1748-4dad-9137-ce2b2529b597",
   "metadata": {},
   "outputs": [],
   "source": [
    "# save (radial variance, 3D)\n",
    "tifffile.imsave(raw_adr[:-4]+\"_radial_var.tif\", fd.radial_var_stack)"
   ]
  },
  {
   "cell_type": "markdown",
   "id": "2da02900-71cc-4fad-b8e7-b7e12fe02e97",
   "metadata": {},
   "source": [
    "# local similarity"
   ]
  },
  {
   "cell_type": "code",
   "execution_count": null,
   "id": "0b348ea7-0881-44fa-990d-c022df26eb2d",
   "metadata": {},
   "outputs": [],
   "source": [
    "%matplotlib inline"
   ]
  },
  {
   "cell_type": "code",
   "execution_count": null,
   "id": "a2a26a1e-f90d-42c8-a422-294fab169a07",
   "metadata": {},
   "outputs": [],
   "source": [
    "%matplotlib widget"
   ]
  },
  {
   "cell_type": "code",
   "execution_count": null,
   "id": "1b0e6859-7d9f-42d1-8fa5-3f0e7ea22259",
   "metadata": {},
   "outputs": [],
   "source": [
    "radial_var = fd.radial_var_stack.copy()\n",
    "radial_var_spectrum = np.sum(fd.radial_var_stack, axis=(0, 1))"
   ]
  },
  {
   "cell_type": "code",
   "execution_count": null,
   "id": "2079f8a8-f471-4adf-9f3c-ac9fd61dc094",
   "metadata": {},
   "outputs": [],
   "source": [
    "tmp_radius = [21, 22, 23]\n",
    "\n",
    "fig, ax = plt.subplots(1, 1, figsize=(5, 5))\n",
    "ax.imshow(np.log(stack_4d[10, 10]))\n",
    "ax.axis(\"off\")\n",
    "for r in tmp_radius:\n",
    "    tmp = radial_indices(f_shape[2:], [r], center=c_pos)\n",
    "    ax.imshow(tmp, alpha=0.1, cmap=\"gray\")\n",
    "fig.tight_layout()\n",
    "plt.show()"
   ]
  },
  {
   "cell_type": "code",
   "execution_count": null,
   "id": "b20025a6-342b-4f51-bed8-80f615b65b32",
   "metadata": {},
   "outputs": [],
   "source": [
    "plt.close('all')"
   ]
  },
  {
   "cell_type": "code",
   "execution_count": null,
   "id": "1d863074-fecd-47a5-a527-56c7c6a2eec9",
   "metadata": {},
   "outputs": [],
   "source": [
    "win_size = 3\n",
    "stride = 1\n",
    "k_selected = 22"
   ]
  },
  {
   "cell_type": "code",
   "execution_count": null,
   "id": "1f76c466-5f03-44a4-acfb-f8748086b463",
   "metadata": {},
   "outputs": [],
   "source": [
    "k_var_map = radial_var[:, :, k_selected].copy()\n",
    "#k_var_map = k_var_map.clip(max=np.percentile(k_var_map, 99))\n",
    "\n",
    "local_avg, local_std, local_dif, bin_shape = local_var_similarity(k_var_map, win_size, stride)\n",
    "print(local_avg.shape)\n",
    "print(local_std.shape)\n",
    "print(local_dif.shape)\n",
    "\n",
    "mask = np.zeros(k_var_map.shape)\n",
    "mask[int((win_size-1)/2):-int(win_size/2), int((win_size-1)/2):-int(win_size/2)] = 1\n",
    "\n",
    "print(mask[int((win_size-1)/2):-int(win_size/2), int((win_size-1)/2):-int(win_size/2)].shape)\n",
    "print(bin_shape)"
   ]
  },
  {
   "cell_type": "code",
   "execution_count": null,
   "id": "d6fab6f2-8034-445c-b693-9a1e74b971d6",
   "metadata": {},
   "outputs": [],
   "source": [
    "fig, ax = plt.subplots(4, 1, figsize=(5, 8))\n",
    "ax[0].imshow(k_var_map[int((win_size-1)/2):-int(win_size/2), int((win_size-1)/2):-int(win_size/2)], cmap=\"afmhot\")\n",
    "#ax[0].imshow(mask, cmap=\"gray\", alpha=0.5)\n",
    "ax[0].axis(\"off\")\n",
    "ax[1].imshow(local_avg, cmap=\"viridis\")\n",
    "ax[1].axis(\"off\")\n",
    "ax[2].imshow(-local_dif, cmap=\"viridis\")\n",
    "ax[2].axis(\"off\")\n",
    "ax[3].imshow(-local_std, cmap=\"viridis\")\n",
    "ax[3].axis(\"off\")\n",
    "fig.tight_layout()\n",
    "plt.show()"
   ]
  },
  {
   "cell_type": "code",
   "execution_count": null,
   "id": "a00aa98b-d231-4c3c-a6ac-c599f76df7b7",
   "metadata": {},
   "outputs": [],
   "source": [
    "k_ind, a_ind = indices_at_r(f_shape[2:], k_selected, c_pos)\n",
    "\n",
    "f_flat = stack_4d[:, :, k_ind[0], k_ind[1]]\n",
    "print(f_flat.shape)\n",
    "\n",
    "dp_mse, dp_ssim, bin_shape = local_DP_similarity(f_flat, win_size, stride)\n",
    "print(dp_mse.shape)\n",
    "print(dp_ssim.shape)\n",
    "\n",
    "mask = np.zeros(f_flat.shape[:2])\n",
    "mask[int((win_size-1)/2):-int(win_size/2), int((win_size-1)/2):-int(win_size/2)] = 1"
   ]
  },
  {
   "cell_type": "code",
   "execution_count": null,
   "id": "777612c7-4d24-4d0a-a7a0-51bda2db9fab",
   "metadata": {},
   "outputs": [],
   "source": [
    "fig, ax = plt.subplots(2, 1, figsize=(5, 4))\n",
    "ax[0].imshow(-dp_mse, cmap=\"viridis\")\n",
    "ax[0].axis(\"off\")\n",
    "ax[1].imshow(dp_ssim, cmap=\"viridis\")\n",
    "ax[1].axis(\"off\")\n",
    "fig.tight_layout()\n",
    "plt.show()"
   ]
  },
  {
   "cell_type": "code",
   "execution_count": null,
   "id": "b17a0824-fd9a-4498-9d99-9da463c45d75",
   "metadata": {},
   "outputs": [],
   "source": [
    "th_sigma = [0.6, 0.6, 0.6, 0.6, 0.6]\n",
    "high_var = k_var_map.clip(min=(np.mean(k_var_map)+th_sigma[0]*np.std(k_var_map)))[int((win_size-1)/2):-int(win_size/2), int((win_size-1)/2):-int(win_size/2)]\n",
    "print(high_var.shape)\n",
    "low_dif = local_dif.clip(max=(np.mean(local_dif)-th_sigma[1]*np.std(local_dif)))\n",
    "print(low_dif.shape)\n",
    "low_std = local_std.clip(max=(np.mean(local_std)-th_sigma[2]*np.std(local_std)))\n",
    "print(low_std.shape)\n",
    "high_ssim = dp_ssim.clip(min=(np.mean(dp_ssim)+th_sigma[3]*np.std(dp_ssim)))\n",
    "print(high_ssim.shape)\n",
    "low_mse = dp_mse.clip(max=(np.mean(dp_mse)-th_sigma[4]*np.std(dp_mse)))\n",
    "print(low_mse.shape)\n",
    "\n",
    "fig, ax = plt.subplots(5, 1, figsize=(5, 10))\n",
    "ax[0].imshow(high_var, cmap=\"viridis\")\n",
    "ax[0].axis(\"off\")\n",
    "ax[1].imshow(-low_dif, cmap=\"viridis\")\n",
    "ax[1].axis(\"off\")\n",
    "ax[2].imshow(-low_std, cmap=\"viridis\")\n",
    "ax[2].axis(\"off\")\n",
    "ax[3].imshow(high_ssim, cmap=\"viridis\")\n",
    "ax[3].axis(\"off\")\n",
    "ax[4].imshow(-low_mse, cmap=\"viridis\")\n",
    "ax[4].axis(\"off\")\n",
    "fig.tight_layout()\n",
    "plt.show()"
   ]
  },
  {
   "cell_type": "code",
   "execution_count": null,
   "id": "509cdd94-627f-40f2-96d9-29bc8162628f",
   "metadata": {},
   "outputs": [],
   "source": [
    "plt.close(\"all\")"
   ]
  },
  {
   "cell_type": "code",
   "execution_count": null,
   "id": "66965193-7bf0-4321-9f80-e80b555cea30",
   "metadata": {},
   "outputs": [],
   "source": [
    "k_selected = 22\n",
    "k_var_map = radial_var[:, :, k_selected].copy()\n",
    "k_ind, a_ind = indices_at_r(f_shape[2:], k_selected, c_pos)\n",
    "f_flat = stack_4d[:, :, k_ind[0], k_ind[1]]\n",
    "\n",
    "win_sizes = np.array([3, 5, 7, 9, 11])\n",
    "stride = 1\n",
    "rows = range(0, f_shape[0]-np.max(win_sizes)+1, stride)\n",
    "cols = range(0, f_shape[1]-np.max(win_sizes)+1, stride)"
   ]
  },
  {
   "cell_type": "code",
   "execution_count": null,
   "id": "7693848e-07ca-4efc-98ad-1c52b3c1448f",
   "metadata": {},
   "outputs": [],
   "source": [
    "var_dif_stack = []\n",
    "var_std_stack = []\n",
    "dp_ssim_stack = []\n",
    "dp_mse_stack = []\n",
    "for i in range(len(win_sizes)):\n",
    "    local_avg, local_std, local_dif, dp_mse, dp_ssim, bin_shape = local_similarity(k_var_map, f_flat, win_sizes[i], rows, cols)\n",
    "    \n",
    "    var_dif_stack.append(-local_dif)\n",
    "    var_std_stack.append(-local_std)\n",
    "    dp_ssim_stack.append(dp_ssim)\n",
    "    dp_mse_stack.append(-dp_mse)\n",
    "    \n",
    "var_dif_stack = np.asarray(var_dif_stack)\n",
    "print(var_dif_stack.shape)\n",
    "var_std_stack = np.asarray(var_std_stack)\n",
    "print(var_std_stack.shape)\n",
    "dp_ssim_stack = np.asarray(dp_ssim_stack)\n",
    "print(dp_ssim_stack.shape)\n",
    "dp_mse_stack = np.asarray(dp_mse_stack)\n",
    "print(dp_mse_stack.shape)"
   ]
  },
  {
   "cell_type": "code",
   "execution_count": null,
   "id": "cb798eb9-332d-4acc-98d0-7cd0f6fba39f",
   "metadata": {},
   "outputs": [],
   "source": [
    "var_dif_stack = np.rollaxis(np.rollaxis(var_dif_stack, 2, 0), 2, 0)\n",
    "print(var_dif_stack.shape)\n",
    "var_std_stack = np.rollaxis(np.rollaxis(var_std_stack, 2, 0), 2, 0)\n",
    "print(var_std_stack.shape)\n",
    "dp_ssim_stack = np.rollaxis(np.rollaxis(dp_ssim_stack, 2, 0), 2, 0)\n",
    "print(dp_ssim_stack.shape)\n",
    "dp_mse_stack = np.rollaxis(np.rollaxis(dp_mse_stack, 2, 0), 2, 0)\n",
    "print(dp_mse_stack.shape)"
   ]
  },
  {
   "cell_type": "code",
   "execution_count": null,
   "id": "48be414a-156b-4bbd-8413-12b709a851a9",
   "metadata": {},
   "outputs": [],
   "source": [
    "fig, ax = plt.subplots(4, 1, figsize=(5, 8))\n",
    "ax[0].plot(win_sizes, np.mean(var_dif_stack, axis=(0, 1)))\n",
    "ax[0].grid()\n",
    "ax[1].plot(win_sizes, np.mean(var_std_stack, axis=(0, 1)))\n",
    "ax[1].grid()\n",
    "ax[2].plot(win_sizes, np.mean(dp_ssim_stack, axis=(0, 1)))\n",
    "ax[2].grid()\n",
    "ax[3].plot(win_sizes, np.mean(dp_mse_stack, axis=(0, 1)))\n",
    "ax[3].grid()\n",
    "fig.tight_layout()\n",
    "plt.show()"
   ]
  },
  {
   "cell_type": "code",
   "execution_count": null,
   "id": "a2c8d5ce-ccde-4c52-b1b7-aed5d1bca376",
   "metadata": {},
   "outputs": [],
   "source": [
    "local_size = win_size\n",
    "row_, col_ = 5-int(local_size/2), 5-int(local_size/2)\n",
    "\n",
    "selected_region = f_flat[row_:row_+local_size, col_:col_+local_size]\n",
    "print(selected_region.shape)\n",
    "selected_region = selected_region.reshape(local_size**2, -1)\n",
    "\n",
    "fig, ax = plt.subplots(local_size, local_size, figsize=(20, 20))\n",
    "for i, axs in enumerate(ax.flat):\n",
    "    axs.plot(selected_region[i])\n",
    "    axs.grid()\n",
    "    \n",
    "plt.show()"
   ]
  },
  {
   "cell_type": "code",
   "execution_count": null,
   "id": "e1a9a958-77c8-4a69-b75d-a30bda2236dd",
   "metadata": {},
   "outputs": [],
   "source": [
    "th_sigma = 1.35\n",
    "high_ssim = dp_ssim.clip(min=(np.mean(dp_ssim)+th_sigma*np.std(dp_ssim)))\n",
    "high_ind = np.where(high_ssim > (np.mean(dp_ssim)+th_sigma*np.std(dp_ssim)))\n",
    "\n",
    "print(len(high_ind[0]))"
   ]
  },
  {
   "cell_type": "code",
   "execution_count": null,
   "id": "34195ba1-9f1e-4f30-bbab-f1782cf0a42c",
   "metadata": {},
   "outputs": [],
   "source": [
    "for i in range(len(high_ind[0])):\n",
    "    y_pos, x_pos = high_ind[0][i], high_ind[1][i]\n",
    "    print(y_pos, x_pos)\n",
    "\n",
    "    ref_dp = f_flat[y_pos, x_pos]\n",
    "    ssim_result = []\n",
    "    mse_result = []\n",
    "\n",
    "    for i in range(f_shape[0]):\n",
    "        for j in range(f_shape[1]):\n",
    "            tmp_dp = f_flat[i, j]\n",
    "            mse_result.append(mean_squared_error(ref_dp/np.max(ref_dp), tmp_dp/np.max(tmp_dp)))\n",
    "            ssim_result.append(ssim(ref_dp/np.max(ref_dp), tmp_dp/np.max(tmp_dp)))\n",
    "\n",
    "    ssim_result = np.asarray(ssim_result).reshape(f_shape[:2])\n",
    "    ssim_result = ssim_result / np.max(ssim_result)\n",
    "    mse_result = np.asarray(mse_result).reshape(f_shape[:2])\n",
    "    mse_result = mse_result / np.max(mse_result)\n",
    "\n",
    "    ssim_result[y_pos, x_pos] = 0.0\n",
    "    mse_result[y_pos, x_pos] = 1.0\n",
    "\n",
    "    fig, ax = plt.subplots(1, 2, figsize=(10, 5))\n",
    "    ax[0].imshow(-mse_result, cmap=\"viridis\")\n",
    "    ax[0].scatter(x_pos, y_pos, c=\"red\")\n",
    "    ax[0].axis(\"off\")\n",
    "    ax[1].imshow(ssim_result, cmap=\"viridis\")\n",
    "    ax[1].scatter(x_pos, y_pos, c=\"red\")\n",
    "    ax[1].axis(\"off\")\n",
    "    fig.tight_layout()\n",
    "    plt.show()"
   ]
  },
  {
   "cell_type": "code",
   "execution_count": null,
   "id": "2c1ba0ba-8196-48a2-b5d5-9524335c7766",
   "metadata": {},
   "outputs": [],
   "source": [
    "k_range = np.arange(19, 24, 1)\n",
    "start_time = time.process_time()\n",
    "ac_spectra = []\n",
    "ac_fft_stack = []\n",
    "angle_sampling = 361\n",
    "angles = np.arange(angle_sampling)\n",
    "tril_mask = np.ones((angle_sampling, angle_sampling))\n",
    "tril_mask = np.triu(tril_mask, 0)\n",
    "tril_mask[np.where(tril_mask==0)] = np.nan"
   ]
  },
  {
   "cell_type": "code",
   "execution_count": null,
   "id": "0f8f6cf0-2bbc-42bb-9230-6d8ed84e4690",
   "metadata": {},
   "outputs": [],
   "source": [
    "k_ind, a_ind = indices_at_r(f_shape[2:], 22, c_pos)\n",
    "\n",
    "value_sel = stack_4d[49, 100, k_ind[0], k_ind[1]]\n",
    "values = np.zeros(angle_sampling)\n",
    "values[a_ind.astype(int)] = value_sel"
   ]
  },
  {
   "cell_type": "code",
   "execution_count": null,
   "id": "cac6ec4a-7f16-4a36-9afe-798be8691eba",
   "metadata": {},
   "outputs": [],
   "source": [
    "fig, ax = plt.subplots(2, 1)\n",
    "ax[0].plot(values)\n",
    "ax[1].plot(ndimage.gaussian_filter(values, sigma=1.0))\n",
    "fig.tight_layout()\n",
    "plt.show()"
   ]
  },
  {
   "cell_type": "markdown",
   "id": "f9ead1a1-e8fd-4afe-b990-82cfc12e7bb1",
   "metadata": {},
   "source": [
    "# angular correlation"
   ]
  },
  {
   "cell_type": "code",
   "execution_count": null,
   "id": "e0cb7113-fca1-4043-b9b2-cc7ff1d8cab0",
   "metadata": {
    "tags": []
   },
   "outputs": [],
   "source": [
    "k_range = np.arange(19, 24, 1)\n",
    "start_time = time.process_time()\n",
    "ac_spectra = []\n",
    "ac_fft_stack = []\n",
    "angle_sampling = 361\n",
    "angles = np.arange(angle_sampling)\n",
    "tril_mask = np.ones((angle_sampling, angle_sampling))\n",
    "tril_mask = np.triu(tril_mask, 0)\n",
    "tril_mask[np.where(tril_mask==0)] = np.nan\n",
    "\n",
    "for k in k_range:\n",
    "    k_ind, a_ind = indices_at_r(f_shape[2:], k, c_pos)\n",
    "    temp_spectra = []\n",
    "    temp_fft_stack = []\n",
    "    for i in range(f_shape[0]):\n",
    "        for j in range(f_shape[1]):\n",
    "            value_sel = stack_4d[i, j, k_ind[0], k_ind[1]]\n",
    "            values = np.zeros(angle_sampling)\n",
    "            values[a_ind.astype(int)] = value_sel\n",
    "            values = ndimage.gaussian_filter(values, sigma=2.0)\n",
    "\n",
    "            dummy = np.roll(values, 1)\n",
    "            value_stack = np.vstack((values, dummy))\n",
    "            for l in range(len(values)-2):\n",
    "                dummy = np.roll(dummy, 1)\n",
    "                value_stack = np.vstack((value_stack, dummy))\n",
    "\n",
    "            ang_corr = np.multiply(value_stack, values[np.newaxis, :])\n",
    "            ang_corr = np.multiply(np.triu(ang_corr, 0), tril_mask)\n",
    "\n",
    "            value_avgsq = np.mean(value_sel)**2\n",
    "            ac_spectrum = np.nanmean(ang_corr, axis=1)\n",
    "            ac_spectrum = (ac_spectrum / value_avgsq) - 1\n",
    "            ac_fft = np.abs(np.fft.fft(ac_spectrum))\n",
    "            \n",
    "            temp_spectra.append(ac_spectrum)\n",
    "            temp_fft_stack.append(ac_fft)\n",
    "            \n",
    "    temp_spectra = np.asarray(temp_spectra).reshape(f_shape[0], f_shape[1], -1)\n",
    "    temp_fft_stack = np.asarray(temp_fft_stack).reshape(f_shape[0], f_shape[1], -1)\n",
    "    ac_spectra.append(temp_spectra)\n",
    "    ac_fft_stack.append(temp_fft_stack)\n",
    "    print(\"%d radius completed\"%(k))\n",
    "    print(\"%d seconds have passed\"%(time.process_time()-start_time))\n",
    "print(\"all done\")"
   ]
  },
  {
   "cell_type": "code",
   "execution_count": null,
   "id": "eec777f9-eeb2-4f7a-9ee4-5ce0ee83f490",
   "metadata": {},
   "outputs": [],
   "source": [
    "ac_spectra = np.asarray(ac_spectra)\n",
    "print(ac_spectra.shape)\n",
    "ac_fft_stack = np.asarray(ac_fft_stack)\n",
    "print(ac_fft_stack.shape)"
   ]
  },
  {
   "cell_type": "code",
   "execution_count": null,
   "id": "5470207c-f7bd-47c6-a096-4408e4a64415",
   "metadata": {},
   "outputs": [],
   "source": [
    "fig, ax = plt.subplots(1, 2, figsize=(10, 10))\n",
    "ax[0].imshow(np.flip(np.mean(ac_spectra, axis=(1, 2)).T, 0), cmap=\"viridis\", \n",
    "             extent=[k_range[0], k_range[-1], angles[0]/10, angles[-1]/10])\n",
    "ax[1].imshow(np.flip(np.mean(ac_fft_stack, axis=(1, 2)).T[1:11], 0), cmap=\"viridis\", \n",
    "             extent=[k_range[0], k_range[-1], 0.5, 10.5])\n",
    "fig.tight_layout()\n",
    "plt.show()"
   ]
  },
  {
   "cell_type": "code",
   "execution_count": null,
   "id": "9e348583-e096-406d-8397-d5bdb83c8644",
   "metadata": {},
   "outputs": [],
   "source": [
    "k_selected = 19\n",
    "k_ind = np.where(k_range==k_selected)[0][0]\n",
    "print(k_ind)\n",
    "rot_sym = [2, 3, 4, 5, 6, 10]\n",
    "\n",
    "ang_corr_rot = []\n",
    "for r in rot_sym:\n",
    "    ang_corr_rot.append(ac_fft_stack[k_ind, :, :, r]/np.max(ac_fft_stack[k_ind, :, :, r]))\n",
    "ang_corr_rot = np.asarray(ang_corr_rot)\n",
    "print(ang_corr_rot.shape)\n",
    "\n",
    "ang_max_val = np.max(ang_corr_rot)\n",
    "ang_min_val = np.min(ang_corr_rot)\n",
    "\n",
    "k_var_map = radial_var[:, :, k_selected]\n",
    "\n",
    "for i, r in enumerate(rot_sym):\n",
    "    fig, ax = plt.subplots(1, 3, figsize=(15, 5))\n",
    "    ax[0].imshow(ang_corr_rot[i], cmap=\"inferno\", vmin=ang_min_val, vmax=ang_max_val)\n",
    "    ax[0].axis(\"off\")\n",
    "    ax[0].set_title(\"rotation symmetry %d\"%r)\n",
    "    ax[1].imshow(k_var_map, cmap=\"inferno\")\n",
    "    ax[1].axis(\"off\")\n",
    "    ax[2].imshow(ang_corr_rot[i], cmap=\"inferno\", alpha=0.8)\n",
    "    ax[2].contour(k_var_map, colors=\"k\", alpha=1.0, levels=5)\n",
    "    ax[2].axis(\"off\")\n",
    "    fig.tight_layout()\n",
    "    plt.show()"
   ]
  }
 ],
 "metadata": {
  "kernelspec": {
   "display_name": "Python 3 (ipykernel)",
   "language": "python",
   "name": "python3"
  },
  "language_info": {
   "codemirror_mode": {
    "name": "ipython",
    "version": 3
   },
   "file_extension": ".py",
   "mimetype": "text/x-python",
   "name": "python",
   "nbconvert_exporter": "python",
   "pygments_lexer": "ipython3",
   "version": "3.7.16"
  }
 },
 "nbformat": 4,
 "nbformat_minor": 5
}
