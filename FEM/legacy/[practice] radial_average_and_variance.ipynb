{
 "cells": [
  {
   "cell_type": "code",
   "execution_count": 1,
   "metadata": {},
   "outputs": [
    {
     "name": "stderr",
     "output_type": "stream",
     "text": [
      "WARNING:hyperspy_gui_traitsui:The module://ipykernel.pylab.backend_inline matplotlib backend is not compatible with the traitsui GUI elements. For more information, read http://hyperspy.readthedocs.io/en/stable/user_guide/getting_started.html#possible-warnings-when-importing-hyperspy.\n",
      "WARNING:hyperspy_gui_traitsui:The traitsui GUI elements are not available.\n"
     ]
    }
   ],
   "source": [
    "import numpy as np\n",
    "import matplotlib.pyplot as plt\n",
    "import hyperspy.api as hys\n",
    "import tkinter.filedialog as tkf\n",
    "from scipy import optimize"
   ]
  },
  {
   "cell_type": "code",
   "execution_count": 2,
   "metadata": {},
   "outputs": [],
   "source": [
    "# refer to https://scipy-cookbook.readthedocs.io/items/FittingData.html\n",
    "\n",
    "def gaussian(height, center_x, center_y, width_x, width_y):\n",
    "    \"\"\"Returns a gaussian function with the given parameters\"\"\"\n",
    "    width_x = float(width_x)\n",
    "    width_y = float(width_y)\n",
    "    return lambda x,y: height*np.exp(\n",
    "                -(((center_x-x)/width_x)**2+((center_y-y)/width_y)**2)/2)\n",
    "\n",
    "def moments(data):\n",
    "    \"\"\"Returns (height, x, y, width_x, width_y)\n",
    "    the gaussian parameters of a 2D distribution by calculating its\n",
    "    moments \"\"\"\n",
    "    total = data.sum()\n",
    "    X, Y = np.indices(data.shape) # row, col\n",
    "    x = (X*data).sum()/total # row\n",
    "    y = (Y*data).sum()/total # col\n",
    "    col = data[:, int(y)]\n",
    "    width_x = np.sqrt(np.abs((np.arange(col.size)-y)**2*col).sum()/col.sum())\n",
    "    row = data[int(x), :]\n",
    "    width_y = np.sqrt(np.abs((np.arange(row.size)-x)**2*row).sum()/row.sum())\n",
    "    height = data.max()\n",
    "    return height, x, y, width_x, width_y\n",
    "\n",
    "def fitgaussian(data):\n",
    "    \"\"\"Returns (height, x, y, width_x, width_y)\n",
    "    the gaussian parameters of a 2D distribution found by a fit\"\"\"\n",
    "    params = moments(data)\n",
    "    errorfunction = lambda p: np.ravel(gaussian(*p)(*np.indices(data.shape)) -\n",
    "                                 data)\n",
    "    p, success = optimize.leastsq(errorfunction, params)\n",
    "    return p"
   ]
  },
  {
   "cell_type": "code",
   "execution_count": 3,
   "metadata": {},
   "outputs": [],
   "source": [
    "# refer to github.com/mkolopanis/python/blob/master/radialProfile.py\n",
    "\n",
    "def radial_variance(image, profile_resolution=1.0, cbox_edge=None):\n",
    "   \n",
    "    y, x = np.indices(image.shape) * profile_resolution\n",
    "    if not cbox_edge:\n",
    "        center = np.array([(x.max()-x.min())/2.0, (y.max()-y.min())/2.0])\n",
    "        \n",
    "    else:\n",
    "        cbox_outy = int(image.shape[0]/2 - cbox_edge/2)\n",
    "        cbox_outx = int(image.shape[1]/2 - cbox_edge/2)\n",
    "        center_box = image[cbox_outy:-cbox_outy, cbox_outx:-cbox_outx]\n",
    "        fit_params = fitgaussian(center_box)\n",
    "        (_, center_y, center_x, _, _) = fit_params\n",
    "        center = [int(round(center_y)+cbox_outy), int(round(center_x)+cbox_outx)]\n",
    "        \n",
    "    r = np.hypot(y - center[0]*profile_resolution, x - center[1]*profile_resolution)\n",
    "    #plt.imshow(r, cmap=\"Accent\")\n",
    "    #plt.show()\n",
    "\n",
    "    # Get sorted radii\n",
    "    ind = np.argsort(r.flat)\n",
    "    r_sorted = r.flat[ind]\n",
    "    i_sorted = image.flat[ind]\n",
    "\n",
    "    # Get the integer part of the radii (bin size = 1)\n",
    "    r_int = r_sorted.astype(int)\n",
    "\n",
    "    # Find all pixels that fall within each radial bin.\n",
    "    deltar = r_int[1:] - r_int[:-1]  # Assumes all radii represented\n",
    "    rind = np.where(deltar)[0]       # location of changed radius\n",
    "    nr = rind[1:] - rind[:-1]        # number of radius bin\n",
    "    #print(nr)\n",
    "    \n",
    "    csim = np.cumsum(i_sorted, dtype=float)\n",
    "    sq_csim = np.cumsum(np.square(i_sorted), dtype=float)\n",
    "    \n",
    "    radial_avg = (csim[rind[1:]] - csim[rind[:-1]]) / nr\n",
    "    square_avg = (sq_csim[rind[1:]] - sq_csim[rind[:-1]]) / nr\n",
    "    \n",
    "    radial_var = square_avg - np.square(radial_avg)\n",
    "    return radial_avg, square_avg, radial_var    "
   ]
  },
  {
   "cell_type": "code",
   "execution_count": null,
   "metadata": {},
   "outputs": [],
   "source": [
    "# refer to \"github.com/mkolopanis/python/blob/master/radialProfile.py\"\n",
    "\n",
    "def radial_average(image, profile_resolution=1.0, cbox_edge=None):\n",
    "   \n",
    "    y, x = np.indices(image.shape) * profile_resolution\n",
    "    if not cbox_edge:\n",
    "        center = np.array([(x.max()-x.min())/2.0, (y.max()-y.min())/2.0])\n",
    "        \n",
    "    else:\n",
    "        cbox_outy = int(image.shape[0]/2 - cbox_edge/2)\n",
    "        cbox_outx = int(image.shape[1]/2 - cbox_edge/2)\n",
    "        center_box = image[cbox_outy:-cbox_outy, cbox_outx:-cbox_outx]\n",
    "        fit_params = fitgaussian(center_box)\n",
    "        (_, center_y, center_x, _, _) = fit_params\n",
    "        center = [int(round(center_y)+cbox_outy), int(round(center_x)+cbox_outx)]\n",
    "        \n",
    "    r = np.hypot(y - center[0]*profile_resolution, x - center[1]*profile_resolution)\n",
    "    #plt.imshow(r, cmap=\"Accent\")\n",
    "    #plt.show()\n",
    "\n",
    "    # Get sorted radii\n",
    "    ind = np.argsort(r.flat)\n",
    "    r_sorted = r.flat[ind]\n",
    "    i_sorted = image.flat[ind]\n",
    "\n",
    "    # Get the integer part of the radii (bin size = 1)\n",
    "    r_int = r_sorted.astype(int)\n",
    "\n",
    "    # Find all pixels that fall within each radial bin.\n",
    "    deltar = r_int[1:] - r_int[:-1]  # Assumes all radii represented\n",
    "    rind = np.where(deltar)[0]       # location of changed radius\n",
    "    nr = rind[1:] - rind[:-1]        # number of radius bin\n",
    "    #print(nr)\n",
    "    \n",
    "    csim = np.cumsum(i_sorted, dtype=float)\n",
    "    tbin = csim[rind[1:]] - csim[rind[:-1]]\n",
    "\n",
    "    radial_prof = tbin / nr\n",
    "\n",
    "    return radial_prof"
   ]
  },
  {
   "cell_type": "code",
   "execution_count": null,
   "metadata": {},
   "outputs": [],
   "source": [
    "img = hys.load(tkf.askopenfilename()).data\n",
    "print(img.shape)"
   ]
  },
  {
   "cell_type": "code",
   "execution_count": null,
   "metadata": {},
   "outputs": [],
   "source": [
    "radial_avg, square_avg, radial_var = radial_variance(img, profile_resolution=5.0, cbox_edge=20)\n",
    "plt.plot(np.square(radial_avg))\n",
    "plt.plot(square_avg)\n",
    "plt.show()"
   ]
  },
  {
   "cell_type": "code",
   "execution_count": null,
   "metadata": {},
   "outputs": [],
   "source": [
    "plt.plot(radial_var)"
   ]
  },
  {
   "cell_type": "code",
   "execution_count": null,
   "metadata": {},
   "outputs": [],
   "source": [
    "plt.plot(byint)\n",
    "plt.plot(notbyint)\n",
    "plt.show()"
   ]
  },
  {
   "cell_type": "code",
   "execution_count": null,
   "metadata": {},
   "outputs": [],
   "source": [
    "y, x = np.indices(img.shape) * 1.5\n",
    "print(y)\n",
    "print(x)"
   ]
  },
  {
   "cell_type": "code",
   "execution_count": null,
   "metadata": {},
   "outputs": [],
   "source": [
    "center = np.array([(x.max()-x.min())/2.0, (y.max()-y.min())/2.0])\n",
    "print(center)"
   ]
  },
  {
   "cell_type": "code",
   "execution_count": null,
   "metadata": {},
   "outputs": [],
   "source": [
    "r = np.hypot(x-center[0], y-center[1])\n",
    "print(r.shape)\n",
    "print(r)"
   ]
  },
  {
   "cell_type": "code",
   "execution_count": null,
   "metadata": {},
   "outputs": [],
   "source": [
    "ind = np.argsort(r.flat)\n",
    "print(ind.shape)\n",
    "print(ind)"
   ]
  },
  {
   "cell_type": "code",
   "execution_count": null,
   "metadata": {},
   "outputs": [],
   "source": [
    "r_sorted = r.flat[ind]\n",
    "i_sorted = img.flat[ind]"
   ]
  },
  {
   "cell_type": "code",
   "execution_count": null,
   "metadata": {},
   "outputs": [],
   "source": [
    "r_int = r_sorted.astype(int)\n",
    "print(r_sorted[:50])\n",
    "print(r_int[:50])"
   ]
  },
  {
   "cell_type": "code",
   "execution_count": null,
   "metadata": {},
   "outputs": [],
   "source": [
    "deltar = r_int[1:] - r_int[:-1]\n",
    "print(deltar[:10])"
   ]
  },
  {
   "cell_type": "code",
   "execution_count": null,
   "metadata": {},
   "outputs": [],
   "source": [
    "deltar = r_sorted[1:] - r_sorted[:-1]\n",
    "print(deltar[:10])"
   ]
  },
  {
   "cell_type": "code",
   "execution_count": null,
   "metadata": {},
   "outputs": [],
   "source": [
    "rind = np.where(deltar>0.15)[0]\n",
    "print(rind.shape)\n",
    "print(rind)"
   ]
  },
  {
   "cell_type": "code",
   "execution_count": null,
   "metadata": {},
   "outputs": [],
   "source": [
    "rind = np.where(deltar)[0]\n",
    "print(rind.shape)\n",
    "print(rind)"
   ]
  },
  {
   "cell_type": "code",
   "execution_count": null,
   "metadata": {},
   "outputs": [],
   "source": [
    "nr = rind[1:] - rind[:-1]\n",
    "print(nr)"
   ]
  },
  {
   "cell_type": "code",
   "execution_count": null,
   "metadata": {},
   "outputs": [],
   "source": [
    "csim = np.cumsum(i_sorted, dtype=float)\n",
    "print(csim.shape)\n",
    "print(csim[:10])"
   ]
  },
  {
   "cell_type": "code",
   "execution_count": null,
   "metadata": {},
   "outputs": [],
   "source": [
    "tbin = csim[rind[1:]] - csim[rind[:-1]]\n",
    "print(tbin.shape)"
   ]
  },
  {
   "cell_type": "code",
   "execution_count": null,
   "metadata": {},
   "outputs": [],
   "source": [
    "radial_profile = tbin / nr\n",
    "print(radial_profile.shape)\n",
    "print(radial_profile)"
   ]
  }
 ],
 "metadata": {
  "kernelspec": {
   "display_name": "Python 3",
   "language": "python",
   "name": "python3"
  },
  "language_info": {
   "codemirror_mode": {
    "name": "ipython",
    "version": 3
   },
   "file_extension": ".py",
   "mimetype": "text/x-python",
   "name": "python",
   "nbconvert_exporter": "python",
   "pygments_lexer": "ipython3",
   "version": "3.7.3"
  }
 },
 "nbformat": 4,
 "nbformat_minor": 4
}
