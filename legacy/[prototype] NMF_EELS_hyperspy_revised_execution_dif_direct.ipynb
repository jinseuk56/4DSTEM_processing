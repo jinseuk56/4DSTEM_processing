{
 "cells": [
  {
   "cell_type": "code",
   "execution_count": 1,
   "metadata": {},
   "outputs": [
    {
     "name": "stderr",
     "output_type": "stream",
     "text": [
      "WARNING:hyperspy_gui_traitsui:The module://ipykernel.pylab.backend_inline matplotlib backend is not compatible with the traitsui GUI elements. For more information, read http://hyperspy.readthedocs.io/en/stable/user_guide/getting_started.html#possible-warnings-when-importing-hyperspy.\n",
      "WARNING:hyperspy_gui_traitsui:The traitsui GUI elements are not available.\n"
     ]
    }
   ],
   "source": [
    "import numpy as np\n",
    "import matplotlib.pyplot as plt\n",
    "import matplotlib.colors as mcolors\n",
    "from mpl_toolkits.mplot3d import Axes3D\n",
    "import skimage.transform as skt\n",
    "import hyperspy.api as hys\n",
    "from sklearn.decomposition import NMF\n",
    "import tkinter.filedialog as tkf\n",
    "from ipywidgets import interact\n",
    "import ipywidgets as widgets"
   ]
  },
  {
   "cell_type": "code",
   "execution_count": 4,
   "metadata": {},
   "outputs": [],
   "source": [
    "def remove_negative_min_shift(img):\n",
    "    if np.min(img) < 0:\n",
    "        img += - np.min(img)\n",
    "        \n",
    "    return img"
   ]
  },
  {
   "cell_type": "code",
   "execution_count": 5,
   "metadata": {},
   "outputs": [],
   "source": [
    "def remove_negative_avg_shift(img):\n",
    "    if np.min(img) < 0:\n",
    "        ri = np.where(img < 0)\n",
    "        neg_avg = np.mean(img[ri])\n",
    "        img += -neg_avg\n",
    "    img = img.clip(min=0.0)\n",
    "        \n",
    "    return img"
   ]
  },
  {
   "cell_type": "code",
   "execution_count": 6,
   "metadata": {},
   "outputs": [],
   "source": [
    "def remove_negative_med_shift(img):\n",
    "    if np.min(img) < 0:\n",
    "        ri = np.where(img < 0)\n",
    "        neg_med = np.median(img[ri])\n",
    "        img += -neg_med\n",
    "    img = img.clip(min=0.0)\n",
    "        \n",
    "    return img"
   ]
  },
  {
   "cell_type": "code",
   "execution_count": null,
   "metadata": {},
   "outputs": [],
   "source": [
    "# refer to \"github.com/mkolopanis/python/blob/master/radialProfile.py\"\n",
    "\n",
    "def azimuthalAverage(image, center=None):\n",
    "    \"\"\"\n",
    "    Calculate the azimuthally averaged radial profile.\n",
    "    image - The 2D image\n",
    "    center - The [x,y] pixel coordinates used as the center. The default is \n",
    "             None, which then uses the center of the image (including \n",
    "             fracitonal pixels).\n",
    "    \n",
    "    \"\"\"\n",
    "    # Calculate the indices from the image\n",
    "    y, x = np.indices(image.shape)\n",
    "\n",
    "    if not center:\n",
    "        center = np.array([(x.max()-x.min())/2.0, (y.max()-y.min())/2.0])\n",
    "\n",
    "    r = np.hypot(x - center[0], y - center[1])\n",
    "\n",
    "    # Get sorted radii\n",
    "    ind = np.argsort(r.flat)\n",
    "    r_sorted = r.flat[ind]\n",
    "    i_sorted = image.flat[ind]\n",
    "\n",
    "    # Get the integer part of the radii (bin size = 1)\n",
    "    r_int = r_sorted.astype(int)\n",
    "\n",
    "    # Find all pixels that fall within each radial bin.\n",
    "    deltar = r_int[1:] - r_int[:-1]  # Assumes all radii represented\n",
    "    rind = np.where(deltar)[0]       # location of changed radius\n",
    "    nr = rind[1:] - rind[:-1]        # number of radius bin\n",
    "    \n",
    "    # Cumulative sum to figure out sums for each radius bin\n",
    "    csim = np.cumsum(i_sorted, dtype=float)\n",
    "    tbin = csim[rind[1:]] - csim[rind[:-1]]\n",
    "\n",
    "    radial_prof = tbin / nr\n",
    "\n",
    "    return radial_prof"
   ]
  },
  {
   "cell_type": "code",
   "execution_count": 7,
   "metadata": {},
   "outputs": [],
   "source": [
    "def warp_scale(spectrum):\n",
    "    spectrum = spectrum.clip(min=0.0)\n",
    "    min_val = np.min(spectrum)\n",
    "    \n",
    "    rescaled = spectrum - min_val\n",
    "    \n",
    "    if np.max(rescaled) != 0:\n",
    "        rescaled = rescaled / np.max(rescaled)\n",
    "    \n",
    "    return rescaled"
   ]
  },
  {
   "cell_type": "code",
   "execution_count": 8,
   "metadata": {},
   "outputs": [
    {
     "name": "stdout",
     "output_type": "stream",
     "text": [
      "1\n",
      "('E:/data_temporary/DGIST 20190925/Bset01_1/cropped_4D.hdf5',)\n"
     ]
    }
   ],
   "source": [
    "dm_files = tkf.askopenfilenames()\n",
    "print(len(dm_files))\n",
    "print(dm_files)"
   ]
  },
  {
   "cell_type": "code",
   "execution_count": 11,
   "metadata": {},
   "outputs": [
    {
     "name": "stdout",
     "output_type": "stream",
     "text": [
      "2\n",
      "['E:/data_temporary/DGIST 20190925/Bset01_1/cropped_4D.hdf5', 'E:/data_temporary/DGIST 20190925/Bset01_1/cropped_4D.hdf5']\n"
     ]
    }
   ],
   "source": [
    "dm_files = list(dm_files)\n",
    "dm_files.extend(tkf.askopenfilenames())\n",
    "print(len(dm_files))\n",
    "print(dm_files)"
   ]
  },
  {
   "cell_type": "code",
   "execution_count": null,
   "metadata": {},
   "outputs": [],
   "source": [
    "dm_files = list(dm_files)\n",
    "dm_files.extend(tkf.askopenfilenames())\n",
    "print(len(dm_files))\n",
    "print(dm_files)"
   ]
  },
  {
   "cell_type": "code",
   "execution_count": 12,
   "metadata": {},
   "outputs": [
    {
     "name": "stdout",
     "output_type": "stream",
     "text": [
      "(255, 42, 4096)\n",
      "(255, 42, 4096)\n"
     ]
    }
   ],
   "source": [
    "data_storage = []\n",
    "data_shape = []\n",
    "demag = 2\n",
    "for i, adr in enumerate(dm_files):\n",
    "    temp = hys.load(adr)\n",
    "    temp = temp.data\n",
    "    resize_temp = np.zeros((temp.shape[0], temp.shape[1], int(temp.shape[2]/demag)*int(temp.shape[3]/demag)))\n",
    "    for j in range(temp.shape[0]):\n",
    "        for k in range(temp.shape[1]):\n",
    "            resize_temp[j, k] = warp_scale(skt.resize(temp[j, k], (int(temp.shape[2]/demag), int(temp.shape[3]/demag)), \n",
    "                                           mode=\"edge\", anti_aliasing=True).flatten())\n",
    "    print(resize_temp.shape)\n",
    "    data_shape.append(resize_temp.shape)\n",
    "    data_storage.append(resize_temp)\n",
    "    \n",
    "final_dsx = int(temp.shape[3]/demag)\n",
    "final_dsy = int(temp.shape[2]/demag)\n",
    "del(temp)\n",
    "del(resize_temp)"
   ]
  },
  {
   "cell_type": "code",
   "execution_count": 13,
   "metadata": {},
   "outputs": [
    {
     "name": "stdout",
     "output_type": "stream",
     "text": [
      "[[ 255   42 4096]\n",
      " [ 255   42 4096]]\n",
      "[[255  42]\n",
      " [255  42]]\n"
     ]
    }
   ],
   "source": [
    "num_img = len(data_storage)\n",
    "\n",
    "data_shape = np.asarray(data_shape)\n",
    "print(data_shape)\n",
    "s_dim = data_shape[0, 2]\n",
    "dataset = []\n",
    "data_shape_new = []\n",
    "\n",
    "cluster_size_y = 1\n",
    "cluster_size_x = 1\n",
    "stride_y = 1\n",
    "stride_x = 1\n",
    "\n",
    "for img in data_storage:\n",
    "    height = len(range(0, img.shape[0]-cluster_size_y+1, stride_y))\n",
    "    width = len(range(0, img.shape[1]-cluster_size_x+1, stride_x))\n",
    "    data_shape_new.append([height, width])\n",
    "    temp= []\n",
    "    for i in range(0, img.shape[0]-cluster_size_y+1, stride_y):\n",
    "        for j in range(0, img.shape[1]-cluster_size_x+1, stride_x):\n",
    "            temp_sum = warp_scale(np.sum(img[i:i+cluster_size_y, j:j+cluster_size_x], axis=(0, 1)))\n",
    "            temp.append(temp_sum)\n",
    "    temp = np.asarray(temp).reshape(height, width, s_dim)\n",
    "    dataset.append(temp)\n",
    "    \n",
    "data_shape_new = np.asarray(data_shape_new)\n",
    "print(data_shape_new)"
   ]
  },
  {
   "cell_type": "code",
   "execution_count": 14,
   "metadata": {},
   "outputs": [
    {
     "data": {
      "image/png": "[encoded data removed]",
      "text/plain": [
       "<Figure size 432x288 with 1 Axes>"
      ]
     },
     "metadata": {
      "needs_background": "light"
     },
     "output_type": "display_data"
    },
    {
     "data": {
      "image/png": "[encoded data removed]",
      "text/plain": [
       "<Figure size 432x288 with 1 Axes>"
      ]
     },
     "metadata": {
      "needs_background": "light"
     },
     "output_type": "display_data"
    }
   ],
   "source": [
    "%matplotlib inline\n",
    "img_storage = []\n",
    "\n",
    "for i in range(num_img):\n",
    "    temp = []\n",
    "    for j in range(data_shape_new[i, 0]):\n",
    "        for k in range(data_shape_new[i, 1]):\n",
    "            temp.append(np.sum(dataset[i][j, k]))\n",
    "    temp = np.asarray(temp).reshape(data_shape_new[i, 0], data_shape_new[i, 1])\n",
    "    img_storage.append(temp)\n",
    "            \n",
    "for i in range(num_img):\n",
    "    plt.imshow(img_storage[i])\n",
    "    plt.show()"
   ]
  },
  {
   "cell_type": "code",
   "execution_count": 15,
   "metadata": {},
   "outputs": [
    {
     "name": "stdout",
     "output_type": "stream",
     "text": [
      "148\n",
      "[  0   1   2   3   4   5   6   7   8   9  10  11  12  13  14  15  16  17\n",
      "  18  19  20  21  22  23  24  25  26  27  28  29  30  31  32  33  34  35\n",
      "  36  37  38  39  40  41  42  43  44  45  46  47  48  49  50  51  52  53\n",
      "  54  55  56  57  58  59  60  61  62  63  64  65  66  67  68  69  70  71\n",
      "  72  73  74  75  76  77  78  79  80  81  82  83  84  85  86  87  88  89\n",
      "  90  91  92  93  94  95  96  97  98  99 100 101 102 103 104 105 106 107\n",
      " 108 109 110 111 112 113 114 115 116 117 118 119 120 121 122 123 124 125\n",
      " 126 127 128 129 130 131 132 133 134 135 136 137 138 139 140 141 142 143\n",
      " 144 145 146 147]\n"
     ]
    }
   ],
   "source": [
    "def colortable(colors, title, sort_colors=True, emptycols=0):\n",
    "    \n",
    "    by_hsv = ((tuple(mcolors.rgb_to_hsv(mcolors.to_rgba(color)[:3])), name)\n",
    "                    for name, color in colors.items())\n",
    "    if sort_colors is True:\n",
    "        by_hsv = sorted(by_hsv)\n",
    "    names = [name for hsv, name in by_hsv]\n",
    "    \n",
    "    return names\n",
    "\n",
    "color_name = colortable(mcolors.CSS4_COLORS, \"CSS Colors\")\n",
    "num_color = len(color_name)\n",
    "print(len(color_name))\n",
    "\n",
    "ri = np.random.choice(num_color, num_color, replace=False)\n",
    "ri = np.sort(ri)\n",
    "print(ri)\n",
    "color_cand_4 = {}\n",
    "for i in range(num_color):\n",
    "    color_cand_4[i] = color_name[ri[i]]"
   ]
  },
  {
   "cell_type": "code",
   "execution_count": null,
   "metadata": {},
   "outputs": [],
   "source": [
    "# coloring by vertical lines\n",
    "class_group = []\n",
    "color_group = []\n",
    "for i in range(num_img):\n",
    "    for j in range(data_shape_new[i, 0]):\n",
    "        for k in range(data_shape_new[i, 1]):\n",
    "            color_group.append(color_cand_4[k])"
   ]
  },
  {
   "cell_type": "code",
   "execution_count": null,
   "metadata": {},
   "outputs": [],
   "source": [
    "# coloring by horizontal lines\n",
    "class_group = []\n",
    "color_group = []\n",
    "for i in range(num_img):\n",
    "    for j in range(data_shape_new[i, 0]):\n",
    "        for k in range(data_shape_new[i, 1]):\n",
    "            color_group.append(color_cand_4[i])"
   ]
  },
  {
   "cell_type": "code",
   "execution_count": 16,
   "metadata": {},
   "outputs": [],
   "source": [
    "# only one color\n",
    "class_group = []\n",
    "color_group = []\n",
    "for i in range(num_img):\n",
    "    for j in range(data_shape_new[i, 0]):\n",
    "        for k in range(data_shape_new[i, 1]):\n",
    "            color_group.append(\"red\")"
   ]
  },
  {
   "cell_type": "code",
   "execution_count": 17,
   "metadata": {},
   "outputs": [
    {
     "name": "stdout",
     "output_type": "stream",
     "text": [
      "(21420, 4096)\n"
     ]
    }
   ],
   "source": [
    "dataset_input = []\n",
    "for i in range(num_img):\n",
    "    dataset_input.extend(dataset[i].reshape(-1, s_dim).tolist())\n",
    "    \n",
    "dataset_input = np.asarray(dataset_input)\n",
    "print(dataset_input.shape)"
   ]
  },
  {
   "cell_type": "code",
   "execution_count": 18,
   "metadata": {},
   "outputs": [],
   "source": [
    "def nmf(data_set, n_comp=5, vis_comp=False, projection=False, inverse=False, initialize=\"nndsvda\"):\n",
    "    print(\"Doing NMF...\")\n",
    "\n",
    "    nmf = NMF(n_components=n_comp, init=initialize, solver=\"mu\", max_iter=500, random_state=56, verbose=True)\n",
    "\n",
    "    reduced_projection = nmf.fit_transform(data_set)\n",
    "    restore = nmf.inverse_transform(reduced_projection)\n",
    "    \n",
    "    if vis_comp:\n",
    "        n1 = n_comp\n",
    "        fig1, ax1 = plt.subplots(n1, 1, figsize=(10, 10))\n",
    "        temp_flat = ax1.flat\n",
    "        for i, ax in enumerate(temp_flat[:n1]):\n",
    "            ax.plot(nmf.components_[i], \"k-\", c=\"black\")\n",
    "            ax.grid()\n",
    "\n",
    "    if projection:\n",
    "        fig2= plt.figure(figsize=(10,10))\n",
    "        ax2 = fig2.add_subplot(221)\n",
    "        ax2.scatter(reduced_projection[:, 0], reduced_projection[:, 1], s=1.5, c=\"black\", alpha=0.5)\n",
    "        ax2.grid()\n",
    "        ax2.set_xlabel(\"component 1\")\n",
    "        ax2.set_ylabel(\"component 2\")\n",
    "\n",
    "        ax3 = fig2.add_subplot(222)\n",
    "        ax3.scatter(reduced_projection[:, 1], reduced_projection[:, 2], s=1.5, c=\"black\", alpha=0.5)\n",
    "        ax3.grid()\n",
    "        ax3.set_xlabel(\"component 2\")\n",
    "        ax3.set_ylabel(\"component 3\")\n",
    "\n",
    "        ax4 = fig2.add_subplot(223)\n",
    "        ax4.scatter(reduced_projection[:, 0], reduced_projection[:, 2], s=1.5, c=\"black\", alpha=0.5)\n",
    "        ax4.grid()\n",
    "        ax4.set_xlabel(\"component 1\")\n",
    "        ax4.set_ylabel(\"component 3\")\n",
    "        \n",
    "        if n_comp > 2:\n",
    "            ax5 = fig2.add_subplot(224, projection=\"3d\")\n",
    "            ax5.scatter(reduced_projection[:, 0], reduced_projection[:, 1],reduced_projection[:, 2], zdir=\"z\", s=1.5, c=\"black\", alpha=0.5)\n",
    "            ax5.grid()\n",
    "            ax5.set_xlabel(\"component 1\")\n",
    "            ax5.set_ylabel(\"component 2\")\n",
    "            ax5.set_zlabel(\"component 3\")\n",
    "\n",
    "    return nmf.components_, reduced_projection, restore"
   ]
  },
  {
   "cell_type": "code",
   "execution_count": 19,
   "metadata": {},
   "outputs": [
    {
     "name": "stdout",
     "output_type": "stream",
     "text": [
      "Doing NMF...\n",
      "Epoch 10 reached after 2.723 seconds, error: 296.214998\n",
      "Epoch 20 reached after 4.812 seconds, error: 295.661022\n",
      "Epoch 30 reached after 6.950 seconds, error: 295.376193\n",
      "Epoch 40 reached after 8.973 seconds, error: 295.178052\n",
      "Epoch 50 reached after 10.971 seconds, error: 295.012655\n",
      "Epoch 60 reached after 12.989 seconds, error: 294.862125\n",
      "Epoch 70 reached after 14.988 seconds, error: 294.722316\n",
      "Epoch 80 reached after 16.996 seconds, error: 294.594104\n",
      "Epoch 90 reached after 19.014 seconds, error: 294.478931\n",
      "Epoch 100 reached after 21.129 seconds, error: 294.377168\n",
      "Epoch 110 reached after 23.155 seconds, error: 294.288154\n",
      "Epoch 120 reached after 25.227 seconds, error: 294.210615\n",
      "Epoch 130 reached after 27.321 seconds, error: 294.143012\n",
      "Epoch 140 reached after 29.419 seconds, error: 294.083856\n",
      "Epoch 150 reached after 31.512 seconds, error: 294.031892\n",
      "Epoch 160 reached after 33.527 seconds, error: 293.986127\n",
      "Epoch 170 reached after 35.575 seconds, error: 293.945777\n",
      "Epoch 180 reached after 37.622 seconds, error: 293.910205\n",
      "Epoch 190 reached after 40.580 seconds, error: 293.878879\n"
     ]
    }
   ],
   "source": [
    "%matplotlib inline\n",
    "num_comp = 3\n",
    "comp_vectors, projections, restoration = nmf(dataset_input, n_comp=num_comp, \n",
    "                                             vis_comp=False, projection=False, initialize=\"nndsvda\")\n",
    "plt.show()"
   ]
  },
  {
   "cell_type": "code",
   "execution_count": 20,
   "metadata": {},
   "outputs": [
    {
     "name": "stdout",
     "output_type": "stream",
     "text": [
      "(3, 4096)\n"
     ]
    },
    {
     "data": {
      "image/png": "[encoded data removed]",
      "text/plain": [
       "<Figure size 360x576 with 3 Axes>"
      ]
     },
     "metadata": {
      "needs_background": "light"
     },
     "output_type": "display_data"
    }
   ],
   "source": [
    "%matplotlib inline\n",
    "print(comp_vectors.shape)\n",
    "fig, ax = plt.subplots(num_comp, 1, figsize=(5, 8))\n",
    "for i, a in enumerate(ax):\n",
    "    a.imshow(comp_vectors[i].reshape(final_dsy, final_dsx), cmap=\"gray\")\n",
    "    #a.set_title(\"%d component\"%(i+1), fontsize=15)\n",
    "    #a.set_xlabel(\"eV\", fontsize=15)\n",
    "fig.tight_layout()\n",
    "plt.show()"
   ]
  },
  {
   "cell_type": "code",
   "execution_count": null,
   "metadata": {},
   "outputs": [],
   "source": [
    "plt.close(fig)"
   ]
  },
  {
   "cell_type": "code",
   "execution_count": 21,
   "metadata": {},
   "outputs": [
    {
     "name": "stdout",
     "output_type": "stream",
     "text": [
      "(21420, 3)\n",
      "(10710, 3)\n",
      "(10710, 3)\n",
      "(255, 42, 3)\n",
      "(10710, 3)\n",
      "(0, 3)\n",
      "(255, 42, 3)\n"
     ]
    }
   ],
   "source": [
    "projections_copy = projections.copy()\n",
    "print(projections_copy.shape)\n",
    "projection_reshape = []\n",
    "for i in range(num_img):\n",
    "    temp = projections_copy[:int(data_shape_new[i, 0]*data_shape_new[i, 1]), :]\n",
    "    print(temp.shape)\n",
    "    projections_copy = np.delete(projections_copy, range(int(data_shape_new[i, 0]*data_shape_new[i, 1])), axis=0)\n",
    "    print(projections_copy.shape)\n",
    "    temp = np.reshape(temp, (data_shape_new[i, 0], data_shape_new[i, 1], -1))\n",
    "    print(temp.shape)\n",
    "    projection_reshape.append(temp)"
   ]
  },
  {
   "cell_type": "code",
   "execution_count": 25,
   "metadata": {},
   "outputs": [
    {
     "data": {
      "application/vnd.jupyter.widget-view+json": {
       "model_id": "a2dfdfa9ba904fb789ea396699f3da58",
       "version_major": 2,
       "version_minor": 0
      },
      "text/plain": [
       "interactive(children=(IntSlider(value=0, description='comp', max=2), Output()), _dom_classes=('widget-interact…"
      ]
     },
     "metadata": {},
     "output_type": "display_data"
    },
    {
     "data": {
      "text/plain": [
       "<function __main__.map_selector(comp)>"
      ]
     },
     "execution_count": 25,
     "metadata": {},
     "output_type": "execute_result"
    }
   ],
   "source": [
    "%matplotlib qt\n",
    "# for many images\n",
    "fig1, ax1 = plt.subplots(1, num_img, figsize=(8, 6))\n",
    "    \n",
    "def map_selector(comp):\n",
    "    for i, axs in enumerate(ax1):\n",
    "        axs.cla()\n",
    "        axs.imshow(projection_reshape[i][:, :, comp], cmap=\"gray\")\n",
    "        #axs.set_title(\"component %d map\"%(comp+1), fontsize=10)\n",
    "        axs.axis(\"off\")\n",
    "    fig1.canvas.draw()\n",
    "    fig1.tight_layout()\n",
    "    \n",
    "interact(map_selector, comp=widgets.IntSlider(min=0, max=num_comp-1, step=1, value=0))"
   ]
  },
  {
   "cell_type": "code",
   "execution_count": 26,
   "metadata": {},
   "outputs": [],
   "source": [
    "plt.close(fig1)"
   ]
  },
  {
   "cell_type": "code",
   "execution_count": 27,
   "metadata": {},
   "outputs": [
    {
     "data": {
      "application/vnd.jupyter.widget-view+json": {
       "model_id": "c89747b3045a42fd9b85e562745728e4",
       "version_major": 2,
       "version_minor": 0
      },
      "text/plain": [
       "interactive(children=(IntSlider(value=0, description='c1', max=2), IntSlider(value=1, description='c2', max=2)…"
      ]
     },
     "metadata": {},
     "output_type": "display_data"
    }
   ],
   "source": [
    "%matplotlib qt\n",
    "fig2, ax2 = plt.subplots(1, 1, figsize=(10, 10))\n",
    "\n",
    "def projection(c1, c2):\n",
    "    ax2.cla()\n",
    "    ax2.scatter(projections[:, c1], projections[:, c2], s=5, c=color_group, alpha=0.5)\n",
    "    ax2.grid()\n",
    "    ax2.set_xlabel(\"component %d\"%(c1+1), fontsize=20)\n",
    "    ax2.set_ylabel(\"component %d\"%(c2+1), fontsize=20)\n",
    "    fig2.canvas.draw()\n",
    "    fig2.tight_layout()\n",
    "\n",
    "x_widget = widgets.IntSlider(min=0, max=num_comp-1, step=1, value=0)\n",
    "y_widget = widgets.IntSlider(min=0, max=num_comp-1, step=1, value=1)\n",
    "\n",
    "interact(projection, c1=x_widget, c2=y_widget)\n",
    "fig2.show()"
   ]
  },
  {
   "cell_type": "code",
   "execution_count": 28,
   "metadata": {},
   "outputs": [],
   "source": [
    "plt.close(fig2)"
   ]
  },
  {
   "cell_type": "code",
   "execution_count": 32,
   "metadata": {},
   "outputs": [],
   "source": [
    "%matplotlib qt\n",
    "# for many images\n",
    "from matplotlib.widgets import EllipseSelector\n",
    "\n",
    "comp_v1 = 0\n",
    "comp_v2 = 1\n",
    "\n",
    "fig3, ax3 = plt.subplots(1, 3, figsize=(20, 8))\n",
    "ax3[0].scatter(projections[:, comp_v1], projections[:, comp_v2], s=3.0, alpha=0.5, c=color_group)\n",
    "ax3[0].tick_params(axis=\"both\", labelsize=15)\n",
    "ax3[0].grid()\n",
    "ax3[1].scatter(projections[:, comp_v1], projections[:, comp_v2], s=3.0, alpha=0.5, cmap=\"Set1\")\n",
    "ax3[1].tick_params(axis=\"both\", labelsize=15)\n",
    "ax3[1].grid()\n",
    "ax3[2].imshow(np.zeros(s_dim).reshape(final_dsy, final_dsx), cmap=\"gray\")\n",
    "ax3[2].tick_params(axis=\"both\", labelsize=15)\n",
    "\n",
    "fig4, ax4 = plt.subplots(2, num_img, figsize=(10, 5))\n",
    "\n",
    "cluster = []\n",
    "\n",
    "for i in range(num_img):\n",
    "    ax4[0][i].imshow(img_storage[i], cmap=\"gray\")\n",
    "    ax4[0][i].axis(\"off\")\n",
    "    ax4[1][i].imshow(img_storage[i], cmap=\"gray\")\n",
    "    ax4[1][i].axis(\"off\")\n",
    "\n",
    "def ellipse_equation(cx, cy, a, b, x, y):\n",
    "    return ((x-cx)/a)**2 + ((y-cy)/b)**2\n",
    "\n",
    "def onselect(eclick, erelease):\n",
    "    center_x = (erelease.xdata + eclick.xdata) / 2.0\n",
    "    center_y = (erelease.ydata + eclick.ydata) / 2.0\n",
    "    a = abs((erelease.xdata - eclick.xdata) / 2.0)\n",
    "    b = abs((erelease.ydata - eclick.ydata) / 2.0)\n",
    "    #print(center_x)\n",
    "    #print(center_y)\n",
    "    #print(a)\n",
    "    #print(b)\n",
    "    \n",
    "    temp = []\n",
    "    spectra_sum = np.zeros(s_dim)\n",
    "    \n",
    "    color = []\n",
    "    for i in range(len(dataset_input)):\n",
    "        if ellipse_equation(center_x, center_y, a, b, projections[i, comp_v1], projections[i, comp_v2]) <= 1:\n",
    "            #print(\"wow\")\n",
    "            temp.append(1)\n",
    "            spectra_sum += dataset_input[i]\n",
    "            color.append(1)\n",
    "        else:\n",
    "            temp.append(0)\n",
    "            color.append(0)\n",
    "            \n",
    "    ax3[1].cla()\n",
    "    ax3[1].scatter(projections[:, comp_v1], projections[:, comp_v2], s=3.0, alpha=0.5, c=color, cmap=\"Set1\")\n",
    "    ax3[1].grid()\n",
    "    \n",
    "    ax3[2].cla()\n",
    "    ax3[2].imshow(warp_scale(spectra_sum).reshape(final_dsy, final_dsx), cmap=\"gray\")\n",
    "    \n",
    "    temp = np.asarray(temp)\n",
    "    #print(temp.shape)\n",
    "    selected = []\n",
    "    for i in range(num_img):\n",
    "        selected_temp = temp[:int(data_shape_new[i, 0]*data_shape_new[i, 1])]\n",
    "        temp = np.delete(temp, range(int(data_shape_new[i, 0]*data_shape_new[i, 1])))\n",
    "        selected_temp = np.reshape(selected_temp, data_shape_new[i])\n",
    "        selected.append(selected_temp)\n",
    "    \n",
    "    for i in range(num_img):\n",
    "        ax4[1][i].imshow(selected[i], cmap=\"Set1\")\n",
    "        ax4[1][i].axis(\"off\")\n",
    "        \n",
    "    fig3.canvas.draw()\n",
    "    fig4.canvas.draw()\n",
    "    fig3.tight_layout()\n",
    "    fig4.tight_layout()\n",
    "    \n",
    "    cluster.append(selected)\n",
    "        \n",
    "ep = EllipseSelector(ax3[0], onselect, drawtype=\"line\")\n",
    "plt.show()"
   ]
  },
  {
   "cell_type": "code",
   "execution_count": null,
   "metadata": {},
   "outputs": [],
   "source": [
    "plt.close(fig3)\n",
    "plt.close(fig4)\n",
    "print(len(cluster))"
   ]
  },
  {
   "cell_type": "code",
   "execution_count": null,
   "metadata": {},
   "outputs": [],
   "source": [
    "selected = []\n",
    "for i in range(num_img):\n",
    "    selected.extend(cluster[-1][i].flatten().tolist())"
   ]
  },
  {
   "cell_type": "code",
   "execution_count": null,
   "metadata": {},
   "outputs": [],
   "source": [
    "for i, s in enumerate(selected):\n",
    "    if s == 0:\n",
    "        dataset_input[i] *= 0"
   ]
  },
  {
   "cell_type": "code",
   "execution_count": null,
   "metadata": {},
   "outputs": [],
   "source": [
    "num_sel = 3\n",
    "selected = []\n",
    "for i in range(num_sel):\n",
    "    selected.append(cluster[-i])"
   ]
  },
  {
   "cell_type": "code",
   "execution_count": null,
   "metadata": {},
   "outputs": [],
   "source": [
    "# compare the reconstructed signals by clusters\n",
    "\n",
    "comp_array = np.arange(num_comp)\n",
    "#comp_array = np.array([1, 2])\n",
    "\n",
    "reconstructed = np.dot(projections[:, comp_array], comp_vectors[comp_array])\n",
    "print(reconstructed.shape)\n",
    "reconstructed_copy = reconstructed.copy()\n",
    "reconstructed_reshape = []\n",
    "\n",
    "for i in range(num_img):\n",
    "    temp = reconstructed_copy[:int(data_shape_new[i, 0]*data_shape_new[i, 1]), :]\n",
    "    print(temp.shape)\n",
    "    reconstructed_copy = np.delete(reconstructed_copy, range(int(data_shape_new[i, 0]*data_shape_new[i, 1])), axis=0)\n",
    "    print(projections_copy.shape)\n",
    "    temp = np.reshape(temp, (data_shape_new[i, 0], data_shape_new[i, 1], -1))\n",
    "    print(temp.shape)\n",
    "    reconstructed_reshape.append(temp)   \n",
    "\n",
    "\n",
    "for i in range(num_img):\n",
    "    for j in range(data_shape_new[i, 0]):\n",
    "        for k in range(data_shape_new[i, 1]):\n",
    "            reconstructed_reshape[i][j, k] = warp_scale(reconstructed_reshape[i][j, k])"
   ]
  },
  {
   "cell_type": "code",
   "execution_count": null,
   "metadata": {},
   "outputs": [],
   "source": [
    "# compare the original input signals by clusters\n",
    "\n",
    "reconstructed_reshape = []\n",
    "dataset_input_copy = dataset_input.copy()\n",
    "for i in range(num_img):\n",
    "    temp = dataset_input_copy[:int(data_shape_new[i, 0]*data_shape_new[i, 1]), :]\n",
    "    dataset_input_copy = np.delete(dataset_input_copy, range(int(data_shape_new[i, 0]*data_shape_new[i, 1])), axis=0)\n",
    "    temp = np.reshape(temp, (data_shape_new[i, 0], data_shape_new[i, 1], -1))\n",
    "    reconstructed_reshape.append(temp)\n",
    "    \n",
    "for i in range(num_img):\n",
    "    for j in range(data_shape_new[i, 0]):\n",
    "        for k in range(data_shape_new[i, 1]):\n",
    "            reconstructed_reshape[i][j, k] = warp_scale(reconstructed_reshape[i][j, k])"
   ]
  },
  {
   "cell_type": "code",
   "execution_count": null,
   "metadata": {},
   "outputs": [],
   "source": [
    "# cluster vs. cluster in all individual images\n",
    "%matplotlib inline\n",
    "lines = np.zeros((num_img, num_sel, s_dim))\n",
    "\n",
    "for h in range(num_img):\n",
    "    for i in range(num_sel):\n",
    "        for j in range(data_shape_new[h, 0]):\n",
    "            for k in range(data_shape_new[h, 1]):\n",
    "                if selected[i][h][j, k] == 1:\n",
    "                    lines[h, i] += reconstructed_reshape[h][j, k]\n",
    "                    \n",
    "for h in range(num_img):            \n",
    "    for i in range(num_sel):\n",
    "        lines[h, i] = warp_scale(lines[h, i])\n",
    "            \n",
    "fig5, ax5 = plt.subplots(1, 1, figsize=(10, 10))\n",
    "k=0\n",
    "for j in range(num_img):\n",
    "    for i in range(num_sel):\n",
    "        ax5.plot(energy_range, (lines[j, -i]+k*0.3), label=\"image %d - line %d\"%(j+1, i+1), c=color_cand_4[np.random.randint(len(color_cand_4))])\n",
    "        k += 1\n",
    "ax5.grid()\n",
    "ax5.set_facecolor(\"black\")\n",
    "fig5.legend()\n",
    "fig5.tight_layout()\n",
    "plt.show()"
   ]
  },
  {
   "cell_type": "code",
   "execution_count": null,
   "metadata": {},
   "outputs": [],
   "source": [
    "plt.close(fig5)"
   ]
  },
  {
   "cell_type": "code",
   "execution_count": null,
   "metadata": {},
   "outputs": [],
   "source": [
    "# cluster vs. cluster\n",
    "%matplotlib inline\n",
    "lines = np.zeros((num_sel, s_dim))\n",
    "\n",
    "for h in range(num_img):\n",
    "    for i in range(num_sel):\n",
    "        for j in range(data_shape_new[h, 0]):\n",
    "            for k in range(data_shape_new[h, 1]):\n",
    "                if selected[i][h][j, k] == 1:\n",
    "                    lines[i] += reconstructed_reshape[h][j, k]\n",
    "                              \n",
    "for i in range(num_sel):\n",
    "    lines[i] = warp_scale(lines[i])\n",
    "            \n",
    "fig11, ax11 = plt.subplots(1, 1, figsize=(10, 10))\n",
    "\n",
    "for i in range(num_sel):\n",
    "    ax11.plot(energy_range, (lines[-i])+i*0.0, label=\"line %d\"%(i+1), c=color_cand_4[np.random.randint(len(color_cand_4))])\n",
    "ax11.grid()\n",
    "ax11.set_facecolor(\"black\")\n",
    "fig11.canvas.draw()\n",
    "fig11.legend()\n",
    "fig11.tight_layout()\n",
    "\n",
    "plt.show()"
   ]
  },
  {
   "cell_type": "code",
   "execution_count": null,
   "metadata": {},
   "outputs": [],
   "source": [
    "plt.close(fig11)"
   ]
  },
  {
   "cell_type": "code",
   "execution_count": null,
   "metadata": {},
   "outputs": [],
   "source": [
    "# cluster vs. cluster within an image\n",
    "%matplotlib qt\n",
    "lines = np.zeros((num_img, num_sel, s_dim))\n",
    "\n",
    "for h in range(num_img):\n",
    "    for i in range(num_sel):\n",
    "        for j in range(data_shape_new[h, 0]):\n",
    "            for k in range(data_shape_new[h, 1]):\n",
    "                if selected[i][h][j, k] == 1:\n",
    "                    lines[h, i] += reconstructed_reshape[h][j, k]\n",
    "                    \n",
    "for h in range(num_img):            \n",
    "    for i in range(num_sel):\n",
    "        lines[h, i] = warp_scale(lines[h, i])\n",
    "            \n",
    "fig6, ax6 = plt.subplots(1, 1, figsize=(10, 10))\n",
    "\n",
    "def img_selector(img_n):\n",
    "    ax6.cla()\n",
    "    for i in range(num_sel):\n",
    "        ax6.plot(energy_range, (lines[img_n, -i])+i*0.5, label=\"line %d\"%(i+1), c=color_cand_4[np.random.randint(len(color_cand_4))])\n",
    "    ax6.grid()\n",
    "    ax6.set_facecolor(\"black\")\n",
    "    fig6.canvas.draw()\n",
    "    fig6.legend()\n",
    "    fig6.tight_layout()\n",
    "    \n",
    "interact(img_selector, img_n=widgets.IntSlider(min=0, max=num_img-1, step=1, value=0))\n",
    "plt.show()"
   ]
  },
  {
   "cell_type": "code",
   "execution_count": null,
   "metadata": {},
   "outputs": [],
   "source": [
    "plt.close(fig6)"
   ]
  },
  {
   "cell_type": "code",
   "execution_count": null,
   "metadata": {},
   "outputs": [],
   "source": [
    "# horizontal lines\n",
    "%matplotlib qt\n",
    "line_evolve = []\n",
    "for i in range(num_img):\n",
    "    line_evolve.append(np.sum(reconstructed_reshape[i], axis=1))\n",
    "    \n",
    "line_evolve = np.asarray(line_evolve)\n",
    "#print(line_evolve[0].shape)\n",
    "\n",
    "for i in range(num_img):\n",
    "    for j in range(data_shape_new[i, 1]):\n",
    "        line_evolve[i][j] = warp_scale(line_evolve[i][j])\n",
    "        \n",
    "fig7, ax7 = plt.subplots(1, 1, figsize=(8, 12))\n",
    "ax7.tick_params(axis=\"both\", labelsize=15)\n",
    "fig8, ax8 = plt.subplots(1, 1, figsize=(8, 10))\n",
    "\n",
    "def img_selector(img_n, top, bottom):\n",
    "    ax7.cla()\n",
    "    ax8.cla()\n",
    "    print(\"top: %d\"%top)\n",
    "    print(\"bottom: %d\"%bottom)\n",
    "    if bottom > data_shape_new[img_n, 0]:\n",
    "        print(\"exceed the range of the image\")\n",
    "        \n",
    "    elif top >= bottom:\n",
    "        print(\"top must be smaller than bottom\")\n",
    "        \n",
    "    else:\n",
    "        for i in range(top, bottom, 1):\n",
    "            ax7.plot(energy_range, (line_evolve[img_n][-i]+i*(5.0)), c=color_cand_4[i], label=\"line %d\"%(i+1))\n",
    "            ax8.plot(energy_range, line_evolve[img_n][-i], c=color_cand_4[i], label=\"line %d\"%(i+1))\n",
    "    ax7.grid()\n",
    "    ax7.set_facecolor(\"black\")\n",
    "    ax8.grid()\n",
    "    ax8.set_facecolor(\"black\")\n",
    "    fig7.canvas.draw()\n",
    "    fig8.canvas.draw()\n",
    "    fig7.tight_layout()\n",
    "    fig8.tight_layout()\n",
    "\n",
    "print(data_shape_new)\n",
    "interact(img_selector, img_n=widgets.IntSlider(min=0, max=num_img-1, step=1, value=0), \n",
    "        top=widgets.IntSlider(min=0, max=np.max(data_shape_new[:, 0]), step=1, value=0), \n",
    "        bottom=widgets.IntSlider(min=0, max=np.max(data_shape_new[:, 0]), step=1, value=10))\n",
    "\n",
    "plt.show()"
   ]
  },
  {
   "cell_type": "code",
   "execution_count": null,
   "metadata": {},
   "outputs": [],
   "source": [
    "plt.close(fig7)\n",
    "plt.close(fig8)"
   ]
  },
  {
   "cell_type": "code",
   "execution_count": null,
   "metadata": {},
   "outputs": [],
   "source": [
    "# vertical lines\n",
    "%matplotlib qt\n",
    "line_evolve = []\n",
    "for i in range(num_img):\n",
    "    line_evolve.append(np.sum(reconstructed_reshape[i], axis=0))\n",
    "    \n",
    "line_evolve = np.asarray(line_evolve)\n",
    "#print(line_evolve[0].shape)\n",
    "\n",
    "for i in range(num_img):\n",
    "    for j in range(data_shape_new[i, 1]):\n",
    "        line_evolve[i][j] = warp_scale(line_evolve[i][j])\n",
    "        \n",
    "fig9, ax9 = plt.subplots(1, 1, figsize=(8, 12))\n",
    "fig10, ax10 = plt.subplots(1, 1, figsize=(8, 10))\n",
    "\n",
    "def img_selector(img_n, left, right):\n",
    "    ax9.cla()\n",
    "    ax10.cla()\n",
    "    print(\"left: %d\"%left)\n",
    "    print(\"right: %d\"%right)\n",
    "    if right > data_shape_new[img_n, 1]:\n",
    "        print(\"exceed the range of the image\")\n",
    "        \n",
    "    elif left >= right:\n",
    "        print(\"left must be smaller than right\")\n",
    "        \n",
    "    else:\n",
    "        for i in range(left, right, 1):\n",
    "            ax9.plot(energy_range, (line_evolve[img_n][-i]+i*1.0), c=color_cand_4[i], label=\"line %d\"%(i+1))\n",
    "            ax10.plot(energy_range, line_evolve[img_n][-i], c=color_cand_4[i], label=\"line %d\"%(i+1))\n",
    "    ax9.grid()\n",
    "    ax9.set_facecolor(\"black\")\n",
    "    ax10.grid()\n",
    "    ax10.set_facecolor(\"black\")\n",
    "    fig9.canvas.draw()\n",
    "    fig9.canvas.draw()\n",
    "    fig10.tight_layout()\n",
    "    fig10.tight_layout()\n",
    "\n",
    "print(data_shape_new)\n",
    "interact(img_selector, img_n=widgets.IntSlider(min=0, max=num_img-1, step=1, value=0), \n",
    "        left=widgets.IntSlider(min=0, max=np.max(data_shape_new[:, 1]), step=1, value=0), \n",
    "        right=widgets.IntSlider(min=0, max=np.max(data_shape_new[:, 1]), step=1, value=10))\n",
    "\n",
    "plt.show()"
   ]
  },
  {
   "cell_type": "code",
   "execution_count": null,
   "metadata": {},
   "outputs": [],
   "source": [
    "plt.close(fig9)\n",
    "plt.close(fig10)"
   ]
  },
  {
   "cell_type": "code",
   "execution_count": null,
   "metadata": {},
   "outputs": [],
   "source": [
    "for i in range(num_img):\n",
    "    temp = hys.signals.Signal2D(reconstructed[i])\n",
    "    temp_dm = hys.signals.Signal2D(np.rollaxis(np.rollaxis(reconstructed[i], 0, 3), 0, 3))\n",
    "    temp.save(dm_files[i][:-5]+\"_nmf_reconstructed.hdf5\")\n",
    "    temp_dm.save(dm_files[i][:-5]+\"_nmf_reconstructed_dm_import.hdf5\")"
   ]
  },
  {
   "cell_type": "code",
   "execution_count": null,
   "metadata": {},
   "outputs": [],
   "source": [
    "print(projections[0, 0])\n",
    "print(projections[0, 1])\n",
    "X = np.stack((projections[:, 1], projections[:, 2]), axis=1)\n",
    "print(X.shape)\n",
    "print(X[0])"
   ]
  },
  {
   "cell_type": "code",
   "execution_count": null,
   "metadata": {},
   "outputs": [],
   "source": [
    "# clustering using k-means\n",
    "from sklearn.cluster import KMeans\n",
    "\n",
    "k_cluster = KMeans(n_clusters=5, n_init=100, random_state=34).fit_predict(X)\n",
    "\n",
    "fig = plt.figure(figsize=(10, 10))\n",
    "plt.scatter(X[:, 0], X[:, 1], c=k_cluster, cmap=\"Accent\")\n",
    "plt.show()"
   ]
  },
  {
   "cell_type": "code",
   "execution_count": null,
   "metadata": {},
   "outputs": [],
   "source": [
    "print(k_cluster.shape)\n",
    "img_restored = np.reshape(k_cluster, (2, 69, 69))\n",
    "print(img_restored[0].shape)\n",
    "\n",
    "plt.imshow(img_restored[0], cmap=\"Accent\")\n",
    "plt.show()"
   ]
  },
  {
   "cell_type": "code",
   "execution_count": null,
   "metadata": {},
   "outputs": [],
   "source": [
    "%matplotlib nbagg\n",
    "# clustering using DBSCAN (Density-based Spatial Clustering of Applications with Noise)\n",
    "from sklearn.cluster import DBSCAN\n",
    "from sklearn import metrics\n",
    "\n",
    "db = DBSCAN(eps=0.01, min_samples=50).fit(X)\n",
    "core_samples_mask = np.zeros_like(db.labels_, dtype=bool)\n",
    "core_samples_mask[db.core_sample_indices_] = True\n",
    "labels = db.labels_\n",
    "\n",
    "# Number of clusters in labels, ignoring noise if present.\n",
    "n_clusters_ = len(set(labels)) - (1 if -1 in labels else 0)\n",
    "\n",
    "print('Estimated number of clusters: %d' % n_clusters_)\n",
    "\n",
    "# Black removed and is used for noise instead.\n",
    "unique_labels = set(labels)\n",
    "colors = [plt.cm.Spectral(each)\n",
    "          for each in np.linspace(0, 1, len(unique_labels))]\n",
    "for k, col in zip(unique_labels, colors):\n",
    "    if k == -1:\n",
    "        # Black used for noise.\n",
    "        col = [0, 0, 0, 1]\n",
    "\n",
    "    class_member_mask = (labels == k)\n",
    "\n",
    "    xy = X[class_member_mask & core_samples_mask]\n",
    "    plt.plot(xy[:, 0], xy[:, 1], 'o', markerfacecolor=tuple(col),\n",
    "             markeredgecolor='k', markersize=14)\n",
    "\n",
    "    xy = X[class_member_mask & ~core_samples_mask]\n",
    "    plt.plot(xy[:, 0], xy[:, 1], 'o', markerfacecolor=tuple(col),\n",
    "             markeredgecolor='k', markersize=6)\n",
    "\n",
    "plt.title('Estimated number of clusters: %d' % n_clusters_)\n",
    "plt.show()"
   ]
  },
  {
   "cell_type": "code",
   "execution_count": null,
   "metadata": {},
   "outputs": [],
   "source": [
    "print(type(labels))\n",
    "print(labels.shape)\n",
    "#print(labels[:500])\n",
    "img_restored = np.reshape(labels, (2, 69, 69))"
   ]
  },
  {
   "cell_type": "code",
   "execution_count": null,
   "metadata": {},
   "outputs": [],
   "source": [
    "plt.imshow(img_restored[0], cmap=\"Accent\")\n",
    "plt.show()"
   ]
  },
  {
   "cell_type": "code",
   "execution_count": null,
   "metadata": {},
   "outputs": [],
   "source": [
    "%matplotlib nbagg\n",
    "from matplotlib.widgets import EllipseSelector\n",
    "\n",
    "widget = plt.figure(figsize=(6, 10))\n",
    "ax1 = widget.add_subplot(211)\n",
    "original_plot = ax1.scatter(projections[:, 1], projections[:, 2], s=1.0, alpha=0.5, cmap=\"Accent\")\n",
    "\n",
    "ax2 = widget.add_subplot(212)\n",
    "ax2.imshow(img_storage[0], cmap=\"Accent\")\n",
    "\n",
    "def ellipse_equation(cx, cy, a, b, x, y):\n",
    "    return ((x-cx)/a)**2 + ((y-cy)/b)**2\n",
    "\n",
    "def onselect(eclick, erelease):\n",
    "    center_x = (erelease.xdata + eclick.xdata) / 2.0\n",
    "    center_y = (erelease.ydata + eclick.ydata) / 2.0\n",
    "    a = abs((erelease.xdata - eclick.xdata) / 2.0)\n",
    "    b = abs((erelease.ydata - eclick.ydata) / 2.0)\n",
    "    #print(center_x)\n",
    "    #print(center_y)\n",
    "    #print(a)\n",
    "    #print(b)\n",
    "    \n",
    "    ax1.cla()\n",
    "    temp = np.zeros(img_storage[0].size)\n",
    "    color = []\n",
    "    for i in range(len(projections[:, 1])):\n",
    "        if ellipse_equation(center_x, center_y, a, b, projections[i, 1], projections[i, 2]) <= 1:\n",
    "            #print(\"wow\")\n",
    "            temp[i] = 1\n",
    "            color.append(1)\n",
    "        else:\n",
    "            temp[i] = 0\n",
    "            color.append(0)\n",
    "    \n",
    "    ax1.scatter(projections[:, 1], projections[:, 2], s=1.0, alpha=0.5, c=color, cmap=\"Accent\")\n",
    "    selected = np.reshape(temp, (img_shape[0], img_shape[1]))\n",
    "    print(np.max(selected))\n",
    "    ax2.imshow(selected, cmap=\"gray\")\n",
    "    widget.canvas.draw()\n",
    "        \n",
    "ep = EllipseSelector(ax1, onselect, drawtype=\"line\")\n",
    "plt.show()\n",
    "#ax3 = widget.add_subplot(313)"
   ]
  },
  {
   "cell_type": "code",
   "execution_count": null,
   "metadata": {},
   "outputs": [],
   "source": [
    "# when dimensions of data are different\n",
    "data_storage_temp = []\n",
    "for adr in dm_files:\n",
    "    temp = hys.load(adr)\n",
    "    print(temp.data.shape)\n",
    "    data_storage_temp.append(temp.data)\n",
    "    \n",
    "num_img = len(data_storage_temp)\n",
    "\n",
    "shapes = []\n",
    "for arr in data_storage_temp:\n",
    "    shapes.append(list(arr.shape))\n",
    "shapes = np.asarray(shapes)\n",
    "\n",
    "img_shape = [np.min(shapes[:, 0]), np.min(shapes[:, 1]), np.min(shapes[:, 2])]\n",
    "\n",
    "data_storage = []\n",
    "for arr in data_storage_temp:\n",
    "    data_storage.append(arr[:img_shape[0], :img_shape[1], :img_shape[2]])"
   ]
  }
 ],
 "metadata": {
  "kernelspec": {
   "display_name": "Python 3",
   "language": "python",
   "name": "python3"
  },
  "language_info": {
   "codemirror_mode": {
    "name": "ipython",
    "version": 3
   },
   "file_extension": ".py",
   "mimetype": "text/x-python",
   "name": "python",
   "nbconvert_exporter": "python",
   "pygments_lexer": "ipython3",
   "version": "3.7.4"
  }
 },
 "nbformat": 4,
 "nbformat_minor": 4
}
