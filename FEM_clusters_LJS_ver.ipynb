{
 "cells": [
  {
   "cell_type": "code",
   "execution_count": 80,
   "metadata": {},
   "outputs": [],
   "source": [
    "import numpy as np\n",
    "import matplotlib.pyplot as plt\n",
    "import matplotlib.gridspec as gridspec\n",
    "from matplotlib.widgets import RectangleSelector\n",
    "#from tabulate import tabulate\n",
    "from sklearn.cluster import DBSCAN\n",
    "import tkinter.filedialog as tkf\n",
    "from scipy import optimize\n",
    "import ipywidgets as pyw"
   ]
  },
  {
   "cell_type": "code",
   "execution_count": 81,
   "metadata": {},
   "outputs": [],
   "source": [
    "# refer to https://scipy-cookbook.readthedocs.io/items/FittingData.html\n",
    "\n",
    "def gaussian(height, center_x, center_y, width_x, width_y):\n",
    "    \"\"\"Returns a gaussian function with the given parameters\"\"\"\n",
    "    width_x = float(width_x)\n",
    "    width_y = float(width_y)\n",
    "    return lambda x,y: height*np.exp(\n",
    "                -(((center_x-x)/width_x)**2+((center_y-y)/width_y)**2)/2)\n",
    "#장축이 x,y 축이 아닐 때를 표현하지 못함.\n",
    "\n",
    "def moments(data):\n",
    "    \"\"\"Returns (height, x, y, width_x, width_y)\n",
    "    the gaussian parameters of a 2D distribution by calculating its\n",
    "    moments \"\"\"\n",
    "    total = data.sum()\n",
    "    X, Y = np.indices(data.shape) # row, col\n",
    "    x = (X*data).sum()/total # row\n",
    "    y = (Y*data).sum()/total # col\n",
    "    col = data[:, int(y)]\n",
    "    width_x = np.sqrt(np.abs((np.arange(col.size)-y)**2*col).sum()/col.sum()) # row\n",
    "    row = data[int(x), :]\n",
    "    width_y = np.sqrt(np.abs((np.arange(row.size)-x)**2*row).sum()/row.sum()) # col\n",
    "    height = data.max()\n",
    "    return height, x, y, width_x, width_y\n",
    "\n",
    "\n",
    "\n",
    "def fitgaussian(data):\n",
    "    \"\"\"Returns (height, x, y, width_x, width_y)\n",
    "    the gaussian parameters of a 2D distribution found by a fit\"\"\"\n",
    "    params = moments(data)\n",
    "    errorfunction = lambda p: np.ravel(gaussian(*p)(*np.indices(data.shape)) -\n",
    "                                 data)\n",
    "    p, success = optimize.leastsq(errorfunction, params)\n",
    "    return p"
   ]
  },
  {
   "cell_type": "code",
   "execution_count": 82,
   "metadata": {},
   "outputs": [],
   "source": [
    "def gaussian_center(image, cbox_edge=0):\n",
    "    y, x = np.indices(image.shape)\n",
    "    if not cbox_edge:\n",
    "        center = np.array([(y.max()-y.min())/2.0, (x.max()-x.min())/2.0])\n",
    "        \n",
    "    else:\n",
    "        cbox_outy = int(image.shape[0]/2 - cbox_edge/2)\n",
    "        cbox_outx = int(image.shape[1]/2 - cbox_edge/2)\n",
    "        center_box = image[cbox_outy:-cbox_outy, cbox_outx:-cbox_outx]\n",
    "        fit_params = fitgaussian(center_box)\n",
    "        (_, center_y, center_x, _, _) = fit_params\n",
    "        center = [center_y+cbox_outy, center_x+cbox_outx]\n",
    "        \n",
    "    return center"
   ]
  },
  {
   "cell_type": "code",
   "execution_count": 83,
   "metadata": {},
   "outputs": [],
   "source": [
    "def remove_center_beam(image, center=None, cb_rad=0):\n",
    "    y, x = np.indices(image.shape)\n",
    "    if not center:\n",
    "        center = np.array([(y.max()-y.min())/2.0, (x.max()-x.min())/2.0])\n",
    "        \n",
    "    r = np.hypot(y - center[0], x - center[1])\n",
    "    r = np.around(r)\n",
    "    ri = np.where(r<=cb_rad)\n",
    "    #print(ri[0].shape)\n",
    "    \n",
    "    image[ri] = 0\n",
    "    \n",
    "    return image"
   ]
  },
  {
   "cell_type": "code",
   "execution_count": 84,
   "metadata": {},
   "outputs": [],
   "source": [
    "# refer to github.com/mkolopanis/python/blob/master/radialProfile.py\n",
    "\n",
    "def radial_variance(image, profile_resolution=1.0, center=None):\n",
    "   \n",
    "    y, x = np.indices(image.shape) * profile_resolution\n",
    "    if not center:\n",
    "        center = np.array([(y.max()-y.min())/2.0, (x.max()-x.min())/2.0])\n",
    "        \n",
    "    r = np.hypot(y - center[0]*profile_resolution, x - center[1]*profile_resolution)\n",
    "    #plt.imshow(r, cmap=\"Accent\")\n",
    "    #plt.show()\n",
    "\n",
    "    # Get sorted radii\n",
    "    ind = np.argsort(r.flat)\n",
    "    r_sorted = r.flat[ind]\n",
    "    i_sorted = image.flat[ind]\n",
    "\n",
    "    # Get the integer part of the radii (bin size = 1)\n",
    "    r_int = np.around(r_sorted)\n",
    "\n",
    "    # Find all pixels that fall within each radial bin.\n",
    "    deltar = r_int[1:] - r_int[:-1]  # Assumes all radii represented\n",
    "    rind = np.where(deltar)[0]       # location of changed radius\n",
    "    nr = rind[1:] - rind[:-1]        # number of radius bin\n",
    "    \n",
    "    csim = np.cumsum(i_sorted, dtype=float)\n",
    "    sq_csim = np.cumsum(np.square(i_sorted), dtype=float)\n",
    "    \n",
    "    #plt.plot(np.square(csim), c=\"red\")\n",
    "    #plt.plot(sq_csim, c=\"blue\")\n",
    "    \n",
    "    avg_square = np.square((csim[rind[1:]] - csim[rind[:-1]]) / nr)\n",
    "    square_avg = (sq_csim[rind[1:]] - sq_csim[rind[:-1]]) / nr\n",
    "    \n",
    "    #plt.plot(avg_square[20:], c=\"red\")\n",
    "    #plt.plot(square_avg[20:], c=\"blue\")\n",
    "    \n",
    "    mask = avg_square.copy()\n",
    "    mask[np.where(avg_square==0)] = 1.0\n",
    "    radial_var = (square_avg - avg_square) / mask\n",
    "    \n",
    "    return radial_var    "
   ]
  },
  {
   "cell_type": "code",
   "execution_count": 85,
   "metadata": {},
   "outputs": [],
   "source": [
    "def load_binary_4D_stack(img_adr, datatype, original_shape, final_shape, log_scale=False):\n",
    "    raw_stack = np.fromfile(img_adr, dtype=datatype)\n",
    "    stack = raw_stack.reshape(original_shape)\n",
    "    print(stack.shape)\n",
    "    if log_scale:\n",
    "        stack = np.log(stack[:final_shape[0], :final_shape[1], :final_shape[2], :final_shape[3]])\n",
    "    else:\n",
    "        stack = stack[:final_shape[0], :final_shape[1], :final_shape[2], :final_shape[3]]\n",
    "    \n",
    "    print(stack.shape) \n",
    "    return stack"
   ]
  },
  {
   "cell_type": "code",
   "execution_count": 86,
   "metadata": {},
   "outputs": [
    {
     "name": "stdout",
     "output_type": "stream",
     "text": [
      "E:/4DSTEM_Tomography/DGIST 20190925/REF_40nm_03/scan_x256_y256.raw\n"
     ]
    }
   ],
   "source": [
    "#raw_adr = tkf.askopenfilename()\n",
    "raw_adr = \"E:/4DSTEM_Tomography/DGIST 20190925/REF_40nm_03/scan_x256_y256.raw\"\n",
    "print(raw_adr)"
   ]
  },
  {
   "cell_type": "code",
   "execution_count": 87,
   "metadata": {},
   "outputs": [],
   "source": [
    "datatype = \"float32\"\n",
    "o_shape = (256, 256, 130, 128)\n",
    "f_shape = (256, 256, 128, 128)"
   ]
  },
  {
   "cell_type": "code",
   "execution_count": 88,
   "metadata": {},
   "outputs": [
    {
     "name": "stdout",
     "output_type": "stream",
     "text": [
      "(256, 256, 130, 128)\n",
      "(256, 256, 128, 128)\n",
      "2487695.0\n",
      "1206.0\n",
      "11237.69\n"
     ]
    }
   ],
   "source": [
    "# load a data\n",
    "stack_4d = load_binary_4D_stack(raw_adr, datatype, o_shape, f_shape, log_scale=False)\n",
    "print(np.max(stack_4d))\n",
    "print(np.min(stack_4d))\n",
    "print(np.mean(stack_4d))\n",
    "#print(np.median(stack_4d))"
   ]
  },
  {
   "cell_type": "code",
   "execution_count": 89,
   "metadata": {},
   "outputs": [],
   "source": [
    "%matplotlib qt"
   ]
  },
  {
   "cell_type": "code",
   "execution_count": 90,
   "metadata": {},
   "outputs": [
    {
     "name": "stdout",
     "output_type": "stream",
     "text": [
      "startposition: (130.796542, 106.684695)\n",
      "endposition  : (160.465416, 135.882634)\n"
     ]
    }
   ],
   "source": [
    "# select an interesting area\n",
    "#%matplotlib qt\n",
    "fig, ax = plt.subplots(1, 1, figsize=(10, 10))\n",
    "ax.imshow(np.sum(stack_4d, axis=(2, 3)), cmap=\"gray\")\n",
    "\n",
    "def onselect(eclick, erelease):\n",
    "    print('startposition: (%f, %f)' % (eclick.xdata, eclick.ydata))\n",
    "    print('endposition  : (%f, %f)' % (erelease.xdata, erelease.ydata))\n",
    "\n",
    "box = RectangleSelector(ax, onselect)\n",
    "plt.show()"
   ]
  },
  {
   "cell_type": "code",
   "execution_count": 91,
   "metadata": {},
   "outputs": [
    {
     "name": "stdout",
     "output_type": "stream",
     "text": [
      "(29, 30, 128, 128)\n",
      "1174495.0\n",
      "1418.0\n",
      "9408.237\n"
     ]
    }
   ],
   "source": [
    "# crop the data\n",
    "stack_4d_cropped = stack_4d[int(box.corners[1][0]):int(box.corners[1][2]), \n",
    "                                           int(box.corners[0][0]):int(box.corners[0][1])].copy()\n",
    "print(stack_4d_cropped.shape)\n",
    "print(np.max(stack_4d_cropped))\n",
    "print(np.min(stack_4d_cropped))\n",
    "print(np.mean(stack_4d_cropped))\n",
    "#print(np.median(stack_4d_cropped))"
   ]
  },
  {
   "cell_type": "code",
   "execution_count": 92,
   "metadata": {},
   "outputs": [],
   "source": [
    "%matplotlib inline"
   ]
  },
  {
   "cell_type": "code",
   "execution_count": 93,
   "metadata": {},
   "outputs": [
    {
     "name": "stdout",
     "output_type": "stream",
     "text": [
      "(29, 30, 2)\n",
      "[64.26413837 63.99368775]\n"
     ]
    },
    {
     "data": {
      "image/png": "[encoded data removed]",
      "text/plain": [
       "<Figure size 432x288 with 1 Axes>"
      ]
     },
     "metadata": {
      "needs_background": "light"
     },
     "output_type": "display_data"
    },
    {
     "data": {
      "image/png": "[encoded data removed]",
      "text/plain": [
       "<Figure size 432x288 with 1 Axes>"
      ]
     },
     "metadata": {
      "needs_background": "light"
     },
     "output_type": "display_data"
    }
   ],
   "source": [
    "# find center position\n",
    "center_pos = []\n",
    "for i in range(stack_4d_cropped.shape[0]):\n",
    "    for j in range(stack_4d_cropped.shape[1]):\n",
    "        center_pos.append(gaussian_center(stack_4d_cropped[i, j], cbox_edge=30))\n",
    "        \n",
    "center_pos = np.asarray(center_pos)\n",
    "center_pos = np.reshape(center_pos, (stack_4d_cropped.shape[0], stack_4d_cropped.shape[1], -1))\n",
    "print(center_pos.shape)\n",
    "center_mean = np.mean(center_pos, axis=(0, 1))\n",
    "print(center_mean)\n",
    "\n",
    "# center distibution\n",
    "plt.figure()\n",
    "plt.hist(center_pos[:, :, 0].flatten(), bins=100, density=True, color=\"orange\", label=\"center y position\")\n",
    "plt.hist(center_pos[:, :, 1].flatten(), bins=100, density=True, color=\"gray\", alpha=0.5, label=\"center x position\")\n",
    "plt.grid()\n",
    "plt.legend()\n",
    "plt.show()\n",
    "\n",
    "plt.figure()\n",
    "plt.scatter(center_pos[:, :, 1], center_pos[:, :, 0], s=10.0, alpha=0.5)\n",
    "plt.grid()\n",
    "plt.scatter(center_mean[1], center_mean[0], s=20, c=\"red\")\n",
    "plt.xlabel(\"center x position\", fontsize=20)\n",
    "plt.ylabel(\"center y position\", fontsize=20)\n",
    "plt.show()"
   ]
  },
  {
   "cell_type": "code",
   "execution_count": 94,
   "metadata": {},
   "outputs": [
    {
     "name": "stdout",
     "output_type": "stream",
     "text": [
      "48819.0\n",
      "0.0\n",
      "4915.0337\n"
     ]
    }
   ],
   "source": [
    "# remove center beam\n",
    "stack_4d_cropped_cb = stack_4d_cropped.copy()\n",
    "center_radius = 20\n",
    "for i in range(stack_4d_cropped.shape[0]):\n",
    "    for j in range(stack_4d_cropped.shape[1]):\n",
    "        stack_4d_cropped[i, j] = remove_center_beam(stack_4d_cropped[i, j], \n",
    "                                                    center=center_mean.tolist(), cb_rad=center_radius)\n",
    "print(np.max(stack_4d_cropped))\n",
    "print(np.min(stack_4d_cropped))\n",
    "print(np.mean(stack_4d_cropped))\n",
    "#print(np.median(stack_4d_cropped))"
   ]
  },
  {
   "cell_type": "code",
   "execution_count": 95,
   "metadata": {},
   "outputs": [],
   "source": [
    "def remove_unimportant(image, inner_r, outer_r, center=None):\n",
    "    y, x = np.indices(image.shape)\n",
    "    if not center:\n",
    "        center = np.array([(y.max()-y.min())/2.0, (x.max()-x.min())/2.0]) \n",
    "    r = np.hypot(y - center[0], x - center[1])\n",
    "    r = np.around(r)\n",
    "    ri = np.where(r<inner_r)\n",
    "    image[ri] = 0\n",
    "    ri = np.where(r>outer_r)\n",
    "    image[ri] = 0\n",
    "    return image\n",
    "\n",
    "stack_4d_peakrange = stack_4d_cropped.copy()\n",
    "inner_radius = 21\n",
    "outer_radius = 33\n",
    "for i in range(stack_4d_cropped.shape[0]):\n",
    "    for j in range(stack_4d_cropped.shape[1]):\n",
    "        temp = remove_unimportant(stack_4d_peakrange[i, j], inner_radius, outer_radius, center=center_mean.tolist())\n",
    "        normalization_coeff = np.sum(temp*temp)**0.5\n",
    "        stack_4d_peakrange[i, j] = temp/normalization_coeff\n",
    "        "
   ]
  },
  {
   "cell_type": "code",
   "execution_count": 96,
   "metadata": {},
   "outputs": [
    {
     "name": "stdout",
     "output_type": "stream",
     "text": [
      "(29, 30, 90)\n",
      "(90,)\n"
     ]
    },
    {
     "data": {
      "image/png": "[encoded data removed]",
      "text/plain": [
       "<Figure size 720x720 with 1 Axes>"
      ]
     },
     "metadata": {
      "needs_background": "light"
     },
     "output_type": "display_data"
    }
   ],
   "source": [
    "# calculate variance with all angles at a certain k\n",
    "radial_var_stack = []\n",
    "len_profile = []\n",
    "for i in range(stack_4d_cropped.shape[0]):\n",
    "    for j in range(stack_4d_cropped.shape[1]):\n",
    "        radial_temp = radial_variance(stack_4d_cropped[i, j], center=center_mean.tolist())\n",
    "        len_profile.append(len(radial_temp))\n",
    "        radial_var_stack.append(radial_temp)\n",
    "\n",
    "if len(np.unique(len_profile)) > 1:\n",
    "    print(np.unique(len_profile))\n",
    "    shortest = np.min(len_profile)\n",
    "    for i in range(len(len_profile)):\n",
    "        radial_var_stack[i] = radial_var_stack[i][:shortest]\n",
    "\n",
    "radial_var_stack = np.asarray(radial_var_stack).reshape(stack_4d_cropped.shape[0], stack_4d_cropped.shape[1], -1)\n",
    "print(radial_var_stack.shape)\n",
    "\n",
    "radial_var_sum = np.sum(radial_var_stack, axis=(0, 1))\n",
    "print(radial_var_sum.shape)\n",
    "\n",
    "plt.figure(figsize=(10,10))\n",
    "plt.plot(radial_var_sum)\n",
    "plt.grid()\n",
    "plt.show()"
   ]
  },
  {
   "cell_type": "code",
   "execution_count": 97,
   "metadata": {},
   "outputs": [],
   "source": [
    "%matplotlib inline"
   ]
  },
  {
   "cell_type": "code",
   "execution_count": 98,
   "metadata": {},
   "outputs": [
    {
     "data": {
      "image/png": "[encoded data removed]",
      "text/plain": [
       "<Figure size 360x360 with 1 Axes>"
      ]
     },
     "metadata": {
      "needs_background": "light"
     },
     "output_type": "display_data"
    }
   ],
   "source": [
    "radii = np.arange(len(radial_var_sum))\n",
    "#pacbed = np.mean(stack_4d_cropped, axis=(0, 1))\n",
    "pacbed = np.log(np.mean(stack_4d_cropped_cb, axis=(0, 1)))\n",
    "fig, ax = plt.subplots(1, 1, figsize=(5, 5))\n",
    "ax.imshow(pacbed, cmap=\"afmhot\")\n",
    "ax.axis(\"off\")\n",
    "plt.show()"
   ]
  },
  {
   "cell_type": "code",
   "execution_count": 99,
   "metadata": {},
   "outputs": [],
   "source": [
    "k1 = 27\n",
    "k2 = 29\n",
    "p1 = 90.0\n",
    "p2 = 99.9\n",
    "v1 = np.percentile(radial_var_stack[:, :, k1:(k2+1)], p1)\n",
    "v2 = np.percentile(radial_var_stack[:, :, k1:(k2+1)], p2)"
   ]
  },
  {
   "cell_type": "code",
   "execution_count": 100,
   "metadata": {},
   "outputs": [
    {
     "data": {
      "image/png": "[encoded data removed]",
      "text/plain": [
       "<Figure size 576x288 with 2 Axes>"
      ]
     },
     "metadata": {
      "needs_background": "light"
     },
     "output_type": "display_data"
    }
   ],
   "source": [
    "masked = radial_var_stack[:, :, k1:(k2+1)].copy()\n",
    "img_tmp = np.ones_like(masked)\n",
    "img_tmp[np.where(masked < v1)] = 0\n",
    "img_tmp[np.where(masked > v2)] = 0\n",
    "img = np.sum(img_tmp, axis=2)\n",
    "bool_img = np.zeros_like(img)\n",
    "bool_img[np.where(img != 0)] = 1\n",
    "\n",
    "fig, ax = plt.subplots(1, 2, figsize=(8, 4))\n",
    "ax[0].imshow(img, cmap=\"afmhot\")\n",
    "ax[0].axis(\"off\")\n",
    "ax[1].imshow(bool_img, cmap=\"afmhot\")\n",
    "ax[1].axis(\"off\")\n",
    "plt.show()"
   ]
  },
  {
   "cell_type": "code",
   "execution_count": 101,
   "metadata": {},
   "outputs": [
    {
     "name": "stdout",
     "output_type": "stream",
     "text": [
      "number of clusters = 13\n",
      "[ 0  1  2  3  4  5  6  7  8  9 10 11 12]\n"
     ]
    },
    {
     "data": {
      "image/png": "[encoded data removed]",
      "text/plain": [
       "<Figure size 720x288 with 4 Axes>"
      ]
     },
     "metadata": {
      "needs_background": "light"
     },
     "output_type": "display_data"
    }
   ],
   "source": [
    "\n",
    "min_num = 4\n",
    "epsilon = 2**(1/2)\n",
    "db = DBSCAN(eps=epsilon, min_samples=min_num)\n",
    "sel_coor = np.nonzero(bool_img)\n",
    "X = np.stack((sel_coor[0], sel_coor[1]), axis=1)\n",
    "db.fit(X)\n",
    "img_tmp = np.zeros_like(bool_img)\n",
    "img_tmp += -1\n",
    "img_tmp[X[:, 0], X[:, 1]] = db.labels_\n",
    "labeled_cluster_img = img_tmp.copy()\n",
    "cluster_img = np.where(img_tmp<0, img_tmp, 1)\n",
    "cluster_img = np.where(cluster_img>-1, bool_img, 0)  #왜 두 줄에 걸쳐 한것?\n",
    "\n",
    "label = np.unique(db.labels_)[1:]\n",
    "print(\"number of clusters = %d\"%(len(label)))\n",
    "print(label)\n",
    "\n",
    "fig, ax = plt.subplots(1, 4, figsize=(10, 4))\n",
    "ax[0].imshow(img, cmap=\"afmhot\")\n",
    "ax[0].axis(\"off\")\n",
    "ax[1].imshow(bool_img, cmap=\"afmhot\")\n",
    "ax[1].axis(\"off\")\n",
    "ax[2].imshow(cluster_img, cmap=\"afmhot\")\n",
    "ax[2].axis(\"off\")\n",
    "ax[3].imshow(labeled_cluster_img, cmap=\"Accent\")\n",
    "ax[3].axis(\"off\")\n",
    "plt.show()\n"
   ]
  },
  {
   "cell_type": "code",
   "execution_count": 102,
   "metadata": {},
   "outputs": [
    {
     "data": {
      "image/png": "[encoded data removed]",
      "text/plain": [
       "<Figure size 360x360 with 2 Axes>"
      ]
     },
     "metadata": {
      "needs_background": "light"
     },
     "output_type": "display_data"
    }
   ],
   "source": [
    "%matplotlib inline\n",
    "\n",
    "fig, ax = plt.subplots(1, 2, figsize=(5, 5))\n",
    "ax[0].imshow(cluster_img, cmap=\"afmhot\")\n",
    "ax[0].axis(\"off\")\n",
    "ax[1].imshow(labeled_cluster_img, cmap=\"plasma\")\n",
    "ax[1].axis(\"off\")\n",
    "plt.show()"
   ]
  },
  {
   "cell_type": "code",
   "execution_count": 203,
   "metadata": {
    "scrolled": true
   },
   "outputs": [
    {
     "name": "stdout",
     "output_type": "stream",
     "text": [
      "None\n",
      "None\n",
      "alt\n",
      "alt\n",
      "alt\n",
      "alt\n"
     ]
    },
    {
     "name": "stderr",
     "output_type": "stream",
     "text": [
      "Traceback (most recent call last):\n",
      "  File \"C:\\Users\\user\\Anaconda3\\envs\\ML\\lib\\site-packages\\matplotlib\\cbook\\__init__.py\", line 216, in process\n",
      "    func(*args, **kwargs)\n",
      "  File \"<ipython-input-203-924730d67c14>\", line 87, in onclick\n",
      "    ax[1,1].size()\n",
      "AttributeError: 'AxesSubplot' object has no attribute 'size'\n",
      "Traceback (most recent call last):\n",
      "  File \"C:\\Users\\user\\Anaconda3\\envs\\ML\\lib\\site-packages\\matplotlib\\cbook\\__init__.py\", line 216, in process\n",
      "    func(*args, **kwargs)\n",
      "  File \"<ipython-input-203-924730d67c14>\", line 87, in onclick\n",
      "    ax[1,1].size()\n",
      "AttributeError: 'AxesSubplot' object has no attribute 'size'\n"
     ]
    },
    {
     "name": "stdout",
     "output_type": "stream",
     "text": [
      "alt\n",
      "alt\n"
     ]
    },
    {
     "name": "stderr",
     "output_type": "stream",
     "text": [
      "Traceback (most recent call last):\n",
      "  File \"C:\\Users\\user\\Anaconda3\\envs\\ML\\lib\\site-packages\\matplotlib\\cbook\\__init__.py\", line 216, in process\n",
      "    func(*args, **kwargs)\n",
      "  File \"<ipython-input-203-924730d67c14>\", line 87, in onclick\n",
      "    ax[1,1].size()\n",
      "AttributeError: 'AxesSubplot' object has no attribute 'size'\n"
     ]
    },
    {
     "name": "stdout",
     "output_type": "stream",
     "text": [
      "alt\n",
      "alt\n",
      "alt\n",
      "alt\n"
     ]
    },
    {
     "name": "stderr",
     "output_type": "stream",
     "text": [
      "Traceback (most recent call last):\n",
      "  File \"C:\\Users\\user\\Anaconda3\\envs\\ML\\lib\\site-packages\\matplotlib\\cbook\\__init__.py\", line 216, in process\n",
      "    func(*args, **kwargs)\n",
      "  File \"<ipython-input-203-924730d67c14>\", line 87, in onclick\n",
      "    ax[1,1].size()\n",
      "AttributeError: 'AxesSubplot' object has no attribute 'size'\n",
      "Traceback (most recent call last):\n",
      "  File \"C:\\Users\\user\\Anaconda3\\envs\\ML\\lib\\site-packages\\matplotlib\\cbook\\__init__.py\", line 216, in process\n",
      "    func(*args, **kwargs)\n",
      "  File \"<ipython-input-203-924730d67c14>\", line 87, in onclick\n",
      "    ax[1,1].size()\n",
      "AttributeError: 'AxesSubplot' object has no attribute 'size'\n"
     ]
    },
    {
     "name": "stdout",
     "output_type": "stream",
     "text": [
      "alt\n",
      "alt\n"
     ]
    },
    {
     "name": "stderr",
     "output_type": "stream",
     "text": [
      "Traceback (most recent call last):\n",
      "  File \"C:\\Users\\user\\Anaconda3\\envs\\ML\\lib\\site-packages\\matplotlib\\cbook\\__init__.py\", line 216, in process\n",
      "    func(*args, **kwargs)\n",
      "  File \"<ipython-input-203-924730d67c14>\", line 87, in onclick\n",
      "    ax[1,1].size()\n",
      "AttributeError: 'AxesSubplot' object has no attribute 'size'\n"
     ]
    },
    {
     "name": "stdout",
     "output_type": "stream",
     "text": [
      "None\n",
      "alt\n",
      "alt\n",
      "alt\n",
      "alt\n"
     ]
    },
    {
     "name": "stderr",
     "output_type": "stream",
     "text": [
      "Traceback (most recent call last):\n",
      "  File \"C:\\Users\\user\\Anaconda3\\envs\\ML\\lib\\site-packages\\matplotlib\\cbook\\__init__.py\", line 216, in process\n",
      "    func(*args, **kwargs)\n",
      "  File \"<ipython-input-203-924730d67c14>\", line 87, in onclick\n",
      "    ax[1,1].size()\n",
      "AttributeError: 'AxesSubplot' object has no attribute 'size'\n",
      "Traceback (most recent call last):\n",
      "  File \"C:\\Users\\user\\Anaconda3\\envs\\ML\\lib\\site-packages\\matplotlib\\cbook\\__init__.py\", line 216, in process\n",
      "    func(*args, **kwargs)\n",
      "  File \"<ipython-input-203-924730d67c14>\", line 87, in onclick\n",
      "    ax[1,1].size()\n",
      "AttributeError: 'AxesSubplot' object has no attribute 'size'\n",
      "Traceback (most recent call last):\n",
      "  File \"C:\\Users\\user\\Anaconda3\\envs\\ML\\lib\\site-packages\\matplotlib\\cbook\\__init__.py\", line 216, in process\n",
      "    func(*args, **kwargs)\n",
      "  File \"<ipython-input-203-924730d67c14>\", line 21, in onclick\n",
      "    ( px, py ) =  event.xdata.astype(int), event.ydata.astype(int)\n",
      "AttributeError: 'NoneType' object has no attribute 'astype'\n"
     ]
    }
   ],
   "source": [
    "%matplotlib qt\n",
    "fig, ax = plt.subplots(2,2, figsize=(12, 12))\n",
    "\n",
    "im00 = ax[0,0].imshow(cluster_img, cmap=\"afmhot\")\n",
    "ax[0,0].set_title(\"Selected label image\")\n",
    "im01 = ax[0,1].imshow(img, cmap=\"afmhot\")\n",
    "ax[0,1].set_title(\"Image\")\n",
    "im10 = ax[1,0].imshow(stack_4d_cropped[0,0,:,:], cmap=\"afmhot\")\n",
    "ax[1,0].set_title(\"DP of \")\n",
    "im11 = ax[1,1].plot([1,2])\n",
    "ax[1,1].set_title(\"Press shift or alt key and click image\")\n",
    "\n",
    "    \n",
    "summing_radius = 0\n",
    "click_px = 0\n",
    "click_py = 0\n",
    "selected_pixel = np.empty((1,2),'int')\n",
    "\n",
    "def onclick(event):\n",
    "    #collect event data\n",
    "    ( px, py ) =  event.xdata.astype(int), event.ydata.astype(int)\n",
    "    ptcl_label = labeled_cluster_img[py,px]  # xy squence ?\n",
    "    #print(\"particle label : %d\"%ptcl_label) \n",
    "    #collect global data\n",
    "    global click_px, click_py, summing_radius, selected_pixel\n",
    "    print(event.key)\n",
    "\n",
    "    \n",
    "    if event.key == 'control': # with pressing ctrl key --> add or delete selected pixel\n",
    "        exist = -1\n",
    "        for i in range(len(selected_pixel)):\n",
    "            if selected_pixel[i,0]==px and selected_pixel[i,1]==py:\n",
    "                exist=i\n",
    "        if exist!=-1: selected_pixel = np.delete(selected_pixel,[exist,exist],axis=0)\n",
    "        else:         selected_pixel = np.append(selected_pixel,[[px,py]],axis=0)\n",
    "\n",
    "            \n",
    "    else:   # selecting pixel with mouse click\n",
    "        selected_pixel = np.asarray([[px,py]],\"int\")\n",
    "        if event.dblclick ==1 and ptcl_label>-1:\n",
    "            selected_pixel = X[np.where(db.labels_==ptcl_label)][:,[1,0]]  \n",
    "        elif click_px == px and click_py == py :\n",
    "            summing_radius +=1\n",
    "            #print(\"%dth same point\"% summing_radius)\n",
    "            selected_pixel = np.stack(np.meshgrid(range(-summing_radius,summing_radius+1),range(-summing_radius,summing_radius+1)),\n",
    "                                  axis=2).reshape((2*summing_radius+1)**2,2) + [px,py]   \n",
    "        else: summing_radius = 0 \n",
    "    click_px = px\n",
    "    click_py = py\n",
    "    \n",
    "        \n",
    "    #유사도 측정 keydown \"SHIFT\"   \n",
    "    if event.key =='shift':\n",
    "        print(event.key)\n",
    "        summed_pDP = np.zeros((128,128))\n",
    "        for x, y in selected_pixel:  \n",
    "            summed_pDP += stack_4d_peakrange[y,x,:,:]\n",
    "        avg_pDP = summed_pDP/len(selected_pixel)\n",
    "        \n",
    "        similarity = cluster_img.copy()\n",
    "        for x, y in selected_pixel:  \n",
    "            similarity[y,x] = (np.sum(stack_4d_peakrange[py,px,:,:]*stack_4d_peakrange[y,x,:,:])-0.89)*100\n",
    "            print(similarity[py,px])\n",
    "        im10 = ax[1,1].imshow(similarity, cmap=\"afmhot\")\n",
    "    \n",
    "    #픽셀별 그래프 그리기\n",
    "    if event.key == 'alt':\n",
    "        print(event.key)\n",
    "        a=(29)*np.exp(np.linspace(0, np.pi*2, 500)*1j)+center_mean[0]+center_mean[1]*1j\n",
    "        b = np.real(a).astype(int)\n",
    "        bw= 1-(np.real(a)-b)\n",
    "        c = np.imag(a).astype(int)\n",
    "        cw= 1-(np.imag(a)-c)\n",
    "        count = 0\n",
    "        length = len(selected_pixel)\n",
    "        \n",
    "        ax[1,1].cla()\n",
    "        for x,y in selected_pixel:\n",
    "            count+=1\n",
    "            img1 = stack_4d_cropped[y,x,:,:]\n",
    "            theta_expand = np.zeros(500)\n",
    "            theta_expand = img1[b,c]*bw*cw + img1[b+1,c]*(1-bw)*cw + img1[b,c+1]*bw*(1-cw) + img1[b+1,c+1]*(1-bw)*(1-cw)\n",
    "            ax[1,1].plot(theta_expand, c=plt.cm.rainbow(count/length), label = '%s'%count)\n",
    "    \n",
    "        ax[1,1].set_title(\"Intensity(theta) plot with varing pixel\")\n",
    "        ax[1,1].legend(fontsize='xx-small')\n",
    "        ax[1,1].size()\n",
    "        \n",
    "    \n",
    "    #imaging\n",
    "    ax[0,0].cla()\n",
    "    ax[0,1].cla()\n",
    "    selected_cluster_img = cluster_img.copy()\n",
    "    selected_img         = img.copy()\n",
    "    for px, py in selected_pixel:  \n",
    "        selected_cluster_img[py,px] = 0.65 if selected_cluster_img[py,px] == 1 else 0.4\n",
    "        selected_img[py,px]         = 5\n",
    "    im00 = ax[0,0].imshow(selected_cluster_img, cmap=\"afmhot\")\n",
    "    ax[0,0].set_title(\"Selected cluster image\")\n",
    "    im01 = ax[0,1].imshow(selected_img, cmap=\"afmhot\")\n",
    "    ax[0,1].set_title(\"Selected image\")\n",
    "    \n",
    "    ax[1,0].cla()\n",
    "    summed_DP = np.zeros((128,128))\n",
    "    for px, py in selected_pixel:  \n",
    "        summed_DP += stack_4d_cropped[py,px,:,:]\n",
    "    im10 = ax[1,0].imshow(summed_DP, cmap=\"afmhot\")\n",
    "    ax[1,0].set_title(\"DP at %d, %d\"%(px,py))\n",
    "    fig.canvas.draw() \n",
    "    \n",
    "    return\n",
    "\n",
    "\n",
    "\n",
    "cid = fig.canvas.mpl_connect('button_press_event', onclick)\n",
    "\n"
   ]
  },
  {
   "cell_type": "code",
   "execution_count": 115,
   "metadata": {},
   "outputs": [
    {
     "data": {
      "text/plain": [
       "<matplotlib.image.AxesImage at 0x2432ebc1248>"
      ]
     },
     "execution_count": 115,
     "metadata": {},
     "output_type": "execute_result"
    }
   ],
   "source": [
    "\n",
    "img1 = stack_4d_peakrange[20,20,:,:]\n",
    "img2 = stack_4d_peakrange[20,21,:,:]\n",
    "plt.imshow(img2,cmap='afmhot')"
   ]
  },
  {
   "cell_type": "code",
   "execution_count": 196,
   "metadata": {},
   "outputs": [
    {
     "data": {
      "text/plain": [
       "<matplotlib.image.AxesImage at 0x241e42a9448>"
      ]
     },
     "execution_count": 196,
     "metadata": {},
     "output_type": "execute_result"
    }
   ],
   "source": [
    "\n",
    "\n",
    "img4 = np.zeros((128,128))\n",
    "\n",
    "for i in range(20):\n",
    "\n",
    "    a=(40+i)*np.exp(np.linspace(0, np.pi*2,100000)*1j)+center_mean[0]+center_mean[1]*1j\n",
    "    b = np.real(a).astype(int)\n",
    "    bw= 1-(np.real(a)-b)\n",
    "    c = np.imag(a).astype(int)\n",
    "    cw= 1-(np.imag(a)-c)\n",
    "    img4[b,c]     += bw*cw\n",
    "    img4[b+1,c]   += (1-bw)*cw\n",
    "    img4[b,c+1]   += bw*(1-cw)\n",
    "    img4[b+1,c+1] += (1-bw)*(1-cw)\n",
    "plt.imshow(img4,cmap='afmhot')\n"
   ]
  },
  {
   "cell_type": "code",
   "execution_count": 198,
   "metadata": {},
   "outputs": [],
   "source": [
    "# I(theta) with k variation\n",
    "%matplotlib qt\n",
    "fig, ax = plt.subplots(2,1, figsize=(18, 12))\n",
    "\n",
    "img1 = stack_4d_cropped[15,20,:,:]\n",
    "\n",
    "for i in range(23,34):\n",
    "    a=(i)*np.exp(np.linspace(0, np.pi*2,500)*1j)+center_mean[0]+center_mean[1]*1j\n",
    "    b = np.real(a).astype(int)\n",
    "    bw= 1-(np.real(a)-b)\n",
    "    c = np.imag(a).astype(int)\n",
    "    cw= 1-(np.imag(a)-c)\n",
    "\n",
    "    theta_expand = np.zeros(500)\n",
    "    theta_expand = img1[b,c]*bw*cw + img1[b+1,c]*(1-bw)*cw + img1[b,c+1]*bw*(1-cw) + img1[b+1,c+1]*(1-bw)*(1-cw)\n",
    "    ax[1].plot(theta_expand, c=plt.cm.rainbow(0.1*(i-23)), label = '%s'%i)\n",
    "             \n",
    "\n",
    "\n",
    "\n",
    "im0 = ax[0].imshow(img1, cmap=\"afmhot\")\n",
    "ax[0].set_title(\"DP\")\n",
    "ax[1].set_title(\"Image\")\n",
    "ax[1].legend(fontsize='xx-small')\n",
    "fig.show()\n"
   ]
  },
  {
   "cell_type": "code",
   "execution_count": 197,
   "metadata": {},
   "outputs": [],
   "source": [
    "# I(theta) with position variation\n",
    "\n",
    "\n",
    "\n",
    "%matplotlib qt\n",
    "fig, ax = plt.subplots(2,1, figsize=(18, 12))\n",
    "\n",
    "img1 = stack_4d_cropped[15,20,:,:]\n",
    "\n",
    "\n",
    "a=(29)*np.exp(np.linspace(0, np.pi*2, 500)*1j)+center_mean[0]+center_mean[1]*1j\n",
    "b = np.real(a).astype(int)\n",
    "bw= 1-(np.real(a)-b)\n",
    "c = np.imag(a).astype(int)\n",
    "cw= 1-(np.imag(a)-c)\n",
    "count = 0\n",
    "length = len(selected_pixel)\n",
    "\n",
    "for x,y in selected_pixel:\n",
    "    count+=1\n",
    "    img1 = stack_4d_cropped[y,x,:,:]\n",
    "    theta_expand = np.zeros(500)\n",
    "    theta_expand = img1[b,c]*bw*cw + img1[b+1,c]*(1-bw)*cw + img1[b,c+1]*bw*(1-cw) + img1[b+1,c+1]*(1-bw)*(1-cw)\n",
    "    ax[1].plot(theta_expand, c=plt.cm.rainbow(count/length), label = '%s'%count)\n",
    "             \n",
    "\n",
    "im0 = ax[0].imshow(img1, cmap=\"afmhot\")\n",
    "ax[0].set_title(\"DP\")\n",
    "ax[1].set_title(\"Image\")\n",
    "ax[1].legend(fontsize='xx-small')\n",
    "fig.show()\n"
   ]
  },
  {
   "cell_type": "code",
   "execution_count": 189,
   "metadata": {},
   "outputs": [
    {
     "data": {
      "text/plain": [
       "7"
      ]
     },
     "execution_count": 189,
     "metadata": {},
     "output_type": "execute_result"
    }
   ],
   "source": [
    "plt.plot"
   ]
  }
 ],
 "metadata": {
  "kernelspec": {
   "display_name": "Python 3",
   "language": "python",
   "name": "python3"
  },
  "language_info": {
   "codemirror_mode": {
    "name": "ipython",
    "version": 3
   },
   "file_extension": ".py",
   "mimetype": "text/x-python",
   "name": "python",
   "nbconvert_exporter": "python",
   "pygments_lexer": "ipython3",
   "version": "3.7.6"
  }
 },
 "nbformat": 4,
 "nbformat_minor": 4
}
