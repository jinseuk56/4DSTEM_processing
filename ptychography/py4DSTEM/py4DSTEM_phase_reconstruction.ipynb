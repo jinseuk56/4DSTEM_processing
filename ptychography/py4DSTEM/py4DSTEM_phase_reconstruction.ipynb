{
 "cells": [
  {
   "cell_type": "code",
   "execution_count": null,
   "metadata": {},
   "outputs": [],
   "source": [
    "# Jinseok Ryu, Ph.D.\n",
    "# jinseuk56@gmail.com\n",
    "# 20230927\n",
    "\n",
    "import py4DSTEM\n",
    "import tkinter.filedialog as tkf\n",
    "import numpy as np\n",
    "import tifffile\n",
    "import matplotlib.pyplot as plt\n",
    "py4DSTEM.__version__\n",
    "\n",
    "\n",
    "def fourd_roll_axis(stack):\n",
    "    stack = np.rollaxis(np.rollaxis(stack, 2, 0), 3, 1)\n",
    "    return stack\n",
    "\n",
    "def spike_remove(data, percent_thresh, mode):\n",
    "\n",
    "    pacbed = np.mean(data, axis=(0, 1))\n",
    "    intensity_integration_map = np.sum(data, axis=(2, 3))\n",
    "\n",
    "    threshold = np.percentile(intensity_integration_map, percent_thresh)\n",
    "    if mode == \"upper\":\n",
    "        spike_ind = np.where(intensity_integration_map > threshold)\n",
    "    elif mode == \"lower\":\n",
    "        spike_ind = np.where(intensity_integration_map < threshold)\n",
    "    else:\n",
    "        print(\"Wrong mode!\")\n",
    "        return\n",
    "\n",
    "    print(\"threshold value = %f\"%threshold)\n",
    "    print(\"number of abnormal pixels = %d\"%len(spike_ind[0]))\n",
    "\n",
    "    data[spike_ind] = pacbed.copy()\n",
    "\n",
    "    return data\n",
    "\n",
    "\n",
    "device = \"cpu\"\n",
    "#device = \"gpu\""
   ]
  },
  {
   "cell_type": "code",
   "execution_count": null,
   "metadata": {},
   "outputs": [],
   "source": [
    "# select the file you want to load\n",
    "file_adr = tkf.askopenfilename()\n",
    "print(file_adr)"
   ]
  },
  {
   "cell_type": "code",
   "execution_count": null,
   "metadata": {},
   "outputs": [],
   "source": [
    "# load a raw file and specify the calibration info\n",
    "\"\"\"\n",
    "dataset = py4DSTEM.io.import_file(file_adr)\n",
    "\n",
    "Rx, Ry = 0.30038461538461536, 0.30038461538461536\n",
    "R_unit = \"A\"\n",
    "Qx, Qy = 1.07, 1.07\n",
    "Q_unit = \"mrad\"\n",
    "\n",
    "dataset.calibration._params['Q_pixel_size'] = Qx\n",
    "dataset.calibration._params['Q_pixel_units'] = Q_unit\n",
    "dataset.calibration._params['R_pixel_size'] = Rx\n",
    "dataset.calibration._params['R_pixel_units'] = R_unit\n",
    "\n",
    "print(dataset)\n",
    "print(dataset.calibration)\n",
    "\n",
    "HT = 200E3 # [V]\n",
    "\"\"\""
   ]
  },
  {
   "cell_type": "code",
   "execution_count": null,
   "metadata": {},
   "outputs": [],
   "source": [
    "# load a tif file and specify the calibration info\n",
    "_data = tifffile.imread(file_adr)\n",
    "print(_data.shape)\n",
    "\n",
    "dataset = py4DSTEM.DataCube(data=_data)\n",
    "\n",
    "Rx, Ry = 0.3, 0.3\n",
    "R_unit = \"A\"\n",
    "Qx, Qy = 1.0, 1.0\n",
    "Q_unit = \"mrad\"\n",
    "\n",
    "dataset.calibration._params['Q_pixel_size'] = Qx\n",
    "dataset.calibration._params['Q_pixel_units'] = Q_unit\n",
    "dataset.calibration._params['R_pixel_size'] = Rx\n",
    "dataset.calibration._params['R_pixel_units'] = R_unit\n",
    "\n",
    "print(dataset)\n",
    "print(dataset.calibration)\n",
    "\n",
    "HT = 200E3 # [V]"
   ]
  },
  {
   "cell_type": "code",
   "execution_count": null,
   "metadata": {},
   "outputs": [],
   "source": [
    "# (optional) invert the dimensions (a, b, c, d) -> (c, d, a, b)\n",
    "\n",
    "dataset.data = fourd_roll_axis(dataset.data)\n",
    "\n",
    "print(dataset)\n",
    "print(dataset.calibration)"
   ]
  },
  {
   "cell_type": "code",
   "execution_count": null,
   "metadata": {},
   "outputs": [],
   "source": [
    "# (optional)\n",
    "dataset.data = np.nan_to_num(dataset.data) # NaN -> 0\n",
    "#dataset.data = spike_remove(dataset.data, percent_thresh=0.01, mode=\"lower\") # remove spike pixels (replace the spike pixels with the pacbed) -> optional stopgap"
   ]
  },
  {
   "cell_type": "code",
   "execution_count": null,
   "metadata": {},
   "outputs": [],
   "source": [
    "dataset.get_dp_mean()\n",
    "dataset.get_dp_max()\n",
    "\n",
    "py4DSTEM.show(\n",
    "    dataset.tree('dp_mean'),\n",
    "    scaling = 'log',\n",
    "    cmap = 'jet',\n",
    ")\n",
    "\n",
    "dataset.get_dp_mean()\n",
    "dataset.get_dp_max()\n",
    "\n",
    "fig, ax = plt.subplots(1, 1, figsize=(5, 5))\n",
    "ax.imshow(dataset.tree('dp_mean')[:, :], cmap='jet')\n",
    "fig.tight_layout()\n",
    "plt.show()\n",
    "\n",
    "probe_radius_pixels, probe_qx0, probe_qy0 = dataset.get_probe_size(thresh_lower=0.01, thresh_upper=0.99, N=100, plot=True)\n",
    "plt.show()"
   ]
  },
  {
   "cell_type": "code",
   "execution_count": null,
   "metadata": {},
   "outputs": [],
   "source": [
    "# Make a virtual bright field and dark field image\n",
    "expand_BF = 2.0  # expand radius by 2 pixels to encompass the full center disk\n",
    "\n",
    "center = (probe_qx0, probe_qy0)\n",
    "radius_BF = probe_radius_pixels + expand_BF\n",
    "radii_DF = (probe_radius_pixels + expand_BF, 1e3)\n",
    "\n",
    "# Make a virtual bright field and dark field image\n",
    "center = (probe_qx0, probe_qy0)\n",
    "radius_BF = probe_radius_pixels\n",
    "radii_DF = (probe_radius_pixels, int(dataset.Q_Nx/2))\n",
    "\n",
    "dataset.get_virtual_image(\n",
    "    mode = 'circle',\n",
    "    geometry = (center,radius_BF),\n",
    "    name = 'bright_field',\n",
    "    shift_center = False,\n",
    ")\n",
    "dataset.get_virtual_image(\n",
    "    mode = 'annulus',\n",
    "    geometry = (center,radii_DF),\n",
    "    name = 'dark_field',\n",
    "    shift_center = False,\n",
    ")\n",
    "\n",
    "fig, ax = plt.subplots(1, 2, figsize=(10, 5))\n",
    "ax[0].imshow(dataset.tree('bright_field')[:, :], cmap=\"inferno\")\n",
    "ax[0].set_title(\"BF image\")\n",
    "ax[1].imshow(dataset.tree('dark_field')[:, :], cmap=\"inferno\")\n",
    "ax[1].set_title(\"ADF image [%.1f, %.1f] mrad\"%(radii_DF[0]*dataset.Q_pixel_size, radii_DF[1]*dataset.Q_pixel_size))\n",
    "fig.tight_layout()\n",
    "plt.show()"
   ]
  },
  {
   "cell_type": "code",
   "execution_count": null,
   "metadata": {},
   "outputs": [],
   "source": [
    "dpc = py4DSTEM.process.phase.DPC(\n",
    "    datacube=dataset,\n",
    "    energy = HT,\n",
    ").preprocess()\n",
    "plt.show()"
   ]
  },
  {
   "cell_type": "code",
   "execution_count": null,
   "metadata": {},
   "outputs": [],
   "source": [
    "dpc.reconstruct(\n",
    "    max_iter=8,\n",
    "    store_iterations=True,\n",
    "    reset=True,\n",
    "    gaussian_filter_sigma=0.1,\n",
    "    gaussian_filter=True,\n",
    "    q_lowpass=None,\n",
    "    q_highpass=None\n",
    ").visualize(\n",
    "    iterations_grid='auto',\n",
    "    figsize=(16, 10)\n",
    ")\n",
    "plt.show()"
   ]
  },
  {
   "cell_type": "code",
   "execution_count": null,
   "metadata": {},
   "outputs": [],
   "source": [
    "dpc_cor = py4DSTEM.process.phase.DPC(\n",
    "    datacube=dataset,\n",
    "    energy=HT,\n",
    "    verbose=False,\n",
    ").preprocess(\n",
    "    force_com_rotation = np.rad2deg(dpc._rotation_best_rad),\n",
    "    force_com_transpose = False,\n",
    ")\n",
    "plt.show()"
   ]
  },
  {
   "cell_type": "code",
   "execution_count": null,
   "metadata": {},
   "outputs": [],
   "source": [
    "dpc_cor.reconstruct(\n",
    "    max_iter=8,\n",
    "    store_iterations=True,\n",
    "    reset=True,\n",
    "    gaussian_filter_sigma=0.1,\n",
    "    gaussian_filter=True,\n",
    "    q_lowpass=None,\n",
    "    q_highpass=None\n",
    ").visualize(\n",
    "    iterations_grid='auto',\n",
    "    figsize=(16, 10)\n",
    ")\n",
    "plt.show()"
   ]
  },
  {
   "cell_type": "code",
   "execution_count": null,
   "metadata": {},
   "outputs": [],
   "source": [
    "fig, ax = plt.subplots(1, 3, figsize=(15, 5))\n",
    "ax[0].imshow(dpc._com_normalized_y, cmap=\"bwr\")\n",
    "ax[0].set_title(\"CoMx\")\n",
    "ax[1].imshow(dpc._com_normalized_x, cmap=\"bwr\")\n",
    "ax[1].set_title(\"CoMy\")\n",
    "ax[2].imshow(np.sqrt(dpc._com_normalized_y**2 + dpc._com_normalized_x**2), cmap=\"inferno\")\n",
    "ax[2].set_title(\"Magnitude of CoM\")\n",
    "fig.tight_layout()\n",
    "plt.show()\n",
    "\n",
    "fig, ax = plt.subplots(1, 3, figsize=(15, 5))\n",
    "ax[0].imshow(dpc_cor._com_normalized_y, cmap=\"bwr\")\n",
    "ax[0].set_title(\"CoMx - rotation corrected\")\n",
    "ax[1].imshow(dpc_cor._com_normalized_x, cmap=\"bwr\")\n",
    "ax[1].set_title(\"CoMy - rotation corrected\")\n",
    "ax[2].imshow(np.sqrt(dpc_cor._com_normalized_y**2 + dpc_cor._com_normalized_x**2), cmap=\"inferno\")\n",
    "ax[2].set_title(\"Magnitude of CoM - rotation corrected\")\n",
    "fig.tight_layout()\n",
    "plt.show()\n",
    "\n",
    "fig, ax = plt.subplots(1, 2, figsize=(10, 5))\n",
    "ax[0].imshow(dpc.object_phase, cmap=\"inferno\")\n",
    "ax[0].set_title(\"iCoM\")\n",
    "ax[1].imshow(dpc_cor.object_phase, cmap=\"inferno\")\n",
    "ax[1].set_title(\"iCoM - rotation corrected\")\n",
    "fig.tight_layout()\n",
    "plt.show()"
   ]
  },
  {
   "cell_type": "code",
   "execution_count": null,
   "metadata": {},
   "outputs": [],
   "source": [
    "parallax = py4DSTEM.process.phase.Parallax(\n",
    "    datacube=dataset,\n",
    "    energy = HT,\n",
    "    device = device, \n",
    "    verbose = True\n",
    ").preprocess(\n",
    "    normalize_images=True,\n",
    "    plot_average_bf=False,\n",
    "    edge_blend=8,\n",
    ")"
   ]
  },
  {
   "cell_type": "code",
   "execution_count": null,
   "metadata": {},
   "outputs": [],
   "source": [
    "parallax = parallax.reconstruct(\n",
    "    reset=True,\n",
    "    regularizer_matrix_size=(1,1),\n",
    "    regularize_shifts=True,\n",
    "    running_average=True,\n",
    "    min_alignment_bin = 2,\n",
    "    num_iter_at_min_bin = 4,\n",
    ")\n",
    "plt.show()"
   ]
  },
  {
   "cell_type": "code",
   "execution_count": null,
   "metadata": {},
   "outputs": [],
   "source": [
    "parallax.show_shifts()\n",
    "plt.show()\n",
    "\n",
    "parallax.subpixel_alignment(\n",
    "    #kde_upsample_factor=2,\n",
    "    kde_sigma_px=0.125,\n",
    "    plot_upsampled_BF_comparison=True,\n",
    "    plot_upsampled_FFT_comparison=True,\n",
    ")\n",
    "plt.show()"
   ]
  },
  {
   "cell_type": "code",
   "execution_count": null,
   "metadata": {},
   "outputs": [],
   "source": [
    "parallax.aberration_fit(\n",
    "    plot_CTF_comparison=True,\n",
    ")\n",
    "plt.show()\n",
    "\n",
    "parallax.aberration_correct(figsize=(5, 5))\n",
    "plt.show()"
   ]
  },
  {
   "cell_type": "code",
   "execution_count": null,
   "metadata": {},
   "outputs": [],
   "source": [
    "depth_sections = parallax.depth_section(depth_angstroms=np.arange(0, 200, 20), figsize=(12, 10))\n",
    "plt.show()"
   ]
  },
  {
   "cell_type": "code",
   "execution_count": null,
   "metadata": {},
   "outputs": [],
   "source": [
    "# Get the probe convergence semiangle from the pixel size and estimated radius in pixels\n",
    "semiangle_cutoff = dataset.calibration.get_Q_pixel_size() * probe_radius_pixels\n",
    "print('semiangle cutoff estimate = ' + str(np.round(semiangle_cutoff, decimals=1)) + ' mrads')\n",
    "\n",
    "# Get the estimated defocus from the parallax reconstruction - note that defocus dF has the opposite sign as the C1 aberration!\n",
    "defocus = -parallax.aberration_C1\n",
    "print('estimated defocus         = ' + str(np.round(defocus)) + ' Angstroms')\n",
    "\n",
    "rotation_degrees = np.rad2deg(parallax.rotation_Q_to_R_rads)\n",
    "print('estimated rotation        = ' + str(np.round(rotation_degrees)) + ' deg')"
   ]
  },
  {
   "cell_type": "code",
   "execution_count": null,
   "metadata": {},
   "outputs": [],
   "source": [
    "ptycho = py4DSTEM.process.phase.SingleslicePtychography(\n",
    "    datacube=dataset,\n",
    "    device = device,\n",
    "    energy = HT,\n",
    "    semiangle_cutoff = semiangle_cutoff,\n",
    "    defocus = defocus,\n",
    "    object_type='potential',\n",
    ").preprocess(\n",
    "    plot_center_of_mass = False, \n",
    "    plot_rotation = False, \n",
    "    plot_probe_overlaps = True, \n",
    "    force_com_rotation = rotation_degrees, \n",
    "    force_com_transpose = False,\n",
    "    fit_function = \"constant\",\n",
    ")"
   ]
  },
  {
   "cell_type": "code",
   "execution_count": null,
   "metadata": {},
   "outputs": [],
   "source": [
    "ptycho_recon = ptycho.reconstruct(\n",
    "    reset = True,\n",
    "    store_iterations = True,\n",
    "    max_iter = 20,\n",
    "    #step_size = 0.5,\n",
    "    #gaussian_filter_sigma = 0.3,\n",
    "    normalization_min=1,\n",
    ").visualize(\n",
    "    iterations_grid= 'auto',\n",
    "    figsize= (16,8),\n",
    ")"
   ]
  },
  {
   "cell_type": "code",
   "execution_count": null,
   "metadata": {},
   "outputs": [],
   "source": [
    "ptycho_recon.visualize(figsize=(16, 8))"
   ]
  },
  {
   "cell_type": "code",
   "execution_count": null,
   "metadata": {},
   "outputs": [],
   "source": [
    "rotated_crop = ptycho_recon._crop_rotate_object_fov(ptycho.object)\n",
    "rotated_shape = rotated_crop.shape\n",
    "\n",
    "rotate_extent = [\n",
    "    0,\n",
    "    ptycho_recon.sampling[1] * rotated_shape[1],\n",
    "    ptycho_recon.sampling[0] * rotated_shape[0],\n",
    "    0,\n",
    "]\n",
    "\n",
    "\n",
    "fig, ax = plt.subplots(1, 2, figsize=(8, 4))\n",
    "ax[0].imshow(np.abs(ptycho_recon.object), cmap='inferno')\n",
    "ax[1].imshow(np.abs(rotated_crop), cmap='inferno', extent=rotate_extent)\n",
    "fig.tight_layout()\n",
    "plt.show()"
   ]
  },
  {
   "cell_type": "code",
   "execution_count": null,
   "metadata": {},
   "outputs": [],
   "source": [
    "n_probe = 5\n",
    "\n",
    "ptycho_mix = py4DSTEM.process.phase.MixedstatePtychography(\n",
    "    datacube=dataset,\n",
    "    verbose=True,\n",
    "    energy=HT,\n",
    "    num_probes=n_probe,\n",
    "    semiangle_cutoff=semiangle_cutoff,\n",
    "    defocus=defocus,\n",
    "    device=device,\n",
    "    object_type='potential',\n",
    ").preprocess(\n",
    "    plot_center_of_mass = False,\n",
    "    plot_rotation = False,\n",
    ")"
   ]
  },
  {
   "cell_type": "code",
   "execution_count": null,
   "metadata": {},
   "outputs": [],
   "source": [
    "ptycho_recon = ptycho_mix.reconstruct(\n",
    "    reset=True,\n",
    "    store_iterations=True,\n",
    "    max_iter = 20,\n",
    "    normalization_min= 1,\n",
    "    #gaussian_filter_sigma=0.02,\n",
    "    #step_size=0.5,\n",
    ").visualize(\n",
    "    iterations_grid= 'auto',\n",
    "    figsize= (16,8)\n",
    ")"
   ]
  },
  {
   "cell_type": "code",
   "execution_count": null,
   "metadata": {},
   "outputs": [],
   "source": [
    "ptycho_recon.visualize(figsize=(16, 8))"
   ]
  },
  {
   "cell_type": "code",
   "execution_count": null,
   "metadata": {},
   "outputs": [],
   "source": [
    "rotated_crop = ptycho_recon._crop_rotate_object_fov(ptycho_recon.object)\n",
    "rotated_shape = rotated_crop.shape\n",
    "\n",
    "rotate_extent = [\n",
    "    0,\n",
    "    ptycho_recon.sampling[1] * rotated_shape[1],\n",
    "    ptycho_recon.sampling[0] * rotated_shape[0],\n",
    "    0,\n",
    "]\n",
    "\n",
    "\n",
    "fig, ax = plt.subplots(1, 2, figsize=(8, 4))\n",
    "ax[0].imshow(np.abs(ptycho_recon.object), cmap='inferno')\n",
    "ax[1].imshow(np.abs(rotated_crop), cmap='inferno', extent=rotate_extent)\n",
    "fig.tight_layout()\n",
    "plt.show()"
   ]
  },
  {
   "cell_type": "code",
   "execution_count": null,
   "metadata": {},
   "outputs": [],
   "source": [
    "intensity_arrays = np.array([np.abs(probe)**2 for probe in ptycho_recon.probe])\n",
    "probe_ratio      = [np.sum(intensity_array)/intensity_arrays.sum() for intensity_array in intensity_arrays]\n",
    "\n",
    "py4DSTEM.show(\n",
    "    [\n",
    "        np.abs(ptycho_recon.probe_fourier[0])**2,\n",
    "        np.abs(ptycho_recon.probe_fourier[1])**2\n",
    "    ],\n",
    "    scalebar=True,\n",
    "    pixelsize=ptycho_recon.angular_sampling[0],\n",
    "    pixelunits=\"mrad\",\n",
    "    ticks=False,\n",
    "    title=[\n",
    "        f\"Probe 0 intensity: {probe_ratio[0]*100:.1f}%\",\n",
    "        f\"Probe 1 intensity: {probe_ratio[1]*100:.1f}%\"\n",
    "    ]\n",
    ")"
   ]
  },
  {
   "cell_type": "code",
   "execution_count": null,
   "metadata": {},
   "outputs": [],
   "source": [
    "num_slice = 8\n",
    "slice_thickness = 2.23\n",
    "\n",
    "ms_ptycho = py4DSTEM.process.phase.MultislicePtychography(\n",
    "    datacube=dataset,\n",
    "    num_slices=num_slice,\n",
    "    slice_thicknesses=slice_thickness,\n",
    "    verbose=True,\n",
    "    energy=HT,\n",
    "    defocus=defocus,\n",
    "    semiangle_cutoff=semiangle_cutoff,\n",
    "    device=device,\n",
    ").preprocess(\n",
    "    plot_center_of_mass = False,\n",
    "    plot_rotation=False,\n",
    ")"
   ]
  },
  {
   "cell_type": "code",
   "execution_count": null,
   "metadata": {},
   "outputs": [],
   "source": [
    "ptycho_recon = ms_ptycho.reconstruct(\n",
    "    reset=True,\n",
    "    store_iterations=True,\n",
    "    max_iter = 20,\n",
    "    normalization_min=1,\n",
    ").visualize(\n",
    "    iterations_grid = 'auto'\n",
    ")"
   ]
  },
  {
   "cell_type": "code",
   "execution_count": null,
   "metadata": {},
   "outputs": [],
   "source": [
    "ptycho_recon.visualize(figsize=(16, 8))"
   ]
  },
  {
   "cell_type": "code",
   "execution_count": null,
   "metadata": {},
   "outputs": [],
   "source": [
    "fig, ax = plt.subplots(1, num_slice+1, figsize=(4*(num_slice+1), 4))\n",
    "\n",
    "slice_object = ptycho_recon.object_iterations[29]\n",
    "\n",
    "for i in range(num_slice):\n",
    "    rotated_crop = ptycho_recon._crop_rotate_object_fov(slice_object[i])\n",
    "    rotated_shape = rotated_crop.shape\n",
    "\n",
    "    rotate_extent = [\n",
    "        0,\n",
    "        ptycho_recon.sampling[1] * rotated_shape[1],\n",
    "        ptycho_recon.sampling[0] * rotated_shape[0],\n",
    "        0,\n",
    "    ]\n",
    "    ax[i].imshow(np.angle(rotated_crop), cmap='inferno', extent=rotate_extent)\n",
    "\n",
    "sum_object = ptycho_recon._crop_rotate_object_fov(np.sum(slice_object, axis=0))\n",
    "ax[-1].imshow(np.angle(sum_object), cmap='inferno', extent=rotate_extent)\n",
    "fig.tight_layout()\n",
    "plt.show()"
   ]
  },
  {
   "cell_type": "code",
   "execution_count": null,
   "metadata": {},
   "outputs": [],
   "source": [
    "ms_ptycho = py4DSTEM.process.phase.MultislicePtychography(\n",
    "    datacube=dataset,\n",
    "    num_slices=num_slice,\n",
    "    slice_thicknesses=slice_thickness,\n",
    "    verbose=True,\n",
    "    energy=HT,\n",
    "    defocus=defocus,\n",
    "    semiangle_cutoff=semiangle_cutoff,\n",
    "    device=device,\n",
    ").preprocess(\n",
    "    plot_center_of_mass = False,\n",
    "    plot_rotation=False,\n",
    ")"
   ]
  },
  {
   "cell_type": "code",
   "execution_count": null,
   "metadata": {},
   "outputs": [],
   "source": [
    "ms_ptycho_tune = ms_ptycho.tune_num_slices_and_thicknesses(\n",
    "        num_slices_guess=num_slice,\n",
    "        thicknesses_guess=slice_thickness,\n",
    "        num_slices_step_size=1,\n",
    "        thicknesses_step_size=20,\n",
    "        num_slices_values=3,\n",
    "        num_thicknesses_values=3,\n",
    "        update_defocus=False,\n",
    "        max_iter=5,\n",
    "        plot_reconstructions=True,\n",
    "        plot_convergence=True,\n",
    "        return_values=True,\n",
    ")"
   ]
  },
  {
   "cell_type": "code",
   "execution_count": null,
   "metadata": {},
   "outputs": [],
   "source": [
    "num_slice = 8\n",
    "slice_thickness = 2.23\n",
    "n_probe = 5\n",
    "\n",
    "mms_ptycho = py4DSTEM.process.phase.MixedstateMultislicePtychography(\n",
    "    datacube=dataset,\n",
    "    num_slices=num_slice,\n",
    "    slice_thicknesses=slice_thickness,\n",
    "    num_probes=n_probe,\n",
    "    verbose=True,\n",
    "    energy=HT,\n",
    "    defocus=defocus,\n",
    "    semiangle_cutoff=semiangle_cutoff,\n",
    "    device=device,\n",
    ").preprocess(\n",
    "    plot_center_of_mass = False,\n",
    "    plot_rotation=False,\n",
    ")"
   ]
  },
  {
   "cell_type": "code",
   "execution_count": null,
   "metadata": {},
   "outputs": [],
   "source": [
    "ptycho_recon = mms_ptycho.reconstruct(\n",
    "    reset=True,\n",
    "    store_iterations=True,\n",
    "    max_iter = 20,\n",
    "    normalization_min=1,\n",
    ").visualize(\n",
    "    iterations_grid = 'auto'\n",
    ")"
   ]
  },
  {
   "cell_type": "code",
   "execution_count": null,
   "metadata": {},
   "outputs": [],
   "source": [
    "ptycho_recon.visualize(figsize=(16, 8))"
   ]
  },
  {
   "cell_type": "code",
   "execution_count": null,
   "metadata": {},
   "outputs": [],
   "source": [
    "fig, ax = plt.subplots(1, num_slice+1, figsize=(4*(num_slice+1), 4))\n",
    "\n",
    "slice_object = ptycho_recon.object_iterations[29]\n",
    "\n",
    "for i in range(num_slice):\n",
    "    rotated_crop = ptycho_recon._crop_rotate_object_fov(slice_object[i])\n",
    "    rotated_shape = rotated_crop.shape\n",
    "\n",
    "    rotate_extent = [\n",
    "        0,\n",
    "        ptycho_recon.sampling[1] * rotated_shape[1],\n",
    "        ptycho_recon.sampling[0] * rotated_shape[0],\n",
    "        0,\n",
    "    ]\n",
    "    ax[i].imshow(np.angle(rotated_crop), cmap='inferno', extent=rotate_extent)\n",
    "\n",
    "sum_object = ptycho_recon._crop_rotate_object_fov(np.sum(slice_object, axis=0))\n",
    "ax[-1].imshow(np.angle(sum_object), cmap='inferno', extent=rotate_extent)\n",
    "fig.tight_layout()\n",
    "plt.show()"
   ]
  }
 ],
 "metadata": {
  "kernelspec": {
   "display_name": "pyfd",
   "language": "python",
   "name": "python3"
  },
  "language_info": {
   "codemirror_mode": {
    "name": "ipython",
    "version": 3
   },
   "file_extension": ".py",
   "mimetype": "text/x-python",
   "name": "python",
   "nbconvert_exporter": "python",
   "pygments_lexer": "ipython3",
   "version": "3.9.16"
  },
  "orig_nbformat": 4
 },
 "nbformat": 4,
 "nbformat_minor": 2
}
