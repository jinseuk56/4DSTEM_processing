{
 "cells": [
  {
   "cell_type": "code",
   "execution_count": null,
   "metadata": {
    "scrolled": true
   },
   "outputs": [],
   "source": [
    "import sys,os\n",
    "sys.path.append('../../pyPtychoSTEM/') # path to pyptychostem\n",
    "import matplotlib.pyplot as plt\n",
    "from matplotlib.widgets import RectangleSelector\n",
    "import matplotlib.patches as pch\n",
    "\n",
    "import multiprocessing\n",
    "import typing\n",
    "import numpy as np\n",
    "import tifffile\n",
    "import tkinter.filedialog as tkf\n",
    "\n",
    "from STEM4D_modified import *\n",
    "import pixstem.api as ps"
   ]
  },
  {
   "cell_type": "code",
   "execution_count": null,
   "metadata": {},
   "outputs": [],
   "source": [
    "raw_adr = tkf.askopenfilename()\n",
    "print(raw_adr)"
   ]
  },
  {
   "cell_type": "code",
   "execution_count": null,
   "metadata": {},
   "outputs": [],
   "source": [
    "datatype = \"float32\"\n",
    "f_shape = [128, 128, 128, 128] # the shape of the 4D-STEM data [scanning_y, scanning_x, DP_y, DP_x]\n",
    "o_shape = [f_shape[0], f_shape[1], f_shape[2]+2, f_shape[3]]\n",
    "\n",
    "if raw_adr[-3:] == \"raw\":\n",
    "    f_stack = load_binary_4D_stack(raw_adr, datatype, o_shape, f_shape, log_scale=False)\n",
    "    f_stack = np.flip(f_stack, axis=2)\n",
    "    f_stack = np.nan_to_num(f_stack)\n",
    "    \n",
    "elif raw_adr[-3:] == \"tif\" or raw_adr[:-4] == \"tiff\":\n",
    "    f_stack = tifffile.imread(raw_adr)\n",
    "    f_stack  = np.nan_to_num(f_stack )\n",
    "    \n",
    "else:\n",
    "    print(\"The format of the file is not supported here\")\n",
    "    \n",
    "print(f_stack.shape)\n",
    "print(f_stack.min(), f_stack.max())\n",
    "print(f_stack.mean())\n",
    "\n",
    "# remove spike pixels (replace the spike pixels with the pacbed) -> optional stopgap\n",
    "f_stack = spike_remove(f_stack, percent_thresh=99.9, mode=\"upper\")\n",
    "\n",
    "f_stack = f_stack.clip(min=0.0)\n",
    "f_stack = f_stack[:, :, 32:-32, 32:-32]\n",
    "\n",
    "data_4D = Data4D()\n",
    "data_4D.data_4D = f_stack     \n",
    "data_4D.aperturesize = 0.01641\n",
    "data_4D.voltage = 80000\n",
    "data_4D.step_size = 0.9512\n",
    "data_4D.rotation_angle_deg  = 48\n",
    "data_4D.rotation_angle = data_4D.rotation_angle_deg/180*np.pi\n",
    "data_4D.method  = 'wdd'\n",
    "\n",
    "# choose any example data for plotting\n",
    "data_4D.workers  = 8\n",
    "data_4D.threshold = 0.3\n",
    "data_4D.wave_len = data_4D.Wavelength(data_4D.voltage)\n",
    "\n",
    "data_4D.setup_scanning_parameters()"
   ]
  },
  {
   "cell_type": "code",
   "execution_count": null,
   "metadata": {},
   "outputs": [],
   "source": [
    "data_4D.center_ronchigrams()\n",
    "data_4D.estimate_aperture_size()\n",
    "data_4D.plot_aperture()"
   ]
  },
  {
   "cell_type": "code",
   "execution_count": null,
   "metadata": {
    "scrolled": true
   },
   "outputs": [],
   "source": [
    "data_4D.truncate_ronchigram(expansion_ratio=None) # crops ronchigram to the BF disk\n",
    "print(data_4D.data_4D_trunc.shape)\n",
    "print(data_4D.wave_len)"
   ]
  },
  {
   "attachments": {},
   "cell_type": "markdown",
   "metadata": {
    "tags": []
   },
   "source": [
    "Compute Fourier Transform with respect to the probe position"
   ]
  },
  {
   "cell_type": "code",
   "execution_count": null,
   "metadata": {},
   "outputs": [],
   "source": [
    "data_4D.apply_FT()\n",
    "print(data_4D.data_4D_Reciprocal.shape)\n",
    "print(data_4D.data_4D_Reciprocal.dtype)"
   ]
  },
  {
   "cell_type": "code",
   "execution_count": null,
   "metadata": {
    "tags": []
   },
   "outputs": [],
   "source": [
    "data_4D.plot_trotters(data_4D.rotation_angle_deg, plot_constrains=True, skip=0) # value that fits"
   ]
  },
  {
   "cell_type": "code",
   "execution_count": null,
   "metadata": {},
   "outputs": [],
   "source": [
    "svd = SVD_AC(data_4D, trotters_nb=9)\n",
    "svd.build_omnimatrix()\n",
    "svd.run_SVD()\n",
    "svd.print_aberration_coefficients()\n",
    "svd.calc_aberrationfunction()\n",
    "svd.calc_aperturefunction()\n",
    "svd.calc_probefunction()\n",
    "svd.plot_corrected_trotters(data_4D.selected_frames,-svd.aberration_coeffs)"
   ]
  },
  {
   "cell_type": "code",
   "execution_count": null,
   "metadata": {
    "tags": []
   },
   "outputs": [],
   "source": [
    "fig, ax = plt.subplots(1, 2, figsize=(10, 5))\n",
    "ax[0].imshow(np.abs(svd.probe), cmap=\"inferno\")\n",
    "ax[1].imshow(np.angle(svd.func_transfer),extent=(svd.theta_x.min(),svd.theta_x.max(),svd.theta_y.min(),svd.theta_y.max()),cmap='jet')\n",
    "fig.tight_layout()\n",
    "plt.show()"
   ]
  },
  {
   "cell_type": "code",
   "execution_count": null,
   "metadata": {
    "scrolled": true
   },
   "outputs": [],
   "source": [
    "## without aberration correction\n",
    "\n",
    "wdd_ac = WDD(data_4D)\n",
    "wdd_ac.run(aberrations = -svd.aberration_coeffs)\n",
    "\n",
    "wdd_ac.plot_result()"
   ]
  },
  {
   "cell_type": "code",
   "execution_count": null,
   "metadata": {},
   "outputs": [],
   "source": [
    "f,ax = plt.subplots(1, 2, figsize=(16, 8))\n",
    "ax[0].imshow(wdd_ac.phase)\n",
    "ax[1].imshow(wdd_ac.amplitude)\n",
    "ax[0].axis(\"off\")\n",
    "ax[1].axis(\"off\")\n",
    "f.tight_layout()\n",
    "plt.show()"
   ]
  },
  {
   "cell_type": "code",
   "execution_count": null,
   "metadata": {},
   "outputs": [],
   "source": [
    "tifffile.imwrite(\"phase_wdd.tif\", wdd_ac.phase)"
   ]
  }
 ],
 "metadata": {
  "kernelspec": {
   "display_name": "Python 3 (ipykernel)",
   "language": "python",
   "name": "python3"
  },
  "language_info": {
   "codemirror_mode": {
    "name": "ipython",
    "version": 3
   },
   "file_extension": ".py",
   "mimetype": "text/x-python",
   "name": "python",
   "nbconvert_exporter": "python",
   "pygments_lexer": "ipython3",
   "version": "3.10.10"
  }
 },
 "nbformat": 4,
 "nbformat_minor": 4
}
