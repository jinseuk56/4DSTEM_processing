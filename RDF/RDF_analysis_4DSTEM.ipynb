{
 "cells": [
  {
   "cell_type": "code",
   "execution_count": null,
   "id": "87fc5055-72f1-44e2-91de-c8f1b69122cb",
   "metadata": {},
   "outputs": [],
   "source": [
    "from scipy.interpolate import interp1d\n",
    "from scipy.optimize import curve_fit\n",
    "from scipy.integrate import simpson\n",
    "from sklearn.linear_model import Ridge\n",
    "import numpy as np\n",
    "import matplotlib.pyplot as plt\n",
    "import tkinter.filedialog as tkf\n",
    "import tifffile\n",
    "from scipy import ndimage\n",
    "import ipywidgets as pyw\n",
    "from py4DSTEM.process.utils import single_atom_scatter\n",
    "\n",
    "plt.rcParams['font.family'] = 'Times New Roman'\n",
    "color_rep = [\"black\", \"orange\", \"purple\", \"blue\", \"red\", \"green\", \"yellow\", \"lime\", \n",
    "             \"cyan\", \"magenta\", \"lightgray\", \"peru\", \"springgreen\", \"deepskyblue\", \n",
    "             \"hotpink\", \"darkgray\"]"
   ]
  },
  {
   "cell_type": "code",
   "execution_count": null,
   "id": "8946c13f",
   "metadata": {},
   "outputs": [],
   "source": [
    "Fst_AF = single_atom_scatter(elements=[31], composition=[1.0], q_coords=np.arange(0, 0.023322*1024, 0.023322), units='A')\n",
    "Fst_AF.get_scattering_factor()\n",
    "Fst_AFF = Fst_AF.fe\n",
    "\n",
    "Snd_AF = single_atom_scatter(elements=[8], composition=[1.0], q_coords=np.arange(0, 0.023322*1024, 0.023322), units='A')\n",
    "Snd_AF.get_scattering_factor()\n",
    "Snd_AFF = Snd_AF.fe\n",
    "\n",
    "composition = [0.5, 0.5]\n",
    "AF_mean_square = (Fst_AFF*composition[0] + Snd_AFF*composition[1])**2\n",
    "AF_square_mean = Fst_AFF**2*composition[0] + Snd_AFF**2*composition[1]"
   ]
  },
  {
   "cell_type": "code",
   "execution_count": null,
   "id": "eb003726-0db7-45df-8f6e-752d49cedb8d",
   "metadata": {},
   "outputs": [],
   "source": [
    "damp = tifffile.imread(\"./setting/filters/damping_filter.tif\")\n",
    "print(damp.shape)\n",
    "\n",
    "filter_types = [\"boxcar\", \"trangular\", \"trapezoidal\", \"Happ-Genzel\", \"3TEM BH\", \"4TEM BH\"]"
   ]
  },
  {
   "cell_type": "code",
   "execution_count": null,
   "id": "1e82b516-41db-4adf-8046-2fa0a87f3318",
   "metadata": {
    "tags": []
   },
   "outputs": [],
   "source": [
    "lim_dim = 900\n",
    "\n",
    "Fst_AF_sqr = tifffile.imread(\"./setting/AFFs/200keV_31_Ga_fs_square.tif\").squeeze()\n",
    "print(Fst_AF_sqr.shape)\n",
    "Fst_AF_sqr = Fst_AF_sqr[:lim_dim]\n",
    "Fst_AF = np.sqrt(Fst_AF_sqr)\n",
    "\n",
    "Snd_AF_sqr = tifffile.imread(\"./setting/AFFs/200keV_08_O_fs_square.tif\").squeeze()\n",
    "print(Snd_AF_sqr.shape)\n",
    "Snd_AF_sqr = Snd_AF_sqr[:lim_dim]\n",
    "Snd_AF = np.sqrt(Snd_AF_sqr)\n",
    "\n",
    "Fst_AF /= np.max(Fst_AF)\n",
    "Snd_AF /= np.max(Snd_AF)\n",
    "\n",
    "print(np.max(Fst_AF), np.max(Snd_AF))\n",
    "\n",
    "Fst_atp = 1/2\n",
    "Snd_atp = 1/2\n",
    "\n",
    "k_scale = 0.005 # Angstrom\n",
    "s = np.arange(0, k_scale*len(Fst_AF), k_scale)[:lim_dim]\n",
    "print(len(s), s[-1])"
   ]
  },
  {
   "cell_type": "code",
   "execution_count": null,
   "id": "8f1e921c-21e7-41ba-898b-89e84765fc8a",
   "metadata": {},
   "outputs": [],
   "source": [
    "raw_adr = tkf.askopenfilename()\n",
    "print(*raw_adr, sep=\"\\n\")"
   ]
  },
  {
   "cell_type": "code",
   "execution_count": null,
   "id": "78a76f64-7571-43a0-a502-50fba328a325",
   "metadata": {},
   "outputs": [],
   "source": [
    "# Load a data\n",
    "rot_dp = tifffile.imread(raw_adr)\n",
    "print(rot_dp.shape)\n",
    "rot_dp_data = rot_dp.copy()\n",
    "print(rot_dp_data.shape)\n",
    "n_dim = len(rot_dp_data.shape)\n",
    "print(n_dim)"
   ]
  },
  {
   "cell_type": "code",
   "execution_count": null,
   "id": "f0e9b643-2058-4c32-81d7-ae124bd527f0",
   "metadata": {},
   "outputs": [],
   "source": [
    "scale = [1.0, 1.0, 0.0023322]\n",
    "origin = [0, 0, 0]\n",
    "unit = ['nm', 'nm', '1/A']\n",
    "size = rot_dp_data.shape"
   ]
  },
  {
   "cell_type": "code",
   "execution_count": null,
   "id": "3c32e843-6273-44a6-9154-5c8a9d47b8ca",
   "metadata": {},
   "outputs": [],
   "source": [
    "rot_dp_data = rot_dp_data / np.expand_dims(np.max(rot_dp_data, axis=n_dim-1), axis=-1)\n",
    "if n_dim == 2:\n",
    "    rot_dp_data = np.expand_dims(rot_dp_data, axis=0)\n",
    "    n_dim = 3"
   ]
  },
  {
   "cell_type": "code",
   "execution_count": null,
   "id": "66aa6376-2f67-4d9f-895f-60db499cd32c",
   "metadata": {},
   "outputs": [],
   "source": [
    "k_list = np.arange(origin[n_dim-1], origin[n_dim-1]+scale[n_dim-1]*size[n_dim-1], scale[n_dim-1])\n",
    "print(k_list.shape)\n",
    "print(k_list.min(), k_list.max())"
   ]
  },
  {
   "cell_type": "code",
   "execution_count": null,
   "id": "e205dcdb-4975-4a8b-9dcb-9e9822bb87ce",
   "metadata": {},
   "outputs": [],
   "source": [
    "interpolation = interp1d(s, Fst_AF, kind=\"cubic\")\n",
    "NFst_AF = interpolation(k_list)\n",
    "\n",
    "interpolation = interp1d(s, Snd_AF, kind=\"cubic\")\n",
    "NSnd_AF = interpolation(k_list)\n",
    "\n",
    "AF_mean = (NFst_AF*Fst_atp +  NSnd_AF*Snd_atp)\n",
    "print(len(AF_mean))\n",
    "\n",
    "AF_mean_square = AF_mean**2\n",
    "print(len(AF_mean_square))\n",
    "\n",
    "AF_square_mean = NFst_AF*Fst_atp**2 + NSnd_AF*Snd_atp**2\n",
    "print(len(AF_square_mean))"
   ]
  },
  {
   "cell_type": "code",
   "execution_count": null,
   "id": "d4e0b1f1-7fce-40e6-a616-9919a7b332ff",
   "metadata": {},
   "outputs": [],
   "source": [
    "AF_mean_square = AF_mean_square[:size[n_dim-1]]\n",
    "AF_square_mean = AF_square_mean[:size[n_dim-1]]"
   ]
  },
  {
   "cell_type": "code",
   "execution_count": null,
   "id": "4d0bec49-e8b4-4baa-8933-6853865af0d3",
   "metadata": {},
   "outputs": [],
   "source": [
    "fig, ax = plt.subplots(1, 1, figsize=(8, 6))\n",
    "ax.plot(k_list, np.mean(rot_dp_data, axis=(0, 1)), 'k-')\n",
    "ax.plot(k_list, AF_mean_square, 'r-')\n",
    "ax.plot(k_list, AF_square_mean, 'g+')\n",
    "ax.grid()\n",
    "fig.tight_layout()\n",
    "plt.show()"
   ]
  },
  {
   "cell_type": "code",
   "execution_count": null,
   "id": "ea7a723d-98fb-40d8-8941-1175c16a44b6",
   "metadata": {},
   "outputs": [],
   "source": [
    "def rif_to_rdf(rif, r_list, k_list):\n",
    "    gr = []\n",
    "    for i in range(len(r_list)):\n",
    "        sin_rk = np.sin(2*np.pi*r_list[i]*k_list)\n",
    "        rif_sin = rif * sin_rk\n",
    "        gr_tmp = 8 * np.pi * simpson(rif_sin, dx=(k_list[1]-k_list[0]))\n",
    "        gr.append(gr_tmp)\n",
    "    \n",
    "    return np.asarray(gr)"
   ]
  },
  {
   "cell_type": "code",
   "execution_count": null,
   "id": "0d2f003a-d093-47a0-93f7-bd6507149d8b",
   "metadata": {},
   "outputs": [],
   "source": [
    "r_size = 500\n",
    "r_scale = 0.01 # Angstrom\n",
    "r_list = np.arange(r_size) * r_scale\n",
    "r_unit = unit[-1][-1]\n",
    "print(r_list.shape)\n",
    "print(r_scale)\n",
    "print(r_unit)\n",
    "#print(r_list)"
   ]
  },
  {
   "cell_type": "code",
   "execution_count": null,
   "id": "2f0e939e-0c24-4476-a596-061f9706304a",
   "metadata": {},
   "outputs": [],
   "source": [
    "rgr_ridge = Ridge(alpha=0.0)"
   ]
  },
  {
   "cell_type": "code",
   "execution_count": null,
   "id": "a7a2f952-1aa8-49a3-bfca-237be658aca1",
   "metadata": {},
   "outputs": [],
   "source": [
    "%matplotlib widget\n",
    "fig, ax = plt.subplots(2, 2, figsize=(8, 5))\n",
    "int_img = np.sum(rot_dp_data, axis=2)\n",
    "\n",
    "def RDF_4DSTEM(yp, xp, aph, fit_range, ln, ln_check, f_n, f_lc, f_c, full_check):\n",
    "    \n",
    "    for a in ax.flat:\n",
    "        a.cla()\n",
    "        \n",
    "    ax[0][0].imshow(int_img, cmap=\"gray\")\n",
    "    ax[0][0].axis(\"off\")\n",
    "    ax[0][0].scatter(xp, yp, c=\"red\", s=15)\n",
    "    \n",
    "    filt = damp[f_n].copy()\n",
    "    filt[:int(f_lc*len(filt))] = 0\n",
    "    filt[int(f_c*len(filt)):] = 0\n",
    "    print(filter_types[f_n])\n",
    "    ind = np.linspace(0, len(filt)-1, size[n_dim-1]).astype(np.int16)\n",
    "    filt = filt[ind]\n",
    "    rot_dp_tmp = rot_dp_data[yp, xp]\n",
    "    \n",
    "    if ln_check:\n",
    "        rgr_ridge.fit(AF_mean_square[fit_range[0]:fit_range[1]].reshape(-1, 1)+aph, rot_dp_tmp[fit_range[0]:fit_range[1]].reshape(-1, 1))\n",
    "        print(\"fitted N value = %f\"%rgr_ridge.coef_[0][0])\n",
    "        ln = rgr_ridge.coef_[0][0]\n",
    "    \n",
    "    Nfs_tmp = ln*AF_mean_square\n",
    "    rif_tmp = ((rot_dp_tmp + aph - Nfs_tmp) / (ln*AF_square_mean)) * k_list\n",
    "    rif_tmp_filtered = (((rot_dp_tmp + aph - Nfs_tmp) / (ln*AF_square_mean)) * k_list) * filt\n",
    "    \n",
    "    ax[0][1].plot(k_list, rot_dp_tmp, 'k-')\n",
    "    ax[0][1].plot(k_list, Nfs_tmp, 'r-')\n",
    "    ax[0][1].set_ylim(ymin=0.0, ymax=0.5)\n",
    "    ax[0][1].fill_between([k_list[fit_range[0]], k_list[fit_range[1]]], np.max(rot_dp_tmp), alpha=0.5, color=\"orange\")\n",
    "    ax[0][1].grid()\n",
    "    ax[1][0].plot(k_list, rif_tmp, 'k-')\n",
    "    ax[1][0].plot(k_list, rif_tmp_filtered, 'g-')\n",
    "    ax[1][0].fill_between([k_list[fit_range[0]], k_list[fit_range[1]]], np.max(rif_tmp), alpha=0.5, color=\"orange\")\n",
    "    ax[1][0].grid()\n",
    "    \n",
    "    tmp_Gr = rif_to_rdf(rif_tmp_filtered, r_list, k_list)\n",
    "    ax[1][1].plot(r_list, tmp_Gr, 'k-')\n",
    "    if not full_check:\n",
    "        ax[1][1].set_xlim(xmin=1.0, xmax=2.5)\n",
    "    ax[1][1].grid()\n",
    "    \n",
    "    fig.tight_layout()\n",
    "    \n",
    "st = {\"description_width\": \"initial\"}\n",
    "y_wg = pyw.BoundedIntText(value=0, min=0, max=size[0]-1, description=\"y position\", style=st)\n",
    "x_wg = pyw.BoundedIntText(value=0, min=0, max=size[1]-1, description=\"x position\", style=st)\n",
    "N_wg = pyw.FloatText(value=1.0, step=0.01, description=\"N\", style=st)\n",
    "N_manual = pyw.Checkbox(value=True, description=\"use the fitted value of N\")\n",
    "fit_range_wg = pyw.IntRangeSlider(value=[int(0.9*len(k_list)), len(k_list)], \n",
    "                                  min=1, max=size[n_dim-1]-1, description=\"N fitting range\")\n",
    "alpha_wg = pyw.FloatText(value=0.0, step=0.0001, description=\"alpha\", style=st)\n",
    "filter_wg = pyw.BoundedIntText(value=0, min=0, max=len(filter_types)-1, description=\"filter\", style=st)\n",
    "filter_low_wg = pyw.BoundedFloatText(value=0.05, min=0.0, max=1.0, step=0.01, description=\"filter low cut\", style=st)\n",
    "filter_cut_wg = pyw.BoundedFloatText(value=0.8, min=0.0, max=1.0, step=0.01, description=\"filter high cut\", style=st)\n",
    "full_wg = pyw.Checkbox(value=True, description=\"show the full range of RDF\")\n",
    "\n",
    "pyw.interact(RDF_4DSTEM, yp=y_wg, xp=x_wg, aph=alpha_wg, fit_range=fit_range_wg, \n",
    "             ln=N_wg, ln_check=N_manual, f_n=filter_wg, f_lc=filter_low_wg, f_c=filter_cut_wg, full_check=full_wg)\n",
    "plt.show()"
   ]
  },
  {
   "cell_type": "code",
   "execution_count": null,
   "id": "51655d45-5344-410e-bcd1-fe403dab06b1",
   "metadata": {},
   "outputs": [],
   "source": [
    "alpha = alpha_wg.value\n",
    "print(alpha)\n",
    "N_check = N_manual.value\n",
    "print(N_check)\n",
    "N = N_wg.value\n",
    "print(N)\n",
    "filter_select = filter_wg.value\n",
    "print(filter_select)\n",
    "high_cut = filter_cut_wg.value\n",
    "print(high_cut)\n",
    "fit_range = fit_range_wg.value\n",
    "print(fit_range)"
   ]
  },
  {
   "cell_type": "code",
   "execution_count": null,
   "id": "5c2b9edd-6154-40e9-83fb-1913bc871777",
   "metadata": {},
   "outputs": [],
   "source": [
    "RIF_data = []\n",
    "for i in range(size[1]):\n",
    "    for j in range(size[0]):\n",
    "        if N_check:\n",
    "            rgr_ridge.fit(AF_mean_square[fit_range[0]:fit_range[1]].reshape(-1, 1),rot_dp_data[i, j][fit_range[0]:fit_range[1]].reshape(-1, 1))\n",
    "            N = rgr_ridge.coef_[0][0]\n",
    "        filt = damp[filter_select].copy()\n",
    "        filt[int(high_cut*len(filt)):] = 0\n",
    "        ind = np.linspace(0, len(filt)-1, size[n_dim-1]).astype(np.int16)\n",
    "        filt = filt[ind]\n",
    "        rif = (((rot_dp_data[i, j] + alpha - N*AF_mean_square) / (N*AF_square_mean)) * k_list) * filt\n",
    "        RIF_data.append(rif)\n",
    "               \n",
    "RIF_data = np.asarray(RIF_data).reshape(size[1], size[0], -1)"
   ]
  },
  {
   "cell_type": "code",
   "execution_count": null,
   "id": "d85643a7-2148-4fb0-ba81-81f916a5662a",
   "metadata": {},
   "outputs": [],
   "source": [
    "%matplotlib inline"
   ]
  },
  {
   "cell_type": "code",
   "execution_count": null,
   "id": "deb2a5a5-5ed8-4004-8826-f4dc56ea465d",
   "metadata": {},
   "outputs": [],
   "source": [
    "Gr = []\n",
    "for i in range(size[1]):\n",
    "    for j in range(size[0]):\n",
    "        tmp_Gr = rif_to_rdf(RIF_data[i, j], r_list, k_list)\n",
    "        Gr.append(tmp_Gr)\n",
    "\n",
    "Gr = np.asarray(Gr).reshape(size[1], size[0], -1)\n",
    "print(Gr.shape)    "
   ]
  },
  {
   "cell_type": "code",
   "execution_count": null,
   "id": "b768c613-0dc7-4867-a80a-1f216a7c1beb",
   "metadata": {},
   "outputs": [],
   "source": [
    "fig, ax = plt.subplots(1, 1, figsize=(8, 6))\n",
    "for i in range(size[0]):\n",
    "    ax.plot(r_list, Gr[0, i])\n",
    "ax.grid()\n",
    "ax.set_xlim(xmin=1.0, xmax=3.0)\n",
    "fig.tight_layout()\n",
    "plt.show()"
   ]
  },
  {
   "cell_type": "code",
   "execution_count": null,
   "id": "d1a0a041-f851-444e-b35e-4a108ce72f43",
   "metadata": {},
   "outputs": [],
   "source": [
    "tifffile.imwrite(raw_adr[:-4]+\"_Gr_upto_%dA_size_%d_2.tif\"%(int(r_size*r_scale), r_size), Gr)"
   ]
  },
  {
   "cell_type": "code",
   "execution_count": null,
   "id": "efaeab72-2a69-4fcb-bf25-961aac6e6468",
   "metadata": {},
   "outputs": [],
   "source": [
    "tifffile.imwrite(raw_adr[:-4]+\"_RIF.tif\", RIF_data)"
   ]
  }
 ],
 "metadata": {
  "kernelspec": {
   "display_name": "Python 3 (ipykernel)",
   "language": "python",
   "name": "python3"
  },
  "language_info": {
   "codemirror_mode": {
    "name": "ipython",
    "version": 3
   },
   "file_extension": ".py",
   "mimetype": "text/x-python",
   "name": "python",
   "nbconvert_exporter": "python",
   "pygments_lexer": "ipython3",
   "version": "3.9.16"
  }
 },
 "nbformat": 4,
 "nbformat_minor": 5
}
