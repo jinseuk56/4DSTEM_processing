{
 "cells": [
  {
   "cell_type": "code",
   "execution_count": null,
   "metadata": {},
   "outputs": [],
   "source": [
    "# J. Ryu, Electron Microscopy and Spectroscopy Lab., Seoul National University\n",
    "import numpy as np\n",
    "import matplotlib.pyplot as plt\n",
    "import hyperspy.api as hys\n",
    "import tkinter.filedialog as tkf"
   ]
  },
  {
   "cell_type": "code",
   "execution_count": null,
   "metadata": {},
   "outputs": [],
   "source": [
    "%matplotlib inline"
   ]
  },
  {
   "cell_type": "code",
   "execution_count": null,
   "metadata": {},
   "outputs": [],
   "source": [
    "num_split = 3\n",
    "adr = []\n",
    "num_adr = []\n",
    "for i in range(num_split):\n",
    "    temp = tkf.askopenfilenames()\n",
    "    num_adr.append(len(temp))\n",
    "    adr.append(temp)\n",
    "print(num_adr)\n",
    "num_img = np.max(num_adr)"
   ]
  },
  {
   "cell_type": "code",
   "execution_count": null,
   "metadata": {},
   "outputs": [],
   "source": [
    "mrad_per_pixel = 0.1 # mrad\n",
    "print(mrad_per_pixel)\n",
    "rel_lmb = 0.00197 # nm, relativistic wavelength for 300 kV\n",
    "k_per_pixel = np.tan(mrad_per_pixel/1000) / rel_lmb# 1/nm\n",
    "print(k_per_pixel)\n",
    "r_per_pixel = 0.400 # nm\n",
    "\n",
    "s_dim = 80\n",
    "cb_rad = 20\n",
    "k_list = np.arange(s_dim)*k_per_pixel\n",
    "print(k_list)\n",
    "print(k_list.shape)\n",
    "r_list = np.arange(s_dim)\n",
    "print(r_list)\n",
    "print(r_list.shape)"
   ]
  },
  {
   "cell_type": "code",
   "execution_count": null,
   "metadata": {},
   "outputs": [],
   "source": [
    "def rif_to_rdf(rif, r_list, k_list):\n",
    "    gr = []\n",
    "    profile = rif / np.max(rif)\n",
    "    for i in range(len(r_list)):\n",
    "        sin_rk = np.sin(r_list[i]*k_list)\n",
    "        rif_sin = np.multiply(profile, sin_rk)\n",
    "        gr_tmp = 8 * np.pi * np.trapz(rif_sin, dx=(k_list[1]-k_list[0]))\n",
    "        gr.append(gr_tmp)\n",
    "    \n",
    "    return np.asarray(gr)"
   ]
  },
  {
   "cell_type": "code",
   "execution_count": null,
   "metadata": {},
   "outputs": [],
   "source": [
    "data_by_split = []\n",
    "gr_by_split = []\n",
    "data_shape = []\n",
    "for i in range(num_split):\n",
    "    temp = []\n",
    "    temp_gr = []\n",
    "    temp_shape = []\n",
    "    for path in adr[i]:\n",
    "        print(path)\n",
    "        tmp = hys.load(path).data\n",
    "        print(tmp.shape)\n",
    "        if len(np.where(tmp[0, 0] == 0.0)[0]) != cb_rad:\n",
    "            tmp = np.insert(tmp, 0, 0, axis=2)        \n",
    "        \n",
    "        tmp = tmp[:, :, :s_dim]\n",
    "        print(tmp.shape)\n",
    "        \n",
    "        gr_tmp = []\n",
    "        for j in range(tmp.shape[0]):\n",
    "            for k in range(tmp.shape[1]):\n",
    "                gr_tmp.append(rif_to_rdf(tmp[j ,k], r_list, k_list))\n",
    "        gr_tmp = np.asarray(gr_tmp).reshape(tmp.shape[0], tmp.shape[1], -1)   \n",
    "        \n",
    "        temp.append(tmp)\n",
    "        temp_gr.append(gr_tmp)\n",
    "        temp_shape.append(tmp.shape)\n",
    "    data_by_split.append(temp)\n",
    "    gr_by_split.append(temp_gr)\n",
    "    data_shape.append(temp_shape)"
   ]
  },
  {
   "cell_type": "code",
   "execution_count": null,
   "metadata": {},
   "outputs": [],
   "source": [
    "data_shape = np.asarray(data_shape)\n",
    "print(data_shape.shape)\n",
    "#print(np.unique(data_shape[:, :, 2]))\n",
    "#s_dim = np.min(data_shape[:, :, 2])\n",
    "print(s_dim)"
   ]
  },
  {
   "cell_type": "code",
   "execution_count": null,
   "metadata": {},
   "outputs": [],
   "source": [
    "color_rep = [\"green\", \"red\", \"blue\", \"purple\", \"orange\", \"yellow\", \"lime\", \n",
    "             \"cyan\", \"magenta\", \"lightgray\", \"peru\", \"springgreen\", \"deepskyblue\", \n",
    "             \"hotpink\", \"black\", \"darkgray\"]\n",
    "print(len(color_rep))"
   ]
  },
  {
   "cell_type": "code",
   "execution_count": null,
   "metadata": {},
   "outputs": [],
   "source": [
    "%matplotlib inline"
   ]
  },
  {
   "cell_type": "code",
   "execution_count": null,
   "metadata": {},
   "outputs": [],
   "source": [
    "%matplotlib qt"
   ]
  },
  {
   "cell_type": "code",
   "execution_count": null,
   "metadata": {},
   "outputs": [],
   "source": [
    "fig, ax = plt.subplots(1, 1, figsize=(10, 6))\n",
    "ax.tick_params(axis=\"x\", labelsize=15)\n",
    "for i in range(num_split):\n",
    "    for img in data_by_split[i]:\n",
    "        tmp = img / np.max(img, axis=2)[:, :, np.newaxis]\n",
    "        line = np.mean(tmp, axis=(0, 1))\n",
    "        #line = line / np.max(line)\n",
    "        ax.plot(line, color=color_rep[i], linestyle=\"-\", label=\"split %d\"%(i+1))\n",
    "ax.grid()\n",
    "fig.legend(fontsize=\"xx-large\")\n",
    "fig.tight_layout()\n",
    "plt.show()"
   ]
  },
  {
   "cell_type": "code",
   "execution_count": null,
   "metadata": {},
   "outputs": [],
   "source": [
    "fig, ax = plt.subplots(1, 1, figsize=(10, 6))\n",
    "ax.tick_params(axis=\"x\", labelsize=15)\n",
    "for i in range(num_split):\n",
    "    temp = []\n",
    "    for arr in data_by_split[i]:\n",
    "        temp.extend(arr.reshape(-1, s_dim))\n",
    "    temp = np.asarray(temp)\n",
    "    temp = temp / np.max(temp, axis=1)[:, np.newaxis]\n",
    "    line = np.mean(temp, axis=0)\n",
    "    #line = line / np.max(line)\n",
    "    ax.plot(line, color=color_rep[i], linestyle=\"-\", label=\"split %d\"%(i+1))\n",
    "ax.grid()\n",
    "fig.legend(fontsize=\"xx-large\")\n",
    "fig.tight_layout()\n",
    "plt.show()"
   ]
  },
  {
   "cell_type": "code",
   "execution_count": null,
   "metadata": {},
   "outputs": [],
   "source": [
    "fig, ax = plt.subplots(1, 1, figsize=(10, 6))\n",
    "ax.tick_params(axis=\"x\", labelsize=15)\n",
    "for i in range(num_split):\n",
    "    for img in gr_by_split[i]:\n",
    "        tmp = img / np.max(img, axis=2)[:, :, np.newaxis]\n",
    "        line = np.mean(tmp, axis=(0, 1))\n",
    "        #line = line / np.max(line)\n",
    "        ax.plot(line, color=color_rep[i], linestyle=\"-\", label=\"split %d\"%(i+1))\n",
    "ax.grid()\n",
    "fig.legend(fontsize=\"xx-large\")\n",
    "fig.tight_layout()\n",
    "plt.show()"
   ]
  },
  {
   "cell_type": "code",
   "execution_count": null,
   "metadata": {},
   "outputs": [],
   "source": [
    "fig, ax = plt.subplots(1, 1, figsize=(10, 6))\n",
    "ax.tick_params(axis=\"x\", labelsize=15)\n",
    "for i in range(num_split):\n",
    "    temp = []\n",
    "    for arr in gr_by_split[i]:\n",
    "        temp.extend(arr.reshape(-1, s_dim))\n",
    "    temp = np.asarray(temp)\n",
    "    temp = temp / np.max(temp, axis=1)[:, np.newaxis]\n",
    "    line = np.mean(temp, axis=0)\n",
    "    #line = line / np.max(line)\n",
    "    ax.plot(line, color=color_rep[i], linestyle=\"-\", label=\"split %d\"%(i+1))\n",
    "ax.grid()\n",
    "fig.legend(fontsize=\"xx-large\")\n",
    "fig.tight_layout()\n",
    "plt.show()"
   ]
  }
 ],
 "metadata": {
  "kernelspec": {
   "display_name": "Python 3",
   "language": "python",
   "name": "python3"
  },
  "language_info": {
   "codemirror_mode": {
    "name": "ipython",
    "version": 3
   },
   "file_extension": ".py",
   "mimetype": "text/x-python",
   "name": "python",
   "nbconvert_exporter": "python",
   "pygments_lexer": "ipython3",
   "version": "3.7.9"
  }
 },
 "nbformat": 4,
 "nbformat_minor": 4
}
