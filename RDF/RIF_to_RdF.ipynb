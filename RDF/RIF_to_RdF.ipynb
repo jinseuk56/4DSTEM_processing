{
 "cells": [
  {
   "cell_type": "code",
   "execution_count": null,
   "id": "870f3afb-60e4-44c1-9cec-b80fe0e292a3",
   "metadata": {},
   "outputs": [],
   "source": [
    "import numpy as np\n",
    "import matplotlib.pyplot as plt\n",
    "import tkinter.filedialog as tkf\n",
    "import hyperspy.api as hys\n",
    "import tifffile\n",
    "from scipy import ndimage\n",
    "plt.rcParams['font.family'] = 'Times New Roman'\n",
    "# create a customized colorbar\n",
    "color_rep = [\"black\", \"orange\", \"purple\", \"blue\", \"red\", \"green\", \"yellow\", \"lime\", \n",
    "             \"cyan\", \"magenta\", \"lightgray\", \"peru\", \"springgreen\", \"deepskyblue\", \n",
    "             \"hotpink\", \"darkgray\"]\n",
    "print(len(color_rep))"
   ]
  },
  {
   "cell_type": "code",
   "execution_count": null,
   "id": "ff18b8db-ab39-4ecd-be36-ebdcd1d8fde1",
   "metadata": {},
   "outputs": [],
   "source": [
    "def rif_to_rdf(rif, r_list, k_list):\n",
    "    gr = []\n",
    "    profile = rif / np.max(rif)\n",
    "    for i in range(len(r_list)):\n",
    "        sin_rk = np.sin(r_list[i]*k_list)\n",
    "        rif_sin = np.multiply(profile, sin_rk)\n",
    "        gr_tmp = 8 * np.pi * np.trapz(rif_sin, dx=(k_list[1]-k_list[0]))\n",
    "        gr.append(gr_tmp)\n",
    "    \n",
    "    return np.asarray(gr)"
   ]
  },
  {
   "cell_type": "code",
   "execution_count": null,
   "id": "900b15a5-3f92-4222-b79d-070e5cb373d2",
   "metadata": {},
   "outputs": [],
   "source": [
    "raw_adr = tkf.askopenfilename()\n",
    "print(raw_adr)"
   ]
  },
  {
   "cell_type": "code",
   "execution_count": null,
   "id": "b14c5d0a-9e8a-41d3-b03b-5621d60446b6",
   "metadata": {},
   "outputs": [],
   "source": [
    "# Load a data (DM)\n",
    "RIF = hys.load(raw_adr)\n",
    "print(RIF)\n",
    "RIF_data = RIF.data.copy()\n",
    "print(RIF_data.shape)\n",
    "n_dim = len(RIF_data.shape)\n",
    "print(n_dim)"
   ]
  },
  {
   "cell_type": "code",
   "execution_count": null,
   "id": "b73a1e07-7950-45be-989c-51dd7d9cde86",
   "metadata": {},
   "outputs": [],
   "source": [
    "scale = []\n",
    "origin = []\n",
    "unit = []\n",
    "size = []\n",
    "\n",
    "for i in range(n_dim):\n",
    "    print(RIF.axes_manager[i].scale, RIF.axes_manager[i].offset, RIF.axes_manager[i].units, RIF.axes_manager[i].size)\n",
    "    scale.append(RIF.axes_manager[i].scale)\n",
    "    origin.append(RIF.axes_manager[i].offset)\n",
    "    unit.append(RIF.axes_manager[i].units)\n",
    "    size.append(RIF.axes_manager[i].size)"
   ]
  },
  {
   "cell_type": "code",
   "execution_count": null,
   "id": "44c9832b-5626-4b32-957d-6b6629f4d5e1",
   "metadata": {},
   "outputs": [],
   "source": [
    "k_list = np.arange(origin[n_dim-1], origin[n_dim-1]+scale[n_dim-1]*size[n_dim-1], scale[n_dim-1])\n",
    "print(k_list.shape)\n",
    "print(np.max(k_list))"
   ]
  },
  {
   "cell_type": "code",
   "execution_count": null,
   "id": "776a8787-8d29-4c92-831f-16bb7b84f117",
   "metadata": {},
   "outputs": [],
   "source": [
    "r_size = 40\n",
    "r_scale = 0.125 # Angstrom\n",
    "r_list = np.arange(r_size) * r_scale\n",
    "r_unit = unit[-1][-1]\n",
    "print(r_list.shape)\n",
    "print(r_scale)\n",
    "print(r_unit)\n",
    "#print(r_list)"
   ]
  },
  {
   "cell_type": "code",
   "execution_count": null,
   "id": "7cf31018-cd90-441c-bb44-fc374ac741f5",
   "metadata": {},
   "outputs": [],
   "source": [
    "# n_dim = 2\n",
    "if n_dim == 2:\n",
    "    Gr = []\n",
    "    for i in range(size[0]):\n",
    "        tmp_Gr = rif_to_rdf(RIF_data[i], r_list, k_list)\n",
    "        Gr.append(tmp_Gr)\n",
    "\n",
    "    Gr = np.asarray(Gr).reshape(RIF_data.shape[0], r_size)\n",
    "    print(Gr.shape)\n",
    "    \n",
    "elif n_dim == 3:\n",
    "    Gr = []\n",
    "    for i in range(size[1]):\n",
    "        for j in range(size[0]):\n",
    "            tmp_Gr = rif_to_rdf(RIF_data[i, j], r_list, k_list)\n",
    "            Gr.append(tmp_Gr)\n",
    "\n",
    "    Gr = np.asarray(Gr).reshape(RIF_data.shape[0], r_size)\n",
    "    print(Gr.shape)    "
   ]
  },
  {
   "cell_type": "code",
   "execution_count": null,
   "id": "057b255e-a0a3-4851-b221-a2535c4a2593",
   "metadata": {},
   "outputs": [],
   "source": [
    "%matplotlib qt"
   ]
  },
  {
   "cell_type": "code",
   "execution_count": null,
   "id": "ae98d0b7-d60a-4160-8d11-7aa7dd35eb6c",
   "metadata": {},
   "outputs": [],
   "source": [
    "%matplotlib inline"
   ]
  },
  {
   "cell_type": "code",
   "execution_count": null,
   "id": "5c6371da-5c30-44eb-a34f-b73409ae49ad",
   "metadata": {},
   "outputs": [],
   "source": [
    "fig, ax = plt.subplots(1, 1, figsize=(8, 5))\n",
    "for i, line in enumerate(Gr):\n",
    "    if i != 0:\n",
    "        ax.plot(r_list, line, c=color_rep[i], label=\"%d\"%(i))\n",
    "\n",
    "ax.grid()\n",
    "ax.set_xlabel(unit[-1][-1], fontsize=15)\n",
    "ax.tick_params(axis=\"both\", labelsize=15)\n",
    "fig.tight_layout()\n",
    "#fig.legend()\n",
    "plt.show()"
   ]
  },
  {
   "cell_type": "code",
   "execution_count": null,
   "id": "55c2b2e5-900f-421b-88d5-2656aeb16811",
   "metadata": {},
   "outputs": [],
   "source": [
    "fig, ax = plt.subplots(1, 1, figsize=(8, 5))\n",
    "for i, line in enumerate(Gr):\n",
    "    ax.plot(r_list, ndimage.gaussian_filter(line, sigma=2), c=color_rep[i], label=\"%d\"%(i))\n",
    "\n",
    "ax.grid()\n",
    "ax.set_xlabel(unit[-1][-1], fontsize=15)\n",
    "ax.tick_params(axis=\"both\", labelsize=15)\n",
    "fig.tight_layout()\n",
    "#fig.legend()\n",
    "plt.show()"
   ]
  },
  {
   "cell_type": "code",
   "execution_count": null,
   "id": "fcc7bd0a-cd19-4fbe-9f97-97927857b6a0",
   "metadata": {},
   "outputs": [],
   "source": [
    "tifffile.imwrite(tkf.asksaveasfilename(), Gr)"
   ]
  }
 ],
 "metadata": {
  "kernelspec": {
   "display_name": "Python 3 (ipykernel)",
   "language": "python",
   "name": "python3"
  },
  "language_info": {
   "codemirror_mode": {
    "name": "ipython",
    "version": 3
   },
   "file_extension": ".py",
   "mimetype": "text/x-python",
   "name": "python",
   "nbconvert_exporter": "python",
   "pygments_lexer": "ipython3",
   "version": "3.9.6"
  }
 },
 "nbformat": 4,
 "nbformat_minor": 5
}
