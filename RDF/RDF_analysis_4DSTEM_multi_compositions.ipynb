{
 "cells": [
  {
   "cell_type": "code",
   "execution_count": null,
   "id": "87fc5055-72f1-44e2-91de-c8f1b69122cb",
   "metadata": {},
   "outputs": [],
   "source": [
    "from scipy.interpolate import interp1d\n",
    "from scipy.optimize import curve_fit\n",
    "from scipy.integrate import simpson\n",
    "from sklearn.linear_model import Ridge\n",
    "import numpy as np\n",
    "import matplotlib.pyplot as plt\n",
    "import tkinter.filedialog as tkf\n",
    "import hyperspy.api as hys\n",
    "import tifffile\n",
    "from scipy import ndimage\n",
    "import ipywidgets as pyw\n",
    "plt.rcParams['font.family'] = 'Times New Roman'\n",
    "color_rep = [\"black\", \"orange\", \"purple\", \"blue\", \"red\", \"green\", \"yellow\", \"lime\", \n",
    "             \"cyan\", \"magenta\", \"lightgray\", \"peru\", \"springgreen\", \"deepskyblue\", \n",
    "             \"hotpink\", \"darkgray\"]"
   ]
  },
  {
   "cell_type": "code",
   "execution_count": null,
   "id": "4cc69106-5e4f-4628-848b-6061d576fb9c",
   "metadata": {
    "tags": []
   },
   "outputs": [],
   "source": [
    "s = [0,0.05,0.1,0.15,0.2,0.25,0.3,0.35,0.4,0.5,0.6,0.7,0.8,0.9,1,1.2,1.4,1.6,1.8,2,2.5,3,4,6]\n",
    "B_AF = [4.420007125,4.17476802,3.562240581,2.837929736,2.182057711,1.661922679,1.274102699,0.99236289,0.788187077,0.528119561,0.379835451,0.288583691,0.2281294,0.187066108,0.155127992,0.1140647,0.086689172,0.06843882,0.054751056,0.04562588,0.029656822,0.020531646,0.01140647,0.005703235]\n",
    "C_AF = [3.921544386,3.761853806,3.35350218,2.827663913,2.30410694,1.84784814,1.477137865,1.18627288,0.961565421,0.655872025,0.471087211,0.354741217,0.277177221,0.224707459,0.185925461,0.134596346,0.101517583,0.07984529,0.065016879,0.053610409,0.035360057,0.025094234,0.013687764,0.006843882]\n",
    "N_AF = [3.497223702,3.38772159,3.103700487,2.718161801,2.308669528,1.925412136,1.593483859,1.317447285,1.092739826,0.767655431,0.55891703,0.42203939,0.329646983,0.264630104,0.217863577,0.156268639,0.117486641,0.092392407,0.074142055,0.061594938,0.041063292,0.028516175,0.015969058,0.006843882]\n",
    "O_AF = [3.14818572,3.070621724,2.865305264,2.576721573,2.255059119,1.937959253,1.649375562,1.397292575,1.185132233,0.860047838,0.63876232,0.487056269,0.382116745,0.306834043,0.252082987,0.179081579,0.134596346,0.104939524,0.084407878,0.069579467,0.04562588,0.033078763,0.018250352,0.007984529]\n",
    "\n",
    "C_at = np.array([96.50306,97.0115,97.11562,97.078285,97.484886,97.40846,97.29728,97.188,97.19592,93.06823,93.21894,93.18482,93.07648,92.61424,90.72497,87.01168,82.85428,78.24188])\n",
    "B_at = np.array([0,0,0,0,0,0,0,0,0,0,0,0,0,0,0,0,0,0])\n",
    "N_at = np.array([0,0,0,0,0,0,0,0,0,0,0,0.02188113,0.22326997,1.3212804,3.341334,5.9228334,9.115244,10.623713])\n",
    "O_at = np.array([3.4969392,2.988503,2.8843787,2.9217155,2.5151057,2.5915408,2.7027304,2.8119998,2.804078,6.9317694,6.7810555,6.793295,6.7002487,6.064484,5.9336953,7.0654817,8.030481,11.134399])\n",
    "depth = np.arange(len(C_at))"
   ]
  },
  {
   "cell_type": "code",
   "execution_count": null,
   "id": "eb003726-0db7-45df-8f6e-752d49cedb8d",
   "metadata": {},
   "outputs": [],
   "source": [
    "damp = tifffile.imread(\"./setting/filters/damping_filter.tif\")\n",
    "print(damp.shape)\n",
    "\n",
    "filter_types = [\"boxcar\", \"trangular\", \"trapezoidal\", \"Happ-Genzel\", \"3TEM BH\", \"4TEM BH\"]"
   ]
  },
  {
   "cell_type": "code",
   "execution_count": null,
   "id": "1e82b516-41db-4adf-8046-2fa0a87f3318",
   "metadata": {
    "tags": []
   },
   "outputs": [],
   "source": [
    "B_AF_sqr = tifffile.imread(\"./setting/AFFs_300keV/05_Boron_300keV_fs_square_0.005A.tif\").squeeze()\n",
    "B_AF = np.sqrt(B_AF_sqr)\n",
    "B_AF /= np.max(B_AF)\n",
    "C_AF_sqr = tifffile.imread(\"./setting/AFFs_300keV/06_Carbon_300keV_fs_square_0.005A.tif\").squeeze()\n",
    "C_AF = np.sqrt(C_AF_sqr)\n",
    "C_AF /= np.max(C_AF)\n",
    "N_AF_sqr = tifffile.imread(\"./setting/AFFs_300keV/07_Nitrogen_300keV_fs_square_0.005A.tif\").squeeze()\n",
    "N_AF = np.sqrt(N_AF_sqr)\n",
    "N_AF /= np.max(N_AF)\n",
    "O_AF_sqr = tifffile.imread(\"./setting/AFFs_300keV/08_Oxygen_300keV_fs_square_0.005A.tif\").squeeze()\n",
    "O_AF = np.sqrt(O_AF_sqr)\n",
    "O_AF /= np.max(O_AF)\n",
    "\n",
    "k_scale = 0.005 # Angstrom\n",
    "s = np.arange(0, k_scale*len(B_AF), k_scale)\n",
    "print(len(s))"
   ]
  },
  {
   "cell_type": "code",
   "execution_count": null,
   "id": "8f1e921c-21e7-41ba-898b-89e84765fc8a",
   "metadata": {},
   "outputs": [],
   "source": [
    "raw_adr = tkf.askopenfilename()\n",
    "print(raw_adr)"
   ]
  },
  {
   "cell_type": "code",
   "execution_count": null,
   "id": "78a76f64-7571-43a0-a502-50fba328a325",
   "metadata": {},
   "outputs": [],
   "source": [
    "# Load a data (DM)\n",
    "rot_dp = hys.load(raw_adr)\n",
    "print(rot_dp)\n",
    "rot_dp_data = rot_dp.data.copy()\n",
    "print(rot_dp_data.shape)\n",
    "n_dim = len(rot_dp_data.shape)\n",
    "print(n_dim)"
   ]
  },
  {
   "cell_type": "code",
   "execution_count": null,
   "id": "f0e9b643-2058-4c32-81d7-ae124bd527f0",
   "metadata": {},
   "outputs": [],
   "source": [
    "scale = []\n",
    "origin = []\n",
    "unit = []\n",
    "size = []\n",
    "\n",
    "if n_dim == 2:\n",
    "    scale.append(rot_dp.axes_manager[0].scale)\n",
    "    origin.append(rot_dp.axes_manager[0].offset)\n",
    "    unit.append(rot_dp.axes_manager[0].units)\n",
    "    size.append(1)   \n",
    "\n",
    "for i in range(n_dim):\n",
    "    print(rot_dp.axes_manager[i].scale, rot_dp.axes_manager[i].offset, rot_dp.axes_manager[i].units, rot_dp.axes_manager[i].size)\n",
    "    scale.append(rot_dp.axes_manager[i].scale)\n",
    "    origin.append(rot_dp.axes_manager[i].offset)\n",
    "    unit.append(rot_dp.axes_manager[i].units)\n",
    "    size.append(rot_dp.axes_manager[i].size)"
   ]
  },
  {
   "cell_type": "code",
   "execution_count": null,
   "id": "3c32e843-6273-44a6-9154-5c8a9d47b8ca",
   "metadata": {},
   "outputs": [],
   "source": [
    "rot_dp_data = rot_dp_data / np.expand_dims(np.max(rot_dp_data, axis=n_dim-1), axis=-1)\n",
    "if n_dim == 2:\n",
    "    rot_dp_data = np.expand_dims(rot_dp_data, axis=0)\n",
    "    n_dim = 3"
   ]
  },
  {
   "cell_type": "code",
   "execution_count": null,
   "id": "66aa6376-2f67-4d9f-895f-60db499cd32c",
   "metadata": {},
   "outputs": [],
   "source": [
    "k_list = np.arange(origin[n_dim-1], origin[n_dim-1]+scale[n_dim-1]*size[n_dim-1], scale[n_dim-1])\n",
    "print(k_list.shape)\n",
    "print(k_list.min(), k_list.max())"
   ]
  },
  {
   "cell_type": "code",
   "execution_count": null,
   "id": "e7d8152d-a015-45bb-885c-51b7b7eefc55",
   "metadata": {},
   "outputs": [],
   "source": [
    "exp_depth = np.linspace(depth[0], depth[-1], rot_dp_data.shape[1])\n",
    "\n",
    "interpolation = interp1d(depth, B_at*0.01, kind=\"cubic\")\n",
    "B_atp = interpolation(exp_depth)\n",
    "\n",
    "interpolation = interp1d(depth, C_at*0.01, kind=\"cubic\")\n",
    "C_atp = interpolation(exp_depth)\n",
    "\n",
    "interpolation = interp1d(depth, N_at*0.01, kind=\"cubic\")\n",
    "N_atp = interpolation(exp_depth)\n",
    "\n",
    "interpolation = interp1d(depth, O_at*0.01, kind=\"cubic\")\n",
    "O_atp = interpolation(exp_depth)"
   ]
  },
  {
   "cell_type": "code",
   "execution_count": null,
   "id": "e205dcdb-4975-4a8b-9dcb-9e9822bb87ce",
   "metadata": {},
   "outputs": [],
   "source": [
    "interpolation = interp1d(s, B_AF, kind=\"cubic\")\n",
    "NB_AF = interpolation(k_list)\n",
    "NB_AF /= np.max(NB_AF)\n",
    "\n",
    "interpolation = interp1d(s, C_AF, kind=\"cubic\")\n",
    "NC_AF = interpolation(k_list)\n",
    "NC_AF /= np.max(NC_AF)\n",
    "\n",
    "interpolation = interp1d(s, N_AF, kind=\"cubic\")\n",
    "NN_AF = interpolation(k_list)\n",
    "NN_AF /= np.max(NN_AF)\n",
    "\n",
    "interpolation = interp1d(s, O_AF, kind=\"cubic\")\n",
    "NO_AF = interpolation(k_list)\n",
    "NO_AF /= np.max(NO_AF)\n",
    "\n",
    "AF_mean = (NB_AF[np.newaxis, :]*B_atp[:, np.newaxis] + NC_AF[np.newaxis, :]*C_atp[:, np.newaxis] + \n",
    "           NN_AF[np.newaxis, :]*N_atp[:, np.newaxis] + NO_AF[np.newaxis, :]*O_atp[:, np.newaxis])\n",
    "print(len(AF_mean))\n",
    "\n",
    "AF_mean_square = AF_mean**2\n",
    "print(len(AF_mean_square))\n",
    "\n",
    "AF_square_mean = ((NB_AF[np.newaxis, :]*B_atp[:, np.newaxis])**2 + (NC_AF[np.newaxis, :]*C_atp[:, np.newaxis])**2 + \n",
    "                  (NN_AF[np.newaxis, :]*N_atp[:, np.newaxis])**2 + (NO_AF[np.newaxis, :]*O_atp[:, np.newaxis])**2)\n",
    "print(len(AF_square_mean))"
   ]
  },
  {
   "cell_type": "code",
   "execution_count": null,
   "id": "1706eb71-e0fb-46e2-ba6f-a2d0a378b34f",
   "metadata": {},
   "outputs": [],
   "source": [
    "%matplotlib inline"
   ]
  },
  {
   "cell_type": "code",
   "execution_count": null,
   "id": "142f5aaf-169c-4bef-96b7-cf30a4937e97",
   "metadata": {},
   "outputs": [],
   "source": [
    "%matplotlib widget"
   ]
  },
  {
   "cell_type": "code",
   "execution_count": null,
   "id": "52a92f42-2026-4055-a638-1efd21579b38",
   "metadata": {},
   "outputs": [],
   "source": [
    "%matplotlib qt"
   ]
  },
  {
   "cell_type": "code",
   "execution_count": null,
   "id": "4d0bec49-e8b4-4baa-8933-6853865af0d3",
   "metadata": {},
   "outputs": [],
   "source": [
    "fig, ax = plt.subplots(1, 1, figsize=(8, 6))\n",
    "for i in range(len(AF_mean_square)):\n",
    "    ax.plot(k_list, AF_mean_square[0], 'r-')\n",
    "    ax.plot(k_list, AF_mean_square[-1], 'k-')\n",
    "    ax.plot(k_list, AF_square_mean[0], 'g+')\n",
    "    ax.plot(k_list, AF_square_mean[-1], 'b+')\n",
    "ax.grid()\n",
    "fig.tight_layout()\n",
    "plt.show()"
   ]
  },
  {
   "cell_type": "code",
   "execution_count": null,
   "id": "ea7a723d-98fb-40d8-8941-1175c16a44b6",
   "metadata": {},
   "outputs": [],
   "source": [
    "def rif_to_rdf(rif, r_list, k_list):\n",
    "    gr = []\n",
    "    for i in range(len(r_list)):\n",
    "        sin_rk = np.sin(2*np.pi*r_list[i]*k_list)\n",
    "        rif_sin = rif * sin_rk\n",
    "        gr_tmp = 8 * np.pi * simpson(rif_sin, dx=(k_list[1]-k_list[0]))\n",
    "        gr.append(gr_tmp)\n",
    "    \n",
    "    return np.asarray(gr)"
   ]
  },
  {
   "cell_type": "code",
   "execution_count": null,
   "id": "0d2f003a-d093-47a0-93f7-bd6507149d8b",
   "metadata": {},
   "outputs": [],
   "source": [
    "r_size = 500\n",
    "r_scale = 0.01 # Angstrom\n",
    "r_list = np.arange(r_size) * r_scale\n",
    "r_unit = unit[-1][-1]\n",
    "print(r_list.shape)\n",
    "print(r_scale)\n",
    "print(r_unit)\n",
    "#print(r_list)"
   ]
  },
  {
   "cell_type": "code",
   "execution_count": null,
   "id": "2f0e939e-0c24-4476-a596-061f9706304a",
   "metadata": {},
   "outputs": [],
   "source": [
    "rgr_ridge = Ridge(alpha=0.0)"
   ]
  },
  {
   "cell_type": "code",
   "execution_count": null,
   "id": "a7a2f952-1aa8-49a3-bfca-237be658aca1",
   "metadata": {},
   "outputs": [],
   "source": [
    "%matplotlib widget\n",
    "fig, ax = plt.subplots(2, 2, figsize=(8, 5))\n",
    "int_img = np.sum(rot_dp_data, axis=2)\n",
    "\n",
    "def RDF_4DSTEM(yp, xp, aph, fit_range, ln, ln_check, f_n, f_c, full_check):\n",
    "    \n",
    "    for a in ax.flat:\n",
    "        a.cla()\n",
    "        \n",
    "    ax[0][0].imshow(int_img, cmap=\"gray\")\n",
    "    ax[0][0].axis(\"off\")\n",
    "    ax[0][0].scatter(xp, yp, c=\"red\", s=15)\n",
    "    \n",
    "    filt = damp[f_n].copy()\n",
    "    filt[int(f_c*len(filt)):] = 0\n",
    "    print(filter_types[f_n])\n",
    "    ind = np.linspace(0, len(filt)-1, size[n_dim-1]).astype(np.int16)\n",
    "    filt = filt[ind]\n",
    "    rot_dp_tmp = rot_dp_data[yp, xp]\n",
    "    \n",
    "    if ln_check:\n",
    "        rgr_ridge.fit(AF_mean_square[xp, fit_range[0]:fit_range[1]].reshape(-1, 1), rot_dp_tmp[fit_range[0]:fit_range[1]].reshape(-1, 1))\n",
    "        print(\"fitted N value = %f\"%rgr_ridge.coef_[0][0])\n",
    "        ln = rgr_ridge.coef_[0][0]\n",
    "    \n",
    "    Nfs_tmp = ln*AF_mean_square[xp]\n",
    "    rif_tmp = ((rot_dp_tmp + aph - Nfs_tmp) / (ln*AF_square_mean[xp])) * k_list\n",
    "    rif_tmp_filtered = (((rot_dp_tmp + aph - Nfs_tmp) / (ln*AF_square_mean[xp])) * k_list) * filt\n",
    "    \n",
    "    ax[0][1].plot(k_list, rot_dp_tmp, 'k-')\n",
    "    ax[0][1].plot(k_list, Nfs_tmp, 'r-')\n",
    "    ax[0][1].set_ylim(ymin=0.0, ymax=0.002)\n",
    "    ax[0][1].fill_between([k_list[fit_range[0]], k_list[fit_range[1]]], np.max(rot_dp_tmp), alpha=0.5, color=\"orange\")\n",
    "    ax[0][1].grid()\n",
    "    ax[1][0].plot(k_list, rif_tmp, 'k-')\n",
    "    ax[1][0].plot(k_list, rif_tmp_filtered, 'g-')\n",
    "    ax[1][0].fill_between([k_list[fit_range[0]], k_list[fit_range[1]]], np.max(rif_tmp), alpha=0.5, color=\"orange\")\n",
    "    ax[1][0].grid()\n",
    "    \n",
    "    tmp_Gr = rif_to_rdf(rif_tmp_filtered, r_list, k_list)\n",
    "    ax[1][1].plot(r_list, tmp_Gr, 'k-')\n",
    "    if not full_check:\n",
    "        ax[1][1].set_xlim(xmin=1.0, xmax=2.5)\n",
    "    ax[1][1].grid()\n",
    "    \n",
    "    fig.tight_layout()\n",
    "    \n",
    "st = {\"description_width\": \"initial\"}\n",
    "y_wg = pyw.BoundedIntText(value=0, min=0, max=size[1]-1, description=\"y position\", style=st)\n",
    "x_wg = pyw.BoundedIntText(value=0, min=0, max=size[0]-1, description=\"x position\", style=st)\n",
    "N_wg = pyw.BoundedFloatText(value=1.0, min=0.00001, step=0.001, description=\"N\", style=st)\n",
    "N_manual = pyw.Checkbox(value=True, description=\"use the fitted value of N\")\n",
    "fit_range_wg = pyw.IntRangeSlider(value=[70, 80], \n",
    "                                  min=40, max=size[n_dim-1]-1, description=\"N fitting range\")\n",
    "alpha_wg = pyw.FloatText(value=0.0, step=0.000001, description=\"alpha\", style=st)\n",
    "filter_wg = pyw.BoundedIntText(value=0, min=0, max=len(filter_types)-1, description=\"filter\", style=st)\n",
    "filter_cut_wg = pyw.BoundedFloatText(value=0.8, min=0.0, max=1.0, step=0.05, description=\"filter high cut\", style=st)\n",
    "full_wg = pyw.Checkbox(value=True, description=\"show the full range of RDF\")\n",
    "\n",
    "pyw.interact(RDF_4DSTEM, yp=y_wg, xp=x_wg, aph=alpha_wg, fit_range=fit_range_wg, \n",
    "             ln=N_wg, ln_check=N_manual, f_n=filter_wg, f_c=filter_cut_wg, full_check=full_wg)\n",
    "plt.show()"
   ]
  },
  {
   "cell_type": "code",
   "execution_count": null,
   "id": "51655d45-5344-410e-bcd1-fe403dab06b1",
   "metadata": {},
   "outputs": [],
   "source": [
    "alpha = alpha_wg.value\n",
    "print(alpha)\n",
    "N_check = N_manual.value\n",
    "print(N_check)\n",
    "N = N_wg.value\n",
    "print(N)\n",
    "filter_select = filter_wg.value\n",
    "print(filter_select)\n",
    "high_cut = filter_cut_wg.value\n",
    "print(high_cut)\n",
    "fit_range = fit_range_wg.value\n",
    "print(fit_range)"
   ]
  },
  {
   "cell_type": "code",
   "execution_count": null,
   "id": "5c2b9edd-6154-40e9-83fb-1913bc871777",
   "metadata": {},
   "outputs": [],
   "source": [
    "RIF_data = []\n",
    "for i in range(size[1]):\n",
    "    for j in range(size[0]):\n",
    "        if N_check:\n",
    "            rgr_ridge.fit(AF_mean_square[j, fit_range[0]:fit_range[1]].reshape(-1, 1),rot_dp_data[i, j][fit_range[0]:fit_range[1]].reshape(-1, 1))\n",
    "            N = rgr_ridge.coef_[0][0]\n",
    "        filt = damp[filter_select].copy()\n",
    "        filt[int(high_cut*len(filt)):] = 0\n",
    "        ind = np.linspace(0, len(filt)-1, size[n_dim-1]).astype(np.int16)\n",
    "        filt = filt[ind]\n",
    "        rif = (((rot_dp_data[i, j] + alpha - N*AF_mean_square[j]) / (N*AF_square_mean[j])) * k_list) * filt\n",
    "        RIF_data.append(rif)\n",
    "               \n",
    "RIF_data = np.asarray(RIF_data).reshape(size[1], size[0], -1)"
   ]
  },
  {
   "cell_type": "code",
   "execution_count": null,
   "id": "d85643a7-2148-4fb0-ba81-81f916a5662a",
   "metadata": {},
   "outputs": [],
   "source": [
    "%matplotlib inline"
   ]
  },
  {
   "cell_type": "code",
   "execution_count": null,
   "id": "166f83a0-9f92-4f02-be85-14e418a4f52d",
   "metadata": {},
   "outputs": [],
   "source": [
    "%matplotlib widget"
   ]
  },
  {
   "cell_type": "code",
   "execution_count": null,
   "id": "6a6a909e-8a21-4c58-b98e-4f7886c8bb59",
   "metadata": {},
   "outputs": [],
   "source": [
    "%matplotlib qt"
   ]
  },
  {
   "cell_type": "code",
   "execution_count": null,
   "id": "deb2a5a5-5ed8-4004-8826-f4dc56ea465d",
   "metadata": {},
   "outputs": [],
   "source": [
    "Gr = []\n",
    "for i in range(size[1]):\n",
    "    for j in range(size[0]):\n",
    "        tmp_Gr = rif_to_rdf(RIF_data[i, j], r_list, k_list)\n",
    "        Gr.append(tmp_Gr)\n",
    "\n",
    "Gr = np.asarray(Gr).reshape(size[1], size[0], -1)\n",
    "print(Gr.shape)    "
   ]
  },
  {
   "cell_type": "code",
   "execution_count": null,
   "id": "b768c613-0dc7-4867-a80a-1f216a7c1beb",
   "metadata": {},
   "outputs": [],
   "source": [
    "fig, ax = plt.subplots(1, 1, figsize=(8, 6))\n",
    "for i in range(size[0]):\n",
    "    ax.plot(r_list, Gr[0, i])\n",
    "ax.grid()\n",
    "ax.set_xlim(xmin=1.0, xmax=3.0)\n",
    "ax.set_ylim(ymin=-5.0, ymax=5.0)\n",
    "fig.tight_layout()\n",
    "plt.show()"
   ]
  },
  {
   "cell_type": "code",
   "execution_count": null,
   "id": "d1a0a041-f851-444e-b35e-4a108ce72f43",
   "metadata": {},
   "outputs": [],
   "source": [
    "tifffile.imwrite(raw_adr[:-4]+\"_Gr_upto_%dA_size_%d_04.tif\"%(int(r_size*r_scale), r_size), Gr)"
   ]
  },
  {
   "cell_type": "code",
   "execution_count": null,
   "id": "efaeab72-2a69-4fcb-bf25-961aac6e6468",
   "metadata": {},
   "outputs": [],
   "source": [
    "tifffile.imwrite(raw_adr[:-4]+\"_RIF.tif\", RIF_data)"
   ]
  }
 ],
 "metadata": {
  "kernelspec": {
   "display_name": "Python 3 (ipykernel)",
   "language": "python",
   "name": "python3"
  },
  "language_info": {
   "codemirror_mode": {
    "name": "ipython",
    "version": 3
   },
   "file_extension": ".py",
   "mimetype": "text/x-python",
   "name": "python",
   "nbconvert_exporter": "python",
   "pygments_lexer": "ipython3",
   "version": "3.9.6"
  }
 },
 "nbformat": 4,
 "nbformat_minor": 5
}
