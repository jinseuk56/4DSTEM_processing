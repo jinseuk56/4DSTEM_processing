{
 "cells": [
  {
   "cell_type": "code",
   "execution_count": 1,
   "metadata": {},
   "outputs": [
    {
     "name": "stderr",
     "output_type": "stream",
     "text": [
      "WARNING:hyperspy_gui_traitsui:The module://ipykernel.pylab.backend_inline matplotlib backend is not compatible with the traitsui GUI elements. For more information, read http://hyperspy.readthedocs.io/en/stable/user_guide/getting_started.html#possible-warnings-when-importing-hyperspy.\n",
      "WARNING:hyperspy_gui_traitsui:The traitsui GUI elements are not available.\n"
     ]
    }
   ],
   "source": [
    "from scipy import stats\n",
    "import numpy as np\n",
    "import matplotlib.pyplot as plt\n",
    "from matplotlib.widgets import RectangleSelector\n",
    "import tkinter.filedialog as tkf\n",
    "import hyperspy.api as hys\n",
    "from scipy import optimize\n",
    "from ipywidgets import interact\n",
    "import ipywidgets as widgets\n",
    "import time"
   ]
  },
  {
   "cell_type": "code",
   "execution_count": null,
   "metadata": {},
   "outputs": [],
   "source": [
    "hys.preferences.gui()"
   ]
  },
  {
   "cell_type": "code",
   "execution_count": 2,
   "metadata": {},
   "outputs": [],
   "source": [
    "# refer to https://scipy-cookbook.readthedocs.io/items/FittingData.html\n",
    "\n",
    "def gaussian(height, center_x, center_y, width_x, width_y):\n",
    "    \"\"\"Returns a gaussian function with the given parameters\"\"\"\n",
    "    width_x = float(width_x)\n",
    "    width_y = float(width_y)\n",
    "    return lambda x,y: height*np.exp(\n",
    "                -(((center_x-x)/width_x)**2+((center_y-y)/width_y)**2)/2)\n",
    "\n",
    "def moments(data):\n",
    "    \"\"\"Returns (height, x, y, width_x, width_y)\n",
    "    the gaussian parameters of a 2D distribution by calculating its\n",
    "    moments \"\"\"\n",
    "    total = data.sum()\n",
    "    X, Y = np.indices(data.shape) # row, col\n",
    "    x = (X*data).sum()/total # row\n",
    "    y = (Y*data).sum()/total # col\n",
    "    col = data[:, int(y)]\n",
    "    width_x = np.sqrt(np.abs((np.arange(col.size)-y)**2*col).sum()/col.sum()) # row\n",
    "    row = data[int(x), :]\n",
    "    width_y = np.sqrt(np.abs((np.arange(row.size)-x)**2*row).sum()/row.sum()) # col\n",
    "    height = data.max()\n",
    "    return height, x, y, width_x, width_y\n",
    "\n",
    "def fitgaussian(data):\n",
    "    \"\"\"Returns (height, x, y, width_x, width_y)\n",
    "    the gaussian parameters of a 2D distribution found by a fit\"\"\"\n",
    "    params = moments(data)\n",
    "    errorfunction = lambda p: np.ravel(gaussian(*p)(*np.indices(data.shape)) -\n",
    "                                 data)\n",
    "    p, success = optimize.leastsq(errorfunction, params)\n",
    "    return p"
   ]
  },
  {
   "cell_type": "code",
   "execution_count": 3,
   "metadata": {},
   "outputs": [],
   "source": [
    "# refer to \"github.com/mkolopanis/python/blob/master/radialProfile.py\"\n",
    "\n",
    "def radial_average_with_center(image, profile_resolution=1.0, center=None):\n",
    "   \n",
    "    y, x = np.indices(image.shape) * profile_resolution\n",
    "    if not center:\n",
    "        center = np.array([(y.max()-y.min())/2.0, (x.max()-x.min())/2.0])\n",
    "        \n",
    "    r = np.hypot(y - center[0]*profile_resolution, x - center[1]*profile_resolution)\n",
    "    #plt.imshow(r, cmap=\"Accent\")\n",
    "    #plt.show()\n",
    "\n",
    "    # Get sorted radii\n",
    "    ind = np.argsort(r.flat)\n",
    "    r_sorted = r.flat[ind]\n",
    "    i_sorted = image.flat[ind]\n",
    "\n",
    "    # Get the integer part of the radii (bin size = 1)\n",
    "    r_int = np.around(r_sorted)\n",
    "\n",
    "    # Find all pixels that fall within each radial bin.\n",
    "    deltar = r_int[1:] - r_int[:-1]  # Assumes all radii represented\n",
    "    rind = np.where(deltar)[0]       # location of changed radius\n",
    "    nr = rind[1:] - rind[:-1]        # number of radius bin\n",
    "    #print(nr)\n",
    "    \n",
    "    csim = np.cumsum(i_sorted, dtype=float)\n",
    "    tbin = csim[rind[1:]] - csim[rind[:-1]]\n",
    "\n",
    "    radial_prof = tbin / nr\n",
    "\n",
    "    return radial_prof"
   ]
  },
  {
   "cell_type": "code",
   "execution_count": 4,
   "metadata": {},
   "outputs": [],
   "source": [
    "def gaussian_center(image, cbox_edge=0):\n",
    "    y, x = np.indices(image.shape)\n",
    "    if not cbox_edge:\n",
    "        center = np.array([(y.max()-y.min())/2.0, (x.max()-x.min())/2.0])\n",
    "        \n",
    "    else:\n",
    "        cbox_outy = int(image.shape[0]/2 - cbox_edge/2)\n",
    "        cbox_outx = int(image.shape[1]/2 - cbox_edge/2)\n",
    "        center_box = image[cbox_outy:-cbox_outy, cbox_outx:-cbox_outx]\n",
    "        fit_params = fitgaussian(center_box)\n",
    "        (_, center_y, center_x, _, _) = fit_params\n",
    "        center = [center_y+cbox_outy, center_x+cbox_outx]\n",
    "        \n",
    "    return center"
   ]
  },
  {
   "cell_type": "code",
   "execution_count": 5,
   "metadata": {},
   "outputs": [],
   "source": [
    "def remove_center_beam(image, center=None, cb_rad=0):\n",
    "    y, x = np.indices(image.shape)\n",
    "    if not center:\n",
    "        center = np.array([(y.max()-y.min())/2.0, (x.max()-x.min())/2.0])\n",
    "        \n",
    "    r = np.hypot(y - center[0], x - center[1])\n",
    "    r = np.around(r)\n",
    "    ri = np.where(r<=cb_rad)\n",
    "    #print(ri[0].shape)\n",
    "    \n",
    "    image[ri] = 0\n",
    "    \n",
    "    return image"
   ]
  },
  {
   "cell_type": "code",
   "execution_count": 6,
   "metadata": {},
   "outputs": [],
   "source": [
    "# refer to github.com/mkolopanis/python/blob/master/radialProfile.py\n",
    "\n",
    "def radial_variance(image, profile_resolution=1.0, center=None):\n",
    "   \n",
    "    y, x = np.indices(image.shape) * profile_resolution\n",
    "    if not center:\n",
    "        center = np.array([(y.max()-y.min())/2.0, (x.max()-x.min())/2.0])\n",
    "        \n",
    "    r = np.hypot(y - center[0]*profile_resolution, x - center[1]*profile_resolution)\n",
    "    #plt.imshow(r, cmap=\"Accent\")\n",
    "    #plt.show()\n",
    "\n",
    "    # Get sorted radii\n",
    "    ind = np.argsort(r.flat)\n",
    "    r_sorted = r.flat[ind]\n",
    "    i_sorted = image.flat[ind]\n",
    "\n",
    "    # Get the integer part of the radii (bin size = 1)\n",
    "    r_int = np.around(r_sorted)\n",
    "\n",
    "    # Find all pixels that fall within each radial bin.\n",
    "    deltar = r_int[1:] - r_int[:-1]  # Assumes all radii represented\n",
    "    rind = np.where(deltar)[0]       # location of changed radius\n",
    "    nr = rind[1:] - rind[:-1]        # number of radius bin\n",
    "    \n",
    "    csim = np.cumsum(i_sorted, dtype=float)\n",
    "    sq_csim = np.cumsum(np.square(i_sorted), dtype=float)\n",
    "    \n",
    "    #plt.plot(np.square(csim), c=\"red\")\n",
    "    #plt.plot(sq_csim, c=\"blue\")\n",
    "    \n",
    "    avg_square = np.square((csim[rind[1:]] - csim[rind[:-1]]) / nr)\n",
    "    square_avg = (sq_csim[rind[1:]] - sq_csim[rind[:-1]]) / nr\n",
    "    \n",
    "    #plt.plot(avg_square[20:], c=\"red\")\n",
    "    #plt.plot(square_avg[20:], c=\"blue\")\n",
    "    \n",
    "    mask = avg_square.copy()\n",
    "    mask[np.where(avg_square==0)] = 1.0\n",
    "    radial_var = (square_avg - avg_square) / mask\n",
    "    \n",
    "    return radial_var    "
   ]
  },
  {
   "cell_type": "code",
   "execution_count": 7,
   "metadata": {},
   "outputs": [],
   "source": [
    "def radial_variance_with_angle(image, angle_range=None, center=None):\n",
    "    \n",
    "    y, x = np.indices(image.shape)\n",
    "    \n",
    "    if not center:\n",
    "        center = np.array([(y.max()-y.min())/2.0, (x.max()-x.min())/2.0])\n",
    "    \n",
    "    angle_arr = np.zeros(image.shape)\n",
    "    for i in range(image.shape[0]):\n",
    "        for j in range(image.shape[1]):\n",
    "            angle_arr[i, j] = np.angle(complex(x[i, j]-center[1], y[i, j]-center[0]), deg=True)\n",
    "            \n",
    "    angle_arr = angle_arr + 180\n",
    "    angle_arr = np.around(angle_arr)\n",
    "\n",
    "    r = np.hypot(y - center[0], x - center[1])\n",
    "    \n",
    "    r_int_map = np.around(r)\n",
    "    \n",
    "    if angle_range[0] < angle_range[1]:\n",
    "        sel_img = image.copy()\n",
    "        sel_img[np.where(angle_arr < angle_range[0])] = 0\n",
    "        sel_img[np.where(angle_arr > angle_range[1])] = 0\n",
    "        \n",
    "    elif angle_range[0] > angle_range[1]:\n",
    "        temp_i = image.copy()\n",
    "        temp_f = image.copy()\n",
    "        temp_i[np.where(angle_arr < angle_range[0])] = 0\n",
    "        temp_f[np.where(angle_arr > angle_range[1])] = 0\n",
    "        sel_img = temp_i + temp_f\n",
    "        \n",
    "    else:\n",
    "        print(\"wrong angle range\")\n",
    "        exit(1)\n",
    "    \n",
    "    sel_ind = np.nonzero(sel_img)\n",
    "    r_sel_flat = r_int_map[sel_ind]\n",
    "    i_sel_flat = sel_img[sel_ind]\n",
    "    r_unique = np.unique(r_sel_flat)[1:-1]\n",
    "    \n",
    "    avg_square = np.zeros(r_unique.shape)\n",
    "    square_avg = np.zeros(r_unique.shape)\n",
    "    num_rad = np.zeros(r_unique.shape)\n",
    "\n",
    "    for i in range(len(r_unique)):\n",
    "        temp_ind = np.where(r_sel_flat==r_unique[i])\n",
    "        avg_square[i] = np.sum(i_sel_flat[temp_ind])\n",
    "        square_avg[i] = np.sum(np.square(i_sel_flat[temp_ind]))\n",
    "        num_rad[i] = len(temp_ind[0])\n",
    "        \n",
    "    num_rad[np.where(num_rad == 0)] = 1.0\n",
    "    avg_square = np.square(avg_square / num_rad)\n",
    "    square_avg = square_avg / num_rad\n",
    "    \n",
    "    #plt.plot(avg_square[20:], c=\"red\")\n",
    "    #plt.plot(square_avg[20:], c=\"blue\")\n",
    "    \n",
    "    radial_var = (square_avg - avg_square) / avg_square    \n",
    "    #print(radial_var.shape)\n",
    "       \n",
    "    return radial_var"
   ]
  },
  {
   "cell_type": "code",
   "execution_count": 8,
   "metadata": {},
   "outputs": [],
   "source": [
    "def load_binary_4D_stack(img_adr, datatype, original_shape, final_shape, log_scale=False):\n",
    "    raw_stack = np.fromfile(img_adr, dtype=datatype)\n",
    "    stack = raw_stack.reshape(original_shape)\n",
    "    print(stack.shape)\n",
    "    if log_scale:\n",
    "        stack = np.log(stack[:final_shape[0], :final_shape[1], :final_shape[2], :final_shape[3]])\n",
    "    else:\n",
    "        stack = stack[:final_shape[0], :final_shape[1], :final_shape[2], :final_shape[3]]\n",
    "    \n",
    "    print(stack.shape) \n",
    "    return stack"
   ]
  },
  {
   "cell_type": "code",
   "execution_count": 14,
   "metadata": {},
   "outputs": [
    {
     "name": "stdout",
     "output_type": "stream",
     "text": [
      "E:/data_temporary/20190925_DGIST/raw_data/G3_2_2/scan_x256_y256.raw\n"
     ]
    }
   ],
   "source": [
    "raw_adr = tkf.askopenfilename()\n",
    "print(raw_adr)"
   ]
  },
  {
   "cell_type": "code",
   "execution_count": 10,
   "metadata": {},
   "outputs": [],
   "source": [
    "#vacuum_cb_intensity = 2087295.0\n",
    "vacuum_cb_intensity = 2134895.0\n",
    "datatype = \"float32\"\n",
    "o_shape = (256, 256, 130, 128)\n",
    "f_shape = (256, 256, 128, 128)"
   ]
  },
  {
   "cell_type": "code",
   "execution_count": 15,
   "metadata": {},
   "outputs": [
    {
     "name": "stdout",
     "output_type": "stream",
     "text": [
      "(256, 256, 130, 128)\n",
      "(256, 256, 128, 128)\n",
      "1023295.0\n",
      "1111.0\n",
      "5307.9404\n"
     ]
    }
   ],
   "source": [
    "# load a data\n",
    "stack_4d = load_binary_4D_stack(raw_adr, datatype, o_shape, f_shape, log_scale=False)\n",
    "#stack_4d = stack_4d - np.min(stack_4d)\n",
    "#stack_4d = stack_4d / np.max(stack_4d) # normalize absolutely\n",
    "#stack_4d = stack_4d * 1E3\n",
    "print(np.max(stack_4d))\n",
    "print(np.min(stack_4d))\n",
    "print(np.mean(stack_4d))\n",
    "#print(np.median(stack_4d))"
   ]
  },
  {
   "cell_type": "code",
   "execution_count": 16,
   "metadata": {},
   "outputs": [
    {
     "name": "stdout",
     "output_type": "stream",
     "text": [
      "startposition: (113.355986, 3.533540)\n",
      "endposition  : (166.271239, 247.808984)\n",
      "startposition: (100.043973, 1.536738)\n",
      "endposition  : (167.269640, 253.466590)\n"
     ]
    }
   ],
   "source": [
    "# select an interesting area\n",
    "%matplotlib qt\n",
    "fig, ax = plt.subplots(1, 1, figsize=(10, 10))\n",
    "ax.imshow(np.sum(stack_4d, axis=(2, 3)), cmap=\"gray\")\n",
    "\n",
    "def onselect(eclick, erelease):\n",
    "    print('startposition: (%f, %f)' % (eclick.xdata, eclick.ydata))\n",
    "    print('endposition  : (%f, %f)' % (erelease.xdata, erelease.ydata))\n",
    "\n",
    "box = RectangleSelector(ax, onselect)\n",
    "plt.show()"
   ]
  },
  {
   "cell_type": "code",
   "execution_count": 17,
   "metadata": {},
   "outputs": [
    {
     "name": "stdout",
     "output_type": "stream",
     "text": [
      "after cropping...\n",
      "(252, 67, 128, 128)\n",
      "544133.0\n",
      "1197.0\n",
      "4492.1562\n",
      "2710.0\n",
      "maximum intensities...\n",
      "(252, 67)\n",
      "544133.0\n",
      "341651.0\n",
      "401727.7\n",
      "398895.0\n"
     ]
    },
    {
     "data": {
      "image/png": "[encoded data removed]",
      "text/plain": [
       "<Figure size 720x360 with 2 Axes>"
      ]
     },
     "metadata": {
      "needs_background": "light"
     },
     "output_type": "display_data"
    },
    {
     "name": "stdout",
     "output_type": "stream",
     "text": [
      "total intensity\n",
      "(252, 67)\n",
      "79909920.0\n",
      "72100260.0\n",
      "73599770.0\n",
      "73447610.0\n"
     ]
    },
    {
     "data": {
      "image/png": "[encoded data removed]",
      "text/plain": [
       "<Figure size 720x360 with 2 Axes>"
      ]
     },
     "metadata": {
      "needs_background": "light"
     },
     "output_type": "display_data"
    },
    {
     "name": "stdout",
     "output_type": "stream",
     "text": [
      "find the position of the center beam...\n",
      "(252, 67, 2)\n",
      "[64.50265936 65.00893787]\n"
     ]
    },
    {
     "data": {
      "image/png": "[encoded data removed]",
      "text/plain": [
       "<Figure size 432x288 with 1 Axes>"
      ]
     },
     "metadata": {
      "needs_background": "light"
     },
     "output_type": "display_data"
    },
    {
     "data": {
      "image/png": "[encoded data removed]",
      "text/plain": [
       "<Figure size 432x288 with 1 Axes>"
      ]
     },
     "metadata": {
      "needs_background": "light"
     },
     "output_type": "display_data"
    },
    {
     "name": "stdout",
     "output_type": "stream",
     "text": [
      "---------------------------------------------------------------\n",
      "divide by 1000000 (= no normalization)\n",
      "0.544133\n",
      "0.001197\n",
      "0.004492173086094528\n",
      "0.00271\n",
      "remove center beams...\n",
      "0.033032\n",
      "0.0\n",
      "0.002747436613638236\n",
      "0.002534\n",
      "obtain k-point variance map...\n",
      "0.15177906750348838\n",
      "0.0\n",
      "0.08107367488372566\n"
     ]
    },
    {
     "data": {
      "image/png": "[encoded data removed]",
      "text/plain": [
       "<Figure size 720x720 with 1 Axes>"
      ]
     },
     "metadata": {
      "needs_background": "light"
     },
     "output_type": "display_data"
    },
    {
     "name": "stdout",
     "output_type": "stream",
     "text": [
      "(91,)\n"
     ]
    },
    {
     "data": {
      "image/png": "[encoded data removed]",
      "text/plain": [
       "<Figure size 720x720 with 1 Axes>"
      ]
     },
     "metadata": {
      "needs_background": "light"
     },
     "output_type": "display_data"
    },
    {
     "name": "stdout",
     "output_type": "stream",
     "text": [
      "calculate radial variance and save... (no normalization)\n",
      "(252, 67, 91)\n",
      "(91,)\n"
     ]
    },
    {
     "data": {
      "image/png": "[encoded data removed]",
      "text/plain": [
       "<Figure size 720x720 with 1 Axes>"
      ]
     },
     "metadata": {
      "needs_background": "light"
     },
     "output_type": "display_data"
    }
   ],
   "source": [
    "%matplotlib inline\n",
    "\n",
    "# crop the data\n",
    "stack_4d_cropped = stack_4d[int(box.corners[1][0]):int(box.corners[1][2]), \n",
    "                                           int(box.corners[0][0]):int(box.corners[0][1])].copy()\n",
    "print(\"after cropping...\")\n",
    "print(stack_4d_cropped.shape)\n",
    "print(np.max(stack_4d_cropped))\n",
    "print(np.min(stack_4d_cropped))\n",
    "print(np.mean(stack_4d_cropped))\n",
    "print(np.median(stack_4d_cropped))\n",
    "\n",
    "\n",
    "# maximum intensity distribution\n",
    "print(\"maximum intensities...\")\n",
    "max_int = np.max(stack_4d_cropped, axis=(2, 3))\n",
    "print(max_int.shape)\n",
    "print(np.max(max_int))\n",
    "print(np.min(max_int))\n",
    "print(np.mean(max_int))\n",
    "print(np.median(max_int))\n",
    "\n",
    "fig, ax = plt.subplots(1, 2, figsize=(10, 5))\n",
    "ax[0].imshow(max_int, cmap=\"afmhot\")\n",
    "ax[0].axis(\"off\")\n",
    "ax[1].hist(max_int.flatten(), bins=len(max_int))\n",
    "ax[1].grid()\n",
    "plt.show()\n",
    "\n",
    "# total intensity distribution\n",
    "print(\"total intensity\")\n",
    "tot_int = np.sum(stack_4d_cropped, axis=(2, 3))\n",
    "print(tot_int.shape)\n",
    "print(np.max(tot_int))\n",
    "print(np.min(tot_int))\n",
    "print(np.mean(tot_int))\n",
    "print(np.median(tot_int))\n",
    "\n",
    "fig, ax = plt.subplots(1, 2, figsize=(10, 5))\n",
    "ax[0].imshow(tot_int, cmap=\"afmhot\")\n",
    "ax[0].axis(\"off\")\n",
    "ax[1].hist(tot_int.flatten(), bins=len(tot_int))\n",
    "ax[1].grid()\n",
    "plt.show()\n",
    "\n",
    "\n",
    "# find center position\n",
    "print(\"find the position of the center beam...\")\n",
    "center_pos = []\n",
    "for i in range(stack_4d_cropped.shape[0]):\n",
    "    for j in range(stack_4d_cropped.shape[1]):\n",
    "        center_pos.append(gaussian_center(stack_4d_cropped[i, j], cbox_edge=30))\n",
    "        \n",
    "center_pos = np.asarray(center_pos)\n",
    "center_pos = np.reshape(center_pos, (stack_4d_cropped.shape[0], stack_4d_cropped.shape[1], -1))\n",
    "print(center_pos.shape)\n",
    "center_mean = np.mean(center_pos, axis=(0, 1))\n",
    "print(center_mean)\n",
    "\n",
    "# center distibution\n",
    "plt.figure()\n",
    "plt.hist(center_pos[:, :, 0].flatten(), bins=100, density=True, color=\"orange\", label=\"center y position\")\n",
    "plt.hist(center_pos[:, :, 1].flatten(), bins=100, density=True, color=\"gray\", alpha=0.5, label=\"center x position\")\n",
    "plt.grid()\n",
    "plt.legend()\n",
    "plt.show()\n",
    "\n",
    "plt.figure()\n",
    "plt.scatter(center_pos[:, :, 1], center_pos[:, :, 0], s=10.0, alpha=0.5)\n",
    "plt.grid()\n",
    "plt.scatter(center_mean[1], center_mean[0], s=20, c=\"red\")\n",
    "plt.xlabel(\"center x position\", fontsize=20)\n",
    "plt.ylabel(\"center y position\", fontsize=20)\n",
    "plt.show()\n",
    "\n",
    "\n",
    "print(\"---------------------------------------------------------------\")\n",
    "\n",
    "\n",
    "stack_4d_cropped = stack_4d[int(box.corners[1][0]):int(box.corners[1][2]), \n",
    "                                           int(box.corners[0][0]):int(box.corners[0][1])].copy()\n",
    "\n",
    "# median maximum intensity normalization\n",
    "print(\"divide by 1000000 (= no normalization)\")\n",
    "stack_4d_cropped = stack_4d_cropped / 1000000\n",
    "print(np.max(stack_4d_cropped))\n",
    "print(np.min(stack_4d_cropped))\n",
    "print(np.mean(stack_4d_cropped))\n",
    "print(np.median(stack_4d_cropped))\n",
    "\n",
    "# remove center beam\n",
    "print(\"remove center beams...\")\n",
    "center_radius = 20\n",
    "for i in range(stack_4d_cropped.shape[0]):\n",
    "    for j in range(stack_4d_cropped.shape[1]):\n",
    "        stack_4d_cropped[i, j] = remove_center_beam(stack_4d_cropped[i, j], \n",
    "                                                    center=center_mean.tolist(), cb_rad=center_radius)\n",
    "print(np.max(stack_4d_cropped))\n",
    "print(np.min(stack_4d_cropped))\n",
    "print(np.mean(stack_4d_cropped))\n",
    "print(np.median(stack_4d_cropped))\n",
    "\n",
    "# obtain variance map dpending on k-vector\n",
    "print(\"obtain k-point variance map...\")\n",
    "square_avg = np.mean(np.square(stack_4d_cropped), axis=(0,1))\n",
    "avg_square = np.square(np.mean(stack_4d_cropped, axis=(0,1)))\n",
    "mask = avg_square.copy()\n",
    "mask[np.where(avg_square == 0)] = 1.0\n",
    "var_map = (square_avg - avg_square) / mask\n",
    "print(np.max(var_map))\n",
    "print(np.min(var_map))\n",
    "print(np.median(var_map))\n",
    "plt.figure(figsize=(10,10))\n",
    "plt.imshow(var_map, cmap=\"afmhot\")\n",
    "plt.show()\n",
    "\n",
    "# obtain radial average prifile for variance map above\n",
    "kp_var = radial_average_with_center(var_map, center=center_mean.tolist())\n",
    "print(kp_var.shape)\n",
    "\n",
    "plt.figure(figsize=(10,10))\n",
    "plt.plot(kp_var)\n",
    "plt.grid()\n",
    "plt.show()\n",
    "\n",
    "# calculate variance with all angles at a certain k\n",
    "print(\"calculate radial variance and save... (no normalization)\")\n",
    "radial_var_stack = []\n",
    "len_profile = []\n",
    "for i in range(stack_4d_cropped.shape[0]):\n",
    "    for j in range(stack_4d_cropped.shape[1]):\n",
    "        radial_temp = radial_variance(stack_4d_cropped[i, j], center=center_mean.tolist())\n",
    "        len_profile.append(len(radial_temp))\n",
    "        radial_var_stack.append(radial_temp)\n",
    "\n",
    "if len(np.unique(len_profile)) > 1:\n",
    "    print(np.unique(len_profile))\n",
    "    shortest = np.min(len_profile)\n",
    "    for i in range(len(len_profile)):\n",
    "        radial_var_stack[i] = radial_var_stack[i][:shortest]\n",
    "\n",
    "radial_var_stack = np.asarray(radial_var_stack).reshape(stack_4d_cropped.shape[0], stack_4d_cropped.shape[1], -1)\n",
    "print(radial_var_stack.shape)\n",
    "\n",
    "radial_var_sum = np.sum(radial_var_stack, axis=(0, 1))\n",
    "print(radial_var_sum.shape)\n",
    "\n",
    "plt.figure(figsize=(10,10))\n",
    "plt.plot(radial_var_sum)\n",
    "plt.grid()\n",
    "plt.show()\n",
    "\n",
    "# save (radial variance, 3D)\n",
    "radial_var_stack = hys.signals.Signal1D(radial_var_stack)\n",
    "radial_var_stack.metadata.General.set_item(\"notes\", center_mean.tolist())\n",
    "radial_var_stack.save(raw_adr[:-4]+\"_radial_var_radial_no_normalization.hdf5\")"
   ]
  },
  {
   "cell_type": "code",
   "execution_count": null,
   "metadata": {},
   "outputs": [],
   "source": [
    "# maximum intensity normalization\n",
    "stack_4d_cropped = stack_4d_cropped / np.max(stack_4d_cropped, axis=(2,3))\n",
    "print(np.max(stack_4d_cropped))\n",
    "print(np.min(stack_4d_cropped))\n",
    "print(np.mean(stack_4d_cropped))"
   ]
  },
  {
   "cell_type": "code",
   "execution_count": null,
   "metadata": {},
   "outputs": [],
   "source": [
    "# median maximum intensity normalization\n",
    "stack_4d_cropped = stack_4d_cropped / np.median(np.max(stack_4d_cropped, axis=(2,3)))\n",
    "print(np.max(stack_4d_cropped))\n",
    "print(np.min(stack_4d_cropped))\n",
    "print(np.mean(stack_4d_cropped))"
   ]
  },
  {
   "cell_type": "code",
   "execution_count": null,
   "metadata": {},
   "outputs": [],
   "source": [
    "# total intensity normalization\n",
    "stack_4d_cropped = stack_4d_cropped / np.sum(stack_4d_cropped, axis=(2, 3))[:, :, np.newaxis, np.newaxis]\n",
    "print(np.max(stack_4d_cropped))\n",
    "print(np.min(stack_4d_cropped))\n",
    "print(np.mean(stack_4d_cropped))\n",
    "print(np.unique(np.sum(stack_4d_cropped, axis=(2, 3))))"
   ]
  },
  {
   "cell_type": "code",
   "execution_count": null,
   "metadata": {},
   "outputs": [],
   "source": [
    "# calculate variance with all angles at a certain k\n",
    "radial_var_stack = []\n",
    "len_profile = []\n",
    "for i in range(stack_4d_cropped.shape[0]):\n",
    "    for j in range(stack_4d_cropped.shape[1]):\n",
    "        radial_temp = radial_variance(stack_4d_cropped[i, j], center=center_mean.tolist())\n",
    "        len_profile.append(len(radial_temp))\n",
    "        radial_var_stack.append(radial_temp)\n",
    "\n",
    "if len(np.unique(len_profile)) > 1:\n",
    "    print(np.unique(len_profile))\n",
    "    shortest = np.min(len_profile)\n",
    "    for i in range(len(len_profile)):\n",
    "        radial_var_stack[i] = radial_var_stack[i][:shortest]\n",
    "\n",
    "radial_var_stack = np.asarray(radial_var_stack).reshape(stack_4d_cropped.shape[0], stack_4d_cropped.shape[1], -1)\n",
    "print(radial_var_stack.shape)\n",
    "\n",
    "radial_var_sum = np.sum(radial_var_stack, axis=(0, 1))\n",
    "print(radial_var_sum.shape)\n",
    "\n",
    "plt.figure(figsize=(10,10))\n",
    "plt.plot(radial_var_sum)\n",
    "plt.grid()\n",
    "plt.show()"
   ]
  },
  {
   "cell_type": "code",
   "execution_count": null,
   "metadata": {},
   "outputs": [],
   "source": [
    "# save (radial variance, 3D)\n",
    "radial_var_stack = hys.signals.Signal1D(radial_var_stack)\n",
    "radial_var_stack.metadata.General.set_item(\"notes\", center_mean.tolist())\n",
    "radial_var_stack.save(raw_adr[:-4]+\"_radial_var_radial.hdf5\")"
   ]
  },
  {
   "cell_type": "code",
   "execution_count": null,
   "metadata": {},
   "outputs": [],
   "source": [
    "# calculate variance with a certain angle range\n",
    "radial_var_stack_angle = []\n",
    "len_profile_angle = []\n",
    "ang_range = [90, 120]\n",
    "for i in range(stack_4d_cropped.shape[0]):\n",
    "    for j in range(stack_4d_cropped.shape[1]):\n",
    "        radial_temp = radial_variance_with_angle(stack_4d_cropped[i, j], angle_range=ang_range, center=center_mean.tolist())\n",
    "        len_profile_angle.append(len(radial_temp))\n",
    "        radial_var_stack_angle.append(radial_temp)\n",
    "\n",
    "if len(np.unique(len_profile)) > 1:\n",
    "    print(np.unique(len_profile))\n",
    "    shortest = np.min(len_profile)\n",
    "    for i in range(len(len_profile)):\n",
    "        radial_var_stack_angle = radial_var_stack_angle[i][:shortest]\n",
    "    \n",
    "radial_var_stack_angle = np.asarray(radial_var_stack_angle).reshape(stack_4d_cropped.shape[0], stack_4d_cropped.shape[1], -1)\n",
    "print(radial_var_stack_angle.shape)\n",
    "\n",
    "radial_var_sum_angle = np.sum(radial_var_stack_angle, axis=(0, 1))\n",
    "print(radial_var_sum_angle.shape)\n",
    "\n",
    "plt.figure(figsize=(10,10))\n",
    "plt.plot(radial_var_sum_angle)\n",
    "plt.grid()\n",
    "plt.show()"
   ]
  },
  {
   "cell_type": "code",
   "execution_count": null,
   "metadata": {},
   "outputs": [],
   "source": [
    "#if len(radial_var_sum) != len(radial_var_sum_angle):\n",
    "#    temp = np.zeros(radial_var_sum.shape)\n",
    "#    temp[(center_radius):(center_radius+len(radial_var_sum_angle))] = radial_var_sum_angle\n",
    "#    radial_var_sum_angle = temp\n",
    "\n",
    "plt.figure(figsize=(10, 10))\n",
    "#plt.plot(radial_avg_sum/np.max(radial_avg_sum), c=\"orange\", label=\"radial average\")\n",
    "plt.plot(kp_var/np.max(kp_var), c=\"blue\", label=\"k-point variance\")\n",
    "plt.plot(radial_var_sum/np.max(radial_var_sum), c=\"red\", label=\"radial variance\")\n",
    "#plt.plot(radial_var_sum_angle/np.max(radial_var_sum_angle), c=\"black\", label=\"radial variance with angle range [%d, %d]\"%(ang_range[0], ang_range[1]))\n",
    "plt.legend(fontsize=\"xx-large\")\n",
    "plt.grid()\n",
    "plt.show()"
   ]
  },
  {
   "cell_type": "markdown",
   "metadata": {},
   "source": [
    "### nano crystal visualization"
   ]
  },
  {
   "cell_type": "code",
   "execution_count": null,
   "metadata": {},
   "outputs": [],
   "source": [
    "def radial_indices(shape, center, radial_range):\n",
    "    y, x = np.indices(shape)\n",
    "    r = np.hypot(y - center[0], x - center[1])\n",
    "    ri = np.ones(r.shape)\n",
    "    \n",
    "    if len(np.unique(radial_range)) > 1:\n",
    "        ri[np.where(r <= radial_range[0])] = 0\n",
    "        ri[np.where(r > radial_range[1])] = 0\n",
    "        \n",
    "    else:\n",
    "        r = np.round(r)\n",
    "        ri[np.where(r != round(radial_range[0]))] = 0\n",
    "    \n",
    "    return ri"
   ]
  },
  {
   "cell_type": "code",
   "execution_count": null,
   "metadata": {},
   "outputs": [],
   "source": [
    "%matplotlib qt\n",
    "fig, ax = plt.subplots(1, 2, figsize=(10, 6))\n",
    "radii = np.arange(len(kp_var))\n",
    "def k_map(r_range):\n",
    "    r1 = r_range[0]\n",
    "    r2 = r_range[1]\n",
    "    print(r_range)\n",
    "    ax[0].cla()\n",
    "    ax[1].cla()\n",
    "    ax[0].plot(radii, kp_var, \"k-\", c=\"black\")\n",
    "    ax[0].fill_between([r1, r2], np.max(kp_var), alpha=0.5, color=\"red\")\n",
    "    ax[0].grid()\n",
    "    ri = radial_indices(f_shape[2:], center=center_mean.tolist(), radial_range=r_range)\n",
    "    img_temp = np.sum(np.multiply(stack_4d_cropped, ri), axis=(2,3))\n",
    "    ax[1].imshow(img_temp, cmap=\"afmhot\")\n",
    "    ax[1].axis(\"off\")\n",
    "    fig.canvas.draw()\n",
    "    fig.tight_layout()\n",
    "\n",
    "range_widget = widgets.FloatRangeSlider(value=[27, 28], min=radii[0], max=radii[-1], step=0.1)\n",
    "interact(k_map, r_range=range_widget)\n",
    "fig.show()"
   ]
  },
  {
   "cell_type": "code",
   "execution_count": null,
   "metadata": {},
   "outputs": [],
   "source": [
    "%matplotlib qt\n",
    "fig, ax = plt.subplots(1, 3, figsize=(15, 6))\n",
    "radii = np.arange(len(kp_var))\n",
    "def k_map(r_range, var_range):\n",
    "    r1 = r_range[0]\n",
    "    r2 = r_range[1]\n",
    "    print(r_range)\n",
    "    v1 = var_range[0]\n",
    "    v2 = var_range[1]\n",
    "    ax[0].cla()\n",
    "    ax[1].cla()\n",
    "    ax[2].cla()\n",
    "    ax[0].plot(radii, kp_var, \"k-\", c=\"black\")\n",
    "    ax[0].fill_between([r1, r2], np.max(kp_var), alpha=0.5, color=\"red\")\n",
    "    ax[0].grid()\n",
    "    masked = radial_var_stack.data[:, :, r1:(r2+1)]\n",
    "    binsize = masked.shape[0]*masked.shape[1]\n",
    "    ax[1].hist(masked.flatten(), bins=binsize, color=\"darkgray\")\n",
    "    ax[1].fill_between([v1, v2], ax[1].get_ylim()[1], alpha=0.5, color=\"red\")\n",
    "    #x_range = np.linspace(ax[1].get_xlim()[0], ax[1].get_xlim()[1], masked.shape[0]*masked.shape[1])\n",
    "    #ax[1].plot(x_range, stats.skewnorm.pdf(x_range, *stats.skewnorm.fit(masked.flatten())), \"k-\")\n",
    "    ax[1].grid()\n",
    "    ri = np.ones_like(masked)\n",
    "    ri[np.where(masked < v1)] = 0\n",
    "    ri[np.where(masked > v2)] = 0\n",
    "    ax[2].imshow(np.sum(ri, axis=2), cmap=\"afmhot\")\n",
    "    ax[2].axis(\"off\")\n",
    "    fig.canvas.draw()\n",
    "    fig.tight_layout()\n",
    "\n",
    "range_widget = widgets.IntRangeSlider(value=[27, 30], min=radii[0], max=radii[-1], step=1)\n",
    "range_widget_2 = widgets.FloatRangeSlider(value=[np.percentile(radial_var_stack, 25), np.percentile(radial_var_stack, 75)], min=np.min(radial_var_stack.data), max=np.max(radial_var_stack.data), step=0.01)\n",
    "interact(k_map, r_range=range_widget, var_range=range_widget_2)\n",
    "fig.show()"
   ]
  },
  {
   "cell_type": "markdown",
   "metadata": {},
   "source": [
    "### anlgular correlation part"
   ]
  },
  {
   "cell_type": "code",
   "execution_count": null,
   "metadata": {},
   "outputs": [],
   "source": [
    "def round_step(arr, step_size=1):\n",
    "    \n",
    "    divide = np.around(arr / step_size)\n",
    "    rounded = divide * step_size\n",
    "    \n",
    "    return rounded"
   ]
  },
  {
   "cell_type": "code",
   "execution_count": null,
   "metadata": {},
   "outputs": [],
   "source": [
    "def point_circle(image, radius, center=None):\n",
    "    \n",
    "    y, x = np.indices(image.shape)\n",
    "    y = y.astype(\"float64\")\n",
    "    x = x.astype(\"float64\")\n",
    "    \n",
    "    if not center:\n",
    "        center = np.array([(y.max()-y.min())/2.0, (x.max()-x.min())/2.0])\n",
    "    \n",
    "    y -= center[0]\n",
    "    x -= center[1]\n",
    "    \n",
    "    angle_arr = np.zeros(image.shape)\n",
    "    for i in range(image.shape[0]):\n",
    "        for j in range(image.shape[1]):\n",
    "            angle_arr[i, j] = np.angle(complex(x[i, j], y[i, j]), deg=True)\n",
    "            \n",
    "    angle_arr = angle_arr + 180\n",
    "    #print(angle_arr)\n",
    "    r = np.hypot(y, x)\n",
    "    r = np.around(r)\n",
    "    ri = np.where(r == radius)\n",
    "    angle_sel = angle_arr[ri]\n",
    "    value_sel = image[ri]\n",
    "\n",
    "    return angle_sel, value_sel"
   ]
  },
  {
   "cell_type": "code",
   "execution_count": null,
   "metadata": {},
   "outputs": [],
   "source": [
    "# angle unit [degree]\n",
    "def angular_correlation(angles, values, angle_step):\n",
    "    angle_diff = []\n",
    "    corr_values = []\n",
    "    angle_diff_candidates = np.arange(0, 361, angle_step)\n",
    "    corr_val_total = np.zeros(angle_diff_candidates.shape)\n",
    "    num_angle_diff = np.zeros(angle_diff_candidates.shape)\n",
    "    \n",
    "    for i in range(len(angles)):\n",
    "        temp_diff = np.abs(angles - angles[i])\n",
    "        temp_diff = round_step(temp_diff, step_size=angle_step)\n",
    "        corr_temp = values * values[i] - np.square(np.mean(values))\n",
    "\n",
    "        angle_diff.append(temp_diff)\n",
    "        corr_values.append(corr_temp)\n",
    "        \n",
    "    angle_diff = np.asarray(angle_diff)\n",
    "    corr_values = np.asarray(corr_values)\n",
    "    \n",
    "    for i in range(len(angle_diff_candidates)):\n",
    "        temp_ind = np.where(angle_diff==angle_diff_candidates[i])\n",
    "        corr_val_total[i] = np.sum(corr_values[temp_ind])\n",
    "        num_angle_diff[i] = len(temp_ind[0])\n",
    "        \n",
    "    num_angle_diff[np.where(num_angle_diff==0)] = 1.0\n",
    "    corr_val_total /= np.square(np.mean(values))\n",
    "    corr_val_total /= num_angle_diff\n",
    "            \n",
    "    return corr_val_total"
   ]
  },
  {
   "cell_type": "code",
   "execution_count": null,
   "metadata": {},
   "outputs": [],
   "source": [
    "start_time = time.process_time()\n",
    "angle_step = 10\n",
    "angular_corr = []\n",
    "radius_range = np.arange(21, 35, 2)\n",
    "angle_range = np.arange(0, 361, angle_step)\n",
    "k=0\n",
    "for h in range(len(radius_range)):\n",
    "    temp = []\n",
    "    for i in range(stack_4d_cropped.shape[0]):\n",
    "        for j in range(stack_4d_cropped.shape[1]):\n",
    "            angle_sel, value_sel = point_circle(stack_4d_cropped[i, j], radius_range[h], center=center_mean.tolist())\n",
    "            ang_cor = angular_correlation(angle_sel, value_sel, angle_step)\n",
    "            temp.append(ang_cor)\n",
    "            k += 1\n",
    "            if (k % 100 ==0):\n",
    "                print(\"%.2f percent complete\"%(k*100/(len(radius_range)*stack_4d_cropped.shape[0]*stack_4d_cropped.shape[1])))\n",
    "                print(\"%d seconds have passed\"%(time.process_time()-start_time))\n",
    "    angular_corr.append(temp)\n",
    "print(\"all done\")"
   ]
  },
  {
   "cell_type": "code",
   "execution_count": null,
   "metadata": {},
   "outputs": [],
   "source": [
    "angular_corr = np.asarray(angular_corr).reshape(len(radius_range), stack_4d_cropped.shape[0], stack_4d_cropped.shape[1], -1)\n",
    "print(angular_corr.shape)\n",
    "ang_corr_sum = np.sum(angular_corr, axis=(1, 2))\n",
    "print(ang_corr_sum.shape)"
   ]
  },
  {
   "cell_type": "code",
   "execution_count": null,
   "metadata": {},
   "outputs": [],
   "source": [
    "%matplotlib inline"
   ]
  },
  {
   "cell_type": "code",
   "execution_count": null,
   "metadata": {},
   "outputs": [],
   "source": [
    "plt.figure(figsize=(9, 8))\n",
    "plt.imshow(ang_corr_sum.T, cmap=\"afmhot\", extent=[radius_range[0], radius_range[-1], angle_range[-1]/10, angle_range[0]/10])\n",
    "plt.tight_layout()\n",
    "plt.show()"
   ]
  },
  {
   "cell_type": "code",
   "execution_count": null,
   "metadata": {},
   "outputs": [],
   "source": [
    "ang_corr_fft= np.abs(np.fft.fft(angular_corr))\n",
    "print(ang_corr_fft.shape)\n",
    "ang_corr_fft_sum = np.sum(ang_corr_fft, axis=(1, 2))\n",
    "print(ang_corr_fft_sum.shape)"
   ]
  },
  {
   "cell_type": "code",
   "execution_count": null,
   "metadata": {},
   "outputs": [],
   "source": [
    "plt.figure(figsize=(6, 8))\n",
    "plt.imshow(ang_corr_fft_sum.T[[0, 1, 2, 3, 4, 5, 6, 7, 8, 9]], cmap=\"afmhot\")\n",
    "plt.show()"
   ]
  },
  {
   "cell_type": "code",
   "execution_count": null,
   "metadata": {},
   "outputs": [],
   "source": [
    "plt.figure(figsize=(10, 6))\n",
    "plt.hist(stack_4d_cropped[np.nonzero(stack_4d_cropped)].flatten(), bins=5000)\n",
    "#plt.xlim([0, 40])\n",
    "plt.grid()\n",
    "plt.show()"
   ]
  },
  {
   "cell_type": "code",
   "execution_count": null,
   "metadata": {},
   "outputs": [],
   "source": [
    "def indices_at_r(shape, center, ir=10):\n",
    "    y, x = np.indices(shape)\n",
    "    r = np.hypot(y - center[0], x - center[1])\n",
    "    r = np.around(r)\n",
    "    \n",
    "    ri = np.where(r == ir)\n",
    "    \n",
    "    return ri"
   ]
  },
  {
   "cell_type": "code",
   "execution_count": null,
   "metadata": {},
   "outputs": [],
   "source": [
    "# just for some figures\n",
    "ri_1 = indices_at_r(f_shape[2:], center=center_mean.tolist(), ir=27)\n",
    "ri_2 = indices_at_r(f_shape[2:], center=center_mean.tolist(), ir=60)\n",
    "dif = np.zeros((f_shape[2], f_shape[3]))\n",
    "dif[ri_1] = 1\n",
    "dif[ri_2] = 2\n",
    "\n",
    "fig, ax = plt.subplots(1, 2, figsize=(15, 10))\n",
    "ax[0].imshow(stack_4d_cropped[0, 0], cmap=\"gray\")\n",
    "ax[0].axis(\"off\")\n",
    "ax[1].imshow(stack_4d_cropped[0, 0], cmap=\"gray\")\n",
    "ax[1].imshow(dif, cmap=\"afmhot\", alpha=0.3)\n",
    "ax[1].axis(\"off\")\n",
    "fig.tight_layout()\n",
    "plt.show()"
   ]
  },
  {
   "cell_type": "markdown",
   "metadata": {},
   "source": [
    "### intensity ditribution analysis part"
   ]
  },
  {
   "cell_type": "code",
   "execution_count": null,
   "metadata": {},
   "outputs": [],
   "source": [
    "dist_stack = []\n",
    "dist_stack_skew_fit_params = []\n",
    "dist_stack_lognorm_fit_params = []\n",
    "dist_stack_gamma_fit_params = []\n",
    "dist_stack_weibull_fit_params = []\n",
    "ri = indices_at_r(f_shape[2:], center=center_mean.tolist(), ir=27)\n",
    "for i in range(len(ri[0])):\n",
    "    temp_flat = stack_4d_cropped[:, :, ri[0][i], ri[1][i]].flatten()\n",
    "    dist_stack.append(temp_flat)\n",
    "    dist_stack_skew_fit_params.append(stats.skewnorm.fit(temp_flat))\n",
    "    dist_stack_lognorm_fit_params.append(stats.lognorm.fit(temp_flat))\n",
    "    dist_stack_gamma_fit_params.append(stats.gamma.fit(temp_flat))\n",
    "    dist_stack_weibull_fit_params.append(stats.weibull_min.fit(temp_flat))\n",
    "\n",
    "dist_stack_skew_fit_params = np.asarray(dist_stack_skew_fit_params)\n",
    "print(dist_stack_skew_fit_params.shape)\n",
    "dist_stack_lognorm_fit_params = np.asarray(dist_stack_lognorm_fit_params)\n",
    "print(dist_stack_lognorm_fit_params.shape)\n",
    "dist_stack_gamma_fit_params = np.asarray(dist_stack_gamma_fit_params)\n",
    "print(dist_stack_gamma_fit_params.shape)\n",
    "dist_stack_weibull_fit_params = np.asarray(dist_stack_weibull_fit_params)\n",
    "print(dist_stack_weibull_fit_params.shape)\n",
    "\n",
    "dist_stack = np.asarray(dist_stack)\n",
    "print(dist_stack.shape)\n",
    "print(np.max(dist_stack))\n",
    "print(np.min(dist_stack))\n",
    "print(np.mean(dist_stack))"
   ]
  },
  {
   "cell_type": "code",
   "execution_count": null,
   "metadata": {},
   "outputs": [],
   "source": [
    "dist_stack_2 = []\n",
    "dist_stack_skew_fit_params_2 = []\n",
    "dist_stack_lognorm_fit_params_2 = []\n",
    "dist_stack_gamma_fit_params_2 = []\n",
    "dist_stack_weibull_fit_params_2 = []\n",
    "ri = indices_at_r(f_shape[2:], center=center_mean.tolist(), ir=60)\n",
    "for i in range(len(ri[0])):\n",
    "    temp_flat = stack_4d_cropped[:, :, ri[0][i], ri[1][i]].flatten()\n",
    "    dist_stack_2.append(temp_flat)\n",
    "    dist_stack_skew_fit_params_2.append(stats.skewnorm.fit(temp_flat))\n",
    "    dist_stack_lognorm_fit_params_2.append(stats.lognorm.fit(temp_flat))\n",
    "    dist_stack_gamma_fit_params_2.append(stats.gamma.fit(temp_flat))\n",
    "    dist_stack_weibull_fit_params_2.append(stats.weibull_min.fit(temp_flat))\n",
    "\n",
    "dist_stack_skew_fit_params_2 = np.asarray(dist_stack_skew_fit_params_2)\n",
    "print(dist_stack_skew_fit_params_2.shape)\n",
    "dist_stack_lognorm_fit_params_2 = np.asarray(dist_stack_lognorm_fit_params_2)\n",
    "print(dist_stack_lognorm_fit_params_2.shape)\n",
    "dist_stack_gamma_fit_params_2 = np.asarray(dist_stack_gamma_fit_params_2)\n",
    "print(dist_stack_gamma_fit_params_2.shape)\n",
    "dist_stack_weibull_fit_params_2 = np.asarray(dist_stack_weibull_fit_params_2)\n",
    "print(dist_stack_weibull_fit_params_2.shape)\n",
    "\n",
    "dist_stack_2 = np.asarray(dist_stack_2)\n",
    "print(dist_stack_2.shape)\n",
    "print(np.max(dist_stack_2))\n",
    "print(np.min(dist_stack_2))\n",
    "print(np.mean(dist_stack_2))"
   ]
  },
  {
   "cell_type": "code",
   "execution_count": null,
   "metadata": {},
   "outputs": [],
   "source": [
    "%matplotlib qt\n",
    "bin_size = 500\n",
    "fig, ax = plt.subplots(1, 1, figsize=(15, 10))\n",
    "def intensity_distribution(img_point):\n",
    "    ax.cla()\n",
    "    ax.hist(dist_stack[img_point], bins=bin_size, density=True, color=\"orange\")\n",
    "    ax.hist(dist_stack_2[img_point], bins=bin_size, density=True, color=\"gray\", alpha=0.5)\n",
    "    xmin, xmax = plt.xlim()\n",
    "    x_range = np.linspace(xmin, xmax, bin_size)\n",
    "    ax.plot(x_range, stats.skewnorm.pdf(x_range, *dist_stack_skew_fit_params[img_point]), 'k-', label=\"skew normal\")\n",
    "    ax.plot(x_range, stats.lognorm.pdf(x_range, *dist_stack_lognorm_fit_params[img_point]), 'r-', label=\"log normal\")\n",
    "    ax.plot(x_range, stats.gamma.pdf(x_range, *dist_stack_gamma_fit_params[img_point]), 'g-', label=\"gamma\")\n",
    "    ax.plot(x_range, stats.weibull_min.pdf(x_range, *dist_stack_weibull_fit_params[img_point]), 'b-', label=\"Weibull\")\n",
    "    ax.plot(x_range, stats.skewnorm.pdf(x_range, *dist_stack_skew_fit_params_2[img_point]), 'k-')\n",
    "    ax.plot(x_range, stats.lognorm.pdf(x_range, *dist_stack_lognorm_fit_params_2[img_point]), 'r-')\n",
    "    ax.plot(x_range, stats.gamma.pdf(x_range, *dist_stack_gamma_fit_params_2[img_point]), 'g-')\n",
    "    ax.plot(x_range, stats.weibull_min.pdf(x_range, *dist_stack_weibull_fit_params_2[img_point]), 'b-')\n",
    "    ax.set_ylabel(\"number of pixels\", fontsize=25)\n",
    "    ax.set_xlabel(\"diffraction intensity\", fontsize=25)\n",
    "    ax.grid()\n",
    "    ax.axis(\"auto\")\n",
    "    ax.legend(fontsize='xx-large')\n",
    "    fig.canvas.draw()\n",
    "    fig.tight_layout()\n",
    "\n",
    "point_widget = widgets.IntSlider(value=10, min=0, max=dist_stack.shape[0], step=1)\n",
    "interact(intensity_distribution, img_point=point_widget)\n",
    "fig.show()"
   ]
  },
  {
   "cell_type": "code",
   "execution_count": null,
   "metadata": {},
   "outputs": [],
   "source": [
    "stack_kp_skew_params = []\n",
    "stack_kp_lognorm_params = []\n",
    "stack_kp_gamma_params = []\n",
    "stack_kp_weibull_params = []\n",
    "for i in range(f_shape[2]):\n",
    "    for j in range(f_shape[3]):\n",
    "        temp_flat = stack_4d_cropped[:, :, i, j].flatten()\n",
    "        stack_kp_skew_params.append(stats.skewnorm.fit(temp_flat))\n",
    "        stack_kp_lognorm_params.append(stats.lognorm.fit(temp_flat))\n",
    "        stack_kp_gamma_params.append(stats.gamma.fit(temp_flat))\n",
    "        stack_kp_weibull_params.append(stats.weibull_min.fit(temp_flat))\n",
    "        \n",
    "stack_kp_skew_params = np.asarray(stack_kp_skew_params).reshape(f_shape[2], f_shape[3], -1)\n",
    "print(stack_kp_skew_params.shape)\n",
    "stack_kp_lognorm_params = np.asarray(stack_kp_lognorm_params).reshape(f_shape[2], f_shape[3], -1)\n",
    "print(stack_kp_lognorm_params.shape)\n",
    "stack_kp_gamma_params = np.asarray(stack_kp_gamma_params).reshape(f_shape[2], f_shape[3], -1)\n",
    "print(stack_kp_gamma_params.shape)\n",
    "stack_kp_weibull_params = np.asarray(stack_kp_weibull_params).reshape(f_shape[2], f_shape[3], -1)\n",
    "print(stack_kp_weibull_params.shape)"
   ]
  },
  {
   "cell_type": "code",
   "execution_count": null,
   "metadata": {},
   "outputs": [],
   "source": [
    "%matplotlib inline"
   ]
  },
  {
   "cell_type": "code",
   "execution_count": null,
   "metadata": {},
   "outputs": [],
   "source": [
    "skew_dist_var_map = []\n",
    "lognorm_dist_var_map = []\n",
    "gamma_dist_var_map = []\n",
    "weibull_dist_var_map = []\n",
    "for i in range(f_shape[2]):\n",
    "    for j in range(f_shape[3]):\n",
    "        skew_dist_var_map.append(stats.skewnorm.var(*stack_kp_skew_params[i, j]))\n",
    "        lognorm_dist_var_map.append(stats.lognorm.var(*stack_kp_lognorm_params[i, j]))\n",
    "        gamma_dist_var_map.append(stats.gamma.var(*stack_kp_gamma_params[i, j]))\n",
    "        weibull_dist_var_map.append(stats.weibull_min.var(*stack_kp_weibull_params[i, j]))\n",
    "        \n",
    "skew_dist_var_map = np.asarray(skew_dist_var_map).reshape(f_shape[2], f_shape[3])\n",
    "lognorm_dist_var_map = np.asarray(lognorm_dist_var_map).reshape(f_shape[2], f_shape[3])\n",
    "gamma_dist_var_map = np.asarray(gamma_dist_var_map).reshape(f_shape[2], f_shape[3])\n",
    "weibull_dist_var_map = np.asarray(weibull_dist_var_map).reshape(f_shape[2], f_shape[3])\n",
    "\n",
    "plt.figure(figsize=(10,10))\n",
    "plt.imshow(skew_dist_var_map, cmap=\"afmhot\")\n",
    "plt.show()\n",
    "\n",
    "plt.figure(figsize=(10,10))\n",
    "plt.imshow(lognorm_dist_var_map, cmap=\"afmhot\")\n",
    "plt.show()\n",
    "\n",
    "plt.figure(figsize=(10,10))\n",
    "plt.imshow(gamma_dist_var_map, cmap=\"afmhot\")\n",
    "plt.show()\n",
    "\n",
    "plt.figure(figsize=(10,10))\n",
    "plt.imshow(weibull_dist_var_map, cmap=\"afmhot\")\n",
    "plt.show()"
   ]
  },
  {
   "cell_type": "code",
   "execution_count": null,
   "metadata": {},
   "outputs": [],
   "source": [
    "temp_lognorm = lognorm_dist_var_map.copy()\n",
    "temp_gamma = gamma_dist_var_map.copy()\n",
    "temp_weibull = weibull_dist_var_map.copy()\n",
    "\n",
    "temp_lognorm[np.where(temp_lognorm > np.percentile(temp_lognorm, 99.9))] = 0\n",
    "temp_gamma[np.where(np.isnan(temp_gamma))] = 0\n",
    "temp_gamma[np.where(temp_gamma > np.percentile(temp_gamma, 99))] = 0\n",
    "temp_weibull[np.where(temp_weibull > np.percentile(temp_weibull, 88))] = 0\n",
    "\n",
    "plt.figure(figsize=(10,10))\n",
    "plt.imshow(skew_dist_var_map, cmap=\"afmhot\")\n",
    "plt.show()\n",
    "\n",
    "plt.figure(figsize=(10,10))\n",
    "plt.imshow(temp_lognorm, cmap=\"afmhot\")\n",
    "plt.show()\n",
    "\n",
    "plt.figure(figsize=(10,10))\n",
    "plt.imshow(temp_gamma, cmap=\"afmhot\")\n",
    "plt.show()\n",
    "\n",
    "plt.figure(figsize=(10,10))\n",
    "plt.imshow(temp_weibull, cmap=\"afmhot\")\n",
    "plt.show()"
   ]
  },
  {
   "cell_type": "code",
   "execution_count": null,
   "metadata": {},
   "outputs": [],
   "source": [
    "skew_dist_var = radial_average_with_center(skew_dist_var_map, center=center_mean.tolist())\n",
    "print(skew_dist_var.shape)\n",
    "lognorm_dist_var = radial_average_with_center(temp_lognorm, center=center_mean.tolist())\n",
    "print(lognorm_dist_var.shape)\n",
    "gamma_dist_var = radial_average_with_center(temp_gamma, center=center_mean.tolist())\n",
    "print(gamma_dist_var.shape)\n",
    "weibull_dist_var = radial_average_with_center(temp_weibull, center=center_mean.tolist())\n",
    "print(weibull_dist_var.shape)"
   ]
  },
  {
   "cell_type": "code",
   "execution_count": null,
   "metadata": {},
   "outputs": [],
   "source": [
    "%matplotlib inline"
   ]
  },
  {
   "cell_type": "code",
   "execution_count": null,
   "metadata": {},
   "outputs": [],
   "source": [
    "plt.figure(figsize=(10, 10))\n",
    "plt.plot(skew_dist_var, c=\"orange\", label=\"skew normal\")\n",
    "plt.plot(lognorm_dist_var, c=\"blue\", label=\"log normal\")\n",
    "plt.plot(gamma_dist_var, c=\"green\", label=\"gamma\")\n",
    "plt.plot(weibull_dist_var, c=\"red\", label=\"weibull\")\n",
    "plt.legend()\n",
    "plt.grid()\n",
    "plt.show()"
   ]
  },
  {
   "cell_type": "code",
   "execution_count": null,
   "metadata": {},
   "outputs": [],
   "source": [
    "plt.figure(figsize=(10, 10))\n",
    "plt.plot(skew_dist_var/np.mean(skew_dist_var), c=\"orange\", label=\"skew normal\")\n",
    "plt.plot(lognorm_dist_var/np.mean(lognorm_dist_var), c=\"blue\", label=\"log normal\")\n",
    "plt.plot(gamma_dist_var/np.mean(gamma_dist_var), c=\"green\", label=\"gamma\")\n",
    "plt.plot(weibull_dist_var/np.mean(weibull_dist_var), c=\"red\", label=\"weibull\")\n",
    "plt.legend()\n",
    "plt.grid()\n",
    "plt.show()"
   ]
  },
  {
   "cell_type": "code",
   "execution_count": null,
   "metadata": {},
   "outputs": [],
   "source": [
    "# skew normal\n",
    "\n",
    "#w = stack_kp_fit_skew_params[:, :, 2]\n",
    "#delta = stack_kp_fit_skew_params[:, :, 1] / np.sqrt(1+np.square(stack_kp_fit_skew_params[:, :, 1]))\n",
    "#skew_dist_var_map = np.multiply(w, 1-2*np.square(delta)/np.pi)\n",
    "#print(skew_dist_var_map.shape)\n",
    "\n",
    "skew_dist_var_map = []\n",
    "for i in range(f_shape[2]):\n",
    "    for j in range(f_shape[3]):\n",
    "        skew_dist_var_map.append(stats.skewnorm.var(stack_kp_fit_skew_params[i, j, 0], stack_kp_fit_skew_params[i, j, 1], stack_kp_fit_skew_params[i, j, 2]))\n",
    "        \n",
    "skew_dist_var_map = np.asarray(skew_dist_var_map).reshape(f_shape[2], f_shape[3])\n",
    "\n",
    "plt.figure(figsize=(10,10))\n",
    "plt.imshow(skew_dist_var_map, cmap=\"afmhot\")\n",
    "plt.show()\n",
    "\n",
    "skew_dist_var = radial_average_with_center(skew_dist_var_map, center=center_mean.tolist())\n",
    "print(dist_var.shape)"
   ]
  },
  {
   "cell_type": "code",
   "execution_count": null,
   "metadata": {},
   "outputs": [],
   "source": [
    "# log normal\n",
    "#sigma = stack_kp_lognorm_params[:, :, 0]\n",
    "#exp_mu = stack_kp_lognorm_params[:, :, 2]\n",
    "#lognorm_dist_var_map = np.multiply((np.exp(np.square(sigma)) - 1), np.multiply(np.square(exp_mu), np.exp(np.square(sigma))))\n",
    "#print(lognorm_dist_var_map.shape)\n",
    "\n",
    "lognorm_dist_var_map = []\n",
    "for i in range(f_shape[2]):\n",
    "    for j in range(f_shape[3]):\n",
    "        lognorm_dist_var_map.append(stats.lognorm.var(stack_kp_lognorm_params[i, j, 0], stack_kp_lognorm_params[i, j, 1], stack_kp_lognorm_params[i, j, 2]))\n",
    "        \n",
    "lognorm_dist_var_map = np.asarray(lognorm_dist_var_map).reshape(f_shape[2], f_shape[3])\n",
    "\n",
    "plt.figure(figsize=(10,10))\n",
    "plt.imshow(lognorm_dist_var_map, cmap=\"afmhot\")\n",
    "plt.show()\n",
    "\n",
    "lognorm_dist_var = radial_average_with_center(lognorm_dist_var_map, center=center_mean.tolist())\n",
    "print(lognorm_dist_var.shape)"
   ]
  },
  {
   "cell_type": "code",
   "execution_count": null,
   "metadata": {},
   "outputs": [],
   "source": [
    "# gamma\n",
    "gamma_dist_var_map = []\n",
    "for i in range(f_shape[2]):\n",
    "    for j in range(f_shape[3]):\n",
    "        gamma_dist_var_map.append(stats.gamma.var(stack_kp_gamma_params[i, j, 0], stack_kp_gamma_params[i, j, 1], stack_kp_lognorm_params[i, j, 2]))\n",
    "        \n",
    "gamma_dist_var_map = np.asarray(gamma_dist_var_map).reshape(f_shape[2], f_shape[3])\n",
    "\n",
    "plt.figure(figsize=(10,10))\n",
    "plt.imshow(gamma_dist_var_map, cmap=\"afmhot\")\n",
    "plt.show()\n",
    "\n",
    "gamma_dist_var = radial_average_with_center(gamma_dist_var_map, center=center_mean.tolist())\n",
    "print(gamma_dist_var.shape)"
   ]
  },
  {
   "cell_type": "code",
   "execution_count": null,
   "metadata": {},
   "outputs": [],
   "source": [
    "# weibull\n",
    "weibull_dist_var_map = []\n",
    "for i in range(f_shape[2]):\n",
    "    for j in range(f_shape[3]):\n",
    "        weibull_dist_var_map.append(stats.weibull_min.var(stack_kp_weibull_params[i, j, 0], stack_kp_weibull_params[i, j, 1], stack_kp_weibull_params[i, j, 2]))\n",
    "        \n",
    "weibull_dist_var_map = np.asarray(weibull_dist_var_map).reshape(f_shape[2], f_shape[3])\n",
    "\n",
    "plt.figure(figsize=(10,10))\n",
    "plt.imshow(weibull_dist_var_map, cmap=\"afmhot\")\n",
    "plt.show()\n",
    "\n",
    "weibull_dist_var = radial_average_with_center(weibull_dist_var_map, center=center_mean.tolist())\n",
    "print(weibull_dist_var.shape)"
   ]
  },
  {
   "cell_type": "code",
   "execution_count": null,
   "metadata": {},
   "outputs": [],
   "source": [
    "plt.figure(figsize=(10, 10))\n",
    "plt.plot(skew_dist_var, c=\"orange\", label=\"skew normal\")\n",
    "plt.plot(lognorm_dist_var, c=\"blue\", label=\"log normal\")\n",
    "plt.plot(gamma_dist_var, c=\"green\", label=\"gamma\")\n",
    "plt.plot(weibull_dist_var, c=\"red\", label=\"weibull\")\n",
    "#plt.plot(radial_var_sum_angle/np.max(radial_var_sum_angle), c=\"black\", label=\"radial variance with angle range [%d, %d]\"%(ang_range[0], ang_range[1]))\n",
    "plt.legend()\n",
    "plt.grid()\n",
    "plt.show()"
   ]
  },
  {
   "cell_type": "code",
   "execution_count": null,
   "metadata": {},
   "outputs": [],
   "source": [
    "stack_kp_dist = []\n",
    "x_range = np.linspace(0, 100, 1000)\n",
    "for i in range(f_shape[2]):\n",
    "    for j in range(f_shape[3]):\n",
    "        temp_dist = stats.skewnorm.pdf(x_range, stack_kp_fit_params[i, j][0], stack_kp_fit_params[i, j][1], stack_kp_fit_params[i, j][2])\n",
    "        stack_kp_dist.append(temp_dist)\n",
    "        \n",
    "stack_kp_dist = np.asarray(stack_kp_dist).reshape(f_shape[2], f_shape[3], -1)\n",
    "print(stack_kp_dist.shape)"
   ]
  },
  {
   "cell_type": "code",
   "execution_count": null,
   "metadata": {},
   "outputs": [],
   "source": [
    "# save (fitted skew normal distribution at each k-point, 3D)\n",
    "stack_kp_dist = hys.signals.Signal1D(stack_kp_dist)\n",
    "stack_kp_dist.metadata.General.set_item(\"notes\", center_mean.tolist())\n",
    "stack_kp_dist.save(tkf.asksaveasfilename())"
   ]
  },
  {
   "cell_type": "code",
   "execution_count": null,
   "metadata": {},
   "outputs": [],
   "source": [
    "# save (fitted skew normal distribution parameters at each k-point, 3D)\n",
    "stack_kp_fit_params = hys.signals.Signal1D(stack_kp_fit_params)\n",
    "stack_kp_fit_params.metadata.General.set_item(\"notes\", center_mean.tolist())\n",
    "stack_kp_fit_params.save(tkf.asksaveasfilename())"
   ]
  },
  {
   "cell_type": "code",
   "execution_count": null,
   "metadata": {},
   "outputs": [],
   "source": [
    "%matplotlib inline"
   ]
  },
  {
   "cell_type": "code",
   "execution_count": null,
   "metadata": {},
   "outputs": [],
   "source": [
    "plt.figure(figsize=(10, 10))\n",
    "#plt.plot(radial_avg_sum/np.max(radial_avg_sum), c=\"orange\", label=\"radial average\")\n",
    "plt.plot(kp_var/np.max(kp_var), c=\"blue\", label=\"k-point variance\")\n",
    "plt.plot(dist_var/np.max(dist_var), c=\"green\", label=\"k-point distribution variance\")\n",
    "plt.plot(radial_var_sum/np.max(radial_var_sum), c=\"red\", label=\"radial variance\")\n",
    "#plt.plot(radial_var_sum_angle/np.max(radial_var_sum_angle), c=\"black\", label=\"radial variance with angle range [%d, %d]\"%(ang_range[0], ang_range[1]))\n",
    "plt.legend()\n",
    "plt.grid()\n",
    "plt.show()"
   ]
  }
 ],
 "metadata": {
  "kernelspec": {
   "display_name": "Python 3",
   "language": "python",
   "name": "python3"
  },
  "language_info": {
   "codemirror_mode": {
    "name": "ipython",
    "version": 3
   },
   "file_extension": ".py",
   "mimetype": "text/x-python",
   "name": "python",
   "nbconvert_exporter": "python",
   "pygments_lexer": "ipython3",
   "version": "3.7.5"
  }
 },
 "nbformat": 4,
 "nbformat_minor": 4
}
