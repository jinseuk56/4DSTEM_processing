{
 "cells": [
  {
   "cell_type": "code",
   "execution_count": null,
   "metadata": {},
   "outputs": [],
   "source": [
    "import numpy as np\n",
    "import matplotlib.pyplot as plt\n",
    "import hyperspy.api as hys\n",
    "import tkinter.filedialog as tkf\n",
    "import ipywidgets as pyw"
   ]
  },
  {
   "cell_type": "code",
   "execution_count": null,
   "metadata": {},
   "outputs": [],
   "source": [
    "num_split = 3\n",
    "adr = []\n",
    "num_adr = []\n",
    "for i in range(num_split):\n",
    "    temp = tkf.askopenfilenames()\n",
    "    num_adr.append(len(temp))\n",
    "    adr.append(temp)\n",
    "print(num_adr)"
   ]
  },
  {
   "cell_type": "code",
   "execution_count": null,
   "metadata": {},
   "outputs": [],
   "source": [
    "data_by_split = []\n",
    "data_flat = []\n",
    "data_flat_by_split = []\n",
    "data_shape = []\n",
    "for i in range(num_split):\n",
    "    temp = []\n",
    "    temp_shape = []\n",
    "    temp_flat = []\n",
    "    for path in adr[i]:\n",
    "        tmp = hys.load(path).data\n",
    "        temp.append(tmp)\n",
    "        temp_shape.append(tmp.shape)\n",
    "        temp_flat.extend(tmp.reshape(-1, tmp.shape[2]).tolist())\n",
    "        data_flat.extend(tmp.reshape(-1, tmp.shape[2]).tolist())\n",
    "    data_by_split.append(temp)\n",
    "    data_shape.append(temp_shape)\n",
    "    data_flat_by_split.append(temp_flat)"
   ]
  },
  {
   "cell_type": "code",
   "execution_count": null,
   "metadata": {},
   "outputs": [],
   "source": [
    "data_flat = np.asarray(data_flat)\n",
    "print(data_flat.shape)\n",
    "data_shape = np.asarray(data_shape)\n",
    "print(data_shape.shape)\n",
    "print(np.unique(data_shape[:, :, 2]))\n",
    "s_dim = np.min(data_shape[:, :, 2])\n",
    "print(s_dim)"
   ]
  },
  {
   "cell_type": "code",
   "execution_count": null,
   "metadata": {},
   "outputs": [],
   "source": [
    "radial_var_sum = []\n",
    "for arr in data_by_split:\n",
    "    temp = []\n",
    "    for img in arr:\n",
    "        temp.append(np.mean(img, axis=(0, 1)))\n",
    "    radial_var_sum.append(temp)"
   ]
  },
  {
   "cell_type": "code",
   "execution_count": null,
   "metadata": {},
   "outputs": [],
   "source": [
    "%matplotlib inline\n",
    "fig, ax = plt.subplots(1, 1, figsize=(10, 6))\n",
    "linstyles = [\"k-\", \"r-\", \"b-\", \"g-\", \"p-\"]\n",
    "for i in range(num_split):\n",
    "    for line in radial_var_sum[i]:\n",
    "        ax.plot(line, linstyles[i], label=\"split %d\"%(i+1))\n",
    "ax.grid()\n",
    "fig.legend()\n",
    "fig.tight_layout()\n",
    "plt.show()"
   ]
  },
  {
   "cell_type": "code",
   "execution_count": null,
   "metadata": {},
   "outputs": [],
   "source": [
    "%matplotlib inline\n",
    "radial_var_split = []\n",
    "for i in range(num_split):\n",
    "    radial_var_split.append(np.mean(radial_var_sum[i], axis=0))\n",
    "    \n",
    "fig, ax = plt.subplots(1, 1, figsize=(10, 6))\n",
    "for i in range(num_split):\n",
    "    ax.plot(radial_var_split[i], linstyles[i], label=\"split %d\"%(i+1))\n",
    "ax.grid()\n",
    "fig.legend()\n",
    "fig.tight_layout()\n",
    "plt.show()"
   ]
  },
  {
   "cell_type": "code",
   "execution_count": null,
   "metadata": {},
   "outputs": [],
   "source": [
    "%matplotlib qt\n",
    "binsize = 500\n",
    "colors = [\"black\", \"red\", \"blue\", \"green\", \"purple\"]\n",
    "fig1, ax1 = plt.subplots(1, 2, figsize=(15, 6))\n",
    "fig2, ax2 = plt.subplots(num_split, data_shape.shape[1], figsize=(15, 15))\n",
    "\n",
    "def var_selector(r_range, var_range):\n",
    "    r1 = r_range[0]\n",
    "    r2 = r_range[1]\n",
    "    v1 = var_range[0]\n",
    "    v2 = var_range[1]\n",
    "    ax1[0].cla()\n",
    "    ax1[1].cla()\n",
    "    for i in range(num_split):\n",
    "        ax1[0].plot(radial_var_split[i], linstyles[i], label=\"split %d\"%(i+1))\n",
    "        ax1[1].hist(np.array(data_flat_by_split[i])[:, r1:(r2+1)].flatten(), bins=binsize, \n",
    "                    color=colors[i], alpha=0.6-0.1*i, label=\"split %d\"%(i+1), density=True)\n",
    "        \n",
    "        for j in range(data_shape.shape[1]):\n",
    "            img = np.array(data_by_split[i][j])[:, :, r1:(r2+1)]\n",
    "            img[np.where(img < v1)] = 0\n",
    "            img[np.where(img > v2)] = 0\n",
    "            img[np.where(img != 0)] = 1\n",
    "            bool_img = np.sum(img, axis=2)\n",
    "            bool_img = np.divide(bool_img, np.where(bool_img!=0, bool_img, 1))\n",
    "            ax2[i][j].imshow(bool_img, cmap=\"afmhot\")\n",
    "            ax2[i][j].axis(\"off\")\n",
    "            ax2[i][j].set_title(\"%.2f %%\"%(np.sum(bool_img)*100/(img.shape[0]*img.shape[1])))\n",
    "            \n",
    "    ax1[0].fill_between([r1, r2], np.max(radial_var_split), alpha=0.5, color=\"orange\")\n",
    "    ax1[0].grid()\n",
    "    ax1[0].legend()\n",
    "    ax1[1].fill_between([v1, v2], ax1[1].get_ylim()[1], alpha=0.5, color=\"orange\")\n",
    "    ax1[1].grid()\n",
    "    ax1[1].legend()\n",
    "    \n",
    "    fig1.canvas.draw()\n",
    "    fig2.canvas.draw()\n",
    "    fig1.tight_layout()\n",
    "    fig2.tight_layout()\n",
    "    \n",
    "    \n",
    "range_widget = pyw.IntRangeSlider(value=[26, 29], min=0, max=s_dim-1, step=1)\n",
    "range_widget_2 = pyw.FloatRangeSlider(value=[np.max(data_flat)*0.3, np.max(data_flat)*0.5], \n",
    "                                      min=np.min(data_flat), max=np.max(data_flat), step=0.01)\n",
    "pyw.interact(var_selector, r_range=range_widget, var_range=range_widget_2)\n",
    "plt.show()"
   ]
  }
 ],
 "metadata": {
  "kernelspec": {
   "display_name": "Python 3",
   "language": "python",
   "name": "python3"
  },
  "language_info": {
   "codemirror_mode": {
    "name": "ipython",
    "version": 3
   },
   "file_extension": ".py",
   "mimetype": "text/x-python",
   "name": "python",
   "nbconvert_exporter": "python",
   "pygments_lexer": "ipython3",
   "version": "3.7.5"
  }
 },
 "nbformat": 4,
 "nbformat_minor": 4
}
