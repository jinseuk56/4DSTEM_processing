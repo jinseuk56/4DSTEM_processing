{
 "cells": [
  {
   "cell_type": "code",
   "execution_count": null,
   "metadata": {},
   "outputs": [],
   "source": [
    "# J. Ryu, Electron Microscopy and Spectroscopy Lab., Seoul National University\n",
    "import hyperspy.api as hys\n",
    "import numpy as np\n",
    "import matplotlib.pyplot as plt\n",
    "import matplotlib.gridspec as gridspec\n",
    "from matplotlib.widgets import RectangleSelector\n",
    "from tabulate import tabulate\n",
    "from sklearn.cluster import DBSCAN\n",
    "import tkinter.filedialog as tkf\n",
    "from scipy import optimize\n",
    "import ipywidgets as pyw"
   ]
  },
  {
   "cell_type": "code",
   "execution_count": null,
   "metadata": {},
   "outputs": [],
   "source": [
    "# refer to https://scipy-cookbook.readthedocs.io/items/FittingData.html\n",
    "\n",
    "def gaussian(height, center_x, center_y, width_x, width_y):\n",
    "    \"\"\"Returns a gaussian function with the given parameters\"\"\"\n",
    "    width_x = float(width_x)\n",
    "    width_y = float(width_y)\n",
    "    return lambda x,y: height*np.exp(\n",
    "                -(((center_x-x)/width_x)**2+((center_y-y)/width_y)**2)/2)\n",
    "\n",
    "def moments(data):\n",
    "    \"\"\"Returns (height, x, y, width_x, width_y)\n",
    "    the gaussian parameters of a 2D distribution by calculating its\n",
    "    moments \"\"\"\n",
    "    total = data.sum()\n",
    "    X, Y = np.indices(data.shape) # row, col\n",
    "    x = (X*data).sum()/total # row\n",
    "    y = (Y*data).sum()/total # col\n",
    "    col = data[:, int(y)]\n",
    "    width_x = np.sqrt(np.abs((np.arange(col.size)-y)**2*col).sum()/col.sum()) # row\n",
    "    row = data[int(x), :]\n",
    "    width_y = np.sqrt(np.abs((np.arange(row.size)-x)**2*row).sum()/row.sum()) # col\n",
    "    height = data.max()\n",
    "    return height, x, y, width_x, width_y\n",
    "\n",
    "def fitgaussian(data):\n",
    "    \"\"\"Returns (height, x, y, width_x, width_y)\n",
    "    the gaussian parameters of a 2D distribution found by a fit\"\"\"\n",
    "    params = moments(data)\n",
    "    errorfunction = lambda p: np.ravel(gaussian(*p)(*np.indices(data.shape)) -\n",
    "                                 data)\n",
    "    p, success = optimize.leastsq(errorfunction, params)\n",
    "    return p"
   ]
  },
  {
   "cell_type": "code",
   "execution_count": null,
   "metadata": {},
   "outputs": [],
   "source": [
    "def gaussian_center(image, cbox_edge=0):\n",
    "    y, x = np.indices(image.shape)\n",
    "    if not cbox_edge:\n",
    "        center = np.array([(y.max()-y.min())/2.0, (x.max()-x.min())/2.0])\n",
    "        \n",
    "    else:\n",
    "        cbox_outy = int(image.shape[0]/2 - cbox_edge/2)\n",
    "        cbox_outx = int(image.shape[1]/2 - cbox_edge/2)\n",
    "        center_box = image[cbox_outy:-cbox_outy, cbox_outx:-cbox_outx]\n",
    "        fit_params = fitgaussian(center_box)\n",
    "        (_, center_y, center_x, _, _) = fit_params\n",
    "        center = [center_y+cbox_outy, center_x+cbox_outx]\n",
    "        \n",
    "    return center"
   ]
  },
  {
   "cell_type": "code",
   "execution_count": null,
   "metadata": {},
   "outputs": [],
   "source": [
    "def remove_center_beam(image, center=None, cb_rad=0):\n",
    "    y, x = np.indices(image.shape)\n",
    "    if not center:\n",
    "        center = np.array([(y.max()-y.min())/2.0, (x.max()-x.min())/2.0])\n",
    "        \n",
    "    r = np.hypot(y - center[0], x - center[1])\n",
    "    r = np.around(r)\n",
    "    ri = np.where(r<=cb_rad)\n",
    "    #print(ri[0].shape)\n",
    "    \n",
    "    image[ri] = 0\n",
    "    \n",
    "    return image"
   ]
  },
  {
   "cell_type": "code",
   "execution_count": null,
   "metadata": {},
   "outputs": [],
   "source": [
    "def load_binary_4D_stack(img_adr, datatype, original_shape, final_shape, log_scale=False):\n",
    "    stack = np.fromfile(img_adr, dtype=datatype)\n",
    "    stack = stack.reshape(original_shape)\n",
    "    print(stack.shape)\n",
    "    if log_scale:\n",
    "        stack = np.log(stack[:final_shape[0], :final_shape[1], :final_shape[2], :final_shape[3]])\n",
    "    else:\n",
    "        stack = stack[:final_shape[0], :final_shape[1], :final_shape[2], :final_shape[3]]\n",
    "    \n",
    "    print(stack.shape) \n",
    "    return stack"
   ]
  },
  {
   "cell_type": "code",
   "execution_count": null,
   "metadata": {},
   "outputs": [],
   "source": [
    "def fourd_roll_axis(stack):\n",
    "    stack = np.rollaxis(np.rollaxis(stack, 2, 0), 3, 1)\n",
    "    return stack"
   ]
  },
  {
   "cell_type": "code",
   "execution_count": null,
   "metadata": {},
   "outputs": [],
   "source": [
    "raw_adr = tkf.askopenfilename()\n",
    "print(raw_adr)"
   ]
  },
  {
   "cell_type": "code",
   "execution_count": null,
   "metadata": {},
   "outputs": [],
   "source": [
    "datatype = \"float32\"\n",
    "#o_shape = (128, 128, 130, 128)\n",
    "#f_shape = (128, 128, 128, 128)\n",
    "o_shape = (256, 256, 130, 128)\n",
    "f_shape = (256, 256, 128, 128)\n",
    "\n",
    "# load a data (RAW)\n",
    "stack_4d = load_binary_4D_stack(raw_adr, datatype, o_shape, f_shape, log_scale=False)\n",
    "stack_4d = stack_4d / np.max(stack_4d) # normalize absolutely\n",
    "print(np.max(stack_4d))\n",
    "print(np.min(stack_4d))\n",
    "print(np.mean(stack_4d))"
   ]
  },
  {
   "cell_type": "code",
   "execution_count": null,
   "metadata": {},
   "outputs": [],
   "source": [
    "# Load a data (DM)\n",
    "stack_4d = hys.load(raw_adr).data\n",
    "print(stack_4d.shape)\n",
    "stack_4d = fourd_roll_axis(stack_4d)\n",
    "f_shape = stack_4d.shape\n",
    "print(f_shape)\n",
    "\n",
    "stack_4d = stack_4d / np.max(stack_4d)\n",
    "print(np.max(stack_4d))\n",
    "print(np.min(stack_4d))\n",
    "print(np.mean(stack_4d))"
   ]
  },
  {
   "cell_type": "code",
   "execution_count": null,
   "metadata": {},
   "outputs": [],
   "source": [
    "# rotate\n",
    "stack_4d = np.rot90(stack_4d, 2, (0, 1))\n",
    "f_shape = stack_4d.shape\n",
    "print(f_shape.shape)"
   ]
  },
  {
   "cell_type": "code",
   "execution_count": null,
   "metadata": {},
   "outputs": [],
   "source": [
    "# select an interesting area\n",
    "%matplotlib qt\n",
    "fig, ax = plt.subplots(1, 1, figsize=(10, 10))\n",
    "ax.imshow(np.sum(stack_4d, axis=(2, 3)), cmap=\"gray\")\n",
    "\n",
    "def onselect(eclick, erelease):\n",
    "    print('startposition: (%f, %f)' % (eclick.xdata, eclick.ydata))\n",
    "    print('endposition  : (%f, %f)' % (erelease.xdata, erelease.ydata))\n",
    "\n",
    "box = RectangleSelector(ax, onselect)\n",
    "plt.show()"
   ]
  },
  {
   "cell_type": "code",
   "execution_count": null,
   "metadata": {},
   "outputs": [],
   "source": [
    "# crop the data\n",
    "stack_4d_cropped = stack_4d[int(box.corners[1][0]):int(box.corners[1][2]), \n",
    "                                           int(box.corners[0][0]):int(box.corners[0][1])].copy()\n",
    "cr_shape = stack_4d_cropped.shape\n",
    "print(cr_shape)\n",
    "print(np.max(stack_4d_cropped))\n",
    "print(np.min(stack_4d_cropped))\n",
    "print(np.mean(stack_4d_cropped))"
   ]
  },
  {
   "cell_type": "code",
   "execution_count": null,
   "metadata": {},
   "outputs": [],
   "source": [
    "%matplotlib inline"
   ]
  },
  {
   "cell_type": "code",
   "execution_count": null,
   "metadata": {},
   "outputs": [],
   "source": [
    "# maximum intensity distribution\n",
    "max_int = np.max(stack_4d_cropped, axis=(2, 3))\n",
    "print(max_int.shape)\n",
    "print(np.max(max_int))\n",
    "print(np.min(max_int))\n",
    "print(np.mean(max_int))\n",
    "print(np.median(max_int))\n",
    "\n",
    "fig, ax = plt.subplots(1, 2, figsize=(10, 5))\n",
    "ax[0].imshow(max_int, cmap=\"afmhot\")\n",
    "ax[0].axis(\"off\")\n",
    "ax[1].hist(max_int.flatten(), bins=len(max_int))\n",
    "ax[1].grid()\n",
    "plt.show()"
   ]
  },
  {
   "cell_type": "code",
   "execution_count": null,
   "metadata": {},
   "outputs": [],
   "source": [
    "# total intensity distribution\n",
    "tot_int = np.sum(stack_4d_cropped, axis=(2, 3))\n",
    "print(max_int.shape)\n",
    "print(np.max(tot_int))\n",
    "print(np.min(tot_int))\n",
    "print(np.mean(tot_int))\n",
    "print(np.median(tot_int))\n",
    "\n",
    "fig, ax = plt.subplots(1, 2, figsize=(10, 5))\n",
    "ax[0].imshow(tot_int, cmap=\"afmhot\")\n",
    "ax[0].axis(\"off\")\n",
    "ax[1].hist(tot_int.flatten(), bins=len(max_int))\n",
    "ax[1].grid()\n",
    "plt.show()"
   ]
  },
  {
   "cell_type": "code",
   "execution_count": null,
   "metadata": {},
   "outputs": [],
   "source": [
    "# find center position\n",
    "center_pos = []\n",
    "for i in range(cr_shape[0]):\n",
    "    for j in range(cr_shape[1]):\n",
    "        center_pos.append(gaussian_center(stack_4d_cropped[i, j], cbox_edge=30))\n",
    "        \n",
    "center_pos = np.asarray(center_pos)\n",
    "center_pos = np.reshape(center_pos, (cr_shape[0], cr_shape[1], -1))\n",
    "print(center_pos.shape)\n",
    "center_mean = np.mean(center_pos, axis=(0, 1))\n",
    "print(center_mean)\n",
    "\n",
    "# center distibution\n",
    "fig, ax = plt.subplots(1, 2, figsize=(10, 5))\n",
    "ax[0].hist(center_pos[:, :, 0].flatten(), bins=100, density=True, color=\"orange\", label=\"center y position\")\n",
    "ax[0].hist(center_pos[:, :, 1].flatten(), bins=100, density=True, color=\"gray\", alpha=0.5, label=\"center x position\")\n",
    "ax[0].grid()\n",
    "ax[0].legend()\n",
    "\n",
    "ax[1].scatter(center_pos[:, :, 1], center_pos[:, :, 0], s=10.0, alpha=0.5)\n",
    "ax[1].grid()\n",
    "ax[1].scatter(center_mean[1], center_mean[0], s=20, c=\"red\")\n",
    "ax[1].set_xlabel(\"center x position\", fontsize=10)\n",
    "ax[1].set_ylabel(\"center y position\", fontsize=10)\n",
    "fig.tight_layout()\n",
    "plt.show()"
   ]
  },
  {
   "cell_type": "code",
   "execution_count": null,
   "metadata": {},
   "outputs": [],
   "source": [
    "# remove center beam\n",
    "center_radius = 10\n",
    "for i in range(cr_shape[0]):\n",
    "    for j in range(cr_shape[1]):\n",
    "        stack_4d_cropped[i, j] = remove_center_beam(stack_4d_cropped[i, j], \n",
    "                                                    center=center_mean.tolist(), cb_rad=center_radius)\n",
    "print(np.max(stack_4d_cropped))\n",
    "print(np.min(stack_4d_cropped))\n",
    "print(np.mean(stack_4d_cropped))"
   ]
  },
  {
   "cell_type": "code",
   "execution_count": null,
   "metadata": {},
   "outputs": [],
   "source": [
    "def radial_indices(shape, radial_range, center=None):\n",
    "    y, x = np.indices(shape)\n",
    "    if not center:\n",
    "        center = np.array([(y.max()-y.min())/2.0, (x.max()-x.min())/2.0])\n",
    "    \n",
    "    r = np.hypot(y - center[0], x - center[1])\n",
    "    ri = np.ones(r.shape)\n",
    "    \n",
    "    if len(np.unique(radial_range)) > 1:\n",
    "        ri[np.where(r <= radial_range[0])] = 0\n",
    "        ri[np.where(r > radial_range[1])] = 0\n",
    "        \n",
    "    else:\n",
    "        r = np.round(r)\n",
    "        ri[np.where(r != round(radial_range[0]))] = 0\n",
    "    \n",
    "    return ri"
   ]
  },
  {
   "cell_type": "code",
   "execution_count": null,
   "metadata": {},
   "outputs": [],
   "source": [
    "def indices_at_r(shape, radius, center=None):\n",
    "    y, x = np.indices(shape)\n",
    "    if not center:\n",
    "        center = np.array([(y.max()-y.min())/2.0, (x.max()-x.min())/2.0])\n",
    "    r = np.hypot(y - center[0], x - center[1])\n",
    "    r = np.around(r)\n",
    "    \n",
    "    ri = np.where(r == radius)\n",
    "    \n",
    "    angle_arr = np.zeros(shape)\n",
    "    for i in range(shape[0]):\n",
    "        for j in range(shape[1]):\n",
    "            angle_arr[i, j] = np.angle(complex(x[i, j]-center[1], y[i, j]-center[0]), deg=True)\n",
    "            \n",
    "    angle_arr = angle_arr + 180\n",
    "    angle_arr = np.around(angle_arr)\n",
    "    \n",
    "    ai = np.argsort(angle_arr[ri])\n",
    "    r_sort = (ri[0][ai], ri[1][ai])\n",
    "    a_sort = np.sort(angle_arr[ri])\n",
    "        \n",
    "    return r_sort, a_sort"
   ]
  },
  {
   "cell_type": "code",
   "execution_count": null,
   "metadata": {},
   "outputs": [],
   "source": [
    "cr_shape = stack_4d_cropped.shape\n",
    "rs_img = np.sum(stack_4d_cropped, axis=(2, 3))\n",
    "print(cr_shape)\n",
    "\n",
    "%matplotlib qt\n",
    "def flat_k(yp, xp, ki, ko, show):\n",
    "    if yp < 0 or yp >= cr_shape[0] or xp < 0 or xp >= cr_shape[1]:\n",
    "        print(\"Error in selecting the position of a pixel\")\n",
    "        return\n",
    "    \n",
    "    if ki >= ko:\n",
    "        print(\"Inner k must be larger than outer k\")\n",
    "        return\n",
    "    \n",
    "    num_k = ko - ki\n",
    "    k_range = np.arange(ki, ko)\n",
    "    k_donut = radial_indices(f_shape[2:], [k_range[0], k_range[-1]], center=center_mean.tolist())\n",
    "    \n",
    "    if show:\n",
    "        figi = plt.figure(figsize=(15, 10))\n",
    "        G = gridspec.GridSpec(num_k, num_k*3)\n",
    "        ax1 = figi.add_subplot(G[:num_k, :num_k])\n",
    "        ax2 = figi.add_subplot(G[:num_k, num_k:num_k*2])\n",
    "\n",
    "        ax1.imshow(rs_img, cmap=\"gray\")\n",
    "        ax1.scatter(xp, yp, marker=\"s\", facecolor=\"none\", edgecolors=\"aqua\", linewidths=1.0)\n",
    "        ax1.axis(\"off\")\n",
    "\n",
    "        ax2.imshow(np.log(stack_4d_cropped[yp, xp]), cmap=\"afmhot\")\n",
    "        ax2.imshow(k_donut, cmap=\"gray\", alpha=0.20)\n",
    "        ax2.axis(\"off\")\n",
    "\n",
    "        for i in range(num_k):\n",
    "            ax_tmp = figi.add_subplot(G[i, num_k*2:num_k*3])\n",
    "            k_ind, a_ind = indices_at_r(cr_shape[2:], radius=k_range[i], center=center_mean.tolist())\n",
    "            k_line = stack_4d_cropped[yp, xp][k_ind]\n",
    "            ax_tmp.plot(a_ind, k_line, \"k-\", linewidth=1)\n",
    "            ax_tmp.set_title(\"radial flat at k = %d\"%k_range[i])\n",
    "            ax_tmp.grid()\n",
    "            ax_tmp.set_yticks([])\n",
    "            ax_tmp.tick_params(axis=\"x\", labelsize=5)\n",
    "\n",
    "        figi.tight_layout()\n",
    "        \n",
    "    else:\n",
    "        return\n",
    "\n",
    "st = {\"description_width\": \"initial\"}\n",
    "y_pos_widget = pyw.IntText(value=0, description=\"y position\", style=st)\n",
    "x_pos_widget = pyw.IntText(value=0, description=\"x position\", style=st)\n",
    "ki_widget = pyw.IntText(value=20, description=\"inner k\", style=st)\n",
    "ko_widget = pyw.IntText(value=30, description=\"outer k\", style=st)\n",
    "show_box = pyw.Checkbox(value=True, description=\"create a new figure\")\n",
    "\n",
    "\n",
    "pyw.interact(flat_k, yp=y_pos_widget, xp=x_pos_widget, ki=ki_widget, ko=ko_widget, show=show_box)\n",
    "plt.show()"
   ]
  },
  {
   "cell_type": "code",
   "execution_count": null,
   "metadata": {},
   "outputs": [],
   "source": [
    "#fk_range = np.arange(ki_widget.value, ko_widget.value)\n",
    "fk_range = [16]\n",
    "\n",
    "k_flat_4d = np.zeros((cr_shape[0]*cr_shape[1], 1))\n",
    "print(k_flat_4d.shape)\n",
    "\n",
    "for k in fk_range:\n",
    "    k_ind, a_ind = indices_at_r(cr_shape[2:], radius=k, center=center_mean.tolist())\n",
    "    tmp = []\n",
    "    for i in range(cr_shape[0]):\n",
    "        for j in range(cr_shape[1]):\n",
    "            k_line = stack_4d_cropped[i, j][k_ind]\n",
    "            tmp.append(k_line)\n",
    "    tmp = np.asarray(tmp)\n",
    "    print(tmp.shape)\n",
    "    k_flat_4d = np.append(k_flat_4d, tmp, axis=1)\n",
    "    print(\"k = %d completed\"%(k))\n",
    "\n",
    "#print(k_flat_4d[0])\n",
    "k_flat_4d = np.asarray(k_flat_4d)[:, 1:].reshape(cr_shape[0], cr_shape[1], -1)\n",
    "print(k_flat_4d.shape)"
   ]
  },
  {
   "cell_type": "code",
   "execution_count": null,
   "metadata": {},
   "outputs": [],
   "source": [
    "k_flat = hys.signals.Signal1D(k_flat_4d)\n",
    "k_flat.save(raw_adr[:-4]+\"_k_flat_%d_%d.hdf5\"%(fk_range[0], fk_range[-1]))"
   ]
  },
  {
   "cell_type": "code",
   "execution_count": null,
   "metadata": {},
   "outputs": [],
   "source": [
    "%matplotlib qt\n",
    "k_flat.plot()"
   ]
  }
 ],
 "metadata": {
  "kernelspec": {
   "display_name": "Python 3",
   "language": "python",
   "name": "python3"
  },
  "language_info": {
   "codemirror_mode": {
    "name": "ipython",
    "version": 3
   },
   "file_extension": ".py",
   "mimetype": "text/x-python",
   "name": "python",
   "nbconvert_exporter": "python",
   "pygments_lexer": "ipython3",
   "version": "3.7.9"
  }
 },
 "nbformat": 4,
 "nbformat_minor": 4
}
