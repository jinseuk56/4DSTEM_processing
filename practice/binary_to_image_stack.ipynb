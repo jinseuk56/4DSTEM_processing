{
 "cells": [
  {
   "cell_type": "code",
   "execution_count": null,
   "metadata": {},
   "outputs": [],
   "source": [
    "# J. Ryu, Electron Microscopy and Spectroscopy Lab., Seoul National University\n",
    "import glob\n",
    "import tkinter.filedialog as tkf\n",
    "import numpy as np\n",
    "import hyperspy.api as hys"
   ]
  },
  {
   "cell_type": "code",
   "execution_count": null,
   "metadata": {},
   "outputs": [],
   "source": [
    "current_folder = tkf.askdirectory()"
   ]
  },
  {
   "cell_type": "code",
   "execution_count": null,
   "metadata": {},
   "outputs": [],
   "source": [
    "# sort and separate image files from the others\n",
    "all_files = glob.glob(current_folder+\"/*\")\n",
    "print(len(all_files))\n",
    "#print(all_files)\n",
    "\n",
    "image_files = []\n",
    "\n",
    "for path in all_files:\n",
    "    if \"Diffraction\" in path:\n",
    "        image_files.append(path)\n",
    "        \n",
    "image_files.sort()\n",
    "print(len(image_files))"
   ]
  },
  {
   "cell_type": "code",
   "execution_count": null,
   "metadata": {},
   "outputs": [],
   "source": [
    "original_shape = (11, 11, 341, 341)"
   ]
  },
  {
   "cell_type": "code",
   "execution_count": null,
   "metadata": {},
   "outputs": [],
   "source": [
    "# read raw image files using struct and put them in a list  \n",
    "img_storage = []\n",
    "\n",
    "if original_shape[0]*original_shape[1] == len(image_files):\n",
    "    for e, adr in enumerate(image_files):\n",
    "        #print(adr)\n",
    "        img_tmp = np.fromfile(adr, dtype=\">d\")\n",
    "        img_tmp = img_tmp.reshape(original_shape[2], original_shape[3])\n",
    "        img_storage.append(img_tmp)\n",
    "        print(\"reconstructing... %d of %d complete\" % (e + 1, len(image_files)))\n",
    "else:\n",
    "    print(\"Please confirm that the shape (dimensions) of the stack is correct.\")"
   ]
  },
  {
   "cell_type": "code",
   "execution_count": null,
   "metadata": {},
   "outputs": [],
   "source": [
    "img_storage = np.asarray(img_storage)\n",
    "reconstructed = np.reshape(img_storage, original_shape)\n",
    "stack = hys.signals.Signal2D(reconstructed)\n",
    "print(stack)"
   ]
  },
  {
   "cell_type": "code",
   "execution_count": null,
   "metadata": {},
   "outputs": [],
   "source": [
    "stack.save(tkf.asksaveasfilename()+\".hdf5\")"
   ]
  },
  {
   "cell_type": "code",
   "execution_count": null,
   "metadata": {},
   "outputs": [],
   "source": [
    "%matplotlib qt\n",
    "stack.plot()"
   ]
  }
 ],
 "metadata": {
  "kernelspec": {
   "display_name": "Python 3",
   "language": "python",
   "name": "python3"
  },
  "language_info": {
   "codemirror_mode": {
    "name": "ipython",
    "version": 3
   },
   "file_extension": ".py",
   "mimetype": "text/x-python",
   "name": "python",
   "nbconvert_exporter": "python",
   "pygments_lexer": "ipython3",
   "version": "3.7.7"
  }
 },
 "nbformat": 4,
 "nbformat_minor": 4
}
