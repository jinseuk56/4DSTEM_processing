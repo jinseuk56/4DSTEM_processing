{
 "cells": [
  {
   "cell_type": "code",
   "execution_count": null,
   "metadata": {},
   "outputs": [],
   "source": [
    "# J. RYU, Electron Microscopy and Spectroscopy Lab., Seoul National University\n",
    "import numpy as np\n",
    "from scipy import optimize\n",
    "import matplotlib\n",
    "import matplotlib.pyplot as plt\n",
    "from matplotlib.widgets import RectangleSelector\n",
    "from matplotlib.colors import ListedColormap\n",
    "import tkinter.filedialog as tkf\n",
    "import hyperspy.api as hys\n",
    "import ipywidgets as pyw"
   ]
  },
  {
   "cell_type": "code",
   "execution_count": null,
   "metadata": {},
   "outputs": [],
   "source": [
    "def load_binary_4D_stack(img_adr, datatype, original_shape, final_shape, log_scale=False):\n",
    "    stack = np.fromfile(img_adr, dtype=datatype)\n",
    "    stack = stack.reshape(original_shape)\n",
    "    print(stack.shape)\n",
    "    if log_scale:\n",
    "        stack = np.log(stack[:final_shape[0], :final_shape[1], :final_shape[2], :final_shape[3]])\n",
    "    else:\n",
    "        stack = stack[:final_shape[0], :final_shape[1], :final_shape[2], :final_shape[3]]\n",
    "    \n",
    "    print(stack.shape) \n",
    "    return stack"
   ]
  },
  {
   "cell_type": "code",
   "execution_count": null,
   "metadata": {},
   "outputs": [],
   "source": [
    "# refer to https://scipy-cookbook.readthedocs.io/items/FittingData.html\n",
    "\n",
    "def gaussian(height, center_x, center_y, width_x, width_y):\n",
    "    \"\"\"Returns a gaussian function with the given parameters\"\"\"\n",
    "    width_x = float(width_x)\n",
    "    width_y = float(width_y)\n",
    "    return lambda x,y: height*np.exp(\n",
    "                -(((center_x-x)/width_x)**2+((center_y-y)/width_y)**2)/2)\n",
    "\n",
    "def moments(data):\n",
    "    \"\"\"Returns (height, x, y, width_x, width_y)\n",
    "    the gaussian parameters of a 2D distribution by calculating its\n",
    "    moments \"\"\"\n",
    "    total = data.sum()\n",
    "    X, Y = np.indices(data.shape) # row, col\n",
    "    x = (X*data).sum()/total # row\n",
    "    y = (Y*data).sum()/total # col\n",
    "    col = data[:, int(y)]\n",
    "    width_x = np.sqrt(np.abs((np.arange(col.size)-y)**2*col).sum()/col.sum()) # row\n",
    "    row = data[int(x), :]\n",
    "    width_y = np.sqrt(np.abs((np.arange(row.size)-x)**2*row).sum()/row.sum()) # col\n",
    "    height = data.max()\n",
    "    return height, x, y, width_x, width_y\n",
    "\n",
    "def fitgaussian(data):\n",
    "    \"\"\"Returns (height, x, y, width_x, width_y)\n",
    "    the gaussian parameters of a 2D distribution found by a fit\"\"\"\n",
    "    params = moments(data)\n",
    "    errorfunction = lambda p: np.ravel(gaussian(*p)(*np.indices(data.shape)) -\n",
    "                                 data)\n",
    "    p, success = optimize.leastsq(errorfunction, params)\n",
    "    return p"
   ]
  },
  {
   "cell_type": "code",
   "execution_count": null,
   "metadata": {},
   "outputs": [],
   "source": [
    "def gaussian_center(image, cbox_edge=0):\n",
    "    y, x = np.indices(image.shape)\n",
    "    if not cbox_edge:\n",
    "        center = np.array([(y.max()-y.min())/2.0, (x.max()-x.min())/2.0])\n",
    "        \n",
    "    else:\n",
    "        cbox_outy = int(image.shape[0]/2 - cbox_edge/2)\n",
    "        cbox_outx = int(image.shape[1]/2 - cbox_edge/2)\n",
    "        center_box = image[cbox_outy:-cbox_outy, cbox_outx:-cbox_outx]\n",
    "        fit_params = fitgaussian(center_box)\n",
    "        (_, center_y, center_x, _, _) = fit_params\n",
    "        center = [center_y+cbox_outy, center_x+cbox_outx]\n",
    "        \n",
    "    return center"
   ]
  },
  {
   "cell_type": "code",
   "execution_count": null,
   "metadata": {},
   "outputs": [],
   "source": [
    "raw_adr = tkf.askopenfilename()\n",
    "print(raw_adr)"
   ]
  },
  {
   "cell_type": "code",
   "execution_count": null,
   "metadata": {},
   "outputs": [],
   "source": [
    "datatype = \"float32\"\n",
    "o_shape = (256, 256, 130, 128)\n",
    "f_shape = (256, 256, 128, 128)"
   ]
  },
  {
   "cell_type": "code",
   "execution_count": null,
   "metadata": {},
   "outputs": [],
   "source": [
    "# load a data (4D data -> \"f_stack\")\n",
    "f_stack = load_binary_4D_stack(raw_adr, datatype, o_shape, f_shape, log_scale=False)\n",
    "print(np.max(f_stack))\n",
    "print(np.min(f_stack))\n",
    "print(np.mean(f_stack))\n",
    "#f_stack = f_stack / np.max(f_stack)\n",
    "#print(np.median(stack_4d))\n",
    "f_shape = f_stack.shape"
   ]
  },
  {
   "cell_type": "code",
   "execution_count": null,
   "metadata": {},
   "outputs": [],
   "source": [
    "# select an interesting area\n",
    "%matplotlib qt\n",
    "fig, ax = plt.subplots(1, 1, figsize=(10, 10))\n",
    "ax.imshow(np.sum(f_stack, axis=(2, 3)), cmap=\"gray\")\n",
    "\n",
    "def onselect(eclick, erelease):\n",
    "    print('startposition: (%f, %f)' % (eclick.xdata, eclick.ydata))\n",
    "    print('endposition  : (%f, %f)' % (erelease.xdata, erelease.ydata))\n",
    "\n",
    "box = RectangleSelector(ax, onselect)\n",
    "plt.show()"
   ]
  },
  {
   "cell_type": "code",
   "execution_count": null,
   "metadata": {},
   "outputs": [],
   "source": [
    "# crop the data for the ROI\n",
    "f_stack = f_stack[int(box.corners[1][0]):int(box.corners[1][2]), \n",
    "                                           int(box.corners[0][0]):int(box.corners[0][1])].copy()\n",
    "\n",
    "f_shape = f_stack.shape\n",
    "print(f_stack.shape)"
   ]
  },
  {
   "cell_type": "code",
   "execution_count": null,
   "metadata": {},
   "outputs": [],
   "source": [
    "pacbed = np.mean(f_stack, axis=(0,1))\n",
    "print(pacbed.shape)"
   ]
  },
  {
   "cell_type": "code",
   "execution_count": null,
   "metadata": {},
   "outputs": [],
   "source": [
    "# find center position\n",
    "center_pos = []\n",
    "for i in range(f_shape[0]):\n",
    "    for j in range(f_shape[1]):\n",
    "        center_pos.append(gaussian_center(f_stack[i, j], cbox_edge=30))\n",
    "        \n",
    "center_pos = np.asarray(center_pos)\n",
    "center_pos = np.reshape(center_pos, (f_shape[0], f_shape[1], -1))\n",
    "print(center_pos.shape)\n",
    "center_mean = np.mean(center_pos, axis=(0, 1))\n",
    "print(center_mean)\n",
    "\n",
    "# center distibution\n",
    "plt.figure()\n",
    "plt.hist(center_pos[:, :, 0].flatten(), bins=100, density=True, color=\"orange\", label=\"center y position\")\n",
    "plt.hist(center_pos[:, :, 1].flatten(), bins=100, density=True, color=\"gray\", alpha=0.5, label=\"center x position\")\n",
    "plt.grid()\n",
    "plt.legend()\n",
    "plt.show()\n",
    "\n",
    "plt.figure()\n",
    "plt.scatter(center_pos[:, :, 1], center_pos[:, :, 0], s=10.0, alpha=0.5)\n",
    "plt.grid()\n",
    "plt.scatter(center_mean[1], center_mean[0], s=20, c=\"red\")\n",
    "plt.xlabel(\"center x position\", fontsize=20)\n",
    "plt.ylabel(\"center y position\", fontsize=20)\n",
    "plt.show()"
   ]
  },
  {
   "cell_type": "code",
   "execution_count": null,
   "metadata": {},
   "outputs": [],
   "source": [
    "# Gaussian-fitted center position\n",
    "ct = center_mean.tolist()"
   ]
  },
  {
   "cell_type": "code",
   "execution_count": null,
   "metadata": {},
   "outputs": [],
   "source": [
    "# just center of the diffraction images\n",
    "y, x = np.indices(f_shape[2:])\n",
    "ct = np.array([(y.max()-y.min())/2.0, (x.max()-x.min())/2.0]).tolist()"
   ]
  },
  {
   "cell_type": "code",
   "execution_count": null,
   "metadata": {},
   "outputs": [],
   "source": [
    "def fourd_roll_axis(stack):\n",
    "    stack = np.rollaxis(np.rollaxis(stack, 2, 0), 3, 1)\n",
    "    return stack"
   ]
  },
  {
   "cell_type": "code",
   "execution_count": null,
   "metadata": {},
   "outputs": [],
   "source": [
    "def max_rad(shape, center=None):\n",
    "    y, x = np.indices(shape)\n",
    "    if not center:\n",
    "        center = np.array([(x.max()-x.min())/2.0, (y.max()-y.min())/2.0])\n",
    "    \n",
    "    r = np.hypot(y - center[0], x - center[1])\n",
    "    \n",
    "    return np.max(r)"
   ]
  },
  {
   "cell_type": "code",
   "execution_count": null,
   "metadata": {},
   "outputs": [],
   "source": [
    "def radial_indices(shape, radial_range, scale, center=None):\n",
    "    y, x = np.indices(shape)\n",
    "    if not center:\n",
    "        center = np.array([(y.max()-y.min())/2.0, (x.max()-x.min())/2.0])\n",
    "    \n",
    "    r = np.hypot(y - center[0], x - center[1]) * scale\n",
    "    ri = np.ones(r.shape)\n",
    "    \n",
    "    if len(np.unique(radial_range)) > 1:\n",
    "        ri[np.where(r <= radial_range[0])] = 0\n",
    "        ri[np.where(r > radial_range[1])] = 0\n",
    "        \n",
    "    else:\n",
    "        r = np.round(r)\n",
    "        ri[np.where(r != round(radial_range[0]))] = 0\n",
    "    \n",
    "    return ri"
   ]
  },
  {
   "cell_type": "code",
   "execution_count": null,
   "metadata": {},
   "outputs": [],
   "source": [
    "def angle_indices(shape, angle_range, center=None):\n",
    "    y, x = np.indices(shape)\n",
    "    y = y.astype(\"float64\")\n",
    "    x = x.astype(\"float64\")\n",
    "    \n",
    "    if not center:\n",
    "        center = np.array([(y.max()-y.min())/2.0, (x.max()-x.min())/2.0])\n",
    "    \n",
    "    y -= center[0]\n",
    "    x -= center[1]\n",
    "    \n",
    "    angle_arr = np.zeros(shape)\n",
    "    for i in range(shape[0]):\n",
    "        for j in range(shape[1]):\n",
    "            angle_arr[i, j] = np.angle(complex(x[i, j], y[i, j]), deg=True)\n",
    "            \n",
    "    angle_arr = angle_arr + 180\n",
    "    ri = np.ones(angle_arr.shape)\n",
    "    \n",
    "    if angle_range[1] > angle_range[0]:\n",
    "        ri[np.where(angle_arr < angle_range[0])] = 0\n",
    "        ri[np.where(angle_arr >= angle_range[1])] = 0\n",
    "        \n",
    "    elif angle_range[0] > angle_range[1]:\n",
    "        ri *= 0.0\n",
    "        ri[np.where(angle_arr < angle_range[1])] = 1\n",
    "        ri[np.where(angle_arr >= angle_range[0])] = 1\n",
    "        \n",
    "    else:\n",
    "        angle_arr = np.round(r)\n",
    "        ri[np.where(angle_arr != round(angle_range[0]))] = 0\n",
    "    \n",
    "    return ri"
   ]
  },
  {
   "cell_type": "code",
   "execution_count": null,
   "metadata": {},
   "outputs": [],
   "source": [
    "# radian (mrad) per pixel\n",
    "#mrad_per_pixel = 1.0\n",
    "mrad_per_pixel = 0.27045890769499215\n",
    "radii = np.arange(max_rad(f_stack.shape[2:], center=ct)) * mrad_per_pixel\n",
    "print(\"maximum angle = %.2f\"%(radii[-1]))"
   ]
  },
  {
   "cell_type": "code",
   "execution_count": null,
   "metadata": {},
   "outputs": [],
   "source": [
    "%matplotlib qt\n",
    "fig, ax = plt.subplots(3, 3, figsize=(10, 10))\n",
    "\n",
    "def virtual_detector(det1_in, det1_out, det2_in, det2_out, det3_in, det3_out):\n",
    "    for i in range(3):\n",
    "        for j in range(3):\n",
    "            ax[i][j].cla()\n",
    "    \n",
    "    if det1_in > det1_out:\n",
    "        det1 = [det1_out, det1_in]\n",
    "        print(\"Warning! detector 1 (inner angle > outer angle)\")\n",
    "    else:\n",
    "        det1 = [det1_in, det1_out]\n",
    "        \n",
    "    if det2_in > det2_out:\n",
    "        det2 = [det2_out, det2_in]\n",
    "        print(\"Warning! detector 2 (inner angle > outer angle)\")\n",
    "    else:\n",
    "        det2 = [det2_in, det2_out]    \n",
    "        \n",
    "    if det3_in > det3_out:\n",
    "        det3 = [det3_out, det3_in]\n",
    "        print(\"Warning! detector 3 (inner angle > outer angle)\")\n",
    "    else:\n",
    "        det3 = [det3_in, det3_out]\n",
    "    \n",
    "    det = []\n",
    "    det.append(det1)\n",
    "    det.append(det2)\n",
    "    det.append(det3)\n",
    "    \n",
    "    ri = []\n",
    "    for i in range(3):\n",
    "        ri.append(radial_indices(f_shape[2:], det[i], mrad_per_pixel, center=ct))\n",
    "    \n",
    "    for i in range(3):\n",
    "        ax[i][0].imshow(ri[i], cmap=\"gray\")\n",
    "        ax[i][0].axis(\"off\")\n",
    "        ax[i][0].set_title(\"(%.2f mrad, %.2f mrad)\"%(det[i][0], det[i][1]), fontsize=20)\n",
    "        \n",
    "    for i in range(3):\n",
    "        ax[i][1].imshow(pacbed, cmap=\"gray\")\n",
    "        ax[i][1].imshow(ri[i], cmap=\"Reds\", alpha=0.3)\n",
    "        ax[i][1].axis(\"off\")\n",
    "        \n",
    "    for i in range(3):\n",
    "        img_temp = np.sum(np.multiply(f_stack, ri[i]), axis=(2, 3))\n",
    "        ax[i][2].imshow(img_temp, cmap=\"afmhot\")\n",
    "        ax[i][2].axis(\"off\")\n",
    "    \n",
    "    fig.canvas.draw()\n",
    "    fig.tight_layout()    \n",
    "\n",
    "st = {\"description_width\": \"initial\"}\n",
    "d1in = pyw.FloatText(value=1.0, description=\"D1 inner angle: \", style=st)\n",
    "d1out = pyw.FloatText(value=5.0, description=\"D1 outer angle: \", style=st)\n",
    "\n",
    "d2in = pyw.FloatText(value=5.0, description=\"D2 inner angle: \", style=st)\n",
    "d2out = pyw.FloatText(value=10.0, description=\"D2 outer angle: \", style=st)\n",
    "\n",
    "d3in = pyw.FloatText(value=10.0, description=\"D3 inner angle: \", style=st)\n",
    "d3out = pyw.FloatText(value=15.0, description=\"D3 outer angle: \", style=st)\n",
    "\n",
    "pyw.interact(virtual_detector, det1_in=d1in, det1_out=d1out, det2_in=d2in, det2_out=d2out, det3_in=d3in, det3_out=d3out)\n",
    "fig.show()"
   ]
  }
 ],
 "metadata": {
  "kernelspec": {
   "display_name": "Python 3",
   "language": "python",
   "name": "python3"
  },
  "language_info": {
   "codemirror_mode": {
    "name": "ipython",
    "version": 3
   },
   "file_extension": ".py",
   "mimetype": "text/x-python",
   "name": "python",
   "nbconvert_exporter": "python",
   "pygments_lexer": "ipython3",
   "version": "3.7.7"
  }
 },
 "nbformat": 4,
 "nbformat_minor": 4
}
