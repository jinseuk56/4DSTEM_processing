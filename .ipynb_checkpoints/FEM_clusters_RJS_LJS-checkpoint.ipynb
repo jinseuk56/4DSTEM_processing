{
 "cells": [
  {
   "cell_type": "code",
   "execution_count": 1,
   "metadata": {},
   "outputs": [],
   "source": [
    "import numpy as np\n",
    "import matplotlib.pyplot as plt\n",
    "import matplotlib.gridspec as gridspec\n",
    "from matplotlib.widgets import RectangleSelector\n",
    "from tabulate import tabulate\n",
    "from sklearn.cluster import DBSCAN\n",
    "import tkinter.filedialog as tkf\n",
    "from scipy import optimize\n",
    "import ipywidgets as pyw"
   ]
  },
  {
   "cell_type": "code",
   "execution_count": 2,
   "metadata": {},
   "outputs": [],
   "source": [
    "# refer to https://scipy-cookbook.readthedocs.io/items/FittingData.html\n",
    "\n",
    "def gaussian(height, center_x, center_y, width_x, width_y):\n",
    "    \"\"\"Returns a gaussian function with the given parameters\"\"\"\n",
    "    width_x = float(width_x)\n",
    "    width_y = float(width_y)\n",
    "    return lambda x,y: height*np.exp(\n",
    "                -(((center_x-x)/width_x)**2+((center_y-y)/width_y)**2)/2)\n",
    "\n",
    "def moments(data):\n",
    "    \"\"\"Returns (height, x, y, width_x, width_y)\n",
    "    the gaussian parameters of a 2D distribution by calculating its\n",
    "    moments \"\"\"\n",
    "    total = data.sum()\n",
    "    X, Y = np.indices(data.shape) # row, col\n",
    "    x = (X*data).sum()/total # row\n",
    "    y = (Y*data).sum()/total # col\n",
    "    col = data[:, int(y)]\n",
    "    width_x = np.sqrt(np.abs((np.arange(col.size)-y)**2*col).sum()/col.sum()) # row\n",
    "    row = data[int(x), :]\n",
    "    width_y = np.sqrt(np.abs((np.arange(row.size)-x)**2*row).sum()/row.sum()) # col\n",
    "    height = data.max()\n",
    "    return height, x, y, width_x, width_y\n",
    "\n",
    "def fitgaussian(data):\n",
    "    \"\"\"Returns (height, x, y, width_x, width_y)\n",
    "    the gaussian parameters of a 2D distribution found by a fit\"\"\"\n",
    "    params = moments(data)\n",
    "    errorfunction = lambda p: np.ravel(gaussian(*p)(*np.indices(data.shape)) -\n",
    "                                 data)\n",
    "    p, success = optimize.leastsq(errorfunction, params)\n",
    "    return p"
   ]
  },
  {
   "cell_type": "code",
   "execution_count": 3,
   "metadata": {},
   "outputs": [],
   "source": [
    "def gaussian_center(image, cbox_edge=0):\n",
    "    y, x = np.indices(image.shape)\n",
    "    if not cbox_edge:\n",
    "        center = np.array([(y.max()-y.min())/2.0, (x.max()-x.min())/2.0])\n",
    "        \n",
    "    else:\n",
    "        cbox_outy = int(image.shape[0]/2 - cbox_edge/2)\n",
    "        cbox_outx = int(image.shape[1]/2 - cbox_edge/2)\n",
    "        center_box = image[cbox_outy:-cbox_outy, cbox_outx:-cbox_outx]\n",
    "        fit_params = fitgaussian(center_box)\n",
    "        (_, center_y, center_x, _, _) = fit_params\n",
    "        center = [center_y+cbox_outy, center_x+cbox_outx]\n",
    "        \n",
    "    return center"
   ]
  },
  {
   "cell_type": "code",
   "execution_count": 4,
   "metadata": {},
   "outputs": [],
   "source": [
    "def remove_center_beam(image, center=None, cb_rad=0):\n",
    "    y, x = np.indices(image.shape)\n",
    "    if not center:\n",
    "        center = np.array([(y.max()-y.min())/2.0, (x.max()-x.min())/2.0])\n",
    "        \n",
    "    r = np.hypot(y - center[0], x - center[1])\n",
    "    r = np.around(r)\n",
    "    ri = np.where(r<=cb_rad)\n",
    "    #print(ri[0].shape)\n",
    "    \n",
    "    image[ri] = 0\n",
    "    \n",
    "    return image"
   ]
  },
  {
   "cell_type": "code",
   "execution_count": 5,
   "metadata": {},
   "outputs": [],
   "source": [
    "# refer to github.com/mkolopanis/python/blob/master/radialProfile.py\n",
    "\n",
    "def radial_variance(image, profile_resolution=1.0, center=None):\n",
    "   \n",
    "    y, x = np.indices(image.shape) * profile_resolution\n",
    "    if not center:\n",
    "        center = np.array([(y.max()-y.min())/2.0, (x.max()-x.min())/2.0])\n",
    "        \n",
    "    r = np.hypot(y - center[0]*profile_resolution, x - center[1]*profile_resolution)\n",
    "    #plt.imshow(r, cmap=\"Accent\")\n",
    "    #plt.show()\n",
    "\n",
    "    # Get sorted radii\n",
    "    ind = np.argsort(r.flat)\n",
    "    r_sorted = r.flat[ind]\n",
    "    i_sorted = image.flat[ind]\n",
    "\n",
    "    # Get the integer part of the radii (bin size = 1)\n",
    "    r_int = np.around(r_sorted)\n",
    "\n",
    "    # Find all pixels that fall within each radial bin.\n",
    "    deltar = r_int[1:] - r_int[:-1]  # Assumes all radii represented\n",
    "    rind = np.where(deltar)[0]       # location of changed radius\n",
    "    nr = rind[1:] - rind[:-1]        # number of radius bin\n",
    "    \n",
    "    csim = np.cumsum(i_sorted, dtype=float)\n",
    "    sq_csim = np.cumsum(np.square(i_sorted), dtype=float)\n",
    "    \n",
    "    #plt.plot(np.square(csim), c=\"red\")\n",
    "    #plt.plot(sq_csim, c=\"blue\")\n",
    "    \n",
    "    avg_square = np.square((csim[rind[1:]] - csim[rind[:-1]]) / nr)\n",
    "    square_avg = (sq_csim[rind[1:]] - sq_csim[rind[:-1]]) / nr\n",
    "    \n",
    "    #plt.plot(avg_square[20:], c=\"red\")\n",
    "    #plt.plot(square_avg[20:], c=\"blue\")\n",
    "    \n",
    "    mask = avg_square.copy()\n",
    "    mask[np.where(avg_square==0)] = 1.0\n",
    "    radial_var = (square_avg - avg_square) / mask\n",
    "    \n",
    "    return radial_var    "
   ]
  },
  {
   "cell_type": "code",
   "execution_count": 6,
   "metadata": {},
   "outputs": [],
   "source": [
    "def load_binary_4D_stack(img_adr, datatype, original_shape, final_shape, log_scale=False):\n",
    "    raw_stack = np.fromfile(img_adr, dtype=datatype)\n",
    "    stack = raw_stack.reshape(original_shape)\n",
    "    print(stack.shape)\n",
    "    if log_scale:\n",
    "        stack = np.log(stack[:final_shape[0], :final_shape[1], :final_shape[2], :final_shape[3]])\n",
    "    else:\n",
    "        stack = stack[:final_shape[0], :final_shape[1], :final_shape[2], :final_shape[3]]\n",
    "    \n",
    "    print(stack.shape) \n",
    "    return stack"
   ]
  },
  {
   "cell_type": "code",
   "execution_count": 7,
   "metadata": {},
   "outputs": [
    {
     "name": "stdout",
     "output_type": "stream",
     "text": [
      "G:/내 드라이브/data_repository/4D/20190925_DGIST/raw_data/Bset3_4/scan_x256_y256.raw\n"
     ]
    }
   ],
   "source": [
    "raw_adr = tkf.askopenfilename()\n",
    "print(raw_adr)"
   ]
  },
  {
   "cell_type": "code",
   "execution_count": 8,
   "metadata": {},
   "outputs": [],
   "source": [
    "datatype = \"float32\"\n",
    "o_shape = (256, 256, 130, 128)\n",
    "f_shape = (256, 256, 128, 128)"
   ]
  },
  {
   "cell_type": "code",
   "execution_count": 9,
   "metadata": {},
   "outputs": [
    {
     "name": "stdout",
     "output_type": "stream",
     "text": [
      "(256, 256, 130, 128)\n",
      "(256, 256, 128, 128)\n",
      "1101695.0\n",
      "1129.0\n",
      "5469.24\n"
     ]
    }
   ],
   "source": [
    "# load a data\n",
    "stack_4d = load_binary_4D_stack(raw_adr, datatype, o_shape, f_shape, log_scale=False)\n",
    "print(np.max(stack_4d))\n",
    "print(np.min(stack_4d))\n",
    "print(np.mean(stack_4d))\n",
    "#print(np.median(stack_4d))"
   ]
  },
  {
   "cell_type": "code",
   "execution_count": 10,
   "metadata": {},
   "outputs": [
    {
     "name": "stdout",
     "output_type": "stream",
     "text": [
      "startposition: (101.707974, 100.378437)\n",
      "endposition  : (158.949631, 157.620094)\n"
     ]
    }
   ],
   "source": [
    "# select an interesting area\n",
    "%matplotlib qt\n",
    "fig, ax = plt.subplots(1, 1, figsize=(10, 10))\n",
    "ax.imshow(np.sum(stack_4d, axis=(2, 3)), cmap=\"gray\")\n",
    "\n",
    "def onselect(eclick, erelease):\n",
    "    print('startposition: (%f, %f)' % (eclick.xdata, eclick.ydata))\n",
    "    print('endposition  : (%f, %f)' % (erelease.xdata, erelease.ydata))\n",
    "\n",
    "box = RectangleSelector(ax, onselect)\n",
    "plt.show()"
   ]
  },
  {
   "cell_type": "code",
   "execution_count": 11,
   "metadata": {},
   "outputs": [
    {
     "name": "stdout",
     "output_type": "stream",
     "text": [
      "(57, 57, 128, 128)\n",
      "431954.0\n",
      "1184.0\n",
      "4470.0156\n"
     ]
    }
   ],
   "source": [
    "# crop the data\n",
    "stack_4d_cropped = stack_4d[int(box.corners[1][0]):int(box.corners[1][2]), \n",
    "                                           int(box.corners[0][0]):int(box.corners[0][1])].copy()\n",
    "print(stack_4d_cropped.shape)\n",
    "print(np.max(stack_4d_cropped))\n",
    "print(np.min(stack_4d_cropped))\n",
    "print(np.mean(stack_4d_cropped))\n",
    "#print(np.median(stack_4d_cropped))"
   ]
  },
  {
   "cell_type": "code",
   "execution_count": 12,
   "metadata": {},
   "outputs": [],
   "source": [
    "%matplotlib inline"
   ]
  },
  {
   "cell_type": "code",
   "execution_count": 13,
   "metadata": {},
   "outputs": [
    {
     "name": "stdout",
     "output_type": "stream",
     "text": [
      "(57, 57, 2)\n",
      "[64.4724198  65.10616884]\n"
     ]
    },
    {
     "data": {
      "image/png": "[encoded data removed]",
      "text/plain": [
       "<Figure size 432x288 with 1 Axes>"
      ]
     },
     "metadata": {
      "needs_background": "light"
     },
     "output_type": "display_data"
    },
    {
     "data": {
      "image/png": "[encoded data removed]",
      "text/plain": [
       "<Figure size 432x288 with 1 Axes>"
      ]
     },
     "metadata": {
      "needs_background": "light"
     },
     "output_type": "display_data"
    }
   ],
   "source": [
    "# find center position\n",
    "center_pos = []\n",
    "for i in range(stack_4d_cropped.shape[0]):\n",
    "    for j in range(stack_4d_cropped.shape[1]):\n",
    "        center_pos.append(gaussian_center(stack_4d_cropped[i, j], cbox_edge=30))\n",
    "        \n",
    "center_pos = np.asarray(center_pos)\n",
    "center_pos = np.reshape(center_pos, (stack_4d_cropped.shape[0], stack_4d_cropped.shape[1], -1))\n",
    "print(center_pos.shape)\n",
    "center_mean = np.mean(center_pos, axis=(0, 1))\n",
    "print(center_mean)\n",
    "\n",
    "# center distibution\n",
    "plt.figure()\n",
    "plt.hist(center_pos[:, :, 0].flatten(), bins=100, density=True, color=\"orange\", label=\"center y position\")\n",
    "plt.hist(center_pos[:, :, 1].flatten(), bins=100, density=True, color=\"gray\", alpha=0.5, label=\"center x position\")\n",
    "plt.grid()\n",
    "plt.legend()\n",
    "plt.show()\n",
    "\n",
    "plt.figure()\n",
    "plt.scatter(center_pos[:, :, 1], center_pos[:, :, 0], s=10.0, alpha=0.5)\n",
    "plt.grid()\n",
    "plt.scatter(center_mean[1], center_mean[0], s=20, c=\"red\")\n",
    "plt.xlabel(\"center x position\", fontsize=20)\n",
    "plt.ylabel(\"center y position\", fontsize=20)\n",
    "plt.show()"
   ]
  },
  {
   "cell_type": "code",
   "execution_count": 14,
   "metadata": {},
   "outputs": [
    {
     "name": "stdout",
     "output_type": "stream",
     "text": [
      "26693.0\n",
      "0.0\n",
      "2814.2783\n"
     ]
    }
   ],
   "source": [
    "# remove center beam\n",
    "stack_4d_cropped_cb = stack_4d_cropped.copy()\n",
    "center_radius = 20\n",
    "for i in range(stack_4d_cropped.shape[0]):\n",
    "    for j in range(stack_4d_cropped.shape[1]):\n",
    "        stack_4d_cropped[i, j] = remove_center_beam(stack_4d_cropped[i, j], \n",
    "                                                    center=center_mean.tolist(), cb_rad=center_radius)\n",
    "print(np.max(stack_4d_cropped))\n",
    "print(np.min(stack_4d_cropped))\n",
    "print(np.mean(stack_4d_cropped))\n",
    "#print(np.median(stack_4d_cropped))"
   ]
  },
  {
   "cell_type": "code",
   "execution_count": 15,
   "metadata": {},
   "outputs": [
    {
     "name": "stdout",
     "output_type": "stream",
     "text": [
      "(57, 57, 91)\n",
      "(91,)\n"
     ]
    },
    {
     "data": {
      "image/png": "[encoded data removed]",
      "text/plain": [
       "<Figure size 720x720 with 1 Axes>"
      ]
     },
     "metadata": {
      "needs_background": "light"
     },
     "output_type": "display_data"
    }
   ],
   "source": [
    "# calculate variance with all angles at a certain k\n",
    "radial_var_stack = []\n",
    "len_profile = []\n",
    "for i in range(stack_4d_cropped.shape[0]):\n",
    "    for j in range(stack_4d_cropped.shape[1]):\n",
    "        radial_temp = radial_variance(stack_4d_cropped[i, j], center=center_mean.tolist())\n",
    "        len_profile.append(len(radial_temp))\n",
    "        radial_var_stack.append(radial_temp)\n",
    "\n",
    "if len(np.unique(len_profile)) > 1:\n",
    "    print(np.unique(len_profile))\n",
    "    shortest = np.min(len_profile)\n",
    "    for i in range(len(len_profile)):\n",
    "        radial_var_stack[i] = radial_var_stack[i][:shortest]\n",
    "\n",
    "radial_var_stack = np.asarray(radial_var_stack).reshape(stack_4d_cropped.shape[0], stack_4d_cropped.shape[1], -1)\n",
    "print(radial_var_stack.shape)\n",
    "\n",
    "radial_var_sum = np.sum(radial_var_stack, axis=(0, 1))\n",
    "print(radial_var_sum.shape)\n",
    "\n",
    "plt.figure(figsize=(10,10))\n",
    "plt.plot(radial_var_sum)\n",
    "plt.grid()\n",
    "plt.show()"
   ]
  },
  {
   "cell_type": "code",
   "execution_count": null,
   "metadata": {},
   "outputs": [],
   "source": [
    "%matplotlib inline"
   ]
  },
  {
   "cell_type": "code",
   "execution_count": 16,
   "metadata": {},
   "outputs": [
    {
     "data": {
      "image/png": "[encoded data removed]",
      "text/plain": [
       "<Figure size 360x360 with 1 Axes>"
      ]
     },
     "metadata": {
      "needs_background": "light"
     },
     "output_type": "display_data"
    }
   ],
   "source": [
    "radii = np.arange(len(radial_var_sum))\n",
    "#pacbed = np.mean(stack_4d_cropped, axis=(0, 1))\n",
    "pacbed = np.log(np.mean(stack_4d_cropped_cb, axis=(0, 1)))\n",
    "fig, ax = plt.subplots(1, 1, figsize=(5, 5))\n",
    "ax.imshow(pacbed, cmap=\"afmhot\")\n",
    "ax.axis(\"off\")\n",
    "plt.show()"
   ]
  },
  {
   "cell_type": "code",
   "execution_count": 17,
   "metadata": {},
   "outputs": [
    {
     "name": "stdout",
     "output_type": "stream",
     "text": [
      "lower variance = 0.160298\n",
      "upper variance = 0.282724\n"
     ]
    }
   ],
   "source": [
    "ki = 27\n",
    "kf = 29\n",
    "p1 = 90.0 # lower percentile\n",
    "p2 = 99.9 # upper percentile\n",
    "v1 = np.percentile(radial_var_stack[:, :, ki:(kf+1)], p1)\n",
    "v2 = np.percentile(radial_var_stack[:, :, ki:(kf+1)], p2)\n",
    "print(\"lower variance = %f\"%v1)\n",
    "print(\"upper variance = %f\"%v2)"
   ]
  },
  {
   "cell_type": "code",
   "execution_count": 18,
   "metadata": {},
   "outputs": [
    {
     "data": {
      "image/png": "[encoded data removed]",
      "text/plain": [
       "<Figure size 576x288 with 2 Axes>"
      ]
     },
     "metadata": {
      "needs_background": "light"
     },
     "output_type": "display_data"
    }
   ],
   "source": [
    "masked = radial_var_stack[:, :, ki:(kf+1)].copy()\n",
    "img_tmp = np.ones_like(masked)\n",
    "img_tmp[np.where(masked < v1)] = 0\n",
    "img_tmp[np.where(masked > v2)] = 0\n",
    "img = np.sum(img_tmp, axis=2)\n",
    "bool_img = np.zeros_like(img)\n",
    "bool_img[np.where(img != 0)] = 1\n",
    "\n",
    "fig, ax = plt.subplots(1, 2, figsize=(8, 4))\n",
    "ax[0].imshow(img, cmap=\"afmhot\")\n",
    "ax[0].axis(\"off\")\n",
    "ax[1].imshow(bool_img, cmap=\"afmhot\")\n",
    "ax[1].axis(\"off\")\n",
    "plt.show()"
   ]
  },
  {
   "cell_type": "code",
   "execution_count": 19,
   "metadata": {},
   "outputs": [
    {
     "name": "stdout",
     "output_type": "stream",
     "text": [
      "number of clusters = 38\n",
      "[ 0  1  2  3  4  5  6  7  8  9 10 11 12 13 14 15 16 17 18 19 20 21 22 23\n",
      " 24 25 26 27 28 29 30 31 32 33 34 35 36 37]\n"
     ]
    },
    {
     "data": {
      "image/png": "[encoded data removed]",
      "text/plain": [
       "<Figure size 720x720 with 3 Axes>"
      ]
     },
     "metadata": {
      "needs_background": "light"
     },
     "output_type": "display_data"
    }
   ],
   "source": [
    "min_num = 4\n",
    "epsilon = 2**(1/2)\n",
    "db = DBSCAN(eps=epsilon, min_samples=min_num)\n",
    "sel_coor = np.nonzero(bool_img)\n",
    "X = np.stack((sel_coor[0], sel_coor[1]), axis=1)\n",
    "db.fit(X)\n",
    "img_tmp = np.zeros_like(bool_img)\n",
    "img_tmp += -1\n",
    "img_tmp[X[:, 0], X[:, 1]] = db.labels_\n",
    "labeled_cluster_img = img_tmp.copy()\n",
    "cluster_img = np.where(img_tmp<0, img_tmp, 1)\n",
    "cluster_img = np.where(cluster_img>-1, bool_img, 0)\n",
    "\n",
    "label = np.unique(db.labels_)[1:]\n",
    "print(\"number of clusters = %d\"%(len(label)))\n",
    "print(label)\n",
    "\n",
    "fig, ax = plt.subplots(1, 3, figsize=(10, 10))\n",
    "ax[0].imshow(img, cmap=\"afmhot\")\n",
    "ax[0].axis(\"off\")\n",
    "ax[1].imshow(bool_img, cmap=\"afmhot\")\n",
    "ax[1].axis(\"off\")\n",
    "ax[2].imshow(cluster_img, cmap=\"afmhot\")\n",
    "ax[2].axis(\"off\")\n",
    "\n",
    "for i in label:\n",
    "    l_coor = np.where(db.labels_ == i)\n",
    "    ax[2].text(X[l_coor[0][0], 1], X[l_coor[0][0], 0], str(i), \n",
    "                      color=\"red\", fontdict={\"size\": 10})\n",
    "\n",
    "fig.tight_layout()\n",
    "plt.show()"
   ]
  },
  {
   "cell_type": "code",
   "execution_count": 20,
   "metadata": {},
   "outputs": [],
   "source": [
    "def radial_indices(shape, radial_range, center=None):\n",
    "    y, x = np.indices(shape)\n",
    "    if not center:\n",
    "        center = np.array([(y.max()-y.min())/2.0, (x.max()-x.min())/2.0])\n",
    "    \n",
    "    r = np.hypot(y - center[0], x - center[1])\n",
    "    ri = np.ones(r.shape)\n",
    "    \n",
    "    if len(np.unique(radial_range)) > 1:\n",
    "        ri[np.where(r <= radial_range[0])] = 0\n",
    "        ri[np.where(r > radial_range[1])] = 0\n",
    "        \n",
    "    else:\n",
    "        r = np.round(r)\n",
    "        ri[np.where(r != round(radial_range[0]))] = 0\n",
    "    \n",
    "    return ri"
   ]
  },
  {
   "cell_type": "code",
   "execution_count": 36,
   "metadata": {},
   "outputs": [],
   "source": [
    "def indices_at_r(shape, radius, center=None):\n",
    "    y, x = np.indices(shape)\n",
    "    if not center:\n",
    "        center = np.array([(y.max()-y.min())/2.0, (x.max()-x.min())/2.0])\n",
    "    r = np.hypot(y - center[0], x - center[1])\n",
    "    r = np.around(r)\n",
    "    \n",
    "    ri = np.where(r == radius)\n",
    "    \n",
    "    angle_arr = np.zeros(shape)\n",
    "    for i in range(shape[0]):\n",
    "        for j in range(shape[1]):\n",
    "            angle_arr[i, j] = np.angle(complex(x[i, j]-center[1], y[i, j]-center[0]), deg=True)\n",
    "            \n",
    "    angle_arr = angle_arr + 180\n",
    "    angle_arr = np.around(angle_arr)\n",
    "    \n",
    "    ai = np.argsort(angle_arr[ri])\n",
    "    r_sort = (ri[0][ai], ri[1][ai])\n",
    "    a_sort = np.sort(angle_arr[ri])\n",
    "        \n",
    "    return r_sort, a_sort"
   ]
  },
  {
   "cell_type": "code",
   "execution_count": 50,
   "metadata": {},
   "outputs": [
    {
     "name": "stdout",
     "output_type": "stream",
     "text": [
      "AxesImage(62.5,55;387.5x385)\n",
      "[25. 26. 27. 28. 29. 30. 31.]\n"
     ]
    }
   ],
   "source": [
    "%matplotlib qt\n",
    "fig = plt.figure(figsize=(5, 5))\n",
    "ax = fig.add_subplot(111)\n",
    "cimg = ax.imshow(img, cmap=\"afmhot\", picker=True)\n",
    "cimg.axes.set_title(\"click a pixel\")\n",
    "cimg.axes.axis(\"off\")\n",
    "print(cimg)\n",
    "\n",
    "kr = np.around((kf + ki)/2)\n",
    "k_range = np.arange(kr-3, kf+3, 1)\n",
    "print(k_range)\n",
    "num_k = len(k_range)\n",
    "k_donut = radial_indices(f_shape[2:], [k_range[0], k_range[-1]], center=center_mean.tolist())\n",
    "\n",
    "def onpick(event):\n",
    "    \n",
    "    if event.artist != cimg: return True\n",
    "\n",
    "    if event.mouseevent.name != \"button_press_event\": return True\n",
    "\n",
    "    sy, sx = int(event.mouseevent.ydata), int(event.mouseevent.xdata)\n",
    "    #print(sy, sx)\n",
    "    \n",
    "    figi = plt.figure(figsize=(15, 10))\n",
    "    G = gridspec.GridSpec(num_k, num_k*4)\n",
    "    ax1 = figi.add_subplot(G[:num_k, :num_k])\n",
    "    ax2 = figi.add_subplot(G[:num_k, num_k:num_k*2])\n",
    "    ax3 = figi.add_subplot(G[:num_k, num_k*2:num_k*3])\n",
    "\n",
    "    ax1.imshow(img, cmap=\"afmhot\", picker=False)\n",
    "    ax1.scatter(sx, sy, marker=\"s\", facecolor=\"none\", edgecolors=\"aqua\", linewidths=1.5)\n",
    "    ax1.axis(\"off\")\n",
    "    \n",
    "    ax2.imshow(stack_4d_cropped[sy, sx], cmap=\"afmhot\")\n",
    "    ax2.axis(\"off\")\n",
    "    \n",
    "    ax3.imshow(np.log(stack_4d_cropped_cb[sy, sx]), cmap=\"afmhot\")\n",
    "    ax3.imshow(k_donut, cmap=\"gray\", alpha=0.20)\n",
    "    ax3.axis(\"off\")\n",
    "    \n",
    "    for i in range(num_k):\n",
    "        ax_tmp = figi.add_subplot(G[i, num_k*3:num_k*4])\n",
    "        k_ind, a_ind = indices_at_r(f_shape[2:], radius=k_range[-(i+1)], center=center_mean.tolist())\n",
    "        k_line = stack_4d_cropped_cb[int(sy), int(sx)][k_ind]\n",
    "        ax_tmp.plot(a_ind, k_line, linewidth=1)\n",
    "        ax_tmp.grid()\n",
    "        ax_tmp.set_yticks([])\n",
    "        ax_tmp.tick_params(axis=\"x\", labelsize=5)\n",
    "    \n",
    "    figi.canvas.draw()\n",
    "    figi.tight_layout()\n",
    "    \n",
    "    return True\n",
    "\n",
    "fig.canvas.mpl_connect('pick_event', onpick)\n",
    "fig.tight_layout()\n",
    "\n",
    "plt.show()"
   ]
  },
  {
   "cell_type": "code",
   "execution_count": 84,
   "metadata": {},
   "outputs": [
    {
     "name": "stdout",
     "output_type": "stream",
     "text": [
      "AxesImage(62.5,55;387.5x385)\n",
      "-1.0\n",
      "9\n"
     ]
    }
   ],
   "source": [
    "%matplotlib qt\n",
    "fig = plt.figure(figsize=(5, 5))\n",
    "ax = fig.add_subplot(111)\n",
    "ximg = ax.imshow(cluster_img, cmap=\"afmhot\", picker=True)\n",
    "for i in label:\n",
    "    l_coor = np.where(db.labels_ == i)\n",
    "    ximg.axes.text(X[l_coor[0][0], 1], X[l_coor[0][0], 0], str(i), \n",
    "                      color=\"red\", fontdict={\"size\": 10})\n",
    "ximg.axes.set_title(\"click a pixel\")\n",
    "ximg.axes.axis(\"off\")\n",
    "print(ximg)\n",
    "\n",
    "k_fix = 27\n",
    "\n",
    "def onpick(event):\n",
    "    \n",
    "    if event.artist != ximg: return True\n",
    "\n",
    "    if event.mouseevent.name != \"button_press_event\": return True\n",
    "\n",
    "    sy, sx = int(event.mouseevent.ydata), int(event.mouseevent.xdata)\n",
    "    #print(sy, sx)\n",
    "    \n",
    "    label_id = labeled_cluster_img[sy, sx]\n",
    "    print(label_id)\n",
    "        \n",
    "    if label_id == -1:\n",
    "        num_p = 9\n",
    "        mask = np.zeros(img.shape)\n",
    "        mask[(sy-1):(sy+2), (sx-1):(sx+2)] = 100\n",
    "        sel_ind = np.where(mask == 100)\n",
    "        \n",
    "    else:\n",
    "        sel_ind = np.where(labeled_cluster_img == label_id)\n",
    "        mask = np.zeros(img.shape)\n",
    "        mask[sel_ind] = 100\n",
    "        num_p = len(sel_ind[0])\n",
    "    \n",
    "    print(num_p)\n",
    "    figi = plt.figure(figsize=(15, 10))\n",
    "    G = gridspec.GridSpec(num_p, num_p*3)\n",
    "    ax1 = figi.add_subplot(G[:num_p, :num_p])\n",
    "    ax2 = figi.add_subplot(G[:num_p, num_p:num_p*2])\n",
    "\n",
    "    ax1.imshow(cluster_img, cmap=\"afmhot\")\n",
    "    for i in label:\n",
    "        l_coor = np.where(db.labels_ == i)\n",
    "        ax1.text(X[l_coor[0][0], 1], X[l_coor[0][0], 0], str(i), \n",
    "                      color=\"red\", fontdict={\"size\": 10})\n",
    "    ax1.axis(\"off\")\n",
    "    \n",
    "    ax2.imshow(mask, cmap=\"Reds\")\n",
    "    ax2.imshow(cluster_img, cmap=\"gray\", alpha=0.1)\n",
    "    ax2.axis(\"off\")\n",
    "    \n",
    "    k_ind, a_ind = indices_at_r(f_shape[2:], radius=k_fix, center=center_mean.tolist())\n",
    "    for i in range(num_p):\n",
    "        ax_tmp = figi.add_subplot(G[i, num_p*2:num_p*3])\n",
    "        k_line = stack_4d_cropped_cb[sel_ind[0][i], sel_ind[1][i]][k_ind]\n",
    "        ax_tmp.plot(a_ind, k_line, linewidth=1)\n",
    "        ax_tmp.grid()\n",
    "        ax_tmp.set_yticks([])\n",
    "        ax_tmp.tick_params(axis=\"x\", labelsize=5)\n",
    "    \n",
    "    figi.canvas.draw()\n",
    "    figi.tight_layout()\n",
    "    \n",
    "    return True\n",
    "\n",
    "fig.canvas.mpl_connect('pick_event', onpick)\n",
    "fig.tight_layout()\n",
    "\n",
    "plt.show()"
   ]
  },
  {
   "cell_type": "code",
   "execution_count": null,
   "metadata": {},
   "outputs": [],
   "source": [
    "low_var_coor = np.where(img == 0)\n",
    "print(low_var_coor[0].shape)\n",
    "row = 2\n",
    "col = 2\n",
    "rand_int = np.random.randint(0, low_var_coor[0].shape, row * col)\n",
    "print(rand_int)\n",
    "\n",
    "fig, ax = plt.subplots(row, col, figsize=(10, 10))\n",
    "ax_flat = ax.flat\n",
    "for i, a in enumerate(ax_flat):\n",
    "    a.imshow(np.log(stack_4d_cropped_cb[low_var_coor[0][rand_int[i]], low_var_coor[1][rand_int[i]]]), cmap=\"afmhot\")\n",
    "    a.axis(\"off\")\n",
    "fig.tight_layout()\n",
    "plt.show()"
   ]
  },
  {
   "cell_type": "code",
   "execution_count": null,
   "metadata": {},
   "outputs": [],
   "source": [
    "sel_label = 27\n",
    "\n",
    "cluster_coor = np.where(labeled_cluster_img == sel_label)\n",
    "print(cluster_coor[0].shape)\n",
    "row = 2\n",
    "col = 2\n",
    "print(row * col)\n",
    "fig, ax = plt.subplots(row, col, figsize=(10, 10))\n",
    "ax_flat = ax.flat\n",
    "\n",
    "num_dp = row * col\n",
    "if num_dp > cluster_coor[0].shape[0]:\n",
    "    num_dp = cluster_coor[0].shape[0]\n",
    "\n",
    "print(num_dp)\n",
    "for i in range(num_dp):\n",
    "    ax_flat[i].imshow(np.log(stack_4d_cropped_cb[cluster_coor[0][i], cluster_coor[1][i]]), cmap=\"afmhot\")\n",
    "    ax_flat[i].axis(\"off\")\n",
    "fig.tight_layout()\n",
    "plt.show()"
   ]
  }
 ],
 "metadata": {
  "kernelspec": {
   "display_name": "Python 3",
   "language": "python",
   "name": "python3"
  },
  "language_info": {
   "codemirror_mode": {
    "name": "ipython",
    "version": 3
   },
   "file_extension": ".py",
   "mimetype": "text/x-python",
   "name": "python",
   "nbconvert_exporter": "python",
   "pygments_lexer": "ipython3",
   "version": "3.7.7"
  }
 },
 "nbformat": 4,
 "nbformat_minor": 4
}
