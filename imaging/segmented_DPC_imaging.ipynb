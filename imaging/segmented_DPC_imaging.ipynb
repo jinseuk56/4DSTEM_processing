{
 "cells": [
  {
   "cell_type": "code",
   "execution_count": null,
   "id": "desirable-dealer",
   "metadata": {},
   "outputs": [],
   "source": [
    "import numpy as np\n",
    "import matplotlib.pyplot as plt\n",
    "import hyperspy.api as hys\n",
    "import sys\n",
    "sys.path.append(\"E:/github_repo/4DSTEM_processing/\")\n",
    "from FDSTEM_process import *\n",
    "import tifffile\n",
    "import tkinter.filedialog as tkf\n",
    "import time\n",
    "import rigidregistration as rr\n",
    "plt.rcParams['font.family'] = 'Cambria'"
   ]
  },
  {
   "cell_type": "code",
   "execution_count": null,
   "id": "finnish-accused",
   "metadata": {},
   "outputs": [],
   "source": [
    "ref_adr = tkf.askopenfilename()\n",
    "print(ref_adr)\n",
    "ref_data = hys.load(ref_adr).data\n",
    "ref_data = np.rollaxis(ref_data, 0, 3)\n",
    "print(ref_data.shape)"
   ]
  },
  {
   "cell_type": "code",
   "execution_count": null,
   "id": "37518260",
   "metadata": {},
   "outputs": [],
   "source": [
    "s = rr.stackregistration.imstack(ref_data)\n",
    "print(s)\n",
    "s.getFFTs()"
   ]
  },
  {
   "cell_type": "code",
   "execution_count": null,
   "id": "50c678f9",
   "metadata": {},
   "outputs": [],
   "source": [
    "masktype=\"gaussian\"\n",
    "i,j = 0, 1\n",
    "n=2\n",
    "s.makeFourierMask(mask=masktype,n=n)\n",
    "s.show_Fourier_mask(i=i,j=j)"
   ]
  },
  {
   "cell_type": "code",
   "execution_count": null,
   "id": "d4a9ad68",
   "metadata": {},
   "outputs": [],
   "source": [
    "shifts = s.findImageShifts(findMaxima='pixel',verbose=False)\n",
    "s.show_Rij()\n",
    "plt.show()\n",
    "\n",
    "s.get_outliers(threshold=15)              # Set outlier threshhold\n",
    "s.show_Rij()\n",
    "plt.show()\n",
    "\n",
    "s.make_corrected_Rij()    # Correct outliers using the transitivity relations\n",
    "s.show_Rij_c()\n",
    "plt.show()"
   ]
  },
  {
   "cell_type": "code",
   "execution_count": null,
   "id": "f29baff9",
   "metadata": {},
   "outputs": [],
   "source": [
    "s.get_averaged_image()\n",
    "\n",
    "fig, ax = plt.subplots(1, 1, figsize=(10, 10))\n",
    "ax.imshow(s.average_image)\n",
    "plt.show()"
   ]
  },
  {
   "cell_type": "code",
   "execution_count": null,
   "id": "dad9f78a",
   "metadata": {},
   "outputs": [],
   "source": [
    "tifffile.imwrite(\"aligned_ADF.tif\", s.average_image)"
   ]
  },
  {
   "cell_type": "code",
   "execution_count": null,
   "id": "3bd318c9",
   "metadata": {},
   "outputs": [],
   "source": [
    "raw_adr = tkf.askopenfilenames()\n",
    "print(raw_adr)\n",
    "\n",
    "xsh = hys.load(raw_adr[0]).data\n",
    "print(xsh.shape)\n",
    "print(np.mean(xsh), np.std(xsh))\n",
    "ysh = hys.load(raw_adr[1]).data\n",
    "print(ysh.shape)\n",
    "print(np.mean(ysh), np.std(ysh))"
   ]
  },
  {
   "cell_type": "code",
   "execution_count": null,
   "id": "5c186894",
   "metadata": {},
   "outputs": [],
   "source": [
    "s.imstack = np.rollaxis(xsh, 0, 3)\n",
    "s.get_averaged_image()\n",
    "\n",
    "xsh_aligned = s.average_image\n",
    "\n",
    "fig, ax = plt.subplots(1, 1, figsize=(10, 10))\n",
    "ax.imshow(xsh_aligned)\n",
    "plt.show()"
   ]
  },
  {
   "cell_type": "code",
   "execution_count": null,
   "id": "cdd7f74a",
   "metadata": {},
   "outputs": [],
   "source": [
    "s.imstack = np.rollaxis(ysh, 0, 3)\n",
    "s.get_averaged_image()\n",
    "\n",
    "ysh_aligned = s.average_image\n",
    "\n",
    "fig, ax = plt.subplots(1, 1, figsize=(10, 10))\n",
    "ax.imshow(ysh_aligned)\n",
    "plt.show()"
   ]
  },
  {
   "cell_type": "code",
   "execution_count": null,
   "id": "8fd7dcec",
   "metadata": {},
   "outputs": [],
   "source": [
    "print(np.mean(xsh_aligned), np.std(xsh_aligned))\n",
    "print(np.mean(ysh_aligned), np.std(ysh_aligned))\n",
    "print(np.mean(xsh_aligned)/np.mean(ysh_aligned))\n",
    "ratio = np.mean(xsh_aligned)/np.mean(ysh_aligned)"
   ]
  },
  {
   "cell_type": "code",
   "execution_count": null,
   "id": "8af2860f",
   "metadata": {},
   "outputs": [],
   "source": [
    "hpass_val = 1E-3\n",
    "lpass_val = 1E-3\n",
    "\n",
    "E_mag, E_field_x, E_field_y, charge_density, potential = segmented_DPC(xsh_aligned, ysh_aligned*ratio, \n",
    "                                                                    correct_rotation=True,\n",
    "                                                                    n_theta=50,\n",
    "                                                                    hpass=hpass_val,\n",
    "                                                                    lpass=lpass_val,\n",
    "                                                                    visual=True)"
   ]
  },
  {
   "cell_type": "code",
   "execution_count": null,
   "id": "6f43d520",
   "metadata": {},
   "outputs": [],
   "source": [
    "tifffile.imwrite(\"aligned_iDPC.tif\", potential)"
   ]
  },
  {
   "cell_type": "code",
   "execution_count": null,
   "id": "bf62c145",
   "metadata": {},
   "outputs": [],
   "source": [
    "potentials = []\n",
    "\n",
    "for i in range(10):\n",
    "    E_mag, E_field_x, E_field_y, charge_density, potential = segmented_DPC(xsh[i], ysh[i], \n",
    "                                                                        correct_rotation=True,\n",
    "                                                                        n_theta=50,\n",
    "                                                                        hpass=hpass_val,\n",
    "                                                                        lpass=lpass_val,\n",
    "                                                                        visual=True)\n",
    "    plt.show()\n",
    "    potentials.append(potential)"
   ]
  },
  {
   "cell_type": "code",
   "execution_count": null,
   "id": "8044d2a4",
   "metadata": {},
   "outputs": [],
   "source": [
    "potentials = np.asarray(potentials)\n",
    "data = np.rollaxis(potentials, 0, 3)"
   ]
  },
  {
   "cell_type": "code",
   "execution_count": null,
   "id": "52f497cc",
   "metadata": {},
   "outputs": [],
   "source": [
    "s.imstack = data.copy()\n",
    "s.get_averaged_image()\n",
    "\n",
    "fig, ax = plt.subplots(1, 1, figsize=(10, 10))\n",
    "ax.imshow(s.average_image)\n",
    "plt.show()"
   ]
  },
  {
   "cell_type": "code",
   "execution_count": null,
   "id": "fee044c3",
   "metadata": {},
   "outputs": [],
   "source": [
    "tifffile.imwrite(\"aligned_iDPC.tif\", s.average_image)"
   ]
  }
 ],
 "metadata": {
  "kernelspec": {
   "display_name": "Python 3 (ipykernel)",
   "language": "python",
   "name": "python3"
  },
  "language_info": {
   "codemirror_mode": {
    "name": "ipython",
    "version": 3
   },
   "file_extension": ".py",
   "mimetype": "text/x-python",
   "name": "python",
   "nbconvert_exporter": "python",
   "pygments_lexer": "ipython3",
   "version": "3.10.13"
  },
  "widgets": {
   "application/vnd.jupyter.widget-state+json": {
    "state": {},
    "version_major": 2,
    "version_minor": 0
   }
  }
 },
 "nbformat": 4,
 "nbformat_minor": 5
}
