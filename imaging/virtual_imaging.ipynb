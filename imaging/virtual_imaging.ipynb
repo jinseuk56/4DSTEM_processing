{
 "cells": [
  {
   "cell_type": "code",
   "execution_count": null,
   "id": "desirable-dealer",
   "metadata": {},
   "outputs": [],
   "source": [
    "import numpy as np\n",
    "import matplotlib.pyplot as plt\n",
    "import sys\n",
    "sys.path.append(\"E:/github_repo/4DSTEM_processing/\")\n",
    "from FDSTEM_process import *\n",
    "import tifffile\n",
    "import tkinter.filedialog as tkf\n",
    "plt.rcParams['font.family'] = 'Cambria'"
   ]
  },
  {
   "cell_type": "code",
   "execution_count": null,
   "id": "finnish-accused",
   "metadata": {},
   "outputs": [],
   "source": [
    "raw_adr = tkf.askopenfilename()\n",
    "print(raw_adr)"
   ]
  },
  {
   "cell_type": "code",
   "execution_count": null,
   "id": "progressive-blend",
   "metadata": {},
   "outputs": [],
   "source": [
    "scan_per_pixel = 0.11272 # Å\n",
    "mrad_per_pixel = 0.40877 # mrad\n",
    "fd = FourDSTEM_process(raw_adr, scan_per_pixel, mrad_per_pixel)"
   ]
  },
  {
   "cell_type": "code",
   "execution_count": null,
   "id": "cca06347-b3aa-4977-883b-bd6d1bb21252",
   "metadata": {},
   "outputs": [],
   "source": [
    "fd.spike_remove(percent_thresh=0.01, mode=\"lower\", apply_remove=True)"
   ]
  },
  {
   "cell_type": "code",
   "execution_count": null,
   "id": "robust-research",
   "metadata": {},
   "outputs": [],
   "source": [
    "c_pos = fd.find_center(cbox_edge=64)\n",
    "print(c_pos)"
   ]
  },
  {
   "cell_type": "code",
   "execution_count": null,
   "id": "listed-waterproof",
   "metadata": {},
   "outputs": [],
   "source": [
    "fd.disk_extract(buffer_size=1)"
   ]
  },
  {
   "cell_type": "code",
   "execution_count": null,
   "id": "convinced-track",
   "metadata": {},
   "outputs": [],
   "source": [
    "semiangle = fd.least_R*mrad_per_pixel\n",
    "BF_det = np.array([0, semiangle])\n",
    "ADF_det = np.array([semiangle, semiangle*2])\n",
    "\n",
    "print(BF_det, ADF_det)\n",
    "\n",
    "fd.virtual_stem(BF_det, ADF_det)"
   ]
  },
  {
   "cell_type": "code",
   "execution_count": null,
   "id": "ordinary-token",
   "metadata": {},
   "outputs": [],
   "source": [
    "fd.DPC(correct_rotation=True, n_theta=100, hpass=0.05, lpass=0.05)"
   ]
  },
  {
   "cell_type": "code",
   "execution_count": null,
   "id": "f65e8eb7-f079-4bb5-bd61-000d4d8e99ee",
   "metadata": {},
   "outputs": [],
   "source": [
    "tifffile.imwrite(\"vHAADF.tif\", self.ADF_stem)\n",
    "tifffile.imwrite(\"dDPC.tif\", self.charge_density)\n",
    "tifffile.imwrite(\"iDPC.tif\", self.potential)"
   ]
  },
  {
   "cell_type": "code",
   "execution_count": null,
   "id": "rough-ability",
   "metadata": {},
   "outputs": [],
   "source": [
    "alpha, beta = np.cos(fd.c_theta*180/np.pi), np.sin(fd.c_theta*180/np.pi)\n",
    "M = np.array([[alpha, beta, (1-alpha)*fd.c_ct[1]-beta*fd.c_ct[0]], \n",
    "              [-beta, alpha, beta*fd.c_ct[1]+(1-alpha)*fd.c_ct[0]]])\n",
    "\n",
    "rotated_pacbed = rotation(fd.c_pacbed, M)\n",
    "ri = radial_indices(fd.c_pacbed.shape, [0, fd.cropped_size], 1, center=fd.c_ct)\n",
    "mirror_plane = np.zeros(rotated_pacbed.shape)\n",
    "mirror_plane[:, int(fd.c_ct[1])] = 1\n",
    "fig, ax = plt.subplots(1, 2, figsize=(10, 5))\n",
    "ax[0].imshow(np.multiply(fd.c_pacbed, ri), cmap=\"jet\")\n",
    "ax[0].imshow(mirror_plane, cmap=\"gray\", alpha=0.2)\n",
    "ax[0].scatter(fd.c_ct[1], fd.c_ct[0], s=15, c=\"k\")\n",
    "ax[0].axis(\"off\")\n",
    "ax[1].imshow(np.multiply(rotated_pacbed, ri), cmap=\"jet\")\n",
    "ax[1].imshow(mirror_plane, cmap=\"gray\", alpha=0.2)\n",
    "ax[1].scatter(fd.c_ct[1], fd.c_ct[0], s=15, c=\"k\")\n",
    "ax[1].axis(\"off\")\n",
    "fig.tight_layout()\n",
    "plt.show()"
   ]
  },
  {
   "cell_type": "code",
   "execution_count": null,
   "id": "organizational-novelty",
   "metadata": {},
   "outputs": [],
   "source": [
    "start = time.process_time()\n",
    "rot_angle = 3\n",
    "fd.symmetry_evaluation(rot_angle, also_mirror=True)\n",
    "print(\"%d seconds have passed\"%(time.process_time()-start))"
   ]
  },
  {
   "cell_type": "code",
   "execution_count": null,
   "id": "prescription-chassis",
   "metadata": {},
   "outputs": [],
   "source": [
    "fig, ax = plt.subplots(2, 2, figsize=(10, 10))\n",
    "ax[0][0].imshow(fd.c_stack[0, 0], cmap=\"jet\")\n",
    "ax[0][0].scatter(fd.c_ct[1], fd.c_ct[0], s=15, c=\"k\")\n",
    "ax[0][0].set_title(\"original CBED\")\n",
    "ax[0][0].axis(\"off\")\n",
    "ax[0][1].imshow(rotated_stack[0, 0], cmap=\"jet\")\n",
    "ax[0][1].scatter(fd.c_ct[1], fd.c_ct[0], s=15, c=\"k\")\n",
    "ax[0][1].set_title(\"rotated CBED (angle=%d)\"%rot_angle)\n",
    "ax[0][1].axis(\"off\")\n",
    "ax[1][0].imshow(fd.c_stack[5, 5], cmap=\"jet\")\n",
    "ax[1][0].scatter(fd.c_ct[1], test.c_ct[0], s=15, c=\"k\")\n",
    "ax[1][0].set_title(\"another original CBED\")\n",
    "ax[1][0].axis(\"off\")\n",
    "ax[1][1].imshow(rotated_stack[5, 5], cmap=\"jet\")\n",
    "ax[1][1].scatter(fd.c_ct[1], fd.c_ct[0], s=15, c=\"k\")\n",
    "ax[1][1].set_title(\"rotated CBED (angle=%d)\"%rot_angle)\n",
    "ax[1][1].axis(\"off\")\n",
    "fig.tight_layout()\n",
    "plt.show()"
   ]
  }
 ],
 "metadata": {
  "kernelspec": {
   "display_name": "Python 3 (ipykernel)",
   "language": "python",
   "name": "python3"
  },
  "language_info": {
   "codemirror_mode": {
    "name": "ipython",
    "version": 3
   },
   "file_extension": ".py",
   "mimetype": "text/x-python",
   "name": "python",
   "nbconvert_exporter": "python",
   "pygments_lexer": "ipython3",
   "version": "3.7.16"
  },
  "widgets": {
   "application/vnd.jupyter.widget-state+json": {
    "state": {},
    "version_major": 2,
    "version_minor": 0
   }
  }
 },
 "nbformat": 4,
 "nbformat_minor": 5
}
