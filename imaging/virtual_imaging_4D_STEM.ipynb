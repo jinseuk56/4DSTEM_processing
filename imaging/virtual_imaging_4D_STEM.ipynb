{
 "cells": [
  {
   "attachments": {},
   "cell_type": "markdown",
   "id": "popular-optimization",
   "metadata": {},
   "source": [
    "<h2>Virtual Imaging Techniques for 4D-STEM data</h2>\n",
    "<strong>Jinseok Ryu, Ingyu Yoo<br></strong>\n",
    "<strong>Electron Microscopy and Spectroscopy Lab.<br></strong>\n",
    "<strong>Department of Materials Science and Engineering<br></strong>\n",
    "<strong>Seoul National University<br><br></strong>\n",
    "\n",
    "<strong>last update : 20221207</strong>"
   ]
  },
  {
   "cell_type": "code",
   "execution_count": null,
   "id": "desirable-dealer",
   "metadata": {},
   "outputs": [],
   "source": [
    "from virtual_imaging import sstem_python\n",
    "import tifffile\n",
    "import matplotlib.pyplot as plt\n",
    "import matplotlib.cm as cm\n",
    "import matplotlib.colors as mcolors\n",
    "import tkinter.filedialog as tkf\n",
    "import time\n",
    "plt.rcParams['font.family'] = 'Cambria'"
   ]
  },
  {
   "cell_type": "code",
   "execution_count": null,
   "id": "finnish-accused",
   "metadata": {},
   "outputs": [],
   "source": [
    "raw_adr = tkf.askopenfilename()\n",
    "print(raw_adr)\n",
    "\n",
    "datatype = \"float32\"\n",
    "f_shape = [256, 256, 128, 128] # the shape of the 4D-STEM data [scanning_y, scanning_x, DP_y, DP_x]\n",
    "o_shape = [f_shape[0], f_shape[1], f_shape[2]+2, f_shape[3]]"
   ]
  },
  {
   "cell_type": "code",
   "execution_count": null,
   "id": "ecb0a161-de47-456a-b4c0-b0275e26558d",
   "metadata": {},
   "outputs": [],
   "source": [
    "if raw_adr[-3:] == \"raw\":\n",
    "    f_stack = load_binary_4D_stack(raw_adr, datatype, o_shape, f_shape, log_scale=False)\n",
    "    f_stack = np.flip(f_stack, axis=2)\n",
    "    f_stack = np.nan_to_num(f_stack)\n",
    "    \n",
    "elif raw_adr[-3:] == \"tif\" or raw_adr[:-4] == \"tiff\":\n",
    "    f_stack = tifffile.imread(raw_adr)\n",
    "    \n",
    "else:\n",
    "    print(\"The format of the file is not supported here\")\n",
    "    \n",
    "print(f_stack.shape)\n",
    "print(f_stack.min(), f_stack.max())\n",
    "print(f_stack.mean())\n",
    "\n",
    "f_stack = f_stack.clip(min=0.0)"
   ]
  },
  {
   "cell_type": "code",
   "execution_count": null,
   "id": "progressive-blend",
   "metadata": {},
   "outputs": [],
   "source": [
    "scan_per_pixel = 0.11272 # Å\n",
    "mrad_per_pixel = 0.40877 # mrad\n",
    "test = sstem_python(f_stack.copy(), scan_per_pixel, mrad_per_pixel)\n",
    "\n",
    "fig, ax = plt.subplots(1, 1, figsize=(5, 5))\n",
    "ax.imshow(test.intensity_integration_map, cmap=\"inferno\")\n",
    "ax.axis(\"off\")\n",
    "plt.show()"
   ]
  },
  {
   "cell_type": "code",
   "execution_count": null,
   "id": "cca06347-b3aa-4977-883b-bd6d1bb21252",
   "metadata": {},
   "outputs": [],
   "source": [
    "test.spike_remove(percent_thresh=99.9, mode=\"upper\", apply_remove=True)\n",
    "\n",
    "fig, ax = plt.subplots(1, 1, figsize=(5, 5))\n",
    "ax.imshow(test.spike_replaced, cmap=\"inferno\")\n",
    "ax.axis(\"off\")\n",
    "plt.show()"
   ]
  },
  {
   "cell_type": "code",
   "execution_count": null,
   "id": "7a1dbcff-77f0-414d-8549-a4e516eaf542",
   "metadata": {},
   "outputs": [],
   "source": [
    "fig, ax = plt.subplots(1, 1, figsize=(5, 5))\n",
    "ax.imshow(test.original_pacbed, cmap=\"jet\")\n",
    "ax.axis(\"off\")\n",
    "plt.show()"
   ]
  },
  {
   "cell_type": "code",
   "execution_count": null,
   "id": "robust-research",
   "metadata": {},
   "outputs": [],
   "source": [
    "test.find_center()\n",
    "print(test.ct)\n",
    "\n",
    "fig, ax = plt.subplots(1, 1, figsize=(5, 5))\n",
    "ax.imshow(test.original_pacbed, cmap=\"jet\")\n",
    "ax.axis(\"off\")\n",
    "ax.scatter(test.ct[1], test.ct[0], s=15, c=\"k\")\n",
    "fig.tight_layout()\n",
    "plt.show()"
   ]
  },
  {
   "cell_type": "code",
   "execution_count": null,
   "id": "listed-waterproof",
   "metadata": {},
   "outputs": [],
   "source": [
    "test.disk_extract(buffer_size=1)\n",
    "print(test.c_stack.shape)\n",
    "print(test.c_ct)\n",
    "\n",
    "fig, ax = plt.subplots(1, 1, figsize=(5, 5))\n",
    "ax.imshow(test.c_pacbed, cmap=\"jet\")\n",
    "ax.scatter(test.c_ct[1], test.c_ct[0], s=15, c=\"k\")\n",
    "ax.axis(\"off\")\n",
    "plt.show()\n",
    "print(test.c_pacbed.shape)\n",
    "print(test.least_R)"
   ]
  },
  {
   "cell_type": "code",
   "execution_count": null,
   "id": "convinced-track",
   "metadata": {},
   "outputs": [],
   "source": [
    "semiangle = test.least_R*mrad_per_pixel\n",
    "BF_det = np.array([0, semiangle])\n",
    "ADF_det = np.array([semiangle, semiangle*2])\n",
    "\n",
    "print(BF_det, ADF_det)\n",
    "\n",
    "test.virtual_stem(BF_det, ADF_det)\n",
    "\n",
    "fig, ax = plt.subplots(2, 2, figsize=(10, 10))\n",
    "ax[0][0].imshow(test.original_pacbed, cmap=\"jet\")\n",
    "ax[0][0].imshow(test.BF_detector, cmap=\"gray\", alpha=0.5)\n",
    "ax[0][0].scatter(test.ct[1], test.ct[0], s=15, c=\"k\")\n",
    "ax[0][0].set_title(\"BF detector\")\n",
    "ax[0][0].axis(\"off\")\n",
    "ax[0][1].imshow(test.BF_stem, cmap=\"inferno\", origin=\"lower\")\n",
    "ax[0][1].set_title(\"BF-STEM image\")\n",
    "ax[0][1].axis(\"off\")\n",
    "ax[1][0].imshow(test.original_pacbed, cmap=\"jet\")\n",
    "ax[1][0].imshow(test.ADF_detector, cmap=\"gray\", alpha=0.5)\n",
    "ax[1][0].scatter(test.ct[1], test.ct[0], s=15, c=\"k\")\n",
    "ax[1][0].set_title(\"ADF detector\")\n",
    "ax[1][0].axis(\"off\")\n",
    "ax[1][1].imshow(test.ADF_stem, cmap=\"inferno\", origin=\"lower\")\n",
    "ax[1][1].set_title(\"ADF-STEM image\")\n",
    "ax[1][1].axis(\"off\")\n",
    "fig.tight_layout()\n",
    "plt.show()"
   ]
  },
  {
   "cell_type": "code",
   "execution_count": null,
   "id": "ordinary-token",
   "metadata": {},
   "outputs": [],
   "source": [
    "test.DPC(correct_rotation=True, n_theta=100, hpass=0.05, lpass=0.05)\n",
    "\n",
    "print(\"optimized angle =\", test.c_theta*180/np.pi)\n",
    "fig, ax = plt.subplots(1, 4, figsize=(28, 7))\n",
    "ax[0].imshow(test.ADF_stem, cmap=\"inferno\", origin=\"lower\")\n",
    "ax[0].axis(\"off\")\n",
    "ax[1].imshow(test.E_field_y, cmap=\"gray\", origin=\"lower\")\n",
    "ax[1].axis(\"off\")\n",
    "ax[2].imshow(test.E_field_x, cmap=\"gray\", origin=\"lower\")\n",
    "ax[2].axis(\"off\")\n",
    "ax[3].imshow(test.E_mag, cmap=\"inferno\", origin=\"lower\")\n",
    "ax[3].axis(\"off\")\n",
    "fig.tight_layout()\n",
    "plt.show()"
   ]
  },
  {
   "cell_type": "code",
   "execution_count": null,
   "id": "integral-nutrition",
   "metadata": {},
   "outputs": [],
   "source": [
    "RY, RX = np.indices(test.c_shape[:2])\n",
    "\n",
    "fig, ax = plt.subplots(1, 3, figsize=(30, 10))\n",
    "ax[0].imshow(test.ADF_stem, cmap=\"gray\", origin=\"lower\")\n",
    "ax[0].quiver(RX.flatten(), RY.flatten(), test.E_field_x.flatten(), test.E_field_y.flatten(), color=cm.jet(mcolors.Normalize()(test.E_mag.flatten())))\n",
    "ax[0].axis(\"off\")\n",
    "#ax[1].imshow(test.ADF_stem, cmap=\"gray\")\n",
    "ax[1].imshow(test.charge_density, cmap=\"RdBu_r\", origin=\"lower\")\n",
    "ax[1].axis(\"off\")\n",
    "#ax[2].imshow(test.ADF_stem, cmap=\"gray\")\n",
    "ax[2].imshow(test.potential, cmap=\"inferno\", origin=\"lower\")\n",
    "ax[2].axis(\"off\")\n",
    "fig.tight_layout()\n",
    "plt.show()"
   ]
  },
  {
   "cell_type": "code",
   "execution_count": null,
   "id": "f65e8eb7-f079-4bb5-bd61-000d4d8e99ee",
   "metadata": {},
   "outputs": [],
   "source": [
    "tifffile.imwrite(\"vHAADF.tif\", test.ADF_stem)\n",
    "tifffile.imwrite(\"dDPC.tif\", test.charge_density)\n",
    "tifffile.imwrite(\"iDPC.tif\", test.potential)"
   ]
  },
  {
   "cell_type": "code",
   "execution_count": null,
   "id": "rough-ability",
   "metadata": {},
   "outputs": [],
   "source": [
    "alpha, beta = np.cos(test.c_theta*180/np.pi), np.sin(test.c_theta*180/np.pi)\n",
    "M = np.array([[alpha, beta, (1-alpha)*test.c_ct[1]-beta*test.c_ct[0]], \n",
    "              [-beta, alpha, beta*test.c_ct[1]+(1-alpha)*test.c_ct[0]]])\n",
    "\n",
    "rotated_pacbed = rotation(test.c_pacbed, M)\n",
    "ri = radial_indices(test.c_pacbed.shape, [0, test.cropped_size], 1, center=test.c_ct)\n",
    "mirror_plane = np.zeros(rotated_pacbed.shape)\n",
    "mirror_plane[:, int(test.c_ct[1])] = 1\n",
    "fig, ax = plt.subplots(1, 2, figsize=(10, 5))\n",
    "ax[0].imshow(np.multiply(test.c_pacbed, ri), cmap=\"jet\")\n",
    "ax[0].imshow(mirror_plane, cmap=\"gray\", alpha=0.2)\n",
    "ax[0].scatter(test.c_ct[1], test.c_ct[0], s=15, c=\"k\")\n",
    "ax[0].axis(\"off\")\n",
    "ax[1].imshow(np.multiply(rotated_pacbed, ri), cmap=\"jet\")\n",
    "ax[1].imshow(mirror_plane, cmap=\"gray\", alpha=0.2)\n",
    "ax[1].scatter(test.c_ct[1], test.c_ct[0], s=15, c=\"k\")\n",
    "ax[1].axis(\"off\")\n",
    "fig.tight_layout()\n",
    "plt.show()"
   ]
  },
  {
   "cell_type": "code",
   "execution_count": null,
   "id": "organizational-novelty",
   "metadata": {},
   "outputs": [],
   "source": [
    "start = time.process_time()\n",
    "rot_angle = 3\n",
    "rotated_stack, rot_sym_img, mir_sym_img = test.symmetry_evaluation(rot_angle, also_mirror=True)\n",
    "print(\"%d seconds have passed\"%(time.process_time()-start))\n",
    "fig, ax = plt.subplots(1, 2, figsize=(20, 10))\n",
    "ax[0].imshow(rot_sym_img, cmap=\"inferno\", origin=\"lower\")\n",
    "ax[0].set_title(\"Rotation angle: {}\".format(rot_angle))\n",
    "ax[0].axis(\"off\")\n",
    "ax[1].imshow(mir_sym_img, cmap=\"inferno\", origin=\"lower\")\n",
    "ax[1].set_title(\"Mirror angle: {}\".format(rot_angle))\n",
    "ax[1].axis(\"off\")\n",
    "plt.show()"
   ]
  },
  {
   "cell_type": "code",
   "execution_count": null,
   "id": "prescription-chassis",
   "metadata": {},
   "outputs": [],
   "source": [
    "fig, ax = plt.subplots(2, 2, figsize=(10, 10))\n",
    "ax[0][0].imshow(test.c_stack[0, 0], cmap=\"jet\")\n",
    "ax[0][0].scatter(test.c_ct[1], test.c_ct[0], s=15, c=\"k\")\n",
    "ax[0][0].set_title(\"original CBED\")\n",
    "ax[0][0].axis(\"off\")\n",
    "ax[0][1].imshow(rotated_stack[0, 0], cmap=\"jet\")\n",
    "ax[0][1].scatter(test.c_ct[1], test.c_ct[0], s=15, c=\"k\")\n",
    "ax[0][1].set_title(\"rotated CBED (angle=%d)\"%rot_angle)\n",
    "ax[0][1].axis(\"off\")\n",
    "ax[1][0].imshow(test.c_stack[5, 5], cmap=\"jet\")\n",
    "ax[1][0].scatter(test.c_ct[1], test.c_ct[0], s=15, c=\"k\")\n",
    "ax[1][0].set_title(\"another original CBED\")\n",
    "ax[1][0].axis(\"off\")\n",
    "ax[1][1].imshow(rotated_stack[5, 5], cmap=\"jet\")\n",
    "ax[1][1].scatter(test.c_ct[1], test.c_ct[0], s=15, c=\"k\")\n",
    "ax[1][1].set_title(\"rotated CBED (angle=%d)\"%rot_angle)\n",
    "ax[1][1].axis(\"off\")\n",
    "fig.tight_layout()\n",
    "plt.show()"
   ]
  }
 ],
 "metadata": {
  "kernelspec": {
   "display_name": "Python 3 (ipykernel)",
   "language": "python",
   "name": "python3"
  },
  "language_info": {
   "codemirror_mode": {
    "name": "ipython",
    "version": 3
   },
   "file_extension": ".py",
   "mimetype": "text/x-python",
   "name": "python",
   "nbconvert_exporter": "python",
   "pygments_lexer": "ipython3",
   "version": "3.7.16"
  },
  "widgets": {
   "application/vnd.jupyter.widget-state+json": {
    "state": {},
    "version_major": 2,
    "version_minor": 0
   }
  }
 },
 "nbformat": 4,
 "nbformat_minor": 5
}
