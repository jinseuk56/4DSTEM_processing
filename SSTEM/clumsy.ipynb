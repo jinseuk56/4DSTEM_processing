{
 "cells": [
  {
   "cell_type": "code",
   "execution_count": null,
   "id": "unnecessary-pilot",
   "metadata": {},
   "outputs": [],
   "source": [
    "import numpy as np\n",
    "from scipy import optimize\n",
    "import matplotlib.pyplot as plt\n",
    "import tkinter.filedialog as tkf\n",
    "import tifffile"
   ]
  },
  {
   "cell_type": "code",
   "execution_count": null,
   "id": "played-wilderness",
   "metadata": {},
   "outputs": [],
   "source": [
    "def gaussian(height, center_x, center_y, width_x, width_y):\n",
    "    \"\"\"Returns a gaussian function with the given parameters\"\"\"\n",
    "    width_x = float(width_x)\n",
    "    width_y = float(width_y)\n",
    "    return lambda x,y: height*np.exp(\n",
    "                -(((center_x-x)/width_x)**2+((center_y-y)/width_y)**2)/2)\n",
    "\n",
    "def moments(data):\n",
    "    \"\"\"Returns (height, x, y, width_x, width_y)\n",
    "    the gaussian parameters of a 2D distribution by calculating its\n",
    "    moments \"\"\"\n",
    "    total = data.sum()\n",
    "    X, Y = np.indices(data.shape) # row, col\n",
    "    x = (X*data).sum()/total # row\n",
    "    y = (Y*data).sum()/total # col\n",
    "    col = data[:, int(y)]\n",
    "    width_x = np.sqrt(np.abs((np.arange(col.size)-y)**2*col).sum()/col.sum()) # row\n",
    "    row = data[int(x), :]\n",
    "    width_y = np.sqrt(np.abs((np.arange(row.size)-x)**2*row).sum()/row.sum()) # col\n",
    "    height = data.max()\n",
    "    return height, x, y, width_x, width_y\n",
    "\n",
    "def fitgaussian(data):\n",
    "    \"\"\"Returns (height, x, y, width_x, width_y)\n",
    "    the gaussian parameters of a 2D distribution found by a fit\"\"\"\n",
    "    params = moments(data)\n",
    "    errorfunction = lambda p: np.ravel(gaussian(*p)(*np.indices(data.shape)) -\n",
    "                                 data)\n",
    "    p, success = optimize.leastsq(errorfunction, params)\n",
    "    return p"
   ]
  },
  {
   "cell_type": "code",
   "execution_count": null,
   "id": "imported-ethics",
   "metadata": {},
   "outputs": [],
   "source": [
    "raw_adr = tkf.askopenfilename()\n",
    "print(raw_adr)"
   ]
  },
  {
   "cell_type": "code",
   "execution_count": null,
   "id": "white-loading",
   "metadata": {},
   "outputs": [],
   "source": [
    "f_stack = tifffile.imread(raw_adr)\n",
    "stack_shape = f_stack.shape\n",
    "print(f_stack.shape)\n",
    "print(f_stack.dtype)"
   ]
  },
  {
   "cell_type": "code",
   "execution_count": null,
   "id": "effective-lover",
   "metadata": {},
   "outputs": [],
   "source": [
    "pacbed = np.sum(f_stack, axis=(0, 1))\n",
    "pacbed = pacbed / np.max(pacbed)\n",
    "print(pacbed.shape)\n",
    "\n",
    "fig, ax = plt.subplots(1, 1, figsize=(5, 5))\n",
    "ax.imshow(pacbed, cmap=\"jet\")\n",
    "ax.axis(\"off\")\n",
    "plt.show()"
   ]
  },
  {
   "cell_type": "code",
   "execution_count": null,
   "id": "equal-theater",
   "metadata": {},
   "outputs": [],
   "source": [
    "grad = np.gradient(pacbed)\n",
    "grad_map = grad[0]**2 + grad[1] **2\n",
    "grad_map = grad_map / np.max(grad_map)\n",
    "print(np.min(grad_map), np.max(grad_map))\n",
    "\n",
    "fig, ax = plt.subplots(1, 1, figsize=(5, 5))\n",
    "ax.imshow(grad_map, cmap=\"jet\")\n",
    "ax.axis(\"off\")\n",
    "plt.show()"
   ]
  },
  {
   "cell_type": "code",
   "execution_count": null,
   "id": "subjective-ethnic",
   "metadata": {},
   "outputs": [],
   "source": [
    "Y, X = np.indices(pacbed.shape)\n",
    "com_y = np.sum(pacbed * Y) / np.sum(pacbed)\n",
    "com_x = np.sum(pacbed * X) / np.sum(pacbed)\n",
    "print(com_y, com_x)\n",
    "print(np.around(com_y), np.around(com_x))\n",
    "\n",
    "fig, ax = plt.subplots(1, 2, figsize=(10, 5))\n",
    "ax[0].imshow(pacbed, cmap=\"jet\")\n",
    "ax[0].axis(\"off\")\n",
    "ax[0].scatter(com_x, com_y, s=15, c=\"y\")\n",
    "ax[1].imshow(grad_map, cmap=\"jet\")\n",
    "ax[1].axis(\"off\")\n",
    "ax[1].scatter(com_x, com_y, s=15, c=\"y\")\n",
    "plt.show()"
   ]
  },
  {
   "cell_type": "code",
   "execution_count": null,
   "id": "attended-membership",
   "metadata": {},
   "outputs": [],
   "source": [
    "(_, center_y, center_x, _, _) = fitgaussian(pacbed)\n",
    "print(center_y, center_x)\n",
    "print(np.around(center_y), np.around(center_x))\n",
    "\n",
    "fig, ax = plt.subplots(1, 2, figsize=(10, 5))\n",
    "ax[0].imshow(pacbed, cmap=\"jet\")\n",
    "ax[0].axis(\"off\")\n",
    "ax[0].scatter(center_x, center_y, s=15, c=\"y\")\n",
    "ax[1].imshow(grad_map, cmap=\"jet\")\n",
    "ax[1].axis(\"off\")\n",
    "ax[1].scatter(center_x, center_y, s=15, c=\"y\")\n",
    "plt.show()"
   ]
  },
  {
   "cell_type": "code",
   "execution_count": null,
   "id": "athletic-airfare",
   "metadata": {},
   "outputs": [],
   "source": [
    "ct = [com_y, com_x]\n",
    "ct_ind = np.around([com_y, com_x]).astype(np.int)\n",
    "\n",
    "max_ind = np.unravel_index(np.argmax(grad_map, axis=None), grad_map.shape)\n",
    "least_R = ((max_ind[0]-ct_ind[0])**2 + (max_ind[1]-ct_ind[1])**2)**(1/2)\n",
    "print(least_R)\n",
    "\n",
    "min_edge = int(np.min(ct_ind))\n",
    "print(min_edge)\n",
    "\n",
    "cropped_size = int(least_R)\n",
    "c_ct = [cropped_size, cropped_size]\n",
    "print(c_ct)"
   ]
  },
  {
   "cell_type": "code",
   "execution_count": null,
   "id": "breeding-swing",
   "metadata": {},
   "outputs": [],
   "source": [
    "center_aligned_stack = f_stack[:, :, ct_ind[0]-cropped_size:ct_ind[0]+cropped_size+1, ct_ind[1]-cropped_size:ct_ind[1]+cropped_size+1].copy()\n",
    "print(center_aligned_stack.shape)"
   ]
  },
  {
   "cell_type": "code",
   "execution_count": null,
   "id": "delayed-institute",
   "metadata": {},
   "outputs": [],
   "source": [
    "c_pacbed = np.sum(center_aligned_stack, axis=(0, 1))\n",
    "c_pacbed = c_pacbed / np.max(c_pacbed)\n",
    "print(c_pacbed.shape)\n",
    "\n",
    "fig, ax = plt.subplots(1, 1, figsize=(5, 5))\n",
    "ax.imshow(c_pacbed, cmap=\"jet\")\n",
    "ax.scatter(c_ct[0], c_ct[1], s=15, c=\"y\")\n",
    "ax.axis(\"off\")\n",
    "plt.show()"
   ]
  },
  {
   "cell_type": "code",
   "execution_count": null,
   "id": "scientific-nurse",
   "metadata": {
    "jupyter": {
     "source_hidden": true
    }
   },
   "outputs": [],
   "source": [
    "th_grad = grad_map > np.percentile(grad_map, 95)\n",
    "th_grad = th_grad.astype(np.float)\n",
    "print(np.min(th_grad), np.max(th_grad))\n",
    "print(th_grad.shape)\n",
    "\n",
    "fig, ax = plt.subplots(1, 1, figsize=(5, 5))\n",
    "ax.imshow(th_grad, cmap=\"jet\")\n",
    "ax.axis(\"off\")\n",
    "plt.show()"
   ]
  },
  {
   "cell_type": "code",
   "execution_count": null,
   "id": "educated-wildlife",
   "metadata": {
    "jupyter": {
     "source_hidden": true
    }
   },
   "outputs": [],
   "source": [
    "def twod_circle(cy, cx, R):\n",
    "    full_circle = lambda x, y: (cy-y)**2+(cx-x)**2 <= R**2\n",
    "    float_circle = lambda x, y: full_circle(x, y).astype(np.float)\n",
    "    grad_circle = lambda x, y: np.gradient(float_circle(x, y))[0]**2 + np.gradient(float_circle(x, y))[1]**2\n",
    "    \n",
    "    return grad_circle\n",
    "\n",
    "def fit_circle(data, fparam):\n",
    "    err_func = lambda p: np.ravel(twod_circle(*p)(*np.indices(data.shape)) - data)\n",
    "    p, success = optimize.leastsq(err_func, fparam)\n",
    "    \n",
    "    return p"
   ]
  },
  {
   "cell_type": "code",
   "execution_count": null,
   "id": "representative-modeling",
   "metadata": {
    "jupyter": {
     "source_hidden": true
    }
   },
   "outputs": [],
   "source": [
    "fcy, fcx = int(th_grad.shape[0]/2), int(th_grad.shape[1]/2)\n",
    "print(fcy, fcx)\n",
    "\n",
    "max_ind = np.unravel_index(np.argmax(grad_map, axis=None), grad_map.shape)\n",
    "fR = ((max_ind[0]-fcy)**2 + (max_ind[1]-fcx)**2)**(1/2)\n",
    "print(fR)\n",
    "\n",
    "f_param = [fcy, fcx, fR]\n",
    "print(f_param)"
   ]
  },
  {
   "cell_type": "code",
   "execution_count": null,
   "id": "secret-greenhouse",
   "metadata": {
    "jupyter": {
     "source_hidden": true
    }
   },
   "outputs": [],
   "source": [
    "test = twod_circle(*f_param)(*np.indices(grad_map.shape))\n",
    "print(np.min(test), np.max(test))\n",
    "\n",
    "fig, ax = plt.subplots(1, 1, figsize=(5, 5))\n",
    "ax.imshow(test, cmap=\"jet\")\n",
    "ax.axis(\"off\")\n",
    "plt.show()"
   ]
  },
  {
   "cell_type": "code",
   "execution_count": null,
   "id": "outstanding-charlotte",
   "metadata": {
    "jupyter": {
     "source_hidden": true
    }
   },
   "outputs": [],
   "source": [
    "params = fit_circle(pacbed, f_param)\n",
    "print(params)"
   ]
  }
 ],
 "metadata": {
  "kernelspec": {
   "display_name": "Python 3",
   "language": "python",
   "name": "python3"
  },
  "language_info": {
   "codemirror_mode": {
    "name": "ipython",
    "version": 3
   },
   "file_extension": ".py",
   "mimetype": "text/x-python",
   "name": "python",
   "nbconvert_exporter": "python",
   "pygments_lexer": "ipython3",
   "version": "3.7.10"
  },
  "widgets": {
   "application/vnd.jupyter.widget-state+json": {
    "state": {},
    "version_major": 2,
    "version_minor": 0
   }
  }
 },
 "nbformat": 4,
 "nbformat_minor": 5
}
