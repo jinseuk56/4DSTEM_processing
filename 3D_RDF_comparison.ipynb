{
 "cells": [
  {
   "cell_type": "code",
   "execution_count": 1,
   "metadata": {},
   "outputs": [
    {
     "name": "stderr",
     "output_type": "stream",
     "text": [
      "WARNING:hyperspy_gui_traitsui:The module://ipykernel.pylab.backend_inline matplotlib backend is not compatible with the traitsui GUI elements. For more information, read http://hyperspy.readthedocs.io/en/stable/user_guide/getting_started.html#possible-warnings-when-importing-hyperspy.\n",
      "WARNING:hyperspy_gui_traitsui:The traitsui GUI elements are not available.\n"
     ]
    }
   ],
   "source": [
    "# J. Ryu, Electron Microscopy and Spectroscopy Lab., Seoul National University\n",
    "import numpy as np\n",
    "import matplotlib.pyplot as plt\n",
    "import hyperspy.api as hys\n",
    "import tkinter.filedialog as tkf"
   ]
  },
  {
   "cell_type": "code",
   "execution_count": null,
   "metadata": {},
   "outputs": [],
   "source": [
    "%matplotlib inline"
   ]
  },
  {
   "cell_type": "code",
   "execution_count": 2,
   "metadata": {},
   "outputs": [
    {
     "name": "stdout",
     "output_type": "stream",
     "text": [
      "[2, 2, 2]\n"
     ]
    }
   ],
   "source": [
    "num_split = 3\n",
    "adr = []\n",
    "num_adr = []\n",
    "for i in range(num_split):\n",
    "    temp = tkf.askopenfilenames()\n",
    "    num_adr.append(len(temp))\n",
    "    adr.append(temp)\n",
    "print(num_adr)\n",
    "num_img = np.max(num_adr)"
   ]
  },
  {
   "cell_type": "code",
   "execution_count": 3,
   "metadata": {},
   "outputs": [
    {
     "name": "stdout",
     "output_type": "stream",
     "text": [
      "0.1\n",
      "0.050761421489001694\n",
      "[0.         0.05076142 0.10152284 0.15228426 0.20304569 0.25380711\n",
      " 0.30456853 0.35532995 0.40609137 0.45685279 0.50761421 0.55837564\n",
      " 0.60913706 0.65989848 0.7106599  0.76142132 0.81218274 0.86294417\n",
      " 0.91370559 0.96446701 1.01522843 1.06598985 1.11675127 1.16751269\n",
      " 1.21827412 1.26903554 1.31979696 1.37055838 1.4213198  1.47208122\n",
      " 1.52284264 1.57360407 1.62436549 1.67512691 1.72588833 1.77664975\n",
      " 1.82741117 1.8781726  1.92893402 1.97969544 2.03045686 2.08121828\n",
      " 2.1319797  2.18274112 2.23350255 2.28426397 2.33502539 2.38578681\n",
      " 2.43654823 2.48730965 2.53807107 2.5888325  2.63959392 2.69035534\n",
      " 2.74111676 2.79187818 2.8426396  2.89340102 2.94416245 2.99492387\n",
      " 3.04568529 3.09644671 3.14720813 3.19796955 3.24873098 3.2994924\n",
      " 3.35025382 3.40101524 3.45177666 3.50253808 3.5532995  3.60406093\n",
      " 3.65482235 3.70558377 3.75634519 3.80710661 3.85786803 3.90862945\n",
      " 3.95939088 4.0101523 ]\n"
     ]
    }
   ],
   "source": [
    "mrad_per_pixel = 0.1 # mrad\n",
    "print(mrad_per_pixel)\n",
    "rel_lmb = 0.00197 # nm, relativistic wavelength for 300 kV\n",
    "k_per_pixel = np.tan(mrad_per_pixel/1000) / rel_lmb# 1/nm\n",
    "print(k_per_pixel)\n",
    "r_per_pixel = 0.400 # nm\n",
    "\n",
    "s_dim = 80\n",
    "cb_rad = 20\n",
    "k_list = np.arange(s_dim)*k_per_pixel\n",
    "print(k_list)"
   ]
  },
  {
   "cell_type": "code",
   "execution_count": 4,
   "metadata": {},
   "outputs": [
    {
     "name": "stdout",
     "output_type": "stream",
     "text": [
      "D:/repository/data_repository/4D/20200721_amorphous_C_TZ/20200728_processed_data/5mT_D1_scan_x128_y128_radial_avg_background_subtracted.hdf5\n",
      "(56, 122, 90)\n",
      "(56, 122, 80)\n",
      "D:/repository/data_repository/4D/20200721_amorphous_C_TZ/20200728_processed_data/5mT_E1_scan_x128_y128_radial_avg_background_subtracted.hdf5\n",
      "(57, 121, 90)\n",
      "(57, 121, 80)\n",
      "D:/repository/data_repository/4D/20200721_amorphous_C_TZ/20200728_processed_data/50mT_B1_scan_x128_y128_radial_avg_background_subtracted.hdf5\n",
      "(25, 120, 90)\n",
      "(25, 120, 80)\n",
      "D:/repository/data_repository/4D/20200721_amorphous_C_TZ/20200728_processed_data/50mT_C1_scan_x128_y128_radial_avg_background_subtracted.hdf5\n",
      "(26, 121, 90)\n",
      "(26, 121, 80)\n",
      "D:/repository/data_repository/4D/20200721_amorphous_C_TZ/20200728_processed_data/B5wt_A3_scan_x128_y128_radial_avg_background_subtracted.hdf5\n",
      "(44, 122, 90)\n",
      "(44, 122, 80)\n",
      "D:/repository/data_repository/4D/20200721_amorphous_C_TZ/20200728_processed_data/B5wt_B1_scan_x128_y128_radial_avg_background_subtracted.hdf5\n",
      "(45, 118, 90)\n",
      "(45, 118, 80)\n"
     ]
    }
   ],
   "source": [
    "data_by_split = []\n",
    "data_shape = []\n",
    "for i in range(num_split):\n",
    "    temp = []\n",
    "    temp_shape = []\n",
    "    for path in adr[i]:\n",
    "        print(path)\n",
    "        tmp = hys.load(path).data\n",
    "        print(tmp.shape)\n",
    "        if len(np.where(tmp[0, 0] == 0.0)[0]) != cb_rad:\n",
    "            tmp = np.insert(tmp, 0, 0, axis=2)        \n",
    "        \n",
    "        tmp = tmp[:, :, :s_dim]\n",
    "        print(tmp.shape)\n",
    "        temp.append(tmp)\n",
    "        temp_shape.append(tmp.shape)\n",
    "    data_by_split.append(temp)\n",
    "    data_shape.append(temp_shape)"
   ]
  },
  {
   "cell_type": "code",
   "execution_count": 6,
   "metadata": {},
   "outputs": [
    {
     "name": "stdout",
     "output_type": "stream",
     "text": [
      "(3, 2, 3)\n",
      "80\n"
     ]
    }
   ],
   "source": [
    "data_shape = np.asarray(data_shape)\n",
    "print(data_shape.shape)\n",
    "#print(np.unique(data_shape[:, :, 2]))\n",
    "#s_dim = np.min(data_shape[:, :, 2])\n",
    "print(s_dim)"
   ]
  },
  {
   "cell_type": "code",
   "execution_count": 7,
   "metadata": {},
   "outputs": [
    {
     "name": "stdout",
     "output_type": "stream",
     "text": [
      "16\n"
     ]
    }
   ],
   "source": [
    "color_rep = [\"black\", \"gray\", \"green\", \"red\", \"orange\", \"blue\", \"purple\", \"hotpink\", \"lime\", \"cyan\", \"magenta\", \"lightgray\", \"peru\", \"springgreen\", \"deepskyblue\", \"yellow\"]\n",
    "print(len(color_rep))"
   ]
  },
  {
   "cell_type": "code",
   "execution_count": null,
   "metadata": {},
   "outputs": [],
   "source": [
    "%matplotlib inline"
   ]
  },
  {
   "cell_type": "code",
   "execution_count": 20,
   "metadata": {},
   "outputs": [],
   "source": [
    "%matplotlib qt"
   ]
  },
  {
   "cell_type": "code",
   "execution_count": 21,
   "metadata": {},
   "outputs": [],
   "source": [
    "fig, ax = plt.subplots(1, 1, figsize=(10, 6))\n",
    "ax.tick_params(axis=\"x\", labelsize=15)\n",
    "for i in range(num_split):\n",
    "    for img in data_by_split[i]:\n",
    "        tmp = img / np.max(img, axis=2)[:, :, np.newaxis]\n",
    "        line = np.mean(tmp, axis=(0, 1))\n",
    "        #line = line / np.max(line)\n",
    "        ax.plot(line, color=color_rep[i+1], linestyle=\"-\", label=\"split %d\"%(i+1))\n",
    "ax.grid()\n",
    "fig.legend(fontsize=\"xx-large\")\n",
    "fig.tight_layout()\n",
    "plt.show()"
   ]
  },
  {
   "cell_type": "code",
   "execution_count": 19,
   "metadata": {},
   "outputs": [
    {
     "data": {
      "image/png": "[encoded data removed]",
      "text/plain": [
       "<Figure size 720x432 with 1 Axes>"
      ]
     },
     "metadata": {
      "needs_background": "light"
     },
     "output_type": "display_data"
    }
   ],
   "source": [
    "fig, ax = plt.subplots(1, 1, figsize=(10, 6))\n",
    "ax.tick_params(axis=\"x\", labelsize=15)\n",
    "for i in range(num_split):\n",
    "    temp = []\n",
    "    for arr in data_by_split[i]:\n",
    "        temp.extend(arr.reshape(-1, s_dim))\n",
    "    temp = np.asarray(temp)\n",
    "    temp = temp / np.max(temp, axis=1)[:, np.newaxis]\n",
    "    line = np.mean(temp, axis=0)\n",
    "    #line = line / np.max(line)\n",
    "    ax.plot(line, color=color_rep[i+1], linestyle=\"-\", label=\"split %d\"%(i+1))\n",
    "ax.grid()\n",
    "fig.legend(fontsize=\"xx-large\")\n",
    "fig.tight_layout()\n",
    "plt.show()"
   ]
  }
 ],
 "metadata": {
  "kernelspec": {
   "display_name": "Python 3",
   "language": "python",
   "name": "python3"
  },
  "language_info": {
   "codemirror_mode": {
    "name": "ipython",
    "version": 3
   },
   "file_extension": ".py",
   "mimetype": "text/x-python",
   "name": "python",
   "nbconvert_exporter": "python",
   "pygments_lexer": "ipython3",
   "version": "3.7.7"
  }
 },
 "nbformat": 4,
 "nbformat_minor": 4
}
