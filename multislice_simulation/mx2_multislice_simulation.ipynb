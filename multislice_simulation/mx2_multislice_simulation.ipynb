{
 "cells": [
  {
   "cell_type": "code",
   "execution_count": null,
   "id": "c9bd2e24-bd29-4121-8b81-f363dd034b41",
   "metadata": {},
   "outputs": [],
   "source": [
    "from abtem import (GridScan, PixelatedDetector, Potential,\n",
    "                   Probe, show_atoms, SMatrix, AnnularDetector, FrozenPhonons)\n",
    "from abtem.measure import Measurement, Calibration, bandlimit, center_of_mass\n",
    "from abtem.utils import energy2wavelength\n",
    "from abtem.structures import orthogonalize_cell\n",
    "from abtem.transfer import CTF, scherzer_defocus\n",
    "from ase.io import read\n",
    "from ase.build import mx2\n",
    "import numpy as np\n",
    "import matplotlib.pyplot as plt\n",
    "from matplotlib.patches import Circle\n",
    "from matplotlib.patches import Rectangle\n",
    "from pylab import cm\n",
    "from matplotlib.widgets import RectangleSelector\n",
    "import matplotlib.patches as pch\n",
    "import tifffile\n",
    "import tkinter.filedialog as tkf\n",
    "import json\n",
    "\n",
    "#device = \"cpu\"\n",
    "device = \"gpu\""
   ]
  },
  {
   "cell_type": "code",
   "execution_count": null,
   "id": "c4750098-2f52-4729-a1a6-c5396dc6656c",
   "metadata": {},
   "outputs": [],
   "source": [
    "atoms_init = mx2(formula='WSe2', kind='2H', a=3.286, thickness=3.362, size=(1, 1, 1), vacuum=None)\n",
    "atoms_init = orthogonalize_cell(atoms_init)\n",
    "atoms_init.center(vacuum=2, axis=2)\n",
    "\n",
    "atoms_init *= (30, 18, 2)\n",
    "\n",
    "fig, (ax1, ax2) = plt.subplots(1, 2, figsize=(12, 4))\n",
    "show_atoms(atoms_init, ax=ax1, title='Top view', numbering=False)\n",
    "show_atoms(atoms_init, ax=ax2, plane='yz', title='Side view', numbering=False)\n",
    "plt.show()"
   ]
  },
  {
   "cell_type": "code",
   "execution_count": null,
   "id": "bfe8c23b-9d57-46fb-9043-56ac9a6117c3",
   "metadata": {},
   "outputs": [],
   "source": [
    "num_atoms = atoms_init.numbers.shape[0]\n",
    "elements = np.unique(atoms_init.numbers)\n",
    "print(num_atoms)\n",
    "print(elements)\n",
    "\n",
    "atoms = atoms_init.copy()"
   ]
  },
  {
   "cell_type": "code",
   "execution_count": null,
   "id": "9f550d91-6977-4784-a323-6d5cefdd614c",
   "metadata": {},
   "outputs": [],
   "source": [
    "print(atoms.cell)\n",
    "print(np.unique(atoms_init.positions[:, 2]))"
   ]
  },
  {
   "cell_type": "code",
   "execution_count": null,
   "id": "e4085ae4-42eb-4c6e-b676-828fd6f01314",
   "metadata": {},
   "outputs": [],
   "source": [
    "# twisted bilayer\n",
    "twist_angle = 1.44 # degree\n",
    "center = np.array([atoms.cell[0][0]/2, atoms.cell[1][1]/2])\n",
    "print(center)\n",
    "alpha, beta = np.cos(twist_angle*np.pi/180), np.sin(twist_angle*np.pi/180)\n",
    "M = np.array([[alpha, beta, (1-alpha)*center[0]-beta*center[1]],\n",
    "              [-beta, alpha, beta*center[0]+(1-alpha)*center[1]]])\n",
    "\n",
    "layer_ind = []\n",
    "z_ = [9.362, 11.043, 12.724]\n",
    "for z in z_:\n",
    "    layer_ind.extend(np.where(atoms_init.positions[:, 2]==z)[0])\n",
    "print(len(layer_ind))\n",
    "\n",
    "for ind in layer_ind:\n",
    "    tmp = atoms.positions[ind][:2].copy() - center\n",
    "    rotated = np.expand_dims(tmp, axis=0) @ M \n",
    "    atoms.positions[ind][:2] = rotated[0][:2] + center\n",
    "\n",
    "fig, ax = plt.subplots(1, 1, figsize=(10, 10))\n",
    "show_atoms(atoms, ax=ax, title='Top view', numbering=False)\n",
    "plt.show()"
   ]
  },
  {
   "cell_type": "code",
   "execution_count": null,
   "id": "0efa0d4c-875f-44a4-b501-22d09cddaa75",
   "metadata": {},
   "outputs": [],
   "source": [
    "# vacancy generation\n",
    "#def_element = elements\n",
    "def_element = [74]\n",
    "ind_element = []\n",
    "\n",
    "for e in def_element:\n",
    "    tmp_ind = np.where(atoms.numbers==e)\n",
    "    ind_element.extend(tmp_ind[0].tolist())\n",
    "\n",
    "def_ratio = 0.05\n",
    "ri = np.random.choice(ind_element, int(len(ind_element)*def_ratio), replace=False)\n",
    "print(ri)\n",
    "\n",
    "for ai in ri:\n",
    "    del atoms[ai]\n",
    "    \n",
    "fig, (ax1, ax2) = plt.subplots(1, 2, figsize=(12,4))\n",
    "show_atoms(atoms, ax=ax1, title='Top view', numbering=False)\n",
    "show_atoms(atoms, ax=ax2, plane='xz', title='Side view')\n",
    "plt.show()"
   ]
  },
  {
   "cell_type": "code",
   "execution_count": null,
   "id": "d237be13-9054-4bea-9940-a6153898a992",
   "metadata": {},
   "outputs": [],
   "source": [
    "# substitutional defect generation\n",
    "def_element = [74]\n",
    "sub_element = [42]\n",
    "sub_element_prob = [1.0]\n",
    "ind_element = []\n",
    "\n",
    "for e in def_element:\n",
    "    tmp_ind = np.where(atoms.numbers==e)\n",
    "    ind_element.extend(tmp_ind[0].tolist())\n",
    "    \n",
    "def_ratio = 0.1\n",
    "ri = np.random.choice(ind_element, int(len(ind_element)*def_ratio), replace=False)\n",
    "print(ri)\n",
    "\n",
    "for ai in ri:\n",
    "    atoms.numbers[ai] = np.random.choice(sub_element, 1, p=sub_element_prob)\n",
    "\n",
    "fig, (ax1, ax2) = plt.subplots(1, 2, figsize=(12,4))\n",
    "show_atoms(atoms, ax=ax1, title='Top view', numbering=False)\n",
    "show_atoms(atoms, ax=ax2, plane='xz', title='Side view')\n",
    "plt.show()"
   ]
  },
  {
   "cell_type": "code",
   "execution_count": null,
   "id": "86f42612-7187-42f0-867d-811d58139e0b",
   "metadata": {},
   "outputs": [],
   "source": [
    "# interstitial defect generation\n",
    "# ongoing..."
   ]
  },
  {
   "cell_type": "code",
   "execution_count": null,
   "id": "601dbde3-6b7f-4437-9f01-1cea942d4caa",
   "metadata": {},
   "outputs": [],
   "source": [
    "frozen_phonons = FrozenPhonons(atoms, 64, sigmas=0.05, seed=56)\n",
    "tds_potential = Potential(frozen_phonons, \n",
    "                      sampling=.05,\n",
    "                      projection='infinite', \n",
    "                      slice_thickness=1, \n",
    "                      parametrization='kirkland',\n",
    "                      device=device).build()\n",
    "fig, ax = plt.subplots(1, 1, figsize=(10, 10))\n",
    "tds_potential.project().show(ax=ax, cmap=\"inferno\")\n",
    "plt.show()"
   ]
  },
  {
   "cell_type": "code",
   "execution_count": null,
   "id": "cef4e833-369e-4dd9-9b18-aaa9774afa26",
   "metadata": {},
   "outputs": [],
   "source": [
    "energy = 80E3\n",
    "C3 = 1E3 # 100 nm\n",
    "semiangle = 20 # mrad\n",
    "sch_defocus = scherzer_defocus(C3, energy)\n",
    "print(sch_defocus)"
   ]
  },
  {
   "cell_type": "code",
   "execution_count": null,
   "id": "bc7b443a-7793-4ed0-a4b3-1b6c7a3aa608",
   "metadata": {},
   "outputs": [],
   "source": [
    "#ctf = CTF(parameters={'C10': sch_defocus*0.9,'C12': 20, 'phi12': 0.785,'C30': C3}, semiangle_cutoff=semiangle)\n",
    "#ctf = CTF(parameters={'C10': sch_defocus*0.9, 'C30': C3}, semiangle_cutoff=semiangle)\n",
    "\n",
    "probe = Probe(semiangle_cutoff=semiangle, energy=energy, device=device)\n",
    "probe.grid.match(tds_potential)\n",
    "\n",
    "print(probe.ctf.nyquist_sampling)\n",
    "\n",
    "angle_step_default = (probe.wavelength *1000 / probe.extent[0], probe.wavelength *1000 / probe.extent[1])\n",
    "print(\"angle step x\", probe.wavelength *1000 / probe.extent[0])\n",
    "print(\"angle step y\", probe.wavelength *1000 / probe.extent[1])\n",
    "\n",
    "fig, ax = plt.subplots(1, 2, figsize=(10, 5))\n",
    "probe.show(ax=ax[0])\n",
    "probe.show(ax=ax[1], power=0.5)\n",
    "plt.show()"
   ]
  },
  {
   "cell_type": "code",
   "execution_count": null,
   "id": "c3698e3e-70f0-4ec8-a064-9cd1f08dd538",
   "metadata": {},
   "outputs": [],
   "source": [
    "probe_step = 0.6 # Å\n",
    "gridscan = GridScan((0,0), np.array(tds_potential.extent), sampling=probe_step)\n",
    "print(gridscan.gpts)"
   ]
  },
  {
   "cell_type": "code",
   "execution_count": null,
   "id": "24bf3e37-02db-43c0-8a93-b6a791ff497c",
   "metadata": {},
   "outputs": [],
   "source": [
    "detect_max_angle = semiangle*4\n",
    "angle_pixel_size = (0.4, 0.4)  # (mrad, mrad) tuple\n",
    "detector = PixelatedDetector(max_angle=detect_max_angle, resample=angle_pixel_size)"
   ]
  },
  {
   "cell_type": "code",
   "execution_count": null,
   "id": "2ca6f5bb-fc57-4145-b313-3c131af53ae6",
   "metadata": {},
   "outputs": [],
   "source": [
    "measurement = probe.scan(gridscan, [detector], tds_potential)\n",
    "print(measurement.shape)"
   ]
  },
  {
   "cell_type": "code",
   "execution_count": null,
   "id": "8547b68f-e469-49fb-9ac2-468c219359f5",
   "metadata": {},
   "outputs": [],
   "source": [
    "print(measurement.shape)\n",
    "print(*measurement.calibration_limits, sep=\"\\n\")\n",
    "for i in range(measurement.dimensions):\n",
    "    print(measurement.calibrations[i].name, measurement.calibrations[i].units,\n",
    "          measurement.calibrations[i].sampling)"
   ]
  },
  {
   "cell_type": "code",
   "execution_count": null,
   "id": "61322a23-8e8f-4bfd-9c24-9791aee75d34",
   "metadata": {},
   "outputs": [],
   "source": [
    "measurement_sampling = tuple(energy2wavelength(energy)*1000/(cal.sampling * pixels) \n",
    "                                                      for cal,pixels \n",
    "                                                      in zip(measurement.calibrations[-2:], \n",
    "                                                             measurement.shape[-2:]))\n",
    "\n",
    "print(f'pixelated_measurement sampling: {measurement_sampling} Å')"
   ]
  },
  {
   "cell_type": "code",
   "execution_count": null,
   "id": "a63ec5ad-497b-42f4-a384-aedead3db8dc",
   "metadata": {},
   "outputs": [],
   "source": [
    "measurement_extent = tuple(sampling*pixels for sampling,pixels \n",
    "                                      in zip(measurement_sampling, measurement.shape[-2:]))\n",
    "\n",
    "print(f'pixelated_measurement extent: {measurement_extent} Å')"
   ]
  },
  {
   "cell_type": "code",
   "execution_count": null,
   "id": "02b48b26-ea50-435d-9b93-54315d33dc7e",
   "metadata": {},
   "outputs": [],
   "source": [
    "bright_detector = AnnularDetector(inner=10, outer=semiangle)\n",
    "bright_measurement = bright_detector.integrate(measurement)\n",
    "\n",
    "maadf_detector = AnnularDetector(inner=semiangle, outer=detect_max_angle)\n",
    "maadf_measurement = maadf_detector.integrate(measurement)\n",
    "\n",
    "pacbed = measurement.mean(axis=(0, 1))\n",
    "\n",
    "fig, ax = plt.subplots(2, 2, figsize=(10, 10))\n",
    "measurement.show(ax=ax[0, 0], cmap=\"inferno\", power=0.5)\n",
    "pacbed.show(ax=ax[0, 1], cmap=\"inferno\", power=0.5)\n",
    "bright_measurement.show(ax=ax[1, 0])\n",
    "maadf_measurement.show(ax=ax[1, 1])\n",
    "fig.tight_layout()\n",
    "plt.show()"
   ]
  },
  {
   "cell_type": "code",
   "execution_count": null,
   "id": "084a792d-902b-48b7-8ace-5020b6aa2146",
   "metadata": {},
   "outputs": [],
   "source": [
    "save_name = \"WSe2_twisted_bilayer_1_44deg_simulated_4DSTEM_01\"\n",
    "tifffile.imwrite(save_name+\".tif\", measurement.array)"
   ]
  },
  {
   "cell_type": "code",
   "execution_count": null,
   "id": "c01a1158-50ad-420b-b15f-c62928c4f83a",
   "metadata": {},
   "outputs": [],
   "source": [
    "calibration_info = {}\n",
    "calibration_info[\"material\"] = \"WSe2\"\n",
    "calibration_info[\"beam energy\"] = energy\n",
    "calibration_info[\"convergence angle\"] = semiangle\n",
    "calibration_info[\"scan pixel size\"] = (measurement.calibrations[0].sampling, measurement.calibrations[1].sampling)\n",
    "calibration_info[\"angle pixel size\"] = (measurement.calibrations[2].sampling, measurement.calibrations[3].sampling)"
   ]
  },
  {
   "cell_type": "code",
   "execution_count": null,
   "id": "226c09e0-06e2-44f6-8af6-be081e449659",
   "metadata": {},
   "outputs": [],
   "source": [
    "with open(save_name+\".txt\", 'w') as file:\n",
    "     file.write(json.dumps(calibration_info, ensure_ascii=False))"
   ]
  }
 ],
 "metadata": {
  "kernelspec": {
   "display_name": "Python 3 (ipykernel)",
   "language": "python",
   "name": "python3"
  },
  "language_info": {
   "codemirror_mode": {
    "name": "ipython",
    "version": 3
   },
   "file_extension": ".py",
   "mimetype": "text/x-python",
   "name": "python",
   "nbconvert_exporter": "python",
   "pygments_lexer": "ipython3",
   "version": "3.10.4"
  }
 },
 "nbformat": 4,
 "nbformat_minor": 5
}
