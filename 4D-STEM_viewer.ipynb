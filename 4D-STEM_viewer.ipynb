{
 "cells": [
  {
   "cell_type": "code",
   "execution_count": null,
   "id": "ddfdc4e9-4688-4f5f-804a-6034d71f8c10",
   "metadata": {},
   "outputs": [],
   "source": [
    "# J. Ryu, Electron Microscopy and Spectroscopy Lab., Seoul National University\n",
    "# 4D-STEM viewer\n",
    "# it supports EMPAD data (.raw) and tiff stack (.tif or .tiff)\n",
    "# 20220414\n",
    "import numpy as np\n",
    "import matplotlib.pyplot as plt\n",
    "import sys\n",
    "sys.path.append(\"E:/github_repo/4DSTEM_processing/\")\n",
    "from FDSTEM_process import *\n",
    "import tifffile\n",
    "import tkinter.filedialog as tkf"
   ]
  },
  {
   "cell_type": "code",
   "execution_count": null,
   "id": "393ddb5e-575f-47c5-a5c2-c4a3c95d044f",
   "metadata": {},
   "outputs": [],
   "source": [
    "img_adr = tkf.askopenfilename()\n",
    "print(img_adr)"
   ]
  },
  {
   "cell_type": "code",
   "execution_count": null,
   "id": "77f04b05",
   "metadata": {},
   "outputs": [],
   "source": [
    "fd = FourDSTEM_process(img_adr)"
   ]
  },
  {
   "cell_type": "code",
   "execution_count": null,
   "id": "dbac08db",
   "metadata": {},
   "outputs": [],
   "source": [
    "fd.spike_remove(percent_thresh=0.01, mode=\"lower\", apply_remove=True)"
   ]
  },
  {
   "cell_type": "code",
   "execution_count": null,
   "id": "19688e4c-a240-4655-ac9f-f205ed601a17",
   "metadata": {},
   "outputs": [],
   "source": [
    "%matplotlib widget\n",
    "fd.show_4d_viewer(fd.original_stack)"
   ]
  }
 ],
 "metadata": {
  "kernelspec": {
   "display_name": "Python 3 (ipykernel)",
   "language": "python",
   "name": "python3"
  },
  "language_info": {
   "codemirror_mode": {
    "name": "ipython",
    "version": 3
   },
   "file_extension": ".py",
   "mimetype": "text/x-python",
   "name": "python",
   "nbconvert_exporter": "python",
   "pygments_lexer": "ipython3",
   "version": "3.7.16"
  }
 },
 "nbformat": 4,
 "nbformat_minor": 5
}
